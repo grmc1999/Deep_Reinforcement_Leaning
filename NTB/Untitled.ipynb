{
 "cells": [
  {
   "cell_type": "code",
   "execution_count": 1,
   "metadata": {},
   "outputs": [],
   "source": [
    "import sys\n",
    "import os\n",
    "import gym\n",
    "import torch\n",
    "from torch import nn\n",
    "import numpy as np\n",
    "import json\n",
    "\n",
    "sys.path.append(\"../Models\")\n",
    "sys.path.append(\"../Train_utils\")\n",
    "\n",
    "from Simple_Model import Neural_Net_Actor_Critic,Neural_Net_module\n",
    "from Actor_critic import Episodic_learning"
   ]
  },
  {
   "cell_type": "code",
   "execution_count": 4,
   "metadata": {},
   "outputs": [],
   "source": [
    "res_dir=\"../Results/Debug\"\n",
    "desc=json.load(open(os.path.join(res_dir,\"config.json\")))\n",
    "\n",
    "\n",
    "#PARSE ACTIVATION FUNCTIONS\n",
    "desc[\"Actor_model_name\"][\"args\"][\"activators\"]=[getattr(nn,act[\"name\"])(**(act[\"args\"])) for act in desc[\"Actor_model_name\"][\"args\"][\"activators\"]]\n",
    "desc[\"Critic_model_name\"][\"args\"][\"activators\"]=[getattr(nn,act[\"name\"])(**(act[\"args\"])) for act in desc[\"Critic_model_name\"][\"args\"][\"activators\"]]\n",
    "\n",
    "Train=Episodic_learning(\n",
    "    model=Neural_Net_Actor_Critic(\n",
    "          Actor_model=Neural_Net_module(**(desc[\"Actor_model_name\"][\"args\"])),\n",
    "          Critic_model=Neural_Net_module(**(desc[\"Critic_model_name\"][\"args\"])),\n",
    "          norm=lambda x:0.5*(x.pow(2)),\n",
    "          **(desc[\"agent\"][\"args\"])\n",
    "          ),\n",
    "    env=gym.make(desc[\"environment\"][\"name\"]),\n",
    "    sch_f=lambda x: (1) if x<0.5 else 0,\n",
    "    res_dir=res_dir,\n",
    "    **(desc[\"framework\"][\"args\"])\n",
    ")"
   ]
  },
  {
   "cell_type": "code",
   "execution_count": 3,
   "metadata": {},
   "outputs": [
    {
     "name": "stderr",
     "output_type": "stream",
     "text": [
      "  0%|                                                                                                                                  | 0/1000 [00:00<?, ?it/s]\n",
      "  0%|                                                                                                                                   | 0/200 [00:00<?, ?it/s]\u001b[A/home/lambda/experiments/RL/DRL_/RLENV/lib/python3.8/site-packages/gym/utils/passive_env_checker.py:233: DeprecationWarning: `np.bool8` is a deprecated alias for `np.bool_`.  (Deprecated NumPy 1.24)\n",
      "  if not isinstance(terminated, (bool, np.bool8)):\n",
      "\n",
      "  6%|███████▎                                                                                                                  | 12/200 [00:00<00:03, 52.90it/s]\u001b[A\n",
      "  0%|                                                                                                                          | 1/1000 [00:00<03:57,  4.21it/s]"
     ]
    },
    {
     "name": "stdout",
     "output_type": "stream",
     "text": [
      "DONE\n",
      "DONE\n",
      "Actor_loss 1.10005415\n",
      "Critic_loss 1.00000210\n",
      "Rewards mean 1.00000000 Rewards std 0.00000000 Rewards sum 13.00000000\n"
     ]
    },
    {
     "name": "stderr",
     "output_type": "stream",
     "text": [
      "\n",
      "  6%|███████▎                                                                                                                 | 12/200 [00:00<00:01, 156.27it/s]\u001b[A\n",
      "  0%|                                                                                                                          | 1/1000 [00:00<03:57,  4.21it/s]"
     ]
    },
    {
     "name": "stdout",
     "output_type": "stream",
     "text": [
      "DONE\n",
      "DONE\n",
      "Actor_loss 1.27864076\n",
      "Critic_loss 1.00000116\n",
      "Rewards mean 1.00000000 Rewards std 0.00000000 Rewards sum 13.00000000\n"
     ]
    },
    {
     "name": "stderr",
     "output_type": "stream",
     "text": [
      "\n",
      "  0%|                                                                                                                                   | 0/200 [00:00<?, ?it/s]\u001b[A\n",
      " 18%|█████████████████████▊                                                                                                   | 36/200 [00:00<00:00, 187.94it/s]\u001b[A"
     ]
    },
    {
     "name": "stdout",
     "output_type": "stream",
     "text": [
      "DONE\n",
      "DONE\n"
     ]
    },
    {
     "name": "stderr",
     "output_type": "stream",
     "text": [
      "\n",
      "  0%|▎                                                                                                                         | 3/1000 [00:00<02:45,  6.04it/s]"
     ]
    },
    {
     "name": "stdout",
     "output_type": "stream",
     "text": [
      "Actor_loss 1.39775133\n",
      "Critic_loss 1.00000036\n",
      "Rewards mean 1.00000000 Rewards std 0.00000000 Rewards sum 37.00000000\n"
     ]
    },
    {
     "name": "stderr",
     "output_type": "stream",
     "text": [
      "\n",
      "  4%|█████▍                                                                                                                    | 9/200 [00:00<00:01, 181.15it/s]\u001b[A\n",
      "  0%|▎                                                                                                                         | 3/1000 [00:00<02:45,  6.04it/s]"
     ]
    },
    {
     "name": "stdout",
     "output_type": "stream",
     "text": [
      "DONE\n",
      "DONE\n",
      "Actor_loss 0.92129643\n",
      "Critic_loss 1.00000314\n",
      "Rewards mean 1.00000000 Rewards std 0.00000000 Rewards sum 10.00000000\n"
     ]
    },
    {
     "name": "stderr",
     "output_type": "stream",
     "text": [
      "\n",
      "  6%|███████▊                                                                                                                 | 13/200 [00:00<00:01, 174.25it/s]\u001b[A\n",
      "  0%|▌                                                                                                                         | 5/1000 [00:00<01:54,  8.67it/s]"
     ]
    },
    {
     "name": "stdout",
     "output_type": "stream",
     "text": [
      "DONE\n",
      "DONE\n",
      "Actor_loss 1.16849322\n",
      "Critic_loss 1.00000184\n",
      "Rewards mean 1.00000000 Rewards std 0.00000000 Rewards sum 14.00000000\n"
     ]
    },
    {
     "name": "stderr",
     "output_type": "stream",
     "text": [
      "\n",
      "  8%|█████████                                                                                                                | 15/200 [00:00<00:01, 184.93it/s]\u001b[A\n",
      "  0%|▌                                                                                                                         | 5/1000 [00:00<01:54,  8.67it/s]"
     ]
    },
    {
     "name": "stdout",
     "output_type": "stream",
     "text": [
      "DONE\n",
      "DONE\n",
      "Actor_loss 1.27857881\n",
      "Critic_loss 1.00000106\n",
      "Rewards mean 1.00000000 Rewards std 0.00000000 Rewards sum 16.00000000\n"
     ]
    },
    {
     "name": "stderr",
     "output_type": "stream",
     "text": [
      "\n",
      "  8%|█████████                                                                                                                | 15/200 [00:00<00:00, 197.17it/s]\u001b[A\n",
      "  1%|▊                                                                                                                         | 7/1000 [00:00<01:41,  9.77it/s]"
     ]
    },
    {
     "name": "stdout",
     "output_type": "stream",
     "text": [
      "DONE\n",
      "DONE\n",
      "Actor_loss 1.27856034\n",
      "Critic_loss 1.00000108\n",
      "Rewards mean 1.00000000 Rewards std 0.00000000 Rewards sum 16.00000000\n"
     ]
    },
    {
     "name": "stderr",
     "output_type": "stream",
     "text": [
      "\n",
      "  8%|█████████                                                                                                                | 15/200 [00:00<00:01, 176.89it/s]\u001b[A\n",
      "  1%|▊                                                                                                                         | 7/1000 [00:00<01:41,  9.77it/s]"
     ]
    },
    {
     "name": "stdout",
     "output_type": "stream",
     "text": [
      "DONE\n",
      "DONE\n",
      "Actor_loss 1.56510533\n",
      "Critic_loss 0.99999928\n",
      "Rewards mean 1.00000000 Rewards std 0.00000000 Rewards sum 16.00000000\n"
     ]
    },
    {
     "name": "stderr",
     "output_type": "stream",
     "text": [
      "\n",
      "  6%|███████▊                                                                                                                 | 13/200 [00:00<00:01, 185.21it/s]\u001b[A\n",
      "  1%|█                                                                                                                         | 9/1000 [00:00<01:34, 10.48it/s]"
     ]
    },
    {
     "name": "stdout",
     "output_type": "stream",
     "text": [
      "DONE\n",
      "DONE\n",
      "Actor_loss 1.16839298\n",
      "Critic_loss 1.00000172\n",
      "Rewards mean 1.00000000 Rewards std 0.00000000 Rewards sum 14.00000000\n"
     ]
    },
    {
     "name": "stderr",
     "output_type": "stream",
     "text": [
      "\n",
      "  6%|███████▊                                                                                                                 | 13/200 [00:00<00:01, 160.18it/s]\u001b[A\n",
      "  1%|█                                                                                                                         | 9/1000 [00:01<01:34, 10.48it/s]"
     ]
    },
    {
     "name": "stdout",
     "output_type": "stream",
     "text": [
      "DONE\n",
      "DONE\n",
      "Actor_loss 1.33367602\n",
      "Critic_loss 1.00000077\n",
      "Rewards mean 1.00000000 Rewards std 0.00000000 Rewards sum 14.00000000\n"
     ]
    },
    {
     "name": "stderr",
     "output_type": "stream",
     "text": [
      "\n",
      "  5%|██████                                                                                                                   | 10/200 [00:00<00:01, 185.82it/s]\u001b[A\n",
      "  1%|█▎                                                                                                                       | 11/1000 [00:01<01:26, 11.39it/s]"
     ]
    },
    {
     "name": "stdout",
     "output_type": "stream",
     "text": [
      "DONE\n",
      "DONE\n",
      "Actor_loss 1.13535812\n",
      "Critic_loss 1.00000204\n",
      "Rewards mean 1.00000000 Rewards std 0.00000000 Rewards sum 11.00000000\n"
     ]
    },
    {
     "name": "stderr",
     "output_type": "stream",
     "text": [
      "\n",
      "  0%|                                                                                                                                   | 0/200 [00:00<?, ?it/s]\u001b[A\n",
      " 14%|█████████████████▌                                                                                                       | 29/200 [00:00<00:00, 196.13it/s]\u001b[A\n",
      "  1%|█▎                                                                                                                       | 11/1000 [00:01<01:26, 11.39it/s]"
     ]
    },
    {
     "name": "stdout",
     "output_type": "stream",
     "text": [
      "DONE\n",
      "DONE\n",
      "Actor_loss 1.36503190\n",
      "Critic_loss 1.00000057\n",
      "Rewards mean 1.00000000 Rewards std 0.00000000 Rewards sum 30.00000000\n"
     ]
    },
    {
     "name": "stderr",
     "output_type": "stream",
     "text": [
      "\n",
      "  6%|██████▋                                                                                                                  | 11/200 [00:00<00:01, 140.77it/s]\u001b[A\n",
      "  1%|█▌                                                                                                                       | 13/1000 [00:01<01:36, 10.19it/s]"
     ]
    },
    {
     "name": "stdout",
     "output_type": "stream",
     "text": [
      "DONE\n",
      "DONE\n",
      "Actor_loss 1.11567847\n",
      "Critic_loss 1.00000205\n",
      "Rewards mean 1.00000000 Rewards std 0.00000000 Rewards sum 12.00000000\n"
     ]
    },
    {
     "name": "stderr",
     "output_type": "stream",
     "text": [
      "\n",
      "  8%|█████████▋                                                                                                               | 16/200 [00:00<00:00, 188.57it/s]\u001b[A\n",
      "  1%|█▌                                                                                                                       | 13/1000 [00:01<01:36, 10.19it/s]"
     ]
    },
    {
     "name": "stdout",
     "output_type": "stream",
     "text": [
      "DONE\n",
      "DONE\n",
      "Actor_loss 1.32335029\n",
      "Critic_loss 1.00000079\n",
      "Rewards mean 1.00000000 Rewards std 0.00000000 Rewards sum 17.00000000\n"
     ]
    },
    {
     "name": "stderr",
     "output_type": "stream",
     "text": [
      "\n",
      "  0%|                                                                                                                                   | 0/200 [00:00<?, ?it/s]\u001b[A\n",
      " 14%|████████████████▉                                                                                                        | 28/200 [00:00<00:00, 202.72it/s]\u001b[A\n",
      "  2%|█▊                                                                                                                       | 15/1000 [00:01<01:42,  9.59it/s]"
     ]
    },
    {
     "name": "stdout",
     "output_type": "stream",
     "text": [
      "DONE\n",
      "DONE\n",
      "Actor_loss 1.41929451\n",
      "Critic_loss 1.00000019\n",
      "Rewards mean 1.00000000 Rewards std 0.00000000 Rewards sum 29.00000000\n"
     ]
    },
    {
     "name": "stderr",
     "output_type": "stream",
     "text": [
      "\n",
      " 10%|████████████                                                                                                             | 20/200 [00:00<00:00, 199.68it/s]\u001b[A\n",
      "  2%|█▊                                                                                                                       | 15/1000 [00:01<01:42,  9.59it/s]"
     ]
    },
    {
     "name": "stdout",
     "output_type": "stream",
     "text": [
      "DONE\n",
      "DONE\n",
      "Actor_loss 1.29648674\n",
      "Critic_loss 1.00000099\n",
      "Rewards mean 1.00000000 Rewards std 0.00000000 Rewards sum 21.00000000\n"
     ]
    },
    {
     "name": "stderr",
     "output_type": "stream",
     "text": [
      "\n",
      "  4%|█████▍                                                                                                                    | 9/200 [00:00<00:01, 182.12it/s]\u001b[A\n",
      "  2%|██                                                                                                                       | 17/1000 [00:01<01:35, 10.29it/s]"
     ]
    },
    {
     "name": "stdout",
     "output_type": "stream",
     "text": [
      "DONE\n",
      "DONE\n",
      "Actor_loss 1.03960868\n",
      "Critic_loss 1.00000252\n",
      "Rewards mean 1.00000000 Rewards std 0.00000000 Rewards sum 10.00000000\n"
     ]
    },
    {
     "name": "stderr",
     "output_type": "stream",
     "text": [
      "\n",
      "  0%|                                                                                                                                   | 0/200 [00:00<?, ?it/s]\u001b[A\n",
      " 12%|███████████████▏                                                                                                         | 25/200 [00:00<00:00, 203.71it/s]\u001b[A\n",
      "  2%|██                                                                                                                       | 17/1000 [00:01<01:35, 10.29it/s]"
     ]
    },
    {
     "name": "stdout",
     "output_type": "stream",
     "text": [
      "DONE\n",
      "DONE\n",
      "Actor_loss 1.39326860\n",
      "Critic_loss 1.00000039\n",
      "Rewards mean 1.00000000 Rewards std 0.00000000 Rewards sum 26.00000000\n"
     ]
    },
    {
     "name": "stderr",
     "output_type": "stream",
     "text": [
      "\n",
      "  8%|█████████                                                                                                                | 15/200 [00:00<00:00, 190.95it/s]\u001b[A\n",
      "  2%|██▎                                                                                                                      | 19/1000 [00:01<01:38, 10.01it/s]"
     ]
    },
    {
     "name": "stdout",
     "output_type": "stream",
     "text": [
      "DONE\n",
      "DONE\n",
      "Actor_loss 1.20680737\n",
      "Critic_loss 1.00000154\n",
      "Rewards mean 1.00000000 Rewards std 0.00000000 Rewards sum 16.00000000\n"
     ]
    },
    {
     "name": "stderr",
     "output_type": "stream",
     "text": [
      "\n",
      "  0%|                                                                                                                                   | 0/200 [00:00<?, ?it/s]\u001b[A\n",
      " 12%|███████████████▏                                                                                                         | 25/200 [00:00<00:00, 205.25it/s]\u001b[A\n",
      "  2%|██▎                                                                                                                      | 19/1000 [00:02<01:38, 10.01it/s]"
     ]
    },
    {
     "name": "stdout",
     "output_type": "stream",
     "text": [
      "DONE\n",
      "DONE\n",
      "Actor_loss 1.35026390\n",
      "Critic_loss 1.00000066\n",
      "Rewards mean 1.00000000 Rewards std 0.00000000 Rewards sum 26.00000000\n"
     ]
    },
    {
     "name": "stderr",
     "output_type": "stream",
     "text": [
      "\n",
      "  7%|████████▍                                                                                                                | 14/200 [00:00<00:01, 185.38it/s]\u001b[A\n",
      "  2%|██▌                                                                                                                      | 21/1000 [00:02<01:39,  9.85it/s]"
     ]
    },
    {
     "name": "stdout",
     "output_type": "stream",
     "text": [
      "DONE\n",
      "DONE\n",
      "Actor_loss 1.30414603\n",
      "Critic_loss 1.00000095\n",
      "Rewards mean 1.00000000 Rewards std 0.00000000 Rewards sum 15.00000000\n"
     ]
    },
    {
     "name": "stderr",
     "output_type": "stream",
     "text": [
      "\n",
      "  6%|██████▋                                                                                                                  | 11/200 [00:00<00:00, 192.89it/s]\u001b[A\n",
      "  2%|██▌                                                                                                                      | 21/1000 [00:02<01:39,  9.85it/s]"
     ]
    },
    {
     "name": "stdout",
     "output_type": "stream",
     "text": [
      "DONE\n",
      "DONE\n",
      "Actor_loss 1.01766740\n",
      "Critic_loss 1.00000256\n",
      "Rewards mean 1.00000000 Rewards std 0.00000000 Rewards sum 12.00000000\n"
     ]
    },
    {
     "name": "stderr",
     "output_type": "stream",
     "text": [
      "\n",
      "  6%|██████▋                                                                                                                  | 11/200 [00:00<00:00, 193.72it/s]\u001b[A\n",
      "  2%|██▊                                                                                                                      | 23/1000 [00:02<01:27, 11.17it/s]"
     ]
    },
    {
     "name": "stdout",
     "output_type": "stream",
     "text": [
      "DONE\n",
      "DONE\n",
      "Actor_loss 1.11520595\n",
      "Critic_loss 1.00000219\n",
      "Rewards mean 1.00000000 Rewards std 0.00000000 Rewards sum 12.00000000\n"
     ]
    },
    {
     "name": "stderr",
     "output_type": "stream",
     "text": [
      "\n",
      " 10%|███████████▍                                                                                                             | 19/200 [00:00<00:00, 213.01it/s]\u001b[A\n",
      "  2%|██▊                                                                                                                      | 23/1000 [00:02<01:27, 11.17it/s]"
     ]
    },
    {
     "name": "stdout",
     "output_type": "stream",
     "text": [
      "DONE\n",
      "DONE\n",
      "Actor_loss 1.37301587\n",
      "Critic_loss 1.00000056\n",
      "Rewards mean 1.00000000 Rewards std 0.00000000 Rewards sum 20.00000000\n"
     ]
    },
    {
     "name": "stderr",
     "output_type": "stream",
     "text": [
      "\n",
      "  0%|                                                                                                                                   | 0/200 [00:00<?, ?it/s]\u001b[A"
     ]
    },
    {
     "name": "stdout",
     "output_type": "stream",
     "text": [
      "DONE\n",
      "DONE\n"
     ]
    },
    {
     "name": "stderr",
     "output_type": "stream",
     "text": [
      " 10%|████████████                                                                                                             | 20/200 [00:00<00:00, 205.23it/s]\n",
      "  2%|███                                                                                                                      | 25/1000 [00:02<01:30, 10.81it/s]"
     ]
    },
    {
     "name": "stdout",
     "output_type": "stream",
     "text": [
      "Actor_loss 1.35029365\n",
      "Critic_loss 1.00000066\n",
      "Rewards mean 1.00000000 Rewards std 0.00000000 Rewards sum 21.00000000\n"
     ]
    },
    {
     "name": "stderr",
     "output_type": "stream",
     "text": [
      "\n",
      "  4%|█████▍                                                                                                                    | 9/200 [00:00<00:01, 173.50it/s]\u001b[A\n",
      "  2%|███                                                                                                                      | 25/1000 [00:02<01:30, 10.81it/s]"
     ]
    },
    {
     "name": "stdout",
     "output_type": "stream",
     "text": [
      "DONE\n",
      "DONE\n",
      "Actor_loss 1.03892969\n",
      "Critic_loss 1.00000252\n",
      "Rewards mean 1.00000000 Rewards std 0.00000000 Rewards sum 10.00000000\n"
     ]
    },
    {
     "name": "stderr",
     "output_type": "stream",
     "text": [
      "\n",
      "  5%|██████                                                                                                                   | 10/200 [00:00<00:01, 183.29it/s]\u001b[A\n",
      "  3%|███▎                                                                                                                     | 27/1000 [00:02<01:20, 12.11it/s]"
     ]
    },
    {
     "name": "stdout",
     "output_type": "stream",
     "text": [
      "DONE\n",
      "DONE\n",
      "Actor_loss 1.24250827\n",
      "Critic_loss 1.00000148\n",
      "Rewards mean 1.00000000 Rewards std 0.00000000 Rewards sum 11.00000000\n"
     ]
    },
    {
     "name": "stderr",
     "output_type": "stream",
     "text": [
      "\n",
      "  6%|███████▊                                                                                                                 | 13/200 [00:00<00:00, 199.95it/s]\u001b[A\n",
      "  3%|███▎                                                                                                                     | 27/1000 [00:02<01:20, 12.11it/s]"
     ]
    },
    {
     "name": "stdout",
     "output_type": "stream",
     "text": [
      "DONE\n",
      "DONE\n",
      "Actor_loss 1.25076421\n",
      "Critic_loss 1.00000124\n",
      "Rewards mean 1.00000000 Rewards std 0.00000000 Rewards sum 14.00000000\n"
     ]
    },
    {
     "name": "stderr",
     "output_type": "stream",
     "text": [
      "\n",
      "  6%|███████▎                                                                                                                 | 12/200 [00:00<00:01, 174.24it/s]\u001b[A\n",
      "  3%|███▌                                                                                                                     | 29/1000 [00:02<01:17, 12.56it/s]"
     ]
    },
    {
     "name": "stdout",
     "output_type": "stream",
     "text": [
      "DONE\n",
      "DONE\n",
      "Actor_loss 1.18843163\n",
      "Critic_loss 1.00000166\n",
      "Rewards mean 1.00000000 Rewards std 0.00000000 Rewards sum 13.00000000\n"
     ]
    },
    {
     "name": "stderr",
     "output_type": "stream",
     "text": [
      "\n",
      "  6%|███████▊                                                                                                                 | 13/200 [00:00<00:01, 168.49it/s]\u001b[A\n",
      "  3%|███▌                                                                                                                     | 29/1000 [00:02<01:17, 12.56it/s]"
     ]
    },
    {
     "name": "stdout",
     "output_type": "stream",
     "text": [
      "DONE\n",
      "DONE\n",
      "Actor_loss 1.33377003\n",
      "Critic_loss 1.00000077\n",
      "Rewards mean 1.00000000 Rewards std 0.00000000 Rewards sum 14.00000000\n"
     ]
    },
    {
     "name": "stderr",
     "output_type": "stream",
     "text": [
      "\n",
      "  0%|                                                                                                                                   | 0/200 [00:00<?, ?it/s]\u001b[A\n",
      "  8%|█████████▋                                                                                                               | 16/200 [00:00<00:01, 140.07it/s]\u001b[A\n",
      "  3%|███▊                                                                                                                     | 31/1000 [00:02<01:23, 11.59it/s]"
     ]
    },
    {
     "name": "stdout",
     "output_type": "stream",
     "text": [
      "DONE\n",
      "DONE\n",
      "Actor_loss 1.32337993\n",
      "Critic_loss 1.00000085\n",
      "Rewards mean 1.00000000 Rewards std 0.00000000 Rewards sum 17.00000000\n"
     ]
    },
    {
     "name": "stderr",
     "output_type": "stream",
     "text": [
      "\n",
      "  0%|                                                                                                                                   | 0/200 [00:00<?, ?it/s]\u001b[A\n",
      " 10%|███████████▍                                                                                                             | 19/200 [00:00<00:01, 142.87it/s]\u001b[A\n",
      "  3%|███▊                                                                                                                     | 31/1000 [00:03<01:23, 11.59it/s]"
     ]
    },
    {
     "name": "stdout",
     "output_type": "stream",
     "text": [
      "DONE\n",
      "DONE\n",
      "Actor_loss 1.25943024\n",
      "Critic_loss 1.00000115\n",
      "Rewards mean 1.00000000 Rewards std 0.00000000 Rewards sum 20.00000000\n"
     ]
    },
    {
     "name": "stderr",
     "output_type": "stream",
     "text": [
      "\n",
      "  0%|                                                                                                                                   | 0/200 [00:00<?, ?it/s]\u001b[A\n",
      " 14%|████████████████▉                                                                                                        | 28/200 [00:00<00:00, 194.22it/s]\u001b[A\n",
      "  3%|███▉                                                                                                                     | 33/1000 [00:03<01:40,  9.63it/s]"
     ]
    },
    {
     "name": "stdout",
     "output_type": "stream",
     "text": [
      "DONE\n",
      "DONE\n",
      "Actor_loss 1.38124877\n",
      "Critic_loss 1.00000047\n",
      "Rewards mean 1.00000000 Rewards std 0.00000000 Rewards sum 29.00000000\n"
     ]
    },
    {
     "name": "stderr",
     "output_type": "stream",
     "text": [
      "\n",
      "  6%|███████▎                                                                                                                 | 12/200 [00:00<00:01, 172.32it/s]\u001b[A\n",
      "  3%|███▉                                                                                                                     | 33/1000 [00:03<01:40,  9.63it/s]"
     ]
    },
    {
     "name": "stdout",
     "output_type": "stream",
     "text": [
      "DONE\n",
      "DONE\n",
      "Actor_loss 1.09839825\n",
      "Critic_loss 1.00000205\n",
      "Rewards mean 1.00000000 Rewards std 0.00000000 Rewards sum 13.00000000\n"
     ]
    },
    {
     "name": "stderr",
     "output_type": "stream",
     "text": [
      "\n",
      "  4%|█████▍                                                                                                                    | 9/200 [00:00<00:01, 185.40it/s]\u001b[A\n",
      "  4%|████▏                                                                                                                    | 35/1000 [00:03<01:28, 10.85it/s]"
     ]
    },
    {
     "name": "stdout",
     "output_type": "stream",
     "text": [
      "DONE\n",
      "DONE\n",
      "Actor_loss 0.91805284\n",
      "Critic_loss 1.00000318\n",
      "Rewards mean 1.00000000 Rewards std 0.00000000 Rewards sum 10.00000000\n"
     ]
    },
    {
     "name": "stderr",
     "output_type": "stream",
     "text": [
      "\n",
      "  5%|██████                                                                                                                   | 10/200 [00:00<00:01, 177.76it/s]\u001b[A\n",
      "  4%|████▏                                                                                                                    | 35/1000 [00:03<01:28, 10.85it/s]"
     ]
    },
    {
     "name": "stdout",
     "output_type": "stream",
     "text": [
      "DONE\n",
      "DONE\n",
      "Actor_loss 1.24223899\n",
      "Critic_loss 1.00000134\n",
      "Rewards mean 1.00000000 Rewards std 0.00000000 Rewards sum 11.00000000\n"
     ]
    },
    {
     "name": "stderr",
     "output_type": "stream",
     "text": [
      "\n",
      "  0%|                                                                                                                                   | 0/200 [00:00<?, ?it/s]\u001b[A\n",
      " 20%|████████████████████████▊                                                                                                | 41/200 [00:00<00:00, 192.11it/s]\u001b[A\n",
      "  4%|████▍                                                                                                                    | 37/1000 [00:03<01:42,  9.36it/s]"
     ]
    },
    {
     "name": "stdout",
     "output_type": "stream",
     "text": [
      "DONE\n",
      "DONE\n",
      "Actor_loss 1.44537045\n",
      "Critic_loss 1.00000001\n",
      "Rewards mean 1.00000000 Rewards std 0.00000000 Rewards sum 42.00000000\n"
     ]
    },
    {
     "name": "stderr",
     "output_type": "stream",
     "text": [
      "\n",
      "  4%|█████▍                                                                                                                    | 9/200 [00:00<00:01, 145.45it/s]\u001b[A\n",
      "  4%|████▍                                                                                                                    | 37/1000 [00:03<01:42,  9.36it/s]"
     ]
    },
    {
     "name": "stdout",
     "output_type": "stream",
     "text": [
      "DONE\n",
      "DONE\n",
      "Actor_loss 1.03813567\n",
      "Critic_loss 1.00000266\n",
      "Rewards mean 1.00000000 Rewards std 0.00000000 Rewards sum 10.00000000\n"
     ]
    },
    {
     "name": "stderr",
     "output_type": "stream",
     "text": [
      "\n",
      "  8%|█████████▋                                                                                                               | 16/200 [00:00<00:01, 164.26it/s]\u001b[A\n",
      "  4%|████▋                                                                                                                    | 39/1000 [00:03<01:36,  9.95it/s]"
     ]
    },
    {
     "name": "stdout",
     "output_type": "stream",
     "text": [
      "DONE\n",
      "DONE\n",
      "Actor_loss 1.25577186\n",
      "Critic_loss 1.00000121\n",
      "Rewards mean 1.00000000 Rewards std 0.00000000 Rewards sum 17.00000000\n"
     ]
    },
    {
     "name": "stderr",
     "output_type": "stream",
     "text": [
      "\n",
      "  6%|███████▎                                                                                                                 | 12/200 [00:00<00:01, 165.01it/s]\u001b[A\n",
      "  4%|████▋                                                                                                                    | 39/1000 [00:03<01:36,  9.95it/s]"
     ]
    },
    {
     "name": "stdout",
     "output_type": "stream",
     "text": [
      "DONE\n",
      "DONE\n",
      "Actor_loss 1.18813196\n",
      "Critic_loss 1.00000163\n",
      "Rewards mean 1.00000000 Rewards std 0.00000000 Rewards sum 13.00000000\n"
     ]
    },
    {
     "name": "stderr",
     "output_type": "stream",
     "text": [
      "\n",
      "  0%|                                                                                                                                   | 0/200 [00:00<?, ?it/s]\u001b[A\n",
      " 14%|█████████████████▌                                                                                                       | 29/200 [00:00<00:00, 205.46it/s]\u001b[A\n",
      "  4%|████▉                                                                                                                    | 41/1000 [00:04<01:39,  9.60it/s]"
     ]
    },
    {
     "name": "stdout",
     "output_type": "stream",
     "text": [
      "DONE\n",
      "DONE\n",
      "Actor_loss 1.36538783\n",
      "Critic_loss 1.00000062\n",
      "Rewards mean 1.00000000 Rewards std 0.00000000 Rewards sum 30.00000000\n"
     ]
    },
    {
     "name": "stderr",
     "output_type": "stream",
     "text": [
      "\n",
      "  5%|██████                                                                                                                   | 10/200 [00:00<00:01, 175.30it/s]\u001b[A\n",
      "  4%|████▉                                                                                                                    | 41/1000 [00:04<01:39,  9.60it/s]"
     ]
    },
    {
     "name": "stdout",
     "output_type": "stream",
     "text": [
      "DONE\n",
      "DONE\n",
      "Actor_loss 1.13403804\n",
      "Critic_loss 1.00000197\n",
      "Rewards mean 1.00000000 Rewards std 0.00000000 Rewards sum 11.00000000\n"
     ]
    },
    {
     "name": "stderr",
     "output_type": "stream",
     "text": [
      "\n",
      "  7%|████████▍                                                                                                                | 14/200 [00:00<00:00, 199.76it/s]\u001b[A\n",
      "  4%|█████▏                                                                                                                   | 43/1000 [00:04<01:29, 10.68it/s]"
     ]
    },
    {
     "name": "stdout",
     "output_type": "stream",
     "text": [
      "DONE\n",
      "DONE\n",
      "Actor_loss 1.45868020\n",
      "Critic_loss 0.99999982\n",
      "Rewards mean 1.00000000 Rewards std 0.00000000 Rewards sum 15.00000000\n"
     ]
    },
    {
     "name": "stderr",
     "output_type": "stream",
     "text": [
      "\n",
      "  5%|██████                                                                                                                   | 10/200 [00:00<00:01, 163.72it/s]\u001b[A\n",
      "  4%|█████▏                                                                                                                   | 43/1000 [00:04<01:29, 10.68it/s]"
     ]
    },
    {
     "name": "stdout",
     "output_type": "stream",
     "text": [
      "DONE\n",
      "DONE\n",
      "Actor_loss 1.24227866\n",
      "Critic_loss 1.00000140\n",
      "Rewards mean 1.00000000 Rewards std 0.00000000 Rewards sum 11.00000000\n"
     ]
    },
    {
     "name": "stderr",
     "output_type": "stream",
     "text": [
      "\n",
      "  6%|██████▋                                                                                                                  | 11/200 [00:00<00:00, 202.95it/s]\u001b[A\n",
      "  4%|█████▍                                                                                                                   | 45/1000 [00:04<01:20, 11.84it/s]"
     ]
    },
    {
     "name": "stdout",
     "output_type": "stream",
     "text": [
      "DONE\n",
      "DONE\n",
      "Actor_loss 1.21271694\n",
      "Critic_loss 1.00000155\n",
      "Rewards mean 1.00000000 Rewards std 0.00000000 Rewards sum 12.00000000\n"
     ]
    },
    {
     "name": "stderr",
     "output_type": "stream",
     "text": [
      "\n",
      "  6%|███████▎                                                                                                                 | 12/200 [00:00<00:00, 190.74it/s]\u001b[A\n"
     ]
    },
    {
     "name": "stdout",
     "output_type": "stream",
     "text": [
      "DONE\n",
      "DONE\n"
     ]
    },
    {
     "name": "stderr",
     "output_type": "stream",
     "text": [
      "  4%|█████▍                                                                                                                   | 45/1000 [00:04<01:20, 11.84it/s]"
     ]
    },
    {
     "name": "stdout",
     "output_type": "stream",
     "text": [
      "Actor_loss 1.18809977\n",
      "Critic_loss 1.00000170\n",
      "Rewards mean 1.00000000 Rewards std 0.00000000 Rewards sum 13.00000000\n"
     ]
    },
    {
     "name": "stderr",
     "output_type": "stream",
     "text": [
      "\n",
      "  6%|███████▊                                                                                                                 | 13/200 [00:00<00:01, 165.35it/s]\u001b[A\n",
      "  5%|█████▋                                                                                                                   | 47/1000 [00:04<01:18, 12.17it/s]"
     ]
    },
    {
     "name": "stdout",
     "output_type": "stream",
     "text": [
      "DONE\n",
      "DONE\n",
      "Actor_loss 1.16714309\n",
      "Critic_loss 1.00000174\n",
      "Rewards mean 1.00000000 Rewards std 0.00000000 Rewards sum 14.00000000\n"
     ]
    },
    {
     "name": "stderr",
     "output_type": "stream",
     "text": [
      "\n",
      "  6%|███████▊                                                                                                                 | 13/200 [00:00<00:01, 154.42it/s]\u001b[A\n",
      "  5%|█████▋                                                                                                                   | 47/1000 [00:04<01:18, 12.17it/s]"
     ]
    },
    {
     "name": "stdout",
     "output_type": "stream",
     "text": [
      "DONE\n",
      "DONE\n",
      "Actor_loss 1.33383506\n",
      "Critic_loss 1.00000082\n",
      "Rewards mean 1.00000000 Rewards std 0.00000000 Rewards sum 14.00000000\n"
     ]
    },
    {
     "name": "stderr",
     "output_type": "stream",
     "text": [
      "\n",
      "  9%|██████████▉                                                                                                              | 18/200 [00:00<00:00, 201.39it/s]\u001b[A\n",
      "  5%|█████▉                                                                                                                   | 49/1000 [00:04<01:21, 11.68it/s]"
     ]
    },
    {
     "name": "stdout",
     "output_type": "stream",
     "text": [
      "DONE\n",
      "DONE\n",
      "Actor_loss 1.45886690\n",
      "Critic_loss 0.99999986\n",
      "Rewards mean 1.00000000 Rewards std 0.00000000 Rewards sum 19.00000000\n"
     ]
    },
    {
     "name": "stderr",
     "output_type": "stream",
     "text": [
      "\n",
      "  0%|                                                                                                                                   | 0/200 [00:00<?, ?it/s]\u001b[A\n",
      " 10%|████████████                                                                                                             | 20/200 [00:00<00:00, 198.82it/s]\u001b[A\n",
      " 29%|███████████████████████████████████                                                                                      | 58/200 [00:00<00:00, 207.20it/s]\u001b[A\n",
      "  5%|█████▉                                                                                                                   | 49/1000 [00:04<01:21, 11.68it/s]"
     ]
    },
    {
     "name": "stdout",
     "output_type": "stream",
     "text": [
      "DONE\n",
      "DONE\n",
      "Actor_loss 1.38405163\n",
      "Critic_loss 1.00000052\n",
      "Rewards mean 1.00000000 Rewards std 0.00000000 Rewards sum 59.00000000\n"
     ]
    },
    {
     "name": "stderr",
     "output_type": "stream",
     "text": [
      "\n",
      "  6%|██████▋                                                                                                                  | 11/200 [00:00<00:01, 188.19it/s]\u001b[A\n",
      "  5%|██████▏                                                                                                                  | 51/1000 [00:05<01:46,  8.91it/s]"
     ]
    },
    {
     "name": "stdout",
     "output_type": "stream",
     "text": [
      "DONE\n",
      "DONE\n",
      "Actor_loss 1.31110259\n",
      "Critic_loss 1.00000089\n",
      "Rewards mean 1.00000000 Rewards std 0.00000000 Rewards sum 12.00000000\n"
     ]
    },
    {
     "name": "stderr",
     "output_type": "stream",
     "text": [
      "\n",
      "  0%|                                                                                                                                   | 0/200 [00:00<?, ?it/s]\u001b[A\n",
      " 10%|████████████▋                                                                                                            | 21/200 [00:00<00:00, 180.86it/s]\u001b[A\n",
      "  5%|██████▏                                                                                                                  | 51/1000 [00:05<01:46,  8.91it/s]"
     ]
    },
    {
     "name": "stdout",
     "output_type": "stream",
     "text": [
      "DONE\n",
      "DONE\n",
      "Actor_loss 1.38134521\n",
      "Critic_loss 1.00000047\n",
      "Rewards mean 1.00000000 Rewards std 0.00000000 Rewards sum 22.00000000\n"
     ]
    },
    {
     "name": "stderr",
     "output_type": "stream",
     "text": [
      "\n",
      "  5%|██████                                                                                                                   | 10/200 [00:00<00:00, 193.63it/s]\u001b[A\n",
      "  5%|██████▍                                                                                                                  | 53/1000 [00:05<01:39,  9.48it/s]"
     ]
    },
    {
     "name": "stdout",
     "output_type": "stream",
     "text": [
      "DONE\n",
      "DONE\n",
      "Actor_loss 1.24230294\n",
      "Critic_loss 1.00000142\n",
      "Rewards mean 1.00000000 Rewards std 0.00000000 Rewards sum 11.00000000\n"
     ]
    },
    {
     "name": "stderr",
     "output_type": "stream",
     "text": [
      "\n",
      "  6%|███████▎                                                                                                                 | 12/200 [00:00<00:01, 180.16it/s]\u001b[A\n",
      "  5%|██████▍                                                                                                                  | 53/1000 [00:05<01:39,  9.48it/s]"
     ]
    },
    {
     "name": "stdout",
     "output_type": "stream",
     "text": [
      "DONE\n",
      "DONE\n",
      "Actor_loss 1.54858740\n",
      "Critic_loss 0.99999934\n",
      "Rewards mean 1.00000000 Rewards std 0.00000000 Rewards sum 13.00000000\n"
     ]
    },
    {
     "name": "stderr",
     "output_type": "stream",
     "text": [
      "\n",
      "  8%|█████████▋                                                                                                               | 16/200 [00:00<00:01, 166.29it/s]\u001b[A\n",
      "  6%|██████▋                                                                                                                  | 55/1000 [00:05<01:34,  9.97it/s]"
     ]
    },
    {
     "name": "stdout",
     "output_type": "stream",
     "text": [
      "DONE\n",
      "DONE\n",
      "Actor_loss 1.32338095\n",
      "Critic_loss 1.00000086\n",
      "Rewards mean 1.00000000 Rewards std 0.00000000 Rewards sum 17.00000000\n"
     ]
    },
    {
     "name": "stderr",
     "output_type": "stream",
     "text": [
      "\n",
      "  0%|                                                                                                                                   | 0/200 [00:00<?, ?it/s]\u001b[A"
     ]
    },
    {
     "name": "stdout",
     "output_type": "stream",
     "text": [
      "DONE\n"
     ]
    },
    {
     "name": "stderr",
     "output_type": "stream",
     "text": [
      "  7%|████████▍                                                                                                                | 14/200 [00:00<00:01, 158.79it/s]\n",
      "  6%|██████▋                                                                                                                  | 55/1000 [00:05<01:34,  9.97it/s]"
     ]
    },
    {
     "name": "stdout",
     "output_type": "stream",
     "text": [
      "DONE\n",
      "Actor_loss 1.22697837\n",
      "Critic_loss 1.00000133\n",
      "Rewards mean 1.00000000 Rewards std 0.00000000 Rewards sum 15.00000000\n"
     ]
    },
    {
     "name": "stderr",
     "output_type": "stream",
     "text": [
      "\n",
      "  7%|████████▍                                                                                                                | 14/200 [00:00<00:01, 166.94it/s]\u001b[A\n",
      "  6%|██████▉                                                                                                                  | 57/1000 [00:05<01:32, 10.22it/s]"
     ]
    },
    {
     "name": "stdout",
     "output_type": "stream",
     "text": [
      "DONE\n",
      "DONE\n",
      "Actor_loss 1.30410150\n",
      "Critic_loss 1.00000100\n",
      "Rewards mean 1.00000000 Rewards std 0.00000000 Rewards sum 15.00000000\n"
     ]
    },
    {
     "name": "stderr",
     "output_type": "stream",
     "text": [
      "\n",
      "  0%|                                                                                                                                   | 0/200 [00:00<?, ?it/s]\u001b[A\n",
      " 18%|█████████████████████▊                                                                                                   | 36/200 [00:00<00:00, 191.75it/s]\u001b[A\n",
      "  6%|██████▉                                                                                                                  | 57/1000 [00:05<01:32, 10.22it/s]"
     ]
    },
    {
     "name": "stdout",
     "output_type": "stream",
     "text": [
      "DONE\n",
      "DONE\n",
      "Actor_loss 1.33836140\n",
      "Critic_loss 1.00000082\n",
      "Rewards mean 1.00000000 Rewards std 0.00000000 Rewards sum 37.00000000\n"
     ]
    },
    {
     "name": "stderr",
     "output_type": "stream",
     "text": [
      "\n",
      "  8%|█████████▋                                                                                                               | 16/200 [00:00<00:00, 189.68it/s]\u001b[A\n",
      "  6%|███████▏                                                                                                                 | 59/1000 [00:05<01:44,  8.99it/s]"
     ]
    },
    {
     "name": "stdout",
     "output_type": "stream",
     "text": [
      "DONE\n",
      "DONE\n",
      "Actor_loss 1.52542586\n",
      "Critic_loss 0.99999957\n",
      "Rewards mean 1.00000000 Rewards std 0.00000000 Rewards sum 17.00000000\n"
     ]
    },
    {
     "name": "stderr",
     "output_type": "stream",
     "text": [
      "\n",
      "  6%|███████▎                                                                                                                 | 12/200 [00:00<00:00, 189.83it/s]\u001b[A\n",
      "  6%|███████▏                                                                                                                 | 59/1000 [00:05<01:44,  8.99it/s]"
     ]
    },
    {
     "name": "stdout",
     "output_type": "stream",
     "text": [
      "DONE\n",
      "DONE\n",
      "Actor_loss 1.27847961\n",
      "Critic_loss 1.00000110\n",
      "Rewards mean 1.00000000 Rewards std 0.00000000 Rewards sum 13.00000000\n"
     ]
    },
    {
     "name": "stderr",
     "output_type": "stream",
     "text": [
      "\n",
      "  0%|                                                                                                                                   | 0/200 [00:00<?, ?it/s]\u001b[A\n",
      " 11%|█████████████▎                                                                                                           | 22/200 [00:00<00:00, 215.76it/s]\u001b[A"
     ]
    },
    {
     "name": "stdout",
     "output_type": "stream",
     "text": [
      "DONE\n"
     ]
    },
    {
     "name": "stderr",
     "output_type": "stream",
     "text": [
      " 20%|███████████████████████▌                                                                                                 | 39/200 [00:00<00:00, 202.02it/s]\n",
      "  6%|███████▍                                                                                                                 | 61/1000 [00:06<01:50,  8.47it/s]"
     ]
    },
    {
     "name": "stdout",
     "output_type": "stream",
     "text": [
      "DONE\n",
      "Actor_loss 1.41647398\n",
      "Critic_loss 1.00000028\n",
      "Rewards mean 1.00000000 Rewards std 0.00000000 Rewards sum 40.00000000\n"
     ]
    },
    {
     "name": "stderr",
     "output_type": "stream",
     "text": [
      "\n",
      "  6%|██████▋                                                                                                                  | 11/200 [00:00<00:01, 183.10it/s]\u001b[A\n",
      "  6%|███████▍                                                                                                                 | 61/1000 [00:06<01:50,  8.47it/s]"
     ]
    },
    {
     "name": "stdout",
     "output_type": "stream",
     "text": [
      "DONE\n",
      "DONE\n",
      "Actor_loss 1.11563634\n",
      "Critic_loss 1.00000207\n",
      "Rewards mean 1.00000000 Rewards std 0.00000000 Rewards sum 12.00000000\n"
     ]
    },
    {
     "name": "stderr",
     "output_type": "stream",
     "text": [
      "\n",
      "  7%|████████▍                                                                                                                | 14/200 [00:00<00:01, 174.76it/s]\u001b[A\n",
      "  6%|███████▌                                                                                                                 | 63/1000 [00:06<01:38,  9.48it/s]"
     ]
    },
    {
     "name": "stdout",
     "output_type": "stream",
     "text": [
      "DONE\n",
      "DONE\n",
      "Actor_loss 1.30414944\n",
      "Critic_loss 1.00000106\n",
      "Rewards mean 1.00000000 Rewards std 0.00000000 Rewards sum 15.00000000\n"
     ]
    },
    {
     "name": "stderr",
     "output_type": "stream",
     "text": [
      "\n",
      "  5%|██████                                                                                                                   | 10/200 [00:00<00:00, 190.23it/s]\u001b[A\n",
      "  6%|███████▌                                                                                                                 | 63/1000 [00:06<01:38,  9.48it/s]"
     ]
    },
    {
     "name": "stdout",
     "output_type": "stream",
     "text": [
      "DONE\n",
      "DONE\n",
      "Actor_loss 1.24267055\n",
      "Critic_loss 1.00000137\n",
      "Rewards mean 1.00000000 Rewards std 0.00000000 Rewards sum 11.00000000\n"
     ]
    },
    {
     "name": "stderr",
     "output_type": "stream",
     "text": [
      "\n",
      "  6%|███████▊                                                                                                                 | 13/200 [00:00<00:01, 186.38it/s]\u001b[A\n",
      "  6%|███████▊                                                                                                                 | 65/1000 [00:06<01:27, 10.63it/s]"
     ]
    },
    {
     "name": "stdout",
     "output_type": "stream",
     "text": [
      "DONE\n",
      "DONE\n",
      "Actor_loss 1.33369455\n",
      "Critic_loss 1.00000079\n",
      "Rewards mean 1.00000000 Rewards std 0.00000000 Rewards sum 14.00000000\n"
     ]
    },
    {
     "name": "stderr",
     "output_type": "stream",
     "text": [
      "\n",
      " 10%|████████████                                                                                                             | 20/200 [00:00<00:00, 201.06it/s]\u001b[A\n",
      "  6%|███████▊                                                                                                                 | 65/1000 [00:06<01:27, 10.63it/s]"
     ]
    },
    {
     "name": "stdout",
     "output_type": "stream",
     "text": [
      "DONE\n",
      "DONE\n",
      "Actor_loss 1.29647256\n",
      "Critic_loss 1.00000098\n",
      "Rewards mean 1.00000000 Rewards std 0.00000000 Rewards sum 21.00000000\n"
     ]
    },
    {
     "name": "stderr",
     "output_type": "stream",
     "text": [
      "\n",
      "  5%|██████                                                                                                                   | 10/200 [00:00<00:01, 161.90it/s]\u001b[A\n",
      "  7%|████████                                                                                                                 | 67/1000 [00:06<01:25, 10.88it/s]"
     ]
    },
    {
     "name": "stdout",
     "output_type": "stream",
     "text": [
      "DONE\n",
      "DONE\n",
      "Actor_loss 1.13519059\n",
      "Critic_loss 1.00000205\n",
      "Rewards mean 1.00000000 Rewards std 0.00000000 Rewards sum 11.00000000\n"
     ]
    },
    {
     "name": "stderr",
     "output_type": "stream",
     "text": [
      "\n",
      "  8%|█████████                                                                                                                | 15/200 [00:00<00:01, 176.66it/s]\u001b[A\n",
      "  7%|████████                                                                                                                 | 67/1000 [00:06<01:25, 10.88it/s]"
     ]
    },
    {
     "name": "stdout",
     "output_type": "stream",
     "text": [
      "DONE\n",
      "DONE\n",
      "Actor_loss 1.27852322\n",
      "Critic_loss 1.00000107\n",
      "Rewards mean 1.00000000 Rewards std 0.00000000 Rewards sum 16.00000000\n"
     ]
    },
    {
     "name": "stderr",
     "output_type": "stream",
     "text": [
      "\n",
      "  4%|████▉                                                                                                                     | 8/200 [00:00<00:01, 169.28it/s]\u001b[A\n",
      "  7%|████████▎                                                                                                                | 69/1000 [00:06<01:20, 11.63it/s]"
     ]
    },
    {
     "name": "stdout",
     "output_type": "stream",
     "text": [
      "DONE\n",
      "DONE\n",
      "Actor_loss 1.18878613\n",
      "Critic_loss 1.00000188\n",
      "Rewards mean 1.00000000 Rewards std 0.00000000 Rewards sum 9.00000000\n"
     ]
    },
    {
     "name": "stderr",
     "output_type": "stream",
     "text": [
      "\n",
      "  4%|████▉                                                                                                                     | 8/200 [00:00<00:01, 180.63it/s]\u001b[A"
     ]
    },
    {
     "name": "stdout",
     "output_type": "stream",
     "text": [
      "DONE\n",
      "DONE\n"
     ]
    },
    {
     "name": "stderr",
     "output_type": "stream",
     "text": [
      "\n",
      "  7%|████████▎                                                                                                                | 69/1000 [00:06<01:20, 11.63it/s]"
     ]
    },
    {
     "name": "stdout",
     "output_type": "stream",
     "text": [
      "Actor_loss 1.05397729\n",
      "Critic_loss 1.00000256\n",
      "Rewards mean 1.00000000 Rewards std 0.00000000 Rewards sum 9.00000000\n"
     ]
    },
    {
     "name": "stderr",
     "output_type": "stream",
     "text": [
      "\n",
      "  4%|█████▍                                                                                                                    | 9/200 [00:00<00:01, 172.84it/s]\u001b[A\n",
      "  7%|████████▌                                                                                                                | 71/1000 [00:06<01:10, 13.11it/s]"
     ]
    },
    {
     "name": "stdout",
     "output_type": "stream",
     "text": [
      "DONE\n",
      "DONE\n",
      "Actor_loss 1.75730894\n",
      "Critic_loss 0.99999703\n",
      "Rewards mean 1.00000000 Rewards std 0.00000000 Rewards sum 10.00000000\n"
     ]
    },
    {
     "name": "stderr",
     "output_type": "stream",
     "text": [
      "\n",
      "  8%|█████████▋                                                                                                               | 16/200 [00:00<00:01, 174.24it/s]\u001b[A\n",
      "  7%|████████▌                                                                                                                | 71/1000 [00:06<01:10, 13.11it/s]"
     ]
    },
    {
     "name": "stdout",
     "output_type": "stream",
     "text": [
      "DONE\n",
      "DONE\n",
      "Actor_loss 1.18879360\n",
      "Critic_loss 1.00000166\n",
      "Rewards mean 1.00000000 Rewards std 0.00000000 Rewards sum 17.00000000\n"
     ]
    },
    {
     "name": "stderr",
     "output_type": "stream",
     "text": [
      "\n",
      "  0%|                                                                                                                                   | 0/200 [00:00<?, ?it/s]\u001b[A\n",
      " 18%|█████████████████████▊                                                                                                   | 36/200 [00:00<00:00, 207.96it/s]\u001b[A\n",
      "  7%|████████▊                                                                                                                | 73/1000 [00:07<01:27, 10.54it/s]"
     ]
    },
    {
     "name": "stdout",
     "output_type": "stream",
     "text": [
      "DONE\n",
      "DONE\n",
      "Actor_loss 1.45786387\n",
      "Critic_loss 1.00000016\n",
      "Rewards mean 1.00000000 Rewards std 0.00000000 Rewards sum 37.00000000\n"
     ]
    },
    {
     "name": "stderr",
     "output_type": "stream",
     "text": [
      "\n",
      "  8%|█████████                                                                                                                | 15/200 [00:00<00:01, 179.14it/s]\u001b[A\n",
      "  7%|████████▊                                                                                                                | 73/1000 [00:07<01:27, 10.54it/s]"
     ]
    },
    {
     "name": "stdout",
     "output_type": "stream",
     "text": [
      "DONE\n",
      "DONE\n",
      "Actor_loss 1.27854786\n",
      "Critic_loss 1.00000111\n",
      "Rewards mean 1.00000000 Rewards std 0.00000000 Rewards sum 16.00000000\n"
     ]
    },
    {
     "name": "stderr",
     "output_type": "stream",
     "text": [
      "\n",
      "  0%|                                                                                                                                   | 0/200 [00:00<?, ?it/s]\u001b[A\n",
      " 17%|████████████████████▌                                                                                                    | 34/200 [00:00<00:00, 190.77it/s]\u001b[A\n",
      "  8%|█████████                                                                                                                | 75/1000 [00:07<01:39,  9.30it/s]"
     ]
    },
    {
     "name": "stdout",
     "output_type": "stream",
     "text": [
      "DONE\n",
      "DONE\n",
      "Actor_loss 1.33126047\n",
      "Critic_loss 1.00000080\n",
      "Rewards mean 1.00000000 Rewards std 0.00000000 Rewards sum 35.00000000\n"
     ]
    },
    {
     "name": "stderr",
     "output_type": "stream",
     "text": [
      "\n",
      "  7%|████████▍                                                                                                                | 14/200 [00:00<00:01, 168.11it/s]\u001b[A\n",
      "  8%|█████████                                                                                                                | 75/1000 [00:07<01:39,  9.30it/s]"
     ]
    },
    {
     "name": "stdout",
     "output_type": "stream",
     "text": [
      "DONE\n",
      "DONE\n",
      "Actor_loss 1.38092831\n",
      "Critic_loss 1.00000044\n",
      "Rewards mean 1.00000000 Rewards std 0.00000000 Rewards sum 15.00000000\n"
     ]
    },
    {
     "name": "stderr",
     "output_type": "stream",
     "text": [
      "\n",
      "  8%|██████████▎                                                                                                              | 17/200 [00:00<00:00, 193.15it/s]\u001b[A\n",
      "  8%|█████████▎                                                                                                               | 77/1000 [00:07<01:34,  9.75it/s]"
     ]
    },
    {
     "name": "stdout",
     "output_type": "stream",
     "text": [
      "DONE\n",
      "DONE\n",
      "Actor_loss 1.29963730\n",
      "Critic_loss 1.00000105\n",
      "Rewards mean 1.00000000 Rewards std 0.00000000 Rewards sum 18.00000000\n"
     ]
    },
    {
     "name": "stderr",
     "output_type": "stream",
     "text": [
      "\n",
      "  8%|██████████▎                                                                                                              | 17/200 [00:00<00:00, 200.65it/s]\u001b[A\n",
      "  8%|█████████▎                                                                                                               | 77/1000 [00:07<01:34,  9.75it/s]"
     ]
    },
    {
     "name": "stdout",
     "output_type": "stream",
     "text": [
      "DONE\n",
      "DONE\n",
      "Actor_loss 1.29963131\n",
      "Critic_loss 1.00000099\n",
      "Rewards mean 1.00000000 Rewards std 0.00000000 Rewards sum 18.00000000\n"
     ]
    },
    {
     "name": "stderr",
     "output_type": "stream",
     "text": [
      "\n",
      "  4%|████▎                                                                                                                     | 7/200 [00:00<00:01, 182.73it/s]\u001b[A\n",
      "  8%|█████████▌                                                                                                               | 79/1000 [00:07<01:24, 10.88it/s]"
     ]
    },
    {
     "name": "stdout",
     "output_type": "stream",
     "text": [
      "DONE\n",
      "DONE\n",
      "Actor_loss 1.99493022\n",
      "Critic_loss 0.99999367\n",
      "Rewards mean 1.00000000 Rewards std 0.00000000 Rewards sum 8.00000000\n"
     ]
    },
    {
     "name": "stderr",
     "output_type": "stream",
     "text": [
      "\n",
      "  8%|█████████                                                                                                                | 15/200 [00:00<00:01, 183.69it/s]\u001b[A\n",
      "  8%|█████████▌                                                                                                               | 79/1000 [00:07<01:24, 10.88it/s]"
     ]
    },
    {
     "name": "stdout",
     "output_type": "stream",
     "text": [
      "DONE\n",
      "DONE\n",
      "Actor_loss 1.56472344\n",
      "Critic_loss 0.99999907\n",
      "Rewards mean 1.00000000 Rewards std 0.00000000 Rewards sum 16.00000000\n"
     ]
    },
    {
     "name": "stderr",
     "output_type": "stream",
     "text": [
      "\n",
      " 10%|████████████                                                                                                             | 20/200 [00:00<00:00, 192.58it/s]\u001b[A"
     ]
    },
    {
     "name": "stdout",
     "output_type": "stream",
     "text": [
      "DONE\n",
      "DONE\n"
     ]
    },
    {
     "name": "stderr",
     "output_type": "stream",
     "text": [
      "\n",
      "  8%|█████████▊                                                                                                               | 81/1000 [00:07<01:26, 10.66it/s]"
     ]
    },
    {
     "name": "stdout",
     "output_type": "stream",
     "text": [
      "Actor_loss 1.40371840\n",
      "Critic_loss 1.00000028\n",
      "Rewards mean 1.00000000 Rewards std 0.00000000 Rewards sum 21.00000000\n"
     ]
    },
    {
     "name": "stderr",
     "output_type": "stream",
     "text": [
      "\n",
      "  0%|                                                                                                                                   | 0/200 [00:00<?, ?it/s]\u001b[A\n",
      " 10%|████████████▋                                                                                                            | 21/200 [00:00<00:00, 194.75it/s]\u001b[A\n",
      "  8%|█████████▊                                                                                                               | 81/1000 [00:08<01:26, 10.66it/s]"
     ]
    },
    {
     "name": "stdout",
     "output_type": "stream",
     "text": [
      "DONE\n",
      "DONE\n",
      "Actor_loss 1.38072318\n",
      "Critic_loss 1.00000046\n",
      "Rewards mean 1.00000000 Rewards std 0.00000000 Rewards sum 22.00000000\n"
     ]
    },
    {
     "name": "stderr",
     "output_type": "stream",
     "text": [
      "\n",
      "  0%|                                                                                                                                   | 0/200 [00:00<?, ?it/s]\u001b[A"
     ]
    },
    {
     "name": "stdout",
     "output_type": "stream",
     "text": [
      "DONE\n",
      "DONE\n"
     ]
    },
    {
     "name": "stderr",
     "output_type": "stream",
     "text": [
      "  8%|█████████                                                                                                                | 15/200 [00:00<00:01, 178.99it/s]\n",
      "  8%|██████████                                                                                                               | 83/1000 [00:08<01:28, 10.39it/s]"
     ]
    },
    {
     "name": "stdout",
     "output_type": "stream",
     "text": [
      "Actor_loss 1.27870887\n",
      "Critic_loss 1.00000110\n",
      "Rewards mean 1.00000000 Rewards std 0.00000000 Rewards sum 16.00000000\n"
     ]
    },
    {
     "name": "stderr",
     "output_type": "stream",
     "text": [
      "\n",
      "  8%|█████████                                                                                                                | 15/200 [00:00<00:01, 173.95it/s]\u001b[A\n",
      "  8%|██████████                                                                                                               | 83/1000 [00:08<01:28, 10.39it/s]"
     ]
    },
    {
     "name": "stdout",
     "output_type": "stream",
     "text": [
      "DONE\n",
      "DONE\n",
      "Actor_loss 1.35008249\n",
      "Critic_loss 1.00000069\n",
      "Rewards mean 1.00000000 Rewards std 0.00000000 Rewards sum 16.00000000\n"
     ]
    },
    {
     "name": "stderr",
     "output_type": "stream",
     "text": [
      "\n",
      "  8%|█████████▋                                                                                                               | 16/200 [00:00<00:01, 182.28it/s]\u001b[A\n",
      "  8%|██████████▎                                                                                                              | 85/1000 [00:08<01:27, 10.50it/s]"
     ]
    },
    {
     "name": "stdout",
     "output_type": "stream",
     "text": [
      "DONE\n",
      "DONE\n",
      "Actor_loss 1.25640328\n",
      "Critic_loss 1.00000118\n",
      "Rewards mean 1.00000000 Rewards std 0.00000000 Rewards sum 17.00000000\n"
     ]
    },
    {
     "name": "stderr",
     "output_type": "stream",
     "text": [
      "\n",
      "  6%|███████▊                                                                                                                 | 13/200 [00:00<00:01, 174.79it/s]\u001b[A\n",
      "  8%|██████████▎                                                                                                              | 85/1000 [00:08<01:27, 10.50it/s]"
     ]
    },
    {
     "name": "stdout",
     "output_type": "stream",
     "text": [
      "DONE\n",
      "DONE\n",
      "Actor_loss 1.25121430\n",
      "Critic_loss 1.00000135\n",
      "Rewards mean 1.00000000 Rewards std 0.00000000 Rewards sum 14.00000000\n"
     ]
    },
    {
     "name": "stderr",
     "output_type": "stream",
     "text": [
      "\n",
      "  0%|                                                                                                                                   | 0/200 [00:00<?, ?it/s]\u001b[A\n",
      " 10%|███████████▍                                                                                                             | 19/200 [00:00<00:01, 164.46it/s]\u001b[A\n",
      "  9%|██████████▌                                                                                                              | 87/1000 [00:08<01:28, 10.30it/s]"
     ]
    },
    {
     "name": "stdout",
     "output_type": "stream",
     "text": [
      "DONE\n",
      "DONE\n",
      "Actor_loss 1.31627826\n",
      "Critic_loss 1.00000092\n",
      "Rewards mean 1.00000000 Rewards std 0.00000000 Rewards sum 20.00000000\n"
     ]
    },
    {
     "name": "stderr",
     "output_type": "stream",
     "text": [
      "\n",
      "  6%|███████▎                                                                                                                 | 12/200 [00:00<00:01, 156.41it/s]\u001b[A\n",
      "  9%|██████████▌                                                                                                              | 87/1000 [00:08<01:28, 10.30it/s]"
     ]
    },
    {
     "name": "stdout",
     "output_type": "stream",
     "text": [
      "DONE\n",
      "DONE\n",
      "Actor_loss 1.27868234\n",
      "Critic_loss 1.00000119\n",
      "Rewards mean 1.00000000 Rewards std 0.00000000 Rewards sum 13.00000000\n"
     ]
    },
    {
     "name": "stderr",
     "output_type": "stream",
     "text": [
      "\n",
      "  8%|█████████                                                                                                                | 15/200 [00:00<00:00, 187.10it/s]\u001b[A\n",
      "  9%|██████████▊                                                                                                              | 89/1000 [00:08<01:24, 10.73it/s]"
     ]
    },
    {
     "name": "stdout",
     "output_type": "stream",
     "text": [
      "DONE\n",
      "DONE\n",
      "Actor_loss 1.13575562\n",
      "Critic_loss 1.00000194\n",
      "Rewards mean 1.00000000 Rewards std 0.00000000 Rewards sum 16.00000000\n"
     ]
    },
    {
     "name": "stderr",
     "output_type": "stream",
     "text": [
      "\n",
      "  5%|██████                                                                                                                   | 10/200 [00:00<00:01, 187.05it/s]\u001b[A\n",
      "  9%|██████████▊                                                                                                              | 89/1000 [00:08<01:24, 10.73it/s]"
     ]
    },
    {
     "name": "stdout",
     "output_type": "stream",
     "text": [
      "DONE\n",
      "DONE\n",
      "Actor_loss 1.24291705\n",
      "Critic_loss 1.00000144\n",
      "Rewards mean 1.00000000 Rewards std 0.00000000 Rewards sum 11.00000000\n"
     ]
    },
    {
     "name": "stderr",
     "output_type": "stream",
     "text": [
      "\n",
      "  6%|██████▋                                                                                                                  | 11/200 [00:00<00:01, 177.49it/s]\u001b[A\n",
      "  9%|███████████                                                                                                              | 91/1000 [00:08<01:16, 11.85it/s]"
     ]
    },
    {
     "name": "stdout",
     "output_type": "stream",
     "text": [
      "DONE\n",
      "DONE\n",
      "Actor_loss 1.11602627\n",
      "Critic_loss 1.00000211\n",
      "Rewards mean 1.00000000 Rewards std 0.00000000 Rewards sum 12.00000000\n"
     ]
    },
    {
     "name": "stderr",
     "output_type": "stream",
     "text": [
      "\n",
      "  8%|██████████▎                                                                                                              | 17/200 [00:00<00:00, 191.24it/s]\u001b[A\n",
      "  9%|███████████                                                                                                              | 91/1000 [00:08<01:16, 11.85it/s]"
     ]
    },
    {
     "name": "stdout",
     "output_type": "stream",
     "text": [
      "DONE\n",
      "DONE\n",
      "Actor_loss 1.29966376\n",
      "Critic_loss 1.00000100\n",
      "Rewards mean 1.00000000 Rewards std 0.00000000 Rewards sum 18.00000000\n"
     ]
    },
    {
     "name": "stderr",
     "output_type": "stream",
     "text": [
      "\n",
      "  7%|████████▍                                                                                                                | 14/200 [00:00<00:00, 198.40it/s]\u001b[A\n",
      "  9%|███████████▎                                                                                                             | 93/1000 [00:08<01:16, 11.82it/s]"
     ]
    },
    {
     "name": "stdout",
     "output_type": "stream",
     "text": [
      "DONE\n",
      "DONE\n",
      "Actor_loss 1.53395300\n",
      "Critic_loss 0.99999941\n",
      "Rewards mean 1.00000000 Rewards std 0.00000000 Rewards sum 15.00000000\n"
     ]
    },
    {
     "name": "stderr",
     "output_type": "stream",
     "text": [
      "\n",
      "  9%|██████████▉                                                                                                              | 18/200 [00:00<00:01, 172.89it/s]\u001b[A\n",
      "  9%|███████████▎                                                                                                             | 93/1000 [00:09<01:16, 11.82it/s]"
     ]
    },
    {
     "name": "stdout",
     "output_type": "stream",
     "text": [
      "DONE\n",
      "DONE\n",
      "Actor_loss 1.57613675\n",
      "Critic_loss 0.99999878\n",
      "Rewards mean 1.00000000 Rewards std 0.00000000 Rewards sum 19.00000000\n"
     ]
    },
    {
     "name": "stderr",
     "output_type": "stream",
     "text": [
      "\n",
      "  6%|███████▊                                                                                                                 | 13/200 [00:00<00:01, 175.67it/s]\u001b[A\n",
      " 10%|███████████▍                                                                                                             | 95/1000 [00:09<01:19, 11.41it/s]"
     ]
    },
    {
     "name": "stdout",
     "output_type": "stream",
     "text": [
      "DONE\n",
      "DONE\n",
      "Actor_loss 1.58031572\n",
      "Critic_loss 0.99999896\n",
      "Rewards mean 1.00000000 Rewards std 0.00000000 Rewards sum 14.00000000\n"
     ]
    },
    {
     "name": "stderr",
     "output_type": "stream",
     "text": [
      "\n",
      "  5%|██████                                                                                                                   | 10/200 [00:00<00:01, 179.59it/s]\u001b[A\n",
      " 10%|███████████▍                                                                                                             | 95/1000 [00:09<01:19, 11.41it/s]"
     ]
    },
    {
     "name": "stdout",
     "output_type": "stream",
     "text": [
      "DONE\n",
      "DONE\n",
      "Actor_loss 1.24315774\n",
      "Critic_loss 1.00000138\n",
      "Rewards mean 1.00000000 Rewards std 0.00000000 Rewards sum 11.00000000\n"
     ]
    },
    {
     "name": "stderr",
     "output_type": "stream",
     "text": [
      "\n",
      "  0%|                                                                                                                                   | 0/200 [00:00<?, ?it/s]\u001b[A\n",
      " 10%|████████████▋                                                                                                            | 21/200 [00:00<00:00, 180.44it/s]\u001b[A\n",
      " 10%|███████████▋                                                                                                             | 97/1000 [00:09<01:20, 11.25it/s]"
     ]
    },
    {
     "name": "stdout",
     "output_type": "stream",
     "text": [
      "DONE\n",
      "DONE\n",
      "Actor_loss 1.32967103\n",
      "Critic_loss 1.00000075\n",
      "Rewards mean 1.00000000 Rewards std 0.00000000 Rewards sum 22.00000000\n"
     ]
    },
    {
     "name": "stderr",
     "output_type": "stream",
     "text": [
      "\n",
      "  0%|                                                                                                                                   | 0/200 [00:00<?, ?it/s]\u001b[A\n",
      " 10%|████████████                                                                                                             | 20/200 [00:00<00:00, 185.04it/s]\u001b[A\n",
      " 10%|███████████▋                                                                                                             | 97/1000 [00:09<01:20, 11.25it/s]"
     ]
    },
    {
     "name": "stdout",
     "output_type": "stream",
     "text": [
      "DONE\n",
      "DONE\n",
      "Actor_loss 1.29660715\n",
      "Critic_loss 1.00000106\n",
      "Rewards mean 1.00000000 Rewards std 0.00000000 Rewards sum 21.00000000\n"
     ]
    },
    {
     "name": "stderr",
     "output_type": "stream",
     "text": [
      "\n",
      "  0%|                                                                                                                                   | 0/200 [00:00<?, ?it/s]\u001b[A\n",
      " 12%|███████████████▏                                                                                                         | 25/200 [00:00<00:00, 207.73it/s]\u001b[A\n",
      " 10%|███████████▉                                                                                                             | 99/1000 [00:09<01:28, 10.17it/s]"
     ]
    },
    {
     "name": "stdout",
     "output_type": "stream",
     "text": [
      "DONE\n",
      "DONE\n",
      "Actor_loss 1.47809131\n",
      "Critic_loss 0.99999995\n",
      "Rewards mean 1.00000000 Rewards std 0.00000000 Rewards sum 26.00000000\n"
     ]
    },
    {
     "name": "stderr",
     "output_type": "stream",
     "text": [
      "\n",
      "  9%|██████████▉                                                                                                              | 18/200 [00:00<00:01, 177.45it/s]\u001b[A\n",
      " 10%|███████████▉                                                                                                             | 99/1000 [00:09<01:28, 10.17it/s]"
     ]
    },
    {
     "name": "stdout",
     "output_type": "stream",
     "text": [
      "DONE\n",
      "DONE\n",
      "Actor_loss 1.27884616\n",
      "Critic_loss 1.00000109\n",
      "Rewards mean 1.00000000 Rewards std 0.00000000 Rewards sum 19.00000000\n"
     ]
    },
    {
     "name": "stderr",
     "output_type": "stream",
     "text": [
      "\n",
      "  0%|                                                                                                                                   | 0/200 [00:00<?, ?it/s]\u001b[A\n",
      " 13%|███████████████▋                                                                                                         | 26/200 [00:00<00:01, 173.21it/s]\u001b[A\n",
      " 10%|████████████                                                                                                            | 101/1000 [00:09<01:37,  9.23it/s]"
     ]
    },
    {
     "name": "stdout",
     "output_type": "stream",
     "text": [
      "DONE\n",
      "DONE\n",
      "Actor_loss 1.37456824\n",
      "Critic_loss 1.00000051\n",
      "Rewards mean 1.00000000 Rewards std 0.00000000 Rewards sum 27.00000000\n"
     ]
    },
    {
     "name": "stderr",
     "output_type": "stream",
     "text": [
      "\n",
      "  8%|█████████▋                                                                                                               | 16/200 [00:00<00:00, 201.19it/s]\u001b[A\n",
      " 10%|████████████                                                                                                            | 101/1000 [00:09<01:37,  9.23it/s]"
     ]
    },
    {
     "name": "stdout",
     "output_type": "stream",
     "text": [
      "DONE\n",
      "DONE\n",
      "Actor_loss 1.32330010\n",
      "Critic_loss 1.00000088\n",
      "Rewards mean 1.00000000 Rewards std 0.00000000 Rewards sum 17.00000000\n"
     ]
    },
    {
     "name": "stderr",
     "output_type": "stream",
     "text": [
      "\n",
      "  0%|                                                                                                                                   | 0/200 [00:00<?, ?it/s]\u001b[A\n",
      " 12%|██████████████▌                                                                                                          | 24/200 [00:00<00:00, 195.64it/s]\u001b[A\n",
      " 10%|████████████▎                                                                                                           | 103/1000 [00:10<01:36,  9.28it/s]"
     ]
    },
    {
     "name": "stdout",
     "output_type": "stream",
     "text": [
      "DONE\n",
      "DONE\n",
      "Actor_loss 1.32330029\n",
      "Critic_loss 1.00000090\n",
      "Rewards mean 1.00000000 Rewards std 0.00000000 Rewards sum 25.00000000\n"
     ]
    },
    {
     "name": "stderr",
     "output_type": "stream",
     "text": [
      "\n",
      "  0%|                                                                                                                                   | 0/200 [00:00<?, ?it/s]\u001b[A\n",
      " 10%|████████████▋                                                                                                            | 21/200 [00:00<00:01, 175.73it/s]\u001b[A\n",
      " 10%|████████████▍                                                                                                           | 104/1000 [00:10<01:39,  9.02it/s]"
     ]
    },
    {
     "name": "stdout",
     "output_type": "stream",
     "text": [
      "DONE\n",
      "DONE\n",
      "Actor_loss 1.32965018\n",
      "Critic_loss 1.00000082\n",
      "Rewards mean 1.00000000 Rewards std 0.00000000 Rewards sum 22.00000000\n"
     ]
    },
    {
     "name": "stderr",
     "output_type": "stream",
     "text": [
      "\n",
      "  6%|███████▊                                                                                                                 | 13/200 [00:00<00:01, 181.20it/s]\u001b[A\n",
      " 10%|████████████▍                                                                                                           | 104/1000 [00:10<01:39,  9.02it/s]"
     ]
    },
    {
     "name": "stdout",
     "output_type": "stream",
     "text": [
      "DONE\n",
      "DONE\n",
      "Actor_loss 1.33356021\n",
      "Critic_loss 1.00000082\n",
      "Rewards mean 1.00000000 Rewards std 0.00000000 Rewards sum 14.00000000\n"
     ]
    },
    {
     "name": "stderr",
     "output_type": "stream",
     "text": [
      "\n",
      "  0%|                                                                                                                                   | 0/200 [00:00<?, ?it/s]\u001b[A\n",
      " 10%|████████████▋                                                                                                            | 21/200 [00:00<00:00, 202.19it/s]\u001b[A"
     ]
    },
    {
     "name": "stdout",
     "output_type": "stream",
     "text": [
      "DONE\n"
     ]
    },
    {
     "name": "stderr",
     "output_type": "stream",
     "text": [
      " 11%|█████████████▎                                                                                                           | 22/200 [00:00<00:00, 189.68it/s]\n",
      " 11%|████████████▋                                                                                                           | 106/1000 [00:10<01:35,  9.34it/s]"
     ]
    },
    {
     "name": "stdout",
     "output_type": "stream",
     "text": [
      "DONE\n",
      "Actor_loss 1.35966785\n",
      "Critic_loss 1.00000062\n",
      "Rewards mean 1.00000000 Rewards std 0.00000000 Rewards sum 23.00000000\n"
     ]
    },
    {
     "name": "stderr",
     "output_type": "stream",
     "text": [
      "\n",
      "  0%|                                                                                                                                   | 0/200 [00:00<?, ?it/s]\u001b[A\n",
      " 12%|███████████████▏                                                                                                         | 25/200 [00:00<00:00, 189.95it/s]\u001b[A\n",
      " 11%|████████████▊                                                                                                           | 107/1000 [00:10<01:40,  8.86it/s]"
     ]
    },
    {
     "name": "stdout",
     "output_type": "stream",
     "text": [
      "DONE\n",
      "DONE\n",
      "Actor_loss 1.39260998\n",
      "Critic_loss 1.00000045\n",
      "Rewards mean 1.00000000 Rewards std 0.00000000 Rewards sum 26.00000000\n"
     ]
    },
    {
     "name": "stderr",
     "output_type": "stream",
     "text": [
      "\n",
      "  0%|                                                                                                                                   | 0/200 [00:00<?, ?it/s]\u001b[A\n",
      " 11%|█████████████▎                                                                                                           | 22/200 [00:00<00:00, 185.10it/s]\u001b[A\n",
      " 11%|████████████▉                                                                                                           | 108/1000 [00:10<01:43,  8.64it/s]"
     ]
    },
    {
     "name": "stdout",
     "output_type": "stream",
     "text": [
      "DONE\n",
      "DONE\n",
      "Actor_loss 1.40806607\n",
      "Critic_loss 1.00000027\n",
      "Rewards mean 1.00000000 Rewards std 0.00000000 Rewards sum 23.00000000\n"
     ]
    },
    {
     "name": "stderr",
     "output_type": "stream",
     "text": [
      "\n",
      "  5%|██████                                                                                                                   | 10/200 [00:00<00:01, 175.55it/s]\u001b[A\n",
      " 11%|████████████▉                                                                                                           | 108/1000 [00:10<01:43,  8.64it/s]"
     ]
    },
    {
     "name": "stdout",
     "output_type": "stream",
     "text": [
      "DONE\n",
      "DONE\n",
      "Actor_loss 1.13688033\n",
      "Critic_loss 1.00000208\n",
      "Rewards mean 1.00000000 Rewards std 0.00000000 Rewards sum 11.00000000\n"
     ]
    },
    {
     "name": "stderr",
     "output_type": "stream",
     "text": [
      "\n",
      "  7%|████████▍                                                                                                                | 14/200 [00:00<00:00, 187.15it/s]\u001b[A\n",
      " 11%|█████████████▏                                                                                                          | 110/1000 [00:10<01:27, 10.12it/s]"
     ]
    },
    {
     "name": "stdout",
     "output_type": "stream",
     "text": [
      "DONE\n",
      "DONE\n",
      "Actor_loss 1.30427198\n",
      "Critic_loss 1.00000103\n",
      "Rewards mean 1.00000000 Rewards std 0.00000000 Rewards sum 15.00000000\n"
     ]
    },
    {
     "name": "stderr",
     "output_type": "stream",
     "text": [
      "\n",
      "  0%|                                                                                                                                   | 0/200 [00:00<?, ?it/s]\u001b[A\n",
      " 19%|██████████████████████▉                                                                                                  | 38/200 [00:00<00:00, 201.28it/s]\u001b[A\n",
      "                                                                                                                                                                \r"
     ]
    },
    {
     "name": "stdout",
     "output_type": "stream",
     "text": [
      "DONE\n",
      "DONE\n",
      "Actor_loss 1.37234326\n",
      "Critic_loss 1.00000057\n",
      "Rewards mean 1.00000000 Rewards std 0.00000000 Rewards sum 39.00000000\n"
     ]
    },
    {
     "name": "stderr",
     "output_type": "stream",
     "text": [
      " 11%|█████████████▏                                                                                                          | 110/1000 [00:10<01:27, 10.12it/s]\n",
      "  5%|██████                                                                                                                   | 10/200 [00:00<00:01, 186.94it/s]\u001b[A\n",
      " 11%|█████████████▍                                                                                                          | 112/1000 [00:11<01:36,  9.21it/s]"
     ]
    },
    {
     "name": "stdout",
     "output_type": "stream",
     "text": [
      "DONE\n",
      "DONE\n",
      "Actor_loss 1.66910076\n",
      "Critic_loss 0.99999785\n",
      "Rewards mean 1.00000000 Rewards std 0.00000000 Rewards sum 11.00000000\n"
     ]
    },
    {
     "name": "stderr",
     "output_type": "stream",
     "text": [
      "\n",
      "  4%|█████▍                                                                                                                    | 9/200 [00:00<00:01, 186.98it/s]\u001b[A\n",
      " 11%|█████████████▍                                                                                                          | 112/1000 [00:11<01:36,  9.21it/s]"
     ]
    },
    {
     "name": "stdout",
     "output_type": "stream",
     "text": [
      "DONE\n",
      "DONE\n",
      "Actor_loss 1.16076362\n",
      "Critic_loss 1.00000199\n",
      "Rewards mean 1.00000000 Rewards std 0.00000000 Rewards sum 10.00000000\n"
     ]
    },
    {
     "name": "stderr",
     "output_type": "stream",
     "text": [
      "\n",
      "  0%|                                                                                                                                   | 0/200 [00:00<?, ?it/s]\u001b[A\n",
      " 12%|█████████████▉                                                                                                           | 23/200 [00:00<00:00, 204.68it/s]\u001b[A\n",
      " 11%|█████████████▋                                                                                                          | 114/1000 [00:11<01:29,  9.90it/s]"
     ]
    },
    {
     "name": "stdout",
     "output_type": "stream",
     "text": [
      "DONE\n",
      "DONE\n",
      "Actor_loss 1.24806521\n",
      "Critic_loss 1.00000130\n",
      "Rewards mean 1.00000000 Rewards std 0.00000000 Rewards sum 24.00000000\n"
     ]
    },
    {
     "name": "stderr",
     "output_type": "stream",
     "text": [
      "\n",
      "  8%|█████████▋                                                                                                               | 16/200 [00:00<00:00, 199.66it/s]\u001b[A\n",
      " 11%|█████████████▋                                                                                                          | 114/1000 [00:11<01:29,  9.90it/s]"
     ]
    },
    {
     "name": "stdout",
     "output_type": "stream",
     "text": [
      "DONE\n",
      "DONE\n",
      "Actor_loss 1.52277588\n",
      "Critic_loss 0.99999962\n",
      "Rewards mean 1.00000000 Rewards std 0.00000000 Rewards sum 17.00000000\n"
     ]
    },
    {
     "name": "stderr",
     "output_type": "stream",
     "text": [
      "\n",
      "  7%|████████▍                                                                                                                | 14/200 [00:00<00:00, 193.59it/s]\u001b[A\n",
      " 12%|█████████████▉                                                                                                          | 116/1000 [00:11<01:23, 10.54it/s]"
     ]
    },
    {
     "name": "stdout",
     "output_type": "stream",
     "text": [
      "DONE\n",
      "DONE\n",
      "Actor_loss 1.22831109\n",
      "Critic_loss 1.00000155\n",
      "Rewards mean 1.00000000 Rewards std 0.00000000 Rewards sum 15.00000000\n"
     ]
    },
    {
     "name": "stderr",
     "output_type": "stream",
     "text": [
      "\n",
      "  6%|███████▎                                                                                                                 | 12/200 [00:00<00:01, 181.86it/s]\u001b[A\n",
      " 12%|█████████████▉                                                                                                          | 116/1000 [00:11<01:23, 10.54it/s]"
     ]
    },
    {
     "name": "stdout",
     "output_type": "stream",
     "text": [
      "DONE\n",
      "DONE\n",
      "Actor_loss 1.27894308\n",
      "Critic_loss 1.00000115\n",
      "Rewards mean 1.00000000 Rewards std 0.00000000 Rewards sum 13.00000000\n"
     ]
    },
    {
     "name": "stderr",
     "output_type": "stream",
     "text": [
      "\n",
      "  0%|                                                                                                                                   | 0/200 [00:00<?, ?it/s]\u001b[A\n",
      " 11%|█████████████▎                                                                                                           | 22/200 [00:00<00:00, 213.05it/s]\u001b[A\n",
      " 23%|███████████████████████████▊                                                                                             | 46/200 [00:00<00:00, 198.04it/s]\u001b[A\n",
      " 12%|██████████████▏                                                                                                         | 118/1000 [00:11<01:40,  8.78it/s]"
     ]
    },
    {
     "name": "stdout",
     "output_type": "stream",
     "text": [
      "DONE\n",
      "DONE\n",
      "Actor_loss 1.41000258\n",
      "Critic_loss 1.00000031\n",
      "Rewards mean 1.00000000 Rewards std 0.00000000 Rewards sum 47.00000000\n"
     ]
    },
    {
     "name": "stderr",
     "output_type": "stream",
     "text": [
      "\n",
      "  0%|                                                                                                                                   | 0/200 [00:00<?, ?it/s]\u001b[A\n",
      " 14%|█████████████████▌                                                                                                       | 29/200 [00:00<00:00, 174.35it/s]\u001b[A\n",
      " 12%|██████████████▎                                                                                                         | 119/1000 [00:11<01:49,  8.02it/s]"
     ]
    },
    {
     "name": "stdout",
     "output_type": "stream",
     "text": [
      "DONE\n",
      "DONE\n",
      "Actor_loss 1.47423431\n",
      "Critic_loss 0.99999998\n",
      "Rewards mean 1.00000000 Rewards std 0.00000000 Rewards sum 30.00000000\n"
     ]
    },
    {
     "name": "stderr",
     "output_type": "stream",
     "text": [
      "\n",
      " 10%|███████████▍                                                                                                             | 19/200 [00:00<00:00, 202.11it/s]\u001b[A\n",
      " 12%|██████████████▎                                                                                                         | 119/1000 [00:11<01:49,  8.02it/s]"
     ]
    },
    {
     "name": "stdout",
     "output_type": "stream",
     "text": [
      "DONE\n",
      "DONE\n",
      "Actor_loss 1.37209862\n",
      "Critic_loss 1.00000052\n",
      "Rewards mean 1.00000000 Rewards std 0.00000000 Rewards sum 20.00000000\n"
     ]
    },
    {
     "name": "stderr",
     "output_type": "stream",
     "text": [
      "\n",
      "  9%|██████████▉                                                                                                              | 18/200 [00:00<00:00, 209.78it/s]\u001b[A\n",
      " 12%|██████████████▌                                                                                                         | 121/1000 [00:12<01:40,  8.72it/s]"
     ]
    },
    {
     "name": "stdout",
     "output_type": "stream",
     "text": [
      "DONE\n",
      "DONE\n",
      "Actor_loss 1.51443491\n",
      "Critic_loss 0.99999967\n",
      "Rewards mean 1.00000000 Rewards std 0.00000000 Rewards sum 19.00000000\n"
     ]
    },
    {
     "name": "stderr",
     "output_type": "stream",
     "text": [
      "\n",
      "  8%|█████████                                                                                                                | 15/200 [00:00<00:00, 192.38it/s]\u001b[A\n",
      " 12%|██████████████▌                                                                                                         | 121/1000 [00:12<01:40,  8.72it/s]"
     ]
    },
    {
     "name": "stdout",
     "output_type": "stream",
     "text": [
      "DONE\n",
      "DONE\n",
      "Actor_loss 1.27918880\n",
      "Critic_loss 1.00000116\n",
      "Rewards mean 1.00000000 Rewards std 0.00000000 Rewards sum 16.00000000\n"
     ]
    },
    {
     "name": "stderr",
     "output_type": "stream",
     "text": [
      "\n",
      "  6%|███████▎                                                                                                                 | 12/200 [00:00<00:01, 176.95it/s]\u001b[A\n",
      " 12%|██████████████▊                                                                                                         | 123/1000 [00:12<01:29,  9.75it/s]"
     ]
    },
    {
     "name": "stdout",
     "output_type": "stream",
     "text": [
      "DONE\n",
      "DONE\n",
      "Actor_loss 1.19103497\n",
      "Critic_loss 1.00000171\n",
      "Rewards mean 1.00000000 Rewards std 0.00000000 Rewards sum 13.00000000\n"
     ]
    },
    {
     "name": "stderr",
     "output_type": "stream",
     "text": [
      "\n",
      "  6%|██████▋                                                                                                                  | 11/200 [00:00<00:00, 189.85it/s]\u001b[A\n",
      " 12%|██████████████▊                                                                                                         | 123/1000 [00:12<01:29,  9.75it/s]"
     ]
    },
    {
     "name": "stdout",
     "output_type": "stream",
     "text": [
      "DONE\n",
      "DONE\n",
      "Actor_loss 1.31123610\n",
      "Critic_loss 1.00000100\n",
      "Rewards mean 1.00000000 Rewards std 0.00000000 Rewards sum 12.00000000\n"
     ]
    },
    {
     "name": "stderr",
     "output_type": "stream",
     "text": [
      "\n",
      "  0%|                                                                                                                                   | 0/200 [00:00<?, ?it/s]\u001b[A\n",
      " 20%|███████████████████████▌                                                                                                 | 39/200 [00:00<00:00, 213.21it/s]\u001b[A\n",
      " 12%|███████████████                                                                                                         | 125/1000 [00:12<01:36,  9.07it/s]"
     ]
    },
    {
     "name": "stdout",
     "output_type": "stream",
     "text": [
      "DONE\n",
      "DONE\n",
      "Actor_loss 1.33343195\n",
      "Critic_loss 1.00000081\n",
      "Rewards mean 1.00000000 Rewards std 0.00000000 Rewards sum 40.00000000\n"
     ]
    },
    {
     "name": "stderr",
     "output_type": "stream",
     "text": [
      "\n",
      "  6%|███████▊                                                                                                                 | 13/200 [00:00<00:01, 179.32it/s]\u001b[A\n",
      " 12%|███████████████                                                                                                         | 125/1000 [00:12<01:36,  9.07it/s]"
     ]
    },
    {
     "name": "stdout",
     "output_type": "stream",
     "text": [
      "DONE\n",
      "DONE\n",
      "Actor_loss 1.25207740\n",
      "Critic_loss 1.00000137\n",
      "Rewards mean 1.00000000 Rewards std 0.00000000 Rewards sum 14.00000000\n"
     ]
    },
    {
     "name": "stderr",
     "output_type": "stream",
     "text": [
      "\n",
      " 10%|███████████▍                                                                                                             | 19/200 [00:00<00:00, 202.52it/s]\u001b[A\n",
      " 13%|███████████████▏                                                                                                        | 127/1000 [00:12<01:30,  9.64it/s]"
     ]
    },
    {
     "name": "stdout",
     "output_type": "stream",
     "text": [
      "DONE\n",
      "DONE\n",
      "Actor_loss 1.26060093\n",
      "Critic_loss 1.00000125\n",
      "Rewards mean 1.00000000 Rewards std 0.00000000 Rewards sum 20.00000000\n"
     ]
    },
    {
     "name": "stderr",
     "output_type": "stream",
     "text": [
      "\n",
      "  6%|██████▋                                                                                                                  | 11/200 [00:00<00:00, 190.83it/s]\u001b[A\n",
      " 13%|███████████████▏                                                                                                        | 127/1000 [00:12<01:30,  9.64it/s]"
     ]
    },
    {
     "name": "stdout",
     "output_type": "stream",
     "text": [
      "DONE\n",
      "DONE\n",
      "Actor_loss 1.21495742\n",
      "Critic_loss 1.00000155\n",
      "Rewards mean 1.00000000 Rewards std 0.00000000 Rewards sum 12.00000000\n"
     ]
    },
    {
     "name": "stderr",
     "output_type": "stream",
     "text": [
      "\n",
      "  6%|███████▎                                                                                                                 | 12/200 [00:00<00:00, 192.04it/s]\u001b[A\n",
      " 13%|███████████████▍                                                                                                        | 129/1000 [00:12<01:19, 10.89it/s]"
     ]
    },
    {
     "name": "stdout",
     "output_type": "stream",
     "text": [
      "DONE\n",
      "DONE\n",
      "Actor_loss 1.36737916\n",
      "Critic_loss 1.00000054\n",
      "Rewards mean 1.00000000 Rewards std 0.00000000 Rewards sum 13.00000000\n"
     ]
    },
    {
     "name": "stderr",
     "output_type": "stream",
     "text": [
      "\n",
      "  8%|█████████▋                                                                                                               | 16/200 [00:00<00:00, 198.25it/s]\u001b[A\n",
      " 13%|███████████████▍                                                                                                        | 129/1000 [00:12<01:19, 10.89it/s]"
     ]
    },
    {
     "name": "stdout",
     "output_type": "stream",
     "text": [
      "DONE\n",
      "DONE\n",
      "Actor_loss 1.38942493\n",
      "Critic_loss 1.00000038\n",
      "Rewards mean 1.00000000 Rewards std 0.00000000 Rewards sum 17.00000000\n"
     ]
    },
    {
     "name": "stderr",
     "output_type": "stream",
     "text": [
      "\n",
      "  0%|                                                                                                                                   | 0/200 [00:00<?, ?it/s]\u001b[A\n",
      " 16%|███████████████████▎                                                                                                     | 32/200 [00:00<00:00, 207.24it/s]\u001b[A\n",
      " 13%|███████████████▋                                                                                                        | 131/1000 [00:13<01:28,  9.87it/s]"
     ]
    },
    {
     "name": "stdout",
     "output_type": "stream",
     "text": [
      "DONE\n",
      "DONE\n",
      "Actor_loss 1.38934451\n",
      "Critic_loss 1.00000049\n",
      "Rewards mean 1.00000000 Rewards std 0.00000000 Rewards sum 33.00000000\n"
     ]
    },
    {
     "name": "stderr",
     "output_type": "stream",
     "text": [
      "\n",
      "  7%|████████▍                                                                                                                | 14/200 [00:00<00:00, 199.91it/s]\u001b[A\n",
      " 13%|███████████████▋                                                                                                        | 131/1000 [00:13<01:28,  9.87it/s]"
     ]
    },
    {
     "name": "stdout",
     "output_type": "stream",
     "text": [
      "DONE\n",
      "DONE\n",
      "Actor_loss 1.22884682\n",
      "Critic_loss 1.00000152\n",
      "Rewards mean 1.00000000 Rewards std 0.00000000 Rewards sum 15.00000000\n"
     ]
    },
    {
     "name": "stderr",
     "output_type": "stream",
     "text": [
      "\n",
      "  0%|                                                                                                                                   | 0/200 [00:00<?, ?it/s]\u001b[A\n",
      " 18%|█████████████████████▏                                                                                                   | 35/200 [00:00<00:00, 199.73it/s]\u001b[A\n",
      " 13%|███████████████▉                                                                                                        | 133/1000 [00:13<01:35,  9.12it/s]"
     ]
    },
    {
     "name": "stdout",
     "output_type": "stream",
     "text": [
      "DONE\n",
      "DONE\n",
      "Actor_loss 1.34970055\n",
      "Critic_loss 1.00000067\n",
      "Rewards mean 1.00000000 Rewards std 0.00000000 Rewards sum 36.00000000\n"
     ]
    },
    {
     "name": "stderr",
     "output_type": "stream",
     "text": [
      "\n",
      "  5%|██████                                                                                                                   | 10/200 [00:00<00:01, 170.34it/s]\u001b[A\n",
      " 13%|███████████████▉                                                                                                        | 133/1000 [00:13<01:35,  9.12it/s]"
     ]
    },
    {
     "name": "stdout",
     "output_type": "stream",
     "text": [
      "DONE\n",
      "DONE\n",
      "Actor_loss 1.24392370\n",
      "Critic_loss 1.00000144\n",
      "Rewards mean 1.00000000 Rewards std 0.00000000 Rewards sum 11.00000000\n"
     ]
    },
    {
     "name": "stderr",
     "output_type": "stream",
     "text": [
      "\n",
      "  8%|█████████                                                                                                                | 15/200 [00:00<00:01, 176.61it/s]\u001b[A\n",
      " 14%|████████████████▏                                                                                                       | 135/1000 [00:13<01:26, 10.00it/s]"
     ]
    },
    {
     "name": "stdout",
     "output_type": "stream",
     "text": [
      "DONE\n",
      "DONE\n",
      "Actor_loss 1.27918731\n",
      "Critic_loss 1.00000118\n",
      "Rewards mean 1.00000000 Rewards std 0.00000000 Rewards sum 16.00000000\n"
     ]
    },
    {
     "name": "stderr",
     "output_type": "stream",
     "text": [
      "\n",
      "  4%|████▉                                                                                                                     | 8/200 [00:00<00:01, 182.67it/s]\u001b[A\n",
      " 14%|████████████████▏                                                                                                       | 135/1000 [00:13<01:26, 10.00it/s]"
     ]
    },
    {
     "name": "stdout",
     "output_type": "stream",
     "text": [
      "DONE\n",
      "DONE\n",
      "Actor_loss 1.05861282\n",
      "Critic_loss 1.00000273\n",
      "Rewards mean 1.00000000 Rewards std 0.00000000 Rewards sum 9.00000000\n"
     ]
    },
    {
     "name": "stderr",
     "output_type": "stream",
     "text": [
      "\n",
      "  6%|███████▊                                                                                                                 | 13/200 [00:00<00:00, 190.65it/s]\u001b[A\n",
      " 14%|████████████████▍                                                                                                       | 137/1000 [00:13<01:16, 11.32it/s]"
     ]
    },
    {
     "name": "stdout",
     "output_type": "stream",
     "text": [
      "DONE\n",
      "DONE\n",
      "Actor_loss 1.17041781\n",
      "Critic_loss 1.00000179\n",
      "Rewards mean 1.00000000 Rewards std 0.00000000 Rewards sum 14.00000000\n"
     ]
    },
    {
     "name": "stderr",
     "output_type": "stream",
     "text": [
      "\n",
      "  0%|                                                                                                                                   | 0/200 [00:00<?, ?it/s]\u001b[A\n",
      " 14%|████████████████▎                                                                                                        | 27/200 [00:00<00:00, 197.52it/s]\u001b[A\n",
      " 14%|████████████████▍                                                                                                       | 137/1000 [00:13<01:16, 11.32it/s]"
     ]
    },
    {
     "name": "stdout",
     "output_type": "stream",
     "text": [
      "DONE\n",
      "DONE\n",
      "Actor_loss 1.31836106\n",
      "Critic_loss 1.00000095\n",
      "Rewards mean 1.00000000 Rewards std 0.00000000 Rewards sum 28.00000000\n"
     ]
    },
    {
     "name": "stderr",
     "output_type": "stream",
     "text": [
      "\n",
      "  0%|                                                                                                                                   | 0/200 [00:00<?, ?it/s]\u001b[A\n",
      " 12%|███████████████▏                                                                                                         | 25/200 [00:00<00:00, 194.00it/s]\u001b[A\n",
      " 14%|████████████████▋                                                                                                       | 139/1000 [00:13<01:29,  9.66it/s]"
     ]
    },
    {
     "name": "stdout",
     "output_type": "stream",
     "text": [
      "DONE\n",
      "DONE\n",
      "Actor_loss 1.39214323\n",
      "Critic_loss 1.00000042\n",
      "Rewards mean 1.00000000 Rewards std 0.00000000 Rewards sum 26.00000000\n"
     ]
    },
    {
     "name": "stderr",
     "output_type": "stream",
     "text": [
      "\n",
      "  0%|                                                                                                                                   | 0/200 [00:00<?, ?it/s]\u001b[A\n",
      " 12%|███████████████▏                                                                                                         | 25/200 [00:00<00:00, 183.38it/s]\u001b[A\n",
      " 14%|████████████████▋                                                                                                       | 139/1000 [00:13<01:29,  9.66it/s]"
     ]
    },
    {
     "name": "stdout",
     "output_type": "stream",
     "text": [
      "DONE\n",
      "DONE\n",
      "Actor_loss 1.43436491\n",
      "Critic_loss 1.00000009\n",
      "Rewards mean 1.00000000 Rewards std 0.00000000 Rewards sum 26.00000000\n"
     ]
    },
    {
     "name": "stderr",
     "output_type": "stream",
     "text": [
      "\n",
      "  0%|                                                                                                                                   | 0/200 [00:00<?, ?it/s]\u001b[A\n",
      " 14%|████████████████▎                                                                                                        | 27/200 [00:00<00:00, 194.40it/s]\u001b[A\n",
      " 14%|████████████████▉                                                                                                       | 141/1000 [00:14<01:39,  8.65it/s]"
     ]
    },
    {
     "name": "stdout",
     "output_type": "stream",
     "text": [
      "DONE\n",
      "DONE\n",
      "Actor_loss 1.31836248\n",
      "Critic_loss 1.00000089\n",
      "Rewards mean 1.00000000 Rewards std 0.00000000 Rewards sum 28.00000000\n"
     ]
    },
    {
     "name": "stderr",
     "output_type": "stream",
     "text": [
      "\n",
      "  0%|                                                                                                                                   | 0/200 [00:00<?, ?it/s]\u001b[A\n",
      " 12%|███████████████▏                                                                                                         | 25/200 [00:00<00:00, 192.50it/s]\u001b[A\n",
      " 14%|█████████████████                                                                                                       | 142/1000 [00:14<01:42,  8.40it/s]"
     ]
    },
    {
     "name": "stdout",
     "output_type": "stream",
     "text": [
      "DONE\n",
      "DONE\n",
      "Actor_loss 1.30739689\n",
      "Critic_loss 1.00000104\n",
      "Rewards mean 1.00000000 Rewards std 0.00000000 Rewards sum 26.00000000\n"
     ]
    },
    {
     "name": "stderr",
     "output_type": "stream",
     "text": [
      "\n",
      "  0%|                                                                                                                                   | 0/200 [00:00<?, ?it/s]\u001b[A\n",
      " 10%|███████████▍                                                                                                             | 19/200 [00:00<00:01, 173.09it/s]\u001b[A\n",
      " 14%|█████████████████▏                                                                                                      | 143/1000 [00:14<01:41,  8.44it/s]"
     ]
    },
    {
     "name": "stdout",
     "output_type": "stream",
     "text": [
      "DONE\n",
      "DONE\n",
      "Actor_loss 1.31630095\n",
      "Critic_loss 1.00000092\n",
      "Rewards mean 1.00000000 Rewards std 0.00000000 Rewards sum 20.00000000\n"
     ]
    },
    {
     "name": "stderr",
     "output_type": "stream",
     "text": [
      "\n",
      "  8%|█████████                                                                                                                | 15/200 [00:00<00:00, 185.06it/s]\u001b[A\n",
      " 14%|█████████████████▏                                                                                                      | 143/1000 [00:14<01:41,  8.44it/s]"
     ]
    },
    {
     "name": "stdout",
     "output_type": "stream",
     "text": [
      "DONE\n",
      "DONE\n",
      "Actor_loss 1.27917518\n",
      "Critic_loss 1.00000123\n",
      "Rewards mean 1.00000000 Rewards std 0.00000000 Rewards sum 16.00000000\n"
     ]
    },
    {
     "name": "stderr",
     "output_type": "stream",
     "text": [
      "\n",
      "  4%|█████▍                                                                                                                    | 9/200 [00:00<00:01, 179.71it/s]\u001b[A\n",
      " 14%|█████████████████▍                                                                                                      | 145/1000 [00:14<01:26,  9.85it/s]"
     ]
    },
    {
     "name": "stdout",
     "output_type": "stream",
     "text": [
      "DONE\n",
      "DONE\n",
      "Actor_loss 0.92604529\n",
      "Critic_loss 1.00000330\n",
      "Rewards mean 1.00000000 Rewards std 0.00000000 Rewards sum 10.00000000\n"
     ]
    },
    {
     "name": "stderr",
     "output_type": "stream",
     "text": [
      "\n",
      "  8%|█████████▋                                                                                                               | 16/200 [00:00<00:00, 189.10it/s]\u001b[A\n",
      " 14%|█████████████████▍                                                                                                      | 145/1000 [00:14<01:26,  9.85it/s]"
     ]
    },
    {
     "name": "stdout",
     "output_type": "stream",
     "text": [
      "DONE\n",
      "DONE\n",
      "Actor_loss 1.25702496\n",
      "Critic_loss 1.00000128\n",
      "Rewards mean 1.00000000 Rewards std 0.00000000 Rewards sum 17.00000000\n"
     ]
    },
    {
     "name": "stderr",
     "output_type": "stream",
     "text": [
      "\n",
      "  8%|██████████▎                                                                                                              | 17/200 [00:00<00:00, 201.36it/s]\u001b[A\n",
      " 15%|█████████████████▋                                                                                                      | 147/1000 [00:14<01:23, 10.22it/s]"
     ]
    },
    {
     "name": "stdout",
     "output_type": "stream",
     "text": [
      "DONE\n",
      "DONE\n",
      "Actor_loss 1.36222195\n",
      "Critic_loss 1.00000061\n",
      "Rewards mean 1.00000000 Rewards std 0.00000000 Rewards sum 18.00000000\n"
     ]
    },
    {
     "name": "stderr",
     "output_type": "stream",
     "text": [
      "\n",
      "  6%|██████▋                                                                                                                  | 11/200 [00:00<00:01, 168.50it/s]\u001b[A\n",
      " 15%|█████████████████▋                                                                                                      | 147/1000 [00:14<01:23, 10.22it/s]"
     ]
    },
    {
     "name": "stdout",
     "output_type": "stream",
     "text": [
      "DONE\n",
      "DONE\n",
      "Actor_loss 1.11847125\n",
      "Critic_loss 1.00000227\n",
      "Rewards mean 1.00000000 Rewards std 0.00000000 Rewards sum 12.00000000\n"
     ]
    },
    {
     "name": "stderr",
     "output_type": "stream",
     "text": [
      "\n",
      "  6%|███████▊                                                                                                                 | 13/200 [00:00<00:00, 193.31it/s]\u001b[A\n",
      " 15%|█████████████████▉                                                                                                      | 149/1000 [00:14<01:16, 11.18it/s]"
     ]
    },
    {
     "name": "stdout",
     "output_type": "stream",
     "text": [
      "DONE\n",
      "DONE\n",
      "Actor_loss 1.17020005\n",
      "Critic_loss 1.00000186\n",
      "Rewards mean 1.00000000 Rewards std 0.00000000 Rewards sum 14.00000000\n"
     ]
    },
    {
     "name": "stderr",
     "output_type": "stream",
     "text": [
      "\n",
      "  7%|████████▍                                                                                                                | 14/200 [00:00<00:01, 178.43it/s]\u001b[A\n",
      " 15%|█████████████████▉                                                                                                      | 149/1000 [00:14<01:16, 11.18it/s]"
     ]
    },
    {
     "name": "stdout",
     "output_type": "stream",
     "text": [
      "DONE\n",
      "DONE\n",
      "Actor_loss 1.15261427\n",
      "Critic_loss 1.00000194\n",
      "Rewards mean 1.00000000 Rewards std 0.00000000 Rewards sum 15.00000000\n"
     ]
    },
    {
     "name": "stderr",
     "output_type": "stream",
     "text": [
      "\n",
      "  0%|                                                                                                                                   | 0/200 [00:00<?, ?it/s]\u001b[A\n",
      " 12%|█████████████▉                                                                                                           | 23/200 [00:00<00:01, 155.90it/s]\u001b[A\n",
      " 15%|██████████████████                                                                                                      | 151/1000 [00:15<01:23, 10.14it/s]"
     ]
    },
    {
     "name": "stdout",
     "output_type": "stream",
     "text": [
      "DONE\n",
      "DONE\n",
      "Actor_loss 1.24817658\n",
      "Critic_loss 1.00000126\n",
      "Rewards mean 1.00000000 Rewards std 0.00000000 Rewards sum 24.00000000\n"
     ]
    },
    {
     "name": "stderr",
     "output_type": "stream",
     "text": [
      "\n",
      "  6%|███████▎                                                                                                                 | 12/200 [00:00<00:01, 166.04it/s]\u001b[A\n",
      " 15%|██████████████████                                                                                                      | 151/1000 [00:15<01:23, 10.14it/s]"
     ]
    },
    {
     "name": "stdout",
     "output_type": "stream",
     "text": [
      "DONE\n",
      "DONE\n",
      "Actor_loss 1.27896466\n",
      "Critic_loss 1.00000120\n",
      "Rewards mean 1.00000000 Rewards std 0.00000000 Rewards sum 13.00000000\n"
     ]
    },
    {
     "name": "stderr",
     "output_type": "stream",
     "text": [
      "\n",
      "  6%|███████▎                                                                                                                 | 12/200 [00:00<00:01, 167.31it/s]\u001b[A\n",
      " 15%|██████████████████▎                                                                                                     | 153/1000 [00:15<01:18, 10.83it/s]"
     ]
    },
    {
     "name": "stdout",
     "output_type": "stream",
     "text": [
      "DONE\n",
      "DONE\n",
      "Actor_loss 1.63320441\n",
      "Critic_loss 0.99999834\n",
      "Rewards mean 1.00000000 Rewards std 0.00000000 Rewards sum 13.00000000\n"
     ]
    },
    {
     "name": "stderr",
     "output_type": "stream",
     "text": [
      "\n",
      "  8%|█████████▋                                                                                                               | 16/200 [00:00<00:01, 179.59it/s]\u001b[A\n",
      " 15%|██████████████████▎                                                                                                     | 153/1000 [00:15<01:18, 10.83it/s]"
     ]
    },
    {
     "name": "stdout",
     "output_type": "stream",
     "text": [
      "DONE\n",
      "DONE\n",
      "Actor_loss 1.25692930\n",
      "Critic_loss 1.00000128\n",
      "Rewards mean 1.00000000 Rewards std 0.00000000 Rewards sum 17.00000000\n"
     ]
    },
    {
     "name": "stderr",
     "output_type": "stream",
     "text": [
      "\n",
      "  7%|████████▍                                                                                                                | 14/200 [00:00<00:00, 189.51it/s]\u001b[A\n",
      " 16%|██████████████████▌                                                                                                     | 155/1000 [00:15<01:16, 11.03it/s]"
     ]
    },
    {
     "name": "stdout",
     "output_type": "stream",
     "text": [
      "DONE\n",
      "DONE\n",
      "Actor_loss 1.22848378\n",
      "Critic_loss 1.00000154\n",
      "Rewards mean 1.00000000 Rewards std 0.00000000 Rewards sum 15.00000000\n"
     ]
    },
    {
     "name": "stderr",
     "output_type": "stream",
     "text": [
      "\n",
      "  0%|                                                                                                                                   | 0/200 [00:00<?, ?it/s]\u001b[A\n",
      " 12%|██████████████▌                                                                                                          | 24/200 [00:00<00:00, 176.22it/s]\u001b[A\n",
      " 16%|██████████████████▌                                                                                                     | 155/1000 [00:15<01:16, 11.03it/s]"
     ]
    },
    {
     "name": "stdout",
     "output_type": "stream",
     "text": [
      "DONE\n",
      "DONE\n",
      "Actor_loss 1.41175045\n",
      "Critic_loss 1.00000026\n",
      "Rewards mean 1.00000000 Rewards std 0.00000000 Rewards sum 25.00000000\n"
     ]
    },
    {
     "name": "stderr",
     "output_type": "stream",
     "text": [
      "\n",
      "  6%|██████▋                                                                                                                  | 11/200 [00:00<00:01, 176.28it/s]\u001b[A\n",
      " 16%|██████████████████▊                                                                                                     | 157/1000 [00:15<01:20, 10.50it/s]"
     ]
    },
    {
     "name": "stdout",
     "output_type": "stream",
     "text": [
      "DONE\n",
      "DONE\n",
      "Actor_loss 1.21475977\n",
      "Critic_loss 1.00000165\n",
      "Rewards mean 1.00000000 Rewards std 0.00000000 Rewards sum 12.00000000\n"
     ]
    },
    {
     "name": "stderr",
     "output_type": "stream",
     "text": [
      "\n",
      " 10%|███████████▍                                                                                                             | 19/200 [00:00<00:00, 182.19it/s]\u001b[A\n",
      " 16%|██████████████████▊                                                                                                     | 157/1000 [00:15<01:20, 10.50it/s]"
     ]
    },
    {
     "name": "stdout",
     "output_type": "stream",
     "text": [
      "DONE\n",
      "DONE\n",
      "Actor_loss 1.26044255\n",
      "Critic_loss 1.00000122\n",
      "Rewards mean 1.00000000 Rewards std 0.00000000 Rewards sum 20.00000000\n"
     ]
    },
    {
     "name": "stderr",
     "output_type": "stream",
     "text": [
      "\n",
      "  5%|██████                                                                                                                   | 10/200 [00:00<00:01, 157.09it/s]\u001b[A\n",
      " 16%|███████████████████                                                                                                     | 159/1000 [00:15<01:18, 10.65it/s]"
     ]
    },
    {
     "name": "stdout",
     "output_type": "stream",
     "text": [
      "DONE\n",
      "DONE\n",
      "Actor_loss 1.03114501\n",
      "Critic_loss 1.00000272\n",
      "Rewards mean 1.00000000 Rewards std 0.00000000 Rewards sum 11.00000000\n"
     ]
    },
    {
     "name": "stderr",
     "output_type": "stream",
     "text": [
      "\n",
      "  6%|███████▊                                                                                                                 | 13/200 [00:00<00:01, 153.20it/s]\u001b[A\n",
      " 16%|███████████████████                                                                                                     | 159/1000 [00:15<01:18, 10.65it/s]"
     ]
    },
    {
     "name": "stdout",
     "output_type": "stream",
     "text": [
      "DONE\n",
      "DONE\n",
      "Actor_loss 1.16987538\n",
      "Critic_loss 1.00000187\n",
      "Rewards mean 1.00000000 Rewards std 0.00000000 Rewards sum 14.00000000\n"
     ]
    },
    {
     "name": "stderr",
     "output_type": "stream",
     "text": [
      "\n",
      "  0%|                                                                                                                                   | 0/200 [00:00<?, ?it/s]\u001b[A\n",
      " 18%|██████████████████████▍                                                                                                  | 37/200 [00:00<00:00, 206.43it/s]\u001b[A\n",
      " 16%|███████████████████▎                                                                                                    | 161/1000 [00:16<01:29,  9.34it/s]"
     ]
    },
    {
     "name": "stdout",
     "output_type": "stream",
     "text": [
      "DONE\n",
      "DONE\n",
      "Actor_loss 1.32688427\n",
      "Critic_loss 1.00000086\n",
      "Rewards mean 1.00000000 Rewards std 0.00000000 Rewards sum 38.00000000\n"
     ]
    },
    {
     "name": "stderr",
     "output_type": "stream",
     "text": [
      "\n",
      "  9%|██████████▉                                                                                                              | 18/200 [00:00<00:00, 202.13it/s]\u001b[A\n",
      " 16%|███████████████████▎                                                                                                    | 161/1000 [00:16<01:29,  9.34it/s]"
     ]
    },
    {
     "name": "stdout",
     "output_type": "stream",
     "text": [
      "DONE\n",
      "DONE\n",
      "Actor_loss 1.27895701\n",
      "Critic_loss 1.00000116\n",
      "Rewards mean 1.00000000 Rewards std 0.00000000 Rewards sum 19.00000000\n"
     ]
    },
    {
     "name": "stderr",
     "output_type": "stream",
     "text": [
      "\n",
      "  0%|                                                                                                                                   | 0/200 [00:00<?, ?it/s]\u001b[A\n",
      " 14%|█████████████████▌                                                                                                       | 29/200 [00:00<00:00, 211.99it/s]\u001b[A\n",
      " 16%|███████████████████▌                                                                                                    | 163/1000 [00:16<01:32,  9.04it/s]"
     ]
    },
    {
     "name": "stdout",
     "output_type": "stream",
     "text": [
      "DONE\n",
      "DONE\n",
      "Actor_loss 1.40123618\n",
      "Critic_loss 1.00000036\n",
      "Rewards mean 1.00000000 Rewards std 0.00000000 Rewards sum 30.00000000\n"
     ]
    },
    {
     "name": "stderr",
     "output_type": "stream",
     "text": [
      "\n",
      "  6%|███████▎                                                                                                                 | 12/200 [00:00<00:01, 186.78it/s]\u001b[A\n",
      " 16%|███████████████████▌                                                                                                    | 163/1000 [00:16<01:32,  9.04it/s]"
     ]
    },
    {
     "name": "stdout",
     "output_type": "stream",
     "text": [
      "DONE\n",
      "DONE\n",
      "Actor_loss 1.19031227\n",
      "Critic_loss 1.00000168\n",
      "Rewards mean 1.00000000 Rewards std 0.00000000 Rewards sum 13.00000000\n"
     ]
    },
    {
     "name": "stderr",
     "output_type": "stream",
     "text": [
      "\n",
      "  8%|█████████                                                                                                                | 15/200 [00:00<00:00, 199.00it/s]\u001b[A\n",
      " 16%|███████████████████▊                                                                                                    | 165/1000 [00:16<01:23, 10.00it/s]"
     ]
    },
    {
     "name": "stdout",
     "output_type": "stream",
     "text": [
      "DONE\n",
      "DONE\n",
      "Actor_loss 1.34989717\n",
      "Critic_loss 1.00000072\n",
      "Rewards mean 1.00000000 Rewards std 0.00000000 Rewards sum 16.00000000\n"
     ]
    },
    {
     "name": "stderr",
     "output_type": "stream",
     "text": [
      "\n",
      "  6%|███████▊                                                                                                                 | 13/200 [00:00<00:00, 190.29it/s]\u001b[A\n",
      " 16%|███████████████████▊                                                                                                    | 165/1000 [00:16<01:23, 10.00it/s]"
     ]
    },
    {
     "name": "stdout",
     "output_type": "stream",
     "text": [
      "DONE\n",
      "DONE\n",
      "Actor_loss 1.33352502\n",
      "Critic_loss 1.00000079\n",
      "Rewards mean 1.00000000 Rewards std 0.00000000 Rewards sum 14.00000000\n"
     ]
    },
    {
     "name": "stderr",
     "output_type": "stream",
     "text": [
      "\n",
      "  0%|                                                                                                                                   | 0/200 [00:00<?, ?it/s]\u001b[A\n",
      " 14%|████████████████▉                                                                                                        | 28/200 [00:00<00:00, 203.34it/s]\u001b[A\n",
      " 17%|████████████████████                                                                                                    | 167/1000 [00:16<01:25,  9.71it/s]"
     ]
    },
    {
     "name": "stdout",
     "output_type": "stream",
     "text": [
      "DONE\n",
      "DONE\n",
      "Actor_loss 1.30428796\n",
      "Critic_loss 1.00000097\n",
      "Rewards mean 1.00000000 Rewards std 0.00000000 Rewards sum 29.00000000\n"
     ]
    },
    {
     "name": "stderr",
     "output_type": "stream",
     "text": [
      "\n",
      "  6%|███████▊                                                                                                                 | 13/200 [00:00<00:01, 166.63it/s]\u001b[A\n",
      " 17%|████████████████████                                                                                                    | 167/1000 [00:16<01:25,  9.71it/s]"
     ]
    },
    {
     "name": "stdout",
     "output_type": "stream",
     "text": [
      "DONE\n",
      "DONE\n",
      "Actor_loss 1.33352300\n",
      "Critic_loss 1.00000090\n",
      "Rewards mean 1.00000000 Rewards std 0.00000000 Rewards sum 14.00000000\n"
     ]
    },
    {
     "name": "stderr",
     "output_type": "stream",
     "text": [
      "\n",
      "  5%|██████                                                                                                                   | 10/200 [00:00<00:01, 178.39it/s]\u001b[A\n",
      " 17%|████████████████████▎                                                                                                   | 169/1000 [00:16<01:18, 10.65it/s]"
     ]
    },
    {
     "name": "stdout",
     "output_type": "stream",
     "text": [
      "DONE\n",
      "DONE\n",
      "Actor_loss 1.13694052\n",
      "Critic_loss 1.00000212\n",
      "Rewards mean 1.00000000 Rewards std 0.00000000 Rewards sum 11.00000000\n"
     ]
    },
    {
     "name": "stderr",
     "output_type": "stream",
     "text": [
      "\n",
      "  7%|████████▍                                                                                                                | 14/200 [00:00<00:01, 182.79it/s]\u001b[A\n",
      " 17%|████████████████████▎                                                                                                   | 169/1000 [00:16<01:18, 10.65it/s]"
     ]
    },
    {
     "name": "stdout",
     "output_type": "stream",
     "text": [
      "DONE\n",
      "DONE\n",
      "Actor_loss 1.22813629\n",
      "Critic_loss 1.00000149\n",
      "Rewards mean 1.00000000 Rewards std 0.00000000 Rewards sum 15.00000000\n"
     ]
    },
    {
     "name": "stderr",
     "output_type": "stream",
     "text": [
      "\n",
      "  8%|█████████                                                                                                                | 15/200 [00:00<00:00, 193.21it/s]\u001b[A\n",
      " 17%|████████████████████▌                                                                                                   | 171/1000 [00:16<01:15, 11.05it/s]"
     ]
    },
    {
     "name": "stdout",
     "output_type": "stream",
     "text": [
      "DONE\n",
      "DONE\n",
      "Actor_loss 1.20774134\n",
      "Critic_loss 1.00000161\n",
      "Rewards mean 1.00000000 Rewards std 0.00000000 Rewards sum 16.00000000\n"
     ]
    },
    {
     "name": "stderr",
     "output_type": "stream",
     "text": [
      "\n",
      "  6%|██████▋                                                                                                                  | 11/200 [00:00<00:01, 174.39it/s]\u001b[A\n",
      " 17%|████████████████████▌                                                                                                   | 171/1000 [00:17<01:15, 11.05it/s]"
     ]
    },
    {
     "name": "stdout",
     "output_type": "stream",
     "text": [
      "DONE\n",
      "DONE\n",
      "Actor_loss 1.21418348\n",
      "Critic_loss 1.00000159\n",
      "Rewards mean 1.00000000 Rewards std 0.00000000 Rewards sum 12.00000000\n"
     ]
    },
    {
     "name": "stderr",
     "output_type": "stream",
     "text": [
      "\n",
      "  0%|                                                                                                                                   | 0/200 [00:00<?, ?it/s]\u001b[A\n",
      " 10%|████████████▋                                                                                                            | 21/200 [00:00<00:00, 195.45it/s]\u001b[A\n",
      " 17%|████████████████████▊                                                                                                   | 173/1000 [00:17<01:14, 11.05it/s]"
     ]
    },
    {
     "name": "stdout",
     "output_type": "stream",
     "text": [
      "DONE\n",
      "DONE\n",
      "Actor_loss 1.53264806\n",
      "Critic_loss 0.99999933\n",
      "Rewards mean 1.00000000 Rewards std 0.00000000 Rewards sum 22.00000000\n"
     ]
    },
    {
     "name": "stderr",
     "output_type": "stream",
     "text": [
      "\n",
      "  5%|██████                                                                                                                   | 10/200 [00:00<00:01, 161.36it/s]\u001b[A\n",
      " 17%|████████████████████▊                                                                                                   | 173/1000 [00:17<01:14, 11.05it/s]"
     ]
    },
    {
     "name": "stdout",
     "output_type": "stream",
     "text": [
      "DONE\n",
      "DONE\n",
      "Actor_loss 1.03024288\n",
      "Critic_loss 1.00000277\n",
      "Rewards mean 1.00000000 Rewards std 0.00000000 Rewards sum 11.00000000\n"
     ]
    },
    {
     "name": "stderr",
     "output_type": "stream",
     "text": [
      "\n",
      "  0%|                                                                                                                                   | 0/200 [00:00<?, ?it/s]\u001b[A\n",
      " 11%|█████████████▎                                                                                                           | 22/200 [00:00<00:00, 219.90it/s]\u001b[A"
     ]
    },
    {
     "name": "stdout",
     "output_type": "stream",
     "text": [
      "DONE\n"
     ]
    },
    {
     "name": "stderr",
     "output_type": "stream",
     "text": [
      " 20%|███████████████████████▌                                                                                                 | 39/200 [00:00<00:00, 203.02it/s]\n",
      " 18%|█████████████████████                                                                                                   | 175/1000 [00:17<01:25,  9.70it/s]"
     ]
    },
    {
     "name": "stdout",
     "output_type": "stream",
     "text": [
      "DONE\n",
      "Actor_loss 1.33355281\n",
      "Critic_loss 1.00000078\n",
      "Rewards mean 1.00000000 Rewards std 0.00000000 Rewards sum 40.00000000\n"
     ]
    },
    {
     "name": "stderr",
     "output_type": "stream",
     "text": [
      "\n",
      "  0%|                                                                                                                                   | 0/200 [00:00<?, ?it/s]\u001b[A\n",
      " 12%|███████████████▏                                                                                                         | 25/200 [00:00<00:00, 177.20it/s]\u001b[A\n",
      " 18%|█████████████████████                                                                                                   | 175/1000 [00:17<01:25,  9.70it/s]"
     ]
    },
    {
     "name": "stdout",
     "output_type": "stream",
     "text": [
      "DONE\n",
      "DONE\n",
      "Actor_loss 1.30730155\n",
      "Critic_loss 1.00000103\n",
      "Rewards mean 1.00000000 Rewards std 0.00000000 Rewards sum 26.00000000\n"
     ]
    },
    {
     "name": "stderr",
     "output_type": "stream",
     "text": [
      "\n",
      "  8%|█████████▋                                                                                                               | 16/200 [00:00<00:00, 186.42it/s]\u001b[A\n",
      " 18%|█████████████████████▏                                                                                                  | 177/1000 [00:17<01:28,  9.28it/s]"
     ]
    },
    {
     "name": "stdout",
     "output_type": "stream",
     "text": [
      "DONE\n",
      "DONE\n",
      "Actor_loss 1.12314095\n",
      "Critic_loss 1.00000202\n",
      "Rewards mean 1.00000000 Rewards std 0.00000000 Rewards sum 17.00000000\n"
     ]
    },
    {
     "name": "stderr",
     "output_type": "stream",
     "text": [
      "\n",
      "  9%|██████████▉                                                                                                              | 18/200 [00:00<00:00, 197.21it/s]\u001b[A\n",
      " 18%|█████████████████████▏                                                                                                  | 177/1000 [00:17<01:28,  9.28it/s]"
     ]
    },
    {
     "name": "stdout",
     "output_type": "stream",
     "text": [
      "DONE\n",
      "DONE\n",
      "Actor_loss 1.33815038\n",
      "Critic_loss 1.00000079\n",
      "Rewards mean 1.00000000 Rewards std 0.00000000 Rewards sum 19.00000000\n"
     ]
    },
    {
     "name": "stderr",
     "output_type": "stream",
     "text": [
      "\n",
      "  0%|                                                                                                                                   | 0/200 [00:00<?, ?it/s]\u001b[A"
     ]
    },
    {
     "name": "stdout",
     "output_type": "stream",
     "text": [
      "DONE\n"
     ]
    },
    {
     "name": "stderr",
     "output_type": "stream",
     "text": [
      " 10%|███████████▍                                                                                                             | 19/200 [00:00<00:00, 193.56it/s]\n",
      " 18%|█████████████████████▍                                                                                                  | 179/1000 [00:17<01:26,  9.47it/s]"
     ]
    },
    {
     "name": "stdout",
     "output_type": "stream",
     "text": [
      "DONE\n",
      "Actor_loss 1.31628181\n",
      "Critic_loss 1.00000101\n",
      "Rewards mean 1.00000000 Rewards std 0.00000000 Rewards sum 20.00000000\n"
     ]
    },
    {
     "name": "stderr",
     "output_type": "stream",
     "text": [
      "\n",
      "  8%|█████████                                                                                                                | 15/200 [00:00<00:00, 191.92it/s]\u001b[A\n",
      " 18%|█████████████████████▍                                                                                                  | 179/1000 [00:17<01:26,  9.47it/s]"
     ]
    },
    {
     "name": "stdout",
     "output_type": "stream",
     "text": [
      "DONE\n",
      "DONE\n",
      "Actor_loss 1.35002962\n",
      "Critic_loss 1.00000077\n",
      "Rewards mean 1.00000000 Rewards std 0.00000000 Rewards sum 16.00000000\n"
     ]
    },
    {
     "name": "stderr",
     "output_type": "stream",
     "text": [
      "\n",
      "  5%|██████                                                                                                                   | 10/200 [00:00<00:01, 187.34it/s]\u001b[A\n",
      " 18%|█████████████████████▋                                                                                                  | 181/1000 [00:18<01:18, 10.49it/s]"
     ]
    },
    {
     "name": "stdout",
     "output_type": "stream",
     "text": [
      "DONE\n",
      "DONE\n",
      "Actor_loss 1.24314391\n",
      "Critic_loss 1.00000148\n",
      "Rewards mean 1.00000000 Rewards std 0.00000000 Rewards sum 11.00000000\n"
     ]
    },
    {
     "name": "stderr",
     "output_type": "stream",
     "text": [
      "\n",
      "  8%|█████████                                                                                                                | 15/200 [00:00<00:00, 185.84it/s]\u001b[A\n",
      " 18%|█████████████████████▋                                                                                                  | 181/1000 [00:18<01:18, 10.49it/s]"
     ]
    },
    {
     "name": "stdout",
     "output_type": "stream",
     "text": [
      "DONE\n",
      "DONE\n",
      "Actor_loss 1.20743116\n",
      "Critic_loss 1.00000163\n",
      "Rewards mean 1.00000000 Rewards std 0.00000000 Rewards sum 16.00000000\n"
     ]
    },
    {
     "name": "stderr",
     "output_type": "stream",
     "text": [
      "\n",
      "  5%|██████                                                                                                                   | 10/200 [00:00<00:01, 162.19it/s]\u001b[A\n",
      " 18%|█████████████████████▉                                                                                                  | 183/1000 [00:18<01:13, 11.13it/s]"
     ]
    },
    {
     "name": "stdout",
     "output_type": "stream",
     "text": [
      "DONE\n",
      "DONE\n",
      "Actor_loss 1.35006054\n",
      "Critic_loss 1.00000074\n",
      "Rewards mean 1.00000000 Rewards std 0.00000000 Rewards sum 11.00000000\n"
     ]
    },
    {
     "name": "stderr",
     "output_type": "stream",
     "text": [
      "\n",
      "  6%|███████▊                                                                                                                 | 13/200 [00:00<00:01, 179.50it/s]\u001b[A\n",
      " 18%|█████████████████████▉                                                                                                  | 183/1000 [00:18<01:13, 11.13it/s]"
     ]
    },
    {
     "name": "stdout",
     "output_type": "stream",
     "text": [
      "DONE\n",
      "DONE\n",
      "Actor_loss 1.49809714\n",
      "Critic_loss 0.99999990\n",
      "Rewards mean 1.00000000 Rewards std 0.00000000 Rewards sum 14.00000000\n"
     ]
    },
    {
     "name": "stderr",
     "output_type": "stream",
     "text": [
      "\n",
      "  8%|██████████▎                                                                                                              | 17/200 [00:00<00:00, 203.64it/s]\u001b[A\n",
      " 18%|██████████████████████▏                                                                                                 | 185/1000 [00:18<01:11, 11.38it/s]"
     ]
    },
    {
     "name": "stdout",
     "output_type": "stream",
     "text": [
      "DONE\n",
      "DONE\n",
      "Actor_loss 1.36260622\n",
      "Critic_loss 1.00000067\n",
      "Rewards mean 1.00000000 Rewards std 0.00000000 Rewards sum 18.00000000\n"
     ]
    },
    {
     "name": "stderr",
     "output_type": "stream",
     "text": [
      "\n",
      "  8%|██████████▎                                                                                                              | 17/200 [00:00<00:00, 194.21it/s]\u001b[A\n",
      " 18%|██████████████████████▏                                                                                                 | 185/1000 [00:18<01:11, 11.38it/s]"
     ]
    },
    {
     "name": "stdout",
     "output_type": "stream",
     "text": [
      "DONE\n",
      "DONE\n",
      "Actor_loss 1.17391703\n",
      "Critic_loss 1.00000178\n",
      "Rewards mean 1.00000000 Rewards std 0.00000000 Rewards sum 18.00000000\n"
     ]
    },
    {
     "name": "stderr",
     "output_type": "stream",
     "text": [
      "\n",
      "  0%|                                                                                                                                   | 0/200 [00:00<?, ?it/s]\u001b[A\n",
      " 11%|█████████████▎                                                                                                           | 22/200 [00:00<00:00, 215.47it/s]\u001b[A\n",
      " 29%|███████████████████████████████████                                                                                      | 58/200 [00:00<00:00, 211.50it/s]\u001b[A\n",
      " 19%|██████████████████████▍                                                                                                 | 187/1000 [00:18<01:35,  8.51it/s]"
     ]
    },
    {
     "name": "stdout",
     "output_type": "stream",
     "text": [
      "DONE\n",
      "DONE\n",
      "Actor_loss 1.43838779\n",
      "Critic_loss 1.00000010\n",
      "Rewards mean 1.00000000 Rewards std 0.00000000 Rewards sum 59.00000000\n"
     ]
    },
    {
     "name": "stderr",
     "output_type": "stream",
     "text": [
      "\n",
      "  6%|██████▋                                                                                                                  | 11/200 [00:00<00:01, 176.83it/s]\u001b[A\n",
      " 19%|██████████████████████▍                                                                                                 | 187/1000 [00:18<01:35,  8.51it/s]"
     ]
    },
    {
     "name": "stdout",
     "output_type": "stream",
     "text": [
      "DONE\n",
      "DONE\n",
      "Actor_loss 1.11728082\n",
      "Critic_loss 1.00000221\n",
      "Rewards mean 1.00000000 Rewards std 0.00000000 Rewards sum 12.00000000\n"
     ]
    },
    {
     "name": "stderr",
     "output_type": "stream",
     "text": [
      "\n",
      "  9%|██████████▉                                                                                                              | 18/200 [00:00<00:00, 197.39it/s]\u001b[A\n",
      " 19%|██████████████████████▋                                                                                                 | 189/1000 [00:18<01:26,  9.35it/s]"
     ]
    },
    {
     "name": "stdout",
     "output_type": "stream",
     "text": [
      "DONE\n",
      "DONE\n",
      "Actor_loss 1.33812542\n",
      "Critic_loss 1.00000080\n",
      "Rewards mean 1.00000000 Rewards std 0.00000000 Rewards sum 19.00000000\n"
     ]
    },
    {
     "name": "stderr",
     "output_type": "stream",
     "text": [
      "\n",
      "  8%|█████████                                                                                                                | 15/200 [00:00<00:01, 181.60it/s]\u001b[A\n",
      " 19%|██████████████████████▋                                                                                                 | 189/1000 [00:18<01:26,  9.35it/s]"
     ]
    },
    {
     "name": "stdout",
     "output_type": "stream",
     "text": [
      "DONE\n",
      "DONE\n",
      "Actor_loss 1.56323822\n",
      "Critic_loss 0.99999898\n",
      "Rewards mean 1.00000000 Rewards std 0.00000000 Rewards sum 16.00000000\n"
     ]
    },
    {
     "name": "stderr",
     "output_type": "stream",
     "text": [
      "\n",
      "  0%|                                                                                                                                   | 0/200 [00:00<?, ?it/s]\u001b[A"
     ]
    },
    {
     "name": "stdout",
     "output_type": "stream",
     "text": [
      "DONE\n"
     ]
    },
    {
     "name": "stderr",
     "output_type": "stream",
     "text": [
      " 10%|███████████▍                                                                                                             | 19/200 [00:00<00:00, 182.41it/s]\n",
      " 19%|██████████████████████▉                                                                                                 | 191/1000 [00:19<01:24,  9.56it/s]"
     ]
    },
    {
     "name": "stdout",
     "output_type": "stream",
     "text": [
      "DONE\n",
      "Actor_loss 1.31628581\n",
      "Critic_loss 1.00000093\n",
      "Rewards mean 1.00000000 Rewards std 0.00000000 Rewards sum 20.00000000\n"
     ]
    },
    {
     "name": "stderr",
     "output_type": "stream",
     "text": [
      "\n",
      "  4%|█████▍                                                                                                                    | 9/200 [00:00<00:01, 169.70it/s]\u001b[A\n",
      " 19%|██████████████████████▉                                                                                                 | 191/1000 [00:19<01:24,  9.56it/s]"
     ]
    },
    {
     "name": "stdout",
     "output_type": "stream",
     "text": [
      "DONE\n",
      "DONE\n",
      "Actor_loss 1.63384267\n",
      "Critic_loss 0.99999834\n",
      "Rewards mean 1.00000000 Rewards std 0.00000000 Rewards sum 10.00000000\n"
     ]
    },
    {
     "name": "stderr",
     "output_type": "stream",
     "text": [
      "\n",
      "  0%|                                                                                                                                   | 0/200 [00:00<?, ?it/s]\u001b[A\n",
      " 12%|█████████████▉                                                                                                           | 23/200 [00:00<00:00, 186.52it/s]\u001b[A\n",
      " 19%|███████████████████████▏                                                                                                | 193/1000 [00:19<01:21,  9.84it/s]"
     ]
    },
    {
     "name": "stdout",
     "output_type": "stream",
     "text": [
      "DONE\n",
      "DONE\n",
      "Actor_loss 1.34063985\n",
      "Critic_loss 1.00000084\n",
      "Rewards mean 1.00000000 Rewards std 0.00000000 Rewards sum 24.00000000\n"
     ]
    },
    {
     "name": "stderr",
     "output_type": "stream",
     "text": [
      "\n",
      "  4%|█████▍                                                                                                                    | 9/200 [00:00<00:01, 148.62it/s]\u001b[A"
     ]
    },
    {
     "name": "stdout",
     "output_type": "stream",
     "text": [
      "DONE\n",
      "DONE\n"
     ]
    },
    {
     "name": "stderr",
     "output_type": "stream",
     "text": [
      "\n",
      " 19%|███████████████████████▏                                                                                                | 193/1000 [00:19<01:21,  9.84it/s]"
     ]
    },
    {
     "name": "stdout",
     "output_type": "stream",
     "text": [
      "Actor_loss 0.92387247\n",
      "Critic_loss 1.00000330\n",
      "Rewards mean 1.00000000 Rewards std 0.00000000 Rewards sum 10.00000000\n"
     ]
    },
    {
     "name": "stderr",
     "output_type": "stream",
     "text": [
      "\n",
      "  8%|██████████▎                                                                                                              | 17/200 [00:00<00:00, 184.71it/s]\u001b[A\n",
      " 20%|███████████████████████▍                                                                                                | 195/1000 [00:19<01:16, 10.47it/s]"
     ]
    },
    {
     "name": "stdout",
     "output_type": "stream",
     "text": [
      "DONE\n",
      "DONE\n",
      "Actor_loss 1.36246401\n",
      "Critic_loss 1.00000063\n",
      "Rewards mean 1.00000000 Rewards std 0.00000000 Rewards sum 18.00000000\n"
     ]
    },
    {
     "name": "stderr",
     "output_type": "stream",
     "text": [
      "\n",
      "  6%|███████▊                                                                                                                 | 13/200 [00:00<00:01, 147.68it/s]\u001b[A\n",
      " 20%|███████████████████████▍                                                                                                | 195/1000 [00:19<01:16, 10.47it/s]"
     ]
    },
    {
     "name": "stdout",
     "output_type": "stream",
     "text": [
      "DONE\n",
      "DONE\n",
      "Actor_loss 1.25157175\n",
      "Critic_loss 1.00000144\n",
      "Rewards mean 1.00000000 Rewards std 0.00000000 Rewards sum 14.00000000\n"
     ]
    },
    {
     "name": "stderr",
     "output_type": "stream",
     "text": [
      "\n",
      "  6%|██████▋                                                                                                                  | 11/200 [00:00<00:01, 184.57it/s]\u001b[A\n",
      " 20%|███████████████████████▋                                                                                                | 197/1000 [00:19<01:12, 11.03it/s]"
     ]
    },
    {
     "name": "stdout",
     "output_type": "stream",
     "text": [
      "DONE\n",
      "DONE\n",
      "Actor_loss 1.31118909\n",
      "Critic_loss 1.00000105\n",
      "Rewards mean 1.00000000 Rewards std 0.00000000 Rewards sum 12.00000000\n"
     ]
    },
    {
     "name": "stderr",
     "output_type": "stream",
     "text": [
      "\n",
      "  4%|█████▍                                                                                                                    | 9/200 [00:00<00:01, 143.55it/s]\u001b[A\n",
      " 20%|███████████████████████▋                                                                                                | 197/1000 [00:19<01:12, 11.03it/s]"
     ]
    },
    {
     "name": "stdout",
     "output_type": "stream",
     "text": [
      "DONE\n",
      "DONE\n",
      "Actor_loss 1.16043382\n",
      "Critic_loss 1.00000211\n",
      "Rewards mean 1.00000000 Rewards std 0.00000000 Rewards sum 10.00000000\n"
     ]
    },
    {
     "name": "stderr",
     "output_type": "stream",
     "text": [
      "\n",
      "  5%|██████                                                                                                                   | 10/200 [00:00<00:01, 170.68it/s]\u001b[A"
     ]
    },
    {
     "name": "stdout",
     "output_type": "stream",
     "text": [
      "DONE\n",
      "DONE\n"
     ]
    },
    {
     "name": "stderr",
     "output_type": "stream",
     "text": [
      "\n",
      " 20%|███████████████████████▉                                                                                                | 199/1000 [00:19<01:06, 12.00it/s]"
     ]
    },
    {
     "name": "stdout",
     "output_type": "stream",
     "text": [
      "Actor_loss 1.13657953\n",
      "Critic_loss 1.00000207\n",
      "Rewards mean 1.00000000 Rewards std 0.00000000 Rewards sum 11.00000000\n"
     ]
    },
    {
     "name": "stderr",
     "output_type": "stream",
     "text": [
      "\n",
      "  0%|                                                                                                                                   | 0/200 [00:00<?, ?it/s]\u001b[A\n",
      " 10%|███████████▍                                                                                                             | 19/200 [00:00<00:01, 163.68it/s]\u001b[A\n",
      " 20%|███████████████████████▉                                                                                                | 199/1000 [00:19<01:06, 12.00it/s]"
     ]
    },
    {
     "name": "stdout",
     "output_type": "stream",
     "text": [
      "DONE\n",
      "DONE\n",
      "Actor_loss 1.31628271\n",
      "Critic_loss 1.00000088\n",
      "Rewards mean 1.00000000 Rewards std 0.00000000 Rewards sum 20.00000000\n"
     ]
    },
    {
     "name": "stderr",
     "output_type": "stream",
     "text": [
      "\n",
      "  5%|██████                                                                                                                   | 10/200 [00:00<00:01, 189.23it/s]\u001b[A\n",
      " 20%|████████████████████████                                                                                                | 201/1000 [00:19<01:08, 11.67it/s]"
     ]
    },
    {
     "name": "stdout",
     "output_type": "stream",
     "text": [
      "DONE\n",
      "DONE\n",
      "Actor_loss 1.02962748\n",
      "Critic_loss 1.00000278\n",
      "Rewards mean 1.00000000 Rewards std 0.00000000 Rewards sum 11.00000000\n"
     ]
    },
    {
     "name": "stderr",
     "output_type": "stream",
     "text": [
      "\n",
      "  6%|██████▋                                                                                                                  | 11/200 [00:00<00:01, 170.56it/s]\u001b[A\n",
      " 20%|████████████████████████                                                                                                | 201/1000 [00:19<01:08, 11.67it/s]"
     ]
    },
    {
     "name": "stdout",
     "output_type": "stream",
     "text": [
      "DONE\n",
      "DONE\n",
      "Actor_loss 1.60230757\n",
      "Critic_loss 0.99999866\n",
      "Rewards mean 1.00000000 Rewards std 0.00000000 Rewards sum 12.00000000\n"
     ]
    },
    {
     "name": "stderr",
     "output_type": "stream",
     "text": [
      "\n",
      "  0%|                                                                                                                                   | 0/200 [00:00<?, ?it/s]\u001b[A\n",
      " 21%|█████████████████████████▍                                                                                               | 42/200 [00:00<00:00, 207.77it/s]\u001b[A\n",
      " 20%|████████████████████████▎                                                                                               | 203/1000 [00:20<01:21,  9.82it/s]"
     ]
    },
    {
     "name": "stdout",
     "output_type": "stream",
     "text": [
      "DONE\n",
      "DONE\n",
      "Actor_loss 1.40579713\n",
      "Critic_loss 1.00000040\n",
      "Rewards mean 1.00000000 Rewards std 0.00000000 Rewards sum 43.00000000\n"
     ]
    },
    {
     "name": "stderr",
     "output_type": "stream",
     "text": [
      "\n",
      "  8%|█████████▋                                                                                                               | 16/200 [00:00<00:00, 198.13it/s]\u001b[A\n",
      " 20%|████████████████████████▎                                                                                               | 203/1000 [00:20<01:21,  9.82it/s]"
     ]
    },
    {
     "name": "stdout",
     "output_type": "stream",
     "text": [
      "DONE\n",
      "DONE\n",
      "Actor_loss 1.45634038\n",
      "Critic_loss 0.99999978\n",
      "Rewards mean 1.00000000 Rewards std 0.00000000 Rewards sum 17.00000000\n"
     ]
    },
    {
     "name": "stderr",
     "output_type": "stream",
     "text": [
      "\n",
      "  4%|█████▍                                                                                                                    | 9/200 [00:00<00:01, 189.49it/s]\u001b[A\n",
      " 20%|████████████████████████▌                                                                                               | 205/1000 [00:20<01:13, 10.85it/s]"
     ]
    },
    {
     "name": "stdout",
     "output_type": "stream",
     "text": [
      "DONE\n",
      "DONE\n",
      "Actor_loss 0.92394299\n",
      "Critic_loss 1.00000336\n",
      "Rewards mean 1.00000000 Rewards std 0.00000000 Rewards sum 10.00000000\n"
     ]
    },
    {
     "name": "stderr",
     "output_type": "stream",
     "text": [
      "\n",
      "  0%|                                                                                                                                   | 0/200 [00:00<?, ?it/s]\u001b[A"
     ]
    },
    {
     "name": "stdout",
     "output_type": "stream",
     "text": [
      "DONE\n"
     ]
    },
    {
     "name": "stderr",
     "output_type": "stream",
     "text": [
      "  5%|██████                                                                                                                   | 10/200 [00:00<00:01, 173.17it/s]\n",
      " 20%|████████████████████████▌                                                                                               | 205/1000 [00:20<01:13, 10.85it/s]"
     ]
    },
    {
     "name": "stdout",
     "output_type": "stream",
     "text": [
      "DONE\n",
      "Actor_loss 1.13668296\n",
      "Critic_loss 1.00000221\n",
      "Rewards mean 1.00000000 Rewards std 0.00000000 Rewards sum 11.00000000\n"
     ]
    },
    {
     "name": "stderr",
     "output_type": "stream",
     "text": [
      "\n",
      "  5%|██████                                                                                                                   | 10/200 [00:00<00:01, 180.63it/s]\u001b[A\n",
      " 21%|████████████████████████▊                                                                                               | 207/1000 [00:20<01:05, 12.03it/s]"
     ]
    },
    {
     "name": "stdout",
     "output_type": "stream",
     "text": [
      "DONE\n",
      "DONE\n",
      "Actor_loss 1.24326617\n",
      "Critic_loss 1.00000150\n",
      "Rewards mean 1.00000000 Rewards std 0.00000000 Rewards sum 11.00000000\n"
     ]
    },
    {
     "name": "stderr",
     "output_type": "stream",
     "text": [
      "\n",
      "  5%|██████                                                                                                                   | 10/200 [00:00<00:00, 192.56it/s]\u001b[A\n",
      " 21%|████████████████████████▊                                                                                               | 207/1000 [00:20<01:05, 12.03it/s]"
     ]
    },
    {
     "name": "stdout",
     "output_type": "stream",
     "text": [
      "DONE\n",
      "DONE\n",
      "Actor_loss 1.24326876\n",
      "Critic_loss 1.00000160\n",
      "Rewards mean 1.00000000 Rewards std 0.00000000 Rewards sum 11.00000000\n"
     ]
    },
    {
     "name": "stderr",
     "output_type": "stream",
     "text": [
      "\n",
      "  0%|                                                                                                                                   | 0/200 [00:00<?, ?it/s]\u001b[A\n",
      " 11%|█████████████▎                                                                                                           | 22/200 [00:00<00:01, 173.04it/s]\u001b[A\n",
      " 21%|█████████████████████████                                                                                               | 209/1000 [00:20<01:08, 11.49it/s]"
     ]
    },
    {
     "name": "stdout",
     "output_type": "stream",
     "text": [
      "DONE\n",
      "DONE\n",
      "Actor_loss 1.31117478\n",
      "Critic_loss 1.00000099\n",
      "Rewards mean 1.00000000 Rewards std 0.00000000 Rewards sum 23.00000000\n"
     ]
    },
    {
     "name": "stderr",
     "output_type": "stream",
     "text": [
      "\n",
      "  4%|████▉                                                                                                                     | 8/200 [00:00<00:01, 153.37it/s]\u001b[A\n",
      " 21%|█████████████████████████                                                                                               | 209/1000 [00:20<01:08, 11.49it/s]"
     ]
    },
    {
     "name": "stdout",
     "output_type": "stream",
     "text": [
      "DONE\n",
      "DONE\n",
      "Actor_loss 0.92259829\n",
      "Critic_loss 1.00000361\n",
      "Rewards mean 1.00000000 Rewards std 0.00000000 Rewards sum 9.00000000\n"
     ]
    },
    {
     "name": "stderr",
     "output_type": "stream",
     "text": [
      "\n",
      "  0%|                                                                                                                                   | 0/200 [00:00<?, ?it/s]\u001b[A\n",
      " 10%|████████████▋                                                                                                            | 21/200 [00:00<00:00, 206.60it/s]\u001b[A"
     ]
    },
    {
     "name": "stdout",
     "output_type": "stream",
     "text": [
      "DONE\n"
     ]
    },
    {
     "name": "stderr",
     "output_type": "stream",
     "text": [
      " 13%|███████████████▋                                                                                                         | 26/200 [00:00<00:00, 191.47it/s]\n",
      " 21%|█████████████████████████▎                                                                                              | 211/1000 [00:20<01:11, 11.00it/s]"
     ]
    },
    {
     "name": "stdout",
     "output_type": "stream",
     "text": [
      "DONE\n",
      "Actor_loss 1.33359941\n",
      "Critic_loss 1.00000079\n",
      "Rewards mean 1.00000000 Rewards std 0.00000000 Rewards sum 27.00000000\n"
     ]
    },
    {
     "name": "stderr",
     "output_type": "stream",
     "text": [
      "\n",
      "  7%|████████▍                                                                                                                | 14/200 [00:00<00:01, 181.33it/s]\u001b[A\n",
      " 21%|█████████████████████████▎                                                                                              | 211/1000 [00:20<01:11, 11.00it/s]"
     ]
    },
    {
     "name": "stdout",
     "output_type": "stream",
     "text": [
      "DONE\n",
      "DONE\n",
      "Actor_loss 1.60954431\n",
      "Critic_loss 0.99999851\n",
      "Rewards mean 1.00000000 Rewards std 0.00000000 Rewards sum 15.00000000\n"
     ]
    },
    {
     "name": "stderr",
     "output_type": "stream",
     "text": [
      "\n",
      "  0%|                                                                                                                                   | 0/200 [00:00<?, ?it/s]\u001b[A\n",
      " 12%|██████████████▌                                                                                                          | 24/200 [00:00<00:00, 190.08it/s]\u001b[A\n",
      " 21%|█████████████████████████▌                                                                                              | 213/1000 [00:21<01:15, 10.42it/s]"
     ]
    },
    {
     "name": "stdout",
     "output_type": "stream",
     "text": [
      "DONE\n",
      "DONE\n",
      "Actor_loss 1.41225214\n",
      "Critic_loss 1.00000033\n",
      "Rewards mean 1.00000000 Rewards std 0.00000000 Rewards sum 25.00000000\n"
     ]
    },
    {
     "name": "stderr",
     "output_type": "stream",
     "text": [
      "\n",
      "  0%|                                                                                                                                   | 0/200 [00:00<?, ?it/s]\u001b[A\n",
      " 16%|███████████████████▎                                                                                                     | 32/200 [00:00<00:00, 199.22it/s]\u001b[A\n",
      " 21%|█████████████████████████▌                                                                                              | 213/1000 [00:21<01:15, 10.42it/s]"
     ]
    },
    {
     "name": "stdout",
     "output_type": "stream",
     "text": [
      "DONE\n",
      "DONE\n",
      "Actor_loss 1.42320352\n",
      "Critic_loss 1.00000057\n",
      "Rewards mean 1.00000000 Rewards std 0.00000000 Rewards sum 33.00000000\n"
     ]
    },
    {
     "name": "stderr",
     "output_type": "stream",
     "text": [
      "\n",
      " 10%|████████████                                                                                                             | 20/200 [00:00<00:00, 209.34it/s]\u001b[A\n",
      " 22%|█████████████████████████▊                                                                                              | 215/1000 [00:21<01:24,  9.33it/s]"
     ]
    },
    {
     "name": "stdout",
     "output_type": "stream",
     "text": [
      "DONE\n",
      "DONE\n",
      "Actor_loss 1.56254998\n",
      "Critic_loss 0.99999895\n",
      "Rewards mean 1.00000000 Rewards std 0.00000000 Rewards sum 21.00000000\n"
     ]
    },
    {
     "name": "stderr",
     "output_type": "stream",
     "text": [
      "\n",
      "  4%|█████▍                                                                                                                    | 9/200 [00:00<00:01, 189.34it/s]\u001b[A\n",
      " 22%|█████████████████████████▊                                                                                              | 215/1000 [00:21<01:24,  9.33it/s]"
     ]
    },
    {
     "name": "stdout",
     "output_type": "stream",
     "text": [
      "DONE\n",
      "DONE\n",
      "Actor_loss 1.04275070\n",
      "Critic_loss 1.00000287\n",
      "Rewards mean 1.00000000 Rewards std 0.00000000 Rewards sum 10.00000000\n"
     ]
    },
    {
     "name": "stderr",
     "output_type": "stream",
     "text": [
      "\n",
      " 10%|███████████▍                                                                                                             | 19/200 [00:00<00:00, 189.60it/s]\u001b[A\n",
      " 22%|██████████████████████████                                                                                              | 217/1000 [00:21<01:17, 10.10it/s]"
     ]
    },
    {
     "name": "stdout",
     "output_type": "stream",
     "text": [
      "DONE\n",
      "DONE\n",
      "Actor_loss 1.20424871\n",
      "Critic_loss 1.00000161\n",
      "Rewards mean 1.00000000 Rewards std 0.00000000 Rewards sum 20.00000000\n"
     ]
    },
    {
     "name": "stderr",
     "output_type": "stream",
     "text": [
      "\n",
      "  0%|                                                                                                                                   | 0/200 [00:00<?, ?it/s]\u001b[A"
     ]
    },
    {
     "name": "stdout",
     "output_type": "stream",
     "text": [
      "DONE\n"
     ]
    },
    {
     "name": "stderr",
     "output_type": "stream",
     "text": [
      "  7%|████████▍                                                                                                                | 14/200 [00:00<00:01, 160.77it/s]\n",
      " 22%|██████████████████████████                                                                                              | 217/1000 [00:21<01:17, 10.10it/s]"
     ]
    },
    {
     "name": "stdout",
     "output_type": "stream",
     "text": [
      "DONE\n",
      "Actor_loss 1.15212905\n",
      "Critic_loss 1.00000201\n",
      "Rewards mean 1.00000000 Rewards std 0.00000000 Rewards sum 15.00000000\n"
     ]
    },
    {
     "name": "stderr",
     "output_type": "stream",
     "text": [
      "\n",
      "  4%|█████▍                                                                                                                    | 9/200 [00:00<00:01, 143.34it/s]\u001b[A\n",
      " 22%|██████████████████████████▎                                                                                             | 219/1000 [00:21<01:13, 10.68it/s]"
     ]
    },
    {
     "name": "stdout",
     "output_type": "stream",
     "text": [
      "DONE\n",
      "DONE\n",
      "Actor_loss 1.16042340\n",
      "Critic_loss 1.00000217\n",
      "Rewards mean 1.00000000 Rewards std 0.00000000 Rewards sum 10.00000000\n"
     ]
    },
    {
     "name": "stderr",
     "output_type": "stream",
     "text": [
      "\n",
      "  6%|███████▊                                                                                                                 | 13/200 [00:00<00:01, 185.77it/s]\u001b[A\n",
      " 22%|██████████████████████████▎                                                                                             | 219/1000 [00:21<01:13, 10.68it/s]"
     ]
    },
    {
     "name": "stdout",
     "output_type": "stream",
     "text": [
      "DONE\n",
      "DONE\n",
      "Actor_loss 1.33355811\n",
      "Critic_loss 1.00000084\n",
      "Rewards mean 1.00000000 Rewards std 0.00000000 Rewards sum 14.00000000\n"
     ]
    },
    {
     "name": "stderr",
     "output_type": "stream",
     "text": [
      "\n",
      "  4%|█████▍                                                                                                                    | 9/200 [00:00<00:01, 174.10it/s]\u001b[A"
     ]
    },
    {
     "name": "stdout",
     "output_type": "stream",
     "text": [
      "DONE\n",
      "DONE\n"
     ]
    },
    {
     "name": "stderr",
     "output_type": "stream",
     "text": [
      "\n",
      " 22%|██████████████████████████▌                                                                                             | 221/1000 [00:21<01:06, 11.73it/s]"
     ]
    },
    {
     "name": "stdout",
     "output_type": "stream",
     "text": [
      "Actor_loss 1.04164504\n",
      "Critic_loss 1.00000286\n",
      "Rewards mean 1.00000000 Rewards std 0.00000000 Rewards sum 10.00000000\n"
     ]
    },
    {
     "name": "stderr",
     "output_type": "stream",
     "text": [
      "\n",
      "  0%|                                                                                                                                   | 0/200 [00:00<?, ?it/s]\u001b[A\n",
      " 10%|████████████                                                                                                             | 20/200 [00:00<00:00, 198.81it/s]\u001b[A"
     ]
    },
    {
     "name": "stdout",
     "output_type": "stream",
     "text": [
      "DONE\n"
     ]
    },
    {
     "name": "stderr",
     "output_type": "stream",
     "text": [
      " 13%|███████████████▋                                                                                                         | 26/200 [00:00<00:00, 190.79it/s]\n",
      " 22%|██████████████████████████▌                                                                                             | 221/1000 [00:21<01:06, 11.73it/s]"
     ]
    },
    {
     "name": "stdout",
     "output_type": "stream",
     "text": [
      "DONE\n",
      "Actor_loss 1.37461167\n",
      "Critic_loss 1.00000060\n",
      "Rewards mean 1.00000000 Rewards std 0.00000000 Rewards sum 27.00000000\n"
     ]
    },
    {
     "name": "stderr",
     "output_type": "stream",
     "text": [
      "\n",
      "  6%|███████▎                                                                                                                 | 12/200 [00:00<00:00, 193.42it/s]\u001b[A\n",
      " 22%|██████████████████████████▊                                                                                             | 223/1000 [00:21<01:10, 10.95it/s]"
     ]
    },
    {
     "name": "stdout",
     "output_type": "stream",
     "text": [
      "DONE\n",
      "DONE\n",
      "Actor_loss 1.18994907\n",
      "Critic_loss 1.00000178\n",
      "Rewards mean 1.00000000 Rewards std 0.00000000 Rewards sum 13.00000000\n"
     ]
    },
    {
     "name": "stderr",
     "output_type": "stream",
     "text": [
      "\n",
      "  0%|                                                                                                                                   | 0/200 [00:00<?, ?it/s]\u001b[A\n",
      " 15%|██████████████████▏                                                                                                      | 30/200 [00:00<00:00, 191.27it/s]\u001b[A\n",
      " 22%|██████████████████████████▊                                                                                             | 223/1000 [00:22<01:10, 10.95it/s]"
     ]
    },
    {
     "name": "stdout",
     "output_type": "stream",
     "text": [
      "DONE\n",
      "DONE\n",
      "Actor_loss 1.45660531\n",
      "Critic_loss 1.00000013\n",
      "Rewards mean 1.00000000 Rewards std 0.00000000 Rewards sum 31.00000000\n"
     ]
    },
    {
     "name": "stderr",
     "output_type": "stream",
     "text": [
      "\n",
      "  4%|████▉                                                                                                                     | 8/200 [00:00<00:01, 165.69it/s]\u001b[A\n",
      " 22%|███████████████████████████                                                                                             | 225/1000 [00:22<01:14, 10.40it/s]"
     ]
    },
    {
     "name": "stdout",
     "output_type": "stream",
     "text": [
      "DONE\n",
      "DONE\n",
      "Actor_loss 1.19012816\n",
      "Critic_loss 1.00000201\n",
      "Rewards mean 1.00000000 Rewards std 0.00000000 Rewards sum 9.00000000\n"
     ]
    },
    {
     "name": "stderr",
     "output_type": "stream",
     "text": [
      "\n",
      "  6%|███████▊                                                                                                                 | 13/200 [00:00<00:00, 187.48it/s]\u001b[A\n",
      " 22%|███████████████████████████                                                                                             | 225/1000 [00:22<01:14, 10.40it/s]"
     ]
    },
    {
     "name": "stdout",
     "output_type": "stream",
     "text": [
      "DONE\n",
      "DONE\n",
      "Actor_loss 1.33354566\n",
      "Critic_loss 1.00000085\n",
      "Rewards mean 1.00000000 Rewards std 0.00000000 Rewards sum 14.00000000\n"
     ]
    },
    {
     "name": "stderr",
     "output_type": "stream",
     "text": [
      "\n",
      "  0%|                                                                                                                                   | 0/200 [00:00<?, ?it/s]\u001b[A\n",
      " 11%|█████████████▎                                                                                                           | 22/200 [00:00<00:00, 190.81it/s]\u001b[A"
     ]
    },
    {
     "name": "stdout",
     "output_type": "stream",
     "text": [
      "DONE\n",
      "DONE\n"
     ]
    },
    {
     "name": "stderr",
     "output_type": "stream",
     "text": [
      "\n",
      " 23%|███████████████████████████▏                                                                                            | 227/1000 [00:22<01:14, 10.34it/s]"
     ]
    },
    {
     "name": "stdout",
     "output_type": "stream",
     "text": [
      "Actor_loss 1.40804859\n",
      "Critic_loss 1.00000029\n",
      "Rewards mean 1.00000000 Rewards std 0.00000000 Rewards sum 23.00000000\n"
     ]
    },
    {
     "name": "stderr",
     "output_type": "stream",
     "text": [
      "\n",
      " 10%|███████████▍                                                                                                             | 19/200 [00:00<00:00, 194.40it/s]\u001b[A\n",
      " 23%|███████████████████████████▏                                                                                            | 227/1000 [00:22<01:14, 10.34it/s]"
     ]
    },
    {
     "name": "stdout",
     "output_type": "stream",
     "text": [
      "DONE\n",
      "DONE\n",
      "Actor_loss 1.42830460\n",
      "Critic_loss 1.00000010\n",
      "Rewards mean 1.00000000 Rewards std 0.00000000 Rewards sum 20.00000000\n"
     ]
    },
    {
     "name": "stderr",
     "output_type": "stream",
     "text": [
      "\n",
      "  6%|███████▊                                                                                                                 | 13/200 [00:00<00:01, 186.01it/s]\u001b[A\n",
      " 23%|███████████████████████████▍                                                                                            | 229/1000 [00:22<01:12, 10.57it/s]"
     ]
    },
    {
     "name": "stdout",
     "output_type": "stream",
     "text": [
      "DONE\n",
      "DONE\n",
      "Actor_loss 1.16986164\n",
      "Critic_loss 1.00000192\n",
      "Rewards mean 1.00000000 Rewards std 0.00000000 Rewards sum 14.00000000\n"
     ]
    },
    {
     "name": "stderr",
     "output_type": "stream",
     "text": [
      "\n",
      "  4%|████▉                                                                                                                     | 8/200 [00:00<00:01, 159.51it/s]\u001b[A\n",
      " 23%|███████████████████████████▍                                                                                            | 229/1000 [00:22<01:12, 10.57it/s]"
     ]
    },
    {
     "name": "stdout",
     "output_type": "stream",
     "text": [
      "DONE\n",
      "DONE\n",
      "Actor_loss 0.92408576\n",
      "Critic_loss 1.00000350\n",
      "Rewards mean 1.00000000 Rewards std 0.00000000 Rewards sum 9.00000000\n"
     ]
    },
    {
     "name": "stderr",
     "output_type": "stream",
     "text": [
      "\n",
      "  8%|█████████▋                                                                                                               | 16/200 [00:00<00:00, 188.21it/s]\u001b[A\n",
      " 23%|███████████████████████████▋                                                                                            | 231/1000 [00:22<01:07, 11.34it/s]"
     ]
    },
    {
     "name": "stdout",
     "output_type": "stream",
     "text": [
      "DONE\n",
      "DONE\n",
      "Actor_loss 1.32329612\n",
      "Critic_loss 1.00000086\n",
      "Rewards mean 1.00000000 Rewards std 0.00000000 Rewards sum 17.00000000\n"
     ]
    },
    {
     "name": "stderr",
     "output_type": "stream",
     "text": [
      "\n",
      "  0%|                                                                                                                                   | 0/200 [00:00<?, ?it/s]\u001b[A\n",
      " 12%|█████████████▉                                                                                                           | 23/200 [00:00<00:00, 208.86it/s]\u001b[A\n",
      " 23%|███████████████████████████▋                                                                                            | 231/1000 [00:22<01:07, 11.34it/s]"
     ]
    },
    {
     "name": "stdout",
     "output_type": "stream",
     "text": [
      "DONE\n",
      "DONE\n",
      "Actor_loss 1.38694286\n",
      "Critic_loss 1.00000044\n",
      "Rewards mean 1.00000000 Rewards std 0.00000000 Rewards sum 24.00000000\n"
     ]
    },
    {
     "name": "stderr",
     "output_type": "stream",
     "text": [
      "\n",
      "  0%|                                                                                                                                   | 0/200 [00:00<?, ?it/s]\u001b[A\n",
      " 14%|█████████████████▌                                                                                                       | 29/200 [00:00<00:00, 193.34it/s]\u001b[A\n",
      " 23%|███████████████████████████▉                                                                                            | 233/1000 [00:22<01:18,  9.73it/s]"
     ]
    },
    {
     "name": "stdout",
     "output_type": "stream",
     "text": [
      "DONE\n",
      "DONE\n",
      "Actor_loss 1.51118929\n",
      "Critic_loss 0.99999925\n",
      "Rewards mean 1.00000000 Rewards std 0.00000000 Rewards sum 30.00000000\n"
     ]
    },
    {
     "name": "stderr",
     "output_type": "stream",
     "text": [
      "\n",
      "  5%|██████                                                                                                                   | 10/200 [00:00<00:01, 159.17it/s]\u001b[A\n",
      " 23%|███████████████████████████▉                                                                                            | 233/1000 [00:23<01:18,  9.73it/s]"
     ]
    },
    {
     "name": "stdout",
     "output_type": "stream",
     "text": [
      "DONE\n",
      "DONE\n",
      "Actor_loss 1.24364548\n",
      "Critic_loss 1.00000153\n",
      "Rewards mean 1.00000000 Rewards std 0.00000000 Rewards sum 11.00000000\n"
     ]
    },
    {
     "name": "stderr",
     "output_type": "stream",
     "text": [
      "\n",
      "  6%|██████▋                                                                                                                  | 11/200 [00:00<00:01, 180.92it/s]\u001b[A\n",
      " 24%|████████████████████████████▏                                                                                           | 235/1000 [00:23<01:10, 10.85it/s]"
     ]
    },
    {
     "name": "stdout",
     "output_type": "stream",
     "text": [
      "DONE\n",
      "DONE\n",
      "Actor_loss 1.11799112\n",
      "Critic_loss 1.00000231\n",
      "Rewards mean 1.00000000 Rewards std 0.00000000 Rewards sum 12.00000000\n"
     ]
    },
    {
     "name": "stderr",
     "output_type": "stream",
     "text": [
      "\n",
      "  6%|███████▎                                                                                                                 | 12/200 [00:00<00:00, 196.82it/s]\u001b[A\n",
      " 24%|████████████████████████████▏                                                                                           | 235/1000 [00:23<01:10, 10.85it/s]"
     ]
    },
    {
     "name": "stdout",
     "output_type": "stream",
     "text": [
      "DONE\n",
      "DONE\n",
      "Actor_loss 1.27897366\n",
      "Critic_loss 1.00000127\n",
      "Rewards mean 1.00000000 Rewards std 0.00000000 Rewards sum 13.00000000\n"
     ]
    },
    {
     "name": "stderr",
     "output_type": "stream",
     "text": [
      "\n",
      " 10%|████████████                                                                                                             | 20/200 [00:00<00:00, 205.66it/s]\u001b[A\n",
      " 24%|████████████████████████████▍                                                                                           | 237/1000 [00:23<01:08, 11.13it/s]"
     ]
    },
    {
     "name": "stdout",
     "output_type": "stream",
     "text": [
      "DONE\n",
      "DONE\n",
      "Actor_loss 1.29670083\n",
      "Critic_loss 1.00000111\n",
      "Rewards mean 1.00000000 Rewards std 0.00000000 Rewards sum 21.00000000\n"
     ]
    },
    {
     "name": "stderr",
     "output_type": "stream",
     "text": [
      "\n",
      "  6%|███████▊                                                                                                                 | 13/200 [00:00<00:01, 185.36it/s]\u001b[A\n",
      " 24%|████████████████████████████▍                                                                                           | 237/1000 [00:23<01:08, 11.13it/s]"
     ]
    },
    {
     "name": "stdout",
     "output_type": "stream",
     "text": [
      "DONE\n",
      "DONE\n",
      "Actor_loss 1.08790279\n",
      "Critic_loss 1.00000237\n",
      "Rewards mean 1.00000000 Rewards std 0.00000000 Rewards sum 14.00000000\n"
     ]
    },
    {
     "name": "stderr",
     "output_type": "stream",
     "text": [
      "\n",
      "  6%|███████▊                                                                                                                 | 13/200 [00:00<00:01, 180.66it/s]\u001b[A\n",
      " 24%|████████████████████████████▋                                                                                           | 239/1000 [00:23<01:05, 11.65it/s]"
     ]
    },
    {
     "name": "stdout",
     "output_type": "stream",
     "text": [
      "DONE\n",
      "DONE\n",
      "Actor_loss 1.33352858\n",
      "Critic_loss 1.00000088\n",
      "Rewards mean 1.00000000 Rewards std 0.00000000 Rewards sum 14.00000000\n"
     ]
    },
    {
     "name": "stderr",
     "output_type": "stream",
     "text": [
      "\n",
      "  6%|███████▎                                                                                                                 | 12/200 [00:00<00:00, 190.55it/s]\u001b[A\n",
      " 24%|████████████████████████████▋                                                                                           | 239/1000 [00:23<01:05, 11.65it/s]"
     ]
    },
    {
     "name": "stdout",
     "output_type": "stream",
     "text": [
      "DONE\n",
      "DONE\n",
      "Actor_loss 1.27892220\n",
      "Critic_loss 1.00000129\n",
      "Rewards mean 1.00000000 Rewards std 0.00000000 Rewards sum 13.00000000\n"
     ]
    },
    {
     "name": "stderr",
     "output_type": "stream",
     "text": [
      "\n",
      "  6%|██████▋                                                                                                                  | 11/200 [00:00<00:01, 171.23it/s]\u001b[A\n",
      " 24%|████████████████████████████▉                                                                                           | 241/1000 [00:23<01:01, 12.36it/s]"
     ]
    },
    {
     "name": "stdout",
     "output_type": "stream",
     "text": [
      "DONE\n",
      "DONE\n",
      "Actor_loss 1.11741378\n",
      "Critic_loss 1.00000247\n",
      "Rewards mean 1.00000000 Rewards std 0.00000000 Rewards sum 12.00000000\n"
     ]
    },
    {
     "name": "stderr",
     "output_type": "stream",
     "text": [
      "\n",
      "  7%|████████▍                                                                                                                | 14/200 [00:00<00:01, 172.52it/s]\u001b[A\n",
      " 24%|████████████████████████████▉                                                                                           | 241/1000 [00:23<01:01, 12.36it/s]"
     ]
    },
    {
     "name": "stdout",
     "output_type": "stream",
     "text": [
      "DONE\n",
      "DONE\n",
      "Actor_loss 1.22810567\n",
      "Critic_loss 1.00000160\n",
      "Rewards mean 1.00000000 Rewards std 0.00000000 Rewards sum 15.00000000\n"
     ]
    },
    {
     "name": "stderr",
     "output_type": "stream",
     "text": [
      "\n",
      "  0%|                                                                                                                                   | 0/200 [00:00<?, ?it/s]\u001b[A\n",
      " 10%|████████████▋                                                                                                            | 21/200 [00:00<00:01, 164.17it/s]\u001b[A\n",
      " 24%|█████████████████████████████▏                                                                                          | 243/1000 [00:23<01:07, 11.14it/s]"
     ]
    },
    {
     "name": "stdout",
     "output_type": "stream",
     "text": [
      "DONE\n",
      "DONE\n",
      "Actor_loss 1.38042690\n",
      "Critic_loss 1.00000046\n",
      "Rewards mean 1.00000000 Rewards std 0.00000000 Rewards sum 22.00000000\n"
     ]
    },
    {
     "name": "stderr",
     "output_type": "stream",
     "text": [
      "\n",
      "  0%|                                                                                                                                   | 0/200 [00:00<?, ?it/s]\u001b[A"
     ]
    },
    {
     "name": "stdout",
     "output_type": "stream",
     "text": [
      "DONE\n"
     ]
    },
    {
     "name": "stderr",
     "output_type": "stream",
     "text": [
      "  5%|██████                                                                                                                   | 10/200 [00:00<00:01, 163.20it/s]\n",
      " 24%|█████████████████████████████▏                                                                                          | 243/1000 [00:23<01:07, 11.14it/s]"
     ]
    },
    {
     "name": "stdout",
     "output_type": "stream",
     "text": [
      "DONE\n",
      "Actor_loss 1.24331752\n",
      "Critic_loss 1.00000157\n",
      "Rewards mean 1.00000000 Rewards std 0.00000000 Rewards sum 11.00000000\n"
     ]
    },
    {
     "name": "stderr",
     "output_type": "stream",
     "text": [
      "\n",
      "  8%|█████████                                                                                                                | 15/200 [00:00<00:01, 168.11it/s]\u001b[A\n",
      " 24%|█████████████████████████████▍                                                                                          | 245/1000 [00:23<01:05, 11.48it/s]"
     ]
    },
    {
     "name": "stdout",
     "output_type": "stream",
     "text": [
      "DONE\n",
      "DONE\n",
      "Actor_loss 1.42106231\n",
      "Critic_loss 1.00000013\n",
      "Rewards mean 1.00000000 Rewards std 0.00000000 Rewards sum 16.00000000\n"
     ]
    },
    {
     "name": "stderr",
     "output_type": "stream",
     "text": [
      "\n",
      "  0%|                                                                                                                                   | 0/200 [00:00<?, ?it/s]\u001b[A\n",
      " 14%|█████████████████▌                                                                                                       | 29/200 [00:00<00:00, 192.71it/s]\u001b[A\n",
      " 24%|█████████████████████████████▍                                                                                          | 245/1000 [00:24<01:05, 11.48it/s]"
     ]
    },
    {
     "name": "stdout",
     "output_type": "stream",
     "text": [
      "DONE\n",
      "DONE\n",
      "Actor_loss 1.47482277\n",
      "Critic_loss 0.99999966\n",
      "Rewards mean 1.00000000 Rewards std 0.00000000 Rewards sum 30.00000000\n"
     ]
    },
    {
     "name": "stderr",
     "output_type": "stream",
     "text": [
      "\n",
      "  8%|█████████                                                                                                                | 15/200 [00:00<00:00, 195.38it/s]\u001b[A\n",
      " 25%|█████████████████████████████▋                                                                                          | 247/1000 [00:24<01:12, 10.33it/s]"
     ]
    },
    {
     "name": "stdout",
     "output_type": "stream",
     "text": [
      "DONE\n",
      "DONE\n",
      "Actor_loss 1.27893303\n",
      "Critic_loss 1.00000129\n",
      "Rewards mean 1.00000000 Rewards std 0.00000000 Rewards sum 16.00000000\n"
     ]
    },
    {
     "name": "stderr",
     "output_type": "stream",
     "text": [
      "\n",
      "  6%|███████▊                                                                                                                 | 13/200 [00:00<00:01, 180.89it/s]\u001b[A\n",
      " 25%|█████████████████████████████▋                                                                                          | 247/1000 [00:24<01:12, 10.33it/s]"
     ]
    },
    {
     "name": "stdout",
     "output_type": "stream",
     "text": [
      "DONE\n",
      "DONE\n",
      "Actor_loss 1.33353284\n",
      "Critic_loss 1.00000087\n",
      "Rewards mean 1.00000000 Rewards std 0.00000000 Rewards sum 14.00000000\n"
     ]
    },
    {
     "name": "stderr",
     "output_type": "stream",
     "text": [
      "\n",
      "  4%|█████▍                                                                                                                    | 9/200 [00:00<00:01, 145.92it/s]\u001b[A\n",
      " 25%|█████████████████████████████▉                                                                                          | 249/1000 [00:24<01:07, 11.16it/s]"
     ]
    },
    {
     "name": "stdout",
     "output_type": "stream",
     "text": [
      "DONE\n",
      "DONE\n",
      "Actor_loss 1.16052675\n",
      "Critic_loss 1.00000213\n",
      "Rewards mean 1.00000000 Rewards std 0.00000000 Rewards sum 10.00000000\n"
     ]
    },
    {
     "name": "stderr",
     "output_type": "stream",
     "text": [
      "\n",
      "  4%|█████▍                                                                                                                    | 9/200 [00:00<00:01, 170.79it/s]\u001b[A\n",
      " 25%|█████████████████████████████▉                                                                                          | 249/1000 [00:24<01:07, 11.16it/s]"
     ]
    },
    {
     "name": "stdout",
     "output_type": "stream",
     "text": [
      "DONE\n",
      "DONE\n",
      "Actor_loss 1.16039903\n",
      "Critic_loss 1.00000216\n",
      "Rewards mean 1.00000000 Rewards std 0.00000000 Rewards sum 10.00000000\n"
     ]
    },
    {
     "name": "stderr",
     "output_type": "stream",
     "text": [
      "\n",
      "  4%|████▉                                                                                                                     | 8/200 [00:00<00:00, 196.16it/s]\u001b[A\n",
      " 25%|██████████████████████████████                                                                                          | 251/1000 [00:24<00:58, 12.78it/s]"
     ]
    },
    {
     "name": "stdout",
     "output_type": "stream",
     "text": [
      "DONE\n",
      "DONE\n",
      "Actor_loss 1.05648327\n",
      "Critic_loss 1.00000291\n",
      "Rewards mean 1.00000000 Rewards std 0.00000000 Rewards sum 9.00000000\n"
     ]
    },
    {
     "name": "stderr",
     "output_type": "stream",
     "text": [
      "\n",
      "  5%|██████                                                                                                                   | 10/200 [00:00<00:01, 142.64it/s]\u001b[A\n",
      " 25%|██████████████████████████████                                                                                          | 251/1000 [00:24<00:58, 12.78it/s]"
     ]
    },
    {
     "name": "stdout",
     "output_type": "stream",
     "text": [
      "DONE\n",
      "DONE\n",
      "Actor_loss 1.24319929\n",
      "Critic_loss 1.00000154\n",
      "Rewards mean 1.00000000 Rewards std 0.00000000 Rewards sum 11.00000000\n"
     ]
    },
    {
     "name": "stderr",
     "output_type": "stream",
     "text": [
      "\n",
      "  0%|                                                                                                                                   | 0/200 [00:00<?, ?it/s]\u001b[A"
     ]
    },
    {
     "name": "stdout",
     "output_type": "stream",
     "text": [
      "DONE\n"
     ]
    },
    {
     "name": "stderr",
     "output_type": "stream",
     "text": [
      "  6%|███████▎                                                                                                                 | 12/200 [00:00<00:01, 170.37it/s]\n",
      " 25%|██████████████████████████████▎                                                                                         | 253/1000 [00:24<00:57, 12.91it/s]"
     ]
    },
    {
     "name": "stdout",
     "output_type": "stream",
     "text": [
      "DONE\n",
      "Actor_loss 1.27880769\n",
      "Critic_loss 1.00000120\n",
      "Rewards mean 1.00000000 Rewards std 0.00000000 Rewards sum 13.00000000\n"
     ]
    },
    {
     "name": "stderr",
     "output_type": "stream",
     "text": [
      "\n",
      "  6%|███████▎                                                                                                                 | 12/200 [00:00<00:01, 175.34it/s]\u001b[A\n",
      " 25%|██████████████████████████████▎                                                                                         | 253/1000 [00:24<00:57, 12.91it/s]"
     ]
    },
    {
     "name": "stdout",
     "output_type": "stream",
     "text": [
      "DONE\n",
      "DONE\n",
      "Actor_loss 1.27879180\n",
      "Critic_loss 1.00000129\n",
      "Rewards mean 1.00000000 Rewards std 0.00000000 Rewards sum 13.00000000\n"
     ]
    },
    {
     "name": "stderr",
     "output_type": "stream",
     "text": [
      "\n",
      "  0%|                                                                                                                                   | 0/200 [00:00<?, ?it/s]\u001b[A\n",
      " 17%|████████████████████▌                                                                                                    | 34/200 [00:00<00:00, 200.46it/s]\u001b[A\n",
      " 26%|██████████████████████████████▌                                                                                         | 255/1000 [00:24<01:08, 10.93it/s]"
     ]
    },
    {
     "name": "stdout",
     "output_type": "stream",
     "text": [
      "DONE\n",
      "DONE\n",
      "Actor_loss 1.45677230\n",
      "Critic_loss 1.00000015\n",
      "Rewards mean 1.00000000 Rewards std 0.00000000 Rewards sum 35.00000000\n"
     ]
    },
    {
     "name": "stderr",
     "output_type": "stream",
     "text": [
      "\n",
      "  7%|████████▍                                                                                                                | 14/200 [00:00<00:00, 189.49it/s]\u001b[A\n",
      " 26%|██████████████████████████████▌                                                                                         | 255/1000 [00:24<01:08, 10.93it/s]"
     ]
    },
    {
     "name": "stdout",
     "output_type": "stream",
     "text": [
      "DONE\n",
      "DONE\n",
      "Actor_loss 1.22807298\n",
      "Critic_loss 1.00000148\n",
      "Rewards mean 1.00000000 Rewards std 0.00000000 Rewards sum 15.00000000\n"
     ]
    },
    {
     "name": "stderr",
     "output_type": "stream",
     "text": [
      "\n",
      "  8%|█████████▋                                                                                                               | 16/200 [00:00<00:00, 188.95it/s]\u001b[A\n",
      " 26%|██████████████████████████████▊                                                                                         | 257/1000 [00:25<01:06, 11.14it/s]"
     ]
    },
    {
     "name": "stdout",
     "output_type": "stream",
     "text": [
      "DONE\n",
      "DONE\n",
      "Actor_loss 1.18986416\n",
      "Critic_loss 1.00000173\n",
      "Rewards mean 1.00000000 Rewards std 0.00000000 Rewards sum 17.00000000\n"
     ]
    },
    {
     "name": "stderr",
     "output_type": "stream",
     "text": [
      "\n",
      "  6%|███████▊                                                                                                                 | 13/200 [00:00<00:00, 196.60it/s]\u001b[A\n",
      " 26%|██████████████████████████████▊                                                                                         | 257/1000 [00:25<01:06, 11.14it/s]"
     ]
    },
    {
     "name": "stdout",
     "output_type": "stream",
     "text": [
      "DONE\n",
      "DONE\n",
      "Actor_loss 1.16917879\n",
      "Critic_loss 1.00000182\n",
      "Rewards mean 1.00000000 Rewards std 0.00000000 Rewards sum 14.00000000\n"
     ]
    },
    {
     "name": "stderr",
     "output_type": "stream",
     "text": [
      "\n",
      "  9%|██████████▉                                                                                                              | 18/200 [00:00<00:00, 199.58it/s]\u001b[A\n",
      " 26%|███████████████████████████████                                                                                         | 259/1000 [00:25<01:05, 11.35it/s]"
     ]
    },
    {
     "name": "stdout",
     "output_type": "stream",
     "text": [
      "DONE\n",
      "DONE\n",
      "Actor_loss 1.27875510\n",
      "Critic_loss 1.00000128\n",
      "Rewards mean 1.00000000 Rewards std 0.00000000 Rewards sum 19.00000000\n"
     ]
    },
    {
     "name": "stderr",
     "output_type": "stream",
     "text": [
      "\n",
      "  4%|████▉                                                                                                                     | 8/200 [00:00<00:01, 159.04it/s]\u001b[A\n",
      " 26%|███████████████████████████████                                                                                         | 259/1000 [00:25<01:05, 11.35it/s]"
     ]
    },
    {
     "name": "stdout",
     "output_type": "stream",
     "text": [
      "DONE\n",
      "DONE\n",
      "Actor_loss 0.92185614\n",
      "Critic_loss 1.00000370\n",
      "Rewards mean 1.00000000 Rewards std 0.00000000 Rewards sum 9.00000000\n"
     ]
    },
    {
     "name": "stderr",
     "output_type": "stream",
     "text": [
      "\n",
      "  5%|██████                                                                                                                   | 10/200 [00:00<00:01, 171.69it/s]\u001b[A\n",
      " 26%|███████████████████████████████▎                                                                                        | 261/1000 [00:25<00:58, 12.57it/s]"
     ]
    },
    {
     "name": "stdout",
     "output_type": "stream",
     "text": [
      "DONE\n",
      "DONE\n",
      "Actor_loss 1.13574410\n",
      "Critic_loss 1.00000227\n",
      "Rewards mean 1.00000000 Rewards std 0.00000000 Rewards sum 11.00000000\n"
     ]
    },
    {
     "name": "stderr",
     "output_type": "stream",
     "text": [
      "\n",
      "  6%|██████▋                                                                                                                  | 11/200 [00:00<00:01, 172.34it/s]\u001b[A\n",
      " 26%|███████████████████████████████▎                                                                                        | 261/1000 [00:25<00:58, 12.57it/s]"
     ]
    },
    {
     "name": "stdout",
     "output_type": "stream",
     "text": [
      "DONE\n",
      "DONE\n",
      "Actor_loss 1.01842090\n",
      "Critic_loss 1.00000285\n",
      "Rewards mean 1.00000000 Rewards std 0.00000000 Rewards sum 12.00000000\n"
     ]
    },
    {
     "name": "stderr",
     "output_type": "stream",
     "text": [
      "\n",
      "  0%|                                                                                                                                   | 0/200 [00:00<?, ?it/s]\u001b[A"
     ]
    },
    {
     "name": "stdout",
     "output_type": "stream",
     "text": [
      "DONE\n"
     ]
    },
    {
     "name": "stderr",
     "output_type": "stream",
     "text": [
      "  6%|███████▎                                                                                                                 | 12/200 [00:00<00:00, 195.61it/s]\n",
      " 26%|███████████████████████████████▌                                                                                        | 263/1000 [00:25<00:56, 13.12it/s]"
     ]
    },
    {
     "name": "stdout",
     "output_type": "stream",
     "text": [
      "DONE\n",
      "Actor_loss 1.18908750\n",
      "Critic_loss 1.00000189\n",
      "Rewards mean 1.00000000 Rewards std 0.00000000 Rewards sum 13.00000000\n"
     ]
    },
    {
     "name": "stderr",
     "output_type": "stream",
     "text": [
      "\n",
      " 10%|████████████                                                                                                             | 20/200 [00:00<00:00, 194.01it/s]\u001b[A\n",
      " 26%|███████████████████████████████▌                                                                                        | 263/1000 [00:25<00:56, 13.12it/s]"
     ]
    },
    {
     "name": "stdout",
     "output_type": "stream",
     "text": [
      "DONE\n",
      "DONE\n",
      "Actor_loss 1.51113616\n",
      "Critic_loss 0.99999965\n",
      "Rewards mean 1.00000000 Rewards std 0.00000000 Rewards sum 21.00000000\n"
     ]
    },
    {
     "name": "stderr",
     "output_type": "stream",
     "text": [
      "\n",
      "  0%|                                                                                                                                   | 0/200 [00:00<?, ?it/s]\u001b[A"
     ]
    },
    {
     "name": "stdout",
     "output_type": "stream",
     "text": [
      "DONE\n"
     ]
    },
    {
     "name": "stderr",
     "output_type": "stream",
     "text": [
      "  8%|█████████                                                                                                                | 15/200 [00:00<00:01, 170.75it/s]\n",
      " 26%|███████████████████████████████▊                                                                                        | 265/1000 [00:25<01:01, 11.93it/s]"
     ]
    },
    {
     "name": "stdout",
     "output_type": "stream",
     "text": [
      "DONE\n",
      "Actor_loss 1.20716999\n",
      "Critic_loss 1.00000170\n",
      "Rewards mean 1.00000000 Rewards std 0.00000000 Rewards sum 16.00000000\n"
     ]
    },
    {
     "name": "stderr",
     "output_type": "stream",
     "text": [
      "\n",
      "  4%|████▉                                                                                                                     | 8/200 [00:00<00:01, 166.77it/s]\u001b[A\n",
      " 26%|███████████████████████████████▊                                                                                        | 265/1000 [00:25<01:01, 11.93it/s]"
     ]
    },
    {
     "name": "stdout",
     "output_type": "stream",
     "text": [
      "DONE\n",
      "DONE\n",
      "Actor_loss 1.18920354\n",
      "Critic_loss 1.00000208\n",
      "Rewards mean 1.00000000 Rewards std 0.00000000 Rewards sum 9.00000000\n"
     ]
    },
    {
     "name": "stderr",
     "output_type": "stream",
     "text": [
      "\n",
      "  8%|██████████▎                                                                                                              | 17/200 [00:00<00:00, 184.93it/s]\u001b[A\n",
      " 27%|████████████████████████████████                                                                                        | 267/1000 [00:25<00:59, 12.31it/s]"
     ]
    },
    {
     "name": "stdout",
     "output_type": "stream",
     "text": [
      "DONE\n",
      "DONE\n",
      "Actor_loss 1.23653051\n",
      "Critic_loss 1.00000149\n",
      "Rewards mean 1.00000000 Rewards std 0.00000000 Rewards sum 18.00000000\n"
     ]
    },
    {
     "name": "stderr",
     "output_type": "stream",
     "text": [
      "\n",
      "  0%|                                                                                                                                   | 0/200 [00:00<?, ?it/s]\u001b[A"
     ]
    },
    {
     "name": "stdout",
     "output_type": "stream",
     "text": [
      "DONE\n"
     ]
    },
    {
     "name": "stderr",
     "output_type": "stream",
     "text": [
      "  7%|████████▍                                                                                                                | 14/200 [00:00<00:01, 143.56it/s]\n",
      " 27%|████████████████████████████████                                                                                        | 267/1000 [00:25<00:59, 12.31it/s]"
     ]
    },
    {
     "name": "stdout",
     "output_type": "stream",
     "text": [
      "DONE\n",
      "Actor_loss 1.38082067\n",
      "Critic_loss 1.00000055\n",
      "Rewards mean 1.00000000 Rewards std 0.00000000 Rewards sum 15.00000000\n"
     ]
    },
    {
     "name": "stderr",
     "output_type": "stream",
     "text": [
      "\n",
      "  7%|████████▍                                                                                                                | 14/200 [00:00<00:01, 182.36it/s]\u001b[A\n",
      " 27%|████████████████████████████████▎                                                                                       | 269/1000 [00:25<01:02, 11.74it/s]"
     ]
    },
    {
     "name": "stdout",
     "output_type": "stream",
     "text": [
      "DONE\n",
      "DONE\n",
      "Actor_loss 1.30418297\n",
      "Critic_loss 1.00000111\n",
      "Rewards mean 1.00000000 Rewards std 0.00000000 Rewards sum 15.00000000\n"
     ]
    },
    {
     "name": "stderr",
     "output_type": "stream",
     "text": [
      "\n",
      "  0%|                                                                                                                                   | 0/200 [00:00<?, ?it/s]\u001b[A\n",
      " 14%|█████████████████▌                                                                                                       | 29/200 [00:00<00:00, 201.99it/s]\u001b[A\n",
      " 27%|████████████████████████████████▎                                                                                       | 269/1000 [00:26<01:02, 11.74it/s]"
     ]
    },
    {
     "name": "stdout",
     "output_type": "stream",
     "text": [
      "DONE\n",
      "DONE\n",
      "Actor_loss 1.43883978\n",
      "Critic_loss 1.00000008\n",
      "Rewards mean 1.00000000 Rewards std 0.00000000 Rewards sum 30.00000000\n"
     ]
    },
    {
     "name": "stderr",
     "output_type": "stream",
     "text": [
      "\n",
      "  6%|██████▋                                                                                                                  | 11/200 [00:00<00:01, 168.11it/s]\u001b[A\n",
      " 27%|████████████████████████████████▌                                                                                       | 271/1000 [00:26<01:07, 10.75it/s]"
     ]
    },
    {
     "name": "stdout",
     "output_type": "stream",
     "text": [
      "DONE\n",
      "DONE\n",
      "Actor_loss 1.21379071\n",
      "Critic_loss 1.00000169\n",
      "Rewards mean 1.00000000 Rewards std 0.00000000 Rewards sum 12.00000000\n"
     ]
    },
    {
     "name": "stderr",
     "output_type": "stream",
     "text": [
      "\n",
      "  0%|                                                                                                                                   | 0/200 [00:00<?, ?it/s]\u001b[A\n",
      " 18%|██████████████████████▍                                                                                                  | 37/200 [00:00<00:00, 186.23it/s]\u001b[A\n",
      " 27%|████████████████████████████████▌                                                                                       | 271/1000 [00:26<01:07, 10.75it/s]"
     ]
    },
    {
     "name": "stdout",
     "output_type": "stream",
     "text": [
      "DONE\n",
      "DONE\n",
      "Actor_loss 1.38479223\n",
      "Critic_loss 1.00000045\n",
      "Rewards mean 1.00000000 Rewards std 0.00000000 Rewards sum 38.00000000\n"
     ]
    },
    {
     "name": "stderr",
     "output_type": "stream",
     "text": [
      "\n",
      "  6%|███████▎                                                                                                                 | 12/200 [00:00<00:01, 184.82it/s]\u001b[A\n",
      " 27%|████████████████████████████████▊                                                                                       | 273/1000 [00:26<01:17,  9.40it/s]"
     ]
    },
    {
     "name": "stdout",
     "output_type": "stream",
     "text": [
      "DONE\n",
      "DONE\n",
      "Actor_loss 1.18953025\n",
      "Critic_loss 1.00000196\n",
      "Rewards mean 1.00000000 Rewards std 0.00000000 Rewards sum 13.00000000\n"
     ]
    },
    {
     "name": "stderr",
     "output_type": "stream",
     "text": [
      "\n",
      "  6%|███████▊                                                                                                                 | 13/200 [00:00<00:01, 175.93it/s]\u001b[A\n",
      " 27%|████████████████████████████████▊                                                                                       | 273/1000 [00:26<01:17,  9.40it/s]"
     ]
    },
    {
     "name": "stdout",
     "output_type": "stream",
     "text": [
      "DONE\n",
      "DONE\n",
      "Actor_loss 1.66261076\n",
      "Critic_loss 0.99999773\n",
      "Rewards mean 1.00000000 Rewards std 0.00000000 Rewards sum 14.00000000\n"
     ]
    },
    {
     "name": "stderr",
     "output_type": "stream",
     "text": [
      "\n",
      "  8%|█████████                                                                                                                | 15/200 [00:00<00:01, 174.90it/s]\u001b[A\n",
      " 28%|█████████████████████████████████                                                                                       | 275/1000 [00:26<01:12,  9.98it/s]"
     ]
    },
    {
     "name": "stdout",
     "output_type": "stream",
     "text": [
      "DONE\n",
      "DONE\n",
      "Actor_loss 1.27878712\n",
      "Critic_loss 1.00000124\n",
      "Rewards mean 1.00000000 Rewards std 0.00000000 Rewards sum 16.00000000\n"
     ]
    },
    {
     "name": "stderr",
     "output_type": "stream",
     "text": [
      "\n",
      "  6%|██████▋                                                                                                                  | 11/200 [00:00<00:01, 169.78it/s]\u001b[A\n",
      " 28%|█████████████████████████████████                                                                                       | 275/1000 [00:26<01:12,  9.98it/s]"
     ]
    },
    {
     "name": "stdout",
     "output_type": "stream",
     "text": [
      "DONE\n",
      "DONE\n",
      "Actor_loss 1.21401994\n",
      "Critic_loss 1.00000179\n",
      "Rewards mean 1.00000000 Rewards std 0.00000000 Rewards sum 12.00000000\n"
     ]
    },
    {
     "name": "stderr",
     "output_type": "stream",
     "text": [
      "\n",
      "  6%|███████▎                                                                                                                 | 12/200 [00:00<00:01, 183.45it/s]\u001b[A\n",
      " 28%|█████████████████████████████████▏                                                                                      | 277/1000 [00:26<01:06, 10.95it/s]"
     ]
    },
    {
     "name": "stdout",
     "output_type": "stream",
     "text": [
      "DONE\n",
      "DONE\n",
      "Actor_loss 1.36785541\n",
      "Critic_loss 1.00000066\n",
      "Rewards mean 1.00000000 Rewards std 0.00000000 Rewards sum 13.00000000\n"
     ]
    },
    {
     "name": "stderr",
     "output_type": "stream",
     "text": [
      "\n",
      "  8%|██████████▎                                                                                                              | 17/200 [00:00<00:00, 197.78it/s]\u001b[A\n",
      " 28%|█████████████████████████████████▏                                                                                      | 277/1000 [00:26<01:06, 10.95it/s]"
     ]
    },
    {
     "name": "stdout",
     "output_type": "stream",
     "text": [
      "DONE\n",
      "DONE\n",
      "Actor_loss 1.29974084\n",
      "Critic_loss 1.00000111\n",
      "Rewards mean 1.00000000 Rewards std 0.00000000 Rewards sum 18.00000000\n"
     ]
    },
    {
     "name": "stderr",
     "output_type": "stream",
     "text": [
      "\n",
      " 10%|███████████▍                                                                                                             | 19/200 [00:00<00:00, 193.05it/s]\u001b[A\n",
      "                                                                                                                                                                "
     ]
    },
    {
     "name": "stdout",
     "output_type": "stream",
     "text": [
      "DONE\n",
      "DONE\n"
     ]
    },
    {
     "name": "stderr",
     "output_type": "stream",
     "text": [
      " 28%|█████████████████████████████████▍                                                                                      | 279/1000 [00:27<01:07, 10.73it/s]"
     ]
    },
    {
     "name": "stdout",
     "output_type": "stream",
     "text": [
      "Actor_loss 1.26004433\n",
      "Critic_loss 1.00000135\n",
      "Rewards mean 1.00000000 Rewards std 0.00000000 Rewards sum 20.00000000\n"
     ]
    },
    {
     "name": "stderr",
     "output_type": "stream",
     "text": [
      "\n",
      "  4%|████▉                                                                                                                     | 8/200 [00:00<00:01, 174.24it/s]\u001b[A\n",
      " 28%|█████████████████████████████████▍                                                                                      | 279/1000 [00:27<01:07, 10.73it/s]"
     ]
    },
    {
     "name": "stdout",
     "output_type": "stream",
     "text": [
      "DONE\n",
      "DONE\n",
      "Actor_loss 1.05609561\n",
      "Critic_loss 1.00000286\n",
      "Rewards mean 1.00000000 Rewards std 0.00000000 Rewards sum 9.00000000\n"
     ]
    },
    {
     "name": "stderr",
     "output_type": "stream",
     "text": [
      "\n",
      "  8%|██████████▎                                                                                                              | 17/200 [00:00<00:01, 178.77it/s]\u001b[A\n",
      " 28%|█████████████████████████████████▋                                                                                      | 281/1000 [00:27<01:03, 11.35it/s]"
     ]
    },
    {
     "name": "stdout",
     "output_type": "stream",
     "text": [
      "DONE\n",
      "DONE\n",
      "Actor_loss 1.42551245\n",
      "Critic_loss 1.00000015\n",
      "Rewards mean 1.00000000 Rewards std 0.00000000 Rewards sum 18.00000000\n"
     ]
    },
    {
     "name": "stderr",
     "output_type": "stream",
     "text": [
      "\n",
      "  6%|███████▊                                                                                                                 | 13/200 [00:00<00:01, 184.61it/s]\u001b[A\n",
      " 28%|█████████████████████████████████▋                                                                                      | 281/1000 [00:27<01:03, 11.35it/s]"
     ]
    },
    {
     "name": "stdout",
     "output_type": "stream",
     "text": [
      "DONE\n",
      "DONE\n",
      "Actor_loss 1.16915721\n",
      "Critic_loss 1.00000209\n",
      "Rewards mean 1.00000000 Rewards std 0.00000000 Rewards sum 14.00000000\n"
     ]
    },
    {
     "name": "stderr",
     "output_type": "stream",
     "text": [
      "\n",
      "  0%|                                                                                                                                   | 0/200 [00:00<?, ?it/s]\u001b[A\n",
      " 14%|████████████████▉                                                                                                        | 28/200 [00:00<00:00, 186.36it/s]\u001b[A\n",
      " 28%|█████████████████████████████████▉                                                                                      | 283/1000 [00:27<01:09, 10.35it/s]"
     ]
    },
    {
     "name": "stdout",
     "output_type": "stream",
     "text": [
      "DONE\n",
      "DONE\n",
      "Actor_loss 1.34241003\n",
      "Critic_loss 1.00000086\n",
      "Rewards mean 1.00000000 Rewards std 0.00000000 Rewards sum 29.00000000\n"
     ]
    },
    {
     "name": "stderr",
     "output_type": "stream",
     "text": [
      "\n",
      "  0%|                                                                                                                                   | 0/200 [00:00<?, ?it/s]\u001b[A\n",
      " 16%|██████████████████▊                                                                                                      | 31/200 [00:00<00:00, 180.63it/s]\u001b[A\n",
      " 28%|█████████████████████████████████▉                                                                                      | 283/1000 [00:27<01:09, 10.35it/s]"
     ]
    },
    {
     "name": "stdout",
     "output_type": "stream",
     "text": [
      "DONE\n",
      "DONE\n",
      "Actor_loss 1.40519030\n",
      "Critic_loss 1.00000037\n",
      "Rewards mean 1.00000000 Rewards std 0.00000000 Rewards sum 32.00000000\n"
     ]
    },
    {
     "name": "stderr",
     "output_type": "stream",
     "text": [
      "\n",
      "  6%|██████▋                                                                                                                  | 11/200 [00:00<00:01, 159.84it/s]\u001b[A\n",
      " 28%|██████████████████████████████████▏                                                                                     | 285/1000 [00:27<01:15,  9.47it/s]"
     ]
    },
    {
     "name": "stdout",
     "output_type": "stream",
     "text": [
      "DONE\n",
      "DONE\n",
      "Actor_loss 1.21408213\n",
      "Critic_loss 1.00000178\n",
      "Rewards mean 1.00000000 Rewards std 0.00000000 Rewards sum 12.00000000\n"
     ]
    },
    {
     "name": "stderr",
     "output_type": "stream",
     "text": [
      "\n",
      "  8%|██████████▎                                                                                                              | 17/200 [00:00<00:00, 200.29it/s]\u001b[A\n",
      " 28%|██████████████████████████████████▏                                                                                     | 285/1000 [00:27<01:15,  9.47it/s]"
     ]
    },
    {
     "name": "stdout",
     "output_type": "stream",
     "text": [
      "DONE\n",
      "DONE\n",
      "Actor_loss 1.61367710\n",
      "Critic_loss 0.99999825\n",
      "Rewards mean 1.00000000 Rewards std 0.00000000 Rewards sum 18.00000000\n"
     ]
    },
    {
     "name": "stderr",
     "output_type": "stream",
     "text": [
      "\n",
      "  0%|                                                                                                                                   | 0/200 [00:00<?, ?it/s]\u001b[A\n",
      " 12%|█████████████▉                                                                                                           | 23/200 [00:00<00:01, 166.32it/s]\u001b[A\n",
      " 29%|██████████████████████████████████▍                                                                                     | 287/1000 [00:27<01:17,  9.17it/s]"
     ]
    },
    {
     "name": "stdout",
     "output_type": "stream",
     "text": [
      "DONE\n",
      "DONE\n",
      "Actor_loss 1.34068393\n",
      "Critic_loss 1.00000083\n",
      "Rewards mean 1.00000000 Rewards std 0.00000000 Rewards sum 24.00000000\n"
     ]
    },
    {
     "name": "stderr",
     "output_type": "stream",
     "text": [
      "\n",
      "  0%|                                                                                                                                   | 0/200 [00:00<?, ?it/s]\u001b[A\n",
      " 12%|██████████████▌                                                                                                          | 24/200 [00:00<00:00, 195.98it/s]\u001b[A\n",
      " 29%|██████████████████████████████████▌                                                                                     | 288/1000 [00:28<01:20,  8.89it/s]"
     ]
    },
    {
     "name": "stdout",
     "output_type": "stream",
     "text": [
      "DONE\n",
      "DONE\n",
      "Actor_loss 1.45641828\n",
      "Critic_loss 0.99999983\n",
      "Rewards mean 1.00000000 Rewards std 0.00000000 Rewards sum 25.00000000\n"
     ]
    },
    {
     "name": "stderr",
     "output_type": "stream",
     "text": [
      "\n",
      "  8%|██████████▎                                                                                                              | 17/200 [00:00<00:00, 207.74it/s]\u001b[A\n",
      " 29%|██████████████████████████████████▌                                                                                     | 288/1000 [00:28<01:20,  8.89it/s]"
     ]
    },
    {
     "name": "stdout",
     "output_type": "stream",
     "text": [
      "DONE\n",
      "DONE\n",
      "Actor_loss 1.36239389\n",
      "Critic_loss 1.00000066\n",
      "Rewards mean 1.00000000 Rewards std 0.00000000 Rewards sum 18.00000000\n"
     ]
    },
    {
     "name": "stderr",
     "output_type": "stream",
     "text": [
      "\n",
      "  5%|██████                                                                                                                   | 10/200 [00:00<00:01, 181.76it/s]\u001b[A\n",
      " 29%|██████████████████████████████████▊                                                                                     | 290/1000 [00:28<01:10, 10.02it/s]"
     ]
    },
    {
     "name": "stdout",
     "output_type": "stream",
     "text": [
      "DONE\n",
      "DONE\n",
      "Actor_loss 1.34987959\n",
      "Critic_loss 1.00000081\n",
      "Rewards mean 1.00000000 Rewards std 0.00000000 Rewards sum 11.00000000\n"
     ]
    },
    {
     "name": "stderr",
     "output_type": "stream",
     "text": [
      "\n",
      "  6%|███████▊                                                                                                                 | 13/200 [00:00<00:00, 193.17it/s]\u001b[A\n",
      " 29%|██████████████████████████████████▊                                                                                     | 290/1000 [00:28<01:10, 10.02it/s]"
     ]
    },
    {
     "name": "stdout",
     "output_type": "stream",
     "text": [
      "DONE\n",
      "DONE\n",
      "Actor_loss 1.66050795\n",
      "Critic_loss 0.99999762\n",
      "Rewards mean 1.00000000 Rewards std 0.00000000 Rewards sum 14.00000000\n"
     ]
    },
    {
     "name": "stderr",
     "output_type": "stream",
     "text": [
      "\n",
      "  6%|███████▊                                                                                                                 | 13/200 [00:00<00:01, 170.06it/s]\u001b[A\n",
      " 29%|███████████████████████████████████                                                                                     | 292/1000 [00:28<01:05, 10.78it/s]"
     ]
    },
    {
     "name": "stdout",
     "output_type": "stream",
     "text": [
      "DONE\n",
      "DONE\n",
      "Actor_loss 1.25178815\n",
      "Critic_loss 1.00000150\n",
      "Rewards mean 1.00000000 Rewards std 0.00000000 Rewards sum 14.00000000\n"
     ]
    },
    {
     "name": "stderr",
     "output_type": "stream",
     "text": [
      "\n",
      " 10%|████████████▋                                                                                                            | 21/200 [00:00<00:00, 203.83it/s]\u001b[A\n",
      " 29%|███████████████████████████████████                                                                                     | 292/1000 [00:28<01:05, 10.78it/s]"
     ]
    },
    {
     "name": "stdout",
     "output_type": "stream",
     "text": [
      "DONE\n",
      "DONE\n",
      "Actor_loss 1.32960468\n",
      "Critic_loss 1.00000089\n",
      "Rewards mean 1.00000000 Rewards std 0.00000000 Rewards sum 22.00000000\n"
     ]
    },
    {
     "name": "stderr",
     "output_type": "stream",
     "text": [
      "\n",
      " 10%|████████████                                                                                                             | 20/200 [00:00<00:00, 210.07it/s]\u001b[A\n",
      " 29%|███████████████████████████████████▎                                                                                    | 294/1000 [00:28<01:08, 10.30it/s]"
     ]
    },
    {
     "name": "stdout",
     "output_type": "stream",
     "text": [
      "DONE\n",
      "DONE\n",
      "Actor_loss 1.34982701\n",
      "Critic_loss 1.00000073\n",
      "Rewards mean 1.00000000 Rewards std 0.00000000 Rewards sum 21.00000000\n"
     ]
    },
    {
     "name": "stderr",
     "output_type": "stream",
     "text": [
      "\n",
      "  7%|████████▍                                                                                                                | 14/200 [00:00<00:00, 194.89it/s]\u001b[A\n",
      " 29%|███████████████████████████████████▎                                                                                    | 294/1000 [00:28<01:08, 10.30it/s]"
     ]
    },
    {
     "name": "stdout",
     "output_type": "stream",
     "text": [
      "DONE\n",
      "DONE\n",
      "Actor_loss 1.22843101\n",
      "Critic_loss 1.00000169\n",
      "Rewards mean 1.00000000 Rewards std 0.00000000 Rewards sum 15.00000000\n"
     ]
    },
    {
     "name": "stderr",
     "output_type": "stream",
     "text": [
      "\n",
      "  9%|██████████▉                                                                                                              | 18/200 [00:00<00:00, 206.17it/s]\u001b[A\n",
      " 30%|███████████████████████████████████▌                                                                                    | 296/1000 [00:28<01:05, 10.72it/s]"
     ]
    },
    {
     "name": "stdout",
     "output_type": "stream",
     "text": [
      "DONE\n",
      "DONE\n",
      "Actor_loss 1.57396561\n",
      "Critic_loss 0.99999878\n",
      "Rewards mean 1.00000000 Rewards std 0.00000000 Rewards sum 19.00000000\n"
     ]
    },
    {
     "name": "stderr",
     "output_type": "stream",
     "text": [
      "\n",
      "  4%|████▉                                                                                                                     | 8/200 [00:00<00:01, 169.16it/s]\u001b[A\n",
      " 30%|███████████████████████████████████▌                                                                                    | 296/1000 [00:28<01:05, 10.72it/s]"
     ]
    },
    {
     "name": "stdout",
     "output_type": "stream",
     "text": [
      "DONE\n",
      "DONE\n",
      "Actor_loss 1.05793329\n",
      "Critic_loss 1.00000297\n",
      "Rewards mean 1.00000000 Rewards std 0.00000000 Rewards sum 9.00000000\n"
     ]
    },
    {
     "name": "stderr",
     "output_type": "stream",
     "text": [
      "\n",
      "  8%|█████████▋                                                                                                               | 16/200 [00:00<00:00, 195.79it/s]\u001b[A\n",
      " 30%|███████████████████████████████████▊                                                                                    | 298/1000 [00:28<01:00, 11.62it/s]"
     ]
    },
    {
     "name": "stdout",
     "output_type": "stream",
     "text": [
      "DONE\n",
      "DONE\n",
      "Actor_loss 1.32327884\n",
      "Critic_loss 1.00000095\n",
      "Rewards mean 1.00000000 Rewards std 0.00000000 Rewards sum 17.00000000\n"
     ]
    },
    {
     "name": "stderr",
     "output_type": "stream",
     "text": [
      "\n",
      "  4%|█████▍                                                                                                                    | 9/200 [00:00<00:01, 180.78it/s]\u001b[A\n"
     ]
    },
    {
     "name": "stdout",
     "output_type": "stream",
     "text": [
      "DONE\n",
      "DONE\n"
     ]
    },
    {
     "name": "stderr",
     "output_type": "stream",
     "text": [
      " 30%|███████████████████████████████████▊                                                                                    | 298/1000 [00:28<01:00, 11.62it/s]"
     ]
    },
    {
     "name": "stdout",
     "output_type": "stream",
     "text": [
      "Actor_loss 1.16103031\n",
      "Critic_loss 1.00000214\n",
      "Rewards mean 1.00000000 Rewards std 0.00000000 Rewards sum 10.00000000\n"
     ]
    },
    {
     "name": "stderr",
     "output_type": "stream",
     "text": [
      "\n",
      "  5%|██████                                                                                                                   | 10/200 [00:00<00:01, 168.94it/s]\u001b[A\n",
      " 30%|████████████████████████████████████                                                                                    | 300/1000 [00:28<00:54, 12.79it/s]"
     ]
    },
    {
     "name": "stdout",
     "output_type": "stream",
     "text": [
      "DONE\n",
      "DONE\n",
      "Actor_loss 1.34984339\n",
      "Critic_loss 1.00000081\n",
      "Rewards mean 1.00000000 Rewards std 0.00000000 Rewards sum 11.00000000\n"
     ]
    },
    {
     "name": "stderr",
     "output_type": "stream",
     "text": [
      "\n",
      "  5%|██████                                                                                                                   | 10/200 [00:00<00:01, 169.19it/s]\u001b[A\n",
      " 30%|████████████████████████████████████                                                                                    | 300/1000 [00:29<00:54, 12.79it/s]"
     ]
    },
    {
     "name": "stdout",
     "output_type": "stream",
     "text": [
      "DONE\n",
      "DONE\n",
      "Actor_loss 1.03088863\n",
      "Critic_loss 1.00000286\n",
      "Rewards mean 1.00000000 Rewards std 0.00000000 Rewards sum 11.00000000\n"
     ]
    },
    {
     "name": "stderr",
     "output_type": "stream",
     "text": [
      "\n",
      "  0%|                                                                                                                                   | 0/200 [00:00<?, ?it/s]\u001b[A\n",
      " 11%|█████████████▎                                                                                                           | 22/200 [00:00<00:01, 167.08it/s]\u001b[A\n",
      " 30%|████████████████████████████████████▏                                                                                   | 302/1000 [00:29<00:59, 11.71it/s]"
     ]
    },
    {
     "name": "stdout",
     "output_type": "stream",
     "text": [
      "DONE\n",
      "DONE\n",
      "Actor_loss 1.21440635\n",
      "Critic_loss 1.00000162\n",
      "Rewards mean 1.00000000 Rewards std 0.00000000 Rewards sum 23.00000000\n"
     ]
    },
    {
     "name": "stderr",
     "output_type": "stream",
     "text": [
      "\n",
      "  4%|████▉                                                                                                                     | 8/200 [00:00<00:01, 181.52it/s]\u001b[A\n",
      " 30%|████████████████████████████████████▏                                                                                   | 302/1000 [00:29<00:59, 11.71it/s]"
     ]
    },
    {
     "name": "stdout",
     "output_type": "stream",
     "text": [
      "DONE\n",
      "DONE\n",
      "Actor_loss 1.05696921\n",
      "Critic_loss 1.00000298\n",
      "Rewards mean 1.00000000 Rewards std 0.00000000 Rewards sum 9.00000000\n"
     ]
    },
    {
     "name": "stderr",
     "output_type": "stream",
     "text": [
      "\n",
      "  9%|██████████▉                                                                                                              | 18/200 [00:00<00:00, 192.50it/s]\u001b[A\n",
      " 30%|████████████████████████████████████▍                                                                                   | 304/1000 [00:29<00:57, 12.19it/s]"
     ]
    },
    {
     "name": "stdout",
     "output_type": "stream",
     "text": [
      "DONE\n",
      "DONE\n",
      "Actor_loss 1.21962201\n",
      "Critic_loss 1.00000168\n",
      "Rewards mean 1.00000000 Rewards std 0.00000000 Rewards sum 19.00000000\n"
     ]
    },
    {
     "name": "stderr",
     "output_type": "stream",
     "text": [
      "\n",
      "  5%|██████                                                                                                                   | 10/200 [00:00<00:01, 171.41it/s]\u001b[A\n",
      " 30%|████████████████████████████████████▍                                                                                   | 304/1000 [00:29<00:57, 12.19it/s]"
     ]
    },
    {
     "name": "stdout",
     "output_type": "stream",
     "text": [
      "DONE\n",
      "DONE\n",
      "Actor_loss 1.13660199\n",
      "Critic_loss 1.00000229\n",
      "Rewards mean 1.00000000 Rewards std 0.00000000 Rewards sum 11.00000000\n"
     ]
    },
    {
     "name": "stderr",
     "output_type": "stream",
     "text": [
      "\n",
      "  0%|                                                                                                                                   | 0/200 [00:00<?, ?it/s]\u001b[A\n",
      " 12%|██████████████▌                                                                                                          | 24/200 [00:00<00:01, 152.91it/s]\u001b[A\n",
      " 31%|████████████████████████████████████▋                                                                                   | 306/1000 [00:29<01:03, 10.95it/s]"
     ]
    },
    {
     "name": "stdout",
     "output_type": "stream",
     "text": [
      "DONE\n",
      "DONE\n",
      "Actor_loss 1.32330579\n",
      "Critic_loss 1.00000096\n",
      "Rewards mean 1.00000000 Rewards std 0.00000000 Rewards sum 25.00000000\n"
     ]
    },
    {
     "name": "stderr",
     "output_type": "stream",
     "text": [
      "\n",
      "  8%|█████████▋                                                                                                               | 16/200 [00:00<00:01, 151.06it/s]\u001b[A\n",
      " 31%|████████████████████████████████████▋                                                                                   | 306/1000 [00:29<01:03, 10.95it/s]"
     ]
    },
    {
     "name": "stdout",
     "output_type": "stream",
     "text": [
      "DONE\n",
      "DONE\n",
      "Actor_loss 1.58981618\n",
      "Critic_loss 0.99999845\n",
      "Rewards mean 1.00000000 Rewards std 0.00000000 Rewards sum 17.00000000\n"
     ]
    },
    {
     "name": "stderr",
     "output_type": "stream",
     "text": [
      "\n",
      "  8%|█████████                                                                                                                | 15/200 [00:00<00:01, 150.81it/s]\u001b[A\n",
      " 31%|████████████████████████████████████▉                                                                                   | 308/1000 [00:29<01:07, 10.32it/s]"
     ]
    },
    {
     "name": "stdout",
     "output_type": "stream",
     "text": [
      "DONE\n",
      "DONE\n",
      "Actor_loss 1.13685863\n",
      "Critic_loss 1.00000216\n",
      "Rewards mean 1.00000000 Rewards std 0.00000000 Rewards sum 16.00000000\n"
     ]
    },
    {
     "name": "stderr",
     "output_type": "stream",
     "text": [
      "\n",
      "  0%|                                                                                                                                   | 0/200 [00:00<?, ?it/s]\u001b[A\n",
      " 14%|█████████████████▌                                                                                                       | 29/200 [00:00<00:00, 187.14it/s]\u001b[A\n",
      " 31%|████████████████████████████████████▉                                                                                   | 308/1000 [00:29<01:07, 10.32it/s]"
     ]
    },
    {
     "name": "stdout",
     "output_type": "stream",
     "text": [
      "DONE\n",
      "DONE\n",
      "Actor_loss 1.40138032\n",
      "Critic_loss 1.00000038\n",
      "Rewards mean 1.00000000 Rewards std 0.00000000 Rewards sum 30.00000000\n"
     ]
    },
    {
     "name": "stderr",
     "output_type": "stream",
     "text": [
      "\n",
      "  7%|████████▍                                                                                                                | 14/200 [00:00<00:00, 190.89it/s]\u001b[A\n",
      " 31%|█████████████████████████████████████▏                                                                                  | 310/1000 [00:29<01:11,  9.62it/s]"
     ]
    },
    {
     "name": "stdout",
     "output_type": "stream",
     "text": [
      "DONE\n",
      "DONE\n",
      "Actor_loss 1.22820354\n",
      "Critic_loss 1.00000159\n",
      "Rewards mean 1.00000000 Rewards std 0.00000000 Rewards sum 15.00000000\n"
     ]
    },
    {
     "name": "stderr",
     "output_type": "stream",
     "text": [
      "\n",
      "  0%|                                                                                                                                   | 0/200 [00:00<?, ?it/s]\u001b[A\n",
      " 17%|████████████████████▌                                                                                                    | 34/200 [00:00<00:00, 205.14it/s]\u001b[A\n",
      " 31%|█████████████████████████████████████▏                                                                                  | 310/1000 [00:30<01:11,  9.62it/s]"
     ]
    },
    {
     "name": "stdout",
     "output_type": "stream",
     "text": [
      "DONE\n",
      "DONE\n",
      "Actor_loss 1.23706740\n",
      "Critic_loss 1.00000139\n",
      "Rewards mean 1.00000000 Rewards std 0.00000000 Rewards sum 35.00000000\n"
     ]
    },
    {
     "name": "stderr",
     "output_type": "stream",
     "text": [
      "\n",
      "  6%|███████▎                                                                                                                 | 12/200 [00:00<00:00, 194.78it/s]\u001b[A\n",
      " 31%|█████████████████████████████████████▍                                                                                  | 312/1000 [00:30<01:14,  9.20it/s]"
     ]
    },
    {
     "name": "stdout",
     "output_type": "stream",
     "text": [
      "DONE\n",
      "DONE\n",
      "Actor_loss 1.18988942\n",
      "Critic_loss 1.00000195\n",
      "Rewards mean 1.00000000 Rewards std 0.00000000 Rewards sum 13.00000000\n"
     ]
    },
    {
     "name": "stderr",
     "output_type": "stream",
     "text": [
      "\n",
      "  5%|██████                                                                                                                   | 10/200 [00:00<00:01, 189.55it/s]\u001b[A\n",
      " 31%|█████████████████████████████████████▍                                                                                  | 312/1000 [00:30<01:14,  9.20it/s]"
     ]
    },
    {
     "name": "stdout",
     "output_type": "stream",
     "text": [
      "DONE\n",
      "DONE\n",
      "Actor_loss 1.13645316\n",
      "Critic_loss 1.00000238\n",
      "Rewards mean 1.00000000 Rewards std 0.00000000 Rewards sum 11.00000000\n"
     ]
    },
    {
     "name": "stderr",
     "output_type": "stream",
     "text": [
      "\n",
      "  5%|██████                                                                                                                   | 10/200 [00:00<00:00, 201.77it/s]\u001b[A\n",
      " 31%|█████████████████████████████████████▋                                                                                  | 314/1000 [00:30<01:03, 10.75it/s]"
     ]
    },
    {
     "name": "stdout",
     "output_type": "stream",
     "text": [
      "DONE\n",
      "DONE\n",
      "Actor_loss 1.24317320\n",
      "Critic_loss 1.00000170\n",
      "Rewards mean 1.00000000 Rewards std 0.00000000 Rewards sum 11.00000000\n"
     ]
    },
    {
     "name": "stderr",
     "output_type": "stream",
     "text": [
      "\n",
      "  6%|███████▊                                                                                                                 | 13/200 [00:00<00:00, 209.19it/s]\u001b[A\n",
      " 31%|█████████████████████████████████████▋                                                                                  | 314/1000 [00:30<01:03, 10.75it/s]"
     ]
    },
    {
     "name": "stdout",
     "output_type": "stream",
     "text": [
      "DONE\n",
      "DONE\n",
      "Actor_loss 1.25135637\n",
      "Critic_loss 1.00000149\n",
      "Rewards mean 1.00000000 Rewards std 0.00000000 Rewards sum 14.00000000\n"
     ]
    },
    {
     "name": "stderr",
     "output_type": "stream",
     "text": [
      "\n",
      "  4%|████▉                                                                                                                     | 8/200 [00:00<00:01, 185.79it/s]\u001b[A\n",
      " 32%|█████████████████████████████████████▉                                                                                  | 316/1000 [00:30<00:56, 12.11it/s]"
     ]
    },
    {
     "name": "stdout",
     "output_type": "stream",
     "text": [
      "DONE\n",
      "DONE\n",
      "Actor_loss 1.05582365\n",
      "Critic_loss 1.00000301\n",
      "Rewards mean 1.00000000 Rewards std 0.00000000 Rewards sum 9.00000000\n"
     ]
    },
    {
     "name": "stderr",
     "output_type": "stream",
     "text": [
      "\n",
      " 10%|███████████▍                                                                                                             | 19/200 [00:00<00:00, 194.89it/s]\u001b[A\n",
      " 32%|█████████████████████████████████████▉                                                                                  | 316/1000 [00:30<00:56, 12.11it/s]"
     ]
    },
    {
     "name": "stdout",
     "output_type": "stream",
     "text": [
      "DONE\n",
      "DONE\n",
      "Actor_loss 1.31628054\n",
      "Critic_loss 1.00000099\n",
      "Rewards mean 1.00000000 Rewards std 0.00000000 Rewards sum 20.00000000\n"
     ]
    },
    {
     "name": "stderr",
     "output_type": "stream",
     "text": [
      "\n",
      "  6%|███████▊                                                                                                                 | 13/200 [00:00<00:01, 175.34it/s]\u001b[A\n",
      " 32%|██████████████████████████████████████▏                                                                                 | 318/1000 [00:30<00:58, 11.69it/s]"
     ]
    },
    {
     "name": "stdout",
     "output_type": "stream",
     "text": [
      "DONE\n",
      "DONE\n",
      "Actor_loss 1.58041809\n",
      "Critic_loss 0.99999878\n",
      "Rewards mean 1.00000000 Rewards std 0.00000000 Rewards sum 14.00000000\n"
     ]
    },
    {
     "name": "stderr",
     "output_type": "stream",
     "text": [
      "\n",
      "  8%|█████████                                                                                                                | 15/200 [00:00<00:00, 189.80it/s]\u001b[A\n",
      " 32%|██████████████████████████████████████▏                                                                                 | 318/1000 [00:30<00:58, 11.69it/s]"
     ]
    },
    {
     "name": "stdout",
     "output_type": "stream",
     "text": [
      "DONE\n",
      "DONE\n",
      "Actor_loss 1.35003561\n",
      "Critic_loss 1.00000079\n",
      "Rewards mean 1.00000000 Rewards std 0.00000000 Rewards sum 16.00000000\n"
     ]
    },
    {
     "name": "stderr",
     "output_type": "stream",
     "text": [
      "\n",
      "  6%|██████▋                                                                                                                  | 11/200 [00:00<00:01, 188.86it/s]\u001b[A\n",
      " 32%|██████████████████████████████████████▍                                                                                 | 320/1000 [00:30<00:55, 12.17it/s]"
     ]
    },
    {
     "name": "stdout",
     "output_type": "stream",
     "text": [
      "DONE\n",
      "DONE\n",
      "Actor_loss 1.31116767\n",
      "Critic_loss 1.00000110\n",
      "Rewards mean 1.00000000 Rewards std 0.00000000 Rewards sum 12.00000000\n"
     ]
    },
    {
     "name": "stderr",
     "output_type": "stream",
     "text": [
      "\n",
      "  6%|██████▋                                                                                                                  | 11/200 [00:00<00:01, 177.77it/s]\u001b[A\n",
      " 32%|██████████████████████████████████████▍                                                                                 | 320/1000 [00:30<00:55, 12.17it/s]"
     ]
    },
    {
     "name": "stdout",
     "output_type": "stream",
     "text": [
      "DONE\n",
      "DONE\n",
      "Actor_loss 1.11667340\n",
      "Critic_loss 1.00000245\n",
      "Rewards mean 1.00000000 Rewards std 0.00000000 Rewards sum 12.00000000\n"
     ]
    },
    {
     "name": "stderr",
     "output_type": "stream",
     "text": [
      "\n",
      "  5%|██████                                                                                                                   | 10/200 [00:00<00:01, 167.05it/s]\u001b[A\n"
     ]
    },
    {
     "name": "stdout",
     "output_type": "stream",
     "text": [
      "DONE\n",
      "DONE\n"
     ]
    },
    {
     "name": "stderr",
     "output_type": "stream",
     "text": [
      " 32%|██████████████████████████████████████▋                                                                                 | 322/1000 [00:30<00:52, 12.89it/s]"
     ]
    },
    {
     "name": "stdout",
     "output_type": "stream",
     "text": [
      "Actor_loss 1.13593320\n",
      "Critic_loss 1.00000228\n",
      "Rewards mean 1.00000000 Rewards std 0.00000000 Rewards sum 11.00000000\n"
     ]
    },
    {
     "name": "stderr",
     "output_type": "stream",
     "text": [
      "\n",
      "  8%|██████████▎                                                                                                              | 17/200 [00:00<00:01, 163.67it/s]\u001b[A\n",
      " 32%|██████████████████████████████████████▋                                                                                 | 322/1000 [00:31<00:52, 12.89it/s]"
     ]
    },
    {
     "name": "stdout",
     "output_type": "stream",
     "text": [
      "DONE\n",
      "DONE\n",
      "Actor_loss 1.36271125\n",
      "Critic_loss 1.00000067\n",
      "Rewards mean 1.00000000 Rewards std 0.00000000 Rewards sum 18.00000000\n"
     ]
    },
    {
     "name": "stderr",
     "output_type": "stream",
     "text": [
      "\n",
      "  6%|██████▋                                                                                                                  | 11/200 [00:00<00:01, 186.58it/s]\u001b[A\n",
      " 32%|██████████████████████████████████████▉                                                                                 | 324/1000 [00:31<00:54, 12.39it/s]"
     ]
    },
    {
     "name": "stdout",
     "output_type": "stream",
     "text": [
      "DONE\n",
      "DONE\n",
      "Actor_loss 1.31115453\n",
      "Critic_loss 1.00000107\n",
      "Rewards mean 1.00000000 Rewards std 0.00000000 Rewards sum 12.00000000\n"
     ]
    },
    {
     "name": "stderr",
     "output_type": "stream",
     "text": [
      "\n",
      "  0%|                                                                                                                                   | 0/200 [00:00<?, ?it/s]\u001b[A\n",
      " 10%|████████████                                                                                                             | 20/200 [00:00<00:00, 180.18it/s]\u001b[A\n",
      " 32%|██████████████████████████████████████▉                                                                                 | 324/1000 [00:31<00:54, 12.39it/s]"
     ]
    },
    {
     "name": "stdout",
     "output_type": "stream",
     "text": [
      "DONE\n",
      "DONE\n",
      "Actor_loss 1.35009492\n",
      "Critic_loss 1.00000079\n",
      "Rewards mean 1.00000000 Rewards std 0.00000000 Rewards sum 21.00000000\n"
     ]
    },
    {
     "name": "stderr",
     "output_type": "stream",
     "text": [
      "\n",
      "  8%|██████████▎                                                                                                              | 17/200 [00:00<00:00, 205.23it/s]\u001b[A\n",
      " 33%|███████████████████████████████████████                                                                                 | 326/1000 [00:31<00:58, 11.47it/s]"
     ]
    },
    {
     "name": "stdout",
     "output_type": "stream",
     "text": [
      "DONE\n",
      "DONE\n",
      "Actor_loss 1.29970154\n",
      "Critic_loss 1.00000108\n",
      "Rewards mean 1.00000000 Rewards std 0.00000000 Rewards sum 18.00000000\n"
     ]
    },
    {
     "name": "stderr",
     "output_type": "stream",
     "text": [
      "\n",
      "  8%|█████████                                                                                                                | 15/200 [00:00<00:00, 188.72it/s]\u001b[A\n",
      " 33%|███████████████████████████████████████                                                                                 | 326/1000 [00:31<00:58, 11.47it/s]"
     ]
    },
    {
     "name": "stdout",
     "output_type": "stream",
     "text": [
      "DONE\n",
      "DONE\n",
      "Actor_loss 1.20729708\n",
      "Critic_loss 1.00000178\n",
      "Rewards mean 1.00000000 Rewards std 0.00000000 Rewards sum 16.00000000\n"
     ]
    },
    {
     "name": "stderr",
     "output_type": "stream",
     "text": [
      "\n",
      "  4%|████▉                                                                                                                     | 8/200 [00:00<00:01, 162.95it/s]\u001b[A\n",
      " 33%|███████████████████████████████████████▎                                                                                | 328/1000 [00:31<00:55, 12.19it/s]"
     ]
    },
    {
     "name": "stdout",
     "output_type": "stream",
     "text": [
      "DONE\n",
      "DONE\n",
      "Actor_loss 1.18935188\n",
      "Critic_loss 1.00000216\n",
      "Rewards mean 1.00000000 Rewards std 0.00000000 Rewards sum 9.00000000\n"
     ]
    },
    {
     "name": "stderr",
     "output_type": "stream",
     "text": [
      "\n",
      "  0%|                                                                                                                                   | 0/200 [00:00<?, ?it/s]\u001b[A\n",
      " 16%|███████████████████▉                                                                                                     | 33/200 [00:00<00:00, 206.95it/s]\u001b[A\n",
      " 33%|███████████████████████████████████████▎                                                                                | 328/1000 [00:31<00:55, 12.19it/s]"
     ]
    },
    {
     "name": "stdout",
     "output_type": "stream",
     "text": [
      "DONE\n",
      "DONE\n",
      "Actor_loss 1.44101194\n",
      "Critic_loss 1.00000006\n",
      "Rewards mean 1.00000000 Rewards std 0.00000000 Rewards sum 34.00000000\n"
     ]
    },
    {
     "name": "stderr",
     "output_type": "stream",
     "text": [
      "\n",
      " 10%|████████████                                                                                                             | 20/200 [00:00<00:00, 205.52it/s]\u001b[A\n",
      " 33%|███████████████████████████████████████▌                                                                                | 330/1000 [00:31<01:05, 10.25it/s]"
     ]
    },
    {
     "name": "stdout",
     "output_type": "stream",
     "text": [
      "DONE\n",
      "DONE\n",
      "Actor_loss 1.29655529\n",
      "Critic_loss 1.00000115\n",
      "Rewards mean 1.00000000 Rewards std 0.00000000 Rewards sum 21.00000000\n"
     ]
    },
    {
     "name": "stderr",
     "output_type": "stream",
     "text": [
      "\n",
      "  6%|███████▎                                                                                                                 | 12/200 [00:00<00:01, 178.29it/s]\u001b[A\n",
      " 33%|███████████████████████████████████████▌                                                                                | 330/1000 [00:31<01:05, 10.25it/s]"
     ]
    },
    {
     "name": "stdout",
     "output_type": "stream",
     "text": [
      "DONE\n",
      "DONE\n",
      "Actor_loss 1.10018962\n",
      "Critic_loss 1.00000242\n",
      "Rewards mean 1.00000000 Rewards std 0.00000000 Rewards sum 13.00000000\n"
     ]
    },
    {
     "name": "stderr",
     "output_type": "stream",
     "text": [
      "\n",
      "  6%|██████▋                                                                                                                  | 11/200 [00:00<00:01, 174.62it/s]\u001b[A\n",
      " 33%|███████████████████████████████████████▊                                                                                | 332/1000 [00:31<00:59, 11.15it/s]"
     ]
    },
    {
     "name": "stdout",
     "output_type": "stream",
     "text": [
      "DONE\n",
      "DONE\n",
      "Actor_loss 1.11627696\n",
      "Critic_loss 1.00000237\n",
      "Rewards mean 1.00000000 Rewards std 0.00000000 Rewards sum 12.00000000\n"
     ]
    },
    {
     "name": "stderr",
     "output_type": "stream",
     "text": [
      "\n",
      "  0%|                                                                                                                                   | 0/200 [00:00<?, ?it/s]\u001b[A\n",
      " 14%|█████████████████▌                                                                                                       | 29/200 [00:00<00:00, 188.87it/s]\u001b[A\n",
      " 33%|███████████████████████████████████████▊                                                                                | 332/1000 [00:32<00:59, 11.15it/s]"
     ]
    },
    {
     "name": "stdout",
     "output_type": "stream",
     "text": [
      "DONE\n",
      "DONE\n",
      "Actor_loss 1.43881422\n",
      "Critic_loss 1.00000039\n",
      "Rewards mean 1.00000000 Rewards std 0.00000000 Rewards sum 30.00000000\n"
     ]
    },
    {
     "name": "stderr",
     "output_type": "stream",
     "text": [
      "\n",
      "  6%|███████▎                                                                                                                 | 12/200 [00:00<00:01, 182.14it/s]\u001b[A\n",
      " 33%|████████████████████████████████████████                                                                                | 334/1000 [00:32<01:04, 10.28it/s]"
     ]
    },
    {
     "name": "stdout",
     "output_type": "stream",
     "text": [
      "DONE\n",
      "DONE\n",
      "Actor_loss 1.27871406\n",
      "Critic_loss 1.00000126\n",
      "Rewards mean 1.00000000 Rewards std 0.00000000 Rewards sum 13.00000000\n"
     ]
    },
    {
     "name": "stderr",
     "output_type": "stream",
     "text": [
      "\n",
      "  9%|██████████▉                                                                                                              | 18/200 [00:00<00:00, 188.22it/s]\u001b[A\n",
      " 33%|████████████████████████████████████████                                                                                | 334/1000 [00:32<01:04, 10.28it/s]"
     ]
    },
    {
     "name": "stdout",
     "output_type": "stream",
     "text": [
      "DONE\n",
      "DONE\n",
      "Actor_loss 1.51653989\n",
      "Critic_loss 0.99999963\n",
      "Rewards mean 1.00000000 Rewards std 0.00000000 Rewards sum 19.00000000\n"
     ]
    },
    {
     "name": "stderr",
     "output_type": "stream",
     "text": [
      "\n",
      "  7%|████████▍                                                                                                                | 14/200 [00:00<00:00, 202.68it/s]\u001b[A\n",
      " 34%|████████████████████████████████████████▎                                                                               | 336/1000 [00:32<01:02, 10.59it/s]"
     ]
    },
    {
     "name": "stdout",
     "output_type": "stream",
     "text": [
      "DONE\n",
      "DONE\n",
      "Actor_loss 1.22779991\n",
      "Critic_loss 1.00000168\n",
      "Rewards mean 1.00000000 Rewards std 0.00000000 Rewards sum 15.00000000\n"
     ]
    },
    {
     "name": "stderr",
     "output_type": "stream",
     "text": [
      "\n",
      "  0%|                                                                                                                                   | 0/200 [00:00<?, ?it/s]\u001b[A\n",
      " 12%|███████████████▏                                                                                                         | 25/200 [00:00<00:00, 199.28it/s]\u001b[A\n",
      " 34%|████████████████████████████████████████▎                                                                               | 336/1000 [00:32<01:02, 10.59it/s]"
     ]
    },
    {
     "name": "stdout",
     "output_type": "stream",
     "text": [
      "DONE\n",
      "DONE\n",
      "Actor_loss 1.43562718\n",
      "Critic_loss 1.00000049\n",
      "Rewards mean 1.00000000 Rewards std 0.00000000 Rewards sum 26.00000000\n"
     ]
    },
    {
     "name": "stderr",
     "output_type": "stream",
     "text": [
      "\n",
      "  0%|                                                                                                                                   | 0/200 [00:00<?, ?it/s]\u001b[A\n",
      " 12%|███████████████▏                                                                                                         | 25/200 [00:00<00:00, 197.85it/s]\u001b[A\n",
      " 34%|████████████████████████████████████████▌                                                                               | 338/1000 [00:32<01:09,  9.46it/s]"
     ]
    },
    {
     "name": "stdout",
     "output_type": "stream",
     "text": [
      "DONE\n",
      "DONE\n",
      "Actor_loss 1.43549973\n",
      "Critic_loss 1.00000046\n",
      "Rewards mean 1.00000000 Rewards std 0.00000000 Rewards sum 26.00000000\n"
     ]
    },
    {
     "name": "stderr",
     "output_type": "stream",
     "text": [
      "\n",
      "  6%|███████▊                                                                                                                 | 13/200 [00:00<00:00, 199.83it/s]\u001b[A\n",
      " 34%|████████████████████████████████████████▌                                                                               | 338/1000 [00:32<01:09,  9.46it/s]"
     ]
    },
    {
     "name": "stdout",
     "output_type": "stream",
     "text": [
      "DONE\n",
      "DONE\n",
      "Actor_loss 1.66168311\n",
      "Critic_loss 0.99999754\n",
      "Rewards mean 1.00000000 Rewards std 0.00000000 Rewards sum 14.00000000\n"
     ]
    },
    {
     "name": "stderr",
     "output_type": "stream",
     "text": [
      "\n",
      " 10%|████████████▋                                                                                                            | 21/200 [00:00<00:00, 209.53it/s]\u001b[A\n",
      " 34%|████████████████████████████████████████▊                                                                               | 340/1000 [00:32<01:06,  9.96it/s]"
     ]
    },
    {
     "name": "stdout",
     "output_type": "stream",
     "text": [
      "DONE\n",
      "DONE\n",
      "Actor_loss 1.22816188\n",
      "Critic_loss 1.00000160\n",
      "Rewards mean 1.00000000 Rewards std 0.00000000 Rewards sum 22.00000000\n"
     ]
    },
    {
     "name": "stderr",
     "output_type": "stream",
     "text": [
      "\n",
      "  8%|█████████▋                                                                                                               | 16/200 [00:00<00:00, 191.82it/s]\u001b[A\n",
      "                                                                                                                                                                \r"
     ]
    },
    {
     "name": "stdout",
     "output_type": "stream",
     "text": [
      "DONE\n",
      "DONE\n"
     ]
    },
    {
     "name": "stderr",
     "output_type": "stream",
     "text": [
      "\r",
      " 34%|████████████████████████████████████████▊                                                                               | 340/1000 [00:32<01:06,  9.96it/s]"
     ]
    },
    {
     "name": "stdout",
     "output_type": "stream",
     "text": [
      "Actor_loss 1.32329944\n",
      "Critic_loss 1.00000096\n",
      "Rewards mean 1.00000000 Rewards std 0.00000000 Rewards sum 17.00000000\n"
     ]
    },
    {
     "name": "stderr",
     "output_type": "stream",
     "text": [
      "\n",
      "  6%|██████▋                                                                                                                  | 11/200 [00:00<00:01, 178.53it/s]\u001b[A\n",
      " 34%|█████████████████████████████████████████                                                                               | 342/1000 [00:32<01:01, 10.67it/s]"
     ]
    },
    {
     "name": "stdout",
     "output_type": "stream",
     "text": [
      "DONE\n",
      "DONE\n",
      "Actor_loss 1.11721904\n",
      "Critic_loss 1.00000245\n",
      "Rewards mean 1.00000000 Rewards std 0.00000000 Rewards sum 12.00000000\n"
     ]
    },
    {
     "name": "stderr",
     "output_type": "stream",
     "text": [
      "\n",
      "  0%|                                                                                                                                   | 0/200 [00:00<?, ?it/s]\u001b[A\n",
      " 10%|███████████▍                                                                                                             | 19/200 [00:00<00:01, 160.54it/s]\u001b[A\n",
      " 34%|█████████████████████████████████████████                                                                               | 342/1000 [00:32<01:01, 10.67it/s]"
     ]
    },
    {
     "name": "stdout",
     "output_type": "stream",
     "text": [
      "DONE\n",
      "DONE\n",
      "Actor_loss 1.59673966\n",
      "Critic_loss 0.99999835\n",
      "Rewards mean 1.00000000 Rewards std 0.00000000 Rewards sum 20.00000000\n"
     ]
    },
    {
     "name": "stderr",
     "output_type": "stream",
     "text": [
      "\n",
      "  6%|███████▎                                                                                                                 | 12/200 [00:00<00:01, 163.91it/s]\u001b[A\n",
      " 34%|█████████████████████████████████████████▎                                                                              | 344/1000 [00:33<01:02, 10.42it/s]"
     ]
    },
    {
     "name": "stdout",
     "output_type": "stream",
     "text": [
      "DONE\n",
      "DONE\n",
      "Actor_loss 1.36764933\n",
      "Critic_loss 1.00000064\n",
      "Rewards mean 1.00000000 Rewards std 0.00000000 Rewards sum 13.00000000\n"
     ]
    },
    {
     "name": "stderr",
     "output_type": "stream",
     "text": [
      "\n",
      "  6%|███████▊                                                                                                                 | 13/200 [00:00<00:01, 182.04it/s]\u001b[A\n",
      " 34%|█████████████████████████████████████████▎                                                                              | 344/1000 [00:33<01:02, 10.42it/s]"
     ]
    },
    {
     "name": "stdout",
     "output_type": "stream",
     "text": [
      "DONE\n",
      "DONE\n",
      "Actor_loss 1.25162085\n",
      "Critic_loss 1.00000159\n",
      "Rewards mean 1.00000000 Rewards std 0.00000000 Rewards sum 14.00000000\n"
     ]
    },
    {
     "name": "stderr",
     "output_type": "stream",
     "text": [
      "\n",
      "  5%|██████                                                                                                                   | 10/200 [00:00<00:00, 190.80it/s]\u001b[A\n",
      " 35%|█████████████████████████████████████████▌                                                                              | 346/1000 [00:33<00:57, 11.43it/s]"
     ]
    },
    {
     "name": "stdout",
     "output_type": "stream",
     "text": [
      "DONE\n",
      "DONE\n",
      "Actor_loss 1.13690000\n",
      "Critic_loss 1.00000240\n",
      "Rewards mean 1.00000000 Rewards std 0.00000000 Rewards sum 11.00000000\n"
     ]
    },
    {
     "name": "stderr",
     "output_type": "stream",
     "text": [
      "\n",
      "  0%|                                                                                                                                   | 0/200 [00:00<?, ?it/s]\u001b[A\n",
      " 12%|██████████████▌                                                                                                          | 24/200 [00:00<00:00, 199.80it/s]\u001b[A\n",
      " 35%|█████████████████████████████████████████▌                                                                              | 346/1000 [00:33<00:57, 11.43it/s]"
     ]
    },
    {
     "name": "stdout",
     "output_type": "stream",
     "text": [
      "DONE\n",
      "DONE\n",
      "Actor_loss 1.32329628\n",
      "Critic_loss 1.00000099\n",
      "Rewards mean 1.00000000 Rewards std 0.00000000 Rewards sum 25.00000000\n"
     ]
    },
    {
     "name": "stderr",
     "output_type": "stream",
     "text": [
      "\n",
      "  6%|███████▎                                                                                                                 | 12/200 [00:00<00:01, 186.94it/s]\u001b[A\n",
      "                                                                                                                                                                \r"
     ]
    },
    {
     "name": "stdout",
     "output_type": "stream",
     "text": [
      "DONE\n",
      "DONE\n",
      "Actor_loss 1.10123014\n",
      "Critic_loss 1.00000242\n",
      "Rewards mean 1.00000000 Rewards std 0.00000000 Rewards sum 13.00000000\n"
     ]
    },
    {
     "name": "stderr",
     "output_type": "stream",
     "text": [
      " 35%|█████████████████████████████████████████▊                                                                              | 348/1000 [00:33<00:59, 11.05it/s]\n",
      "  6%|███████▎                                                                                                                 | 12/200 [00:00<00:01, 166.47it/s]\u001b[A\n",
      " 35%|█████████████████████████████████████████▊                                                                              | 348/1000 [00:33<00:59, 11.05it/s]"
     ]
    },
    {
     "name": "stdout",
     "output_type": "stream",
     "text": [
      "DONE\n",
      "DONE\n",
      "Actor_loss 1.10094676\n",
      "Critic_loss 1.00000247\n",
      "Rewards mean 1.00000000 Rewards std 0.00000000 Rewards sum 13.00000000\n"
     ]
    },
    {
     "name": "stderr",
     "output_type": "stream",
     "text": [
      "\n",
      "  4%|█████▍                                                                                                                    | 9/200 [00:00<00:01, 155.52it/s]\u001b[A\n",
      " 35%|██████████████████████████████████████████                                                                              | 350/1000 [00:33<00:54, 11.84it/s]"
     ]
    },
    {
     "name": "stdout",
     "output_type": "stream",
     "text": [
      "DONE\n",
      "DONE\n",
      "Actor_loss 1.04129778\n",
      "Critic_loss 1.00000299\n",
      "Rewards mean 1.00000000 Rewards std 0.00000000 Rewards sum 10.00000000\n"
     ]
    },
    {
     "name": "stderr",
     "output_type": "stream",
     "text": [
      "\n",
      "  8%|█████████                                                                                                                | 15/200 [00:00<00:01, 172.07it/s]\u001b[A\n",
      " 35%|██████████████████████████████████████████                                                                              | 350/1000 [00:33<00:54, 11.84it/s]"
     ]
    },
    {
     "name": "stdout",
     "output_type": "stream",
     "text": [
      "DONE\n",
      "DONE\n",
      "Actor_loss 1.27875202\n",
      "Critic_loss 1.00000128\n",
      "Rewards mean 1.00000000 Rewards std 0.00000000 Rewards sum 16.00000000\n"
     ]
    },
    {
     "name": "stderr",
     "output_type": "stream",
     "text": [
      "\n",
      "  0%|                                                                                                                                   | 0/200 [00:00<?, ?it/s]\u001b[A\n",
      " 12%|█████████████▉                                                                                                           | 23/200 [00:00<00:00, 184.29it/s]\u001b[A\n",
      " 35%|██████████████████████████████████████████▏                                                                             | 352/1000 [00:33<01:00, 10.80it/s]"
     ]
    },
    {
     "name": "stdout",
     "output_type": "stream",
     "text": [
      "DONE\n",
      "DONE\n",
      "Actor_loss 1.34076056\n",
      "Critic_loss 1.00000088\n",
      "Rewards mean 1.00000000 Rewards std 0.00000000 Rewards sum 24.00000000\n"
     ]
    },
    {
     "name": "stderr",
     "output_type": "stream",
     "text": [
      "\n",
      "  4%|████▉                                                                                                                     | 8/200 [00:00<00:01, 160.25it/s]\u001b[A\n",
      " 35%|██████████████████████████████████████████▏                                                                             | 352/1000 [00:33<01:00, 10.80it/s]"
     ]
    },
    {
     "name": "stdout",
     "output_type": "stream",
     "text": [
      "DONE\n",
      "DONE\n",
      "Actor_loss 1.05573379\n",
      "Critic_loss 1.00000313\n",
      "Rewards mean 1.00000000 Rewards std 0.00000000 Rewards sum 9.00000000\n"
     ]
    },
    {
     "name": "stderr",
     "output_type": "stream",
     "text": [
      "\n",
      "  4%|█████▍                                                                                                                    | 9/200 [00:00<00:01, 181.12it/s]\u001b[A\n",
      " 35%|██████████████████████████████████████████▍                                                                             | 354/1000 [00:33<00:52, 12.26it/s]"
     ]
    },
    {
     "name": "stdout",
     "output_type": "stream",
     "text": [
      "DONE\n",
      "DONE\n",
      "Actor_loss 1.15972767\n",
      "Critic_loss 1.00000235\n",
      "Rewards mean 1.00000000 Rewards std 0.00000000 Rewards sum 10.00000000\n"
     ]
    },
    {
     "name": "stderr",
     "output_type": "stream",
     "text": [
      "\n",
      "  0%|                                                                                                                                   | 0/200 [00:00<?, ?it/s]\u001b[A\n",
      " 18%|█████████████████████▊                                                                                                   | 36/200 [00:00<00:00, 206.30it/s]\u001b[A\n",
      " 35%|██████████████████████████████████████████▍                                                                             | 354/1000 [00:34<00:52, 12.26it/s]"
     ]
    },
    {
     "name": "stdout",
     "output_type": "stream",
     "text": [
      "DONE\n",
      "DONE\n",
      "Actor_loss 1.36792036\n",
      "Critic_loss 1.00000062\n",
      "Rewards mean 1.00000000 Rewards std 0.00000000 Rewards sum 37.00000000\n"
     ]
    },
    {
     "name": "stderr",
     "output_type": "stream",
     "text": [
      "\n",
      "  0%|                                                                                                                                   | 0/200 [00:00<?, ?it/s]\u001b[A\n",
      " 14%|████████████████▎                                                                                                        | 27/200 [00:00<00:00, 194.25it/s]\u001b[A\n",
      " 36%|██████████████████████████████████████████▋                                                                             | 356/1000 [00:34<01:08,  9.45it/s]"
     ]
    },
    {
     "name": "stdout",
     "output_type": "stream",
     "text": [
      "DONE\n",
      "DONE\n",
      "Actor_loss 1.35799241\n",
      "Critic_loss 1.00000076\n",
      "Rewards mean 1.00000000 Rewards std 0.00000000 Rewards sum 28.00000000\n"
     ]
    },
    {
     "name": "stderr",
     "output_type": "stream",
     "text": [
      "\n",
      "  8%|█████████▋                                                                                                               | 16/200 [00:00<00:01, 178.59it/s]\u001b[A\n",
      " 36%|██████████████████████████████████████████▋                                                                             | 356/1000 [00:34<01:08,  9.45it/s]"
     ]
    },
    {
     "name": "stdout",
     "output_type": "stream",
     "text": [
      "DONE\n",
      "DONE\n",
      "Actor_loss 1.32331906\n",
      "Critic_loss 1.00000100\n",
      "Rewards mean 1.00000000 Rewards std 0.00000000 Rewards sum 17.00000000\n"
     ]
    },
    {
     "name": "stderr",
     "output_type": "stream",
     "text": [
      "\n",
      "  6%|███████▊                                                                                                                 | 13/200 [00:00<00:01, 182.38it/s]\u001b[A\n",
      " 36%|██████████████████████████████████████████▉                                                                             | 358/1000 [00:34<01:04,  9.99it/s]"
     ]
    },
    {
     "name": "stdout",
     "output_type": "stream",
     "text": [
      "DONE\n",
      "DONE\n",
      "Actor_loss 1.33360890\n",
      "Critic_loss 1.00000096\n",
      "Rewards mean 1.00000000 Rewards std 0.00000000 Rewards sum 14.00000000\n"
     ]
    },
    {
     "name": "stderr",
     "output_type": "stream",
     "text": [
      "\n",
      "  6%|███████▊                                                                                                                 | 13/200 [00:00<00:00, 195.63it/s]\u001b[A\n",
      " 36%|██████████████████████████████████████████▉                                                                             | 358/1000 [00:34<01:04,  9.99it/s]"
     ]
    },
    {
     "name": "stdout",
     "output_type": "stream",
     "text": [
      "DONE\n",
      "DONE\n",
      "Actor_loss 1.25128207\n",
      "Critic_loss 1.00000156\n",
      "Rewards mean 1.00000000 Rewards std 0.00000000 Rewards sum 14.00000000\n"
     ]
    },
    {
     "name": "stderr",
     "output_type": "stream",
     "text": [
      "\n",
      "  8%|█████████                                                                                                                | 15/200 [00:00<00:00, 193.76it/s]\u001b[A\n",
      " 36%|███████████████████████████████████████████▏                                                                            | 360/1000 [00:34<00:59, 10.70it/s]"
     ]
    },
    {
     "name": "stdout",
     "output_type": "stream",
     "text": [
      "DONE\n",
      "DONE\n",
      "Actor_loss 1.27870682\n",
      "Critic_loss 1.00000136\n",
      "Rewards mean 1.00000000 Rewards std 0.00000000 Rewards sum 16.00000000\n"
     ]
    },
    {
     "name": "stderr",
     "output_type": "stream",
     "text": [
      "\n",
      "  6%|███████▎                                                                                                                 | 12/200 [00:00<00:00, 192.04it/s]\u001b[A\n",
      " 36%|███████████████████████████████████████████▏                                                                            | 360/1000 [00:34<00:59, 10.70it/s]"
     ]
    },
    {
     "name": "stdout",
     "output_type": "stream",
     "text": [
      "DONE\n",
      "DONE\n",
      "Actor_loss 1.54623626\n",
      "Critic_loss 0.99999930\n",
      "Rewards mean 1.00000000 Rewards std 0.00000000 Rewards sum 13.00000000\n"
     ]
    },
    {
     "name": "stderr",
     "output_type": "stream",
     "text": [
      "\n",
      "  0%|                                                                                                                                   | 0/200 [00:00<?, ?it/s]\u001b[A\n",
      " 10%|████████████▋                                                                                                            | 21/200 [00:00<00:00, 206.64it/s]\u001b[A\n",
      " 22%|███████████████████████████▏                                                                                             | 45/200 [00:00<00:00, 181.53it/s]\u001b[A\n",
      " 36%|███████████████████████████████████████████▍                                                                            | 362/1000 [00:34<01:12,  8.79it/s]"
     ]
    },
    {
     "name": "stdout",
     "output_type": "stream",
     "text": [
      "DONE\n",
      "DONE\n",
      "Actor_loss 1.44497197\n",
      "Critic_loss 1.00000007\n",
      "Rewards mean 1.00000000 Rewards std 0.00000000 Rewards sum 46.00000000\n"
     ]
    },
    {
     "name": "stderr",
     "output_type": "stream",
     "text": [
      "\n",
      "  5%|██████                                                                                                                   | 10/200 [00:00<00:01, 169.63it/s]\u001b[A\n",
      " 36%|███████████████████████████████████████████▍                                                                            | 362/1000 [00:34<01:12,  8.79it/s]"
     ]
    },
    {
     "name": "stdout",
     "output_type": "stream",
     "text": [
      "DONE\n",
      "DONE\n",
      "Actor_loss 1.13648522\n",
      "Critic_loss 1.00000240\n",
      "Rewards mean 1.00000000 Rewards std 0.00000000 Rewards sum 11.00000000\n"
     ]
    },
    {
     "name": "stderr",
     "output_type": "stream",
     "text": [
      "\n",
      "  4%|████▉                                                                                                                     | 8/200 [00:00<00:01, 182.46it/s]\u001b[A\n",
      " 36%|███████████████████████████████████████████▋                                                                            | 364/1000 [00:34<01:01, 10.33it/s]"
     ]
    },
    {
     "name": "stdout",
     "output_type": "stream",
     "text": [
      "DONE\n",
      "DONE\n",
      "Actor_loss 1.05615129\n",
      "Critic_loss 1.00000308\n",
      "Rewards mean 1.00000000 Rewards std 0.00000000 Rewards sum 9.00000000\n"
     ]
    },
    {
     "name": "stderr",
     "output_type": "stream",
     "text": [
      "\n",
      "  8%|██████████▎                                                                                                              | 17/200 [00:00<00:00, 207.33it/s]\u001b[A\n",
      " 36%|███████████████████████████████████████████▋                                                                            | 364/1000 [00:35<01:01, 10.33it/s]"
     ]
    },
    {
     "name": "stdout",
     "output_type": "stream",
     "text": [
      "DONE\n",
      "DONE\n",
      "Actor_loss 1.36259999\n",
      "Critic_loss 1.00000067\n",
      "Rewards mean 1.00000000 Rewards std 0.00000000 Rewards sum 18.00000000\n"
     ]
    },
    {
     "name": "stderr",
     "output_type": "stream",
     "text": [
      "\n",
      " 10%|███████████▍                                                                                                             | 19/200 [00:00<00:00, 203.40it/s]\u001b[A\n",
      " 37%|███████████████████████████████████████████▉                                                                            | 366/1000 [00:35<01:00, 10.43it/s]"
     ]
    },
    {
     "name": "stdout",
     "output_type": "stream",
     "text": [
      "DONE\n",
      "DONE\n",
      "Actor_loss 1.26002390\n",
      "Critic_loss 1.00000149\n",
      "Rewards mean 1.00000000 Rewards std 0.00000000 Rewards sum 20.00000000\n"
     ]
    },
    {
     "name": "stderr",
     "output_type": "stream",
     "text": [
      "\n",
      "  0%|                                                                                                                                   | 0/200 [00:00<?, ?it/s]\u001b[A\n",
      " 10%|████████████▋                                                                                                            | 21/200 [00:00<00:01, 170.27it/s]\u001b[A\n",
      " 37%|███████████████████████████████████████████▉                                                                            | 366/1000 [00:35<01:00, 10.43it/s]"
     ]
    },
    {
     "name": "stdout",
     "output_type": "stream",
     "text": [
      "DONE\n",
      "DONE\n",
      "Actor_loss 1.38055264\n",
      "Critic_loss 1.00000057\n",
      "Rewards mean 1.00000000 Rewards std 0.00000000 Rewards sum 22.00000000\n"
     ]
    },
    {
     "name": "stderr",
     "output_type": "stream",
     "text": [
      "\n",
      "  4%|████▉                                                                                                                     | 8/200 [00:00<00:01, 161.27it/s]\u001b[A\n",
      " 37%|████████████████████████████████████████████▏                                                                           | 368/1000 [00:35<00:59, 10.56it/s]"
     ]
    },
    {
     "name": "stdout",
     "output_type": "stream",
     "text": [
      "DONE\n",
      "DONE\n",
      "Actor_loss 1.05622769\n",
      "Critic_loss 1.00000308\n",
      "Rewards mean 1.00000000 Rewards std 0.00000000 Rewards sum 9.00000000\n"
     ]
    },
    {
     "name": "stderr",
     "output_type": "stream",
     "text": [
      "\n",
      "  0%|                                                                                                                                   | 0/200 [00:00<?, ?it/s]\u001b[A\n",
      " 16%|███████████████████▎                                                                                                     | 32/200 [00:00<00:00, 186.80it/s]\u001b[A\n",
      " 37%|████████████████████████████████████████████▏                                                                           | 368/1000 [00:35<00:59, 10.56it/s]"
     ]
    },
    {
     "name": "stdout",
     "output_type": "stream",
     "text": [
      "DONE\n",
      "DONE\n",
      "Actor_loss 1.45680586\n",
      "Critic_loss 1.00000018\n",
      "Rewards mean 1.00000000 Rewards std 0.00000000 Rewards sum 33.00000000\n"
     ]
    },
    {
     "name": "stderr",
     "output_type": "stream",
     "text": [
      "\n",
      "  6%|███████▎                                                                                                                 | 12/200 [00:00<00:01, 169.82it/s]\u001b[A\n",
      " 37%|████████████████████████████████████████████▍                                                                           | 370/1000 [00:35<01:05,  9.58it/s]"
     ]
    },
    {
     "name": "stdout",
     "output_type": "stream",
     "text": [
      "DONE\n",
      "DONE\n",
      "Actor_loss 1.10085771\n",
      "Critic_loss 1.00000249\n",
      "Rewards mean 1.00000000 Rewards std 0.00000000 Rewards sum 13.00000000\n"
     ]
    },
    {
     "name": "stderr",
     "output_type": "stream",
     "text": [
      "\n",
      "  7%|████████▍                                                                                                                | 14/200 [00:00<00:01, 166.07it/s]\u001b[A\n",
      " 37%|████████████████████████████████████████████▍                                                                           | 370/1000 [00:35<01:05,  9.58it/s]"
     ]
    },
    {
     "name": "stdout",
     "output_type": "stream",
     "text": [
      "DONE\n",
      "DONE\n",
      "Actor_loss 1.15157952\n",
      "Critic_loss 1.00000216\n",
      "Rewards mean 1.00000000 Rewards std 0.00000000 Rewards sum 15.00000000\n"
     ]
    },
    {
     "name": "stderr",
     "output_type": "stream",
     "text": [
      "\n",
      "  8%|█████████                                                                                                                | 15/200 [00:00<00:01, 179.10it/s]\u001b[A\n",
      " 37%|████████████████████████████████████████████▋                                                                           | 372/1000 [00:35<01:02,  9.99it/s]"
     ]
    },
    {
     "name": "stdout",
     "output_type": "stream",
     "text": [
      "DONE\n",
      "DONE\n",
      "Actor_loss 1.35004508\n",
      "Critic_loss 1.00000087\n",
      "Rewards mean 1.00000000 Rewards std 0.00000000 Rewards sum 16.00000000\n"
     ]
    },
    {
     "name": "stderr",
     "output_type": "stream",
     "text": [
      "\n",
      "  0%|                                                                                                                                   | 0/200 [00:00<?, ?it/s]\u001b[A\n",
      " 16%|███████████████████▎                                                                                                     | 32/200 [00:00<00:00, 192.58it/s]\u001b[A\n",
      " 37%|████████████████████████████████████████████▋                                                                           | 372/1000 [00:35<01:02,  9.99it/s]"
     ]
    },
    {
     "name": "stdout",
     "output_type": "stream",
     "text": [
      "DONE\n",
      "DONE\n",
      "Actor_loss 1.35669933\n",
      "Critic_loss 1.00000080\n",
      "Rewards mean 1.00000000 Rewards std 0.00000000 Rewards sum 33.00000000\n"
     ]
    },
    {
     "name": "stderr",
     "output_type": "stream",
     "text": [
      "\n",
      "  8%|██████████▎                                                                                                              | 17/200 [00:00<00:00, 200.40it/s]\u001b[A\n",
      " 37%|████████████████████████████████████████████▉                                                                           | 374/1000 [00:36<01:08,  9.15it/s]"
     ]
    },
    {
     "name": "stdout",
     "output_type": "stream",
     "text": [
      "DONE\n",
      "DONE\n",
      "Actor_loss 1.29975187\n",
      "Critic_loss 1.00000116\n",
      "Rewards mean 1.00000000 Rewards std 0.00000000 Rewards sum 18.00000000\n"
     ]
    },
    {
     "name": "stderr",
     "output_type": "stream",
     "text": [
      "\n",
      "  7%|████████▍                                                                                                                | 14/200 [00:00<00:01, 179.30it/s]\u001b[A\n",
      " 37%|████████████████████████████████████████████▉                                                                           | 374/1000 [00:36<01:08,  9.15it/s]"
     ]
    },
    {
     "name": "stdout",
     "output_type": "stream",
     "text": [
      "DONE\n",
      "DONE\n",
      "Actor_loss 1.30423585\n",
      "Critic_loss 1.00000113\n",
      "Rewards mean 1.00000000 Rewards std 0.00000000 Rewards sum 15.00000000\n"
     ]
    },
    {
     "name": "stderr",
     "output_type": "stream",
     "text": [
      "\n",
      "  0%|                                                                                                                                   | 0/200 [00:00<?, ?it/s]\u001b[A\n",
      " 10%|███████████▍                                                                                                             | 19/200 [00:00<00:00, 186.96it/s]\u001b[A"
     ]
    },
    {
     "name": "stdout",
     "output_type": "stream",
     "text": [
      "DONE\n"
     ]
    },
    {
     "name": "stderr",
     "output_type": "stream",
     "text": [
      " 10%|███████████▍                                                                                                             | 19/200 [00:00<00:01, 173.37it/s]\n",
      " 38%|█████████████████████████████████████████████                                                                           | 376/1000 [00:36<01:06,  9.42it/s]"
     ]
    },
    {
     "name": "stdout",
     "output_type": "stream",
     "text": [
      "DONE\n",
      "Actor_loss 1.37247557\n",
      "Critic_loss 1.00000068\n",
      "Rewards mean 1.00000000 Rewards std 0.00000000 Rewards sum 20.00000000\n"
     ]
    },
    {
     "name": "stderr",
     "output_type": "stream",
     "text": [
      "\n",
      "  0%|                                                                                                                                   | 0/200 [00:00<?, ?it/s]\u001b[A"
     ]
    },
    {
     "name": "stdout",
     "output_type": "stream",
     "text": [
      "DONE\n"
     ]
    },
    {
     "name": "stderr",
     "output_type": "stream",
     "text": [
      "  6%|███████▎                                                                                                                 | 12/200 [00:00<00:01, 157.17it/s]\n",
      " 38%|█████████████████████████████████████████████                                                                           | 376/1000 [00:36<01:06,  9.42it/s]"
     ]
    },
    {
     "name": "stdout",
     "output_type": "stream",
     "text": [
      "DONE\n",
      "Actor_loss 1.18987589\n",
      "Critic_loss 1.00000209\n",
      "Rewards mean 1.00000000 Rewards std 0.00000000 Rewards sum 13.00000000\n"
     ]
    },
    {
     "name": "stderr",
     "output_type": "stream",
     "text": [
      "\n",
      "  6%|███████▊                                                                                                                 | 13/200 [00:00<00:01, 179.63it/s]\u001b[A\n",
      " 38%|█████████████████████████████████████████████▎                                                                          | 378/1000 [00:36<01:01, 10.14it/s]"
     ]
    },
    {
     "name": "stdout",
     "output_type": "stream",
     "text": [
      "DONE\n",
      "DONE\n",
      "Actor_loss 1.25141327\n",
      "Critic_loss 1.00000157\n",
      "Rewards mean 1.00000000 Rewards std 0.00000000 Rewards sum 14.00000000\n"
     ]
    },
    {
     "name": "stderr",
     "output_type": "stream",
     "text": [
      "\n",
      "  5%|██████                                                                                                                   | 10/200 [00:00<00:01, 185.08it/s]\u001b[A\n",
      " 38%|█████████████████████████████████████████████▎                                                                          | 378/1000 [00:36<01:01, 10.14it/s]"
     ]
    },
    {
     "name": "stdout",
     "output_type": "stream",
     "text": [
      "DONE\n",
      "DONE\n",
      "Actor_loss 1.13624102\n",
      "Critic_loss 1.00000255\n",
      "Rewards mean 1.00000000 Rewards std 0.00000000 Rewards sum 11.00000000\n"
     ]
    },
    {
     "name": "stderr",
     "output_type": "stream",
     "text": [
      "\n",
      "  0%|                                                                                                                                   | 0/200 [00:00<?, ?it/s]\u001b[A\n",
      " 11%|█████████████▎                                                                                                           | 22/200 [00:00<00:00, 198.03it/s]\u001b[A\n",
      " 38%|█████████████████████████████████████████████▌                                                                          | 380/1000 [00:36<00:59, 10.46it/s]"
     ]
    },
    {
     "name": "stdout",
     "output_type": "stream",
     "text": [
      "DONE\n",
      "DONE\n",
      "Actor_loss 1.26253056\n",
      "Critic_loss 1.00000137\n",
      "Rewards mean 1.00000000 Rewards std 0.00000000 Rewards sum 23.00000000\n"
     ]
    },
    {
     "name": "stderr",
     "output_type": "stream",
     "text": [
      "\n",
      "  0%|                                                                                                                                   | 0/200 [00:00<?, ?it/s]\u001b[A"
     ]
    },
    {
     "name": "stdout",
     "output_type": "stream",
     "text": [
      "DONE\n"
     ]
    },
    {
     "name": "stderr",
     "output_type": "stream",
     "text": [
      "  6%|███████▊                                                                                                                 | 13/200 [00:00<00:01, 158.60it/s]\n",
      " 38%|█████████████████████████████████████████████▌                                                                          | 380/1000 [00:36<00:59, 10.46it/s]"
     ]
    },
    {
     "name": "stdout",
     "output_type": "stream",
     "text": [
      "DONE\n",
      "Actor_loss 1.25130026\n",
      "Critic_loss 1.00000156\n",
      "Rewards mean 1.00000000 Rewards std 0.00000000 Rewards sum 14.00000000\n"
     ]
    },
    {
     "name": "stderr",
     "output_type": "stream",
     "text": [
      "\n",
      " 10%|███████████▍                                                                                                             | 19/200 [00:00<00:00, 211.63it/s]\u001b[A\n",
      " 38%|█████████████████████████████████████████████▊                                                                          | 382/1000 [00:36<00:58, 10.59it/s]"
     ]
    },
    {
     "name": "stdout",
     "output_type": "stream",
     "text": [
      "DONE\n",
      "DONE\n",
      "Actor_loss 1.48509480\n",
      "Critic_loss 0.99999949\n",
      "Rewards mean 1.00000000 Rewards std 0.00000000 Rewards sum 20.00000000\n"
     ]
    },
    {
     "name": "stderr",
     "output_type": "stream",
     "text": [
      "\n",
      "  6%|███████▊                                                                                                                 | 13/200 [00:00<00:01, 170.98it/s]\u001b[A\n",
      " 38%|█████████████████████████████████████████████▊                                                                          | 382/1000 [00:36<00:58, 10.59it/s]"
     ]
    },
    {
     "name": "stdout",
     "output_type": "stream",
     "text": [
      "DONE\n",
      "DONE\n",
      "Actor_loss 1.33358710\n",
      "Critic_loss 1.00000092\n",
      "Rewards mean 1.00000000 Rewards std 0.00000000 Rewards sum 14.00000000\n"
     ]
    },
    {
     "name": "stderr",
     "output_type": "stream",
     "text": [
      "\n",
      "  4%|████▉                                                                                                                     | 8/200 [00:00<00:01, 154.81it/s]\u001b[A\n",
      " 38%|██████████████████████████████████████████████                                                                          | 384/1000 [00:36<00:53, 11.48it/s]"
     ]
    },
    {
     "name": "stdout",
     "output_type": "stream",
     "text": [
      "DONE\n",
      "DONE\n",
      "Actor_loss 1.05614571\n",
      "Critic_loss 1.00000311\n",
      "Rewards mean 1.00000000 Rewards std 0.00000000 Rewards sum 9.00000000\n"
     ]
    },
    {
     "name": "stderr",
     "output_type": "stream",
     "text": [
      "\n",
      "  0%|                                                                                                                                   | 0/200 [00:00<?, ?it/s]\u001b[A\n",
      " 16%|███████████████████▉                                                                                                     | 33/200 [00:00<00:00, 196.63it/s]\u001b[A\n",
      " 38%|██████████████████████████████████████████████                                                                          | 384/1000 [00:37<00:53, 11.48it/s]"
     ]
    },
    {
     "name": "stdout",
     "output_type": "stream",
     "text": [
      "DONE\n",
      "DONE\n",
      "Actor_loss 1.40831844\n",
      "Critic_loss 1.00000036\n",
      "Rewards mean 1.00000000 Rewards std 0.00000000 Rewards sum 34.00000000\n"
     ]
    },
    {
     "name": "stderr",
     "output_type": "stream",
     "text": [
      "\n",
      "  8%|█████████                                                                                                                | 15/200 [00:00<00:01, 168.13it/s]\u001b[A\n",
      " 39%|██████████████████████████████████████████████▎                                                                         | 386/1000 [00:37<01:02,  9.88it/s]"
     ]
    },
    {
     "name": "stdout",
     "output_type": "stream",
     "text": [
      "DONE\n",
      "DONE\n",
      "Actor_loss 1.27879877\n",
      "Critic_loss 1.00000136\n",
      "Rewards mean 1.00000000 Rewards std 0.00000000 Rewards sum 16.00000000\n"
     ]
    },
    {
     "name": "stderr",
     "output_type": "stream",
     "text": [
      "\n",
      "  0%|                                                                                                                                   | 0/200 [00:00<?, ?it/s]\u001b[A"
     ]
    },
    {
     "name": "stdout",
     "output_type": "stream",
     "text": [
      "DONE\n"
     ]
    },
    {
     "name": "stderr",
     "output_type": "stream",
     "text": [
      " 10%|████████████                                                                                                             | 20/200 [00:00<00:00, 198.02it/s]\n",
      " 39%|██████████████████████████████████████████████▎                                                                         | 386/1000 [00:37<01:02,  9.88it/s]"
     ]
    },
    {
     "name": "stdout",
     "output_type": "stream",
     "text": [
      "DONE\n",
      "Actor_loss 1.56336932\n",
      "Critic_loss 0.99999886\n",
      "Rewards mean 1.00000000 Rewards std 0.00000000 Rewards sum 21.00000000\n"
     ]
    },
    {
     "name": "stderr",
     "output_type": "stream",
     "text": [
      "\n",
      "  6%|██████▋                                                                                                                  | 11/200 [00:00<00:00, 196.37it/s]\u001b[A\n",
      " 39%|██████████████████████████████████████████████▌                                                                         | 388/1000 [00:37<00:58, 10.41it/s]"
     ]
    },
    {
     "name": "stdout",
     "output_type": "stream",
     "text": [
      "DONE\n",
      "DONE\n",
      "Actor_loss 1.21424793\n",
      "Critic_loss 1.00000191\n",
      "Rewards mean 1.00000000 Rewards std 0.00000000 Rewards sum 12.00000000\n"
     ]
    },
    {
     "name": "stderr",
     "output_type": "stream",
     "text": [
      "\n",
      "  6%|███████▊                                                                                                                 | 13/200 [00:00<00:00, 188.81it/s]\u001b[A\n",
      " 39%|██████████████████████████████████████████████▌                                                                         | 388/1000 [00:37<00:58, 10.41it/s]"
     ]
    },
    {
     "name": "stdout",
     "output_type": "stream",
     "text": [
      "DONE\n",
      "DONE\n",
      "Actor_loss 1.16938284\n",
      "Critic_loss 1.00000211\n",
      "Rewards mean 1.00000000 Rewards std 0.00000000 Rewards sum 14.00000000\n"
     ]
    },
    {
     "name": "stderr",
     "output_type": "stream",
     "text": [
      "\n",
      "  0%|                                                                                                                                   | 0/200 [00:00<?, ?it/s]\u001b[A\n",
      " 10%|████████████                                                                                                             | 20/200 [00:00<00:00, 183.18it/s]\u001b[A\n",
      " 39%|██████████████████████████████████████████████▊                                                                         | 390/1000 [00:37<00:58, 10.47it/s]"
     ]
    },
    {
     "name": "stdout",
     "output_type": "stream",
     "text": [
      "DONE\n",
      "DONE\n",
      "Actor_loss 1.29660986\n",
      "Critic_loss 1.00000118\n",
      "Rewards mean 1.00000000 Rewards std 0.00000000 Rewards sum 21.00000000\n"
     ]
    },
    {
     "name": "stderr",
     "output_type": "stream",
     "text": [
      "\n",
      "  4%|█████▍                                                                                                                    | 9/200 [00:00<00:01, 171.98it/s]\u001b[A\n",
      " 39%|██████████████████████████████████████████████▊                                                                         | 390/1000 [00:37<00:58, 10.47it/s]"
     ]
    },
    {
     "name": "stdout",
     "output_type": "stream",
     "text": [
      "DONE\n",
      "DONE\n",
      "Actor_loss 1.16006405\n",
      "Critic_loss 1.00000236\n",
      "Rewards mean 1.00000000 Rewards std 0.00000000 Rewards sum 10.00000000\n"
     ]
    },
    {
     "name": "stderr",
     "output_type": "stream",
     "text": [
      "\n",
      "  8%|█████████                                                                                                                | 15/200 [00:00<00:01, 180.15it/s]\u001b[A\n",
      " 39%|███████████████████████████████████████████████                                                                         | 392/1000 [00:37<00:54, 11.22it/s]"
     ]
    },
    {
     "name": "stdout",
     "output_type": "stream",
     "text": [
      "DONE\n",
      "DONE\n",
      "Actor_loss 1.27876624\n",
      "Critic_loss 1.00000137\n",
      "Rewards mean 1.00000000 Rewards std 0.00000000 Rewards sum 16.00000000\n"
     ]
    },
    {
     "name": "stderr",
     "output_type": "stream",
     "text": [
      "\n",
      "  0%|                                                                                                                                   | 0/200 [00:00<?, ?it/s]\u001b[A\n",
      " 14%|████████████████▉                                                                                                        | 28/200 [00:00<00:00, 180.69it/s]\u001b[A\n",
      " 39%|███████████████████████████████████████████████                                                                         | 392/1000 [00:37<00:54, 11.22it/s]"
     ]
    },
    {
     "name": "stdout",
     "output_type": "stream",
     "text": [
      "DONE\n",
      "DONE\n",
      "Actor_loss 1.30421682\n",
      "Critic_loss 1.00000107\n",
      "Rewards mean 1.00000000 Rewards std 0.00000000 Rewards sum 29.00000000\n"
     ]
    },
    {
     "name": "stderr",
     "output_type": "stream",
     "text": [
      "\n",
      "  0%|                                                                                                                                   | 0/200 [00:00<?, ?it/s]\u001b[A\n",
      " 11%|█████████████▎                                                                                                           | 22/200 [00:00<00:00, 201.01it/s]\u001b[A\n",
      " 39%|███████████████████████████████████████████████▎                                                                        | 394/1000 [00:37<01:02,  9.63it/s]"
     ]
    },
    {
     "name": "stdout",
     "output_type": "stream",
     "text": [
      "DONE\n",
      "DONE\n",
      "Actor_loss 1.45695996\n",
      "Critic_loss 0.99999982\n",
      "Rewards mean 1.00000000 Rewards std 0.00000000 Rewards sum 23.00000000\n"
     ]
    },
    {
     "name": "stderr",
     "output_type": "stream",
     "text": [
      "\n",
      " 10%|███████████▍                                                                                                             | 19/200 [00:00<00:00, 211.57it/s]\u001b[A\n",
      " 39%|███████████████████████████████████████████████▎                                                                        | 394/1000 [00:38<01:02,  9.63it/s]"
     ]
    },
    {
     "name": "stdout",
     "output_type": "stream",
     "text": [
      "DONE\n",
      "DONE\n",
      "Actor_loss 1.26002291\n",
      "Critic_loss 1.00000148\n",
      "Rewards mean 1.00000000 Rewards std 0.00000000 Rewards sum 20.00000000\n"
     ]
    },
    {
     "name": "stderr",
     "output_type": "stream",
     "text": [
      "\n",
      "  6%|███████▊                                                                                                                 | 13/200 [00:00<00:00, 189.15it/s]\u001b[A\n",
      " 40%|███████████████████████████████████████████████▌                                                                        | 396/1000 [00:38<00:59, 10.17it/s]"
     ]
    },
    {
     "name": "stdout",
     "output_type": "stream",
     "text": [
      "DONE\n",
      "DONE\n",
      "Actor_loss 1.25132954\n",
      "Critic_loss 1.00000160\n",
      "Rewards mean 1.00000000 Rewards std 0.00000000 Rewards sum 14.00000000\n"
     ]
    },
    {
     "name": "stderr",
     "output_type": "stream",
     "text": [
      "\n",
      "  9%|██████████▉                                                                                                              | 18/200 [00:00<00:01, 181.72it/s]\u001b[A\n",
      " 40%|███████████████████████████████████████████████▌                                                                        | 396/1000 [00:38<00:59, 10.17it/s]"
     ]
    },
    {
     "name": "stdout",
     "output_type": "stream",
     "text": [
      "DONE\n",
      "DONE\n",
      "Actor_loss 1.33817810\n",
      "Critic_loss 1.00000092\n",
      "Rewards mean 1.00000000 Rewards std 0.00000000 Rewards sum 19.00000000\n"
     ]
    },
    {
     "name": "stderr",
     "output_type": "stream",
     "text": [
      "\n",
      "  6%|██████▋                                                                                                                  | 11/200 [00:00<00:00, 190.08it/s]\u001b[A\n",
      " 40%|███████████████████████████████████████████████▊                                                                        | 398/1000 [00:38<00:56, 10.64it/s]"
     ]
    },
    {
     "name": "stdout",
     "output_type": "stream",
     "text": [
      "DONE\n",
      "DONE\n",
      "Actor_loss 1.31116516\n",
      "Critic_loss 1.00000119\n",
      "Rewards mean 1.00000000 Rewards std 0.00000000 Rewards sum 12.00000000\n"
     ]
    },
    {
     "name": "stderr",
     "output_type": "stream",
     "text": [
      "\n",
      "  6%|███████▎                                                                                                                 | 12/200 [00:00<00:00, 192.90it/s]\u001b[A\n",
      " 40%|███████████████████████████████████████████████▊                                                                        | 398/1000 [00:38<00:56, 10.64it/s]"
     ]
    },
    {
     "name": "stdout",
     "output_type": "stream",
     "text": [
      "DONE\n",
      "DONE\n",
      "Actor_loss 1.36785668\n",
      "Critic_loss 1.00000072\n",
      "Rewards mean 1.00000000 Rewards std 0.00000000 Rewards sum 13.00000000\n"
     ]
    },
    {
     "name": "stderr",
     "output_type": "stream",
     "text": [
      "\n",
      "  0%|                                                                                                                                   | 0/200 [00:00<?, ?it/s]\u001b[A\n",
      " 16%|███████████████████▉                                                                                                     | 33/200 [00:00<00:00, 187.77it/s]\u001b[A\n",
      " 40%|████████████████████████████████████████████████                                                                        | 400/1000 [00:38<01:01,  9.68it/s]"
     ]
    },
    {
     "name": "stdout",
     "output_type": "stream",
     "text": [
      "DONE\n",
      "DONE\n",
      "Actor_loss 1.44063863\n",
      "Critic_loss 1.00000037\n",
      "Rewards mean 1.00000000 Rewards std 0.00000000 Rewards sum 34.00000000\n"
     ]
    },
    {
     "name": "stderr",
     "output_type": "stream",
     "text": [
      "\n",
      "  7%|████████▍                                                                                                                | 14/200 [00:00<00:01, 166.67it/s]\u001b[A\n",
      " 40%|████████████████████████████████████████████████                                                                        | 400/1000 [00:38<01:01,  9.68it/s]"
     ]
    },
    {
     "name": "stdout",
     "output_type": "stream",
     "text": [
      "DONE\n",
      "DONE\n",
      "Actor_loss 1.22798081\n",
      "Critic_loss 1.00000171\n",
      "Rewards mean 1.00000000 Rewards std 0.00000000 Rewards sum 15.00000000\n"
     ]
    },
    {
     "name": "stderr",
     "output_type": "stream",
     "text": [
      "\n",
      "  8%|█████████                                                                                                                | 15/200 [00:00<00:01, 164.34it/s]\u001b[A\n",
      " 40%|████████████████████████████████████████████████▏                                                                       | 402/1000 [00:38<01:00,  9.93it/s]"
     ]
    },
    {
     "name": "stdout",
     "output_type": "stream",
     "text": [
      "DONE\n",
      "DONE\n",
      "Actor_loss 1.20755585\n",
      "Critic_loss 1.00000177\n",
      "Rewards mean 1.00000000 Rewards std 0.00000000 Rewards sum 16.00000000\n"
     ]
    },
    {
     "name": "stderr",
     "output_type": "stream",
     "text": [
      "\n",
      "  6%|██████▋                                                                                                                  | 11/200 [00:00<00:01, 150.61it/s]\u001b[A\n",
      " 40%|████████████████████████████████████████████████▏                                                                       | 402/1000 [00:38<01:00,  9.93it/s]"
     ]
    },
    {
     "name": "stdout",
     "output_type": "stream",
     "text": [
      "DONE\n",
      "DONE\n",
      "Actor_loss 1.21400209\n",
      "Critic_loss 1.00000190\n",
      "Rewards mean 1.00000000 Rewards std 0.00000000 Rewards sum 12.00000000\n"
     ]
    },
    {
     "name": "stderr",
     "output_type": "stream",
     "text": [
      "\n",
      "  4%|████▉                                                                                                                     | 8/200 [00:00<00:01, 147.77it/s]\u001b[A\n",
      " 40%|████████████████████████████████████████████████▍                                                                       | 404/1000 [00:38<00:54, 10.90it/s]"
     ]
    },
    {
     "name": "stdout",
     "output_type": "stream",
     "text": [
      "DONE\n",
      "DONE\n",
      "Actor_loss 1.05587848\n",
      "Critic_loss 1.00000321\n",
      "Rewards mean 1.00000000 Rewards std 0.00000000 Rewards sum 9.00000000\n"
     ]
    },
    {
     "name": "stderr",
     "output_type": "stream",
     "text": [
      "\n",
      "  6%|███████▎                                                                                                                 | 12/200 [00:00<00:01, 175.88it/s]\u001b[A\n",
      " 40%|████████████████████████████████████████████████▍                                                                       | 404/1000 [00:38<00:54, 10.90it/s]"
     ]
    },
    {
     "name": "stdout",
     "output_type": "stream",
     "text": [
      "DONE\n",
      "DONE\n",
      "Actor_loss 1.18947732\n",
      "Critic_loss 1.00000198\n",
      "Rewards mean 1.00000000 Rewards std 0.00000000 Rewards sum 13.00000000\n"
     ]
    },
    {
     "name": "stderr",
     "output_type": "stream",
     "text": [
      "\n",
      "  6%|███████▎                                                                                                                 | 12/200 [00:00<00:01, 187.59it/s]\u001b[A\n",
      " 41%|████████████████████████████████████████████████▋                                                                       | 406/1000 [00:38<00:50, 11.65it/s]"
     ]
    },
    {
     "name": "stdout",
     "output_type": "stream",
     "text": [
      "DONE\n",
      "DONE\n",
      "Actor_loss 1.18937052\n",
      "Critic_loss 1.00000198\n",
      "Rewards mean 1.00000000 Rewards std 0.00000000 Rewards sum 13.00000000\n"
     ]
    },
    {
     "name": "stderr",
     "output_type": "stream",
     "text": [
      "\n",
      "  0%|                                                                                                                                   | 0/200 [00:00<?, ?it/s]\u001b[A\n",
      " 16%|███████████████████▎                                                                                                     | 32/200 [00:00<00:00, 205.86it/s]\u001b[A\n",
      " 41%|████████████████████████████████████████████████▋                                                                       | 406/1000 [00:39<00:50, 11.65it/s]"
     ]
    },
    {
     "name": "stdout",
     "output_type": "stream",
     "text": [
      "DONE\n",
      "DONE\n",
      "Actor_loss 1.28983250\n",
      "Critic_loss 1.00000123\n",
      "Rewards mean 1.00000000 Rewards std 0.00000000 Rewards sum 33.00000000\n"
     ]
    },
    {
     "name": "stderr",
     "output_type": "stream",
     "text": [
      "\n",
      "  4%|█████▍                                                                                                                    | 9/200 [00:00<00:01, 181.48it/s]\u001b[A\n",
      " 41%|████████████████████████████████████████████████▉                                                                       | 408/1000 [00:39<00:54, 10.80it/s]"
     ]
    },
    {
     "name": "stdout",
     "output_type": "stream",
     "text": [
      "DONE\n",
      "DONE\n",
      "Actor_loss 1.04022081\n",
      "Critic_loss 1.00000311\n",
      "Rewards mean 1.00000000 Rewards std 0.00000000 Rewards sum 10.00000000\n"
     ]
    },
    {
     "name": "stderr",
     "output_type": "stream",
     "text": [
      "\n",
      "  4%|████▉                                                                                                                     | 8/200 [00:00<00:01, 174.99it/s]\u001b[A\n",
      " 41%|████████████████████████████████████████████████▉                                                                       | 408/1000 [00:39<00:54, 10.80it/s]"
     ]
    },
    {
     "name": "stdout",
     "output_type": "stream",
     "text": [
      "DONE\n",
      "DONE\n",
      "Actor_loss 0.92065527\n",
      "Critic_loss 1.00000398\n",
      "Rewards mean 1.00000000 Rewards std 0.00000000 Rewards sum 9.00000000\n"
     ]
    },
    {
     "name": "stderr",
     "output_type": "stream",
     "text": [
      "\n",
      "  0%|                                                                                                                                   | 0/200 [00:00<?, ?it/s]\u001b[A"
     ]
    },
    {
     "name": "stdout",
     "output_type": "stream",
     "text": [
      "DONE\n"
     ]
    },
    {
     "name": "stderr",
     "output_type": "stream",
     "text": [
      "  8%|█████████                                                                                                                | 15/200 [00:00<00:01, 178.85it/s]\n",
      " 41%|█████████████████████████████████████████████████▏                                                                      | 410/1000 [00:39<00:51, 11.54it/s]"
     ]
    },
    {
     "name": "stdout",
     "output_type": "stream",
     "text": [
      "DONE\n",
      "Actor_loss 1.27858096\n",
      "Critic_loss 1.00000132\n",
      "Rewards mean 1.00000000 Rewards std 0.00000000 Rewards sum 16.00000000\n"
     ]
    },
    {
     "name": "stderr",
     "output_type": "stream",
     "text": [
      "\n",
      "  0%|                                                                                                                                   | 0/200 [00:00<?, ?it/s]\u001b[A\n",
      " 12%|█████████████▉                                                                                                           | 23/200 [00:00<00:00, 204.00it/s]\u001b[A\n",
      " 41%|█████████████████████████████████████████████████▏                                                                      | 410/1000 [00:39<00:51, 11.54it/s]"
     ]
    },
    {
     "name": "stdout",
     "output_type": "stream",
     "text": [
      "DONE\n",
      "DONE\n",
      "Actor_loss 1.29415169\n",
      "Critic_loss 1.00000119\n",
      "Rewards mean 1.00000000 Rewards std 0.00000000 Rewards sum 24.00000000\n"
     ]
    },
    {
     "name": "stderr",
     "output_type": "stream",
     "text": [
      "\n",
      "  4%|█████▍                                                                                                                    | 9/200 [00:00<00:01, 158.35it/s]\u001b[A\n",
      " 41%|█████████████████████████████████████████████████▍                                                                      | 412/1000 [00:39<00:51, 11.36it/s]"
     ]
    },
    {
     "name": "stdout",
     "output_type": "stream",
     "text": [
      "DONE\n",
      "DONE\n",
      "Actor_loss 1.03962594\n",
      "Critic_loss 1.00000314\n",
      "Rewards mean 1.00000000 Rewards std 0.00000000 Rewards sum 10.00000000\n"
     ]
    },
    {
     "name": "stderr",
     "output_type": "stream",
     "text": [
      "\n",
      "  8%|█████████▋                                                                                                               | 16/200 [00:00<00:01, 182.15it/s]\u001b[A\n",
      " 41%|█████████████████████████████████████████████████▍                                                                      | 412/1000 [00:39<00:51, 11.36it/s]"
     ]
    },
    {
     "name": "stdout",
     "output_type": "stream",
     "text": [
      "DONE\n",
      "DONE\n",
      "Actor_loss 1.25612660\n",
      "Critic_loss 1.00000152\n",
      "Rewards mean 1.00000000 Rewards std 0.00000000 Rewards sum 17.00000000\n"
     ]
    },
    {
     "name": "stderr",
     "output_type": "stream",
     "text": [
      "\n",
      " 10%|███████████▍                                                                                                             | 19/200 [00:00<00:00, 186.23it/s]\u001b[A\n",
      " 41%|█████████████████████████████████████████████████▋                                                                      | 414/1000 [00:39<00:53, 10.86it/s]"
     ]
    },
    {
     "name": "stdout",
     "output_type": "stream",
     "text": [
      "DONE\n",
      "DONE\n",
      "Actor_loss 1.37289827\n",
      "Critic_loss 1.00000062\n",
      "Rewards mean 1.00000000 Rewards std 0.00000000 Rewards sum 20.00000000\n"
     ]
    },
    {
     "name": "stderr",
     "output_type": "stream",
     "text": [
      "\n",
      "  0%|                                                                                                                                   | 0/200 [00:00<?, ?it/s]\u001b[A\n",
      " 12%|██████████████▌                                                                                                          | 24/200 [00:00<00:00, 177.29it/s]\u001b[A\n",
      " 41%|█████████████████████████████████████████████████▋                                                                      | 414/1000 [00:39<00:53, 10.86it/s]"
     ]
    },
    {
     "name": "stdout",
     "output_type": "stream",
     "text": [
      "DONE\n",
      "DONE\n",
      "Actor_loss 1.32335392\n",
      "Critic_loss 1.00000100\n",
      "Rewards mean 1.00000000 Rewards std 0.00000000 Rewards sum 25.00000000\n"
     ]
    },
    {
     "name": "stderr",
     "output_type": "stream",
     "text": [
      "\n",
      "  0%|                                                                                                                                   | 0/200 [00:00<?, ?it/s]\u001b[A\n",
      " 12%|██████████████▌                                                                                                          | 24/200 [00:00<00:01, 175.11it/s]\u001b[A\n",
      " 42%|█████████████████████████████████████████████████▉                                                                      | 416/1000 [00:40<01:02,  9.35it/s]"
     ]
    },
    {
     "name": "stdout",
     "output_type": "stream",
     "text": [
      "DONE\n",
      "DONE\n",
      "Actor_loss 1.45773424\n",
      "Critic_loss 1.00000028\n",
      "Rewards mean 1.00000000 Rewards std 0.00000000 Rewards sum 25.00000000\n"
     ]
    },
    {
     "name": "stderr",
     "output_type": "stream",
     "text": [
      "\n",
      "  6%|███████▊                                                                                                                 | 13/200 [00:00<00:01, 164.61it/s]\u001b[A\n",
      " 42%|█████████████████████████████████████████████████▉                                                                      | 416/1000 [00:40<01:02,  9.35it/s]"
     ]
    },
    {
     "name": "stdout",
     "output_type": "stream",
     "text": [
      "DONE\n",
      "DONE\n",
      "Actor_loss 1.58144436\n",
      "Critic_loss 0.99999867\n",
      "Rewards mean 1.00000000 Rewards std 0.00000000 Rewards sum 14.00000000\n"
     ]
    },
    {
     "name": "stderr",
     "output_type": "stream",
     "text": [
      "\n",
      "  4%|████▉                                                                                                                     | 8/200 [00:00<00:01, 180.33it/s]\u001b[A\n",
      " 42%|██████████████████████████████████████████████████▏                                                                     | 418/1000 [00:40<00:55, 10.52it/s]"
     ]
    },
    {
     "name": "stdout",
     "output_type": "stream",
     "text": [
      "DONE\n",
      "DONE\n",
      "Actor_loss 0.92083939\n",
      "Critic_loss 1.00000402\n",
      "Rewards mean 1.00000000 Rewards std 0.00000000 Rewards sum 9.00000000\n"
     ]
    },
    {
     "name": "stderr",
     "output_type": "stream",
     "text": [
      "\n",
      "  6%|██████▋                                                                                                                  | 11/200 [00:00<00:01, 178.17it/s]\u001b[A\n",
      " 42%|██████████████████████████████████████████████████▏                                                                     | 418/1000 [00:40<00:55, 10.52it/s]"
     ]
    },
    {
     "name": "stdout",
     "output_type": "stream",
     "text": [
      "DONE\n",
      "DONE\n",
      "Actor_loss 1.11572697\n",
      "Critic_loss 1.00000252\n",
      "Rewards mean 1.00000000 Rewards std 0.00000000 Rewards sum 12.00000000\n"
     ]
    },
    {
     "name": "stderr",
     "output_type": "stream",
     "text": [
      "\n",
      "  6%|██████▋                                                                                                                  | 11/200 [00:00<00:00, 193.55it/s]\u001b[A\n",
      " 42%|██████████████████████████████████████████████████▍                                                                     | 420/1000 [00:40<00:49, 11.62it/s]"
     ]
    },
    {
     "name": "stdout",
     "output_type": "stream",
     "text": [
      "DONE\n",
      "DONE\n",
      "Actor_loss 1.31113271\n",
      "Critic_loss 1.00000119\n",
      "Rewards mean 1.00000000 Rewards std 0.00000000 Rewards sum 12.00000000\n"
     ]
    },
    {
     "name": "stderr",
     "output_type": "stream",
     "text": [
      "\n",
      "  8%|██████████▎                                                                                                              | 17/200 [00:00<00:00, 199.54it/s]\u001b[A\n",
      " 42%|██████████████████████████████████████████████████▍                                                                     | 420/1000 [00:40<00:49, 11.62it/s]"
     ]
    },
    {
     "name": "stdout",
     "output_type": "stream",
     "text": [
      "DONE\n",
      "DONE\n",
      "Actor_loss 1.36289222\n",
      "Critic_loss 1.00000074\n",
      "Rewards mean 1.00000000 Rewards std 0.00000000 Rewards sum 18.00000000\n"
     ]
    },
    {
     "name": "stderr",
     "output_type": "stream",
     "text": [
      "\n",
      "  6%|██████▋                                                                                                                  | 11/200 [00:00<00:01, 177.11it/s]\u001b[A\n",
      " 42%|██████████████████████████████████████████████████▋                                                                     | 422/1000 [00:40<00:48, 11.89it/s]"
     ]
    },
    {
     "name": "stdout",
     "output_type": "stream",
     "text": [
      "DONE\n",
      "DONE\n",
      "Actor_loss 1.31113201\n",
      "Critic_loss 1.00000126\n",
      "Rewards mean 1.00000000 Rewards std 0.00000000 Rewards sum 12.00000000\n"
     ]
    },
    {
     "name": "stderr",
     "output_type": "stream",
     "text": [
      "\n",
      "  6%|██████▋                                                                                                                  | 11/200 [00:00<00:00, 195.81it/s]\u001b[A\n",
      " 42%|██████████████████████████████████████████████████▋                                                                     | 422/1000 [00:40<00:48, 11.89it/s]"
     ]
    },
    {
     "name": "stdout",
     "output_type": "stream",
     "text": [
      "DONE\n",
      "DONE\n",
      "Actor_loss 1.01754971\n",
      "Critic_loss 1.00000321\n",
      "Rewards mean 1.00000000 Rewards std 0.00000000 Rewards sum 12.00000000\n"
     ]
    },
    {
     "name": "stderr",
     "output_type": "stream",
     "text": [
      "\n",
      "  9%|██████████▉                                                                                                              | 18/200 [00:00<00:01, 177.48it/s]\u001b[A\n",
      " 42%|██████████████████████████████████████████████████▉                                                                     | 424/1000 [00:40<00:48, 11.87it/s]"
     ]
    },
    {
     "name": "stdout",
     "output_type": "stream",
     "text": [
      "DONE\n",
      "DONE\n",
      "Actor_loss 1.45796032\n",
      "Critic_loss 0.99999977\n",
      "Rewards mean 1.00000000 Rewards std 0.00000000 Rewards sum 19.00000000\n"
     ]
    },
    {
     "name": "stderr",
     "output_type": "stream",
     "text": [
      "\n",
      "  6%|██████▋                                                                                                                  | 11/200 [00:00<00:01, 162.96it/s]\u001b[A\n",
      " 42%|██████████████████████████████████████████████████▉                                                                     | 424/1000 [00:40<00:48, 11.87it/s]"
     ]
    },
    {
     "name": "stdout",
     "output_type": "stream",
     "text": [
      "DONE\n",
      "DONE\n",
      "Actor_loss 1.21324794\n",
      "Critic_loss 1.00000189\n",
      "Rewards mean 1.00000000 Rewards std 0.00000000 Rewards sum 12.00000000\n"
     ]
    },
    {
     "name": "stderr",
     "output_type": "stream",
     "text": [
      "\n",
      "  8%|█████████▋                                                                                                               | 16/200 [00:00<00:00, 197.23it/s]\u001b[A\n",
      " 43%|███████████████████████████████████████████████████                                                                     | 426/1000 [00:40<00:47, 12.03it/s]"
     ]
    },
    {
     "name": "stdout",
     "output_type": "stream",
     "text": [
      "DONE\n",
      "DONE\n",
      "Actor_loss 1.32336262\n",
      "Critic_loss 1.00000105\n",
      "Rewards mean 1.00000000 Rewards std 0.00000000 Rewards sum 17.00000000\n"
     ]
    },
    {
     "name": "stderr",
     "output_type": "stream",
     "text": [
      "\n",
      "  8%|██████████▎                                                                                                              | 17/200 [00:00<00:01, 171.78it/s]\u001b[A\n",
      " 43%|███████████████████████████████████████████████████                                                                     | 426/1000 [00:40<00:47, 12.03it/s]"
     ]
    },
    {
     "name": "stdout",
     "output_type": "stream",
     "text": [
      "DONE\n",
      "DONE\n",
      "Actor_loss 1.23620939\n",
      "Critic_loss 1.00000168\n",
      "Rewards mean 1.00000000 Rewards std 0.00000000 Rewards sum 18.00000000\n"
     ]
    },
    {
     "name": "stderr",
     "output_type": "stream",
     "text": [
      "\n",
      "  6%|███████▎                                                                                                                 | 12/200 [00:00<00:01, 163.98it/s]\u001b[A\n",
      " 43%|███████████████████████████████████████████████████▎                                                                    | 428/1000 [00:40<00:48, 11.68it/s]"
     ]
    },
    {
     "name": "stdout",
     "output_type": "stream",
     "text": [
      "DONE\n",
      "DONE\n",
      "Actor_loss 1.18857230\n",
      "Critic_loss 1.00000203\n",
      "Rewards mean 1.00000000 Rewards std 0.00000000 Rewards sum 13.00000000\n"
     ]
    },
    {
     "name": "stderr",
     "output_type": "stream",
     "text": [
      "\n",
      "  4%|█████▍                                                                                                                    | 9/200 [00:00<00:01, 158.10it/s]\u001b[A\n",
      " 43%|███████████████████████████████████████████████████▎                                                                    | 428/1000 [00:41<00:48, 11.68it/s]"
     ]
    },
    {
     "name": "stdout",
     "output_type": "stream",
     "text": [
      "DONE\n",
      "DONE\n",
      "Actor_loss 1.03864096\n",
      "Critic_loss 1.00000303\n",
      "Rewards mean 1.00000000 Rewards std 0.00000000 Rewards sum 10.00000000\n"
     ]
    },
    {
     "name": "stderr",
     "output_type": "stream",
     "text": [
      "\n",
      "  8%|██████████▎                                                                                                              | 17/200 [00:00<00:00, 198.64it/s]\u001b[A\n",
      " 43%|███████████████████████████████████████████████████▌                                                                    | 430/1000 [00:41<00:47, 12.01it/s]"
     ]
    },
    {
     "name": "stdout",
     "output_type": "stream",
     "text": [
      "DONE\n",
      "DONE\n",
      "Actor_loss 1.17252477\n",
      "Critic_loss 1.00000210\n",
      "Rewards mean 1.00000000 Rewards std 0.00000000 Rewards sum 18.00000000\n"
     ]
    },
    {
     "name": "stderr",
     "output_type": "stream",
     "text": [
      "\n",
      "  0%|                                                                                                                                   | 0/200 [00:00<?, ?it/s]\u001b[A\n",
      " 10%|███████████▍                                                                                                             | 19/200 [00:00<00:01, 171.37it/s]\u001b[A\n",
      " 43%|███████████████████████████████████████████████████▌                                                                    | 430/1000 [00:41<00:47, 12.01it/s]"
     ]
    },
    {
     "name": "stdout",
     "output_type": "stream",
     "text": [
      "DONE\n",
      "DONE\n",
      "Actor_loss 1.31627647\n",
      "Critic_loss 1.00000108\n",
      "Rewards mean 1.00000000 Rewards std 0.00000000 Rewards sum 20.00000000\n"
     ]
    },
    {
     "name": "stderr",
     "output_type": "stream",
     "text": [
      "\n",
      "  0%|                                                                                                                                   | 0/200 [00:00<?, ?it/s]\u001b[A\n",
      " 10%|████████████▋                                                                                                            | 21/200 [00:00<00:00, 187.97it/s]\u001b[A\n",
      " 43%|███████████████████████████████████████████████████▊                                                                    | 432/1000 [00:41<00:53, 10.69it/s]"
     ]
    },
    {
     "name": "stdout",
     "output_type": "stream",
     "text": [
      "DONE\n",
      "DONE\n",
      "Actor_loss 1.32981242\n",
      "Critic_loss 1.00000101\n",
      "Rewards mean 1.00000000 Rewards std 0.00000000 Rewards sum 22.00000000\n"
     ]
    },
    {
     "name": "stderr",
     "output_type": "stream",
     "text": [
      "\n",
      "  0%|                                                                                                                                   | 0/200 [00:00<?, ?it/s]\u001b[A\n",
      " 10%|████████████                                                                                                             | 20/200 [00:00<00:00, 193.08it/s]\u001b[A\n",
      " 24%|████████████████████████████▍                                                                                            | 47/200 [00:00<00:00, 184.81it/s]\u001b[A\n",
      " 43%|███████████████████████████████████████████████████▊                                                                    | 432/1000 [00:41<00:53, 10.69it/s]"
     ]
    },
    {
     "name": "stdout",
     "output_type": "stream",
     "text": [
      "DONE\n",
      "DONE\n",
      "Actor_loss 1.33199314\n",
      "Critic_loss 1.00000090\n",
      "Rewards mean 1.00000000 Rewards std 0.00000000 Rewards sum 48.00000000\n"
     ]
    },
    {
     "name": "stderr",
     "output_type": "stream",
     "text": [
      "\n",
      " 10%|████████████                                                                                                             | 20/200 [00:00<00:00, 202.50it/s]\u001b[A\n",
      " 43%|████████████████████████████████████████████████████                                                                    | 434/1000 [00:41<01:08,  8.32it/s]"
     ]
    },
    {
     "name": "stdout",
     "output_type": "stream",
     "text": [
      "DONE\n",
      "DONE\n",
      "Actor_loss 1.35036522\n",
      "Critic_loss 1.00000087\n",
      "Rewards mean 1.00000000 Rewards std 0.00000000 Rewards sum 21.00000000\n"
     ]
    },
    {
     "name": "stderr",
     "output_type": "stream",
     "text": [
      "\n",
      "  6%|███████▊                                                                                                                 | 13/200 [00:00<00:01, 172.35it/s]\u001b[A\n",
      " 43%|████████████████████████████████████████████████████                                                                    | 434/1000 [00:41<01:08,  8.32it/s]"
     ]
    },
    {
     "name": "stdout",
     "output_type": "stream",
     "text": [
      "DONE\n",
      "DONE\n",
      "Actor_loss 1.16769121\n",
      "Critic_loss 1.00000211\n",
      "Rewards mean 1.00000000 Rewards std 0.00000000 Rewards sum 14.00000000\n"
     ]
    },
    {
     "name": "stderr",
     "output_type": "stream",
     "text": [
      "\n",
      "  0%|                                                                                                                                   | 0/200 [00:00<?, ?it/s]\u001b[A\n",
      " 12%|███████████████▏                                                                                                         | 25/200 [00:00<00:00, 201.73it/s]\u001b[A\n",
      " 44%|████████████████████████████████████████████████████▎                                                                   | 436/1000 [00:41<01:05,  8.63it/s]"
     ]
    },
    {
     "name": "stdout",
     "output_type": "stream",
     "text": [
      "DONE\n",
      "DONE\n",
      "Actor_loss 1.30718097\n",
      "Critic_loss 1.00000119\n",
      "Rewards mean 1.00000000 Rewards std 0.00000000 Rewards sum 26.00000000\n"
     ]
    },
    {
     "name": "stderr",
     "output_type": "stream",
     "text": [
      "\n",
      "  4%|█████▍                                                                                                                    | 9/200 [00:00<00:01, 186.76it/s]\u001b[A\n",
      " 44%|████████████████████████████████████████████████████▎                                                                   | 436/1000 [00:41<01:05,  8.63it/s]"
     ]
    },
    {
     "name": "stdout",
     "output_type": "stream",
     "text": [
      "DONE\n",
      "DONE\n",
      "Actor_loss 1.03827764\n",
      "Critic_loss 1.00000314\n",
      "Rewards mean 1.00000000 Rewards std 0.00000000 Rewards sum 10.00000000\n"
     ]
    },
    {
     "name": "stderr",
     "output_type": "stream",
     "text": [
      "\n",
      "  6%|███████▎                                                                                                                 | 12/200 [00:00<00:01, 179.93it/s]\u001b[A\n",
      " 44%|████████████████████████████████████████████████████▌                                                                   | 438/1000 [00:42<00:56,  9.96it/s]"
     ]
    },
    {
     "name": "stdout",
     "output_type": "stream",
     "text": [
      "DONE\n",
      "DONE\n",
      "Actor_loss 1.63846447\n",
      "Critic_loss 0.99999774\n",
      "Rewards mean 1.00000000 Rewards std 0.00000000 Rewards sum 13.00000000\n"
     ]
    },
    {
     "name": "stderr",
     "output_type": "stream",
     "text": [
      "\n",
      "  5%|██████                                                                                                                   | 10/200 [00:00<00:01, 165.94it/s]\u001b[A\n",
      "                                                                                                                                                                "
     ]
    },
    {
     "name": "stdout",
     "output_type": "stream",
     "text": [
      "DONE\n",
      "DONE\n"
     ]
    },
    {
     "name": "stderr",
     "output_type": "stream",
     "text": [
      " 44%|████████████████████████████████████████████████████▌                                                                   | 438/1000 [00:42<00:56,  9.96it/s]"
     ]
    },
    {
     "name": "stdout",
     "output_type": "stream",
     "text": [
      "Actor_loss 1.13438250\n",
      "Critic_loss 1.00000257\n",
      "Rewards mean 1.00000000 Rewards std 0.00000000 Rewards sum 11.00000000\n"
     ]
    },
    {
     "name": "stderr",
     "output_type": "stream",
     "text": [
      "\n",
      "  6%|███████▊                                                                                                                 | 13/200 [00:00<00:01, 184.59it/s]\u001b[A\n",
      " 44%|████████████████████████████████████████████████████▊                                                                   | 440/1000 [00:42<00:51, 10.91it/s]"
     ]
    },
    {
     "name": "stdout",
     "output_type": "stream",
     "text": [
      "DONE\n",
      "DONE\n",
      "Actor_loss 1.08436817\n",
      "Critic_loss 1.00000266\n",
      "Rewards mean 1.00000000 Rewards std 0.00000000 Rewards sum 14.00000000\n"
     ]
    },
    {
     "name": "stderr",
     "output_type": "stream",
     "text": [
      "\n",
      " 10%|████████████                                                                                                             | 20/200 [00:00<00:00, 200.03it/s]\u001b[A\n",
      " 44%|████████████████████████████████████████████████████▊                                                                   | 440/1000 [00:42<00:51, 10.91it/s]"
     ]
    },
    {
     "name": "stdout",
     "output_type": "stream",
     "text": [
      "DONE\n",
      "DONE\n",
      "Actor_loss 1.35043010\n",
      "Critic_loss 1.00000082\n",
      "Rewards mean 1.00000000 Rewards std 0.00000000 Rewards sum 21.00000000\n"
     ]
    },
    {
     "name": "stderr",
     "output_type": "stream",
     "text": [
      "\n",
      "  8%|██████████▎                                                                                                              | 17/200 [00:00<00:00, 188.73it/s]\u001b[A\n",
      " 44%|█████████████████████████████████████████████████████                                                                   | 442/1000 [00:42<00:52, 10.58it/s]"
     ]
    },
    {
     "name": "stdout",
     "output_type": "stream",
     "text": [
      "DONE\n",
      "DONE\n",
      "Actor_loss 1.49028138\n",
      "Critic_loss 0.99999985\n",
      "Rewards mean 1.00000000 Rewards std 0.00000000 Rewards sum 18.00000000\n"
     ]
    },
    {
     "name": "stderr",
     "output_type": "stream",
     "text": [
      "\n",
      "  6%|███████▎                                                                                                                 | 12/200 [00:00<00:01, 166.63it/s]\u001b[A\n",
      " 44%|█████████████████████████████████████████████████████                                                                   | 442/1000 [00:42<00:52, 10.58it/s]"
     ]
    },
    {
     "name": "stdout",
     "output_type": "stream",
     "text": [
      "DONE\n",
      "DONE\n",
      "Actor_loss 1.27838440\n",
      "Critic_loss 1.00000148\n",
      "Rewards mean 1.00000000 Rewards std 0.00000000 Rewards sum 13.00000000\n"
     ]
    },
    {
     "name": "stderr",
     "output_type": "stream",
     "text": [
      "\n",
      "  6%|███████▊                                                                                                                 | 13/200 [00:00<00:01, 180.61it/s]\u001b[A\n",
      " 44%|█████████████████████████████████████████████████████▎                                                                  | 444/1000 [00:42<00:49, 11.16it/s]"
     ]
    },
    {
     "name": "stdout",
     "output_type": "stream",
     "text": [
      "DONE\n",
      "DONE\n",
      "Actor_loss 1.33377075\n",
      "Critic_loss 1.00000099\n",
      "Rewards mean 1.00000000 Rewards std 0.00000000 Rewards sum 14.00000000\n"
     ]
    },
    {
     "name": "stderr",
     "output_type": "stream",
     "text": [
      "\n",
      "  0%|                                                                                                                                   | 0/200 [00:00<?, ?it/s]\u001b[A\n",
      " 15%|██████████████████▏                                                                                                      | 30/200 [00:00<00:00, 190.15it/s]\u001b[A\n",
      " 44%|█████████████████████████████████████████████████████▎                                                                  | 444/1000 [00:42<00:49, 11.16it/s]"
     ]
    },
    {
     "name": "stdout",
     "output_type": "stream",
     "text": [
      "DONE\n",
      "DONE\n",
      "Actor_loss 1.38633902\n",
      "Critic_loss 1.00000060\n",
      "Rewards mean 1.00000000 Rewards std 0.00000000 Rewards sum 31.00000000\n"
     ]
    },
    {
     "name": "stderr",
     "output_type": "stream",
     "text": [
      "\n",
      "  8%|██████████▎                                                                                                              | 17/200 [00:00<00:00, 199.71it/s]\u001b[A\n",
      " 45%|█████████████████████████████████████████████████████▌                                                                  | 446/1000 [00:42<00:55,  9.93it/s]"
     ]
    },
    {
     "name": "stdout",
     "output_type": "stream",
     "text": [
      "DONE\n",
      "DONE\n",
      "Actor_loss 1.29957263\n",
      "Critic_loss 1.00000124\n",
      "Rewards mean 1.00000000 Rewards std 0.00000000 Rewards sum 18.00000000\n"
     ]
    },
    {
     "name": "stderr",
     "output_type": "stream",
     "text": [
      "\n",
      "  6%|███████▊                                                                                                                 | 13/200 [00:00<00:01, 176.42it/s]\u001b[A\n",
      " 45%|█████████████████████████████████████████████████████▌                                                                  | 446/1000 [00:42<00:55,  9.93it/s]"
     ]
    },
    {
     "name": "stdout",
     "output_type": "stream",
     "text": [
      "DONE\n",
      "DONE\n",
      "Actor_loss 1.58252173\n",
      "Critic_loss 0.99999863\n",
      "Rewards mean 1.00000000 Rewards std 0.00000000 Rewards sum 14.00000000\n"
     ]
    },
    {
     "name": "stderr",
     "output_type": "stream",
     "text": [
      "\n",
      "  8%|█████████                                                                                                                | 15/200 [00:00<00:00, 196.77it/s]\u001b[A\n",
      " 45%|█████████████████████████████████████████████████████▊                                                                  | 448/1000 [00:42<00:52, 10.55it/s]"
     ]
    },
    {
     "name": "stdout",
     "output_type": "stream",
     "text": [
      "DONE\n",
      "DONE\n",
      "Actor_loss 1.35028377\n",
      "Critic_loss 1.00000084\n",
      "Rewards mean 1.00000000 Rewards std 0.00000000 Rewards sum 16.00000000\n"
     ]
    },
    {
     "name": "stderr",
     "output_type": "stream",
     "text": [
      "\n",
      " 10%|███████████▍                                                                                                             | 19/200 [00:00<00:00, 185.43it/s]\u001b[A\n",
      " 45%|█████████████████████████████████████████████████████▊                                                                  | 448/1000 [00:43<00:52, 10.55it/s]"
     ]
    },
    {
     "name": "stdout",
     "output_type": "stream",
     "text": [
      "DONE\n",
      "DONE\n",
      "Actor_loss 1.37294482\n",
      "Critic_loss 1.00000068\n",
      "Rewards mean 1.00000000 Rewards std 0.00000000 Rewards sum 20.00000000\n"
     ]
    },
    {
     "name": "stderr",
     "output_type": "stream",
     "text": [
      "\n",
      "  8%|██████████▎                                                                                                              | 17/200 [00:00<00:00, 193.46it/s]\u001b[A\n",
      " 45%|██████████████████████████████████████████████████████                                                                  | 450/1000 [00:43<00:53, 10.36it/s]"
     ]
    },
    {
     "name": "stdout",
     "output_type": "stream",
     "text": [
      "DONE\n",
      "DONE\n",
      "Actor_loss 1.48949484\n",
      "Critic_loss 0.99999941\n",
      "Rewards mean 1.00000000 Rewards std 0.00000000 Rewards sum 18.00000000\n"
     ]
    },
    {
     "name": "stderr",
     "output_type": "stream",
     "text": [
      "\n",
      "  0%|                                                                                                                                   | 0/200 [00:00<?, ?it/s]\u001b[A\n",
      " 13%|███████████████▋                                                                                                         | 26/200 [00:00<00:00, 205.18it/s]\u001b[A\n",
      " 45%|██████████████████████████████████████████████████████                                                                  | 450/1000 [00:43<00:53, 10.36it/s]"
     ]
    },
    {
     "name": "stdout",
     "output_type": "stream",
     "text": [
      "DONE\n",
      "DONE\n",
      "Actor_loss 1.37503776\n",
      "Critic_loss 1.00000065\n",
      "Rewards mean 1.00000000 Rewards std 0.00000000 Rewards sum 27.00000000\n"
     ]
    },
    {
     "name": "stderr",
     "output_type": "stream",
     "text": [
      "\n",
      "  9%|██████████▉                                                                                                              | 18/200 [00:00<00:00, 194.01it/s]\u001b[A\n",
      " 45%|██████████████████████████████████████████████████████▏                                                                 | 452/1000 [00:43<00:55,  9.79it/s]"
     ]
    },
    {
     "name": "stdout",
     "output_type": "stream",
     "text": [
      "DONE\n",
      "DONE\n",
      "Actor_loss 1.27857148\n",
      "Critic_loss 1.00000136\n",
      "Rewards mean 1.00000000 Rewards std 0.00000000 Rewards sum 19.00000000\n"
     ]
    },
    {
     "name": "stderr",
     "output_type": "stream",
     "text": [
      "\n",
      "  0%|                                                                                                                                   | 0/200 [00:00<?, ?it/s]\u001b[A\n",
      " 12%|██████████████▌                                                                                                          | 24/200 [00:00<00:00, 200.65it/s]\u001b[A\n",
      " 45%|██████████████████████████████████████████████████████▏                                                                 | 452/1000 [00:43<00:55,  9.79it/s]"
     ]
    },
    {
     "name": "stdout",
     "output_type": "stream",
     "text": [
      "DONE\n",
      "DONE\n",
      "Actor_loss 1.32334859\n",
      "Critic_loss 1.00000105\n",
      "Rewards mean 1.00000000 Rewards std 0.00000000 Rewards sum 25.00000000\n"
     ]
    },
    {
     "name": "stderr",
     "output_type": "stream",
     "text": [
      "\n",
      "  9%|██████████▉                                                                                                              | 18/200 [00:00<00:00, 183.87it/s]\u001b[A\n",
      " 45%|██████████████████████████████████████████████████████▍                                                                 | 454/1000 [00:43<00:57,  9.44it/s]"
     ]
    },
    {
     "name": "stdout",
     "output_type": "stream",
     "text": [
      "DONE\n",
      "DONE\n",
      "Actor_loss 1.45759200\n",
      "Critic_loss 0.99999985\n",
      "Rewards mean 1.00000000 Rewards std 0.00000000 Rewards sum 19.00000000\n"
     ]
    },
    {
     "name": "stderr",
     "output_type": "stream",
     "text": [
      "\n",
      "  0%|                                                                                                                                   | 0/200 [00:00<?, ?it/s]\u001b[A\n",
      " 14%|█████████████████▌                                                                                                       | 29/200 [00:00<00:00, 186.00it/s]\u001b[A\n",
      " 46%|██████████████████████████████████████████████████████▌                                                                 | 455/1000 [00:43<01:03,  8.63it/s]"
     ]
    },
    {
     "name": "stdout",
     "output_type": "stream",
     "text": [
      "DONE\n",
      "DONE\n",
      "Actor_loss 1.32796248\n",
      "Critic_loss 1.00000103\n",
      "Rewards mean 1.00000000 Rewards std 0.00000000 Rewards sum 30.00000000\n"
     ]
    },
    {
     "name": "stderr",
     "output_type": "stream",
     "text": [
      "\n",
      "  7%|████████▍                                                                                                                | 14/200 [00:00<00:01, 183.41it/s]\u001b[A\n",
      " 46%|██████████████████████████████████████████████████████▌                                                                 | 455/1000 [00:43<01:03,  8.63it/s]"
     ]
    },
    {
     "name": "stdout",
     "output_type": "stream",
     "text": [
      "DONE\n",
      "DONE\n",
      "Actor_loss 1.15078677\n",
      "Critic_loss 1.00000223\n",
      "Rewards mean 1.00000000 Rewards std 0.00000000 Rewards sum 15.00000000\n"
     ]
    },
    {
     "name": "stderr",
     "output_type": "stream",
     "text": [
      "\n",
      "  7%|████████▍                                                                                                                | 14/200 [00:00<00:00, 193.32it/s]\u001b[A\n",
      " 46%|██████████████████████████████████████████████████████▊                                                                 | 457/1000 [00:43<00:56,  9.64it/s]"
     ]
    },
    {
     "name": "stdout",
     "output_type": "stream",
     "text": [
      "DONE\n",
      "DONE\n",
      "Actor_loss 1.22743570\n",
      "Critic_loss 1.00000178\n",
      "Rewards mean 1.00000000 Rewards std 0.00000000 Rewards sum 15.00000000\n"
     ]
    },
    {
     "name": "stderr",
     "output_type": "stream",
     "text": [
      "\n",
      "  6%|███████▎                                                                                                                 | 12/200 [00:00<00:01, 173.95it/s]\u001b[A\n",
      " 46%|██████████████████████████████████████████████████████▊                                                                 | 457/1000 [00:44<00:56,  9.64it/s]"
     ]
    },
    {
     "name": "stdout",
     "output_type": "stream",
     "text": [
      "DONE\n",
      "DONE\n",
      "Actor_loss 1.09934199\n",
      "Critic_loss 1.00000266\n",
      "Rewards mean 1.00000000 Rewards std 0.00000000 Rewards sum 13.00000000\n"
     ]
    },
    {
     "name": "stderr",
     "output_type": "stream",
     "text": [
      "\n",
      "  0%|                                                                                                                                   | 0/200 [00:00<?, ?it/s]\u001b[A\n",
      " 12%|█████████████▉                                                                                                           | 23/200 [00:00<00:00, 226.72it/s]\u001b[A\n",
      " 23%|███████████████████████████▊                                                                                             | 46/200 [00:00<00:00, 213.46it/s]\u001b[A\n",
      " 46%|███████████████████████████████████████████████████████                                                                 | 459/1000 [00:44<01:03,  8.48it/s]"
     ]
    },
    {
     "name": "stdout",
     "output_type": "stream",
     "text": [
      "DONE\n",
      "DONE\n",
      "Actor_loss 1.34088223\n",
      "Critic_loss 1.00000091\n",
      "Rewards mean 1.00000000 Rewards std 0.00000000 Rewards sum 47.00000000\n"
     ]
    },
    {
     "name": "stderr",
     "output_type": "stream",
     "text": [
      "\n",
      "  0%|                                                                                                                                   | 0/200 [00:00<?, ?it/s]\u001b[A\n",
      " 10%|████████████▋                                                                                                            | 21/200 [00:00<00:01, 170.94it/s]\u001b[A\n",
      " 46%|███████████████████████████████████████████████████████▏                                                                | 460/1000 [00:44<01:04,  8.33it/s]"
     ]
    },
    {
     "name": "stdout",
     "output_type": "stream",
     "text": [
      "DONE\n",
      "DONE\n",
      "Actor_loss 1.38093162\n",
      "Critic_loss 1.00000062\n",
      "Rewards mean 1.00000000 Rewards std 0.00000000 Rewards sum 22.00000000\n"
     ]
    },
    {
     "name": "stderr",
     "output_type": "stream",
     "text": [
      "\n",
      "  4%|████▎                                                                                                                     | 7/200 [00:00<00:01, 165.90it/s]\u001b[A\n",
      " 46%|███████████████████████████████████████████████████████▏                                                                | 460/1000 [00:44<01:04,  8.33it/s]"
     ]
    },
    {
     "name": "stdout",
     "output_type": "stream",
     "text": [
      "DONE\n",
      "DONE\n",
      "Actor_loss 1.07387268\n",
      "Critic_loss 1.00000330\n",
      "Rewards mean 1.00000000 Rewards std 0.00000000 Rewards sum 8.00000000\n"
     ]
    },
    {
     "name": "stderr",
     "output_type": "stream",
     "text": [
      "\n",
      "  0%|                                                                                                                                   | 0/200 [00:00<?, ?it/s]\u001b[A\n",
      " 11%|█████████████▎                                                                                                           | 22/200 [00:00<00:00, 183.76it/s]\u001b[A\n",
      " 46%|███████████████████████████████████████████████████████▍                                                                | 462/1000 [00:44<00:58,  9.21it/s]"
     ]
    },
    {
     "name": "stdout",
     "output_type": "stream",
     "text": [
      "DONE\n",
      "DONE\n",
      "Actor_loss 1.35999759\n",
      "Critic_loss 1.00000083\n",
      "Rewards mean 1.00000000 Rewards std 0.00000000 Rewards sum 23.00000000\n"
     ]
    },
    {
     "name": "stderr",
     "output_type": "stream",
     "text": [
      "\n",
      "  6%|███████▎                                                                                                                 | 12/200 [00:00<00:01, 154.78it/s]\u001b[A\n",
      " 46%|███████████████████████████████████████████████████████▍                                                                | 462/1000 [00:44<00:58,  9.21it/s]"
     ]
    },
    {
     "name": "stdout",
     "output_type": "stream",
     "text": [
      "DONE\n",
      "DONE\n",
      "Actor_loss 1.09927353\n",
      "Critic_loss 1.00000274\n",
      "Rewards mean 1.00000000 Rewards std 0.00000000 Rewards sum 13.00000000\n"
     ]
    },
    {
     "name": "stderr",
     "output_type": "stream",
     "text": [
      "\n",
      "  6%|██████▋                                                                                                                  | 11/200 [00:00<00:01, 175.91it/s]\u001b[A\n",
      " 46%|███████████████████████████████████████████████████████▋                                                                | 464/1000 [00:44<00:52, 10.25it/s]"
     ]
    },
    {
     "name": "stdout",
     "output_type": "stream",
     "text": [
      "DONE\n",
      "DONE\n",
      "Actor_loss 1.21325273\n",
      "Critic_loss 1.00000207\n",
      "Rewards mean 1.00000000 Rewards std 0.00000000 Rewards sum 12.00000000\n"
     ]
    },
    {
     "name": "stderr",
     "output_type": "stream",
     "text": [
      "\n",
      "  5%|██████                                                                                                                   | 10/200 [00:00<00:01, 161.15it/s]\u001b[A\n",
      " 46%|███████████████████████████████████████████████████████▋                                                                | 464/1000 [00:44<00:52, 10.25it/s]"
     ]
    },
    {
     "name": "stdout",
     "output_type": "stream",
     "text": [
      "DONE\n",
      "DONE\n",
      "Actor_loss 1.24260736\n",
      "Critic_loss 1.00000175\n",
      "Rewards mean 1.00000000 Rewards std 0.00000000 Rewards sum 11.00000000\n"
     ]
    },
    {
     "name": "stderr",
     "output_type": "stream",
     "text": [
      "\n",
      "  0%|                                                                                                                                   | 0/200 [00:00<?, ?it/s]\u001b[A\n",
      " 12%|███████████████▏                                                                                                         | 25/200 [00:00<00:01, 161.83it/s]\u001b[A\n",
      " 47%|███████████████████████████████████████████████████████▉                                                                | 466/1000 [00:44<00:54,  9.72it/s]"
     ]
    },
    {
     "name": "stdout",
     "output_type": "stream",
     "text": [
      "DONE\n",
      "DONE\n",
      "Actor_loss 1.39330642\n",
      "Critic_loss 1.00000049\n",
      "Rewards mean 1.00000000 Rewards std 0.00000000 Rewards sum 26.00000000\n"
     ]
    },
    {
     "name": "stderr",
     "output_type": "stream",
     "text": [
      "\n",
      "  7%|████████▍                                                                                                                | 14/200 [00:00<00:01, 178.23it/s]\u001b[A\n",
      " 47%|███████████████████████████████████████████████████████▉                                                                | 466/1000 [00:45<00:54,  9.72it/s]"
     ]
    },
    {
     "name": "stdout",
     "output_type": "stream",
     "text": [
      "DONE\n",
      "DONE\n",
      "Actor_loss 1.30414236\n",
      "Critic_loss 1.00000126\n",
      "Rewards mean 1.00000000 Rewards std 0.00000000 Rewards sum 15.00000000\n"
     ]
    },
    {
     "name": "stderr",
     "output_type": "stream",
     "text": [
      "\n",
      "  6%|███████▎                                                                                                                 | 12/200 [00:00<00:01, 159.30it/s]\u001b[A\n",
      " 47%|████████████████████████████████████████████████████████▏                                                               | 468/1000 [00:45<00:51, 10.37it/s]"
     ]
    },
    {
     "name": "stdout",
     "output_type": "stream",
     "text": [
      "DONE\n",
      "DONE\n",
      "Actor_loss 1.18879696\n",
      "Critic_loss 1.00000206\n",
      "Rewards mean 1.00000000 Rewards std 0.00000000 Rewards sum 13.00000000\n"
     ]
    },
    {
     "name": "stderr",
     "output_type": "stream",
     "text": [
      "\n",
      "  9%|██████████▉                                                                                                              | 18/200 [00:00<00:01, 176.67it/s]\u001b[A\n",
      " 47%|████████████████████████████████████████████████████████▏                                                               | 468/1000 [00:45<00:51, 10.37it/s]"
     ]
    },
    {
     "name": "stdout",
     "output_type": "stream",
     "text": [
      "DONE\n",
      "DONE\n",
      "Actor_loss 1.27848105\n",
      "Critic_loss 1.00000138\n",
      "Rewards mean 1.00000000 Rewards std 0.00000000 Rewards sum 19.00000000\n"
     ]
    },
    {
     "name": "stderr",
     "output_type": "stream",
     "text": [
      "\n",
      "  0%|                                                                                                                                   | 0/200 [00:00<?, ?it/s]\u001b[A\n",
      " 12%|█████████████▉                                                                                                           | 23/200 [00:00<00:00, 189.72it/s]\u001b[A\n",
      " 47%|████████████████████████████████████████████████████████▍                                                               | 470/1000 [00:45<00:54,  9.73it/s]"
     ]
    },
    {
     "name": "stdout",
     "output_type": "stream",
     "text": [
      "DONE\n",
      "DONE\n",
      "Actor_loss 1.34093022\n",
      "Critic_loss 1.00000088\n",
      "Rewards mean 1.00000000 Rewards std 0.00000000 Rewards sum 24.00000000\n"
     ]
    },
    {
     "name": "stderr",
     "output_type": "stream",
     "text": [
      "\n",
      "  7%|████████▍                                                                                                                | 14/200 [00:00<00:01, 170.11it/s]\u001b[A\n",
      " 47%|████████████████████████████████████████████████████████▍                                                               | 470/1000 [00:45<00:54,  9.73it/s]"
     ]
    },
    {
     "name": "stdout",
     "output_type": "stream",
     "text": [
      "DONE\n",
      "DONE\n",
      "Actor_loss 1.15012395\n",
      "Critic_loss 1.00000226\n",
      "Rewards mean 1.00000000 Rewards std 0.00000000 Rewards sum 15.00000000\n"
     ]
    },
    {
     "name": "stderr",
     "output_type": "stream",
     "text": [
      "\n",
      " 10%|███████████▍                                                                                                             | 19/200 [00:00<00:00, 195.65it/s]\u001b[A\n",
      " 47%|████████████████████████████████████████████████████████▋                                                               | 472/1000 [00:45<00:53,  9.95it/s]"
     ]
    },
    {
     "name": "stdout",
     "output_type": "stream",
     "text": [
      "DONE\n",
      "DONE\n",
      "Actor_loss 1.25949153\n",
      "Critic_loss 1.00000154\n",
      "Rewards mean 1.00000000 Rewards std 0.00000000 Rewards sum 20.00000000\n"
     ]
    },
    {
     "name": "stderr",
     "output_type": "stream",
     "text": [
      "\n",
      "  4%|█████▍                                                                                                                    | 9/200 [00:00<00:01, 143.11it/s]\u001b[A\n",
      " 47%|████████████████████████████████████████████████████████▋                                                               | 472/1000 [00:45<00:53,  9.95it/s]"
     ]
    },
    {
     "name": "stdout",
     "output_type": "stream",
     "text": [
      "DONE\n",
      "DONE\n",
      "Actor_loss 1.03853025\n",
      "Critic_loss 1.00000330\n",
      "Rewards mean 1.00000000 Rewards std 0.00000000 Rewards sum 10.00000000\n"
     ]
    },
    {
     "name": "stderr",
     "output_type": "stream",
     "text": [
      "\n",
      "  0%|                                                                                                                                   | 0/200 [00:00<?, ?it/s]\u001b[A\n",
      " 12%|█████████████▉                                                                                                           | 23/200 [00:00<00:01, 173.99it/s]\u001b[A\n",
      " 47%|████████████████████████████████████████████████████████▉                                                               | 474/1000 [00:45<00:53,  9.88it/s]"
     ]
    },
    {
     "name": "stdout",
     "output_type": "stream",
     "text": [
      "DONE\n",
      "DONE\n",
      "Actor_loss 1.43480107\n",
      "Critic_loss 1.00000010\n",
      "Rewards mean 1.00000000 Rewards std 0.00000000 Rewards sum 24.00000000\n"
     ]
    },
    {
     "name": "stderr",
     "output_type": "stream",
     "text": [
      "\n",
      "  7%|████████▍                                                                                                                | 14/200 [00:00<00:01, 175.54it/s]\u001b[A\n",
      " 47%|████████████████████████████████████████████████████████▉                                                               | 474/1000 [00:45<00:53,  9.88it/s]"
     ]
    },
    {
     "name": "stdout",
     "output_type": "stream",
     "text": [
      "DONE\n",
      "DONE\n",
      "Actor_loss 1.22708268\n",
      "Critic_loss 1.00000183\n",
      "Rewards mean 1.00000000 Rewards std 0.00000000 Rewards sum 15.00000000\n"
     ]
    },
    {
     "name": "stderr",
     "output_type": "stream",
     "text": [
      "\n",
      "  0%|                                                                                                                                   | 0/200 [00:00<?, ?it/s]\u001b[A\n",
      " 15%|██████████████████▏                                                                                                      | 30/200 [00:00<00:00, 188.85it/s]\u001b[A\n",
      " 48%|█████████████████████████████████████████████████████████                                                               | 476/1000 [00:45<00:56,  9.22it/s]"
     ]
    },
    {
     "name": "stdout",
     "output_type": "stream",
     "text": [
      "DONE\n",
      "DONE\n",
      "Actor_loss 1.27841204\n",
      "Critic_loss 1.00000130\n",
      "Rewards mean 1.00000000 Rewards std 0.00000000 Rewards sum 31.00000000\n"
     ]
    },
    {
     "name": "stderr",
     "output_type": "stream",
     "text": [
      "\n",
      "  6%|███████▎                                                                                                                 | 12/200 [00:00<00:00, 197.75it/s]\u001b[A\n",
      " 48%|█████████████████████████████████████████████████████████                                                               | 476/1000 [00:46<00:56,  9.22it/s]"
     ]
    },
    {
     "name": "stdout",
     "output_type": "stream",
     "text": [
      "DONE\n",
      "DONE\n",
      "Actor_loss 1.18839047\n",
      "Critic_loss 1.00000218\n",
      "Rewards mean 1.00000000 Rewards std 0.00000000 Rewards sum 13.00000000\n"
     ]
    },
    {
     "name": "stderr",
     "output_type": "stream",
     "text": [
      "\n",
      "  0%|                                                                                                                                   | 0/200 [00:00<?, ?it/s]\u001b[A\n",
      " 15%|██████████████████▏                                                                                                      | 30/200 [00:00<00:00, 175.35it/s]\u001b[A\n",
      " 48%|█████████████████████████████████████████████████████████▎                                                              | 478/1000 [00:46<00:58,  8.86it/s]"
     ]
    },
    {
     "name": "stdout",
     "output_type": "stream",
     "text": [
      "DONE\n",
      "DONE\n",
      "Actor_loss 1.35038759\n",
      "Critic_loss 1.00000085\n",
      "Rewards mean 1.00000000 Rewards std 0.00000000 Rewards sum 31.00000000\n"
     ]
    },
    {
     "name": "stderr",
     "output_type": "stream",
     "text": [
      "\n",
      "  0%|                                                                                                                                   | 0/200 [00:00<?, ?it/s]\u001b[A\n",
      " 12%|██████████████▌                                                                                                          | 24/200 [00:00<00:00, 203.31it/s]\u001b[A\n",
      " 48%|█████████████████████████████████████████████████████████▍                                                              | 479/1000 [00:46<00:59,  8.71it/s]"
     ]
    },
    {
     "name": "stdout",
     "output_type": "stream",
     "text": [
      "DONE\n",
      "DONE\n",
      "Actor_loss 1.32338256\n",
      "Critic_loss 1.00000099\n",
      "Rewards mean 1.00000000 Rewards std 0.00000000 Rewards sum 25.00000000\n"
     ]
    },
    {
     "name": "stderr",
     "output_type": "stream",
     "text": [
      "\n",
      "  0%|                                                                                                                                   | 0/200 [00:00<?, ?it/s]\u001b[A\n",
      " 12%|██████████████▌                                                                                                          | 24/200 [00:00<00:00, 183.01it/s]\u001b[A\n",
      " 48%|█████████████████████████████████████████████████████████▌                                                              | 480/1000 [00:46<01:02,  8.38it/s]"
     ]
    },
    {
     "name": "stdout",
     "output_type": "stream",
     "text": [
      "DONE\n",
      "DONE\n",
      "Actor_loss 1.23332721\n",
      "Critic_loss 1.00000171\n",
      "Rewards mean 1.00000000 Rewards std 0.00000000 Rewards sum 25.00000000\n"
     ]
    },
    {
     "name": "stderr",
     "output_type": "stream",
     "text": [
      "\n",
      "  0%|                                                                                                                                   | 0/200 [00:00<?, ?it/s]\u001b[A\n",
      " 10%|████████████                                                                                                             | 20/200 [00:00<00:00, 195.58it/s]\u001b[A\n",
      " 24%|████████████████████████████▍                                                                                            | 47/200 [00:00<00:00, 198.40it/s]\u001b[A\n",
      " 48%|█████████████████████████████████████████████████████████▋                                                              | 481/1000 [00:46<01:16,  6.81it/s]"
     ]
    },
    {
     "name": "stdout",
     "output_type": "stream",
     "text": [
      "DONE\n",
      "DONE\n",
      "Actor_loss 1.37799331\n",
      "Critic_loss 1.00000081\n",
      "Rewards mean 1.00000000 Rewards std 0.00000000 Rewards sum 48.00000000\n"
     ]
    },
    {
     "name": "stderr",
     "output_type": "stream",
     "text": [
      "\n",
      " 10%|███████████▍                                                                                                             | 19/200 [00:00<00:00, 189.08it/s]\u001b[A\n",
      " 48%|█████████████████████████████████████████████████████████▊                                                              | 482/1000 [00:46<01:10,  7.30it/s]"
     ]
    },
    {
     "name": "stdout",
     "output_type": "stream",
     "text": [
      "DONE\n",
      "DONE\n",
      "Actor_loss 1.54347695\n",
      "Critic_loss 0.99999912\n",
      "Rewards mean 1.00000000 Rewards std 0.00000000 Rewards sum 20.00000000\n"
     ]
    },
    {
     "name": "stderr",
     "output_type": "stream",
     "text": [
      "\n",
      "  4%|████▉                                                                                                                     | 8/200 [00:00<00:00, 193.88it/s]\u001b[A\n",
      " 48%|█████████████████████████████████████████████████████████▊                                                              | 482/1000 [00:46<01:10,  7.30it/s]"
     ]
    },
    {
     "name": "stdout",
     "output_type": "stream",
     "text": [
      "DONE\n",
      "DONE\n",
      "Actor_loss 0.91887848\n",
      "Critic_loss 1.00000425\n",
      "Rewards mean 1.00000000 Rewards std 0.00000000 Rewards sum 9.00000000\n"
     ]
    },
    {
     "name": "stderr",
     "output_type": "stream",
     "text": [
      "\n",
      "  0%|                                                                                                                                   | 0/200 [00:00<?, ?it/s]\u001b[A\n",
      " 12%|█████████████▉                                                                                                           | 23/200 [00:00<00:00, 185.72it/s]\u001b[A\n",
      " 48%|██████████████████████████████████████████████████████████                                                              | 484/1000 [00:47<01:00,  8.55it/s]"
     ]
    },
    {
     "name": "stdout",
     "output_type": "stream",
     "text": [
      "DONE\n",
      "DONE\n",
      "Actor_loss 1.34097638\n",
      "Critic_loss 1.00000091\n",
      "Rewards mean 1.00000000 Rewards std 0.00000000 Rewards sum 24.00000000\n"
     ]
    },
    {
     "name": "stderr",
     "output_type": "stream",
     "text": [
      "\n",
      "  6%|██████▋                                                                                                                  | 11/200 [00:00<00:01, 153.63it/s]\u001b[A\n",
      " 48%|██████████████████████████████████████████████████████████                                                              | 484/1000 [00:47<01:00,  8.55it/s]"
     ]
    },
    {
     "name": "stdout",
     "output_type": "stream",
     "text": [
      "DONE\n",
      "DONE\n",
      "Actor_loss 1.21295501\n",
      "Critic_loss 1.00000209\n",
      "Rewards mean 1.00000000 Rewards std 0.00000000 Rewards sum 12.00000000\n"
     ]
    },
    {
     "name": "stderr",
     "output_type": "stream",
     "text": [
      "\n",
      "  8%|██████████▎                                                                                                              | 17/200 [00:00<00:00, 197.84it/s]\u001b[A\n",
      " 49%|██████████████████████████████████████████████████████████▎                                                             | 486/1000 [00:47<00:53,  9.53it/s]"
     ]
    },
    {
     "name": "stdout",
     "output_type": "stream",
     "text": [
      "DONE\n",
      "DONE\n",
      "Actor_loss 1.36308725\n",
      "Critic_loss 1.00000073\n",
      "Rewards mean 1.00000000 Rewards std 0.00000000 Rewards sum 18.00000000\n"
     ]
    },
    {
     "name": "stderr",
     "output_type": "stream",
     "text": [
      "\n",
      "  8%|█████████▋                                                                                                               | 16/200 [00:00<00:00, 197.91it/s]\u001b[A\n",
      " 49%|██████████████████████████████████████████████████████████▎                                                             | 486/1000 [00:47<00:53,  9.53it/s]"
     ]
    },
    {
     "name": "stdout",
     "output_type": "stream",
     "text": [
      "DONE\n",
      "DONE\n",
      "Actor_loss 1.32338223\n",
      "Critic_loss 1.00000107\n",
      "Rewards mean 1.00000000 Rewards std 0.00000000 Rewards sum 17.00000000\n"
     ]
    },
    {
     "name": "stderr",
     "output_type": "stream",
     "text": [
      "\n",
      "  7%|████████▍                                                                                                                | 14/200 [00:00<00:01, 177.09it/s]\u001b[A\n",
      " 49%|██████████████████████████████████████████████████████████▌                                                             | 488/1000 [00:47<00:50, 10.12it/s]"
     ]
    },
    {
     "name": "stdout",
     "output_type": "stream",
     "text": [
      "DONE\n",
      "DONE\n",
      "Actor_loss 1.30409516\n",
      "Critic_loss 1.00000130\n",
      "Rewards mean 1.00000000 Rewards std 0.00000000 Rewards sum 15.00000000\n"
     ]
    },
    {
     "name": "stderr",
     "output_type": "stream",
     "text": [
      "\n",
      "  6%|███████▊                                                                                                                 | 13/200 [00:00<00:01, 170.40it/s]\u001b[A\n",
      " 49%|██████████████████████████████████████████████████████████▌                                                             | 488/1000 [00:47<00:50, 10.12it/s]"
     ]
    },
    {
     "name": "stdout",
     "output_type": "stream",
     "text": [
      "DONE\n",
      "DONE\n",
      "Actor_loss 1.16750614\n",
      "Critic_loss 1.00000222\n",
      "Rewards mean 1.00000000 Rewards std 0.00000000 Rewards sum 14.00000000\n"
     ]
    },
    {
     "name": "stderr",
     "output_type": "stream",
     "text": [
      "\n",
      "  0%|                                                                                                                                   | 0/200 [00:00<?, ?it/s]\u001b[A\n",
      " 14%|█████████████████▌                                                                                                       | 29/200 [00:00<00:00, 198.15it/s]\u001b[A\n",
      " 49%|██████████████████████████████████████████████████████████▊                                                             | 490/1000 [00:47<00:53,  9.52it/s]"
     ]
    },
    {
     "name": "stdout",
     "output_type": "stream",
     "text": [
      "DONE\n",
      "DONE\n",
      "Actor_loss 1.32805126\n",
      "Critic_loss 1.00000100\n",
      "Rewards mean 1.00000000 Rewards std 0.00000000 Rewards sum 30.00000000\n"
     ]
    },
    {
     "name": "stderr",
     "output_type": "stream",
     "text": [
      "\n",
      "  8%|█████████▋                                                                                                               | 16/200 [00:00<00:01, 175.34it/s]\u001b[A\n",
      " 49%|██████████████████████████████████████████████████████████▊                                                             | 490/1000 [00:47<00:53,  9.52it/s]"
     ]
    },
    {
     "name": "stdout",
     "output_type": "stream",
     "text": [
      "DONE\n",
      "DONE\n",
      "Actor_loss 1.32339181\n",
      "Critic_loss 1.00000115\n",
      "Rewards mean 1.00000000 Rewards std 0.00000000 Rewards sum 17.00000000\n"
     ]
    },
    {
     "name": "stderr",
     "output_type": "stream",
     "text": [
      "\n",
      "  0%|                                                                                                                                   | 0/200 [00:00<?, ?it/s]\u001b[A\n",
      " 12%|███████████████▏                                                                                                         | 25/200 [00:00<00:00, 193.48it/s]\u001b[A\n",
      " 49%|███████████████████████████████████████████████████████████                                                             | 492/1000 [00:47<00:55,  9.19it/s]"
     ]
    },
    {
     "name": "stdout",
     "output_type": "stream",
     "text": [
      "DONE\n",
      "DONE\n",
      "Actor_loss 1.30717193\n",
      "Critic_loss 1.00000120\n",
      "Rewards mean 1.00000000 Rewards std 0.00000000 Rewards sum 26.00000000\n"
     ]
    },
    {
     "name": "stderr",
     "output_type": "stream",
     "text": [
      "\n",
      "  8%|█████████▋                                                                                                               | 16/200 [00:00<00:01, 176.79it/s]\u001b[A\n",
      " 49%|███████████████████████████████████████████████████████████                                                             | 492/1000 [00:47<00:55,  9.19it/s]"
     ]
    },
    {
     "name": "stdout",
     "output_type": "stream",
     "text": [
      "DONE\n",
      "DONE\n",
      "Actor_loss 1.52598889\n",
      "Critic_loss 0.99999952\n",
      "Rewards mean 1.00000000 Rewards std 0.00000000 Rewards sum 17.00000000\n"
     ]
    },
    {
     "name": "stderr",
     "output_type": "stream",
     "text": [
      "\n",
      "  8%|██████████▎                                                                                                              | 17/200 [00:00<00:00, 209.96it/s]\u001b[A\n",
      " 49%|███████████████████████████████████████████████████████████▎                                                            | 494/1000 [00:48<00:52,  9.68it/s]"
     ]
    },
    {
     "name": "stdout",
     "output_type": "stream",
     "text": [
      "DONE\n",
      "DONE\n",
      "Actor_loss 1.29955830\n",
      "Critic_loss 1.00000126\n",
      "Rewards mean 1.00000000 Rewards std 0.00000000 Rewards sum 18.00000000\n"
     ]
    },
    {
     "name": "stderr",
     "output_type": "stream",
     "text": [
      "\n",
      "  6%|███████▎                                                                                                                 | 12/200 [00:00<00:01, 184.87it/s]\u001b[A\n",
      " 49%|███████████████████████████████████████████████████████████▎                                                            | 494/1000 [00:48<00:52,  9.68it/s]"
     ]
    },
    {
     "name": "stdout",
     "output_type": "stream",
     "text": [
      "DONE\n",
      "DONE\n",
      "Actor_loss 1.27838566\n",
      "Critic_loss 1.00000151\n",
      "Rewards mean 1.00000000 Rewards std 0.00000000 Rewards sum 13.00000000\n"
     ]
    },
    {
     "name": "stderr",
     "output_type": "stream",
     "text": [
      "\n",
      " 10%|███████████▍                                                                                                             | 19/200 [00:00<00:00, 208.57it/s]\u001b[A\n",
      " 50%|███████████████████████████████████████████████████████████▌                                                            | 496/1000 [00:48<00:48, 10.29it/s]"
     ]
    },
    {
     "name": "stdout",
     "output_type": "stream",
     "text": [
      "DONE\n",
      "DONE\n",
      "Actor_loss 1.37311574\n",
      "Critic_loss 1.00000073\n",
      "Rewards mean 1.00000000 Rewards std 0.00000000 Rewards sum 20.00000000\n"
     ]
    },
    {
     "name": "stderr",
     "output_type": "stream",
     "text": [
      "\n",
      "  6%|██████▋                                                                                                                  | 11/200 [00:00<00:01, 163.04it/s]\u001b[A\n",
      " 50%|███████████████████████████████████████████████████████████▌                                                            | 496/1000 [00:48<00:48, 10.29it/s]"
     ]
    },
    {
     "name": "stdout",
     "output_type": "stream",
     "text": [
      "DONE\n",
      "DONE\n",
      "Actor_loss 1.21291719\n",
      "Critic_loss 1.00000200\n",
      "Rewards mean 1.00000000 Rewards std 0.00000000 Rewards sum 12.00000000\n"
     ]
    },
    {
     "name": "stderr",
     "output_type": "stream",
     "text": [
      "\n",
      "  8%|█████████                                                                                                                | 15/200 [00:00<00:00, 199.19it/s]\u001b[A\n",
      " 50%|███████████████████████████████████████████████████████████▊                                                            | 498/1000 [00:48<00:45, 10.98it/s]"
     ]
    },
    {
     "name": "stdout",
     "output_type": "stream",
     "text": [
      "DONE\n",
      "DONE\n",
      "Actor_loss 1.27835892\n",
      "Critic_loss 1.00000143\n",
      "Rewards mean 1.00000000 Rewards std 0.00000000 Rewards sum 16.00000000\n"
     ]
    },
    {
     "name": "stderr",
     "output_type": "stream",
     "text": [
      "\n",
      "  8%|█████████                                                                                                                | 15/200 [00:00<00:01, 169.58it/s]\u001b[A\n",
      " 50%|███████████████████████████████████████████████████████████▊                                                            | 498/1000 [00:48<00:45, 10.98it/s]"
     ]
    },
    {
     "name": "stdout",
     "output_type": "stream",
     "text": [
      "DONE\n",
      "DONE\n",
      "Actor_loss 1.27834401\n",
      "Critic_loss 1.00000141\n",
      "Rewards mean 1.00000000 Rewards std 0.00000000 Rewards sum 16.00000000\n"
     ]
    },
    {
     "name": "stderr",
     "output_type": "stream",
     "text": [
      "\n",
      "  8%|██████████▎                                                                                                              | 17/200 [00:00<00:00, 188.05it/s]\u001b[A\n",
      " 50%|████████████████████████████████████████████████████████████                                                            | 500/1000 [00:48<00:46, 10.83it/s]"
     ]
    },
    {
     "name": "stdout",
     "output_type": "stream",
     "text": [
      "DONE\n",
      "DONE\n",
      "Actor_loss 1.36312144\n",
      "Critic_loss 1.00000071\n",
      "Rewards mean 1.00000000 Rewards std 0.00000000 Rewards sum 18.00000000\n"
     ]
    },
    {
     "name": "stderr",
     "output_type": "stream",
     "text": [
      "\n",
      " 10%|███████████▍                                                                                                             | 19/200 [00:00<00:00, 200.71it/s]\u001b[A"
     ]
    },
    {
     "name": "stdout",
     "output_type": "stream",
     "text": [
      "DONE\n",
      "DONE\n"
     ]
    },
    {
     "name": "stderr",
     "output_type": "stream",
     "text": [
      "\n",
      " 50%|████████████████████████████████████████████████████████████                                                            | 500/1000 [00:48<00:46, 10.83it/s]"
     ]
    },
    {
     "name": "stdout",
     "output_type": "stream",
     "text": [
      "Actor_loss 1.42993893\n",
      "Critic_loss 1.00000015\n",
      "Rewards mean 1.00000000 Rewards std 0.00000000 Rewards sum 20.00000000\n"
     ]
    },
    {
     "name": "stderr",
     "output_type": "stream",
     "text": [
      "\n",
      "  6%|███████▊                                                                                                                 | 13/200 [00:00<00:00, 188.72it/s]\u001b[A\n",
      " 50%|████████████████████████████████████████████████████████████▏                                                           | 502/1000 [00:48<00:45, 11.00it/s]"
     ]
    },
    {
     "name": "stdout",
     "output_type": "stream",
     "text": [
      "DONE\n",
      "DONE\n",
      "Actor_loss 1.25073913\n",
      "Critic_loss 1.00000171\n",
      "Rewards mean 1.00000000 Rewards std 0.00000000 Rewards sum 14.00000000\n"
     ]
    },
    {
     "name": "stderr",
     "output_type": "stream",
     "text": [
      "\n",
      "  0%|                                                                                                                                   | 0/200 [00:00<?, ?it/s]\u001b[A\n",
      " 12%|█████████████▉                                                                                                           | 23/200 [00:00<00:00, 180.04it/s]\u001b[A\n",
      " 50%|████████████████████████████████████████████████████████████▏                                                           | 502/1000 [00:48<00:45, 11.00it/s]"
     ]
    },
    {
     "name": "stdout",
     "output_type": "stream",
     "text": [
      "DONE\n",
      "DONE\n",
      "Actor_loss 1.34096601\n",
      "Critic_loss 1.00000100\n",
      "Rewards mean 1.00000000 Rewards std 0.00000000 Rewards sum 24.00000000\n"
     ]
    },
    {
     "name": "stderr",
     "output_type": "stream",
     "text": [
      "\n",
      "  0%|                                                                                                                                   | 0/200 [00:00<?, ?it/s]\u001b[A\n",
      " 14%|████████████████▉                                                                                                        | 28/200 [00:00<00:00, 184.96it/s]\u001b[A\n",
      " 50%|████████████████████████████████████████████████████████████▍                                                           | 504/1000 [00:48<00:53,  9.30it/s]"
     ]
    },
    {
     "name": "stdout",
     "output_type": "stream",
     "text": [
      "DONE\n",
      "DONE\n",
      "Actor_loss 1.41960695\n",
      "Critic_loss 1.00000024\n",
      "Rewards mean 1.00000000 Rewards std 0.00000000 Rewards sum 29.00000000\n"
     ]
    },
    {
     "name": "stderr",
     "output_type": "stream",
     "text": [
      "\n",
      "  6%|███████▊                                                                                                                 | 13/200 [00:00<00:00, 198.42it/s]\u001b[A\n",
      " 50%|████████████████████████████████████████████████████████████▍                                                           | 504/1000 [00:49<00:53,  9.30it/s]"
     ]
    },
    {
     "name": "stdout",
     "output_type": "stream",
     "text": [
      "DONE\n",
      "DONE\n",
      "Actor_loss 1.33371650\n",
      "Critic_loss 1.00000109\n",
      "Rewards mean 1.00000000 Rewards std 0.00000000 Rewards sum 14.00000000\n"
     ]
    },
    {
     "name": "stderr",
     "output_type": "stream",
     "text": [
      "\n",
      "  6%|██████▋                                                                                                                  | 11/200 [00:00<00:01, 179.65it/s]\u001b[A\n",
      " 51%|████████████████████████████████████████████████████████████▋                                                           | 506/1000 [00:49<00:47, 10.44it/s]"
     ]
    },
    {
     "name": "stdout",
     "output_type": "stream",
     "text": [
      "DONE\n",
      "DONE\n",
      "Actor_loss 1.11521197\n",
      "Critic_loss 1.00000262\n",
      "Rewards mean 1.00000000 Rewards std 0.00000000 Rewards sum 12.00000000\n"
     ]
    },
    {
     "name": "stderr",
     "output_type": "stream",
     "text": [
      "\n",
      "  0%|                                                                                                                                   | 0/200 [00:00<?, ?it/s]\u001b[A\n",
      "  9%|██████████▉                                                                                                              | 18/200 [00:00<00:01, 175.48it/s]\u001b[A\n",
      " 22%|██████████████████████████                                                                                               | 43/200 [00:00<00:00, 188.79it/s]\u001b[A\n",
      " 51%|████████████████████████████████████████████████████████████▋                                                           | 506/1000 [00:49<00:47, 10.44it/s]"
     ]
    },
    {
     "name": "stdout",
     "output_type": "stream",
     "text": [
      "DONE\n",
      "DONE\n",
      "Actor_loss 1.34530151\n",
      "Critic_loss 1.00000088\n",
      "Rewards mean 1.00000000 Rewards std 0.00000000 Rewards sum 44.00000000\n"
     ]
    },
    {
     "name": "stderr",
     "output_type": "stream",
     "text": [
      "\n",
      "  6%|███████▊                                                                                                                 | 13/200 [00:00<00:00, 193.17it/s]\u001b[A\n",
      " 51%|████████████████████████████████████████████████████████████▉                                                           | 508/1000 [00:49<00:55,  8.85it/s]"
     ]
    },
    {
     "name": "stdout",
     "output_type": "stream",
     "text": [
      "DONE\n",
      "DONE\n",
      "Actor_loss 1.25081303\n",
      "Critic_loss 1.00000168\n",
      "Rewards mean 1.00000000 Rewards std 0.00000000 Rewards sum 14.00000000\n"
     ]
    },
    {
     "name": "stderr",
     "output_type": "stream",
     "text": [
      "\n",
      "  0%|                                                                                                                                   | 0/200 [00:00<?, ?it/s]\u001b[A\n",
      " 10%|███████████▍                                                                                                             | 19/200 [00:00<00:01, 172.20it/s]\u001b[A\n",
      " 51%|█████████████████████████████████████████████████████████████                                                           | 509/1000 [00:49<00:55,  8.79it/s]"
     ]
    },
    {
     "name": "stdout",
     "output_type": "stream",
     "text": [
      "DONE\n",
      "DONE\n",
      "Actor_loss 1.37301840\n",
      "Critic_loss 1.00000067\n",
      "Rewards mean 1.00000000 Rewards std 0.00000000 Rewards sum 20.00000000\n"
     ]
    },
    {
     "name": "stderr",
     "output_type": "stream",
     "text": [
      "\n",
      " 10%|████████████▋                                                                                                            | 21/200 [00:00<00:00, 202.99it/s]\u001b[A\n",
      " 51%|█████████████████████████████████████████████████████████████▏                                                          | 510/1000 [00:49<00:55,  8.85it/s]"
     ]
    },
    {
     "name": "stdout",
     "output_type": "stream",
     "text": [
      "DONE\n",
      "DONE\n",
      "Actor_loss 1.38107302\n",
      "Critic_loss 1.00000063\n",
      "Rewards mean 1.00000000 Rewards std 0.00000000 Rewards sum 22.00000000\n"
     ]
    },
    {
     "name": "stderr",
     "output_type": "stream",
     "text": [
      "\n",
      "  0%|                                                                                                                                   | 0/200 [00:00<?, ?it/s]\u001b[A\n",
      " 20%|████████████████████████▏                                                                                                | 40/200 [00:00<00:00, 210.86it/s]\u001b[A\n",
      "                                                                                                                                                                "
     ]
    },
    {
     "name": "stdout",
     "output_type": "stream",
     "text": [
      "DONE\n",
      "DONE\n"
     ]
    },
    {
     "name": "stderr",
     "output_type": "stream",
     "text": [
      " 51%|█████████████████████████████████████████████████████████████▎                                                          | 511/1000 [00:49<01:04,  7.61it/s]"
     ]
    },
    {
     "name": "stdout",
     "output_type": "stream",
     "text": [
      "Actor_loss 1.35027963\n",
      "Critic_loss 1.00000092\n",
      "Rewards mean 1.00000000 Rewards std 0.00000000 Rewards sum 41.00000000\n"
     ]
    },
    {
     "name": "stderr",
     "output_type": "stream",
     "text": [
      "\n",
      "  9%|██████████▉                                                                                                              | 18/200 [00:00<00:00, 193.95it/s]\u001b[A\n",
      " 51%|█████████████████████████████████████████████████████████████▎                                                          | 511/1000 [00:49<01:04,  7.61it/s]"
     ]
    },
    {
     "name": "stdout",
     "output_type": "stream",
     "text": [
      "DONE\n",
      "DONE\n",
      "Actor_loss 1.21868917\n",
      "Critic_loss 1.00000184\n",
      "Rewards mean 1.00000000 Rewards std 0.00000000 Rewards sum 19.00000000\n"
     ]
    },
    {
     "name": "stderr",
     "output_type": "stream",
     "text": [
      "\n",
      "  0%|                                                                                                                                   | 0/200 [00:00<?, ?it/s]\u001b[A\n",
      " 13%|███████████████▋                                                                                                         | 26/200 [00:00<00:00, 191.93it/s]\u001b[A\n",
      " 51%|█████████████████████████████████████████████████████████████▌                                                          | 513/1000 [00:50<01:01,  7.87it/s]"
     ]
    },
    {
     "name": "stdout",
     "output_type": "stream",
     "text": [
      "DONE\n",
      "DONE\n",
      "Actor_loss 1.37513084\n",
      "Critic_loss 1.00000066\n",
      "Rewards mean 1.00000000 Rewards std 0.00000000 Rewards sum 27.00000000\n"
     ]
    },
    {
     "name": "stderr",
     "output_type": "stream",
     "text": [
      "\n",
      "  6%|███████▊                                                                                                                 | 13/200 [00:00<00:01, 173.68it/s]\u001b[A\n",
      " 51%|█████████████████████████████████████████████████████████████▌                                                          | 513/1000 [00:50<01:01,  7.87it/s]"
     ]
    },
    {
     "name": "stdout",
     "output_type": "stream",
     "text": [
      "DONE\n",
      "DONE\n",
      "Actor_loss 1.25091021\n",
      "Critic_loss 1.00000167\n",
      "Rewards mean 1.00000000 Rewards std 0.00000000 Rewards sum 14.00000000\n"
     ]
    },
    {
     "name": "stderr",
     "output_type": "stream",
     "text": [
      "\n",
      "  0%|                                                                                                                                   | 0/200 [00:00<?, ?it/s]\u001b[A\n",
      " 10%|████████████                                                                                                             | 20/200 [00:00<00:00, 199.94it/s]\u001b[A\n",
      " 22%|███████████████████████████▏                                                                                             | 45/200 [00:00<00:00, 195.29it/s]\u001b[A\n",
      " 52%|█████████████████████████████████████████████████████████████▊                                                          | 515/1000 [00:50<01:07,  7.23it/s]"
     ]
    },
    {
     "name": "stdout",
     "output_type": "stream",
     "text": [
      "DONE\n",
      "DONE\n",
      "Actor_loss 1.35026775\n",
      "Critic_loss 1.00000088\n",
      "Rewards mean 1.00000000 Rewards std 0.00000000 Rewards sum 46.00000000\n"
     ]
    },
    {
     "name": "stderr",
     "output_type": "stream",
     "text": [
      "\n",
      "  6%|███████▊                                                                                                                 | 13/200 [00:00<00:00, 195.50it/s]\u001b[A\n",
      " 52%|█████████████████████████████████████████████████████████████▊                                                          | 515/1000 [00:50<01:07,  7.23it/s]"
     ]
    },
    {
     "name": "stdout",
     "output_type": "stream",
     "text": [
      "DONE\n",
      "DONE\n",
      "Actor_loss 1.25090820\n",
      "Critic_loss 1.00000168\n",
      "Rewards mean 1.00000000 Rewards std 0.00000000 Rewards sum 14.00000000\n"
     ]
    },
    {
     "name": "stderr",
     "output_type": "stream",
     "text": [
      "\n",
      "  8%|█████████                                                                                                                | 15/200 [00:00<00:01, 181.33it/s]\u001b[A\n",
      " 52%|██████████████████████████████████████████████████████████████                                                          | 517/1000 [00:50<00:57,  8.43it/s]"
     ]
    },
    {
     "name": "stdout",
     "output_type": "stream",
     "text": [
      "DONE\n",
      "DONE\n",
      "Actor_loss 1.20671670\n",
      "Critic_loss 1.00000205\n",
      "Rewards mean 1.00000000 Rewards std 0.00000000 Rewards sum 16.00000000\n"
     ]
    },
    {
     "name": "stderr",
     "output_type": "stream",
     "text": [
      "\n",
      "  8%|██████████▎                                                                                                              | 17/200 [00:00<00:01, 172.82it/s]\u001b[A\n",
      " 52%|██████████████████████████████████████████████████████████████▏                                                         | 518/1000 [00:50<00:55,  8.64it/s]"
     ]
    },
    {
     "name": "stdout",
     "output_type": "stream",
     "text": [
      "DONE\n",
      "DONE\n",
      "Actor_loss 1.23621053\n",
      "Critic_loss 1.00000174\n",
      "Rewards mean 1.00000000 Rewards std 0.00000000 Rewards sum 18.00000000\n"
     ]
    },
    {
     "name": "stderr",
     "output_type": "stream",
     "text": [
      "\n",
      " 10%|████████████                                                                                                             | 20/200 [00:00<00:00, 197.72it/s]\u001b[A\n",
      " 52%|██████████████████████████████████████████████████████████████▎                                                         | 519/1000 [00:50<00:54,  8.78it/s]"
     ]
    },
    {
     "name": "stdout",
     "output_type": "stream",
     "text": [
      "DONE\n",
      "DONE\n",
      "Actor_loss 1.35031413\n",
      "Critic_loss 1.00000086\n",
      "Rewards mean 1.00000000 Rewards std 0.00000000 Rewards sum 21.00000000\n"
     ]
    },
    {
     "name": "stderr",
     "output_type": "stream",
     "text": [
      "\n",
      "  6%|███████▊                                                                                                                 | 13/200 [00:00<00:00, 190.13it/s]\u001b[A\n",
      " 52%|██████████████████████████████████████████████████████████████▎                                                         | 519/1000 [00:50<00:54,  8.78it/s]"
     ]
    },
    {
     "name": "stdout",
     "output_type": "stream",
     "text": [
      "DONE\n",
      "DONE\n",
      "Actor_loss 1.33373216\n",
      "Critic_loss 1.00000108\n",
      "Rewards mean 1.00000000 Rewards std 0.00000000 Rewards sum 14.00000000\n"
     ]
    },
    {
     "name": "stderr",
     "output_type": "stream",
     "text": [
      "\n",
      "  8%|█████████                                                                                                                | 15/200 [00:00<00:00, 191.48it/s]\u001b[A\n",
      " 52%|██████████████████████████████████████████████████████████████▌                                                         | 521/1000 [00:50<00:48,  9.95it/s]"
     ]
    },
    {
     "name": "stdout",
     "output_type": "stream",
     "text": [
      "DONE\n",
      "DONE\n",
      "Actor_loss 1.27844920\n",
      "Critic_loss 1.00000145\n",
      "Rewards mean 1.00000000 Rewards std 0.00000000 Rewards sum 16.00000000\n"
     ]
    },
    {
     "name": "stderr",
     "output_type": "stream",
     "text": [
      "\n",
      "  8%|█████████▋                                                                                                               | 16/200 [00:00<00:00, 188.58it/s]\u001b[A\n",
      " 52%|██████████████████████████████████████████████████████████████▌                                                         | 521/1000 [00:51<00:48,  9.95it/s]"
     ]
    },
    {
     "name": "stdout",
     "output_type": "stream",
     "text": [
      "DONE\n",
      "DONE\n",
      "Actor_loss 1.25596083\n",
      "Critic_loss 1.00000159\n",
      "Rewards mean 1.00000000 Rewards std 0.00000000 Rewards sum 17.00000000\n"
     ]
    },
    {
     "name": "stderr",
     "output_type": "stream",
     "text": [
      "\n",
      "  0%|                                                                                                                                   | 0/200 [00:00<?, ?it/s]\u001b[A\n",
      " 15%|██████████████████▏                                                                                                      | 30/200 [00:00<00:00, 185.66it/s]\u001b[A\n",
      " 52%|██████████████████████████████████████████████████████████████▊                                                         | 523/1000 [00:51<00:52,  9.01it/s]"
     ]
    },
    {
     "name": "stdout",
     "output_type": "stream",
     "text": [
      "DONE\n",
      "DONE\n",
      "Actor_loss 1.27842323\n",
      "Critic_loss 1.00000147\n",
      "Rewards mean 1.00000000 Rewards std 0.00000000 Rewards sum 31.00000000\n"
     ]
    },
    {
     "name": "stderr",
     "output_type": "stream",
     "text": [
      "\n",
      "  8%|█████████                                                                                                                | 15/200 [00:00<00:01, 148.07it/s]\u001b[A\n",
      " 52%|██████████████████████████████████████████████████████████████▉                                                         | 524/1000 [00:51<00:52,  9.08it/s]"
     ]
    },
    {
     "name": "stdout",
     "output_type": "stream",
     "text": [
      "DONE\n",
      "DONE\n",
      "Actor_loss 1.27842145\n",
      "Critic_loss 1.00000153\n",
      "Rewards mean 1.00000000 Rewards std 0.00000000 Rewards sum 16.00000000\n"
     ]
    },
    {
     "name": "stderr",
     "output_type": "stream",
     "text": [
      "\n",
      "  4%|█████▍                                                                                                                    | 9/200 [00:00<00:01, 186.59it/s]\u001b[A\n",
      " 52%|██████████████████████████████████████████████████████████████▉                                                         | 524/1000 [00:51<00:52,  9.08it/s]"
     ]
    },
    {
     "name": "stdout",
     "output_type": "stream",
     "text": [
      "DONE\n",
      "DONE\n",
      "Actor_loss 1.15852097\n",
      "Critic_loss 1.00000255\n",
      "Rewards mean 1.00000000 Rewards std 0.00000000 Rewards sum 10.00000000\n"
     ]
    },
    {
     "name": "stderr",
     "output_type": "stream",
     "text": [
      "\n",
      "  0%|                                                                                                                                   | 0/200 [00:00<?, ?it/s]\u001b[A\n",
      " 20%|████████████████████████▏                                                                                                | 40/200 [00:00<00:00, 197.60it/s]\u001b[A\n",
      " 53%|███████████████████████████████████████████████████████████████                                                         | 526/1000 [00:51<00:55,  8.50it/s]"
     ]
    },
    {
     "name": "stdout",
     "output_type": "stream",
     "text": [
      "DONE\n",
      "DONE\n",
      "Actor_loss 1.32337765\n",
      "Critic_loss 1.00000113\n",
      "Rewards mean 1.00000000 Rewards std 0.00000000 Rewards sum 41.00000000\n"
     ]
    },
    {
     "name": "stderr",
     "output_type": "stream",
     "text": [
      "\n",
      "  7%|████████▍                                                                                                                | 14/200 [00:00<00:01, 181.07it/s]\u001b[A\n",
      " 53%|███████████████████████████████████████████████████████████████                                                         | 526/1000 [00:51<00:55,  8.50it/s]"
     ]
    },
    {
     "name": "stdout",
     "output_type": "stream",
     "text": [
      "DONE\n",
      "DONE\n",
      "Actor_loss 1.30410627\n",
      "Critic_loss 1.00000129\n",
      "Rewards mean 1.00000000 Rewards std 0.00000000 Rewards sum 15.00000000\n"
     ]
    },
    {
     "name": "stderr",
     "output_type": "stream",
     "text": [
      "\n",
      "  0%|                                                                                                                                   | 0/200 [00:00<?, ?it/s]\u001b[A\n",
      " 12%|█████████████▉                                                                                                           | 23/200 [00:00<00:00, 183.46it/s]\u001b[A\n",
      " 53%|███████████████████████████████████████████████████████████████▎                                                        | 528/1000 [00:51<00:53,  8.78it/s]"
     ]
    },
    {
     "name": "stdout",
     "output_type": "stream",
     "text": [
      "DONE\n",
      "DONE\n",
      "Actor_loss 1.38785036\n",
      "Critic_loss 1.00000056\n",
      "Rewards mean 1.00000000 Rewards std 0.00000000 Rewards sum 24.00000000\n"
     ]
    },
    {
     "name": "stderr",
     "output_type": "stream",
     "text": [
      "\n",
      "  9%|██████████▉                                                                                                              | 18/200 [00:00<00:00, 200.35it/s]\u001b[A\n",
      " 53%|███████████████████████████████████████████████████████████████▎                                                        | 528/1000 [00:51<00:53,  8.78it/s]"
     ]
    },
    {
     "name": "stdout",
     "output_type": "stream",
     "text": [
      "DONE\n",
      "DONE\n",
      "Actor_loss 1.27843455\n",
      "Critic_loss 1.00000145\n",
      "Rewards mean 1.00000000 Rewards std 0.00000000 Rewards sum 19.00000000\n"
     ]
    },
    {
     "name": "stderr",
     "output_type": "stream",
     "text": [
      "\n",
      "  0%|                                                                                                                                   | 0/200 [00:00<?, ?it/s]\u001b[A\n",
      " 12%|█████████████▉                                                                                                           | 23/200 [00:00<00:00, 186.68it/s]\u001b[A\n",
      " 53%|███████████████████████████████████████████████████████████████▌                                                        | 530/1000 [00:52<00:53,  8.80it/s]"
     ]
    },
    {
     "name": "stdout",
     "output_type": "stream",
     "text": [
      "DONE\n",
      "DONE\n",
      "Actor_loss 1.29406443\n",
      "Critic_loss 1.00000130\n",
      "Rewards mean 1.00000000 Rewards std 0.00000000 Rewards sum 24.00000000\n"
     ]
    },
    {
     "name": "stderr",
     "output_type": "stream",
     "text": [
      "\n",
      "  4%|████▎                                                                                                                     | 7/200 [00:00<00:01, 170.57it/s]\u001b[A\n",
      " 53%|███████████████████████████████████████████████████████████████▌                                                        | 530/1000 [00:52<00:53,  8.80it/s]"
     ]
    },
    {
     "name": "stdout",
     "output_type": "stream",
     "text": [
      "DONE\n",
      "DONE\n",
      "Actor_loss 0.91860660\n",
      "Critic_loss 1.00000451\n",
      "Rewards mean 1.00000000 Rewards std 0.00000000 Rewards sum 8.00000000\n"
     ]
    },
    {
     "name": "stderr",
     "output_type": "stream",
     "text": [
      "\n",
      "  6%|██████▋                                                                                                                  | 11/200 [00:00<00:01, 175.41it/s]\u001b[A\n",
      " 53%|███████████████████████████████████████████████████████████████▊                                                        | 532/1000 [00:52<00:44, 10.44it/s]"
     ]
    },
    {
     "name": "stdout",
     "output_type": "stream",
     "text": [
      "DONE\n",
      "DONE\n",
      "Actor_loss 1.01630350\n",
      "Critic_loss 1.00000345\n",
      "Rewards mean 1.00000000 Rewards std 0.00000000 Rewards sum 12.00000000\n"
     ]
    },
    {
     "name": "stderr",
     "output_type": "stream",
     "text": [
      "\n",
      "  0%|                                                                                                                                   | 0/200 [00:00<?, ?it/s]\u001b[A\n",
      " 10%|███████████▍                                                                                                             | 19/200 [00:00<00:01, 160.25it/s]\u001b[A\n",
      " 53%|███████████████████████████████████████████████████████████████▊                                                        | 532/1000 [00:52<00:44, 10.44it/s]"
     ]
    },
    {
     "name": "stdout",
     "output_type": "stream",
     "text": [
      "DONE\n",
      "DONE\n",
      "Actor_loss 1.54382648\n",
      "Critic_loss 0.99999894\n",
      "Rewards mean 1.00000000 Rewards std 0.00000000 Rewards sum 20.00000000\n"
     ]
    },
    {
     "name": "stderr",
     "output_type": "stream",
     "text": [
      "\n",
      "  4%|█████▍                                                                                                                    | 9/200 [00:00<00:01, 176.65it/s]\u001b[A\n",
      " 53%|████████████████████████████████████████████████████████████████                                                        | 534/1000 [00:52<00:43, 10.62it/s]"
     ]
    },
    {
     "name": "stdout",
     "output_type": "stream",
     "text": [
      "DONE\n",
      "DONE\n",
      "Actor_loss 0.91822935\n",
      "Critic_loss 1.00000411\n",
      "Rewards mean 1.00000000 Rewards std 0.00000000 Rewards sum 10.00000000\n"
     ]
    },
    {
     "name": "stderr",
     "output_type": "stream",
     "text": [
      "\n",
      "  0%|                                                                                                                                   | 0/200 [00:00<?, ?it/s]\u001b[A\n",
      " 10%|████████████▋                                                                                                            | 21/200 [00:00<00:01, 172.35it/s]\u001b[A\n",
      " 53%|████████████████████████████████████████████████████████████████                                                        | 534/1000 [00:52<00:43, 10.62it/s]"
     ]
    },
    {
     "name": "stdout",
     "output_type": "stream",
     "text": [
      "DONE\n",
      "DONE\n",
      "Actor_loss 1.32982729\n",
      "Critic_loss 1.00000106\n",
      "Rewards mean 1.00000000 Rewards std 0.00000000 Rewards sum 22.00000000\n"
     ]
    },
    {
     "name": "stderr",
     "output_type": "stream",
     "text": [
      "\n",
      "  8%|█████████                                                                                                                | 15/200 [00:00<00:01, 179.12it/s]\u001b[A\n",
      " 54%|████████████████████████████████████████████████████████████████▎                                                       | 536/1000 [00:52<00:45, 10.13it/s]"
     ]
    },
    {
     "name": "stdout",
     "output_type": "stream",
     "text": [
      "DONE\n",
      "DONE\n",
      "Actor_loss 1.42248704\n",
      "Critic_loss 1.00000021\n",
      "Rewards mean 1.00000000 Rewards std 0.00000000 Rewards sum 16.00000000\n"
     ]
    },
    {
     "name": "stderr",
     "output_type": "stream",
     "text": [
      "\n",
      "  9%|██████████▉                                                                                                              | 18/200 [00:00<00:00, 200.62it/s]\u001b[A\n",
      " 54%|████████████████████████████████████████████████████████████████▎                                                       | 536/1000 [00:52<00:45, 10.13it/s]"
     ]
    },
    {
     "name": "stdout",
     "output_type": "stream",
     "text": [
      "DONE\n",
      "DONE\n",
      "Actor_loss 1.33838877\n",
      "Critic_loss 1.00000111\n",
      "Rewards mean 1.00000000 Rewards std 0.00000000 Rewards sum 19.00000000\n"
     ]
    },
    {
     "name": "stderr",
     "output_type": "stream",
     "text": [
      "\n",
      "  6%|███████▎                                                                                                                 | 12/200 [00:00<00:01, 168.73it/s]\u001b[A\n",
      " 54%|████████████████████████████████████████████████████████████████▌                                                       | 538/1000 [00:52<00:43, 10.50it/s]"
     ]
    },
    {
     "name": "stdout",
     "output_type": "stream",
     "text": [
      "DONE\n",
      "DONE\n",
      "Actor_loss 1.27836597\n",
      "Critic_loss 1.00000151\n",
      "Rewards mean 1.00000000 Rewards std 0.00000000 Rewards sum 13.00000000\n"
     ]
    },
    {
     "name": "stderr",
     "output_type": "stream",
     "text": [
      "\n",
      "  6%|███████▎                                                                                                                 | 12/200 [00:00<00:01, 164.12it/s]\u001b[A\n",
      " 54%|████████████████████████████████████████████████████████████████▌                                                       | 538/1000 [00:52<00:43, 10.50it/s]"
     ]
    },
    {
     "name": "stdout",
     "output_type": "stream",
     "text": [
      "DONE\n",
      "DONE\n",
      "Actor_loss 1.09810764\n",
      "Critic_loss 1.00000282\n",
      "Rewards mean 1.00000000 Rewards std 0.00000000 Rewards sum 13.00000000\n"
     ]
    },
    {
     "name": "stderr",
     "output_type": "stream",
     "text": [
      "\n",
      "  5%|██████                                                                                                                   | 10/200 [00:00<00:01, 148.24it/s]\u001b[A\n",
      " 54%|████████████████████████████████████████████████████████████████▊                                                       | 540/1000 [00:52<00:41, 11.19it/s]"
     ]
    },
    {
     "name": "stdout",
     "output_type": "stream",
     "text": [
      "DONE\n",
      "DONE\n",
      "Actor_loss 1.13403222\n",
      "Critic_loss 1.00000266\n",
      "Rewards mean 1.00000000 Rewards std 0.00000000 Rewards sum 11.00000000\n"
     ]
    },
    {
     "name": "stderr",
     "output_type": "stream",
     "text": [
      "\n",
      "  8%|██████████▎                                                                                                              | 17/200 [00:00<00:01, 181.42it/s]\u001b[A\n",
      " 54%|████████████████████████████████████████████████████████████████▊                                                       | 540/1000 [00:52<00:41, 11.19it/s]"
     ]
    },
    {
     "name": "stdout",
     "output_type": "stream",
     "text": [
      "DONE\n",
      "DONE\n",
      "Actor_loss 1.29952415\n",
      "Critic_loss 1.00000135\n",
      "Rewards mean 1.00000000 Rewards std 0.00000000 Rewards sum 18.00000000\n"
     ]
    },
    {
     "name": "stderr",
     "output_type": "stream",
     "text": [
      "\n",
      "  9%|██████████▉                                                                                                              | 18/200 [00:00<00:01, 180.56it/s]\u001b[A\n",
      " 54%|█████████████████████████████████████████████████████████████████                                                       | 542/1000 [00:53<00:42, 10.73it/s]"
     ]
    },
    {
     "name": "stdout",
     "output_type": "stream",
     "text": [
      "DONE\n",
      "DONE\n",
      "Actor_loss 1.33843220\n",
      "Critic_loss 1.00000105\n",
      "Rewards mean 1.00000000 Rewards std 0.00000000 Rewards sum 19.00000000\n"
     ]
    },
    {
     "name": "stderr",
     "output_type": "stream",
     "text": [
      "\n",
      "  6%|███████▊                                                                                                                 | 13/200 [00:00<00:01, 175.65it/s]\u001b[A\n",
      " 54%|█████████████████████████████████████████████████████████████████                                                       | 542/1000 [00:53<00:42, 10.73it/s]"
     ]
    },
    {
     "name": "stdout",
     "output_type": "stream",
     "text": [
      "DONE\n",
      "DONE\n",
      "Actor_loss 1.33380022\n",
      "Critic_loss 1.00000101\n",
      "Rewards mean 1.00000000 Rewards std 0.00000000 Rewards sum 14.00000000\n"
     ]
    },
    {
     "name": "stderr",
     "output_type": "stream",
     "text": [
      "\n",
      "  6%|███████▊                                                                                                                 | 13/200 [00:00<00:00, 189.45it/s]\u001b[A\n",
      " 54%|█████████████████████████████████████████████████████████████████▎                                                      | 544/1000 [00:53<00:40, 11.33it/s]"
     ]
    },
    {
     "name": "stdout",
     "output_type": "stream",
     "text": [
      "DONE\n",
      "DONE\n",
      "Actor_loss 1.16726587\n",
      "Critic_loss 1.00000228\n",
      "Rewards mean 1.00000000 Rewards std 0.00000000 Rewards sum 14.00000000\n"
     ]
    },
    {
     "name": "stderr",
     "output_type": "stream",
     "text": [
      "\n",
      "  4%|█████▍                                                                                                                    | 9/200 [00:00<00:01, 154.11it/s]\u001b[A\n",
      " 54%|█████████████████████████████████████████████████████████████████▎                                                      | 544/1000 [00:53<00:40, 11.33it/s]"
     ]
    },
    {
     "name": "stdout",
     "output_type": "stream",
     "text": [
      "DONE\n",
      "DONE\n",
      "Actor_loss 1.15794445\n",
      "Critic_loss 1.00000252\n",
      "Rewards mean 1.00000000 Rewards std 0.00000000 Rewards sum 10.00000000\n"
     ]
    },
    {
     "name": "stderr",
     "output_type": "stream",
     "text": [
      "\n",
      "  5%|██████                                                                                                                   | 10/200 [00:00<00:01, 168.48it/s]\u001b[A\n",
      " 55%|█████████████████████████████████████████████████████████████████▌                                                      | 546/1000 [00:53<00:36, 12.32it/s]"
     ]
    },
    {
     "name": "stdout",
     "output_type": "stream",
     "text": [
      "DONE\n",
      "DONE\n",
      "Actor_loss 1.13380063\n",
      "Critic_loss 1.00000282\n",
      "Rewards mean 1.00000000 Rewards std 0.00000000 Rewards sum 11.00000000\n"
     ]
    },
    {
     "name": "stderr",
     "output_type": "stream",
     "text": [
      "\n",
      "  9%|██████████▉                                                                                                              | 18/200 [00:00<00:00, 186.93it/s]\u001b[A\n",
      " 55%|█████████████████████████████████████████████████████████████████▌                                                      | 546/1000 [00:53<00:36, 12.32it/s]"
     ]
    },
    {
     "name": "stdout",
     "output_type": "stream",
     "text": [
      "DONE\n",
      "DONE\n",
      "Actor_loss 1.33846506\n",
      "Critic_loss 1.00000099\n",
      "Rewards mean 1.00000000 Rewards std 0.00000000 Rewards sum 19.00000000\n"
     ]
    },
    {
     "name": "stderr",
     "output_type": "stream",
     "text": [
      "\n",
      "  6%|███████▊                                                                                                                 | 13/200 [00:00<00:01, 186.46it/s]\u001b[A\n",
      " 55%|█████████████████████████████████████████████████████████████████▊                                                      | 548/1000 [00:53<00:37, 11.98it/s]"
     ]
    },
    {
     "name": "stdout",
     "output_type": "stream",
     "text": [
      "DONE\n",
      "DONE\n",
      "Actor_loss 1.33382576\n",
      "Critic_loss 1.00000110\n",
      "Rewards mean 1.00000000 Rewards std 0.00000000 Rewards sum 14.00000000\n"
     ]
    },
    {
     "name": "stderr",
     "output_type": "stream",
     "text": [
      "\n",
      "  0%|                                                                                                                                   | 0/200 [00:00<?, ?it/s]\u001b[A\n",
      " 14%|█████████████████▌                                                                                                       | 29/200 [00:00<00:00, 195.18it/s]\u001b[A\n",
      " 55%|█████████████████████████████████████████████████████████████████▊                                                      | 548/1000 [00:53<00:37, 11.98it/s]"
     ]
    },
    {
     "name": "stdout",
     "output_type": "stream",
     "text": [
      "DONE\n",
      "DONE\n",
      "Actor_loss 1.29071804\n",
      "Critic_loss 1.00000139\n",
      "Rewards mean 1.00000000 Rewards std 0.00000000 Rewards sum 30.00000000\n"
     ]
    },
    {
     "name": "stderr",
     "output_type": "stream",
     "text": [
      "\n",
      "  0%|                                                                                                                                   | 0/200 [00:00<?, ?it/s]\u001b[A\n",
      " 16%|███████████████████▎                                                                                                     | 32/200 [00:00<00:00, 198.89it/s]\u001b[A\n",
      " 55%|██████████████████████████████████████████████████████████████████                                                      | 550/1000 [00:53<00:47,  9.39it/s]"
     ]
    },
    {
     "name": "stdout",
     "output_type": "stream",
     "text": [
      "DONE\n",
      "DONE\n",
      "Actor_loss 1.42492097\n",
      "Critic_loss 1.00000020\n",
      "Rewards mean 1.00000000 Rewards std 0.00000000 Rewards sum 33.00000000\n"
     ]
    },
    {
     "name": "stderr",
     "output_type": "stream",
     "text": [
      "\n",
      "  4%|█████▍                                                                                                                    | 9/200 [00:00<00:01, 174.06it/s]\u001b[A\n",
      " 55%|██████████████████████████████████████████████████████████████████                                                      | 550/1000 [00:53<00:47,  9.39it/s]"
     ]
    },
    {
     "name": "stdout",
     "output_type": "stream",
     "text": [
      "DONE\n",
      "DONE\n",
      "Actor_loss 1.15807223\n",
      "Critic_loss 1.00000267\n",
      "Rewards mean 1.00000000 Rewards std 0.00000000 Rewards sum 10.00000000\n"
     ]
    },
    {
     "name": "stderr",
     "output_type": "stream",
     "text": [
      "\n",
      "  8%|██████████▎                                                                                                              | 17/200 [00:00<00:00, 191.47it/s]\u001b[A\n",
      " 55%|██████████████████████████████████████████████████████████████████▏                                                     | 552/1000 [00:53<00:43, 10.25it/s]"
     ]
    },
    {
     "name": "stdout",
     "output_type": "stream",
     "text": [
      "DONE\n",
      "DONE\n",
      "Actor_loss 1.29951779\n",
      "Critic_loss 1.00000131\n",
      "Rewards mean 1.00000000 Rewards std 0.00000000 Rewards sum 18.00000000\n"
     ]
    },
    {
     "name": "stderr",
     "output_type": "stream",
     "text": [
      "\n",
      "  5%|██████                                                                                                                   | 10/200 [00:00<00:01, 164.28it/s]\u001b[A\n",
      " 55%|██████████████████████████████████████████████████████████████████▏                                                     | 552/1000 [00:54<00:43, 10.25it/s]"
     ]
    },
    {
     "name": "stdout",
     "output_type": "stream",
     "text": [
      "DONE\n",
      "DONE\n",
      "Actor_loss 1.13382550\n",
      "Critic_loss 1.00000287\n",
      "Rewards mean 1.00000000 Rewards std 0.00000000 Rewards sum 11.00000000\n"
     ]
    },
    {
     "name": "stderr",
     "output_type": "stream",
     "text": [
      "\n",
      " 10%|███████████▍                                                                                                             | 19/200 [00:00<00:00, 197.17it/s]\u001b[A\n",
      " 55%|██████████████████████████████████████████████████████████████████▍                                                     | 554/1000 [00:54<00:41, 10.66it/s]"
     ]
    },
    {
     "name": "stdout",
     "output_type": "stream",
     "text": [
      "DONE\n",
      "DONE\n",
      "Actor_loss 1.20213413\n",
      "Critic_loss 1.00000192\n",
      "Rewards mean 1.00000000 Rewards std 0.00000000 Rewards sum 20.00000000\n"
     ]
    },
    {
     "name": "stderr",
     "output_type": "stream",
     "text": [
      "\n",
      "  0%|                                                                                                                                   | 0/200 [00:00<?, ?it/s]\u001b[A\n",
      "  9%|██████████▉                                                                                                              | 18/200 [00:00<00:01, 174.29it/s]\u001b[A\n",
      " 22%|██████████████████████████                                                                                               | 43/200 [00:00<00:00, 182.33it/s]\u001b[A\n",
      " 55%|██████████████████████████████████████████████████████████████████▍                                                     | 554/1000 [00:54<00:41, 10.66it/s]"
     ]
    },
    {
     "name": "stdout",
     "output_type": "stream",
     "text": [
      "DONE\n",
      "DONE\n",
      "Actor_loss 1.39590348\n",
      "Critic_loss 1.00000054\n",
      "Rewards mean 1.00000000 Rewards std 0.00000000 Rewards sum 44.00000000\n"
     ]
    },
    {
     "name": "stderr",
     "output_type": "stream",
     "text": [
      "\n",
      "  0%|                                                                                                                                   | 0/200 [00:00<?, ?it/s]\u001b[A\n",
      " 10%|████████████▋                                                                                                            | 21/200 [00:00<00:00, 188.00it/s]\u001b[A\n",
      " 56%|██████████████████████████████████████████████████████████████████▋                                                     | 556/1000 [00:54<00:53,  8.35it/s]"
     ]
    },
    {
     "name": "stdout",
     "output_type": "stream",
     "text": [
      "DONE\n",
      "DONE\n",
      "Actor_loss 1.32985634\n",
      "Critic_loss 1.00000113\n",
      "Rewards mean 1.00000000 Rewards std 0.00000000 Rewards sum 22.00000000\n"
     ]
    },
    {
     "name": "stderr",
     "output_type": "stream",
     "text": [
      "\n",
      "  6%|███████▊                                                                                                                 | 13/200 [00:00<00:01, 185.79it/s]\u001b[A\n",
      " 56%|██████████████████████████████████████████████████████████████████▋                                                     | 556/1000 [00:54<00:53,  8.35it/s]"
     ]
    },
    {
     "name": "stdout",
     "output_type": "stream",
     "text": [
      "DONE\n",
      "DONE\n",
      "Actor_loss 1.41711576\n",
      "Critic_loss 1.00000023\n",
      "Rewards mean 1.00000000 Rewards std 0.00000000 Rewards sum 14.00000000\n"
     ]
    },
    {
     "name": "stderr",
     "output_type": "stream",
     "text": [
      "\n",
      "  4%|████▉                                                                                                                     | 8/200 [00:00<00:00, 197.67it/s]\u001b[A\n",
      " 56%|██████████████████████████████████████████████████████████████████▉                                                     | 558/1000 [00:54<00:45,  9.80it/s]"
     ]
    },
    {
     "name": "stdout",
     "output_type": "stream",
     "text": [
      "DONE\n",
      "DONE\n",
      "Actor_loss 1.05259375\n",
      "Critic_loss 1.00000354\n",
      "Rewards mean 1.00000000 Rewards std 0.00000000 Rewards sum 9.00000000\n"
     ]
    },
    {
     "name": "stderr",
     "output_type": "stream",
     "text": [
      "\n",
      "  0%|                                                                                                                                   | 0/200 [00:00<?, ?it/s]\u001b[A"
     ]
    },
    {
     "name": "stdout",
     "output_type": "stream",
     "text": [
      "DONE\n"
     ]
    },
    {
     "name": "stderr",
     "output_type": "stream",
     "text": [
      "  6%|███████▎                                                                                                                 | 12/200 [00:00<00:01, 169.01it/s]\n",
      " 56%|██████████████████████████████████████████████████████████████████▉                                                     | 558/1000 [00:54<00:45,  9.80it/s]"
     ]
    },
    {
     "name": "stdout",
     "output_type": "stream",
     "text": [
      "DONE\n",
      "Actor_loss 1.36856507\n",
      "Critic_loss 1.00000080\n",
      "Rewards mean 1.00000000 Rewards std 0.00000000 Rewards sum 13.00000000\n"
     ]
    },
    {
     "name": "stderr",
     "output_type": "stream",
     "text": [
      "\n",
      "  4%|█████▍                                                                                                                    | 9/200 [00:00<00:01, 165.71it/s]\u001b[A\n",
      " 56%|███████████████████████████████████████████████████████████████████▏                                                    | 560/1000 [00:54<00:40, 10.87it/s]"
     ]
    },
    {
     "name": "stdout",
     "output_type": "stream",
     "text": [
      "DONE\n",
      "DONE\n",
      "Actor_loss 1.03738440\n",
      "Critic_loss 1.00000349\n",
      "Rewards mean 1.00000000 Rewards std 0.00000000 Rewards sum 10.00000000\n"
     ]
    },
    {
     "name": "stderr",
     "output_type": "stream",
     "text": [
      "\n",
      "  0%|                                                                                                                                   | 0/200 [00:00<?, ?it/s]\u001b[A"
     ]
    },
    {
     "name": "stdout",
     "output_type": "stream",
     "text": [
      "DONE\n"
     ]
    },
    {
     "name": "stderr",
     "output_type": "stream",
     "text": [
      "  5%|██████                                                                                                                   | 10/200 [00:00<00:01, 182.39it/s]\n",
      " 56%|███████████████████████████████████████████████████████████████████▏                                                    | 560/1000 [00:54<00:40, 10.87it/s]"
     ]
    },
    {
     "name": "stdout",
     "output_type": "stream",
     "text": [
      "DONE\n",
      "Actor_loss 1.56721615\n",
      "Critic_loss 0.99999899\n",
      "Rewards mean 1.00000000 Rewards std 0.00000000 Rewards sum 11.00000000\n"
     ]
    },
    {
     "name": "stderr",
     "output_type": "stream",
     "text": [
      "\n",
      "  6%|██████▋                                                                                                                  | 11/200 [00:00<00:01, 173.64it/s]\u001b[A\n",
      " 56%|███████████████████████████████████████████████████████████████████▍                                                    | 562/1000 [00:54<00:36, 11.91it/s]"
     ]
    },
    {
     "name": "stdout",
     "output_type": "stream",
     "text": [
      "DONE\n",
      "DONE\n",
      "Actor_loss 1.21259942\n",
      "Critic_loss 1.00000214\n",
      "Rewards mean 1.00000000 Rewards std 0.00000000 Rewards sum 12.00000000\n"
     ]
    },
    {
     "name": "stderr",
     "output_type": "stream",
     "text": [
      "\n",
      "  0%|                                                                                                                                   | 0/200 [00:00<?, ?it/s]\u001b[A\n",
      " 15%|██████████████████▏                                                                                                      | 30/200 [00:00<00:00, 185.71it/s]\u001b[A\n",
      " 56%|███████████████████████████████████████████████████████████████████▍                                                    | 562/1000 [00:55<00:36, 11.91it/s]"
     ]
    },
    {
     "name": "stdout",
     "output_type": "stream",
     "text": [
      "DONE\n",
      "DONE\n",
      "Actor_loss 1.53085901\n",
      "Critic_loss 0.99999898\n",
      "Rewards mean 1.00000000 Rewards std 0.00000000 Rewards sum 31.00000000\n"
     ]
    },
    {
     "name": "stderr",
     "output_type": "stream",
     "text": [
      "\n",
      "  0%|                                                                                                                                   | 0/200 [00:00<?, ?it/s]\u001b[A\n",
      " 15%|██████████████████▏                                                                                                      | 30/200 [00:00<00:00, 196.51it/s]\u001b[A\n",
      " 56%|███████████████████████████████████████████████████████████████████▋                                                    | 564/1000 [00:55<00:47,  9.27it/s]"
     ]
    },
    {
     "name": "stdout",
     "output_type": "stream",
     "text": [
      "DONE\n",
      "DONE\n",
      "Actor_loss 1.42237567\n",
      "Critic_loss 1.00000025\n",
      "Rewards mean 1.00000000 Rewards std 0.00000000 Rewards sum 31.00000000\n"
     ]
    },
    {
     "name": "stderr",
     "output_type": "stream",
     "text": [
      "\n",
      "  0%|                                                                                                                                   | 0/200 [00:00<?, ?it/s]\u001b[A\n",
      " 10%|███████████▍                                                                                                             | 19/200 [00:00<00:00, 185.11it/s]\u001b[A\n",
      " 26%|███████████████████████████████▍                                                                                         | 52/200 [00:00<00:00, 187.01it/s]\u001b[A\n",
      " 56%|███████████████████████████████████████████████████████████████████▋                                                    | 564/1000 [00:55<00:47,  9.27it/s]"
     ]
    },
    {
     "name": "stdout",
     "output_type": "stream",
     "text": [
      "DONE\n",
      "DONE\n",
      "Actor_loss 1.41667373\n",
      "Critic_loss 1.00000042\n",
      "Rewards mean 1.00000000 Rewards std 0.00000000 Rewards sum 53.00000000\n"
     ]
    },
    {
     "name": "stderr",
     "output_type": "stream",
     "text": [
      "\n",
      "  0%|                                                                                                                                   | 0/200 [00:00<?, ?it/s]\u001b[A\n",
      " 10%|████████████▋                                                                                                            | 21/200 [00:00<00:01, 165.81it/s]\u001b[A\n",
      " 57%|███████████████████████████████████████████████████████████████████▉                                                    | 566/1000 [00:55<00:59,  7.24it/s]"
     ]
    },
    {
     "name": "stdout",
     "output_type": "stream",
     "text": [
      "DONE\n",
      "DONE\n",
      "Actor_loss 1.43225441\n",
      "Critic_loss 1.00000065\n",
      "Rewards mean 1.00000000 Rewards std 0.00000000 Rewards sum 22.00000000\n"
     ]
    },
    {
     "name": "stderr",
     "output_type": "stream",
     "text": [
      "\n",
      "  6%|███████▎                                                                                                                 | 12/200 [00:00<00:01, 171.90it/s]\u001b[A\n",
      " 57%|███████████████████████████████████████████████████████████████████▉                                                    | 566/1000 [00:55<00:59,  7.24it/s]"
     ]
    },
    {
     "name": "stdout",
     "output_type": "stream",
     "text": [
      "DONE\n",
      "DONE\n",
      "Actor_loss 1.09911223\n",
      "Critic_loss 1.00000286\n",
      "Rewards mean 1.00000000 Rewards std 0.00000000 Rewards sum 13.00000000\n"
     ]
    },
    {
     "name": "stderr",
     "output_type": "stream",
     "text": [
      "\n",
      " 10%|███████████▍                                                                                                             | 19/200 [00:00<00:00, 191.99it/s]\u001b[A\n",
      " 57%|████████████████████████████████████████████████████████████████████▏                                                   | 568/1000 [00:55<00:53,  8.08it/s]"
     ]
    },
    {
     "name": "stdout",
     "output_type": "stream",
     "text": [
      "DONE\n",
      "DONE\n",
      "Actor_loss 1.42956193\n",
      "Critic_loss 1.00000009\n",
      "Rewards mean 1.00000000 Rewards std 0.00000000 Rewards sum 20.00000000\n"
     ]
    },
    {
     "name": "stderr",
     "output_type": "stream",
     "text": [
      "\n",
      "  0%|                                                                                                                                   | 0/200 [00:00<?, ?it/s]\u001b[A\n",
      " 10%|████████████                                                                                                             | 20/200 [00:00<00:00, 180.28it/s]\u001b[A\n",
      " 57%|████████████████████████████████████████████████████████████████████▎                                                   | 569/1000 [00:55<00:52,  8.16it/s]"
     ]
    },
    {
     "name": "stdout",
     "output_type": "stream",
     "text": [
      "DONE\n",
      "DONE\n",
      "Actor_loss 1.35024723\n",
      "Critic_loss 1.00000093\n",
      "Rewards mean 1.00000000 Rewards std 0.00000000 Rewards sum 21.00000000\n"
     ]
    },
    {
     "name": "stderr",
     "output_type": "stream",
     "text": [
      "\n",
      "  4%|█████▍                                                                                                                    | 9/200 [00:00<00:01, 182.38it/s]\u001b[A\n",
      " 57%|████████████████████████████████████████████████████████████████████▎                                                   | 569/1000 [00:56<00:52,  8.16it/s]"
     ]
    },
    {
     "name": "stdout",
     "output_type": "stream",
     "text": [
      "DONE\n",
      "DONE\n",
      "Actor_loss 1.75626446\n",
      "Critic_loss 0.99999579\n",
      "Rewards mean 1.00000000 Rewards std 0.00000000 Rewards sum 10.00000000\n"
     ]
    },
    {
     "name": "stderr",
     "output_type": "stream",
     "text": [
      "\n",
      "  6%|███████▎                                                                                                                 | 12/200 [00:00<00:01, 169.63it/s]\u001b[A\n",
      " 57%|████████████████████████████████████████████████████████████████████▌                                                   | 571/1000 [00:56<00:44,  9.65it/s]"
     ]
    },
    {
     "name": "stdout",
     "output_type": "stream",
     "text": [
      "DONE\n",
      "DONE\n",
      "Actor_loss 1.27860290\n",
      "Critic_loss 1.00000163\n",
      "Rewards mean 1.00000000 Rewards std 0.00000000 Rewards sum 13.00000000\n"
     ]
    },
    {
     "name": "stderr",
     "output_type": "stream",
     "text": [
      "\n",
      "  8%|██████████▎                                                                                                              | 17/200 [00:00<00:00, 191.72it/s]\u001b[A\n",
      " 57%|████████████████████████████████████████████████████████████████████▌                                                   | 571/1000 [00:56<00:44,  9.65it/s]"
     ]
    },
    {
     "name": "stdout",
     "output_type": "stream",
     "text": [
      "DONE\n",
      "DONE\n",
      "Actor_loss 1.36280352\n",
      "Critic_loss 1.00000088\n",
      "Rewards mean 1.00000000 Rewards std 0.00000000 Rewards sum 18.00000000\n"
     ]
    },
    {
     "name": "stderr",
     "output_type": "stream",
     "text": [
      "\n",
      "  0%|                                                                                                                                   | 0/200 [00:00<?, ?it/s]\u001b[A\n",
      " 10%|████████████                                                                                                             | 20/200 [00:00<00:01, 172.31it/s]\u001b[A\n",
      " 57%|████████████████████████████████████████████████████████████████████▊                                                   | 573/1000 [00:56<00:44,  9.52it/s]"
     ]
    },
    {
     "name": "stdout",
     "output_type": "stream",
     "text": [
      "DONE\n",
      "DONE\n",
      "Actor_loss 1.29650296\n",
      "Critic_loss 1.00000137\n",
      "Rewards mean 1.00000000 Rewards std 0.00000000 Rewards sum 21.00000000\n"
     ]
    },
    {
     "name": "stderr",
     "output_type": "stream",
     "text": [
      "\n",
      "  6%|██████▋                                                                                                                  | 11/200 [00:00<00:00, 197.11it/s]\u001b[A\n",
      " 57%|████████████████████████████████████████████████████████████████████▊                                                   | 573/1000 [00:56<00:44,  9.52it/s]"
     ]
    },
    {
     "name": "stdout",
     "output_type": "stream",
     "text": [
      "DONE\n",
      "DONE\n",
      "Actor_loss 1.11582151\n",
      "Critic_loss 1.00000285\n",
      "Rewards mean 1.00000000 Rewards std 0.00000000 Rewards sum 12.00000000\n"
     ]
    },
    {
     "name": "stderr",
     "output_type": "stream",
     "text": [
      "\n",
      " 10%|████████████                                                                                                             | 20/200 [00:00<00:00, 205.50it/s]\u001b[A\n",
      " 57%|█████████████████████████████████████████████████████████████████████                                                   | 575/1000 [00:56<00:41, 10.18it/s]"
     ]
    },
    {
     "name": "stdout",
     "output_type": "stream",
     "text": [
      "DONE\n",
      "DONE\n",
      "Actor_loss 1.24270720\n",
      "Critic_loss 1.00000172\n",
      "Rewards mean 1.00000000 Rewards std 0.00000000 Rewards sum 21.00000000\n"
     ]
    },
    {
     "name": "stderr",
     "output_type": "stream",
     "text": [
      "\n",
      "  6%|███████▎                                                                                                                 | 12/200 [00:00<00:01, 162.48it/s]\u001b[A\n",
      " 57%|█████████████████████████████████████████████████████████████████████                                                   | 575/1000 [00:56<00:41, 10.18it/s]"
     ]
    },
    {
     "name": "stdout",
     "output_type": "stream",
     "text": [
      "DONE\n",
      "DONE\n",
      "Actor_loss 1.18884616\n",
      "Critic_loss 1.00000232\n",
      "Rewards mean 1.00000000 Rewards std 0.00000000 Rewards sum 13.00000000\n"
     ]
    },
    {
     "name": "stderr",
     "output_type": "stream",
     "text": [
      "\n",
      "  0%|                                                                                                                                   | 0/200 [00:00<?, ?it/s]\u001b[A\n",
      " 18%|█████████████████████▊                                                                                                   | 36/200 [00:00<00:00, 190.18it/s]\u001b[A\n",
      "                                                                                                                                                                "
     ]
    },
    {
     "name": "stdout",
     "output_type": "stream",
     "text": [
      "DONE\n",
      "DONE\n"
     ]
    },
    {
     "name": "stderr",
     "output_type": "stream",
     "text": [
      " 58%|█████████████████████████████████████████████████████████████████████▏                                                  | 577/1000 [00:56<00:46,  9.04it/s]"
     ]
    },
    {
     "name": "stdout",
     "output_type": "stream",
     "text": [
      "Actor_loss 1.33829900\n",
      "Critic_loss 1.00000110\n",
      "Rewards mean 1.00000000 Rewards std 0.00000000 Rewards sum 37.00000000\n"
     ]
    },
    {
     "name": "stderr",
     "output_type": "stream",
     "text": [
      "\n",
      "  6%|███████▎                                                                                                                 | 12/200 [00:00<00:01, 187.39it/s]\u001b[A\n",
      " 58%|█████████████████████████████████████████████████████████████████████▏                                                  | 577/1000 [00:56<00:46,  9.04it/s]"
     ]
    },
    {
     "name": "stdout",
     "output_type": "stream",
     "text": [
      "DONE\n",
      "DONE\n",
      "Actor_loss 1.18886909\n",
      "Critic_loss 1.00000236\n",
      "Rewards mean 1.00000000 Rewards std 0.00000000 Rewards sum 13.00000000\n"
     ]
    },
    {
     "name": "stderr",
     "output_type": "stream",
     "text": [
      "\n",
      " 10%|███████████▍                                                                                                             | 19/200 [00:00<00:00, 197.76it/s]\u001b[A\n",
      " 58%|█████████████████████████████████████████████████████████████████████▍                                                  | 579/1000 [00:56<00:43,  9.71it/s]"
     ]
    },
    {
     "name": "stdout",
     "output_type": "stream",
     "text": [
      "DONE\n",
      "DONE\n",
      "Actor_loss 1.54258906\n",
      "Critic_loss 0.99999883\n",
      "Rewards mean 1.00000000 Rewards std 0.00000000 Rewards sum 20.00000000\n"
     ]
    },
    {
     "name": "stderr",
     "output_type": "stream",
     "text": [
      "\n",
      "  6%|██████▋                                                                                                                  | 11/200 [00:00<00:01, 144.75it/s]\u001b[A\n",
      " 58%|█████████████████████████████████████████████████████████████████████▍                                                  | 579/1000 [00:56<00:43,  9.71it/s]"
     ]
    },
    {
     "name": "stdout",
     "output_type": "stream",
     "text": [
      "DONE\n",
      "DONE\n",
      "Actor_loss 1.11582003\n",
      "Critic_loss 1.00000286\n",
      "Rewards mean 1.00000000 Rewards std 0.00000000 Rewards sum 12.00000000\n"
     ]
    },
    {
     "name": "stderr",
     "output_type": "stream",
     "text": [
      "\n",
      "  8%|██████████▎                                                                                                              | 17/200 [00:00<00:00, 195.08it/s]\u001b[A\n",
      " 58%|█████████████████████████████████████████████████████████████████████▋                                                  | 581/1000 [00:57<00:41, 10.19it/s]"
     ]
    },
    {
     "name": "stdout",
     "output_type": "stream",
     "text": [
      "DONE\n",
      "DONE\n",
      "Actor_loss 1.42600922\n",
      "Critic_loss 1.00000083\n",
      "Rewards mean 1.00000000 Rewards std 0.00000000 Rewards sum 18.00000000\n"
     ]
    },
    {
     "name": "stderr",
     "output_type": "stream",
     "text": [
      "\n",
      "  6%|███████▊                                                                                                                 | 13/200 [00:00<00:00, 195.09it/s]\u001b[A\n",
      " 58%|█████████████████████████████████████████████████████████████████████▋                                                  | 581/1000 [00:57<00:41, 10.19it/s]"
     ]
    },
    {
     "name": "stdout",
     "output_type": "stream",
     "text": [
      "DONE\n",
      "DONE\n",
      "Actor_loss 1.25108269\n",
      "Critic_loss 1.00000176\n",
      "Rewards mean 1.00000000 Rewards std 0.00000000 Rewards sum 14.00000000\n"
     ]
    },
    {
     "name": "stderr",
     "output_type": "stream",
     "text": [
      "\n",
      "  8%|█████████                                                                                                                | 15/200 [00:00<00:00, 191.93it/s]\u001b[A\n",
      " 58%|█████████████████████████████████████████████████████████████████████▉                                                  | 583/1000 [00:57<00:38, 10.87it/s]"
     ]
    },
    {
     "name": "stdout",
     "output_type": "stream",
     "text": [
      "DONE\n",
      "DONE\n",
      "Actor_loss 1.20700635\n",
      "Critic_loss 1.00000215\n",
      "Rewards mean 1.00000000 Rewards std 0.00000000 Rewards sum 16.00000000\n"
     ]
    },
    {
     "name": "stderr",
     "output_type": "stream",
     "text": [
      "\n",
      "  5%|██████                                                                                                                   | 10/200 [00:00<00:01, 179.24it/s]\u001b[A\n",
      " 58%|█████████████████████████████████████████████████████████████████████▉                                                  | 583/1000 [00:57<00:38, 10.87it/s]"
     ]
    },
    {
     "name": "stdout",
     "output_type": "stream",
     "text": [
      "DONE\n",
      "DONE\n",
      "Actor_loss 1.13532810\n",
      "Critic_loss 1.00000273\n",
      "Rewards mean 1.00000000 Rewards std 0.00000000 Rewards sum 11.00000000\n"
     ]
    },
    {
     "name": "stderr",
     "output_type": "stream",
     "text": [
      "\n",
      "  0%|                                                                                                                                   | 0/200 [00:00<?, ?it/s]\u001b[A\n",
      " 18%|█████████████████████▊                                                                                                   | 36/200 [00:00<00:00, 201.49it/s]\u001b[A\n",
      " 58%|██████████████████████████████████████████████████████████████████████▏                                                 | 585/1000 [00:57<00:41,  9.88it/s]"
     ]
    },
    {
     "name": "stdout",
     "output_type": "stream",
     "text": [
      "DONE\n",
      "DONE\n",
      "Actor_loss 1.45751106\n",
      "Critic_loss 0.99999989\n",
      "Rewards mean 1.00000000 Rewards std 0.00000000 Rewards sum 37.00000000\n"
     ]
    },
    {
     "name": "stderr",
     "output_type": "stream",
     "text": [
      "\n",
      "  6%|██████▋                                                                                                                  | 11/200 [00:00<00:01, 169.72it/s]\u001b[A\n",
      " 58%|██████████████████████████████████████████████████████████████████████▏                                                 | 585/1000 [00:57<00:41,  9.88it/s]"
     ]
    },
    {
     "name": "stdout",
     "output_type": "stream",
     "text": [
      "DONE\n",
      "DONE\n",
      "Actor_loss 1.31114836\n",
      "Critic_loss 1.00000142\n",
      "Rewards mean 1.00000000 Rewards std 0.00000000 Rewards sum 12.00000000\n"
     ]
    },
    {
     "name": "stderr",
     "output_type": "stream",
     "text": [
      "\n",
      "  8%|█████████▋                                                                                                               | 16/200 [00:00<00:00, 197.23it/s]\u001b[A\n",
      " 59%|██████████████████████████████████████████████████████████████████████▍                                                 | 587/1000 [00:57<00:38, 10.59it/s]"
     ]
    },
    {
     "name": "stdout",
     "output_type": "stream",
     "text": [
      "DONE\n",
      "DONE\n",
      "Actor_loss 1.25628679\n",
      "Critic_loss 1.00000177\n",
      "Rewards mean 1.00000000 Rewards std 0.00000000 Rewards sum 17.00000000\n"
     ]
    },
    {
     "name": "stderr",
     "output_type": "stream",
     "text": [
      "\n",
      "  5%|██████                                                                                                                   | 10/200 [00:00<00:01, 187.01it/s]\u001b[A\n",
      " 59%|██████████████████████████████████████████████████████████████████████▍                                                 | 587/1000 [00:57<00:38, 10.59it/s]"
     ]
    },
    {
     "name": "stdout",
     "output_type": "stream",
     "text": [
      "DONE\n",
      "DONE\n",
      "Actor_loss 1.13546562\n",
      "Critic_loss 1.00000282\n",
      "Rewards mean 1.00000000 Rewards std 0.00000000 Rewards sum 11.00000000\n"
     ]
    },
    {
     "name": "stderr",
     "output_type": "stream",
     "text": [
      "\n",
      "  0%|                                                                                                                                   | 0/200 [00:00<?, ?it/s]\u001b[A\n",
      " 16%|██████████████████▊                                                                                                      | 31/200 [00:00<00:00, 187.72it/s]\u001b[A\n",
      " 59%|██████████████████████████████████████████████████████████████████████▋                                                 | 589/1000 [00:57<00:41,  9.94it/s]"
     ]
    },
    {
     "name": "stdout",
     "output_type": "stream",
     "text": [
      "DONE\n",
      "DONE\n",
      "Actor_loss 1.40558414\n",
      "Critic_loss 1.00000043\n",
      "Rewards mean 1.00000000 Rewards std 0.00000000 Rewards sum 32.00000000\n"
     ]
    },
    {
     "name": "stderr",
     "output_type": "stream",
     "text": [
      "\n",
      "  8%|█████████                                                                                                                | 15/200 [00:00<00:01, 181.73it/s]\u001b[A\n",
      " 59%|██████████████████████████████████████████████████████████████████████▋                                                 | 589/1000 [00:57<00:41,  9.94it/s]"
     ]
    },
    {
     "name": "stdout",
     "output_type": "stream",
     "text": [
      "DONE\n",
      "DONE\n",
      "Actor_loss 1.20705297\n",
      "Critic_loss 1.00000211\n",
      "Rewards mean 1.00000000 Rewards std 0.00000000 Rewards sum 16.00000000\n"
     ]
    },
    {
     "name": "stderr",
     "output_type": "stream",
     "text": [
      "\n",
      "  6%|██████▋                                                                                                                  | 11/200 [00:00<00:01, 172.00it/s]\u001b[A\n",
      " 59%|██████████████████████████████████████████████████████████████████████▉                                                 | 591/1000 [00:58<00:38, 10.61it/s]"
     ]
    },
    {
     "name": "stdout",
     "output_type": "stream",
     "text": [
      "DONE\n",
      "DONE\n",
      "Actor_loss 1.21352333\n",
      "Critic_loss 1.00000225\n",
      "Rewards mean 1.00000000 Rewards std 0.00000000 Rewards sum 12.00000000\n"
     ]
    },
    {
     "name": "stderr",
     "output_type": "stream",
     "text": [
      "\n",
      "  0%|                                                                                                                                   | 0/200 [00:00<?, ?it/s]\u001b[A\n",
      " 10%|███████████▍                                                                                                             | 19/200 [00:00<00:01, 173.22it/s]\u001b[A\n",
      " 59%|██████████████████████████████████████████████████████████████████████▉                                                 | 591/1000 [00:58<00:38, 10.61it/s]"
     ]
    },
    {
     "name": "stdout",
     "output_type": "stream",
     "text": [
      "DONE\n",
      "DONE\n",
      "Actor_loss 1.31627736\n",
      "Critic_loss 1.00000133\n",
      "Rewards mean 1.00000000 Rewards std 0.00000000 Rewards sum 20.00000000\n"
     ]
    },
    {
     "name": "stderr",
     "output_type": "stream",
     "text": [
      "\n",
      "  9%|██████████▉                                                                                                              | 18/200 [00:00<00:00, 194.32it/s]\u001b[A\n",
      " 59%|███████████████████████████████████████████████████████████████████████▏                                                | 593/1000 [00:58<00:39, 10.20it/s]"
     ]
    },
    {
     "name": "stdout",
     "output_type": "stream",
     "text": [
      "DONE\n",
      "DONE\n",
      "Actor_loss 1.33824883\n",
      "Critic_loss 1.00000112\n",
      "Rewards mean 1.00000000 Rewards std 0.00000000 Rewards sum 19.00000000\n"
     ]
    },
    {
     "name": "stderr",
     "output_type": "stream",
     "text": [
      "\n",
      "  6%|███████▎                                                                                                                 | 12/200 [00:00<00:01, 182.01it/s]\u001b[A\n",
      " 59%|███████████████████████████████████████████████████████████████████████▏                                                | 593/1000 [00:58<00:39, 10.20it/s]"
     ]
    },
    {
     "name": "stdout",
     "output_type": "stream",
     "text": [
      "DONE\n",
      "DONE\n",
      "Actor_loss 1.09965819\n",
      "Critic_loss 1.00000297\n",
      "Rewards mean 1.00000000 Rewards std 0.00000000 Rewards sum 13.00000000\n"
     ]
    },
    {
     "name": "stderr",
     "output_type": "stream",
     "text": [
      "\n",
      "  6%|██████▋                                                                                                                  | 11/200 [00:00<00:01, 151.82it/s]\u001b[A\n",
      " 60%|███████████████████████████████████████████████████████████████████████▍                                                | 595/1000 [00:58<00:36, 10.97it/s]"
     ]
    },
    {
     "name": "stdout",
     "output_type": "stream",
     "text": [
      "DONE\n",
      "DONE\n",
      "Actor_loss 1.31113744\n",
      "Critic_loss 1.00000139\n",
      "Rewards mean 1.00000000 Rewards std 0.00000000 Rewards sum 12.00000000\n"
     ]
    },
    {
     "name": "stderr",
     "output_type": "stream",
     "text": [
      "\n",
      "  5%|██████                                                                                                                   | 10/200 [00:00<00:01, 168.13it/s]\u001b[A\n",
      " 60%|███████████████████████████████████████████████████████████████████████▍                                                | 595/1000 [00:58<00:36, 10.97it/s]"
     ]
    },
    {
     "name": "stdout",
     "output_type": "stream",
     "text": [
      "DONE\n",
      "DONE\n",
      "Actor_loss 1.24276986\n",
      "Critic_loss 1.00000202\n",
      "Rewards mean 1.00000000 Rewards std 0.00000000 Rewards sum 11.00000000\n"
     ]
    },
    {
     "name": "stderr",
     "output_type": "stream",
     "text": [
      "\n",
      "  0%|                                                                                                                                   | 0/200 [00:00<?, ?it/s]\u001b[A\n",
      " 14%|████████████████▎                                                                                                        | 27/200 [00:00<00:00, 182.40it/s]\u001b[A\n",
      " 60%|███████████████████████████████████████████████████████████████████████▋                                                | 597/1000 [00:58<00:38, 10.35it/s]"
     ]
    },
    {
     "name": "stdout",
     "output_type": "stream",
     "text": [
      "DONE\n",
      "DONE\n",
      "Actor_loss 1.31837169\n",
      "Critic_loss 1.00000125\n",
      "Rewards mean 1.00000000 Rewards std 0.00000000 Rewards sum 28.00000000\n"
     ]
    },
    {
     "name": "stderr",
     "output_type": "stream",
     "text": [
      "\n",
      "  8%|█████████▋                                                                                                               | 16/200 [00:00<00:01, 175.89it/s]\u001b[A\n",
      " 60%|███████████████████████████████████████████████████████████████████████▋                                                | 597/1000 [00:58<00:38, 10.35it/s]"
     ]
    },
    {
     "name": "stdout",
     "output_type": "stream",
     "text": [
      "DONE\n",
      "DONE\n",
      "Actor_loss 1.32334845\n",
      "Critic_loss 1.00000118\n",
      "Rewards mean 1.00000000 Rewards std 0.00000000 Rewards sum 17.00000000\n"
     ]
    },
    {
     "name": "stderr",
     "output_type": "stream",
     "text": [
      "\n",
      "  6%|███████▎                                                                                                                 | 12/200 [00:00<00:01, 184.23it/s]\u001b[A\n",
      " 60%|███████████████████████████████████████████████████████████████████████▉                                                | 599/1000 [00:58<00:37, 10.78it/s]"
     ]
    },
    {
     "name": "stdout",
     "output_type": "stream",
     "text": [
      "DONE\n",
      "DONE\n",
      "Actor_loss 1.09928590\n",
      "Critic_loss 1.00000295\n",
      "Rewards mean 1.00000000 Rewards std 0.00000000 Rewards sum 13.00000000\n"
     ]
    },
    {
     "name": "stderr",
     "output_type": "stream",
     "text": [
      "\n",
      "  5%|██████                                                                                                                   | 10/200 [00:00<00:01, 181.20it/s]\u001b[A\n",
      " 60%|███████████████████████████████████████████████████████████████████████▉                                                | 599/1000 [00:58<00:37, 10.78it/s]"
     ]
    },
    {
     "name": "stdout",
     "output_type": "stream",
     "text": [
      "DONE\n",
      "DONE\n",
      "Actor_loss 1.02731760\n",
      "Critic_loss 1.00000369\n",
      "Rewards mean 1.00000000 Rewards std 0.00000000 Rewards sum 11.00000000\n"
     ]
    },
    {
     "name": "stderr",
     "output_type": "stream",
     "text": [
      "\n",
      "  0%|                                                                                                                                   | 0/200 [00:00<?, ?it/s]\u001b[A"
     ]
    },
    {
     "name": "stdout",
     "output_type": "stream",
     "text": [
      "DONE\n"
     ]
    },
    {
     "name": "stderr",
     "output_type": "stream",
     "text": [
      "  6%|███████▎                                                                                                                 | 12/200 [00:00<00:00, 190.37it/s]\n",
      " 60%|████████████████████████████████████████████████████████████████████████                                                | 601/1000 [00:58<00:33, 11.85it/s]"
     ]
    },
    {
     "name": "stdout",
     "output_type": "stream",
     "text": [
      "DONE\n",
      "Actor_loss 1.09880128\n",
      "Critic_loss 1.00000300\n",
      "Rewards mean 1.00000000 Rewards std 0.00000000 Rewards sum 13.00000000\n"
     ]
    },
    {
     "name": "stderr",
     "output_type": "stream",
     "text": [
      "\n",
      "  0%|                                                                                                                                   | 0/200 [00:00<?, ?it/s]\u001b[A\n",
      " 12%|███████████████▏                                                                                                         | 25/200 [00:00<00:00, 204.93it/s]\u001b[A"
     ]
    },
    {
     "name": "stdout",
     "output_type": "stream",
     "text": [
      "DONE\n",
      "DONE\n"
     ]
    },
    {
     "name": "stderr",
     "output_type": "stream",
     "text": [
      "\n",
      " 60%|████████████████████████████████████████████████████████████████████████                                                | 601/1000 [00:59<00:33, 11.85it/s]"
     ]
    },
    {
     "name": "stdout",
     "output_type": "stream",
     "text": [
      "Actor_loss 1.30719572\n",
      "Critic_loss 1.00000125\n",
      "Rewards mean 1.00000000 Rewards std 0.00000000 Rewards sum 26.00000000\n"
     ]
    },
    {
     "name": "stderr",
     "output_type": "stream",
     "text": [
      "\n",
      "  7%|████████▍                                                                                                                | 14/200 [00:00<00:01, 185.72it/s]\u001b[A\n",
      " 60%|████████████████████████████████████████████████████████████████████████▎                                               | 603/1000 [00:59<00:35, 11.06it/s]"
     ]
    },
    {
     "name": "stdout",
     "output_type": "stream",
     "text": [
      "DONE\n",
      "DONE\n",
      "Actor_loss 1.22708840\n",
      "Critic_loss 1.00000206\n",
      "Rewards mean 1.00000000 Rewards std 0.00000000 Rewards sum 15.00000000\n"
     ]
    },
    {
     "name": "stderr",
     "output_type": "stream",
     "text": [
      "\n",
      "  0%|                                                                                                                                   | 0/200 [00:00<?, ?it/s]\u001b[A\n",
      " 10%|████████████▋                                                                                                            | 21/200 [00:00<00:00, 208.31it/s]\u001b[A\n",
      " 24%|█████████████████████████████                                                                                            | 48/200 [00:00<00:00, 207.27it/s]\u001b[A\n",
      " 60%|████████████████████████████████████████████████████████████████████████▎                                               | 603/1000 [00:59<00:35, 11.06it/s]"
     ]
    },
    {
     "name": "stdout",
     "output_type": "stream",
     "text": [
      "DONE\n",
      "DONE\n",
      "Actor_loss 1.43560389\n",
      "Critic_loss 1.00000019\n",
      "Rewards mean 1.00000000 Rewards std 0.00000000 Rewards sum 49.00000000\n"
     ]
    },
    {
     "name": "stderr",
     "output_type": "stream",
     "text": [
      "\n",
      "  0%|                                                                                                                                   | 0/200 [00:00<?, ?it/s]\u001b[A\n",
      " 11%|█████████████▎                                                                                                           | 22/200 [00:00<00:00, 191.50it/s]\u001b[A\n",
      " 60%|████████████████████████████████████████████████████████████████████████▌                                               | 605/1000 [00:59<00:46,  8.54it/s]"
     ]
    },
    {
     "name": "stdout",
     "output_type": "stream",
     "text": [
      "DONE\n",
      "DONE\n",
      "Actor_loss 1.26218742\n",
      "Critic_loss 1.00000161\n",
      "Rewards mean 1.00000000 Rewards std 0.00000000 Rewards sum 23.00000000\n"
     ]
    },
    {
     "name": "stderr",
     "output_type": "stream",
     "text": [
      "\n",
      "  0%|                                                                                                                                   | 0/200 [00:00<?, ?it/s]\u001b[A\n",
      " 10%|████████████▋                                                                                                            | 21/200 [00:00<00:01, 178.58it/s]\u001b[A\n",
      " 61%|████████████████████████████████████████████████████████████████████████▋                                               | 606/1000 [00:59<00:46,  8.46it/s]"
     ]
    },
    {
     "name": "stdout",
     "output_type": "stream",
     "text": [
      "DONE\n",
      "DONE\n",
      "Actor_loss 1.38104312\n",
      "Critic_loss 1.00000067\n",
      "Rewards mean 1.00000000 Rewards std 0.00000000 Rewards sum 22.00000000\n"
     ]
    },
    {
     "name": "stderr",
     "output_type": "stream",
     "text": [
      "\n",
      "  7%|████████▍                                                                                                                | 14/200 [00:00<00:01, 175.99it/s]\u001b[A\n",
      " 61%|████████████████████████████████████████████████████████████████████████▋                                               | 606/1000 [00:59<00:46,  8.46it/s]"
     ]
    },
    {
     "name": "stdout",
     "output_type": "stream",
     "text": [
      "DONE\n",
      "DONE\n",
      "Actor_loss 1.15025539\n",
      "Critic_loss 1.00000250\n",
      "Rewards mean 1.00000000 Rewards std 0.00000000 Rewards sum 15.00000000\n"
     ]
    },
    {
     "name": "stderr",
     "output_type": "stream",
     "text": [
      "\n",
      " 10%|████████████                                                                                                             | 20/200 [00:00<00:00, 198.25it/s]\u001b[A\n",
      " 61%|████████████████████████████████████████████████████████████████████████▉                                               | 608/1000 [00:59<00:43,  9.03it/s]"
     ]
    },
    {
     "name": "stdout",
     "output_type": "stream",
     "text": [
      "DONE\n",
      "DONE\n",
      "Actor_loss 1.51181771\n",
      "Critic_loss 0.99999955\n",
      "Rewards mean 1.00000000 Rewards std 0.00000000 Rewards sum 21.00000000\n"
     ]
    },
    {
     "name": "stderr",
     "output_type": "stream",
     "text": [
      "\n",
      "  6%|███████▎                                                                                                                 | 12/200 [00:00<00:01, 165.48it/s]\u001b[A\n",
      " 61%|████████████████████████████████████████████████████████████████████████▉                                               | 608/1000 [00:59<00:43,  9.03it/s]"
     ]
    },
    {
     "name": "stdout",
     "output_type": "stream",
     "text": [
      "DONE\n",
      "DONE\n",
      "Actor_loss 1.72633518\n",
      "Critic_loss 0.99999579\n",
      "Rewards mean 1.00000000 Rewards std 0.00000000 Rewards sum 13.00000000\n"
     ]
    },
    {
     "name": "stderr",
     "output_type": "stream",
     "text": [
      "\n",
      "  0%|                                                                                                                                   | 0/200 [00:00<?, ?it/s]\u001b[A\n",
      " 11%|█████████████▎                                                                                                           | 22/200 [00:00<00:00, 180.04it/s]\u001b[A\n",
      " 61%|█████████████████████████████████████████████████████████████████████████▏                                              | 610/1000 [01:00<00:42,  9.21it/s]"
     ]
    },
    {
     "name": "stdout",
     "output_type": "stream",
     "text": [
      "DONE\n",
      "DONE\n",
      "Actor_loss 1.35991756\n",
      "Critic_loss 1.00000087\n",
      "Rewards mean 1.00000000 Rewards std 0.00000000 Rewards sum 23.00000000\n"
     ]
    },
    {
     "name": "stderr",
     "output_type": "stream",
     "text": [
      "\n",
      "  0%|                                                                                                                                   | 0/200 [00:00<?, ?it/s]\u001b[A"
     ]
    },
    {
     "name": "stdout",
     "output_type": "stream",
     "text": [
      "DONE\n"
     ]
    },
    {
     "name": "stderr",
     "output_type": "stream",
     "text": [
      "  5%|██████                                                                                                                   | 10/200 [00:00<00:01, 156.48it/s]\n",
      " 61%|█████████████████████████████████████████████████████████████████████████▏                                              | 610/1000 [01:00<00:42,  9.21it/s]"
     ]
    },
    {
     "name": "stdout",
     "output_type": "stream",
     "text": [
      "DONE\n",
      "Actor_loss 1.13556750\n",
      "Critic_loss 1.00000280\n",
      "Rewards mean 1.00000000 Rewards std 0.00000000 Rewards sum 11.00000000\n"
     ]
    },
    {
     "name": "stderr",
     "output_type": "stream",
     "text": [
      "\n",
      "  8%|██████████▎                                                                                                              | 17/200 [00:00<00:00, 184.97it/s]\u001b[A\n",
      " 61%|█████████████████████████████████████████████████████████████████████████▍                                              | 612/1000 [01:00<00:39,  9.87it/s]"
     ]
    },
    {
     "name": "stdout",
     "output_type": "stream",
     "text": [
      "DONE\n",
      "DONE\n",
      "Actor_loss 1.29965888\n",
      "Critic_loss 1.00000139\n",
      "Rewards mean 1.00000000 Rewards std 0.00000000 Rewards sum 18.00000000\n"
     ]
    },
    {
     "name": "stderr",
     "output_type": "stream",
     "text": [
      "\n",
      "  0%|                                                                                                                                   | 0/200 [00:00<?, ?it/s]\u001b[A\n",
      " 10%|████████████▋                                                                                                            | 21/200 [00:00<00:00, 179.18it/s]\u001b[A\n",
      " 61%|█████████████████████████████████████████████████████████████████████████▍                                              | 612/1000 [01:00<00:39,  9.87it/s]"
     ]
    },
    {
     "name": "stdout",
     "output_type": "stream",
     "text": [
      "DONE\n",
      "DONE\n",
      "Actor_loss 1.17629548\n",
      "Critic_loss 1.00000231\n",
      "Rewards mean 1.00000000 Rewards std 0.00000000 Rewards sum 22.00000000\n"
     ]
    },
    {
     "name": "stderr",
     "output_type": "stream",
     "text": [
      "\n",
      "  9%|██████████▉                                                                                                              | 18/200 [00:00<00:00, 195.12it/s]\u001b[A\n",
      " 61%|█████████████████████████████████████████████████████████████████████████▋                                              | 614/1000 [01:00<00:40,  9.59it/s]"
     ]
    },
    {
     "name": "stdout",
     "output_type": "stream",
     "text": [
      "DONE\n",
      "DONE\n",
      "Actor_loss 1.57688770\n",
      "Critic_loss 0.99999845\n",
      "Rewards mean 1.00000000 Rewards std 0.00000000 Rewards sum 19.00000000\n"
     ]
    },
    {
     "name": "stderr",
     "output_type": "stream",
     "text": [
      "\n",
      "  7%|████████▍                                                                                                                | 14/200 [00:00<00:01, 181.45it/s]\u001b[A\n",
      " 61%|█████████████████████████████████████████████████████████████████████████▋                                              | 614/1000 [01:00<00:40,  9.59it/s]"
     ]
    },
    {
     "name": "stdout",
     "output_type": "stream",
     "text": [
      "DONE\n",
      "DONE\n",
      "Actor_loss 1.38080326\n",
      "Critic_loss 1.00000071\n",
      "Rewards mean 1.00000000 Rewards std 0.00000000 Rewards sum 15.00000000\n"
     ]
    },
    {
     "name": "stderr",
     "output_type": "stream",
     "text": [
      "\n",
      "  6%|███████▊                                                                                                                 | 13/200 [00:00<00:01, 170.84it/s]\u001b[A\n",
      " 62%|█████████████████████████████████████████████████████████████████████████▉                                              | 616/1000 [01:00<00:37, 10.26it/s]"
     ]
    },
    {
     "name": "stdout",
     "output_type": "stream",
     "text": [
      "DONE\n",
      "DONE\n",
      "Actor_loss 1.25112436\n",
      "Critic_loss 1.00000193\n",
      "Rewards mean 1.00000000 Rewards std 0.00000000 Rewards sum 14.00000000\n"
     ]
    },
    {
     "name": "stderr",
     "output_type": "stream",
     "text": [
      "\n",
      "  8%|█████████                                                                                                                | 15/200 [00:00<00:01, 184.76it/s]\u001b[A\n",
      " 62%|█████████████████████████████████████████████████████████████████████████▉                                              | 616/1000 [01:00<00:37, 10.26it/s]"
     ]
    },
    {
     "name": "stdout",
     "output_type": "stream",
     "text": [
      "DONE\n",
      "DONE\n",
      "Actor_loss 1.27861714\n",
      "Critic_loss 1.00000155\n",
      "Rewards mean 1.00000000 Rewards std 0.00000000 Rewards sum 16.00000000\n"
     ]
    },
    {
     "name": "stderr",
     "output_type": "stream",
     "text": [
      "\n",
      "  9%|██████████▉                                                                                                              | 18/200 [00:00<00:00, 200.02it/s]\u001b[A\n",
      " 62%|██████████████████████████████████████████████████████████████████████████▏                                             | 618/1000 [01:00<00:36, 10.46it/s]"
     ]
    },
    {
     "name": "stdout",
     "output_type": "stream",
     "text": [
      "DONE\n",
      "DONE\n",
      "Actor_loss 1.33825085\n",
      "Critic_loss 1.00000109\n",
      "Rewards mean 1.00000000 Rewards std 0.00000000 Rewards sum 19.00000000\n"
     ]
    },
    {
     "name": "stderr",
     "output_type": "stream",
     "text": [
      "\n",
      "  6%|██████▋                                                                                                                  | 11/200 [00:00<00:01, 169.90it/s]\u001b[A\n",
      " 62%|██████████████████████████████████████████████████████████████████████████▏                                             | 618/1000 [01:00<00:36, 10.46it/s]"
     ]
    },
    {
     "name": "stdout",
     "output_type": "stream",
     "text": [
      "DONE\n",
      "DONE\n",
      "Actor_loss 1.31114217\n",
      "Critic_loss 1.00000139\n",
      "Rewards mean 1.00000000 Rewards std 0.00000000 Rewards sum 12.00000000\n"
     ]
    },
    {
     "name": "stderr",
     "output_type": "stream",
     "text": [
      "\n",
      "  6%|███████▊                                                                                                                 | 13/200 [00:00<00:01, 175.36it/s]\u001b[A\n",
      " 62%|██████████████████████████████████████████████████████████████████████████▍                                             | 620/1000 [01:00<00:33, 11.19it/s]"
     ]
    },
    {
     "name": "stdout",
     "output_type": "stream",
     "text": [
      "DONE\n",
      "DONE\n",
      "Actor_loss 1.25105744\n",
      "Critic_loss 1.00000186\n",
      "Rewards mean 1.00000000 Rewards std 0.00000000 Rewards sum 14.00000000\n"
     ]
    },
    {
     "name": "stderr",
     "output_type": "stream",
     "text": [
      "\n",
      "  0%|                                                                                                                                   | 0/200 [00:00<?, ?it/s]\u001b[A\n",
      " 14%|████████████████▉                                                                                                        | 28/200 [00:00<00:01, 169.04it/s]\u001b[A\n",
      " 62%|██████████████████████████████████████████████████████████████████████████▍                                             | 620/1000 [01:01<00:33, 11.19it/s]"
     ]
    },
    {
     "name": "stdout",
     "output_type": "stream",
     "text": [
      "DONE\n",
      "DONE\n",
      "Actor_loss 1.26577703\n",
      "Critic_loss 1.00000154\n",
      "Rewards mean 1.00000000 Rewards std 0.00000000 Rewards sum 29.00000000\n"
     ]
    },
    {
     "name": "stderr",
     "output_type": "stream",
     "text": [
      "\n",
      "  8%|█████████▋                                                                                                               | 16/200 [00:00<00:01, 178.50it/s]\u001b[A\n",
      " 62%|██████████████████████████████████████████████████████████████████████████▋                                             | 622/1000 [01:01<00:38,  9.75it/s]"
     ]
    },
    {
     "name": "stdout",
     "output_type": "stream",
     "text": [
      "DONE\n",
      "DONE\n",
      "Actor_loss 1.45761673\n",
      "Critic_loss 1.00000048\n",
      "Rewards mean 1.00000000 Rewards std 0.00000000 Rewards sum 17.00000000\n"
     ]
    },
    {
     "name": "stderr",
     "output_type": "stream",
     "text": [
      "\n",
      "  8%|██████████▎                                                                                                              | 17/200 [00:00<00:01, 182.22it/s]\u001b[A\n",
      " 62%|██████████████████████████████████████████████████████████████████████████▋                                             | 622/1000 [01:01<00:38,  9.75it/s]"
     ]
    },
    {
     "name": "stdout",
     "output_type": "stream",
     "text": [
      "DONE\n",
      "DONE\n",
      "Actor_loss 1.29965395\n",
      "Critic_loss 1.00000143\n",
      "Rewards mean 1.00000000 Rewards std 0.00000000 Rewards sum 18.00000000\n"
     ]
    },
    {
     "name": "stderr",
     "output_type": "stream",
     "text": [
      "\n",
      "  4%|█████▍                                                                                                                    | 9/200 [00:00<00:01, 181.62it/s]\u001b[A\n",
      " 62%|██████████████████████████████████████████████████████████████████████████▉                                             | 624/1000 [01:01<00:35, 10.55it/s]"
     ]
    },
    {
     "name": "stdout",
     "output_type": "stream",
     "text": [
      "DONE\n",
      "DONE\n",
      "Actor_loss 1.03975060\n",
      "Critic_loss 1.00000376\n",
      "Rewards mean 1.00000000 Rewards std 0.00000000 Rewards sum 10.00000000\n"
     ]
    },
    {
     "name": "stderr",
     "output_type": "stream",
     "text": [
      "\n",
      "  4%|████▉                                                                                                                     | 8/200 [00:00<00:00, 195.19it/s]\u001b[A\n",
      " 62%|██████████████████████████████████████████████████████████████████████████▉                                             | 624/1000 [01:01<00:35, 10.55it/s]"
     ]
    },
    {
     "name": "stdout",
     "output_type": "stream",
     "text": [
      "DONE\n",
      "DONE\n",
      "Actor_loss 1.05438595\n",
      "Critic_loss 1.00000358\n",
      "Rewards mean 1.00000000 Rewards std 0.00000000 Rewards sum 9.00000000\n"
     ]
    },
    {
     "name": "stderr",
     "output_type": "stream",
     "text": [
      "\n",
      "  0%|                                                                                                                                   | 0/200 [00:00<?, ?it/s]\u001b[A\n",
      " 14%|████████████████▎                                                                                                        | 27/200 [00:00<00:00, 191.63it/s]\u001b[A\n",
      " 63%|███████████████████████████████████████████████████████████████████████████                                             | 626/1000 [01:01<00:35, 10.49it/s]"
     ]
    },
    {
     "name": "stdout",
     "output_type": "stream",
     "text": [
      "DONE\n",
      "DONE\n",
      "Actor_loss 1.43790167\n",
      "Critic_loss 1.00000009\n",
      "Rewards mean 1.00000000 Rewards std 0.00000000 Rewards sum 28.00000000\n"
     ]
    },
    {
     "name": "stderr",
     "output_type": "stream",
     "text": [
      "\n",
      "  8%|█████████▋                                                                                                               | 16/200 [00:00<00:01, 171.22it/s]\u001b[A\n",
      " 63%|███████████████████████████████████████████████████████████████████████████                                             | 626/1000 [01:01<00:35, 10.49it/s]"
     ]
    },
    {
     "name": "stdout",
     "output_type": "stream",
     "text": [
      "DONE\n",
      "DONE\n",
      "Actor_loss 1.45767789\n",
      "Critic_loss 0.99999972\n",
      "Rewards mean 1.00000000 Rewards std 0.00000000 Rewards sum 17.00000000\n"
     ]
    },
    {
     "name": "stderr",
     "output_type": "stream",
     "text": [
      "\n",
      "  0%|                                                                                                                                   | 0/200 [00:00<?, ?it/s]\u001b[A\n",
      " 14%|████████████████▉                                                                                                        | 28/200 [00:00<00:00, 199.62it/s]\u001b[A\n",
      " 63%|███████████████████████████████████████████████████████████████████████████▎                                            | 628/1000 [01:01<00:38,  9.67it/s]"
     ]
    },
    {
     "name": "stdout",
     "output_type": "stream",
     "text": [
      "DONE\n",
      "DONE\n",
      "Actor_loss 1.41916099\n",
      "Critic_loss 1.00000033\n",
      "Rewards mean 1.00000000 Rewards std 0.00000000 Rewards sum 29.00000000\n"
     ]
    },
    {
     "name": "stderr",
     "output_type": "stream",
     "text": [
      "\n",
      "  6%|███████▊                                                                                                                 | 13/200 [00:00<00:01, 178.23it/s]\u001b[A\n",
      " 63%|███████████████████████████████████████████████████████████████████████████▎                                            | 628/1000 [01:01<00:38,  9.67it/s]"
     ]
    },
    {
     "name": "stdout",
     "output_type": "stream",
     "text": [
      "DONE\n",
      "DONE\n",
      "Actor_loss 1.25114710\n",
      "Critic_loss 1.00000186\n",
      "Rewards mean 1.00000000 Rewards std 0.00000000 Rewards sum 14.00000000\n"
     ]
    },
    {
     "name": "stderr",
     "output_type": "stream",
     "text": [
      "\n",
      "  0%|                                                                                                                                   | 0/200 [00:00<?, ?it/s]\u001b[A\n",
      " 14%|████████████████▉                                                                                                        | 28/200 [00:00<00:00, 197.34it/s]\u001b[A\n",
      " 63%|███████████████████████████████████████████████████████████████████████████▌                                            | 630/1000 [01:01<00:39,  9.41it/s]"
     ]
    },
    {
     "name": "stdout",
     "output_type": "stream",
     "text": [
      "DONE\n",
      "DONE\n",
      "Actor_loss 1.38078511\n",
      "Critic_loss 1.00000066\n",
      "Rewards mean 1.00000000 Rewards std 0.00000000 Rewards sum 29.00000000\n"
     ]
    },
    {
     "name": "stderr",
     "output_type": "stream",
     "text": [
      "\n",
      "  0%|                                                                                                                                   | 0/200 [00:00<?, ?it/s]\u001b[A\n",
      " 10%|████████████▋                                                                                                            | 21/200 [00:00<00:01, 175.54it/s]\u001b[A\n",
      " 63%|███████████████████████████████████████████████████████████████████████████▋                                            | 631/1000 [01:02<00:40,  9.10it/s]"
     ]
    },
    {
     "name": "stdout",
     "output_type": "stream",
     "text": [
      "DONE\n",
      "DONE\n",
      "Actor_loss 1.22756517\n",
      "Critic_loss 1.00000192\n",
      "Rewards mean 1.00000000 Rewards std 0.00000000 Rewards sum 22.00000000\n"
     ]
    },
    {
     "name": "stderr",
     "output_type": "stream",
     "text": [
      "\n",
      "  4%|█████▍                                                                                                                    | 9/200 [00:00<00:01, 158.77it/s]\u001b[A\n",
      " 63%|███████████████████████████████████████████████████████████████████████████▋                                            | 631/1000 [01:02<00:40,  9.10it/s]"
     ]
    },
    {
     "name": "stdout",
     "output_type": "stream",
     "text": [
      "DONE\n",
      "DONE\n",
      "Actor_loss 1.04009272\n",
      "Critic_loss 1.00000366\n",
      "Rewards mean 1.00000000 Rewards std 0.00000000 Rewards sum 10.00000000\n"
     ]
    },
    {
     "name": "stderr",
     "output_type": "stream",
     "text": [
      "\n",
      "  9%|██████████▉                                                                                                              | 18/200 [00:00<00:01, 177.80it/s]\u001b[A\n",
      " 63%|███████████████████████████████████████████████████████████████████████████▉                                            | 633/1000 [01:02<00:37,  9.85it/s]"
     ]
    },
    {
     "name": "stdout",
     "output_type": "stream",
     "text": [
      "DONE\n",
      "DONE\n",
      "Actor_loss 1.27858543\n",
      "Critic_loss 1.00000158\n",
      "Rewards mean 1.00000000 Rewards std 0.00000000 Rewards sum 19.00000000\n"
     ]
    },
    {
     "name": "stderr",
     "output_type": "stream",
     "text": [
      "\n",
      "  8%|█████████                                                                                                                | 15/200 [00:00<00:01, 178.69it/s]\u001b[A"
     ]
    },
    {
     "name": "stdout",
     "output_type": "stream",
     "text": [
      "DONE\n",
      "DONE\n"
     ]
    },
    {
     "name": "stderr",
     "output_type": "stream",
     "text": [
      "\n",
      " 63%|███████████████████████████████████████████████████████████████████████████▉                                            | 633/1000 [01:02<00:37,  9.85it/s]"
     ]
    },
    {
     "name": "stdout",
     "output_type": "stream",
     "text": [
      "Actor_loss 1.27857010\n",
      "Critic_loss 1.00000166\n",
      "Rewards mean 1.00000000 Rewards std 0.00000000 Rewards sum 16.00000000\n"
     ]
    },
    {
     "name": "stderr",
     "output_type": "stream",
     "text": [
      "\n",
      "  6%|███████▎                                                                                                                 | 12/200 [00:00<00:01, 180.64it/s]\u001b[A\n",
      " 64%|████████████████████████████████████████████████████████████████████████████▏                                           | 635/1000 [01:02<00:34, 10.56it/s]"
     ]
    },
    {
     "name": "stdout",
     "output_type": "stream",
     "text": [
      "DONE\n",
      "DONE\n",
      "Actor_loss 1.09936233\n",
      "Critic_loss 1.00000302\n",
      "Rewards mean 1.00000000 Rewards std 0.00000000 Rewards sum 13.00000000\n"
     ]
    },
    {
     "name": "stderr",
     "output_type": "stream",
     "text": [
      "\n",
      "  0%|                                                                                                                                   | 0/200 [00:00<?, ?it/s]\u001b[A\n",
      " 16%|███████████████████▉                                                                                                     | 33/200 [00:00<00:00, 197.27it/s]\u001b[A\n",
      " 64%|████████████████████████████████████████████████████████████████████████████▏                                           | 635/1000 [01:02<00:34, 10.56it/s]"
     ]
    },
    {
     "name": "stdout",
     "output_type": "stream",
     "text": [
      "DONE\n",
      "DONE\n",
      "Actor_loss 1.47396675\n",
      "Critic_loss 0.99999999\n",
      "Rewards mean 1.00000000 Rewards std 0.00000000 Rewards sum 34.00000000\n"
     ]
    },
    {
     "name": "stderr",
     "output_type": "stream",
     "text": [
      "\n",
      "  5%|██████                                                                                                                   | 10/200 [00:00<00:01, 182.41it/s]\u001b[A\n",
      " 64%|████████████████████████████████████████████████████████████████████████████▍                                           | 637/1000 [01:02<00:36,  9.84it/s]"
     ]
    },
    {
     "name": "stdout",
     "output_type": "stream",
     "text": [
      "DONE\n",
      "DONE\n",
      "Actor_loss 1.13538079\n",
      "Critic_loss 1.00000305\n",
      "Rewards mean 1.00000000 Rewards std 0.00000000 Rewards sum 11.00000000\n"
     ]
    },
    {
     "name": "stderr",
     "output_type": "stream",
     "text": [
      "\n",
      "  0%|                                                                                                                                   | 0/200 [00:00<?, ?it/s]\u001b[A\n",
      " 15%|██████████████████▏                                                                                                      | 30/200 [00:00<00:00, 191.39it/s]\u001b[A\n",
      " 64%|████████████████████████████████████████████████████████████████████████████▍                                           | 637/1000 [01:02<00:36,  9.84it/s]"
     ]
    },
    {
     "name": "stdout",
     "output_type": "stream",
     "text": [
      "DONE\n",
      "DONE\n",
      "Actor_loss 1.35019304\n",
      "Critic_loss 1.00000107\n",
      "Rewards mean 1.00000000 Rewards std 0.00000000 Rewards sum 31.00000000\n"
     ]
    },
    {
     "name": "stderr",
     "output_type": "stream",
     "text": [
      "\n",
      "  6%|██████▋                                                                                                                  | 11/200 [00:00<00:01, 166.56it/s]\u001b[A\n",
      " 64%|████████████████████████████████████████████████████████████████████████████▋                                           | 639/1000 [01:02<00:38,  9.39it/s]"
     ]
    },
    {
     "name": "stdout",
     "output_type": "stream",
     "text": [
      "DONE\n",
      "DONE\n",
      "Actor_loss 1.21352403\n",
      "Critic_loss 1.00000232\n",
      "Rewards mean 1.00000000 Rewards std 0.00000000 Rewards sum 12.00000000\n"
     ]
    },
    {
     "name": "stderr",
     "output_type": "stream",
     "text": [
      "\n",
      "  6%|███████▎                                                                                                                 | 12/200 [00:00<00:01, 176.00it/s]\u001b[A\n",
      " 64%|████████████████████████████████████████████████████████████████████████████▋                                           | 639/1000 [01:02<00:38,  9.39it/s]"
     ]
    },
    {
     "name": "stdout",
     "output_type": "stream",
     "text": [
      "DONE\n",
      "DONE\n",
      "Actor_loss 1.09951238\n",
      "Critic_loss 1.00000310\n",
      "Rewards mean 1.00000000 Rewards std 0.00000000 Rewards sum 13.00000000\n"
     ]
    },
    {
     "name": "stderr",
     "output_type": "stream",
     "text": [
      "\n",
      "  5%|██████                                                                                                                   | 10/200 [00:00<00:00, 194.43it/s]\u001b[A\n",
      " 64%|████████████████████████████████████████████████████████████████████████████▉                                           | 641/1000 [01:03<00:33, 10.64it/s]"
     ]
    },
    {
     "name": "stdout",
     "output_type": "stream",
     "text": [
      "DONE\n",
      "DONE\n",
      "Actor_loss 1.13519868\n",
      "Critic_loss 1.00000305\n",
      "Rewards mean 1.00000000 Rewards std 0.00000000 Rewards sum 11.00000000\n"
     ]
    },
    {
     "name": "stderr",
     "output_type": "stream",
     "text": [
      "\n",
      "  6%|██████▋                                                                                                                  | 11/200 [00:00<00:00, 199.32it/s]\u001b[A\n",
      " 64%|████████████████████████████████████████████████████████████████████████████▉                                           | 641/1000 [01:03<00:33, 10.64it/s]"
     ]
    },
    {
     "name": "stdout",
     "output_type": "stream",
     "text": [
      "DONE\n",
      "DONE\n",
      "Actor_loss 1.21335121\n",
      "Critic_loss 1.00000230\n",
      "Rewards mean 1.00000000 Rewards std 0.00000000 Rewards sum 12.00000000\n"
     ]
    },
    {
     "name": "stderr",
     "output_type": "stream",
     "text": [
      "\n",
      "  8%|█████████                                                                                                                | 15/200 [00:00<00:01, 176.01it/s]\u001b[A\n",
      " 64%|█████████████████████████████████████████████████████████████████████████████▏                                          | 643/1000 [01:03<00:31, 11.31it/s]"
     ]
    },
    {
     "name": "stdout",
     "output_type": "stream",
     "text": [
      "DONE\n",
      "DONE\n",
      "Actor_loss 1.27853191\n",
      "Critic_loss 1.00000165\n",
      "Rewards mean 1.00000000 Rewards std 0.00000000 Rewards sum 16.00000000\n"
     ]
    },
    {
     "name": "stderr",
     "output_type": "stream",
     "text": [
      "\n",
      "  0%|                                                                                                                                   | 0/200 [00:00<?, ?it/s]\u001b[A\n",
      " 12%|█████████████▉                                                                                                           | 23/200 [00:00<00:01, 169.93it/s]\u001b[A\n",
      " 64%|█████████████████████████████████████████████████████████████████████████████▏                                          | 643/1000 [01:03<00:31, 11.31it/s]"
     ]
    },
    {
     "name": "stdout",
     "output_type": "stream",
     "text": [
      "DONE\n",
      "DONE\n",
      "Actor_loss 1.34089613\n",
      "Critic_loss 1.00000106\n",
      "Rewards mean 1.00000000 Rewards std 0.00000000 Rewards sum 24.00000000\n"
     ]
    },
    {
     "name": "stderr",
     "output_type": "stream",
     "text": [
      "\n",
      "  0%|                                                                                                                                   | 0/200 [00:00<?, ?it/s]\u001b[A\n",
      " 10%|████████████▋                                                                                                            | 21/200 [00:00<00:00, 192.67it/s]\u001b[A\n",
      " 64%|█████████████████████████████████████████████████████████████████████████████▍                                          | 645/1000 [01:03<00:35,  9.96it/s]"
     ]
    },
    {
     "name": "stdout",
     "output_type": "stream",
     "text": [
      "DONE\n",
      "DONE\n",
      "Actor_loss 1.43212157\n",
      "Critic_loss 1.00000018\n",
      "Rewards mean 1.00000000 Rewards std 0.00000000 Rewards sum 22.00000000\n"
     ]
    },
    {
     "name": "stderr",
     "output_type": "stream",
     "text": [
      "\n",
      "  8%|██████████▎                                                                                                              | 17/200 [00:00<00:01, 167.99it/s]\u001b[A\n",
      " 64%|█████████████████████████████████████████████████████████████████████████████▍                                          | 645/1000 [01:03<00:35,  9.96it/s]"
     ]
    },
    {
     "name": "stdout",
     "output_type": "stream",
     "text": [
      "DONE\n",
      "DONE\n",
      "Actor_loss 1.29964898\n",
      "Critic_loss 1.00000141\n",
      "Rewards mean 1.00000000 Rewards std 0.00000000 Rewards sum 18.00000000\n"
     ]
    },
    {
     "name": "stderr",
     "output_type": "stream",
     "text": [
      "\n",
      "  4%|█████▍                                                                                                                    | 9/200 [00:00<00:01, 162.59it/s]\u001b[A\n",
      " 65%|█████████████████████████████████████████████████████████████████████████████▋                                          | 647/1000 [01:03<00:33, 10.44it/s]"
     ]
    },
    {
     "name": "stdout",
     "output_type": "stream",
     "text": [
      "DONE\n",
      "DONE\n",
      "Actor_loss 1.27857765\n",
      "Critic_loss 1.00000186\n",
      "Rewards mean 1.00000000 Rewards std 0.00000000 Rewards sum 10.00000000\n"
     ]
    },
    {
     "name": "stderr",
     "output_type": "stream",
     "text": [
      "\n",
      "  0%|                                                                                                                                   | 0/200 [00:00<?, ?it/s]\u001b[A\n",
      "  9%|██████████▉                                                                                                              | 18/200 [00:00<00:01, 162.09it/s]\u001b[A\n",
      " 65%|█████████████████████████████████████████████████████████████████████████████▋                                          | 647/1000 [01:03<00:33, 10.44it/s]"
     ]
    },
    {
     "name": "stdout",
     "output_type": "stream",
     "text": [
      "DONE\n",
      "DONE\n",
      "Actor_loss 1.57683876\n",
      "Critic_loss 0.99999843\n",
      "Rewards mean 1.00000000 Rewards std 0.00000000 Rewards sum 19.00000000\n"
     ]
    },
    {
     "name": "stderr",
     "output_type": "stream",
     "text": [
      "\n",
      "  5%|██████                                                                                                                   | 10/200 [00:00<00:01, 180.06it/s]\u001b[A\n",
      " 65%|█████████████████████████████████████████████████████████████████████████████▉                                          | 649/1000 [01:03<00:33, 10.63it/s]"
     ]
    },
    {
     "name": "stdout",
     "output_type": "stream",
     "text": [
      "DONE\n",
      "DONE\n",
      "Actor_loss 1.13553978\n",
      "Critic_loss 1.00000299\n",
      "Rewards mean 1.00000000 Rewards std 0.00000000 Rewards sum 11.00000000\n"
     ]
    },
    {
     "name": "stderr",
     "output_type": "stream",
     "text": [
      "\n",
      "  5%|██████                                                                                                                   | 10/200 [00:00<00:01, 174.13it/s]\u001b[A\n",
      " 65%|█████████████████████████████████████████████████████████████████████████████▉                                          | 649/1000 [01:03<00:33, 10.63it/s]"
     ]
    },
    {
     "name": "stdout",
     "output_type": "stream",
     "text": [
      "DONE\n",
      "DONE\n",
      "Actor_loss 1.02789825\n",
      "Critic_loss 1.00000358\n",
      "Rewards mean 1.00000000 Rewards std 0.00000000 Rewards sum 11.00000000\n"
     ]
    },
    {
     "name": "stderr",
     "output_type": "stream",
     "text": [
      "\n",
      "  6%|███████▎                                                                                                                 | 12/200 [00:00<00:01, 148.97it/s]\u001b[A\n",
      " 65%|██████████████████████████████████████████████████████████████████████████████                                          | 651/1000 [01:03<00:30, 11.35it/s]"
     ]
    },
    {
     "name": "stdout",
     "output_type": "stream",
     "text": [
      "DONE\n",
      "DONE\n",
      "Actor_loss 1.18896039\n",
      "Critic_loss 1.00000246\n",
      "Rewards mean 1.00000000 Rewards std 0.00000000 Rewards sum 13.00000000\n"
     ]
    },
    {
     "name": "stderr",
     "output_type": "stream",
     "text": [
      "\n",
      "  6%|███████▎                                                                                                                 | 12/200 [00:00<00:01, 183.43it/s]\u001b[A\n",
      " 65%|██████████████████████████████████████████████████████████████████████████████                                          | 651/1000 [01:04<00:30, 11.35it/s]"
     ]
    },
    {
     "name": "stdout",
     "output_type": "stream",
     "text": [
      "DONE\n",
      "DONE\n",
      "Actor_loss 1.09922684\n",
      "Critic_loss 1.00000312\n",
      "Rewards mean 1.00000000 Rewards std 0.00000000 Rewards sum 13.00000000\n"
     ]
    },
    {
     "name": "stderr",
     "output_type": "stream",
     "text": [
      "\n",
      "  0%|                                                                                                                                   | 0/200 [00:00<?, ?it/s]\u001b[A\n",
      " 10%|████████████▋                                                                                                            | 21/200 [00:00<00:00, 179.44it/s]\u001b[A\n",
      "                                                                                                                                                                "
     ]
    },
    {
     "name": "stdout",
     "output_type": "stream",
     "text": [
      "DONE\n",
      "DONE\n"
     ]
    },
    {
     "name": "stderr",
     "output_type": "stream",
     "text": [
      " 65%|██████████████████████████████████████████████████████████████████████████████▎                                         | 653/1000 [01:04<00:31, 11.00it/s]"
     ]
    },
    {
     "name": "stdout",
     "output_type": "stream",
     "text": [
      "Actor_loss 1.43223562\n",
      "Critic_loss 1.00000009\n",
      "Rewards mean 1.00000000 Rewards std 0.00000000 Rewards sum 22.00000000\n"
     ]
    },
    {
     "name": "stderr",
     "output_type": "stream",
     "text": [
      "\n",
      "  8%|█████████▋                                                                                                               | 16/200 [00:00<00:00, 191.79it/s]\u001b[A\n",
      " 65%|██████████████████████████████████████████████████████████████████████████████▎                                         | 653/1000 [01:04<00:31, 11.00it/s]"
     ]
    },
    {
     "name": "stdout",
     "output_type": "stream",
     "text": [
      "DONE\n",
      "DONE\n",
      "Actor_loss 1.25611680\n",
      "Critic_loss 1.00000181\n",
      "Rewards mean 1.00000000 Rewards std 0.00000000 Rewards sum 17.00000000\n"
     ]
    },
    {
     "name": "stderr",
     "output_type": "stream",
     "text": [
      "\n",
      "  0%|                                                                                                                                   | 0/200 [00:00<?, ?it/s]\u001b[A\n",
      " 10%|████████████▋                                                                                                            | 21/200 [00:00<00:00, 205.27it/s]\u001b[A\n",
      " 23%|███████████████████████████▊                                                                                             | 46/200 [00:00<00:00, 189.92it/s]\u001b[A\n",
      " 66%|██████████████████████████████████████████████████████████████████████████████▌                                         | 655/1000 [01:04<00:39,  8.74it/s]"
     ]
    },
    {
     "name": "stdout",
     "output_type": "stream",
     "text": [
      "DONE\n",
      "DONE\n",
      "Actor_loss 1.34089642\n",
      "Critic_loss 1.00000096\n",
      "Rewards mean 1.00000000 Rewards std 0.00000000 Rewards sum 47.00000000\n"
     ]
    },
    {
     "name": "stderr",
     "output_type": "stream",
     "text": [
      "\n",
      "  8%|█████████▋                                                                                                               | 16/200 [00:00<00:00, 190.85it/s]\u001b[A\n",
      " 66%|██████████████████████████████████████████████████████████████████████████████▌                                         | 655/1000 [01:04<00:39,  8.74it/s]"
     ]
    },
    {
     "name": "stdout",
     "output_type": "stream",
     "text": [
      "DONE\n",
      "DONE\n",
      "Actor_loss 1.32335226\n",
      "Critic_loss 1.00000131\n",
      "Rewards mean 1.00000000 Rewards std 0.00000000 Rewards sum 17.00000000\n"
     ]
    },
    {
     "name": "stderr",
     "output_type": "stream",
     "text": [
      "\n",
      "  6%|███████▊                                                                                                                 | 13/200 [00:00<00:01, 176.28it/s]\u001b[A\n",
      " 66%|██████████████████████████████████████████████████████████████████████████████▊                                         | 657/1000 [01:04<00:36,  9.47it/s]"
     ]
    },
    {
     "name": "stdout",
     "output_type": "stream",
     "text": [
      "DONE\n",
      "DONE\n",
      "Actor_loss 1.25097430\n",
      "Critic_loss 1.00000195\n",
      "Rewards mean 1.00000000 Rewards std 0.00000000 Rewards sum 14.00000000\n"
     ]
    },
    {
     "name": "stderr",
     "output_type": "stream",
     "text": [
      "\n",
      " 10%|███████████▍                                                                                                             | 19/200 [00:00<00:00, 184.57it/s]\u001b[A\n",
      " 66%|██████████████████████████████████████████████████████████████████████████████▊                                         | 657/1000 [01:04<00:36,  9.47it/s]"
     ]
    },
    {
     "name": "stdout",
     "output_type": "stream",
     "text": [
      "DONE\n",
      "DONE\n",
      "Actor_loss 1.25965032\n",
      "Critic_loss 1.00000174\n",
      "Rewards mean 1.00000000 Rewards std 0.00000000 Rewards sum 20.00000000\n"
     ]
    },
    {
     "name": "stderr",
     "output_type": "stream",
     "text": [
      "\n",
      "  4%|█████▍                                                                                                                    | 9/200 [00:00<00:01, 180.79it/s]\u001b[A\n",
      " 66%|███████████████████████████████████████████████████████████████████████████████                                         | 659/1000 [01:04<00:33, 10.17it/s]"
     ]
    },
    {
     "name": "stdout",
     "output_type": "stream",
     "text": [
      "DONE\n",
      "DONE\n",
      "Actor_loss 1.75649505\n",
      "Critic_loss 0.99999521\n",
      "Rewards mean 1.00000000 Rewards std 0.00000000 Rewards sum 10.00000000\n"
     ]
    },
    {
     "name": "stderr",
     "output_type": "stream",
     "text": [
      "\n",
      " 10%|████████████                                                                                                             | 20/200 [00:00<00:00, 202.40it/s]\u001b[A\n",
      " 66%|███████████████████████████████████████████████████████████████████████████████                                         | 659/1000 [01:04<00:33, 10.17it/s]"
     ]
    },
    {
     "name": "stdout",
     "output_type": "stream",
     "text": [
      "DONE\n",
      "DONE\n",
      "Actor_loss 1.45759166\n",
      "Critic_loss 0.99999980\n",
      "Rewards mean 1.00000000 Rewards std 0.00000000 Rewards sum 21.00000000\n"
     ]
    },
    {
     "name": "stderr",
     "output_type": "stream",
     "text": [
      "\n",
      "  6%|███████▎                                                                                                                 | 12/200 [00:00<00:01, 186.73it/s]\u001b[A\n",
      " 66%|███████████████████████████████████████████████████████████████████████████████▎                                        | 661/1000 [01:04<00:32, 10.52it/s]"
     ]
    },
    {
     "name": "stdout",
     "output_type": "stream",
     "text": [
      "DONE\n",
      "DONE\n",
      "Actor_loss 1.27860847\n",
      "Critic_loss 1.00000180\n",
      "Rewards mean 1.00000000 Rewards std 0.00000000 Rewards sum 13.00000000\n"
     ]
    },
    {
     "name": "stderr",
     "output_type": "stream",
     "text": [
      "\n",
      "  0%|                                                                                                                                   | 0/200 [00:00<?, ?it/s]\u001b[A\n",
      " 10%|████████████▋                                                                                                            | 21/200 [00:00<00:00, 204.58it/s]\u001b[A\n",
      " 30%|████████████████████████████████████▉                                                                                    | 61/200 [00:00<00:00, 201.72it/s]\u001b[A\n",
      " 66%|███████████████████████████████████████████████████████████████████████████████▎                                        | 661/1000 [01:05<00:32, 10.52it/s]"
     ]
    },
    {
     "name": "stdout",
     "output_type": "stream",
     "text": [
      "DONE\n",
      "DONE\n",
      "Actor_loss 1.36072497\n",
      "Critic_loss 1.00000089\n",
      "Rewards mean 1.00000000 Rewards std 0.00000000 Rewards sum 62.00000000\n"
     ]
    },
    {
     "name": "stderr",
     "output_type": "stream",
     "text": [
      "\n",
      "  7%|████████▍                                                                                                                | 14/200 [00:00<00:00, 188.44it/s]\u001b[A\n",
      " 66%|███████████████████████████████████████████████████████████████████████████████▌                                        | 663/1000 [01:05<00:42,  8.02it/s]"
     ]
    },
    {
     "name": "stdout",
     "output_type": "stream",
     "text": [
      "DONE\n",
      "DONE\n",
      "Actor_loss 1.15090484\n",
      "Critic_loss 1.00000266\n",
      "Rewards mean 1.00000000 Rewards std 0.00000000 Rewards sum 15.00000000\n"
     ]
    },
    {
     "name": "stderr",
     "output_type": "stream",
     "text": [
      "\n",
      "  0%|                                                                                                                                   | 0/200 [00:00<?, ?it/s]\u001b[A\n",
      " 10%|████████████                                                                                                             | 20/200 [00:00<00:00, 196.24it/s]\u001b[A\n",
      " 22%|██████████████████████████                                                                                               | 43/200 [00:00<00:00, 197.33it/s]\u001b[A\n",
      " 66%|███████████████████████████████████████████████████████████████████████████████▋                                        | 664/1000 [01:05<00:47,  7.02it/s]"
     ]
    },
    {
     "name": "stdout",
     "output_type": "stream",
     "text": [
      "DONE\n",
      "DONE\n",
      "Actor_loss 1.37010754\n",
      "Critic_loss 1.00000076\n",
      "Rewards mean 1.00000000 Rewards std 0.00000000 Rewards sum 44.00000000\n"
     ]
    },
    {
     "name": "stderr",
     "output_type": "stream",
     "text": [
      "\n",
      "  0%|                                                                                                                                   | 0/200 [00:00<?, ?it/s]\u001b[A\n",
      " 13%|███████████████▋                                                                                                         | 26/200 [00:00<00:00, 178.36it/s]\u001b[A\n",
      " 66%|███████████████████████████████████████████████████████████████████████████████▊                                        | 665/1000 [01:05<00:48,  6.93it/s]"
     ]
    },
    {
     "name": "stdout",
     "output_type": "stream",
     "text": [
      "DONE\n",
      "DONE\n",
      "Actor_loss 1.37484607\n",
      "Critic_loss 1.00000076\n",
      "Rewards mean 1.00000000 Rewards std 0.00000000 Rewards sum 27.00000000\n"
     ]
    },
    {
     "name": "stderr",
     "output_type": "stream",
     "text": [
      "\n",
      "  8%|█████████                                                                                                                | 15/200 [00:00<00:01, 164.22it/s]\u001b[A\n",
      " 66%|███████████████████████████████████████████████████████████████████████████████▊                                        | 665/1000 [01:05<00:48,  6.93it/s]"
     ]
    },
    {
     "name": "stdout",
     "output_type": "stream",
     "text": [
      "DONE\n",
      "DONE\n",
      "Actor_loss 1.42146364\n",
      "Critic_loss 1.00000023\n",
      "Rewards mean 1.00000000 Rewards std 0.00000000 Rewards sum 16.00000000\n"
     ]
    },
    {
     "name": "stderr",
     "output_type": "stream",
     "text": [
      "\n",
      "  8%|█████████                                                                                                                | 15/200 [00:00<00:01, 179.05it/s]\u001b[A\n",
      " 67%|████████████████████████████████████████████████████████████████████████████████                                        | 667/1000 [01:05<00:41,  7.96it/s]"
     ]
    },
    {
     "name": "stdout",
     "output_type": "stream",
     "text": [
      "DONE\n",
      "DONE\n",
      "Actor_loss 1.20732260\n",
      "Critic_loss 1.00000224\n",
      "Rewards mean 1.00000000 Rewards std 0.00000000 Rewards sum 16.00000000\n"
     ]
    },
    {
     "name": "stderr",
     "output_type": "stream",
     "text": [
      "\n",
      "  8%|█████████                                                                                                                | 15/200 [00:00<00:01, 182.00it/s]\u001b[A\n",
      " 67%|████████████████████████████████████████████████████████████████████████████████                                        | 667/1000 [01:06<00:41,  7.96it/s]"
     ]
    },
    {
     "name": "stdout",
     "output_type": "stream",
     "text": [
      "DONE\n",
      "DONE\n",
      "Actor_loss 1.27868489\n",
      "Critic_loss 1.00000171\n",
      "Rewards mean 1.00000000 Rewards std 0.00000000 Rewards sum 16.00000000\n"
     ]
    },
    {
     "name": "stderr",
     "output_type": "stream",
     "text": [
      "\n",
      "  0%|                                                                                                                                   | 0/200 [00:00<?, ?it/s]\u001b[A\n",
      " 16%|███████████████████▉                                                                                                     | 33/200 [00:00<00:00, 172.12it/s]\u001b[A"
     ]
    },
    {
     "name": "stdout",
     "output_type": "stream",
     "text": [
      "DONE\n",
      "DONE\n"
     ]
    },
    {
     "name": "stderr",
     "output_type": "stream",
     "text": [
      "\n",
      " 67%|████████████████████████████████████████████████████████████████████████████████▎                                       | 669/1000 [01:06<00:43,  7.60it/s]"
     ]
    },
    {
     "name": "stdout",
     "output_type": "stream",
     "text": [
      "Actor_loss 1.34361163\n",
      "Critic_loss 1.00000099\n",
      "Rewards mean 1.00000000 Rewards std 0.00000000 Rewards sum 34.00000000\n"
     ]
    },
    {
     "name": "stderr",
     "output_type": "stream",
     "text": [
      "\n",
      "  6%|██████▋                                                                                                                  | 11/200 [00:00<00:01, 156.95it/s]\u001b[A\n",
      " 67%|████████████████████████████████████████████████████████████████████████████████▎                                       | 669/1000 [01:06<00:43,  7.60it/s]"
     ]
    },
    {
     "name": "stdout",
     "output_type": "stream",
     "text": [
      "DONE\n",
      "DONE\n",
      "Actor_loss 1.01894170\n",
      "Critic_loss 1.00000377\n",
      "Rewards mean 1.00000000 Rewards std 0.00000000 Rewards sum 12.00000000\n"
     ]
    },
    {
     "name": "stderr",
     "output_type": "stream",
     "text": [
      "\n",
      "  6%|███████▎                                                                                                                 | 12/200 [00:00<00:01, 165.31it/s]\u001b[A\n",
      " 67%|████████████████████████████████████████████████████████████████████████████████▌                                       | 671/1000 [01:06<00:37,  8.76it/s]"
     ]
    },
    {
     "name": "stdout",
     "output_type": "stream",
     "text": [
      "DONE\n",
      "DONE\n",
      "Actor_loss 1.54659731\n",
      "Critic_loss 0.99999895\n",
      "Rewards mean 1.00000000 Rewards std 0.00000000 Rewards sum 13.00000000\n"
     ]
    },
    {
     "name": "stderr",
     "output_type": "stream",
     "text": [
      "\n",
      "  0%|                                                                                                                                   | 0/200 [00:00<?, ?it/s]\u001b[A\n",
      " 12%|███████████████▏                                                                                                         | 25/200 [00:00<00:01, 169.68it/s]\u001b[A\n",
      " 67%|████████████████████████████████████████████████████████████████████████████████▋                                       | 672/1000 [01:06<00:39,  8.23it/s]"
     ]
    },
    {
     "name": "stdout",
     "output_type": "stream",
     "text": [
      "DONE\n",
      "DONE\n",
      "Actor_loss 1.35010072\n",
      "Critic_loss 1.00000107\n",
      "Rewards mean 1.00000000 Rewards std 0.00000000 Rewards sum 26.00000000\n"
     ]
    },
    {
     "name": "stderr",
     "output_type": "stream",
     "text": [
      "\n",
      "  5%|██████                                                                                                                   | 10/200 [00:00<00:01, 171.37it/s]\u001b[A\n",
      " 67%|████████████████████████████████████████████████████████████████████████████████▋                                       | 672/1000 [01:06<00:39,  8.23it/s]"
     ]
    },
    {
     "name": "stdout",
     "output_type": "stream",
     "text": [
      "DONE\n",
      "DONE\n",
      "Actor_loss 1.13589985\n",
      "Critic_loss 1.00000311\n",
      "Rewards mean 1.00000000 Rewards std 0.00000000 Rewards sum 11.00000000\n"
     ]
    },
    {
     "name": "stderr",
     "output_type": "stream",
     "text": [
      "\n",
      "  6%|██████▋                                                                                                                  | 11/200 [00:00<00:01, 155.57it/s]\u001b[A\n",
      " 67%|████████████████████████████████████████████████████████████████████████████████▉                                       | 674/1000 [01:06<00:33,  9.64it/s]"
     ]
    },
    {
     "name": "stdout",
     "output_type": "stream",
     "text": [
      "DONE\n",
      "DONE\n",
      "Actor_loss 1.21371329\n",
      "Critic_loss 1.00000236\n",
      "Rewards mean 1.00000000 Rewards std 0.00000000 Rewards sum 12.00000000\n"
     ]
    },
    {
     "name": "stderr",
     "output_type": "stream",
     "text": [
      "\n",
      "  6%|██████▋                                                                                                                  | 11/200 [00:00<00:01, 164.03it/s]\u001b[A\n",
      " 67%|████████████████████████████████████████████████████████████████████████████████▉                                       | 674/1000 [01:06<00:33,  9.64it/s]"
     ]
    },
    {
     "name": "stdout",
     "output_type": "stream",
     "text": [
      "DONE\n",
      "DONE\n",
      "Actor_loss 1.21364968\n",
      "Critic_loss 1.00000228\n",
      "Rewards mean 1.00000000 Rewards std 0.00000000 Rewards sum 12.00000000\n"
     ]
    },
    {
     "name": "stderr",
     "output_type": "stream",
     "text": [
      "\n",
      "  7%|████████▍                                                                                                                | 14/200 [00:00<00:00, 193.07it/s]\u001b[A\n",
      " 68%|█████████████████████████████████████████████████████████████████████████████████                                       | 676/1000 [01:06<00:30, 10.63it/s]"
     ]
    },
    {
     "name": "stdout",
     "output_type": "stream",
     "text": [
      "DONE\n",
      "DONE\n",
      "Actor_loss 1.30417814\n",
      "Critic_loss 1.00000152\n",
      "Rewards mean 1.00000000 Rewards std 0.00000000 Rewards sum 15.00000000\n"
     ]
    },
    {
     "name": "stderr",
     "output_type": "stream",
     "text": [
      "\n",
      " 10%|███████████▍                                                                                                             | 19/200 [00:00<00:00, 193.01it/s]\u001b[A\n",
      " 68%|█████████████████████████████████████████████████████████████████████████████████                                       | 676/1000 [01:06<00:30, 10.63it/s]"
     ]
    },
    {
     "name": "stdout",
     "output_type": "stream",
     "text": [
      "DONE\n",
      "DONE\n",
      "Actor_loss 1.37274342\n",
      "Critic_loss 1.00000083\n",
      "Rewards mean 1.00000000 Rewards std 0.00000000 Rewards sum 20.00000000\n"
     ]
    },
    {
     "name": "stderr",
     "output_type": "stream",
     "text": [
      "\n",
      "  0%|                                                                                                                                   | 0/200 [00:00<?, ?it/s]\u001b[A"
     ]
    },
    {
     "name": "stdout",
     "output_type": "stream",
     "text": [
      "DONE\n"
     ]
    },
    {
     "name": "stderr",
     "output_type": "stream",
     "text": [
      "  9%|██████████▉                                                                                                              | 18/200 [00:00<00:00, 201.78it/s]\n",
      " 68%|█████████████████████████████████████████████████████████████████████████████████▎                                      | 678/1000 [01:07<00:30, 10.42it/s]"
     ]
    },
    {
     "name": "stdout",
     "output_type": "stream",
     "text": [
      "DONE\n",
      "Actor_loss 1.33823383\n",
      "Critic_loss 1.00000119\n",
      "Rewards mean 1.00000000 Rewards std 0.00000000 Rewards sum 19.00000000\n"
     ]
    },
    {
     "name": "stderr",
     "output_type": "stream",
     "text": [
      "\n",
      "  0%|                                                                                                                                   | 0/200 [00:00<?, ?it/s]\u001b[A\n",
      " 10%|███████████▍                                                                                                             | 19/200 [00:00<00:00, 189.51it/s]\u001b[A\n",
      " 20%|████████████████████████▊                                                                                                | 41/200 [00:00<00:00, 190.83it/s]\u001b[A\n",
      " 68%|█████████████████████████████████████████████████████████████████████████████████▎                                      | 678/1000 [01:07<00:30, 10.42it/s]"
     ]
    },
    {
     "name": "stdout",
     "output_type": "stream",
     "text": [
      "DONE\n",
      "DONE\n",
      "Actor_loss 1.33967482\n",
      "Critic_loss 1.00000120\n",
      "Rewards mean 1.00000000 Rewards std 0.00000000 Rewards sum 42.00000000\n"
     ]
    },
    {
     "name": "stderr",
     "output_type": "stream",
     "text": [
      "\n",
      "  0%|                                                                                                                                   | 0/200 [00:00<?, ?it/s]\u001b[A\n",
      " 13%|███████████████▋                                                                                                         | 26/200 [00:00<00:00, 193.74it/s]\u001b[A\n",
      " 68%|█████████████████████████████████████████████████████████████████████████████████▌                                      | 680/1000 [01:07<00:39,  8.16it/s]"
     ]
    },
    {
     "name": "stdout",
     "output_type": "stream",
     "text": [
      "DONE\n",
      "DONE\n",
      "Actor_loss 1.45722769\n",
      "Critic_loss 1.00000030\n",
      "Rewards mean 1.00000000 Rewards std 0.00000000 Rewards sum 27.00000000\n"
     ]
    },
    {
     "name": "stderr",
     "output_type": "stream",
     "text": [
      "\n",
      "  6%|██████▋                                                                                                                  | 11/200 [00:00<00:01, 172.71it/s]\u001b[A\n",
      " 68%|█████████████████████████████████████████████████████████████████████████████████▌                                      | 680/1000 [01:07<00:39,  8.16it/s]"
     ]
    },
    {
     "name": "stdout",
     "output_type": "stream",
     "text": [
      "DONE\n",
      "DONE\n",
      "Actor_loss 1.21381334\n",
      "Critic_loss 1.00000237\n",
      "Rewards mean 1.00000000 Rewards std 0.00000000 Rewards sum 12.00000000\n"
     ]
    },
    {
     "name": "stderr",
     "output_type": "stream",
     "text": [
      "\n",
      "  8%|█████████                                                                                                                | 15/200 [00:00<00:00, 196.99it/s]\u001b[A\n",
      " 68%|█████████████████████████████████████████████████████████████████████████████████▊                                      | 682/1000 [01:07<00:34,  9.26it/s]"
     ]
    },
    {
     "name": "stdout",
     "output_type": "stream",
     "text": [
      "DONE\n",
      "DONE\n",
      "Actor_loss 1.42144634\n",
      "Critic_loss 1.00000021\n",
      "Rewards mean 1.00000000 Rewards std 0.00000000 Rewards sum 16.00000000\n"
     ]
    },
    {
     "name": "stderr",
     "output_type": "stream",
     "text": [
      "\n",
      "  5%|██████                                                                                                                   | 10/200 [00:00<00:01, 170.96it/s]\u001b[A\n",
      " 68%|█████████████████████████████████████████████████████████████████████████████████▊                                      | 682/1000 [01:07<00:34,  9.26it/s]"
     ]
    },
    {
     "name": "stdout",
     "output_type": "stream",
     "text": [
      "DONE\n",
      "DONE\n",
      "Actor_loss 1.13596077\n",
      "Critic_loss 1.00000308\n",
      "Rewards mean 1.00000000 Rewards std 0.00000000 Rewards sum 11.00000000\n"
     ]
    },
    {
     "name": "stderr",
     "output_type": "stream",
     "text": [
      "\n",
      "  0%|                                                                                                                                   | 0/200 [00:00<?, ?it/s]\u001b[A\n",
      "  9%|██████████▉                                                                                                              | 18/200 [00:00<00:01, 179.37it/s]\u001b[A\n",
      " 20%|████████████████████████▊                                                                                                | 41/200 [00:00<00:00, 180.21it/s]\u001b[A\n",
      " 68%|██████████████████████████████████████████████████████████████████████████████████                                      | 684/1000 [01:07<00:38,  8.30it/s]"
     ]
    },
    {
     "name": "stdout",
     "output_type": "stream",
     "text": [
      "DONE\n",
      "DONE\n",
      "Actor_loss 1.28740476\n",
      "Critic_loss 1.00000141\n",
      "Rewards mean 1.00000000 Rewards std 0.00000000 Rewards sum 42.00000000\n"
     ]
    },
    {
     "name": "stderr",
     "output_type": "stream",
     "text": [
      "\n",
      "  6%|███████▊                                                                                                                 | 13/200 [00:00<00:01, 174.25it/s]\u001b[A\n",
      " 68%|██████████████████████████████████████████████████████████████████████████████████                                      | 684/1000 [01:07<00:38,  8.30it/s]"
     ]
    },
    {
     "name": "stdout",
     "output_type": "stream",
     "text": [
      "DONE\n",
      "DONE\n",
      "Actor_loss 1.16877124\n",
      "Critic_loss 1.00000274\n",
      "Rewards mean 1.00000000 Rewards std 0.00000000 Rewards sum 14.00000000\n"
     ]
    },
    {
     "name": "stderr",
     "output_type": "stream",
     "text": [
      "\n",
      " 10%|████████████▋                                                                                                            | 21/200 [00:00<00:00, 203.44it/s]\u001b[A\n",
      " 69%|██████████████████████████████████████████████████████████████████████████████████▎                                     | 686/1000 [01:08<00:35,  8.88it/s]"
     ]
    },
    {
     "name": "stdout",
     "output_type": "stream",
     "text": [
      "DONE\n",
      "DONE\n",
      "Actor_loss 1.32970903\n",
      "Critic_loss 1.00000114\n",
      "Rewards mean 1.00000000 Rewards std 0.00000000 Rewards sum 22.00000000\n"
     ]
    },
    {
     "name": "stderr",
     "output_type": "stream",
     "text": [
      "\n",
      "  6%|██████▋                                                                                                                  | 11/200 [00:00<00:01, 184.51it/s]\u001b[A\n",
      " 69%|██████████████████████████████████████████████████████████████████████████████████▎                                     | 686/1000 [01:08<00:35,  8.88it/s]"
     ]
    },
    {
     "name": "stdout",
     "output_type": "stream",
     "text": [
      "DONE\n",
      "DONE\n",
      "Actor_loss 1.11624911\n",
      "Critic_loss 1.00000327\n",
      "Rewards mean 1.00000000 Rewards std 0.00000000 Rewards sum 12.00000000\n"
     ]
    },
    {
     "name": "stderr",
     "output_type": "stream",
     "text": [
      "\n",
      "  5%|██████                                                                                                                   | 10/200 [00:00<00:01, 183.37it/s]\u001b[A\n",
      " 69%|██████████████████████████████████████████████████████████████████████████████████▌                                     | 688/1000 [01:08<00:30, 10.26it/s]"
     ]
    },
    {
     "name": "stdout",
     "output_type": "stream",
     "text": [
      "DONE\n",
      "DONE\n",
      "Actor_loss 0.92077810\n",
      "Critic_loss 1.00000461\n",
      "Rewards mean 1.00000000 Rewards std 0.00000000 Rewards sum 11.00000000\n"
     ]
    },
    {
     "name": "stderr",
     "output_type": "stream",
     "text": [
      "\n",
      "  6%|██████▋                                                                                                                  | 11/200 [00:00<00:01, 175.48it/s]\u001b[A\n",
      "                                                                                                                                                                \r"
     ]
    },
    {
     "name": "stdout",
     "output_type": "stream",
     "text": [
      "DONE\n",
      "DONE\n"
     ]
    },
    {
     "name": "stderr",
     "output_type": "stream",
     "text": [
      "\r",
      " 69%|██████████████████████████████████████████████████████████████████████████████████▌                                     | 688/1000 [01:08<00:30, 10.26it/s]"
     ]
    },
    {
     "name": "stdout",
     "output_type": "stream",
     "text": [
      "Actor_loss 1.21346228\n",
      "Critic_loss 1.00000238\n",
      "Rewards mean 1.00000000 Rewards std 0.00000000 Rewards sum 12.00000000\n"
     ]
    },
    {
     "name": "stderr",
     "output_type": "stream",
     "text": [
      "\n",
      "  0%|                                                                                                                                   | 0/200 [00:00<?, ?it/s]\u001b[A\n",
      " 12%|██████████████▌                                                                                                          | 24/200 [00:00<00:00, 189.63it/s]\u001b[A\n",
      " 69%|██████████████████████████████████████████████████████████████████████████████████▊                                     | 690/1000 [01:08<00:30, 10.16it/s]"
     ]
    },
    {
     "name": "stdout",
     "output_type": "stream",
     "text": [
      "DONE\n",
      "DONE\n",
      "Actor_loss 1.32334535\n",
      "Critic_loss 1.00000137\n",
      "Rewards mean 1.00000000 Rewards std 0.00000000 Rewards sum 25.00000000\n"
     ]
    },
    {
     "name": "stderr",
     "output_type": "stream",
     "text": [
      "\n",
      "  8%|█████████▋                                                                                                               | 16/200 [00:00<00:00, 187.34it/s]\u001b[A\n",
      " 69%|██████████████████████████████████████████████████████████████████████████████████▊                                     | 690/1000 [01:08<00:30, 10.16it/s]"
     ]
    },
    {
     "name": "stdout",
     "output_type": "stream",
     "text": [
      "DONE\n",
      "DONE\n",
      "Actor_loss 1.25619777\n",
      "Critic_loss 1.00000183\n",
      "Rewards mean 1.00000000 Rewards std 0.00000000 Rewards sum 17.00000000\n"
     ]
    },
    {
     "name": "stderr",
     "output_type": "stream",
     "text": [
      "\n",
      "  5%|██████                                                                                                                   | 10/200 [00:00<00:01, 182.63it/s]\u001b[A\n",
      " 69%|███████████████████████████████████████████████████████████████████████████████████                                     | 692/1000 [01:08<00:28, 10.91it/s]"
     ]
    },
    {
     "name": "stdout",
     "output_type": "stream",
     "text": [
      "DONE\n",
      "DONE\n",
      "Actor_loss 1.13526441\n",
      "Critic_loss 1.00000305\n",
      "Rewards mean 1.00000000 Rewards std 0.00000000 Rewards sum 11.00000000\n"
     ]
    },
    {
     "name": "stderr",
     "output_type": "stream",
     "text": [
      "\n",
      "  0%|                                                                                                                                   | 0/200 [00:00<?, ?it/s]\u001b[A\n",
      " 10%|███████████▍                                                                                                             | 19/200 [00:00<00:01, 176.55it/s]\u001b[A\n",
      " 69%|███████████████████████████████████████████████████████████████████████████████████                                     | 692/1000 [01:08<00:28, 10.91it/s]"
     ]
    },
    {
     "name": "stdout",
     "output_type": "stream",
     "text": [
      "DONE\n",
      "DONE\n",
      "Actor_loss 1.31627648\n",
      "Critic_loss 1.00000138\n",
      "Rewards mean 1.00000000 Rewards std 0.00000000 Rewards sum 20.00000000\n"
     ]
    },
    {
     "name": "stderr",
     "output_type": "stream",
     "text": [
      "\n",
      "  7%|████████▍                                                                                                                | 14/200 [00:00<00:01, 170.19it/s]\u001b[A\n",
      " 69%|███████████████████████████████████████████████████████████████████████████████████▎                                    | 694/1000 [01:08<00:28, 10.61it/s]"
     ]
    },
    {
     "name": "stdout",
     "output_type": "stream",
     "text": [
      "DONE\n",
      "DONE\n",
      "Actor_loss 1.15042872\n",
      "Critic_loss 1.00000267\n",
      "Rewards mean 1.00000000 Rewards std 0.00000000 Rewards sum 15.00000000\n"
     ]
    },
    {
     "name": "stderr",
     "output_type": "stream",
     "text": [
      "\n",
      "  4%|█████▍                                                                                                                    | 9/200 [00:00<00:01, 163.63it/s]\u001b[A\n",
      " 69%|███████████████████████████████████████████████████████████████████████████████████▎                                    | 694/1000 [01:08<00:28, 10.61it/s]"
     ]
    },
    {
     "name": "stdout",
     "output_type": "stream",
     "text": [
      "DONE\n",
      "DONE\n",
      "Actor_loss 1.15882443\n",
      "Critic_loss 1.00000300\n",
      "Rewards mean 1.00000000 Rewards std 0.00000000 Rewards sum 10.00000000\n"
     ]
    },
    {
     "name": "stderr",
     "output_type": "stream",
     "text": [
      "\n",
      "  6%|███████▊                                                                                                                 | 13/200 [00:00<00:00, 194.98it/s]\u001b[A\n",
      " 70%|███████████████████████████████████████████████████████████████████████████████████▌                                    | 696/1000 [01:08<00:26, 11.64it/s]"
     ]
    },
    {
     "name": "stdout",
     "output_type": "stream",
     "text": [
      "DONE\n",
      "DONE\n",
      "Actor_loss 1.33372527\n",
      "Critic_loss 1.00000130\n",
      "Rewards mean 1.00000000 Rewards std 0.00000000 Rewards sum 14.00000000\n"
     ]
    },
    {
     "name": "stderr",
     "output_type": "stream",
     "text": [
      "\n",
      "  8%|█████████▋                                                                                                               | 16/200 [00:00<00:01, 180.39it/s]\u001b[A\n",
      " 70%|███████████████████████████████████████████████████████████████████████████████████▌                                    | 696/1000 [01:08<00:26, 11.64it/s]"
     ]
    },
    {
     "name": "stdout",
     "output_type": "stream",
     "text": [
      "DONE\n",
      "DONE\n",
      "Actor_loss 1.18862560\n",
      "Critic_loss 1.00000241\n",
      "Rewards mean 1.00000000 Rewards std 0.00000000 Rewards sum 17.00000000\n"
     ]
    },
    {
     "name": "stderr",
     "output_type": "stream",
     "text": [
      "\n",
      "  0%|                                                                                                                                   | 0/200 [00:00<?, ?it/s]\u001b[A\n",
      " 16%|███████████████████▎                                                                                                     | 32/200 [00:00<00:00, 192.70it/s]\u001b[A\n",
      " 70%|███████████████████████████████████████████████████████████████████████████████████▊                                    | 698/1000 [01:09<00:30, 10.00it/s]"
     ]
    },
    {
     "name": "stdout",
     "output_type": "stream",
     "text": [
      "DONE\n",
      "DONE\n",
      "Actor_loss 1.39074228\n",
      "Critic_loss 1.00000066\n",
      "Rewards mean 1.00000000 Rewards std 0.00000000 Rewards sum 33.00000000\n"
     ]
    },
    {
     "name": "stderr",
     "output_type": "stream",
     "text": [
      "\n",
      "  6%|███████▎                                                                                                                 | 12/200 [00:00<00:00, 194.11it/s]\u001b[A\n",
      " 70%|███████████████████████████████████████████████████████████████████████████████████▊                                    | 698/1000 [01:09<00:30, 10.00it/s]"
     ]
    },
    {
     "name": "stdout",
     "output_type": "stream",
     "text": [
      "DONE\n",
      "DONE\n",
      "Actor_loss 1.18867066\n",
      "Critic_loss 1.00000248\n",
      "Rewards mean 1.00000000 Rewards std 0.00000000 Rewards sum 13.00000000\n"
     ]
    },
    {
     "name": "stderr",
     "output_type": "stream",
     "text": [
      "\n",
      "  5%|██████                                                                                                                   | 10/200 [00:00<00:01, 180.83it/s]\u001b[A\n",
      " 70%|████████████████████████████████████████████████████████████████████████████████████                                    | 700/1000 [01:09<00:26, 11.20it/s]"
     ]
    },
    {
     "name": "stdout",
     "output_type": "stream",
     "text": [
      "DONE\n",
      "DONE\n",
      "Actor_loss 1.67334302\n",
      "Critic_loss 0.99999651\n",
      "Rewards mean 1.00000000 Rewards std 0.00000000 Rewards sum 11.00000000\n"
     ]
    },
    {
     "name": "stderr",
     "output_type": "stream",
     "text": [
      "\n",
      "  6%|███████▎                                                                                                                 | 12/200 [00:00<00:01, 172.71it/s]\u001b[A\n",
      " 70%|████████████████████████████████████████████████████████████████████████████████████                                    | 700/1000 [01:09<00:26, 11.20it/s]"
     ]
    },
    {
     "name": "stdout",
     "output_type": "stream",
     "text": [
      "DONE\n",
      "DONE\n",
      "Actor_loss 1.18883518\n",
      "Critic_loss 1.00000260\n",
      "Rewards mean 1.00000000 Rewards std 0.00000000 Rewards sum 13.00000000\n"
     ]
    },
    {
     "name": "stderr",
     "output_type": "stream",
     "text": [
      "\n",
      "  0%|                                                                                                                                   | 0/200 [00:00<?, ?it/s]\u001b[A\n",
      " 11%|█████████████▎                                                                                                           | 22/200 [00:00<00:00, 214.22it/s]\u001b[A"
     ]
    },
    {
     "name": "stdout",
     "output_type": "stream",
     "text": [
      "DONE\n"
     ]
    },
    {
     "name": "stderr",
     "output_type": "stream",
     "text": [
      " 18%|██████████████████████▍                                                                                                  | 37/200 [00:00<00:00, 186.90it/s]\n",
      " 70%|████████████████████████████████████████████████████████████████████████████████████▏                                   | 702/1000 [01:09<00:31,  9.59it/s]"
     ]
    },
    {
     "name": "stdout",
     "output_type": "stream",
     "text": [
      "DONE\n",
      "Actor_loss 1.29789443\n",
      "Critic_loss 1.00000149\n",
      "Rewards mean 1.00000000 Rewards std 0.00000000 Rewards sum 38.00000000\n"
     ]
    },
    {
     "name": "stderr",
     "output_type": "stream",
     "text": [
      "\n",
      "  0%|                                                                                                                                   | 0/200 [00:00<?, ?it/s]\u001b[A\n",
      " 12%|█████████████▉                                                                                                           | 23/200 [00:00<00:00, 191.25it/s]\u001b[A\n",
      " 70%|████████████████████████████████████████████████████████████████████████████████████▏                                   | 702/1000 [01:09<00:31,  9.59it/s]"
     ]
    },
    {
     "name": "stdout",
     "output_type": "stream",
     "text": [
      "DONE\n",
      "DONE\n",
      "Actor_loss 1.48128265\n",
      "Critic_loss 1.00000002\n",
      "Rewards mean 1.00000000 Rewards std 0.00000000 Rewards sum 24.00000000\n"
     ]
    },
    {
     "name": "stderr",
     "output_type": "stream",
     "text": [
      "\n",
      "  0%|                                                                                                                                   | 0/200 [00:00<?, ?it/s]\u001b[A\n",
      " 12%|███████████████▏                                                                                                         | 25/200 [00:00<00:00, 176.08it/s]\u001b[A\n",
      " 70%|████████████████████████████████████████████████████████████████████████████████████▍                                   | 704/1000 [01:09<00:33,  8.74it/s]"
     ]
    },
    {
     "name": "stdout",
     "output_type": "stream",
     "text": [
      "DONE\n",
      "DONE\n",
      "Actor_loss 1.35023436\n",
      "Critic_loss 1.00000102\n",
      "Rewards mean 1.00000000 Rewards std 0.00000000 Rewards sum 26.00000000\n"
     ]
    },
    {
     "name": "stderr",
     "output_type": "stream",
     "text": [
      "\n",
      "  0%|                                                                                                                                   | 0/200 [00:00<?, ?it/s]\u001b[A\n",
      " 10%|███████████▍                                                                                                             | 19/200 [00:00<00:00, 188.71it/s]\u001b[A\n",
      " 19%|██████████████████████▉                                                                                                  | 38/200 [00:00<00:00, 173.82it/s]\u001b[A\n",
      " 70%|████████████████████████████████████████████████████████████████████████████████████▌                                   | 705/1000 [01:10<00:39,  7.47it/s]"
     ]
    },
    {
     "name": "stdout",
     "output_type": "stream",
     "text": [
      "DONE\n",
      "DONE\n",
      "Actor_loss 1.31627653\n",
      "Critic_loss 1.00000125\n",
      "Rewards mean 1.00000000 Rewards std 0.00000000 Rewards sum 39.00000000\n"
     ]
    },
    {
     "name": "stderr",
     "output_type": "stream",
     "text": [
      "\n",
      "  0%|                                                                                                                                   | 0/200 [00:00<?, ?it/s]\u001b[A\n",
      " 18%|█████████████████████▊                                                                                                   | 36/200 [00:00<00:00, 191.95it/s]\u001b[A\n",
      " 70%|████████████████████████████████████████████████████████████████████████████████████▌                                   | 705/1000 [01:10<00:39,  7.47it/s]"
     ]
    },
    {
     "name": "stdout",
     "output_type": "stream",
     "text": [
      "DONE\n",
      "DONE\n",
      "Actor_loss 1.30841451\n",
      "Critic_loss 1.00000141\n",
      "Rewards mean 1.00000000 Rewards std 0.00000000 Rewards sum 37.00000000\n"
     ]
    },
    {
     "name": "stderr",
     "output_type": "stream",
     "text": [
      " 71%|████████████████████████████████████████████████████████████████████████████████████▋                                   | 706/1000 [01:10<00:42,  6.86it/s]\n",
      "  8%|██████████▎                                                                                                              | 17/200 [00:00<00:01, 177.20it/s]\u001b[A\n",
      " 71%|████████████████████████████████████████████████████████████████████████████████████▊                                   | 707/1000 [01:10<00:39,  7.35it/s]"
     ]
    },
    {
     "name": "stdout",
     "output_type": "stream",
     "text": [
      "DONE\n",
      "DONE\n",
      "Actor_loss 1.36287775\n",
      "Critic_loss 1.00000098\n",
      "Rewards mean 1.00000000 Rewards std 0.00000000 Rewards sum 18.00000000\n"
     ]
    },
    {
     "name": "stderr",
     "output_type": "stream",
     "text": [
      "\n",
      "  0%|                                                                                                                                   | 0/200 [00:00<?, ?it/s]\u001b[A\n",
      "  9%|██████████▉                                                                                                              | 18/200 [00:00<00:01, 176.80it/s]\u001b[A\n",
      " 20%|████████████████████████▏                                                                                                | 40/200 [00:00<00:00, 182.52it/s]\u001b[A\n",
      " 71%|████████████████████████████████████████████████████████████████████████████████████▉                                   | 708/1000 [01:10<00:46,  6.34it/s]"
     ]
    },
    {
     "name": "stdout",
     "output_type": "stream",
     "text": [
      "DONE\n",
      "DONE\n",
      "Actor_loss 1.26957677\n",
      "Critic_loss 1.00000153\n",
      "Rewards mean 1.00000000 Rewards std 0.00000000 Rewards sum 41.00000000\n"
     ]
    },
    {
     "name": "stderr",
     "output_type": "stream",
     "text": [
      "\n",
      " 10%|███████████▍                                                                                                             | 19/200 [00:00<00:00, 191.82it/s]\u001b[A\n",
      " 71%|█████████████████████████████████████████████████████████████████████████████████████                                   | 709/1000 [01:10<00:42,  6.92it/s]"
     ]
    },
    {
     "name": "stdout",
     "output_type": "stream",
     "text": [
      "DONE\n",
      "DONE\n",
      "Actor_loss 1.31627626\n",
      "Critic_loss 1.00000143\n",
      "Rewards mean 1.00000000 Rewards std 0.00000000 Rewards sum 20.00000000\n"
     ]
    },
    {
     "name": "stderr",
     "output_type": "stream",
     "text": [
      "\n",
      "  6%|██████▋                                                                                                                  | 11/200 [00:00<00:01, 164.88it/s]\u001b[A\n",
      " 71%|█████████████████████████████████████████████████████████████████████████████████████                                   | 709/1000 [01:10<00:42,  6.92it/s]"
     ]
    },
    {
     "name": "stdout",
     "output_type": "stream",
     "text": [
      "DONE\n",
      "DONE\n",
      "Actor_loss 1.21329941\n",
      "Critic_loss 1.00000242\n",
      "Rewards mean 1.00000000 Rewards std 0.00000000 Rewards sum 12.00000000\n"
     ]
    },
    {
     "name": "stderr",
     "output_type": "stream",
     "text": [
      "\n",
      "  6%|██████▋                                                                                                                  | 11/200 [00:00<00:01, 180.85it/s]\u001b[A\n",
      " 71%|█████████████████████████████████████████████████████████████████████████████████████▎                                  | 711/1000 [01:10<00:32,  8.82it/s]"
     ]
    },
    {
     "name": "stdout",
     "output_type": "stream",
     "text": [
      "DONE\n",
      "DONE\n",
      "Actor_loss 1.11530231\n",
      "Critic_loss 1.00000320\n",
      "Rewards mean 1.00000000 Rewards std 0.00000000 Rewards sum 12.00000000\n"
     ]
    },
    {
     "name": "stderr",
     "output_type": "stream",
     "text": [
      "\n",
      "  0%|                                                                                                                                   | 0/200 [00:00<?, ?it/s]\u001b[A\n",
      " 10%|████████████                                                                                                             | 20/200 [00:00<00:01, 155.18it/s]\u001b[A\n",
      " 71%|█████████████████████████████████████████████████████████████████████████████████████▍                                  | 712/1000 [01:10<00:34,  8.45it/s]"
     ]
    },
    {
     "name": "stdout",
     "output_type": "stream",
     "text": [
      "DONE\n",
      "DONE\n",
      "Actor_loss 1.67306421\n",
      "Critic_loss 0.99999607\n",
      "Rewards mean 1.00000000 Rewards std 0.00000000 Rewards sum 21.00000000\n"
     ]
    },
    {
     "name": "stderr",
     "output_type": "stream",
     "text": [
      "\n",
      "  6%|███████▎                                                                                                                 | 12/200 [00:00<00:01, 159.74it/s]\u001b[A\n",
      " 71%|█████████████████████████████████████████████████████████████████████████████████████▍                                  | 712/1000 [01:10<00:34,  8.45it/s]"
     ]
    },
    {
     "name": "stdout",
     "output_type": "stream",
     "text": [
      "DONE\n",
      "DONE\n",
      "Actor_loss 1.18898909\n",
      "Critic_loss 1.00000257\n",
      "Rewards mean 1.00000000 Rewards std 0.00000000 Rewards sum 13.00000000\n"
     ]
    },
    {
     "name": "stderr",
     "output_type": "stream",
     "text": [
      "\n",
      "  8%|█████████                                                                                                                | 15/200 [00:00<00:00, 190.32it/s]\u001b[A\n",
      " 71%|█████████████████████████████████████████████████████████████████████████████████████▋                                  | 714/1000 [01:11<00:29,  9.60it/s]"
     ]
    },
    {
     "name": "stdout",
     "output_type": "stream",
     "text": [
      "DONE\n",
      "DONE\n",
      "Actor_loss 1.27855261\n",
      "Critic_loss 1.00000184\n",
      "Rewards mean 1.00000000 Rewards std 0.00000000 Rewards sum 16.00000000\n"
     ]
    },
    {
     "name": "stderr",
     "output_type": "stream",
     "text": [
      "\n",
      "  6%|███████▎                                                                                                                 | 12/200 [00:00<00:01, 176.54it/s]\u001b[A\n",
      " 71%|█████████████████████████████████████████████████████████████████████████████████████▋                                  | 714/1000 [01:11<00:29,  9.60it/s]"
     ]
    },
    {
     "name": "stdout",
     "output_type": "stream",
     "text": [
      "DONE\n",
      "DONE\n",
      "Actor_loss 1.18888464\n",
      "Critic_loss 1.00000266\n",
      "Rewards mean 1.00000000 Rewards std 0.00000000 Rewards sum 13.00000000\n"
     ]
    },
    {
     "name": "stderr",
     "output_type": "stream",
     "text": [
      "\n",
      "  6%|███████▊                                                                                                                 | 13/200 [00:00<00:01, 186.34it/s]\u001b[A\n",
      " 72%|█████████████████████████████████████████████████████████████████████████████████████▉                                  | 716/1000 [01:11<00:26, 10.71it/s]"
     ]
    },
    {
     "name": "stdout",
     "output_type": "stream",
     "text": [
      "DONE\n",
      "DONE\n",
      "Actor_loss 1.16807133\n",
      "Critic_loss 1.00000267\n",
      "Rewards mean 1.00000000 Rewards std 0.00000000 Rewards sum 14.00000000\n"
     ]
    },
    {
     "name": "stderr",
     "output_type": "stream",
     "text": [
      "\n",
      "  0%|                                                                                                                                   | 0/200 [00:00<?, ?it/s]\u001b[A"
     ]
    },
    {
     "name": "stdout",
     "output_type": "stream",
     "text": [
      "DONE\n"
     ]
    },
    {
     "name": "stderr",
     "output_type": "stream",
     "text": [
      "  4%|████▉                                                                                                                     | 8/200 [00:00<00:01, 179.80it/s]\n",
      " 72%|█████████████████████████████████████████████████████████████████████████████████████▉                                  | 716/1000 [01:11<00:26, 10.71it/s]"
     ]
    },
    {
     "name": "stdout",
     "output_type": "stream",
     "text": [
      "DONE\n",
      "Actor_loss 1.05393762\n",
      "Critic_loss 1.00000413\n",
      "Rewards mean 1.00000000 Rewards std 0.00000000 Rewards sum 9.00000000\n"
     ]
    },
    {
     "name": "stderr",
     "output_type": "stream",
     "text": [
      "\n",
      "  6%|██████▋                                                                                                                  | 11/200 [00:00<00:00, 197.74it/s]\u001b[A\n",
      " 72%|██████████████████████████████████████████████████████████████████████████████████████▏                                 | 718/1000 [01:11<00:22, 12.41it/s]"
     ]
    },
    {
     "name": "stdout",
     "output_type": "stream",
     "text": [
      "DONE\n",
      "DONE\n",
      "Actor_loss 1.01681906\n",
      "Critic_loss 1.00000397\n",
      "Rewards mean 1.00000000 Rewards std 0.00000000 Rewards sum 12.00000000\n"
     ]
    },
    {
     "name": "stderr",
     "output_type": "stream",
     "text": [
      "\n",
      "  0%|                                                                                                                                   | 0/200 [00:00<?, ?it/s]\u001b[A\n",
      " 14%|████████████████▉                                                                                                        | 28/200 [00:00<00:00, 187.09it/s]\u001b[A\n",
      " 72%|██████████████████████████████████████████████████████████████████████████████████████▏                                 | 718/1000 [01:11<00:22, 12.41it/s]"
     ]
    },
    {
     "name": "stdout",
     "output_type": "stream",
     "text": [
      "DONE\n",
      "DONE\n",
      "Actor_loss 1.41974216\n",
      "Critic_loss 1.00000033\n",
      "Rewards mean 1.00000000 Rewards std 0.00000000 Rewards sum 29.00000000\n"
     ]
    },
    {
     "name": "stderr",
     "output_type": "stream",
     "text": [
      "\n",
      "  0%|                                                                                                                                   | 0/200 [00:00<?, ?it/s]\u001b[A\n",
      " 16%|███████████████████▎                                                                                                     | 32/200 [00:00<00:00, 194.48it/s]\u001b[A\n",
      " 72%|██████████████████████████████████████████████████████████████████████████████████████▍                                 | 720/1000 [01:11<00:30,  9.31it/s]"
     ]
    },
    {
     "name": "stdout",
     "output_type": "stream",
     "text": [
      "DONE\n",
      "DONE\n",
      "Actor_loss 1.52534470\n",
      "Critic_loss 0.99999906\n",
      "Rewards mean 1.00000000 Rewards std 0.00000000 Rewards sum 33.00000000\n"
     ]
    },
    {
     "name": "stderr",
     "output_type": "stream",
     "text": [
      "\n",
      "  5%|██████                                                                                                                   | 10/200 [00:00<00:01, 167.11it/s]\u001b[A\n",
      " 72%|██████████████████████████████████████████████████████████████████████████████████████▍                                 | 720/1000 [01:11<00:30,  9.31it/s]"
     ]
    },
    {
     "name": "stdout",
     "output_type": "stream",
     "text": [
      "DONE\n",
      "DONE\n",
      "Actor_loss 1.13501150\n",
      "Critic_loss 1.00000310\n",
      "Rewards mean 1.00000000 Rewards std 0.00000000 Rewards sum 11.00000000\n"
     ]
    },
    {
     "name": "stderr",
     "output_type": "stream",
     "text": [
      "\n",
      "  0%|                                                                                                                                   | 0/200 [00:00<?, ?it/s]\u001b[A\n",
      " 10%|████████████▋                                                                                                            | 21/200 [00:00<00:00, 202.94it/s]\u001b[A"
     ]
    },
    {
     "name": "stdout",
     "output_type": "stream",
     "text": [
      "DONE\n"
     ]
    },
    {
     "name": "stderr",
     "output_type": "stream",
     "text": [
      " 20%|███████████████████████▌                                                                                                 | 39/200 [00:00<00:00, 200.53it/s]\n",
      " 72%|██████████████████████████████████████████████████████████████████████████████████████▋                                 | 722/1000 [01:11<00:32,  8.65it/s]"
     ]
    },
    {
     "name": "stdout",
     "output_type": "stream",
     "text": [
      "DONE\n",
      "Actor_loss 1.41646277\n",
      "Critic_loss 1.00000039\n",
      "Rewards mean 1.00000000 Rewards std 0.00000000 Rewards sum 40.00000000\n"
     ]
    },
    {
     "name": "stderr",
     "output_type": "stream",
     "text": [
      "\n",
      "  7%|████████▍                                                                                                                | 14/200 [00:00<00:01, 172.47it/s]\u001b[A\n",
      " 72%|██████████████████████████████████████████████████████████████████████████████████████▋                                 | 722/1000 [01:12<00:32,  8.65it/s]"
     ]
    },
    {
     "name": "stdout",
     "output_type": "stream",
     "text": [
      "DONE\n",
      "DONE\n",
      "Actor_loss 1.15052843\n",
      "Critic_loss 1.00000284\n",
      "Rewards mean 1.00000000 Rewards std 0.00000000 Rewards sum 15.00000000\n"
     ]
    },
    {
     "name": "stderr",
     "output_type": "stream",
     "text": [
      "\n",
      "  6%|██████▋                                                                                                                  | 11/200 [00:00<00:01, 179.93it/s]\u001b[A\n",
      " 72%|██████████████████████████████████████████████████████████████████████████████████████▉                                 | 724/1000 [01:12<00:28,  9.64it/s]"
     ]
    },
    {
     "name": "stdout",
     "output_type": "stream",
     "text": [
      "DONE\n",
      "DONE\n",
      "Actor_loss 1.11539775\n",
      "Critic_loss 1.00000315\n",
      "Rewards mean 1.00000000 Rewards std 0.00000000 Rewards sum 12.00000000\n"
     ]
    },
    {
     "name": "stderr",
     "output_type": "stream",
     "text": [
      "\n",
      "  4%|█████▍                                                                                                                    | 9/200 [00:00<00:01, 158.06it/s]\u001b[A\n",
      " 72%|██████████████████████████████████████████████████████████████████████████████████████▉                                 | 724/1000 [01:12<00:28,  9.64it/s]"
     ]
    },
    {
     "name": "stdout",
     "output_type": "stream",
     "text": [
      "DONE\n",
      "DONE\n",
      "Actor_loss 1.03906242\n",
      "Critic_loss 1.00000411\n",
      "Rewards mean 1.00000000 Rewards std 0.00000000 Rewards sum 10.00000000\n"
     ]
    },
    {
     "name": "stderr",
     "output_type": "stream",
     "text": [
      "\n",
      "  9%|██████████▉                                                                                                              | 18/200 [00:00<00:00, 182.47it/s]\u001b[A\n",
      " 73%|███████████████████████████████████████████████████████████████████████████████████████                                 | 726/1000 [01:12<00:26, 10.23it/s]"
     ]
    },
    {
     "name": "stdout",
     "output_type": "stream",
     "text": [
      "DONE\n",
      "DONE\n",
      "Actor_loss 1.33834017\n",
      "Critic_loss 1.00000125\n",
      "Rewards mean 1.00000000 Rewards std 0.00000000 Rewards sum 19.00000000\n"
     ]
    },
    {
     "name": "stderr",
     "output_type": "stream",
     "text": [
      "\n",
      "  4%|█████▍                                                                                                                    | 9/200 [00:00<00:01, 143.39it/s]\u001b[A\n",
      " 73%|███████████████████████████████████████████████████████████████████████████████████████                                 | 726/1000 [01:12<00:26, 10.23it/s]"
     ]
    },
    {
     "name": "stdout",
     "output_type": "stream",
     "text": [
      "DONE\n",
      "DONE\n",
      "Actor_loss 1.75719261\n",
      "Critic_loss 0.99999501\n",
      "Rewards mean 1.00000000 Rewards std 0.00000000 Rewards sum 10.00000000\n"
     ]
    },
    {
     "name": "stderr",
     "output_type": "stream",
     "text": [
      "\n",
      "  0%|                                                                                                                                   | 0/200 [00:00<?, ?it/s]\u001b[A\n",
      " 10%|████████████                                                                                                             | 20/200 [00:00<00:00, 194.03it/s]\u001b[A\n",
      " 20%|████████████████████████▊                                                                                                | 41/200 [00:00<00:00, 176.28it/s]\u001b[A\n",
      " 73%|███████████████████████████████████████████████████████████████████████████████████████▎                                | 728/1000 [01:12<00:31,  8.71it/s]"
     ]
    },
    {
     "name": "stdout",
     "output_type": "stream",
     "text": [
      "DONE\n",
      "DONE\n",
      "Actor_loss 1.36599448\n",
      "Critic_loss 1.00000107\n",
      "Rewards mean 1.00000000 Rewards std 0.00000000 Rewards sum 42.00000000\n"
     ]
    },
    {
     "name": "stderr",
     "output_type": "stream",
     "text": [
      "\n",
      "  0%|                                                                                                                                   | 0/200 [00:00<?, ?it/s]\u001b[A\n",
      " 15%|██████████████████▏                                                                                                      | 30/200 [00:00<00:00, 182.50it/s]\u001b[A\n",
      " 73%|███████████████████████████████████████████████████████████████████████████████████████▍                                | 729/1000 [01:12<00:33,  8.02it/s]"
     ]
    },
    {
     "name": "stdout",
     "output_type": "stream",
     "text": [
      "DONE\n",
      "DONE\n",
      "Actor_loss 1.35023330\n",
      "Critic_loss 1.00000109\n",
      "Rewards mean 1.00000000 Rewards std 0.00000000 Rewards sum 31.00000000\n"
     ]
    },
    {
     "name": "stderr",
     "output_type": "stream",
     "text": [
      "\n",
      "  6%|███████▊                                                                                                                 | 13/200 [00:00<00:01, 170.73it/s]\u001b[A\n",
      " 73%|███████████████████████████████████████████████████████████████████████████████████████▍                                | 729/1000 [01:12<00:33,  8.02it/s]"
     ]
    },
    {
     "name": "stdout",
     "output_type": "stream",
     "text": [
      "DONE\n",
      "DONE\n",
      "Actor_loss 1.08549282\n",
      "Critic_loss 1.00000339\n",
      "Rewards mean 1.00000000 Rewards std 0.00000000 Rewards sum 14.00000000\n"
     ]
    },
    {
     "name": "stderr",
     "output_type": "stream",
     "text": [
      "\n",
      "  0%|                                                                                                                                   | 0/200 [00:00<?, ?it/s]\u001b[A\n",
      " 16%|██████████████████▊                                                                                                      | 31/200 [00:00<00:00, 194.91it/s]\u001b[A\n",
      " 73%|███████████████████████████████████████████████████████████████████████████████████████▋                                | 731/1000 [01:12<00:33,  8.05it/s]"
     ]
    },
    {
     "name": "stdout",
     "output_type": "stream",
     "text": [
      "DONE\n",
      "DONE\n",
      "Actor_loss 1.40573847\n",
      "Critic_loss 1.00000049\n",
      "Rewards mean 1.00000000 Rewards std 0.00000000 Rewards sum 32.00000000\n"
     ]
    },
    {
     "name": "stderr",
     "output_type": "stream",
     "text": [
      "\n",
      "  6%|███████▊                                                                                                                 | 13/200 [00:00<00:01, 167.22it/s]\u001b[A\n",
      " 73%|███████████████████████████████████████████████████████████████████████████████████████▋                                | 731/1000 [01:13<00:33,  8.05it/s]"
     ]
    },
    {
     "name": "stdout",
     "output_type": "stream",
     "text": [
      "DONE\n",
      "DONE\n",
      "Actor_loss 1.33368424\n",
      "Critic_loss 1.00000130\n",
      "Rewards mean 1.00000000 Rewards std 0.00000000 Rewards sum 14.00000000\n"
     ]
    },
    {
     "name": "stderr",
     "output_type": "stream",
     "text": [
      "\n",
      "  4%|█████▍                                                                                                                    | 9/200 [00:00<00:01, 169.33it/s]\u001b[A\n",
      " 73%|███████████████████████████████████████████████████████████████████████████████████████▉                                | 733/1000 [01:13<00:28,  9.36it/s]"
     ]
    },
    {
     "name": "stdout",
     "output_type": "stream",
     "text": [
      "DONE\n",
      "DONE\n",
      "Actor_loss 1.15908201\n",
      "Critic_loss 1.00000319\n",
      "Rewards mean 1.00000000 Rewards std 0.00000000 Rewards sum 10.00000000\n"
     ]
    },
    {
     "name": "stderr",
     "output_type": "stream",
     "text": [
      "\n",
      "  0%|                                                                                                                                   | 0/200 [00:00<?, ?it/s]\u001b[A\n",
      " 10%|████████████▋                                                                                                            | 21/200 [00:00<00:01, 168.39it/s]\u001b[A\n",
      " 73%|███████████████████████████████████████████████████████████████████████████████████████▉                                | 733/1000 [01:13<00:28,  9.36it/s]"
     ]
    },
    {
     "name": "stdout",
     "output_type": "stream",
     "text": [
      "DONE\n",
      "DONE\n",
      "Actor_loss 1.27852719\n",
      "Critic_loss 1.00000180\n",
      "Rewards mean 1.00000000 Rewards std 0.00000000 Rewards sum 22.00000000\n"
     ]
    },
    {
     "name": "stderr",
     "output_type": "stream",
     "text": [
      "\n",
      "  5%|██████                                                                                                                   | 10/200 [00:00<00:01, 179.67it/s]\u001b[A\n",
      " 74%|████████████████████████████████████████████████████████████████████████████████████████▏                               | 735/1000 [01:13<00:27,  9.66it/s]"
     ]
    },
    {
     "name": "stdout",
     "output_type": "stream",
     "text": [
      "DONE\n",
      "DONE\n",
      "Actor_loss 1.24265728\n",
      "Critic_loss 1.00000234\n",
      "Rewards mean 1.00000000 Rewards std 0.00000000 Rewards sum 11.00000000\n"
     ]
    },
    {
     "name": "stderr",
     "output_type": "stream",
     "text": [
      "\n",
      "  4%|█████▍                                                                                                                    | 9/200 [00:00<00:01, 168.54it/s]\u001b[A\n",
      " 74%|████████████████████████████████████████████████████████████████████████████████████████▏                               | 735/1000 [01:13<00:27,  9.66it/s]"
     ]
    },
    {
     "name": "stdout",
     "output_type": "stream",
     "text": [
      "DONE\n",
      "DONE\n",
      "Actor_loss 1.15887944\n",
      "Critic_loss 1.00000311\n",
      "Rewards mean 1.00000000 Rewards std 0.00000000 Rewards sum 10.00000000\n"
     ]
    },
    {
     "name": "stderr",
     "output_type": "stream",
     "text": [
      "\n",
      "  0%|                                                                                                                                   | 0/200 [00:00<?, ?it/s]\u001b[A"
     ]
    },
    {
     "name": "stdout",
     "output_type": "stream",
     "text": [
      "DONE\n"
     ]
    },
    {
     "name": "stderr",
     "output_type": "stream",
     "text": [
      "  6%|███████▊                                                                                                                 | 13/200 [00:00<00:01, 177.66it/s]\n",
      " 74%|████████████████████████████████████████████████████████████████████████████████████████▍                               | 737/1000 [01:13<00:24, 10.80it/s]"
     ]
    },
    {
     "name": "stdout",
     "output_type": "stream",
     "text": [
      "DONE\n",
      "Actor_loss 1.16795738\n",
      "Critic_loss 1.00000287\n",
      "Rewards mean 1.00000000 Rewards std 0.00000000 Rewards sum 14.00000000\n"
     ]
    },
    {
     "name": "stderr",
     "output_type": "stream",
     "text": [
      "\n",
      "  7%|████████▍                                                                                                                | 14/200 [00:00<00:01, 172.28it/s]\u001b[A\n",
      " 74%|████████████████████████████████████████████████████████████████████████████████████████▍                               | 737/1000 [01:13<00:24, 10.80it/s]"
     ]
    },
    {
     "name": "stdout",
     "output_type": "stream",
     "text": [
      "DONE\n",
      "DONE\n",
      "Actor_loss 1.22709023\n",
      "Critic_loss 1.00000220\n",
      "Rewards mean 1.00000000 Rewards std 0.00000000 Rewards sum 15.00000000\n"
     ]
    },
    {
     "name": "stderr",
     "output_type": "stream",
     "text": [
      "\n",
      "  0%|                                                                                                                                   | 0/200 [00:00<?, ?it/s]\u001b[A\n",
      " 12%|███████████████▏                                                                                                         | 25/200 [00:00<00:00, 195.14it/s]\u001b[A\n",
      " 74%|████████████████████████████████████████████████████████████████████████████████████████▋                               | 739/1000 [01:13<00:25, 10.16it/s]"
     ]
    },
    {
     "name": "stdout",
     "output_type": "stream",
     "text": [
      "DONE\n",
      "DONE\n",
      "Actor_loss 1.30719086\n",
      "Critic_loss 1.00000154\n",
      "Rewards mean 1.00000000 Rewards std 0.00000000 Rewards sum 26.00000000\n"
     ]
    },
    {
     "name": "stderr",
     "output_type": "stream",
     "text": [
      "\n",
      "  8%|█████████▋                                                                                                               | 16/200 [00:00<00:00, 185.99it/s]\u001b[A\n",
      " 74%|████████████████████████████████████████████████████████████████████████████████████████▋                               | 739/1000 [01:13<00:25, 10.16it/s]"
     ]
    },
    {
     "name": "stdout",
     "output_type": "stream",
     "text": [
      "DONE\n",
      "DONE\n",
      "Actor_loss 1.39076949\n",
      "Critic_loss 1.00000063\n",
      "Rewards mean 1.00000000 Rewards std 0.00000000 Rewards sum 17.00000000\n"
     ]
    },
    {
     "name": "stderr",
     "output_type": "stream",
     "text": [
      "\n",
      "  6%|███████▎                                                                                                                 | 12/200 [00:00<00:01, 178.14it/s]\u001b[A\n",
      " 74%|████████████████████████████████████████████████████████████████████████████████████████▉                               | 741/1000 [01:13<00:24, 10.68it/s]"
     ]
    },
    {
     "name": "stdout",
     "output_type": "stream",
     "text": [
      "DONE\n",
      "DONE\n",
      "Actor_loss 1.27845354\n",
      "Critic_loss 1.00000197\n",
      "Rewards mean 1.00000000 Rewards std 0.00000000 Rewards sum 13.00000000\n"
     ]
    },
    {
     "name": "stderr",
     "output_type": "stream",
     "text": [
      "\n",
      "  0%|                                                                                                                                   | 0/200 [00:00<?, ?it/s]\u001b[A\n",
      " 16%|██████████████████▊                                                                                                      | 31/200 [00:00<00:00, 189.92it/s]\u001b[A\n",
      " 74%|████████████████████████████████████████████████████████████████████████████████████████▉                               | 741/1000 [01:14<00:24, 10.68it/s]"
     ]
    },
    {
     "name": "stdout",
     "output_type": "stream",
     "text": [
      "DONE\n",
      "DONE\n",
      "Actor_loss 1.40592211\n",
      "Critic_loss 1.00000059\n",
      "Rewards mean 1.00000000 Rewards std 0.00000000 Rewards sum 32.00000000\n"
     ]
    },
    {
     "name": "stderr",
     "output_type": "stream",
     "text": [
      "\n",
      "  8%|█████████                                                                                                                | 15/200 [00:00<00:00, 186.49it/s]\u001b[A\n",
      " 74%|█████████████████████████████████████████████████████████████████████████████████████████▏                              | 743/1000 [01:14<00:26,  9.59it/s]"
     ]
    },
    {
     "name": "stdout",
     "output_type": "stream",
     "text": [
      "DONE\n",
      "DONE\n",
      "Actor_loss 1.27848060\n",
      "Critic_loss 1.00000174\n",
      "Rewards mean 1.00000000 Rewards std 0.00000000 Rewards sum 16.00000000\n"
     ]
    },
    {
     "name": "stderr",
     "output_type": "stream",
     "text": [
      "\n",
      "  6%|███████▊                                                                                                                 | 13/200 [00:00<00:01, 184.68it/s]\u001b[A\n",
      " 74%|█████████████████████████████████████████████████████████████████████████████████████████▏                              | 743/1000 [01:14<00:26,  9.59it/s]"
     ]
    },
    {
     "name": "stdout",
     "output_type": "stream",
     "text": [
      "DONE\n",
      "DONE\n",
      "Actor_loss 1.08493241\n",
      "Critic_loss 1.00000351\n",
      "Rewards mean 1.00000000 Rewards std 0.00000000 Rewards sum 14.00000000\n"
     ]
    },
    {
     "name": "stderr",
     "output_type": "stream",
     "text": [
      "\n",
      "  6%|███████▎                                                                                                                 | 12/200 [00:00<00:01, 184.15it/s]\u001b[A\n",
      " 74%|█████████████████████████████████████████████████████████████████████████████████████████▍                              | 745/1000 [01:14<00:24, 10.55it/s]"
     ]
    },
    {
     "name": "stdout",
     "output_type": "stream",
     "text": [
      "DONE\n",
      "DONE\n",
      "Actor_loss 1.09847166\n",
      "Critic_loss 1.00000351\n",
      "Rewards mean 1.00000000 Rewards std 0.00000000 Rewards sum 13.00000000\n"
     ]
    },
    {
     "name": "stderr",
     "output_type": "stream",
     "text": [
      "\n",
      "  0%|                                                                                                                                   | 0/200 [00:00<?, ?it/s]\u001b[A\n",
      " 16%|███████████████████▎                                                                                                     | 32/200 [00:00<00:00, 183.69it/s]\u001b[A\n",
      " 74%|█████████████████████████████████████████████████████████████████████████████████████████▍                              | 745/1000 [01:14<00:24, 10.55it/s]"
     ]
    },
    {
     "name": "stdout",
     "output_type": "stream",
     "text": [
      "DONE\n",
      "DONE\n",
      "Actor_loss 1.39086201\n",
      "Critic_loss 1.00000069\n",
      "Rewards mean 1.00000000 Rewards std 0.00000000 Rewards sum 33.00000000\n"
     ]
    },
    {
     "name": "stderr",
     "output_type": "stream",
     "text": [
      "\n",
      "  6%|██████▋                                                                                                                  | 11/200 [00:00<00:01, 156.72it/s]\u001b[A\n",
      " 75%|█████████████████████████████████████████████████████████████████████████████████████████▋                              | 747/1000 [01:14<00:26,  9.55it/s]"
     ]
    },
    {
     "name": "stdout",
     "output_type": "stream",
     "text": [
      "DONE\n",
      "DONE\n",
      "Actor_loss 1.21300216\n",
      "Critic_loss 1.00000257\n",
      "Rewards mean 1.00000000 Rewards std 0.00000000 Rewards sum 12.00000000\n"
     ]
    },
    {
     "name": "stderr",
     "output_type": "stream",
     "text": [
      "\n",
      "  6%|███████▊                                                                                                                 | 13/200 [00:00<00:01, 184.59it/s]\u001b[A\n",
      " 75%|█████████████████████████████████████████████████████████████████████████████████████████▋                              | 747/1000 [01:14<00:26,  9.55it/s]"
     ]
    },
    {
     "name": "stdout",
     "output_type": "stream",
     "text": [
      "DONE\n",
      "DONE\n",
      "Actor_loss 1.16760579\n",
      "Critic_loss 1.00000283\n",
      "Rewards mean 1.00000000 Rewards std 0.00000000 Rewards sum 14.00000000\n"
     ]
    },
    {
     "name": "stderr",
     "output_type": "stream",
     "text": [
      "\n",
      "  0%|                                                                                                                                   | 0/200 [00:00<?, ?it/s]\u001b[A\n",
      " 14%|████████████████▎                                                                                                        | 27/200 [00:00<00:00, 191.01it/s]\u001b[A\n",
      " 75%|█████████████████████████████████████████████████████████████████████████████████████████▉                              | 749/1000 [01:14<00:26,  9.35it/s]"
     ]
    },
    {
     "name": "stdout",
     "output_type": "stream",
     "text": [
      "DONE\n",
      "DONE\n",
      "Actor_loss 1.35838209\n",
      "Critic_loss 1.00000103\n",
      "Rewards mean 1.00000000 Rewards std 0.00000000 Rewards sum 28.00000000\n"
     ]
    },
    {
     "name": "stderr",
     "output_type": "stream",
     "text": [
      "\n",
      "  0%|                                                                                                                                   | 0/200 [00:00<?, ?it/s]\u001b[A\n",
      " 14%|█████████████████▌                                                                                                       | 29/200 [00:00<00:00, 186.22it/s]\u001b[A\n",
      " 75%|██████████████████████████████████████████████████████████████████████████████████████████                              | 750/1000 [01:14<00:29,  8.57it/s]"
     ]
    },
    {
     "name": "stdout",
     "output_type": "stream",
     "text": [
      "DONE\n",
      "DONE\n",
      "Actor_loss 1.32803085\n",
      "Critic_loss 1.00000129\n",
      "Rewards mean 1.00000000 Rewards std 0.00000000 Rewards sum 30.00000000\n"
     ]
    },
    {
     "name": "stderr",
     "output_type": "stream",
     "text": [
      "\n",
      "  0%|                                                                                                                                   | 0/200 [00:00<?, ?it/s]\u001b[A\n",
      " 12%|██████████████▌                                                                                                          | 24/200 [00:00<00:01, 169.22it/s]\u001b[A\n",
      " 75%|██████████████████████████████████████████████████████████████████████████████████████████                              | 751/1000 [01:15<00:30,  8.13it/s]"
     ]
    },
    {
     "name": "stdout",
     "output_type": "stream",
     "text": [
      "DONE\n",
      "DONE\n",
      "Actor_loss 1.45816936\n",
      "Critic_loss 0.99999983\n",
      "Rewards mean 1.00000000 Rewards std 0.00000000 Rewards sum 25.00000000\n"
     ]
    },
    {
     "name": "stderr",
     "output_type": "stream",
     "text": [
      "\n",
      "  6%|███████▊                                                                                                                 | 13/200 [00:00<00:01, 176.54it/s]\u001b[A\n",
      " 75%|██████████████████████████████████████████████████████████████████████████████████████████                              | 751/1000 [01:15<00:30,  8.13it/s]"
     ]
    },
    {
     "name": "stdout",
     "output_type": "stream",
     "text": [
      "DONE\n",
      "DONE\n",
      "Actor_loss 1.25083610\n",
      "Critic_loss 1.00000214\n",
      "Rewards mean 1.00000000 Rewards std 0.00000000 Rewards sum 14.00000000\n"
     ]
    },
    {
     "name": "stderr",
     "output_type": "stream",
     "text": [
      "\n",
      "  6%|██████▋                                                                                                                  | 11/200 [00:00<00:00, 191.90it/s]\u001b[A\n",
      " 75%|██████████████████████████████████████████████████████████████████████████████████████████▎                             | 753/1000 [01:15<00:25,  9.60it/s]"
     ]
    },
    {
     "name": "stdout",
     "output_type": "stream",
     "text": [
      "DONE\n",
      "DONE\n",
      "Actor_loss 1.31112029\n",
      "Critic_loss 1.00000159\n",
      "Rewards mean 1.00000000 Rewards std 0.00000000 Rewards sum 12.00000000\n"
     ]
    },
    {
     "name": "stderr",
     "output_type": "stream",
     "text": [
      "\n",
      " 10%|████████████▋                                                                                                            | 21/200 [00:00<00:00, 202.45it/s]\u001b[A\n",
      " 75%|██████████████████████████████████████████████████████████████████████████████████████████▍                             | 754/1000 [01:15<00:25,  9.49it/s]"
     ]
    },
    {
     "name": "stdout",
     "output_type": "stream",
     "text": [
      "DONE\n",
      "DONE\n",
      "Actor_loss 1.43236231\n",
      "Critic_loss 1.00000017\n",
      "Rewards mean 1.00000000 Rewards std 0.00000000 Rewards sum 22.00000000\n"
     ]
    },
    {
     "name": "stderr",
     "output_type": "stream",
     "text": [
      "\n",
      "  6%|██████▋                                                                                                                  | 11/200 [00:00<00:01, 177.60it/s]\u001b[A\n",
      " 75%|██████████████████████████████████████████████████████████████████████████████████████████▍                             | 754/1000 [01:15<00:25,  9.49it/s]"
     ]
    },
    {
     "name": "stdout",
     "output_type": "stream",
     "text": [
      "DONE\n",
      "DONE\n",
      "Actor_loss 1.31112766\n",
      "Critic_loss 1.00000164\n",
      "Rewards mean 1.00000000 Rewards std 0.00000000 Rewards sum 12.00000000\n"
     ]
    },
    {
     "name": "stderr",
     "output_type": "stream",
     "text": [
      "\n",
      "  6%|███████▊                                                                                                                 | 13/200 [00:00<00:01, 180.94it/s]\u001b[A\n",
      " 76%|██████████████████████████████████████████████████████████████████████████████████████████▋                             | 756/1000 [01:15<00:22, 10.74it/s]"
     ]
    },
    {
     "name": "stdout",
     "output_type": "stream",
     "text": [
      "DONE\n",
      "DONE\n",
      "Actor_loss 1.25090726\n",
      "Critic_loss 1.00000221\n",
      "Rewards mean 1.00000000 Rewards std 0.00000000 Rewards sum 14.00000000\n"
     ]
    },
    {
     "name": "stderr",
     "output_type": "stream",
     "text": [
      "\n",
      "  0%|                                                                                                                                   | 0/200 [00:00<?, ?it/s]\u001b[A\n",
      " 10%|███████████▍                                                                                                             | 19/200 [00:00<00:00, 184.08it/s]\u001b[A"
     ]
    },
    {
     "name": "stdout",
     "output_type": "stream",
     "text": [
      "DONE\n"
     ]
    },
    {
     "name": "stderr",
     "output_type": "stream",
     "text": [
      " 10%|████████████                                                                                                             | 20/200 [00:00<00:01, 173.64it/s]\n",
      " 76%|██████████████████████████████████████████████████████████████████████████████████████████▋                             | 756/1000 [01:15<00:22, 10.74it/s]"
     ]
    },
    {
     "name": "stdout",
     "output_type": "stream",
     "text": [
      "DONE\n",
      "Actor_loss 1.51156500\n",
      "Critic_loss 0.99999928\n",
      "Rewards mean 1.00000000 Rewards std 0.00000000 Rewards sum 21.00000000\n"
     ]
    },
    {
     "name": "stderr",
     "output_type": "stream",
     "text": [
      "\n",
      "  8%|██████████▎                                                                                                              | 17/200 [00:00<00:01, 174.87it/s]\u001b[A\n",
      " 76%|██████████████████████████████████████████████████████████████████████████████████████████▉                             | 758/1000 [01:15<00:24, 10.03it/s]"
     ]
    },
    {
     "name": "stdout",
     "output_type": "stream",
     "text": [
      "DONE\n",
      "DONE\n",
      "Actor_loss 1.23642192\n",
      "Critic_loss 1.00000213\n",
      "Rewards mean 1.00000000 Rewards std 0.00000000 Rewards sum 18.00000000\n"
     ]
    },
    {
     "name": "stderr",
     "output_type": "stream",
     "text": [
      "\n",
      "  0%|                                                                                                                                   | 0/200 [00:00<?, ?it/s]\u001b[A\n",
      " 12%|█████████████▉                                                                                                           | 23/200 [00:00<00:01, 166.32it/s]\u001b[A\n",
      " 76%|██████████████████████████████████████████████████████████████████████████████████████████▉                             | 758/1000 [01:15<00:24, 10.03it/s]"
     ]
    },
    {
     "name": "stdout",
     "output_type": "stream",
     "text": [
      "DONE\n",
      "DONE\n",
      "Actor_loss 1.34087673\n",
      "Critic_loss 1.00000135\n",
      "Rewards mean 1.00000000 Rewards std 0.00000000 Rewards sum 24.00000000\n"
     ]
    },
    {
     "name": "stderr",
     "output_type": "stream",
     "text": [
      "\n",
      "  0%|                                                                                                                                   | 0/200 [00:00<?, ?it/s]\u001b[A\n",
      " 18%|█████████████████████▏                                                                                                   | 35/200 [00:00<00:00, 190.82it/s]\u001b[A\n",
      " 76%|███████████████████████████████████████████████████████████████████████████████████████████▏                            | 760/1000 [01:15<00:29,  8.20it/s]"
     ]
    },
    {
     "name": "stdout",
     "output_type": "stream",
     "text": [
      "DONE\n",
      "DONE\n",
      "Actor_loss 1.38090861\n",
      "Critic_loss 1.00000083\n",
      "Rewards mean 1.00000000 Rewards std 0.00000000 Rewards sum 36.00000000\n"
     ]
    },
    {
     "name": "stderr",
     "output_type": "stream",
     "text": [
      "\n",
      "  0%|                                                                                                                                   | 0/200 [00:00<?, ?it/s]\u001b[A\n",
      " 11%|█████████████▎                                                                                                           | 22/200 [00:00<00:00, 203.30it/s]\u001b[A\n",
      " 76%|███████████████████████████████████████████████████████████████████████████████████████████▎                            | 761/1000 [01:16<00:28,  8.30it/s]"
     ]
    },
    {
     "name": "stdout",
     "output_type": "stream",
     "text": [
      "DONE\n",
      "DONE\n",
      "Actor_loss 1.40871703\n",
      "Critic_loss 1.00000053\n",
      "Rewards mean 1.00000000 Rewards std 0.00000000 Rewards sum 23.00000000\n"
     ]
    },
    {
     "name": "stderr",
     "output_type": "stream",
     "text": [
      "\n",
      "  5%|██████                                                                                                                   | 10/200 [00:00<00:01, 182.68it/s]\u001b[A\n",
      " 76%|███████████████████████████████████████████████████████████████████████████████████████████▎                            | 761/1000 [01:16<00:28,  8.30it/s]"
     ]
    },
    {
     "name": "stdout",
     "output_type": "stream",
     "text": [
      "DONE\n",
      "DONE\n",
      "Actor_loss 1.13549538\n",
      "Critic_loss 1.00000334\n",
      "Rewards mean 1.00000000 Rewards std 0.00000000 Rewards sum 11.00000000\n"
     ]
    },
    {
     "name": "stderr",
     "output_type": "stream",
     "text": [
      "\n",
      "  4%|████▉                                                                                                                     | 8/200 [00:00<00:01, 152.80it/s]\u001b[A\n",
      " 76%|███████████████████████████████████████████████████████████████████████████████████████████▌                            | 763/1000 [01:16<00:23, 10.10it/s]"
     ]
    },
    {
     "name": "stdout",
     "output_type": "stream",
     "text": [
      "DONE\n",
      "DONE\n",
      "Actor_loss 1.05474254\n",
      "Critic_loss 1.00000438\n",
      "Rewards mean 1.00000000 Rewards std 0.00000000 Rewards sum 9.00000000\n"
     ]
    },
    {
     "name": "stderr",
     "output_type": "stream",
     "text": [
      "\n",
      "  0%|                                                                                                                                   | 0/200 [00:00<?, ?it/s]\u001b[A\n",
      " 12%|███████████████▏                                                                                                         | 25/200 [00:00<00:00, 181.90it/s]\u001b[A\n",
      " 76%|███████████████████████████████████████████████████████████████████████████████████████████▌                            | 763/1000 [01:16<00:23, 10.10it/s]"
     ]
    },
    {
     "name": "stdout",
     "output_type": "stream",
     "text": [
      "DONE\n",
      "DONE\n",
      "Actor_loss 1.35021827\n",
      "Critic_loss 1.00000112\n",
      "Rewards mean 1.00000000 Rewards std 0.00000000 Rewards sum 26.00000000\n"
     ]
    },
    {
     "name": "stderr",
     "output_type": "stream",
     "text": [
      "\n",
      "  6%|███████▊                                                                                                                 | 13/200 [00:00<00:01, 162.41it/s]\u001b[A\n",
      " 76%|███████████████████████████████████████████████████████████████████████████████████████████▊                            | 765/1000 [01:16<00:24,  9.55it/s]"
     ]
    },
    {
     "name": "stdout",
     "output_type": "stream",
     "text": [
      "DONE\n",
      "DONE\n",
      "Actor_loss 1.25101777\n",
      "Critic_loss 1.00000215\n",
      "Rewards mean 1.00000000 Rewards std 0.00000000 Rewards sum 14.00000000\n"
     ]
    },
    {
     "name": "stderr",
     "output_type": "stream",
     "text": [
      "\n",
      "  6%|███████▎                                                                                                                 | 12/200 [00:00<00:01, 160.99it/s]\u001b[A\n",
      " 76%|███████████████████████████████████████████████████████████████████████████████████████████▊                            | 765/1000 [01:16<00:24,  9.55it/s]"
     ]
    },
    {
     "name": "stdout",
     "output_type": "stream",
     "text": [
      "DONE\n",
      "DONE\n",
      "Actor_loss 1.45766557\n",
      "Critic_loss 0.99999960\n",
      "Rewards mean 1.00000000 Rewards std 0.00000000 Rewards sum 13.00000000\n"
     ]
    },
    {
     "name": "stderr",
     "output_type": "stream",
     "text": [
      "\n",
      "  8%|██████████▎                                                                                                              | 17/200 [00:00<00:00, 187.73it/s]\u001b[A\n",
      " 77%|████████████████████████████████████████████████████████████████████████████████████████████                            | 767/1000 [01:16<00:23, 10.03it/s]"
     ]
    },
    {
     "name": "stdout",
     "output_type": "stream",
     "text": [
      "DONE\n",
      "DONE\n",
      "Actor_loss 1.17318497\n",
      "Critic_loss 1.00000271\n",
      "Rewards mean 1.00000000 Rewards std 0.00000000 Rewards sum 18.00000000\n"
     ]
    },
    {
     "name": "stderr",
     "output_type": "stream",
     "text": [
      "\n",
      "  0%|                                                                                                                                   | 0/200 [00:00<?, ?it/s]\u001b[A\n",
      " 18%|█████████████████████▊                                                                                                   | 36/200 [00:00<00:00, 196.29it/s]\u001b[A\n",
      " 77%|████████████████████████████████████████████████████████████████████████████████████████████                            | 767/1000 [01:16<00:23, 10.03it/s]"
     ]
    },
    {
     "name": "stdout",
     "output_type": "stream",
     "text": [
      "DONE\n",
      "DONE\n",
      "Actor_loss 1.33828601\n",
      "Critic_loss 1.00000134\n",
      "Rewards mean 1.00000000 Rewards std 0.00000000 Rewards sum 37.00000000\n"
     ]
    },
    {
     "name": "stderr",
     "output_type": "stream",
     "text": [
      "\n",
      "  0%|                                                                                                                                   | 0/200 [00:00<?, ?it/s]\u001b[A\n",
      " 12%|█████████████▉                                                                                                           | 23/200 [00:00<00:00, 191.95it/s]\u001b[A\n",
      " 77%|████████████████████████████████████████████████████████████████████████████████████████████▎                           | 769/1000 [01:16<00:27,  8.48it/s]"
     ]
    },
    {
     "name": "stdout",
     "output_type": "stream",
     "text": [
      "DONE\n",
      "DONE\n",
      "Actor_loss 1.34087946\n",
      "Critic_loss 1.00000124\n",
      "Rewards mean 1.00000000 Rewards std 0.00000000 Rewards sum 24.00000000\n"
     ]
    },
    {
     "name": "stderr",
     "output_type": "stream",
     "text": [
      "\n",
      "  0%|                                                                                                                                   | 0/200 [00:00<?, ?it/s]\u001b[A\n",
      " 13%|███████████████▋                                                                                                         | 26/200 [00:00<00:00, 178.90it/s]\u001b[A\n",
      " 77%|████████████████████████████████████████████████████████████████████████████████████████████▍                           | 770/1000 [01:17<00:28,  8.06it/s]"
     ]
    },
    {
     "name": "stdout",
     "output_type": "stream",
     "text": [
      "DONE\n",
      "DONE\n",
      "Actor_loss 1.37500365\n",
      "Critic_loss 1.00000088\n",
      "Rewards mean 1.00000000 Rewards std 0.00000000 Rewards sum 27.00000000\n"
     ]
    },
    {
     "name": "stderr",
     "output_type": "stream",
     "text": [
      "\n",
      "  6%|██████▋                                                                                                                  | 11/200 [00:00<00:01, 168.91it/s]\u001b[A\n",
      " 77%|████████████████████████████████████████████████████████████████████████████████████████████▍                           | 770/1000 [01:17<00:28,  8.06it/s]"
     ]
    },
    {
     "name": "stdout",
     "output_type": "stream",
     "text": [
      "DONE\n",
      "DONE\n",
      "Actor_loss 1.21345322\n",
      "Critic_loss 1.00000266\n",
      "Rewards mean 1.00000000 Rewards std 0.00000000 Rewards sum 12.00000000\n"
     ]
    },
    {
     "name": "stderr",
     "output_type": "stream",
     "text": [
      "\n",
      "  8%|█████████                                                                                                                | 15/200 [00:00<00:01, 151.76it/s]\u001b[A\n",
      " 77%|████████████████████████████████████████████████████████████████████████████████████████████▋                           | 772/1000 [01:17<00:25,  8.97it/s]"
     ]
    },
    {
     "name": "stdout",
     "output_type": "stream",
     "text": [
      "DONE\n",
      "DONE\n",
      "Actor_loss 1.27855624\n",
      "Critic_loss 1.00000186\n",
      "Rewards mean 1.00000000 Rewards std 0.00000000 Rewards sum 16.00000000\n"
     ]
    },
    {
     "name": "stderr",
     "output_type": "stream",
     "text": [
      "\n",
      "  0%|                                                                                                                                   | 0/200 [00:00<?, ?it/s]\u001b[A\n",
      " 10%|███████████▍                                                                                                             | 19/200 [00:00<00:00, 188.39it/s]\u001b[A"
     ]
    },
    {
     "name": "stdout",
     "output_type": "stream",
     "text": [
      "DONE\n"
     ]
    },
    {
     "name": "stderr",
     "output_type": "stream",
     "text": [
      " 18%|██████████████████████▍                                                                                                  | 37/200 [00:00<00:00, 185.63it/s]\n",
      " 77%|████████████████████████████████████████████████████████████████████████████████████████████▊                           | 773/1000 [01:17<00:29,  7.68it/s]"
     ]
    },
    {
     "name": "stdout",
     "output_type": "stream",
     "text": [
      "DONE\n",
      "Actor_loss 1.50102838\n",
      "Critic_loss 0.99999931\n",
      "Rewards mean 1.00000000 Rewards std 0.00000000 Rewards sum 38.00000000\n"
     ]
    },
    {
     "name": "stderr",
     "output_type": "stream",
     "text": [
      "\n",
      "  4%|████▉                                                                                                                     | 8/200 [00:00<00:01, 169.23it/s]\u001b[A\n",
      " 77%|████████████████████████████████████████████████████████████████████████████████████████████▊                           | 773/1000 [01:17<00:29,  7.68it/s]"
     ]
    },
    {
     "name": "stdout",
     "output_type": "stream",
     "text": [
      "DONE\n",
      "DONE\n",
      "Actor_loss 0.92119900\n",
      "Critic_loss 1.00000526\n",
      "Rewards mean 1.00000000 Rewards std 0.00000000 Rewards sum 9.00000000\n"
     ]
    },
    {
     "name": "stderr",
     "output_type": "stream",
     "text": [
      "\n",
      "  0%|                                                                                                                                   | 0/200 [00:00<?, ?it/s]\u001b[A\n",
      " 16%|██████████████████▊                                                                                                      | 31/200 [00:00<00:00, 176.08it/s]\u001b[A\n",
      " 78%|█████████████████████████████████████████████████████████████████████████████████████████████                           | 775/1000 [01:17<00:28,  7.94it/s]"
     ]
    },
    {
     "name": "stdout",
     "output_type": "stream",
     "text": [
      "DONE\n",
      "DONE\n",
      "Actor_loss 1.37090351\n",
      "Critic_loss 1.00000092\n",
      "Rewards mean 1.00000000 Rewards std 0.00000000 Rewards sum 32.00000000\n"
     ]
    },
    {
     "name": "stderr",
     "output_type": "stream",
     "text": [
      "\n",
      "  0%|                                                                                                                                   | 0/200 [00:00<?, ?it/s]\u001b[A\n",
      " 12%|██████████████▌                                                                                                          | 24/200 [00:00<00:00, 195.22it/s]\u001b[A\n",
      " 78%|█████████████████████████████████████████████████████████████████████████████████████████████                           | 776/1000 [01:17<00:28,  7.91it/s]"
     ]
    },
    {
     "name": "stdout",
     "output_type": "stream",
     "text": [
      "DONE\n",
      "DONE\n",
      "Actor_loss 1.36798007\n",
      "Critic_loss 1.00000098\n",
      "Rewards mean 1.00000000 Rewards std 0.00000000 Rewards sum 25.00000000\n"
     ]
    },
    {
     "name": "stderr",
     "output_type": "stream",
     "text": [
      "\n",
      "  7%|████████▍                                                                                                                | 14/200 [00:00<00:01, 164.46it/s]\u001b[A\n",
      " 78%|█████████████████████████████████████████████████████████████████████████████████████████████                           | 776/1000 [01:17<00:28,  7.91it/s]"
     ]
    },
    {
     "name": "stdout",
     "output_type": "stream",
     "text": [
      "DONE\n",
      "DONE\n",
      "Actor_loss 1.60998080\n",
      "Critic_loss 0.99999733\n",
      "Rewards mean 1.00000000 Rewards std 0.00000000 Rewards sum 15.00000000\n"
     ]
    },
    {
     "name": "stderr",
     "output_type": "stream",
     "text": [
      "\n",
      "  7%|████████▍                                                                                                                | 14/200 [00:00<00:00, 191.16it/s]\u001b[A\n",
      " 78%|█████████████████████████████████████████████████████████████████████████████████████████████▎                          | 778/1000 [01:18<00:24,  8.99it/s]"
     ]
    },
    {
     "name": "stdout",
     "output_type": "stream",
     "text": [
      "DONE\n",
      "DONE\n",
      "Actor_loss 1.38059320\n",
      "Critic_loss 1.00000082\n",
      "Rewards mean 1.00000000 Rewards std 0.00000000 Rewards sum 15.00000000\n"
     ]
    },
    {
     "name": "stderr",
     "output_type": "stream",
     "text": [
      "\n",
      "  0%|                                                                                                                                   | 0/200 [00:00<?, ?it/s]\u001b[A\n",
      " 10%|███████████▍                                                                                                             | 19/200 [00:00<00:00, 187.41it/s]\u001b[A"
     ]
    },
    {
     "name": "stdout",
     "output_type": "stream",
     "text": [
      "DONE\n"
     ]
    },
    {
     "name": "stderr",
     "output_type": "stream",
     "text": [
      " 10%|███████████▍                                                                                                             | 19/200 [00:00<00:01, 169.03it/s]\n",
      " 78%|█████████████████████████████████████████████████████████████████████████████████████████████▍                          | 779/1000 [01:18<00:24,  8.85it/s]"
     ]
    },
    {
     "name": "stdout",
     "output_type": "stream",
     "text": [
      "DONE\n",
      "Actor_loss 1.37253705\n",
      "Critic_loss 1.00000093\n",
      "Rewards mean 1.00000000 Rewards std 0.00000000 Rewards sum 20.00000000\n"
     ]
    },
    {
     "name": "stderr",
     "output_type": "stream",
     "text": [
      "\n",
      "  5%|██████                                                                                                                   | 10/200 [00:00<00:01, 157.43it/s]\u001b[A\n",
      " 78%|█████████████████████████████████████████████████████████████████████████████████████████████▍                          | 779/1000 [01:18<00:24,  8.85it/s]"
     ]
    },
    {
     "name": "stdout",
     "output_type": "stream",
     "text": [
      "DONE\n",
      "DONE\n",
      "Actor_loss 1.02931991\n",
      "Critic_loss 1.00000418\n",
      "Rewards mean 1.00000000 Rewards std 0.00000000 Rewards sum 11.00000000\n"
     ]
    },
    {
     "name": "stderr",
     "output_type": "stream",
     "text": [
      "\n",
      "  0%|                                                                                                                                   | 0/200 [00:00<?, ?it/s]\u001b[A\n",
      " 12%|█████████████▉                                                                                                           | 23/200 [00:00<00:00, 179.15it/s]\u001b[A\n",
      " 78%|█████████████████████████████████████████████████████████████████████████████████████████████▋                          | 781/1000 [01:18<00:23,  9.18it/s]"
     ]
    },
    {
     "name": "stdout",
     "output_type": "stream",
     "text": [
      "DONE\n",
      "DONE\n",
      "Actor_loss 1.57293810\n",
      "Critic_loss 0.99999787\n",
      "Rewards mean 1.00000000 Rewards std 0.00000000 Rewards sum 24.00000000\n"
     ]
    },
    {
     "name": "stderr",
     "output_type": "stream",
     "text": [
      "\n",
      "  0%|                                                                                                                                   | 0/200 [00:00<?, ?it/s]\u001b[A"
     ]
    },
    {
     "name": "stdout",
     "output_type": "stream",
     "text": [
      "DONE\n"
     ]
    },
    {
     "name": "stderr",
     "output_type": "stream",
     "text": [
      "  4%|█████▍                                                                                                                    | 9/200 [00:00<00:01, 155.25it/s]\n",
      " 78%|█████████████████████████████████████████████████████████████████████████████████████████████▋                          | 781/1000 [01:18<00:23,  9.18it/s]"
     ]
    },
    {
     "name": "stdout",
     "output_type": "stream",
     "text": [
      "DONE\n",
      "Actor_loss 1.04168259\n",
      "Critic_loss 1.00000421\n",
      "Rewards mean 1.00000000 Rewards std 0.00000000 Rewards sum 10.00000000\n"
     ]
    },
    {
     "name": "stderr",
     "output_type": "stream",
     "text": [
      "\n",
      "  0%|                                                                                                                                   | 0/200 [00:00<?, ?it/s]\u001b[A\n",
      " 19%|██████████████████████▉                                                                                                  | 38/200 [00:00<00:00, 191.64it/s]\u001b[A\n",
      " 78%|█████████████████████████████████████████████████████████████████████████████████████████████▉                          | 783/1000 [01:18<00:25,  8.48it/s]"
     ]
    },
    {
     "name": "stdout",
     "output_type": "stream",
     "text": [
      "DONE\n",
      "DONE\n",
      "Actor_loss 1.48461515\n",
      "Critic_loss 0.99999969\n",
      "Rewards mean 1.00000000 Rewards std 0.00000000 Rewards sum 39.00000000\n"
     ]
    },
    {
     "name": "stderr",
     "output_type": "stream",
     "text": [
      "\n",
      "  4%|█████▍                                                                                                                    | 9/200 [00:00<00:01, 174.04it/s]\u001b[A\n",
      " 78%|█████████████████████████████████████████████████████████████████████████████████████████████▉                          | 783/1000 [01:18<00:25,  8.48it/s]"
     ]
    },
    {
     "name": "stdout",
     "output_type": "stream",
     "text": [
      "DONE\n",
      "DONE\n",
      "Actor_loss 1.27892502\n",
      "Critic_loss 1.00000207\n",
      "Rewards mean 1.00000000 Rewards std 0.00000000 Rewards sum 10.00000000\n"
     ]
    },
    {
     "name": "stderr",
     "output_type": "stream",
     "text": [
      "\n",
      "  6%|███████▊                                                                                                                 | 13/200 [00:00<00:01, 167.04it/s]\u001b[A\n",
      " 78%|██████████████████████████████████████████████████████████████████████████████████████████████▏                         | 785/1000 [01:18<00:21,  9.81it/s]"
     ]
    },
    {
     "name": "stdout",
     "output_type": "stream",
     "text": [
      "DONE\n",
      "DONE\n",
      "Actor_loss 1.16961738\n",
      "Critic_loss 1.00000292\n",
      "Rewards mean 1.00000000 Rewards std 0.00000000 Rewards sum 14.00000000\n"
     ]
    },
    {
     "name": "stderr",
     "output_type": "stream",
     "text": [
      "\n",
      "  0%|                                                                                                                                   | 0/200 [00:00<?, ?it/s]\u001b[A\n",
      "  9%|██████████▉                                                                                                              | 18/200 [00:00<00:01, 178.46it/s]\u001b[A"
     ]
    },
    {
     "name": "stdout",
     "output_type": "stream",
     "text": [
      "DONE\n"
     ]
    },
    {
     "name": "stderr",
     "output_type": "stream",
     "text": [
      "  9%|██████████▉                                                                                                              | 18/200 [00:00<00:01, 165.33it/s]\n",
      " 78%|██████████████████████████████████████████████████████████████████████████████████████████████▏                         | 785/1000 [01:18<00:21,  9.81it/s]"
     ]
    },
    {
     "name": "stdout",
     "output_type": "stream",
     "text": [
      "DONE\n",
      "Actor_loss 1.33809712\n",
      "Critic_loss 1.00000127\n",
      "Rewards mean 1.00000000 Rewards std 0.00000000 Rewards sum 19.00000000\n"
     ]
    },
    {
     "name": "stderr",
     "output_type": "stream",
     "text": [
      "\n",
      "  4%|█████▍                                                                                                                    | 9/200 [00:00<00:01, 175.66it/s]\u001b[A\n",
      " 79%|██████████████████████████████████████████████████████████████████████████████████████████████▍                         | 787/1000 [01:18<00:20, 10.32it/s]"
     ]
    },
    {
     "name": "stdout",
     "output_type": "stream",
     "text": [
      "DONE\n",
      "DONE\n",
      "Actor_loss 1.27890359\n",
      "Critic_loss 1.00000212\n",
      "Rewards mean 1.00000000 Rewards std 0.00000000 Rewards sum 10.00000000\n"
     ]
    },
    {
     "name": "stderr",
     "output_type": "stream",
     "text": [
      "\n",
      "  9%|██████████▉                                                                                                              | 18/200 [00:00<00:00, 202.20it/s]\u001b[A\n",
      " 79%|██████████████████████████████████████████████████████████████████████████████████████████████▍                         | 787/1000 [01:19<00:20, 10.32it/s]"
     ]
    },
    {
     "name": "stdout",
     "output_type": "stream",
     "text": [
      "DONE\n",
      "DONE\n",
      "Actor_loss 1.21968320\n",
      "Critic_loss 1.00000235\n",
      "Rewards mean 1.00000000 Rewards std 0.00000000 Rewards sum 19.00000000\n"
     ]
    },
    {
     "name": "stderr",
     "output_type": "stream",
     "text": [
      "\n",
      "  6%|███████▎                                                                                                                 | 12/200 [00:00<00:01, 178.71it/s]\u001b[A\n",
      " 79%|██████████████████████████████████████████████████████████████████████████████████████████████▋                         | 789/1000 [01:19<00:19, 10.79it/s]"
     ]
    },
    {
     "name": "stdout",
     "output_type": "stream",
     "text": [
      "DONE\n",
      "DONE\n",
      "Actor_loss 1.27888091\n",
      "Critic_loss 1.00000196\n",
      "Rewards mean 1.00000000 Rewards std 0.00000000 Rewards sum 13.00000000\n"
     ]
    },
    {
     "name": "stderr",
     "output_type": "stream",
     "text": [
      "\n",
      "  4%|████▎                                                                                                                     | 7/200 [00:00<00:01, 164.15it/s]\u001b[A\n",
      " 79%|██████████████████████████████████████████████████████████████████████████████████████████████▋                         | 789/1000 [01:19<00:19, 10.79it/s]"
     ]
    },
    {
     "name": "stdout",
     "output_type": "stream",
     "text": [
      "DONE\n",
      "DONE\n",
      "Actor_loss 1.83698642\n",
      "Critic_loss 0.99999282\n",
      "Rewards mean 1.00000000 Rewards std 0.00000000 Rewards sum 8.00000000\n"
     ]
    },
    {
     "name": "stderr",
     "output_type": "stream",
     "text": [
      "\n",
      "  0%|                                                                                                                                   | 0/200 [00:00<?, ?it/s]\u001b[A"
     ]
    },
    {
     "name": "stdout",
     "output_type": "stream",
     "text": [
      "DONE\n"
     ]
    },
    {
     "name": "stderr",
     "output_type": "stream",
     "text": [
      "  6%|███████▎                                                                                                                 | 12/200 [00:00<00:01, 157.46it/s]\n",
      " 79%|██████████████████████████████████████████████████████████████████████████████████████████████▉                         | 791/1000 [01:19<00:17, 11.90it/s]"
     ]
    },
    {
     "name": "stdout",
     "output_type": "stream",
     "text": [
      "DONE\n",
      "Actor_loss 1.27893704\n",
      "Critic_loss 1.00000197\n",
      "Rewards mean 1.00000000 Rewards std 0.00000000 Rewards sum 13.00000000\n"
     ]
    },
    {
     "name": "stderr",
     "output_type": "stream",
     "text": [
      "\n",
      "  9%|██████████▉                                                                                                              | 18/200 [00:00<00:00, 203.73it/s]\u001b[A\n",
      " 79%|██████████████████████████████████████████████████████████████████████████████████████████████▉                         | 791/1000 [01:19<00:17, 11.90it/s]"
     ]
    },
    {
     "name": "stdout",
     "output_type": "stream",
     "text": [
      "DONE\n",
      "DONE\n",
      "Actor_loss 1.27892048\n",
      "Critic_loss 1.00000182\n",
      "Rewards mean 1.00000000 Rewards std 0.00000000 Rewards sum 19.00000000\n"
     ]
    },
    {
     "name": "stderr",
     "output_type": "stream",
     "text": [
      "\n",
      "  8%|█████████                                                                                                                | 15/200 [00:00<00:01, 168.43it/s]\u001b[A\n",
      " 79%|███████████████████████████████████████████████████████████████████████████████████████████████▏                        | 793/1000 [01:19<00:18, 11.46it/s]"
     ]
    },
    {
     "name": "stdout",
     "output_type": "stream",
     "text": [
      "DONE\n",
      "DONE\n",
      "Actor_loss 1.27890658\n",
      "Critic_loss 1.00000201\n",
      "Rewards mean 1.00000000 Rewards std 0.00000000 Rewards sum 16.00000000\n"
     ]
    },
    {
     "name": "stderr",
     "output_type": "stream",
     "text": [
      "\n",
      "  0%|                                                                                                                                   | 0/200 [00:00<?, ?it/s]\u001b[A"
     ]
    },
    {
     "name": "stdout",
     "output_type": "stream",
     "text": [
      "DONE\n"
     ]
    },
    {
     "name": "stderr",
     "output_type": "stream",
     "text": [
      " 10%|████████████                                                                                                             | 20/200 [00:00<00:00, 200.83it/s]\n",
      " 79%|███████████████████████████████████████████████████████████████████████████████████████████████▏                        | 793/1000 [01:19<00:18, 11.46it/s]"
     ]
    },
    {
     "name": "stdout",
     "output_type": "stream",
     "text": [
      "DONE\n",
      "Actor_loss 1.40315578\n",
      "Critic_loss 1.00000052\n",
      "Rewards mean 1.00000000 Rewards std 0.00000000 Rewards sum 21.00000000\n"
     ]
    },
    {
     "name": "stderr",
     "output_type": "stream",
     "text": [
      "\n",
      " 10%|████████████▋                                                                                                            | 21/200 [00:00<00:00, 204.74it/s]\u001b[A\n",
      " 80%|███████████████████████████████████████████████████████████████████████████████████████████████▍                        | 795/1000 [01:19<00:19, 10.65it/s]"
     ]
    },
    {
     "name": "stdout",
     "output_type": "stream",
     "text": [
      "DONE\n",
      "DONE\n",
      "Actor_loss 1.43092409\n",
      "Critic_loss 1.00000018\n",
      "Rewards mean 1.00000000 Rewards std 0.00000000 Rewards sum 22.00000000\n"
     ]
    },
    {
     "name": "stderr",
     "output_type": "stream",
     "text": [
      "\n",
      "  6%|███████▎                                                                                                                 | 12/200 [00:00<00:01, 173.28it/s]\u001b[A\n",
      " 80%|███████████████████████████████████████████████████████████████████████████████████████████████▍                        | 795/1000 [01:19<00:19, 10.65it/s]"
     ]
    },
    {
     "name": "stdout",
     "output_type": "stream",
     "text": [
      "DONE\n",
      "DONE\n",
      "Actor_loss 1.19033163\n",
      "Critic_loss 1.00000290\n",
      "Rewards mean 1.00000000 Rewards std 0.00000000 Rewards sum 13.00000000\n"
     ]
    },
    {
     "name": "stderr",
     "output_type": "stream",
     "text": [
      "\n",
      "  6%|███████▎                                                                                                                 | 12/200 [00:00<00:00, 200.21it/s]\u001b[A\n",
      " 80%|███████████████████████████████████████████████████████████████████████████████████████████████▋                        | 797/1000 [01:19<00:17, 11.54it/s]"
     ]
    },
    {
     "name": "stdout",
     "output_type": "stream",
     "text": [
      "DONE\n",
      "DONE\n",
      "Actor_loss 1.19023260\n",
      "Critic_loss 1.00000293\n",
      "Rewards mean 1.00000000 Rewards std 0.00000000 Rewards sum 13.00000000\n"
     ]
    },
    {
     "name": "stderr",
     "output_type": "stream",
     "text": [
      "\n",
      "  0%|                                                                                                                                   | 0/200 [00:00<?, ?it/s]\u001b[A"
     ]
    },
    {
     "name": "stdout",
     "output_type": "stream",
     "text": [
      "DONE\n"
     ]
    },
    {
     "name": "stderr",
     "output_type": "stream",
     "text": [
      "  5%|██████                                                                                                                   | 10/200 [00:00<00:01, 183.92it/s]\n",
      " 80%|███████████████████████████████████████████████████████████████████████████████████████████████▋                        | 797/1000 [01:19<00:17, 11.54it/s]"
     ]
    },
    {
     "name": "stdout",
     "output_type": "stream",
     "text": [
      "DONE\n",
      "Actor_loss 1.24343443\n",
      "Critic_loss 1.00000242\n",
      "Rewards mean 1.00000000 Rewards std 0.00000000 Rewards sum 11.00000000\n"
     ]
    },
    {
     "name": "stderr",
     "output_type": "stream",
     "text": [
      "\n",
      "  6%|███████▎                                                                                                                 | 12/200 [00:00<00:01, 164.73it/s]\u001b[A\n",
      " 80%|███████████████████████████████████████████████████████████████████████████████████████████████▉                        | 799/1000 [01:19<00:16, 12.26it/s]"
     ]
    },
    {
     "name": "stdout",
     "output_type": "stream",
     "text": [
      "DONE\n",
      "DONE\n",
      "Actor_loss 1.10128119\n",
      "Critic_loss 1.00000357\n",
      "Rewards mean 1.00000000 Rewards std 0.00000000 Rewards sum 13.00000000\n"
     ]
    },
    {
     "name": "stderr",
     "output_type": "stream",
     "text": [
      "\n",
      "  5%|██████                                                                                                                   | 10/200 [00:00<00:01, 170.01it/s]\u001b[A\n",
      " 80%|███████████████████████████████████████████████████████████████████████████████████████████████▉                        | 799/1000 [01:19<00:16, 12.26it/s]"
     ]
    },
    {
     "name": "stdout",
     "output_type": "stream",
     "text": [
      "DONE\n",
      "DONE\n",
      "Actor_loss 1.02986501\n",
      "Critic_loss 1.00000424\n",
      "Rewards mean 1.00000000 Rewards std 0.00000000 Rewards sum 11.00000000\n"
     ]
    },
    {
     "name": "stderr",
     "output_type": "stream",
     "text": [
      "\n",
      "  0%|                                                                                                                                   | 0/200 [00:00<?, ?it/s]\u001b[A"
     ]
    },
    {
     "name": "stdout",
     "output_type": "stream",
     "text": [
      "DONE\n"
     ]
    },
    {
     "name": "stderr",
     "output_type": "stream",
     "text": [
      "  4%|█████▍                                                                                                                    | 9/200 [00:00<00:01, 169.81it/s]\n",
      " 80%|████████████████████████████████████████████████████████████████████████████████████████████████                        | 801/1000 [01:20<00:15, 13.25it/s]"
     ]
    },
    {
     "name": "stdout",
     "output_type": "stream",
     "text": [
      "DONE\n",
      "Actor_loss 0.92257066\n",
      "Critic_loss 1.00000528\n",
      "Rewards mean 1.00000000 Rewards std 0.00000000 Rewards sum 10.00000000\n"
     ]
    },
    {
     "name": "stderr",
     "output_type": "stream",
     "text": [
      "\n",
      "  4%|████▉                                                                                                                     | 8/200 [00:00<00:01, 155.13it/s]\u001b[A\n",
      " 80%|████████████████████████████████████████████████████████████████████████████████████████████████                        | 801/1000 [01:20<00:15, 13.25it/s]"
     ]
    },
    {
     "name": "stdout",
     "output_type": "stream",
     "text": [
      "DONE\n",
      "DONE\n",
      "Actor_loss 0.92195916\n",
      "Critic_loss 1.00000547\n",
      "Rewards mean 1.00000000 Rewards std 0.00000000 Rewards sum 9.00000000\n"
     ]
    },
    {
     "name": "stderr",
     "output_type": "stream",
     "text": [
      "\n",
      "  6%|██████▋                                                                                                                  | 11/200 [00:00<00:01, 181.42it/s]\u001b[A\n",
      " 80%|████████████████████████████████████████████████████████████████████████████████████████████████▎                       | 803/1000 [01:20<00:14, 14.04it/s]"
     ]
    },
    {
     "name": "stdout",
     "output_type": "stream",
     "text": [
      "DONE\n",
      "DONE\n",
      "Actor_loss 1.11630698\n",
      "Critic_loss 1.00000346\n",
      "Rewards mean 1.00000000 Rewards std 0.00000000 Rewards sum 12.00000000\n"
     ]
    },
    {
     "name": "stderr",
     "output_type": "stream",
     "text": [
      "\n",
      "  8%|██████████▎                                                                                                              | 17/200 [00:00<00:00, 196.79it/s]\u001b[A\n",
      " 80%|████████████████████████████████████████████████████████████████████████████████████████████████▎                       | 803/1000 [01:20<00:14, 14.04it/s]"
     ]
    },
    {
     "name": "stdout",
     "output_type": "stream",
     "text": [
      "DONE\n",
      "DONE\n",
      "Actor_loss 1.42578542\n",
      "Critic_loss 1.00000023\n",
      "Rewards mean 1.00000000 Rewards std 0.00000000 Rewards sum 18.00000000\n"
     ]
    },
    {
     "name": "stderr",
     "output_type": "stream",
     "text": [
      "\n",
      "  6%|███████▊                                                                                                                 | 13/200 [00:00<00:01, 182.03it/s]\u001b[A\n",
      " 80%|████████████████████████████████████████████████████████████████████████████████████████████████▌                       | 805/1000 [01:20<00:14, 13.26it/s]"
     ]
    },
    {
     "name": "stdout",
     "output_type": "stream",
     "text": [
      "DONE\n",
      "DONE\n",
      "Actor_loss 1.25121308\n",
      "Critic_loss 1.00000232\n",
      "Rewards mean 1.00000000 Rewards std 0.00000000 Rewards sum 14.00000000\n"
     ]
    },
    {
     "name": "stderr",
     "output_type": "stream",
     "text": [
      "\n",
      " 10%|████████████                                                                                                             | 20/200 [00:00<00:00, 199.35it/s]\u001b[A\n",
      " 80%|████████████████████████████████████████████████████████████████████████████████████████████████▌                       | 805/1000 [01:20<00:14, 13.26it/s]"
     ]
    },
    {
     "name": "stdout",
     "output_type": "stream",
     "text": [
      "DONE\n",
      "DONE\n",
      "Actor_loss 1.29653863\n",
      "Critic_loss 1.00000170\n",
      "Rewards mean 1.00000000 Rewards std 0.00000000 Rewards sum 21.00000000\n"
     ]
    },
    {
     "name": "stderr",
     "output_type": "stream",
     "text": [
      "\n",
      " 10%|████████████▋                                                                                                            | 21/200 [00:00<00:00, 201.79it/s]\u001b[A\n",
      " 81%|████████████████████████████████████████████████████████████████████████████████████████████████▊                       | 807/1000 [01:20<00:16, 11.72it/s]"
     ]
    },
    {
     "name": "stdout",
     "output_type": "stream",
     "text": [
      "DONE\n",
      "DONE\n",
      "Actor_loss 1.27866690\n",
      "Critic_loss 1.00000186\n",
      "Rewards mean 1.00000000 Rewards std 0.00000000 Rewards sum 22.00000000\n"
     ]
    },
    {
     "name": "stderr",
     "output_type": "stream",
     "text": [
      "\n",
      "  0%|                                                                                                                                   | 0/200 [00:00<?, ?it/s]\u001b[A\n",
      " 15%|██████████████████▏                                                                                                      | 30/200 [00:00<00:00, 177.95it/s]\u001b[A\n",
      " 81%|████████████████████████████████████████████████████████████████████████████████████████████████▊                       | 807/1000 [01:20<00:16, 11.72it/s]"
     ]
    },
    {
     "name": "stdout",
     "output_type": "stream",
     "text": [
      "DONE\n",
      "DONE\n",
      "Actor_loss 1.38582615\n",
      "Critic_loss 1.00000070\n",
      "Rewards mean 1.00000000 Rewards std 0.00000000 Rewards sum 31.00000000\n"
     ]
    },
    {
     "name": "stderr",
     "output_type": "stream",
     "text": [
      "\n",
      "  4%|█████▍                                                                                                                    | 9/200 [00:00<00:01, 168.90it/s]\u001b[A\n",
      " 81%|█████████████████████████████████████████████████████████████████████████████████████████████████                       | 809/1000 [01:20<00:18, 10.56it/s]"
     ]
    },
    {
     "name": "stdout",
     "output_type": "stream",
     "text": [
      "DONE\n",
      "DONE\n",
      "Actor_loss 0.92137520\n",
      "Critic_loss 1.00000518\n",
      "Rewards mean 1.00000000 Rewards std 0.00000000 Rewards sum 10.00000000\n"
     ]
    },
    {
     "name": "stderr",
     "output_type": "stream",
     "text": [
      "\n",
      "  8%|██████████▎                                                                                                              | 17/200 [00:00<00:00, 185.92it/s]\u001b[A\n",
      " 81%|█████████████████████████████████████████████████████████████████████████████████████████████████                       | 809/1000 [01:20<00:18, 10.56it/s]"
     ]
    },
    {
     "name": "stdout",
     "output_type": "stream",
     "text": [
      "DONE\n",
      "DONE\n",
      "Actor_loss 1.29966983\n",
      "Critic_loss 1.00000179\n",
      "Rewards mean 1.00000000 Rewards std 0.00000000 Rewards sum 18.00000000\n"
     ]
    },
    {
     "name": "stderr",
     "output_type": "stream",
     "text": [
      "\n",
      "  0%|                                                                                                                                   | 0/200 [00:00<?, ?it/s]\u001b[A\n",
      " 12%|██████████████▌                                                                                                          | 24/200 [00:00<00:00, 192.97it/s]\u001b[A\n",
      " 81%|█████████████████████████████████████████████████████████████████████████████████████████████████▎                      | 811/1000 [01:20<00:18,  9.97it/s]"
     ]
    },
    {
     "name": "stdout",
     "output_type": "stream",
     "text": [
      "DONE\n",
      "DONE\n",
      "Actor_loss 1.32333718\n",
      "Critic_loss 1.00000150\n",
      "Rewards mean 1.00000000 Rewards std 0.00000000 Rewards sum 25.00000000\n"
     ]
    },
    {
     "name": "stderr",
     "output_type": "stream",
     "text": [
      "\n",
      "  0%|                                                                                                                                   | 0/200 [00:00<?, ?it/s]\u001b[A\n",
      " 14%|████████████████▉                                                                                                        | 28/200 [00:00<00:00, 179.64it/s]\u001b[A\n",
      " 81%|█████████████████████████████████████████████████████████████████████████████████████████████████▎                      | 811/1000 [01:21<00:18,  9.97it/s]"
     ]
    },
    {
     "name": "stdout",
     "output_type": "stream",
     "text": [
      "DONE\n",
      "DONE\n",
      "Actor_loss 1.38078230\n",
      "Critic_loss 1.00000080\n",
      "Rewards mean 1.00000000 Rewards std 0.00000000 Rewards sum 29.00000000\n"
     ]
    },
    {
     "name": "stderr",
     "output_type": "stream",
     "text": [
      "\n",
      " 10%|███████████▍                                                                                                             | 19/200 [00:00<00:00, 185.75it/s]\u001b[A\n",
      " 81%|█████████████████████████████████████████████████████████████████████████████████████████████████▌                      | 813/1000 [01:21<00:20,  9.04it/s]"
     ]
    },
    {
     "name": "stdout",
     "output_type": "stream",
     "text": [
      "DONE\n",
      "DONE\n",
      "Actor_loss 1.48543844\n",
      "Critic_loss 0.99999997\n",
      "Rewards mean 1.00000000 Rewards std 0.00000000 Rewards sum 20.00000000\n"
     ]
    },
    {
     "name": "stderr",
     "output_type": "stream",
     "text": [
      "\n",
      "  6%|███████▎                                                                                                                 | 12/200 [00:00<00:01, 185.15it/s]\u001b[A\n",
      " 81%|█████████████████████████████████████████████████████████████████████████████████████████████████▌                      | 813/1000 [01:21<00:20,  9.04it/s]"
     ]
    },
    {
     "name": "stdout",
     "output_type": "stream",
     "text": [
      "DONE\n",
      "DONE\n",
      "Actor_loss 1.27870694\n",
      "Critic_loss 1.00000205\n",
      "Rewards mean 1.00000000 Rewards std 0.00000000 Rewards sum 13.00000000\n"
     ]
    },
    {
     "name": "stderr",
     "output_type": "stream",
     "text": [
      "\n",
      "  4%|█████▍                                                                                                                    | 9/200 [00:00<00:01, 187.13it/s]\u001b[A\n",
      " 82%|█████████████████████████████████████████████████████████████████████████████████████████████████▊                      | 815/1000 [01:21<00:17, 10.42it/s]"
     ]
    },
    {
     "name": "stdout",
     "output_type": "stream",
     "text": [
      "DONE\n",
      "DONE\n",
      "Actor_loss 1.04053643\n",
      "Critic_loss 1.00000457\n",
      "Rewards mean 1.00000000 Rewards std 0.00000000 Rewards sum 10.00000000\n"
     ]
    },
    {
     "name": "stderr",
     "output_type": "stream",
     "text": [
      "\n",
      "  4%|████▉                                                                                                                     | 8/200 [00:00<00:01, 159.63it/s]\u001b[A\n",
      " 82%|█████████████████████████████████████████████████████████████████████████████████████████████████▊                      | 815/1000 [01:21<00:17, 10.42it/s]"
     ]
    },
    {
     "name": "stdout",
     "output_type": "stream",
     "text": [
      "DONE\n",
      "DONE\n",
      "Actor_loss 1.05521308\n",
      "Critic_loss 1.00000443\n",
      "Rewards mean 1.00000000 Rewards std 0.00000000 Rewards sum 9.00000000\n"
     ]
    },
    {
     "name": "stderr",
     "output_type": "stream",
     "text": [
      "\n",
      "  0%|                                                                                                                                   | 0/200 [00:00<?, ?it/s]\u001b[A\n",
      " 14%|████████████████▉                                                                                                        | 28/200 [00:00<00:01, 165.81it/s]\u001b[A\n",
      " 82%|██████████████████████████████████████████████████████████████████████████████████████████████████                      | 817/1000 [01:21<00:18,  9.83it/s]"
     ]
    },
    {
     "name": "stdout",
     "output_type": "stream",
     "text": [
      "DONE\n",
      "DONE\n",
      "Actor_loss 1.53377591\n",
      "Critic_loss 0.99999870\n",
      "Rewards mean 1.00000000 Rewards std 0.00000000 Rewards sum 29.00000000\n"
     ]
    },
    {
     "name": "stderr",
     "output_type": "stream",
     "text": [
      "\n",
      "  0%|                                                                                                                                   | 0/200 [00:00<?, ?it/s]\u001b[A\n",
      " 11%|█████████████▎                                                                                                           | 22/200 [00:00<00:00, 184.05it/s]\u001b[A\n",
      " 82%|██████████████████████████████████████████████████████████████████████████████████████████████████                      | 817/1000 [01:21<00:18,  9.83it/s]"
     ]
    },
    {
     "name": "stdout",
     "output_type": "stream",
     "text": [
      "DONE\n",
      "DONE\n",
      "Actor_loss 1.35979238\n",
      "Critic_loss 1.00000105\n",
      "Rewards mean 1.00000000 Rewards std 0.00000000 Rewards sum 23.00000000\n"
     ]
    },
    {
     "name": "stderr",
     "output_type": "stream",
     "text": [
      "\n",
      "  8%|█████████▋                                                                                                               | 16/200 [00:00<00:01, 161.73it/s]\u001b[A\n",
      " 82%|██████████████████████████████████████████████████████████████████████████████████████████████████▎                     | 819/1000 [01:21<00:19,  9.47it/s]"
     ]
    },
    {
     "name": "stdout",
     "output_type": "stream",
     "text": [
      "DONE\n",
      "DONE\n",
      "Actor_loss 1.25644399\n",
      "Critic_loss 1.00000218\n",
      "Rewards mean 1.00000000 Rewards std 0.00000000 Rewards sum 17.00000000\n"
     ]
    },
    {
     "name": "stderr",
     "output_type": "stream",
     "text": [
      "\n",
      "  0%|                                                                                                                                   | 0/200 [00:00<?, ?it/s]\u001b[A\n",
      " 11%|█████████████▎                                                                                                           | 22/200 [00:00<00:00, 195.11it/s]\u001b[A\n",
      " 82%|██████████████████████████████████████████████████████████████████████████████████████████████████▎                     | 819/1000 [01:21<00:19,  9.47it/s]"
     ]
    },
    {
     "name": "stdout",
     "output_type": "stream",
     "text": [
      "DONE\n",
      "DONE\n",
      "Actor_loss 1.40842267\n",
      "Critic_loss 1.00000050\n",
      "Rewards mean 1.00000000 Rewards std 0.00000000 Rewards sum 23.00000000\n"
     ]
    },
    {
     "name": "stderr",
     "output_type": "stream",
     "text": [
      "\n",
      "  0%|                                                                                                                                   | 0/200 [00:00<?, ?it/s]\u001b[A"
     ]
    },
    {
     "name": "stdout",
     "output_type": "stream",
     "text": [
      "DONE\n"
     ]
    },
    {
     "name": "stderr",
     "output_type": "stream",
     "text": [
      "  7%|████████▍                                                                                                                | 14/200 [00:00<00:01, 182.13it/s]\n",
      " 82%|██████████████████████████████████████████████████████████████████████████████████████████████████▌                     | 821/1000 [01:22<00:18,  9.60it/s]"
     ]
    },
    {
     "name": "stdout",
     "output_type": "stream",
     "text": [
      "DONE\n",
      "Actor_loss 1.30421800\n",
      "Critic_loss 1.00000178\n",
      "Rewards mean 1.00000000 Rewards std 0.00000000 Rewards sum 15.00000000\n"
     ]
    },
    {
     "name": "stderr",
     "output_type": "stream",
     "text": [
      "\n",
      "  8%|█████████▋                                                                                                               | 16/200 [00:00<00:01, 168.05it/s]\u001b[A\n",
      " 82%|██████████████████████████████████████████████████████████████████████████████████████████████████▌                     | 821/1000 [01:22<00:18,  9.60it/s]"
     ]
    },
    {
     "name": "stdout",
     "output_type": "stream",
     "text": [
      "DONE\n",
      "DONE\n",
      "Actor_loss 1.12266662\n",
      "Critic_loss 1.00000328\n",
      "Rewards mean 1.00000000 Rewards std 0.00000000 Rewards sum 17.00000000\n"
     ]
    },
    {
     "name": "stderr",
     "output_type": "stream",
     "text": [
      "\n",
      "  0%|                                                                                                                                   | 0/200 [00:00<?, ?it/s]\u001b[A\n",
      " 11%|█████████████▎                                                                                                           | 22/200 [00:00<00:01, 165.72it/s]\u001b[A\n",
      " 82%|██████████████████████████████████████████████████████████████████████████████████████████████████▊                     | 823/1000 [01:22<00:19,  9.17it/s]"
     ]
    },
    {
     "name": "stdout",
     "output_type": "stream",
     "text": [
      "DONE\n",
      "DONE\n",
      "Actor_loss 1.60277318\n",
      "Critic_loss 0.99999710\n",
      "Rewards mean 1.00000000 Rewards std 0.00000000 Rewards sum 23.00000000\n"
     ]
    },
    {
     "name": "stderr",
     "output_type": "stream",
     "text": [
      "\n",
      "  5%|██████                                                                                                                   | 10/200 [00:00<00:01, 176.49it/s]\u001b[A\n",
      " 82%|██████████████████████████████████████████████████████████████████████████████████████████████████▊                     | 823/1000 [01:22<00:19,  9.17it/s]"
     ]
    },
    {
     "name": "stdout",
     "output_type": "stream",
     "text": [
      "DONE\n",
      "DONE\n",
      "Actor_loss 1.13640686\n",
      "Critic_loss 1.00000352\n",
      "Rewards mean 1.00000000 Rewards std 0.00000000 Rewards sum 11.00000000\n"
     ]
    },
    {
     "name": "stderr",
     "output_type": "stream",
     "text": [
      "\n",
      "  8%|█████████                                                                                                                | 15/200 [00:00<00:01, 166.26it/s]\u001b[A\n",
      " 82%|███████████████████████████████████████████████████████████████████████████████████████████████████                     | 825/1000 [01:22<00:17,  9.99it/s]"
     ]
    },
    {
     "name": "stdout",
     "output_type": "stream",
     "text": [
      "DONE\n",
      "DONE\n",
      "Actor_loss 1.27878404\n",
      "Critic_loss 1.00000210\n",
      "Rewards mean 1.00000000 Rewards std 0.00000000 Rewards sum 16.00000000\n"
     ]
    },
    {
     "name": "stderr",
     "output_type": "stream",
     "text": [
      "\n",
      "  6%|███████▊                                                                                                                 | 13/200 [00:00<00:01, 175.37it/s]\u001b[A\n",
      " 82%|███████████████████████████████████████████████████████████████████████████████████████████████████                     | 825/1000 [01:22<00:17,  9.99it/s]"
     ]
    },
    {
     "name": "stdout",
     "output_type": "stream",
     "text": [
      "DONE\n",
      "DONE\n",
      "Actor_loss 1.16908097\n",
      "Critic_loss 1.00000305\n",
      "Rewards mean 1.00000000 Rewards std 0.00000000 Rewards sum 14.00000000\n"
     ]
    },
    {
     "name": "stderr",
     "output_type": "stream",
     "text": [
      "\n",
      "  7%|████████▍                                                                                                                | 14/200 [00:00<00:01, 174.03it/s]\u001b[A\n",
      " 83%|███████████████████████████████████████████████████████████████████████████████████████████████████▏                    | 827/1000 [01:22<00:16, 10.51it/s]"
     ]
    },
    {
     "name": "stdout",
     "output_type": "stream",
     "text": [
      "DONE\n",
      "DONE\n",
      "Actor_loss 1.22776688\n",
      "Critic_loss 1.00000254\n",
      "Rewards mean 1.00000000 Rewards std 0.00000000 Rewards sum 15.00000000\n"
     ]
    },
    {
     "name": "stderr",
     "output_type": "stream",
     "text": [
      "\n",
      "  5%|██████                                                                                                                   | 10/200 [00:00<00:01, 165.43it/s]\u001b[A\n",
      " 83%|███████████████████████████████████████████████████████████████████████████████████████████████████▏                    | 827/1000 [01:22<00:16, 10.51it/s]"
     ]
    },
    {
     "name": "stdout",
     "output_type": "stream",
     "text": [
      "DONE\n",
      "DONE\n",
      "Actor_loss 1.24303805\n",
      "Critic_loss 1.00000265\n",
      "Rewards mean 1.00000000 Rewards std 0.00000000 Rewards sum 11.00000000\n"
     ]
    },
    {
     "name": "stderr",
     "output_type": "stream",
     "text": [
      "\n",
      "  8%|██████████▎                                                                                                              | 17/200 [00:00<00:01, 174.81it/s]\u001b[A\n",
      " 83%|███████████████████████████████████████████████████████████████████████████████████████████████████▍                    | 829/1000 [01:22<00:15, 10.84it/s]"
     ]
    },
    {
     "name": "stdout",
     "output_type": "stream",
     "text": [
      "DONE\n",
      "DONE\n",
      "Actor_loss 1.17369790\n",
      "Critic_loss 1.00000279\n",
      "Rewards mean 1.00000000 Rewards std 0.00000000 Rewards sum 18.00000000\n"
     ]
    },
    {
     "name": "stderr",
     "output_type": "stream",
     "text": [
      "\n",
      "  0%|                                                                                                                                   | 0/200 [00:00<?, ?it/s]\u001b[A\n",
      " 10%|███████████▍                                                                                                             | 19/200 [00:00<00:01, 164.29it/s]\u001b[A\n",
      " 83%|███████████████████████████████████████████████████████████████████████████████████████████████████▍                    | 829/1000 [01:22<00:15, 10.84it/s]"
     ]
    },
    {
     "name": "stdout",
     "output_type": "stream",
     "text": [
      "DONE\n",
      "DONE\n",
      "Actor_loss 1.37267015\n",
      "Critic_loss 1.00000098\n",
      "Rewards mean 1.00000000 Rewards std 0.00000000 Rewards sum 20.00000000\n"
     ]
    },
    {
     "name": "stderr",
     "output_type": "stream",
     "text": [
      "\n",
      "  0%|                                                                                                                                   | 0/200 [00:00<?, ?it/s]\u001b[A"
     ]
    },
    {
     "name": "stdout",
     "output_type": "stream",
     "text": [
      "DONE\n"
     ]
    },
    {
     "name": "stderr",
     "output_type": "stream",
     "text": [
      "  6%|██████▋                                                                                                                  | 11/200 [00:00<00:01, 154.26it/s]\n",
      " 83%|███████████████████████████████████████████████████████████████████████████████████████████████████▋                    | 831/1000 [01:22<00:15, 10.60it/s]"
     ]
    },
    {
     "name": "stdout",
     "output_type": "stream",
     "text": [
      "DONE\n",
      "Actor_loss 1.21376650\n",
      "Critic_loss 1.00000268\n",
      "Rewards mean 1.00000000 Rewards std 0.00000000 Rewards sum 12.00000000\n"
     ]
    },
    {
     "name": "stderr",
     "output_type": "stream",
     "text": [
      "\n",
      "  0%|                                                                                                                                   | 0/200 [00:00<?, ?it/s]\u001b[A\n",
      " 16%|███████████████████▎                                                                                                     | 32/200 [00:00<00:00, 197.39it/s]\u001b[A\n",
      " 83%|███████████████████████████████████████████████████████████████████████████████████████████████████▋                    | 831/1000 [01:23<00:15, 10.60it/s]"
     ]
    },
    {
     "name": "stdout",
     "output_type": "stream",
     "text": [
      "DONE\n",
      "DONE\n",
      "Actor_loss 1.35679559\n",
      "Critic_loss 1.00000122\n",
      "Rewards mean 1.00000000 Rewards std 0.00000000 Rewards sum 33.00000000\n"
     ]
    },
    {
     "name": "stderr",
     "output_type": "stream",
     "text": [
      "\n",
      "  5%|██████                                                                                                                   | 10/200 [00:00<00:01, 184.29it/s]\u001b[A\n",
      " 83%|███████████████████████████████████████████████████████████████████████████████████████████████████▉                    | 833/1000 [01:23<00:16,  9.97it/s]"
     ]
    },
    {
     "name": "stdout",
     "output_type": "stream",
     "text": [
      "DONE\n",
      "DONE\n",
      "Actor_loss 1.24301920\n",
      "Critic_loss 1.00000263\n",
      "Rewards mean 1.00000000 Rewards std 0.00000000 Rewards sum 11.00000000\n"
     ]
    },
    {
     "name": "stderr",
     "output_type": "stream",
     "text": [
      "\n",
      "  0%|                                                                                                                                   | 0/200 [00:00<?, ?it/s]\u001b[A\n",
      " 14%|████████████████▉                                                                                                        | 28/200 [00:00<00:00, 190.41it/s]\u001b[A\n",
      " 83%|███████████████████████████████████████████████████████████████████████████████████████████████████▉                    | 833/1000 [01:23<00:16,  9.97it/s]"
     ]
    },
    {
     "name": "stdout",
     "output_type": "stream",
     "text": [
      "DONE\n",
      "DONE\n",
      "Actor_loss 1.26594687\n",
      "Critic_loss 1.00000194\n",
      "Rewards mean 1.00000000 Rewards std 0.00000000 Rewards sum 29.00000000\n"
     ]
    },
    {
     "name": "stderr",
     "output_type": "stream",
     "text": [
      "\n",
      "  5%|██████                                                                                                                   | 10/200 [00:00<00:01, 161.09it/s]\u001b[A\n",
      " 84%|████████████████████████████████████████████████████████████████████████████████████████████████████▏                   | 835/1000 [01:23<00:17,  9.66it/s]"
     ]
    },
    {
     "name": "stdout",
     "output_type": "stream",
     "text": [
      "DONE\n",
      "DONE\n",
      "Actor_loss 1.02848905\n",
      "Critic_loss 1.00000438\n",
      "Rewards mean 1.00000000 Rewards std 0.00000000 Rewards sum 11.00000000\n"
     ]
    },
    {
     "name": "stderr",
     "output_type": "stream",
     "text": [
      "\n",
      "  0%|                                                                                                                                   | 0/200 [00:00<?, ?it/s]\u001b[A\n",
      " 11%|█████████████▎                                                                                                           | 22/200 [00:00<00:00, 197.09it/s]\u001b[A\n",
      " 84%|████████████████████████████████████████████████████████████████████████████████████████████████████▎                   | 836/1000 [01:23<00:17,  9.41it/s]"
     ]
    },
    {
     "name": "stdout",
     "output_type": "stream",
     "text": [
      "DONE\n",
      "DONE\n",
      "Actor_loss 1.45735775\n",
      "Critic_loss 1.00000038\n",
      "Rewards mean 1.00000000 Rewards std 0.00000000 Rewards sum 23.00000000\n"
     ]
    },
    {
     "name": "stderr",
     "output_type": "stream",
     "text": [
      "\n",
      "  5%|██████                                                                                                                   | 10/200 [00:00<00:01, 176.76it/s]\u001b[A\n",
      " 84%|████████████████████████████████████████████████████████████████████████████████████████████████████▎                   | 836/1000 [01:23<00:17,  9.41it/s]"
     ]
    },
    {
     "name": "stdout",
     "output_type": "stream",
     "text": [
      "DONE\n",
      "DONE\n",
      "Actor_loss 1.24294686\n",
      "Critic_loss 1.00000267\n",
      "Rewards mean 1.00000000 Rewards std 0.00000000 Rewards sum 11.00000000\n"
     ]
    },
    {
     "name": "stderr",
     "output_type": "stream",
     "text": [
      "\n",
      " 10%|███████████▍                                                                                                             | 19/200 [00:00<00:01, 180.64it/s]\u001b[A\n",
      " 84%|████████████████████████████████████████████████████████████████████████████████████████████████████▌                   | 838/1000 [01:23<00:16, 10.02it/s]"
     ]
    },
    {
     "name": "stdout",
     "output_type": "stream",
     "text": [
      "DONE\n",
      "DONE\n",
      "Actor_loss 1.37269035\n",
      "Critic_loss 1.00000097\n",
      "Rewards mean 1.00000000 Rewards std 0.00000000 Rewards sum 20.00000000\n"
     ]
    },
    {
     "name": "stderr",
     "output_type": "stream",
     "text": [
      "\n",
      "  6%|███████▎                                                                                                                 | 12/200 [00:00<00:00, 194.19it/s]\u001b[A\n",
      " 84%|████████████████████████████████████████████████████████████████████████████████████████████████████▌                   | 838/1000 [01:23<00:16, 10.02it/s]"
     ]
    },
    {
     "name": "stdout",
     "output_type": "stream",
     "text": [
      "DONE\n",
      "DONE\n",
      "Actor_loss 1.36797733\n",
      "Critic_loss 1.00000098\n",
      "Rewards mean 1.00000000 Rewards std 0.00000000 Rewards sum 13.00000000\n"
     ]
    },
    {
     "name": "stderr",
     "output_type": "stream",
     "text": [
      "\n",
      "  8%|█████████                                                                                                                | 15/200 [00:00<00:00, 187.10it/s]\u001b[A\n",
      " 84%|████████████████████████████████████████████████████████████████████████████████████████████████████▊                   | 840/1000 [01:23<00:14, 10.84it/s]"
     ]
    },
    {
     "name": "stdout",
     "output_type": "stream",
     "text": [
      "DONE\n",
      "DONE\n",
      "Actor_loss 1.27867761\n",
      "Critic_loss 1.00000197\n",
      "Rewards mean 1.00000000 Rewards std 0.00000000 Rewards sum 16.00000000\n"
     ]
    },
    {
     "name": "stderr",
     "output_type": "stream",
     "text": [
      "\n",
      "  8%|█████████▋                                                                                                               | 16/200 [00:00<00:01, 173.07it/s]\u001b[A\n",
      " 84%|████████████████████████████████████████████████████████████████████████████████████████████████████▊                   | 840/1000 [01:23<00:14, 10.84it/s]"
     ]
    },
    {
     "name": "stdout",
     "output_type": "stream",
     "text": [
      "DONE\n",
      "DONE\n",
      "Actor_loss 1.25634016\n",
      "Critic_loss 1.00000229\n",
      "Rewards mean 1.00000000 Rewards std 0.00000000 Rewards sum 17.00000000\n"
     ]
    },
    {
     "name": "stderr",
     "output_type": "stream",
     "text": [
      "\n",
      " 10%|███████████▍                                                                                                             | 19/200 [00:00<00:00, 184.58it/s]\u001b[A\n",
      " 84%|█████████████████████████████████████████████████████████████████████████████████████████████████████                   | 842/1000 [01:24<00:15, 10.37it/s]"
     ]
    },
    {
     "name": "stdout",
     "output_type": "stream",
     "text": [
      "DONE\n",
      "DONE\n",
      "Actor_loss 1.25983603\n",
      "Critic_loss 1.00000212\n",
      "Rewards mean 1.00000000 Rewards std 0.00000000 Rewards sum 20.00000000\n"
     ]
    },
    {
     "name": "stderr",
     "output_type": "stream",
     "text": [
      "\n",
      "  8%|█████████▋                                                                                                               | 16/200 [00:00<00:00, 193.68it/s]\u001b[A"
     ]
    },
    {
     "name": "stdout",
     "output_type": "stream",
     "text": [
      "DONE\n",
      "DONE\n"
     ]
    },
    {
     "name": "stderr",
     "output_type": "stream",
     "text": [
      "\n",
      " 84%|█████████████████████████████████████████████████████████████████████████████████████████████████████                   | 842/1000 [01:24<00:15, 10.37it/s]"
     ]
    },
    {
     "name": "stdout",
     "output_type": "stream",
     "text": [
      "Actor_loss 1.39036468\n",
      "Critic_loss 1.00000078\n",
      "Rewards mean 1.00000000 Rewards std 0.00000000 Rewards sum 17.00000000\n"
     ]
    },
    {
     "name": "stderr",
     "output_type": "stream",
     "text": [
      "\n",
      "  0%|                                                                                                                                   | 0/200 [00:00<?, ?it/s]\u001b[A\n",
      "  9%|██████████▉                                                                                                              | 18/200 [00:00<00:01, 157.94it/s]\u001b[A\n",
      " 84%|█████████████████████████████████████████████████████████████████████████████████████████████████████▎                  | 844/1000 [01:24<00:15, 10.13it/s]"
     ]
    },
    {
     "name": "stdout",
     "output_type": "stream",
     "text": [
      "DONE\n",
      "DONE\n",
      "Actor_loss 1.27865746\n",
      "Critic_loss 1.00000192\n",
      "Rewards mean 1.00000000 Rewards std 0.00000000 Rewards sum 19.00000000\n"
     ]
    },
    {
     "name": "stderr",
     "output_type": "stream",
     "text": [
      "\n",
      "  6%|███████▎                                                                                                                 | 12/200 [00:00<00:00, 194.50it/s]\u001b[A\n",
      " 84%|█████████████████████████████████████████████████████████████████████████████████████████████████████▎                  | 844/1000 [01:24<00:15, 10.13it/s]"
     ]
    },
    {
     "name": "stdout",
     "output_type": "stream",
     "text": [
      "DONE\n",
      "DONE\n",
      "Actor_loss 1.18923499\n",
      "Critic_loss 1.00000309\n",
      "Rewards mean 1.00000000 Rewards std 0.00000000 Rewards sum 13.00000000\n"
     ]
    },
    {
     "name": "stderr",
     "output_type": "stream",
     "text": [
      "\n",
      "  9%|██████████▉                                                                                                              | 18/200 [00:00<00:00, 203.36it/s]\u001b[A\n",
      " 85%|█████████████████████████████████████████████████████████████████████████████████████████████████████▌                  | 846/1000 [01:24<00:14, 10.74it/s]"
     ]
    },
    {
     "name": "stdout",
     "output_type": "stream",
     "text": [
      "DONE\n",
      "DONE\n",
      "Actor_loss 1.21895621\n",
      "Critic_loss 1.00000255\n",
      "Rewards mean 1.00000000 Rewards std 0.00000000 Rewards sum 19.00000000\n"
     ]
    },
    {
     "name": "stderr",
     "output_type": "stream",
     "text": [
      "\n",
      "  8%|█████████                                                                                                                | 15/200 [00:00<00:00, 193.93it/s]\u001b[A\n",
      " 85%|█████████████████████████████████████████████████████████████████████████████████████████████████████▌                  | 846/1000 [01:24<00:14, 10.74it/s]"
     ]
    },
    {
     "name": "stdout",
     "output_type": "stream",
     "text": [
      "DONE\n",
      "DONE\n",
      "Actor_loss 1.27859310\n",
      "Critic_loss 1.00000192\n",
      "Rewards mean 1.00000000 Rewards std 0.00000000 Rewards sum 16.00000000\n"
     ]
    },
    {
     "name": "stderr",
     "output_type": "stream",
     "text": [
      "\n",
      " 10%|███████████▍                                                                                                             | 19/200 [00:00<00:00, 205.90it/s]\u001b[A\n",
      " 85%|█████████████████████████████████████████████████████████████████████████████████████████████████████▊                  | 848/1000 [01:24<00:14, 10.85it/s]"
     ]
    },
    {
     "name": "stdout",
     "output_type": "stream",
     "text": [
      "DONE\n",
      "DONE\n",
      "Actor_loss 1.42930568\n",
      "Critic_loss 1.00000017\n",
      "Rewards mean 1.00000000 Rewards std 0.00000000 Rewards sum 20.00000000\n"
     ]
    },
    {
     "name": "stderr",
     "output_type": "stream",
     "text": [
      "\n",
      "  8%|█████████                                                                                                                | 15/200 [00:00<00:00, 195.06it/s]\u001b[A\n",
      " 85%|█████████████████████████████████████████████████████████████████████████████████████████████████████▊                  | 848/1000 [01:24<00:14, 10.85it/s]"
     ]
    },
    {
     "name": "stdout",
     "output_type": "stream",
     "text": [
      "DONE\n",
      "DONE\n",
      "Actor_loss 1.27861052\n",
      "Critic_loss 1.00000201\n",
      "Rewards mean 1.00000000 Rewards std 0.00000000 Rewards sum 16.00000000\n"
     ]
    },
    {
     "name": "stderr",
     "output_type": "stream",
     "text": [
      "\n",
      "  0%|                                                                                                                                   | 0/200 [00:00<?, ?it/s]\u001b[A\n",
      " 16%|███████████████████▎                                                                                                     | 32/200 [00:00<00:00, 189.49it/s]\u001b[A\n",
      " 85%|██████████████████████████████████████████████████████████████████████████████████████████████████████                  | 850/1000 [01:24<00:15,  9.68it/s]"
     ]
    },
    {
     "name": "stdout",
     "output_type": "stream",
     "text": [
      "DONE\n",
      "DONE\n",
      "Actor_loss 1.39039410\n",
      "Critic_loss 1.00000083\n",
      "Rewards mean 1.00000000 Rewards std 0.00000000 Rewards sum 33.00000000\n"
     ]
    },
    {
     "name": "stderr",
     "output_type": "stream",
     "text": [
      "\n",
      "  8%|█████████                                                                                                                | 15/200 [00:00<00:01, 169.04it/s]\u001b[A\n",
      " 85%|██████████████████████████████████████████████████████████████████████████████████████████████████████                  | 850/1000 [01:24<00:15,  9.68it/s]"
     ]
    },
    {
     "name": "stdout",
     "output_type": "stream",
     "text": [
      "DONE\n",
      "DONE\n",
      "Actor_loss 1.27864270\n",
      "Critic_loss 1.00000199\n",
      "Rewards mean 1.00000000 Rewards std 0.00000000 Rewards sum 16.00000000\n"
     ]
    },
    {
     "name": "stderr",
     "output_type": "stream",
     "text": [
      "\n",
      "  8%|█████████▋                                                                                                               | 16/200 [00:00<00:00, 189.48it/s]\u001b[A\n",
      " 85%|██████████████████████████████████████████████████████████████████████████████████████████████████████▏                 | 852/1000 [01:25<00:14, 10.01it/s]"
     ]
    },
    {
     "name": "stdout",
     "output_type": "stream",
     "text": [
      "DONE\n",
      "DONE\n",
      "Actor_loss 1.32333652\n",
      "Critic_loss 1.00000149\n",
      "Rewards mean 1.00000000 Rewards std 0.00000000 Rewards sum 17.00000000\n"
     ]
    },
    {
     "name": "stderr",
     "output_type": "stream",
     "text": [
      "\n",
      "  8%|██████████▎                                                                                                              | 17/200 [00:00<00:00, 194.81it/s]\u001b[A\n",
      " 85%|██████████████████████████████████████████████████████████████████████████████████████████████████████▏                 | 852/1000 [01:25<00:14, 10.01it/s]"
     ]
    },
    {
     "name": "stdout",
     "output_type": "stream",
     "text": [
      "DONE\n",
      "DONE\n",
      "Actor_loss 1.23653228\n",
      "Critic_loss 1.00000238\n",
      "Rewards mean 1.00000000 Rewards std 0.00000000 Rewards sum 18.00000000\n"
     ]
    },
    {
     "name": "stderr",
     "output_type": "stream",
     "text": [
      "\n",
      "  7%|████████▍                                                                                                                | 14/200 [00:00<00:01, 164.66it/s]\u001b[A\n",
      " 85%|██████████████████████████████████████████████████████████████████████████████████████████████████████▍                 | 854/1000 [01:25<00:14, 10.25it/s]"
     ]
    },
    {
     "name": "stdout",
     "output_type": "stream",
     "text": [
      "DONE\n",
      "DONE\n",
      "Actor_loss 1.07392301\n",
      "Critic_loss 1.00000388\n",
      "Rewards mean 1.00000000 Rewards std 0.00000000 Rewards sum 15.00000000\n"
     ]
    },
    {
     "name": "stderr",
     "output_type": "stream",
     "text": [
      "\n",
      "  5%|██████                                                                                                                   | 10/200 [00:00<00:01, 178.73it/s]\u001b[A\n",
      " 85%|██████████████████████████████████████████████████████████████████████████████████████████████████████▍                 | 854/1000 [01:25<00:14, 10.25it/s]"
     ]
    },
    {
     "name": "stdout",
     "output_type": "stream",
     "text": [
      "DONE\n",
      "DONE\n",
      "Actor_loss 1.13510200\n",
      "Critic_loss 1.00000376\n",
      "Rewards mean 1.00000000 Rewards std 0.00000000 Rewards sum 11.00000000\n"
     ]
    },
    {
     "name": "stderr",
     "output_type": "stream",
     "text": [
      "\n",
      "  8%|█████████▋                                                                                                               | 16/200 [00:00<00:01, 162.06it/s]\u001b[A\n",
      " 86%|██████████████████████████████████████████████████████████████████████████████████████████████████████▋                 | 856/1000 [01:25<00:13, 10.73it/s]"
     ]
    },
    {
     "name": "stdout",
     "output_type": "stream",
     "text": [
      "DONE\n",
      "DONE\n",
      "Actor_loss 1.32335714\n",
      "Critic_loss 1.00000153\n",
      "Rewards mean 1.00000000 Rewards std 0.00000000 Rewards sum 17.00000000\n"
     ]
    },
    {
     "name": "stderr",
     "output_type": "stream",
     "text": [
      "\n",
      "  0%|                                                                                                                                   | 0/200 [00:00<?, ?it/s]\u001b[A\n",
      " 10%|████████████▋                                                                                                            | 21/200 [00:00<00:00, 203.52it/s]\u001b[A\n",
      " 22%|██████████████████████████                                                                                               | 43/200 [00:00<00:00, 193.17it/s]\u001b[A\n",
      " 86%|██████████████████████████████████████████████████████████████████████████████████████████████████████▋                 | 856/1000 [01:25<00:13, 10.73it/s]"
     ]
    },
    {
     "name": "stdout",
     "output_type": "stream",
     "text": [
      "DONE\n",
      "DONE\n",
      "Actor_loss 1.49514832\n",
      "Critic_loss 0.99999943\n",
      "Rewards mean 1.00000000 Rewards std 0.00000000 Rewards sum 44.00000000\n"
     ]
    },
    {
     "name": "stderr",
     "output_type": "stream",
     "text": [
      "\n",
      "  7%|████████▍                                                                                                                | 14/200 [00:00<00:00, 201.49it/s]\u001b[A\n",
      " 86%|██████████████████████████████████████████████████████████████████████████████████████████████████████▉                 | 858/1000 [01:25<00:15,  9.03it/s]"
     ]
    },
    {
     "name": "stdout",
     "output_type": "stream",
     "text": [
      "DONE\n",
      "DONE\n",
      "Actor_loss 1.38078457\n",
      "Critic_loss 1.00000083\n",
      "Rewards mean 1.00000000 Rewards std 0.00000000 Rewards sum 15.00000000\n"
     ]
    },
    {
     "name": "stderr",
     "output_type": "stream",
     "text": [
      "\n",
      "  8%|█████████▋                                                                                                               | 16/200 [00:00<00:00, 189.11it/s]\u001b[A\n",
      " 86%|██████████████████████████████████████████████████████████████████████████████████████████████████████▉                 | 858/1000 [01:25<00:15,  9.03it/s]"
     ]
    },
    {
     "name": "stdout",
     "output_type": "stream",
     "text": [
      "DONE\n",
      "DONE\n",
      "Actor_loss 1.32333120\n",
      "Critic_loss 1.00000161\n",
      "Rewards mean 1.00000000 Rewards std 0.00000000 Rewards sum 17.00000000\n"
     ]
    },
    {
     "name": "stderr",
     "output_type": "stream",
     "text": [
      "\n",
      "  0%|                                                                                                                                   | 0/200 [00:00<?, ?it/s]\u001b[A\n",
      " 10%|████████████▋                                                                                                            | 21/200 [00:00<00:00, 181.14it/s]\u001b[A\n",
      " 86%|███████████████████████████████████████████████████████████████████████████████████████████████████████▏                | 860/1000 [01:25<00:15,  9.16it/s]"
     ]
    },
    {
     "name": "stdout",
     "output_type": "stream",
     "text": [
      "DONE\n",
      "DONE\n",
      "Actor_loss 1.38072968\n",
      "Critic_loss 1.00000097\n",
      "Rewards mean 1.00000000 Rewards std 0.00000000 Rewards sum 22.00000000\n"
     ]
    },
    {
     "name": "stderr",
     "output_type": "stream",
     "text": [
      "\n",
      "  0%|                                                                                                                                   | 0/200 [00:00<?, ?it/s]\u001b[A\n",
      " 10%|████████████                                                                                                             | 20/200 [00:00<00:01, 166.58it/s]\u001b[A\n",
      " 86%|███████████████████████████████████████████████████████████████████████████████████████████████████████▎                | 861/1000 [01:26<00:15,  8.92it/s]"
     ]
    },
    {
     "name": "stdout",
     "output_type": "stream",
     "text": [
      "DONE\n",
      "DONE\n",
      "Actor_loss 1.24295517\n",
      "Critic_loss 1.00000232\n",
      "Rewards mean 1.00000000 Rewards std 0.00000000 Rewards sum 21.00000000\n"
     ]
    },
    {
     "name": "stderr",
     "output_type": "stream",
     "text": [
      "\n",
      "  9%|██████████▉                                                                                                              | 18/200 [00:00<00:01, 181.28it/s]\u001b[A\n",
      " 86%|███████████████████████████████████████████████████████████████████████████████████████████████████████▍                | 862/1000 [01:26<00:15,  9.02it/s]"
     ]
    },
    {
     "name": "stdout",
     "output_type": "stream",
     "text": [
      "DONE\n",
      "DONE\n",
      "Actor_loss 1.39775657\n",
      "Critic_loss 1.00000069\n",
      "Rewards mean 1.00000000 Rewards std 0.00000000 Rewards sum 19.00000000\n"
     ]
    },
    {
     "name": "stderr",
     "output_type": "stream",
     "text": [
      "\n",
      "  7%|████████▍                                                                                                                | 14/200 [00:00<00:01, 168.13it/s]\u001b[A\n"
     ]
    },
    {
     "name": "stdout",
     "output_type": "stream",
     "text": [
      "DONE\n",
      "DONE\n"
     ]
    },
    {
     "name": "stderr",
     "output_type": "stream",
     "text": [
      " 86%|███████████████████████████████████████████████████████████████████████████████████████████████████████▍                | 862/1000 [01:26<00:15,  9.02it/s]"
     ]
    },
    {
     "name": "stdout",
     "output_type": "stream",
     "text": [
      "Actor_loss 1.38071970\n",
      "Critic_loss 1.00000091\n",
      "Rewards mean 1.00000000 Rewards std 0.00000000 Rewards sum 15.00000000\n"
     ]
    },
    {
     "name": "stderr",
     "output_type": "stream",
     "text": [
      "\n",
      "  6%|███████▎                                                                                                                 | 12/200 [00:00<00:01, 169.65it/s]\u001b[A\n",
      " 86%|███████████████████████████████████████████████████████████████████████████████████████████████████████▋                | 864/1000 [01:26<00:13,  9.94it/s]"
     ]
    },
    {
     "name": "stdout",
     "output_type": "stream",
     "text": [
      "DONE\n",
      "DONE\n",
      "Actor_loss 1.27868950\n",
      "Critic_loss 1.00000219\n",
      "Rewards mean 1.00000000 Rewards std 0.00000000 Rewards sum 13.00000000\n"
     ]
    },
    {
     "name": "stderr",
     "output_type": "stream",
     "text": [
      "\n",
      "  0%|                                                                                                                                   | 0/200 [00:00<?, ?it/s]\u001b[A\n",
      " 10%|████████████                                                                                                             | 20/200 [00:00<00:00, 185.70it/s]\u001b[A\n",
      " 86%|███████████████████████████████████████████████████████████████████████████████████████████████████████▋                | 864/1000 [01:26<00:13,  9.94it/s]"
     ]
    },
    {
     "name": "stdout",
     "output_type": "stream",
     "text": [
      "DONE\n",
      "DONE\n",
      "Actor_loss 1.40366091\n",
      "Critic_loss 1.00000055\n",
      "Rewards mean 1.00000000 Rewards std 0.00000000 Rewards sum 21.00000000\n"
     ]
    },
    {
     "name": "stderr",
     "output_type": "stream",
     "text": [
      "\n",
      "  0%|                                                                                                                                   | 0/200 [00:00<?, ?it/s]\u001b[A\n",
      " 16%|███████████████████▎                                                                                                     | 32/200 [00:00<00:00, 212.51it/s]\u001b[A\n",
      " 87%|███████████████████████████████████████████████████████████████████████████████████████████████████████▉                | 866/1000 [01:26<00:15,  8.91it/s]"
     ]
    },
    {
     "name": "stdout",
     "output_type": "stream",
     "text": [
      "DONE\n",
      "DONE\n",
      "Actor_loss 1.42363682\n",
      "Critic_loss 1.00000032\n",
      "Rewards mean 1.00000000 Rewards std 0.00000000 Rewards sum 33.00000000\n"
     ]
    },
    {
     "name": "stderr",
     "output_type": "stream",
     "text": [
      "\n",
      "  5%|██████                                                                                                                   | 10/200 [00:00<00:01, 167.63it/s]\u001b[A\n",
      " 87%|███████████████████████████████████████████████████████████████████████████████████████████████████████▉                | 866/1000 [01:26<00:15,  8.91it/s]"
     ]
    },
    {
     "name": "stdout",
     "output_type": "stream",
     "text": [
      "DONE\n",
      "DONE\n",
      "Actor_loss 1.13615199\n",
      "Critic_loss 1.00000372\n",
      "Rewards mean 1.00000000 Rewards std 0.00000000 Rewards sum 11.00000000\n"
     ]
    },
    {
     "name": "stderr",
     "output_type": "stream",
     "text": [
      "\n",
      "  0%|                                                                                                                                   | 0/200 [00:00<?, ?it/s]\u001b[A\n",
      " 11%|█████████████▎                                                                                                           | 22/200 [00:00<00:01, 164.39it/s]\u001b[A\n",
      " 87%|████████████████████████████████████████████████████████████████████████████████████████████████████████▏               | 868/1000 [01:26<00:14,  9.14it/s]"
     ]
    },
    {
     "name": "stdout",
     "output_type": "stream",
     "text": [
      "DONE\n",
      "DONE\n",
      "Actor_loss 1.55408441\n",
      "Critic_loss 0.99999833\n",
      "Rewards mean 1.00000000 Rewards std 0.00000000 Rewards sum 23.00000000\n"
     ]
    },
    {
     "name": "stderr",
     "output_type": "stream",
     "text": [
      "\n",
      "  7%|████████▍                                                                                                                | 14/200 [00:00<00:01, 172.92it/s]\u001b[A\n",
      " 87%|████████████████████████████████████████████████████████████████████████████████████████████████████████▏               | 868/1000 [01:26<00:14,  9.14it/s]"
     ]
    },
    {
     "name": "stdout",
     "output_type": "stream",
     "text": [
      "DONE\n",
      "DONE\n",
      "Actor_loss 1.15166433\n",
      "Critic_loss 1.00000328\n",
      "Rewards mean 1.00000000 Rewards std 0.00000000 Rewards sum 15.00000000\n"
     ]
    },
    {
     "name": "stderr",
     "output_type": "stream",
     "text": [
      "\n",
      "  9%|██████████▉                                                                                                              | 18/200 [00:00<00:00, 199.77it/s]\u001b[A\n",
      " 87%|████████████████████████████████████████████████████████████████████████████████████████████████████████▍               | 870/1000 [01:26<00:13,  9.65it/s]"
     ]
    },
    {
     "name": "stdout",
     "output_type": "stream",
     "text": [
      "DONE\n",
      "DONE\n",
      "Actor_loss 1.51605489\n",
      "Critic_loss 0.99999910\n",
      "Rewards mean 1.00000000 Rewards std 0.00000000 Rewards sum 19.00000000\n"
     ]
    },
    {
     "name": "stderr",
     "output_type": "stream",
     "text": [
      "\n",
      "  0%|                                                                                                                                   | 0/200 [00:00<?, ?it/s]\u001b[A\n",
      " 12%|█████████████▉                                                                                                           | 23/200 [00:00<00:00, 200.73it/s]\u001b[A\n",
      " 87%|████████████████████████████████████████████████████████████████████████████████████████████████████████▌               | 871/1000 [01:27<00:13,  9.35it/s]"
     ]
    },
    {
     "name": "stdout",
     "output_type": "stream",
     "text": [
      "DONE\n",
      "DONE\n",
      "Actor_loss 1.20150814\n",
      "Critic_loss 1.00000260\n",
      "Rewards mean 1.00000000 Rewards std 0.00000000 Rewards sum 24.00000000\n"
     ]
    },
    {
     "name": "stderr",
     "output_type": "stream",
     "text": [
      "\n",
      "  7%|████████▍                                                                                                                | 14/200 [00:00<00:01, 175.42it/s]\u001b[A\n",
      " 87%|████████████████████████████████████████████████████████████████████████████████████████████████████████▌               | 871/1000 [01:27<00:13,  9.35it/s]"
     ]
    },
    {
     "name": "stdout",
     "output_type": "stream",
     "text": [
      "DONE\n",
      "DONE\n",
      "Actor_loss 1.22793794\n",
      "Critic_loss 1.00000259\n",
      "Rewards mean 1.00000000 Rewards std 0.00000000 Rewards sum 15.00000000\n"
     ]
    },
    {
     "name": "stderr",
     "output_type": "stream",
     "text": [
      "\n",
      "  8%|█████████▋                                                                                                               | 16/200 [00:00<00:01, 172.90it/s]\u001b[A\n",
      " 87%|████████████████████████████████████████████████████████████████████████████████████████████████████████▊               | 873/1000 [01:27<00:12,  9.83it/s]"
     ]
    },
    {
     "name": "stdout",
     "output_type": "stream",
     "text": [
      "DONE\n",
      "DONE\n",
      "Actor_loss 1.39005989\n",
      "Critic_loss 1.00000077\n",
      "Rewards mean 1.00000000 Rewards std 0.00000000 Rewards sum 17.00000000\n"
     ]
    },
    {
     "name": "stderr",
     "output_type": "stream",
     "text": [
      "\n",
      "  8%|██████████▎                                                                                                              | 17/200 [00:00<00:00, 191.42it/s]\u001b[A\n",
      " 87%|████████████████████████████████████████████████████████████████████████████████████████████████████████▊               | 873/1000 [01:27<00:12,  9.83it/s]"
     ]
    },
    {
     "name": "stdout",
     "output_type": "stream",
     "text": [
      "DONE\n",
      "DONE\n",
      "Actor_loss 1.36255969\n",
      "Critic_loss 1.00000119\n",
      "Rewards mean 1.00000000 Rewards std 0.00000000 Rewards sum 18.00000000\n"
     ]
    },
    {
     "name": "stderr",
     "output_type": "stream",
     "text": [
      "\n",
      "  6%|██████▋                                                                                                                  | 11/200 [00:00<00:00, 196.44it/s]\u001b[A\n",
      " 88%|█████████████████████████████████████████████████████████████████████████████████████████████████████████               | 875/1000 [01:27<00:11, 10.65it/s]"
     ]
    },
    {
     "name": "stdout",
     "output_type": "stream",
     "text": [
      "DONE\n",
      "DONE\n",
      "Actor_loss 1.21412262\n",
      "Critic_loss 1.00000288\n",
      "Rewards mean 1.00000000 Rewards std 0.00000000 Rewards sum 12.00000000\n"
     ]
    },
    {
     "name": "stderr",
     "output_type": "stream",
     "text": [
      "\n",
      "  6%|███████▊                                                                                                                 | 13/200 [00:00<00:01, 158.52it/s]\u001b[A\n",
      " 88%|█████████████████████████████████████████████████████████████████████████████████████████████████████████               | 875/1000 [01:27<00:11, 10.65it/s]"
     ]
    },
    {
     "name": "stdout",
     "output_type": "stream",
     "text": [
      "DONE\n",
      "DONE\n",
      "Actor_loss 1.49778301\n",
      "Critic_loss 0.99999980\n",
      "Rewards mean 1.00000000 Rewards std 0.00000000 Rewards sum 14.00000000\n"
     ]
    },
    {
     "name": "stderr",
     "output_type": "stream",
     "text": [
      "\n",
      "  6%|███████▊                                                                                                                 | 13/200 [00:00<00:01, 179.89it/s]\u001b[A\n",
      " 88%|█████████████████████████████████████████████████████████████████████████████████████████████████████████▏              | 877/1000 [01:27<00:11, 11.08it/s]"
     ]
    },
    {
     "name": "stdout",
     "output_type": "stream",
     "text": [
      "DONE\n",
      "DONE\n",
      "Actor_loss 1.25147535\n",
      "Critic_loss 1.00000243\n",
      "Rewards mean 1.00000000 Rewards std 0.00000000 Rewards sum 14.00000000\n"
     ]
    },
    {
     "name": "stderr",
     "output_type": "stream",
     "text": [
      "\n",
      "  8%|█████████▋                                                                                                               | 16/200 [00:00<00:00, 205.86it/s]\u001b[A\n",
      " 88%|█████████████████████████████████████████████████████████████████████████████████████████████████████████▏              | 877/1000 [01:27<00:11, 11.08it/s]"
     ]
    },
    {
     "name": "stdout",
     "output_type": "stream",
     "text": [
      "DONE\n",
      "DONE\n",
      "Actor_loss 1.65649134\n",
      "Critic_loss 0.99999614\n",
      "Rewards mean 1.00000000 Rewards std 0.00000000 Rewards sum 17.00000000\n"
     ]
    },
    {
     "name": "stderr",
     "output_type": "stream",
     "text": [
      "\n",
      "  4%|████▉                                                                                                                     | 8/200 [00:00<00:01, 172.49it/s]\u001b[A\n",
      " 88%|█████████████████████████████████████████████████████████████████████████████████████████████████████████▍              | 879/1000 [01:27<00:10, 12.04it/s]"
     ]
    },
    {
     "name": "stdout",
     "output_type": "stream",
     "text": [
      "DONE\n",
      "DONE\n",
      "Actor_loss 1.05697469\n",
      "Critic_loss 1.00000482\n",
      "Rewards mean 1.00000000 Rewards std 0.00000000 Rewards sum 9.00000000\n"
     ]
    },
    {
     "name": "stderr",
     "output_type": "stream",
     "text": [
      "\n",
      "  8%|█████████                                                                                                                | 15/200 [00:00<00:00, 185.47it/s]\u001b[A\n",
      " 88%|█████████████████████████████████████████████████████████████████████████████████████████████████████████▍              | 879/1000 [01:27<00:10, 12.04it/s]"
     ]
    },
    {
     "name": "stdout",
     "output_type": "stream",
     "text": [
      "DONE\n",
      "DONE\n",
      "Actor_loss 1.49191320\n",
      "Critic_loss 0.99999986\n",
      "Rewards mean 1.00000000 Rewards std 0.00000000 Rewards sum 16.00000000\n"
     ]
    },
    {
     "name": "stderr",
     "output_type": "stream",
     "text": [
      "\n",
      "  6%|███████▊                                                                                                                 | 13/200 [00:00<00:00, 205.59it/s]\u001b[A\n",
      " 88%|█████████████████████████████████████████████████████████████████████████████████████████████████████████▋              | 881/1000 [01:27<00:09, 12.28it/s]"
     ]
    },
    {
     "name": "stdout",
     "output_type": "stream",
     "text": [
      "DONE\n",
      "DONE\n",
      "Actor_loss 1.25163076\n",
      "Critic_loss 1.00000241\n",
      "Rewards mean 1.00000000 Rewards std 0.00000000 Rewards sum 14.00000000\n"
     ]
    },
    {
     "name": "stderr",
     "output_type": "stream",
     "text": [
      "\n",
      "  6%|███████▎                                                                                                                 | 12/200 [00:00<00:00, 193.69it/s]\u001b[A\n",
      " 88%|█████████████████████████████████████████████████████████████████████████████████████████████████████████▋              | 881/1000 [01:27<00:09, 12.28it/s]"
     ]
    },
    {
     "name": "stdout",
     "output_type": "stream",
     "text": [
      "DONE\n",
      "DONE\n",
      "Actor_loss 1.10129901\n",
      "Critic_loss 1.00000378\n",
      "Rewards mean 1.00000000 Rewards std 0.00000000 Rewards sum 13.00000000\n"
     ]
    },
    {
     "name": "stderr",
     "output_type": "stream",
     "text": [
      "\n",
      "  4%|████▉                                                                                                                     | 8/200 [00:00<00:01, 154.01it/s]\u001b[A\n",
      " 88%|█████████████████████████████████████████████████████████████████████████████████████████████████████████▉              | 883/1000 [01:28<00:08, 13.23it/s]"
     ]
    },
    {
     "name": "stdout",
     "output_type": "stream",
     "text": [
      "DONE\n",
      "DONE\n",
      "Actor_loss 1.05661170\n",
      "Critic_loss 1.00000470\n",
      "Rewards mean 1.00000000 Rewards std 0.00000000 Rewards sum 9.00000000\n"
     ]
    },
    {
     "name": "stderr",
     "output_type": "stream",
     "text": [
      "\n",
      "  0%|                                                                                                                                   | 0/200 [00:00<?, ?it/s]\u001b[A"
     ]
    },
    {
     "name": "stdout",
     "output_type": "stream",
     "text": [
      "DONE\n"
     ]
    },
    {
     "name": "stderr",
     "output_type": "stream",
     "text": [
      "  6%|███████▎                                                                                                                 | 12/200 [00:00<00:01, 172.87it/s]\n",
      " 88%|█████████████████████████████████████████████████████████████████████████████████████████████████████████▉              | 883/1000 [01:28<00:08, 13.23it/s]"
     ]
    },
    {
     "name": "stdout",
     "output_type": "stream",
     "text": [
      "DONE\n",
      "Actor_loss 1.18984538\n",
      "Critic_loss 1.00000299\n",
      "Rewards mean 1.00000000 Rewards std 0.00000000 Rewards sum 13.00000000\n"
     ]
    },
    {
     "name": "stderr",
     "output_type": "stream",
     "text": [
      "\n",
      "  0%|                                                                                                                                   | 0/200 [00:00<?, ?it/s]\u001b[A"
     ]
    },
    {
     "name": "stdout",
     "output_type": "stream",
     "text": [
      "DONE\n"
     ]
    },
    {
     "name": "stderr",
     "output_type": "stream",
     "text": [
      "  6%|███████▊                                                                                                                 | 13/200 [00:00<00:00, 205.13it/s]\n",
      " 88%|██████████████████████████████████████████████████████████████████████████████████████████████████████████▏             | 885/1000 [01:28<00:08, 13.44it/s]"
     ]
    },
    {
     "name": "stdout",
     "output_type": "stream",
     "text": [
      "DONE\n",
      "Actor_loss 1.16922598\n",
      "Critic_loss 1.00000305\n",
      "Rewards mean 1.00000000 Rewards std 0.00000000 Rewards sum 14.00000000\n"
     ]
    },
    {
     "name": "stderr",
     "output_type": "stream",
     "text": [
      "\n",
      "  0%|                                                                                                                                   | 0/200 [00:00<?, ?it/s]\u001b[A\n",
      " 17%|████████████████████▌                                                                                                    | 34/200 [00:00<00:00, 181.78it/s]\u001b[A\n",
      " 88%|██████████████████████████████████████████████████████████████████████████████████████████████████████████▏             | 885/1000 [01:28<00:08, 13.44it/s]"
     ]
    },
    {
     "name": "stdout",
     "output_type": "stream",
     "text": [
      "DONE\n",
      "DONE\n",
      "Actor_loss 1.39400222\n",
      "Critic_loss 1.00000066\n",
      "Rewards mean 1.00000000 Rewards std 0.00000000 Rewards sum 35.00000000\n"
     ]
    },
    {
     "name": "stderr",
     "output_type": "stream",
     "text": [
      "\n",
      "  6%|███████▎                                                                                                                 | 12/200 [00:00<00:01, 184.33it/s]\u001b[A\n",
      " 89%|██████████████████████████████████████████████████████████████████████████████████████████████████████████▍             | 887/1000 [01:28<00:10, 10.89it/s]"
     ]
    },
    {
     "name": "stdout",
     "output_type": "stream",
     "text": [
      "DONE\n",
      "DONE\n",
      "Actor_loss 1.18979494\n",
      "Critic_loss 1.00000302\n",
      "Rewards mean 1.00000000 Rewards std 0.00000000 Rewards sum 13.00000000\n"
     ]
    },
    {
     "name": "stderr",
     "output_type": "stream",
     "text": [
      "\n",
      "  4%|████▉                                                                                                                     | 8/200 [00:00<00:01, 168.95it/s]\u001b[A\n",
      " 89%|██████████████████████████████████████████████████████████████████████████████████████████████████████████▍             | 887/1000 [01:28<00:10, 10.89it/s]"
     ]
    },
    {
     "name": "stdout",
     "output_type": "stream",
     "text": [
      "DONE\n",
      "DONE\n",
      "Actor_loss 1.05611780\n",
      "Critic_loss 1.00000475\n",
      "Rewards mean 1.00000000 Rewards std 0.00000000 Rewards sum 9.00000000\n"
     ]
    },
    {
     "name": "stderr",
     "output_type": "stream",
     "text": [
      "\n",
      "  8%|██████████▎                                                                                                              | 17/200 [00:00<00:00, 197.86it/s]\u001b[A\n",
      " 89%|██████████████████████████████████████████████████████████████████████████████████████████████████████████▋             | 889/1000 [01:28<00:09, 11.61it/s]"
     ]
    },
    {
     "name": "stdout",
     "output_type": "stream",
     "text": [
      "DONE\n",
      "DONE\n",
      "Actor_loss 1.23681990\n",
      "Critic_loss 1.00000256\n",
      "Rewards mean 1.00000000 Rewards std 0.00000000 Rewards sum 18.00000000\n"
     ]
    },
    {
     "name": "stderr",
     "output_type": "stream",
     "text": [
      "\n",
      "  0%|                                                                                                                                   | 0/200 [00:00<?, ?it/s]\u001b[A\n",
      " 12%|██████████████▌                                                                                                          | 24/200 [00:00<00:00, 183.31it/s]\u001b[A\n",
      " 89%|██████████████████████████████████████████████████████████████████████████████████████████████████████████▋             | 889/1000 [01:28<00:09, 11.61it/s]"
     ]
    },
    {
     "name": "stdout",
     "output_type": "stream",
     "text": [
      "DONE\n",
      "DONE\n",
      "Actor_loss 1.32331604\n",
      "Critic_loss 1.00000149\n",
      "Rewards mean 1.00000000 Rewards std 0.00000000 Rewards sum 25.00000000\n"
     ]
    },
    {
     "name": "stderr",
     "output_type": "stream",
     "text": [
      "\n",
      "  0%|                                                                                                                                   | 0/200 [00:00<?, ?it/s]\u001b[A\n",
      " 18%|██████████████████████▍                                                                                                  | 37/200 [00:00<00:00, 203.35it/s]\u001b[A\n",
      " 89%|██████████████████████████████████████████████████████████████████████████████████████████████████████████▉             | 891/1000 [01:28<00:11,  9.18it/s]"
     ]
    },
    {
     "name": "stdout",
     "output_type": "stream",
     "text": [
      "DONE\n",
      "DONE\n",
      "Actor_loss 1.47127912\n",
      "Critic_loss 0.99999992\n",
      "Rewards mean 1.00000000 Rewards std 0.00000000 Rewards sum 38.00000000\n"
     ]
    },
    {
     "name": "stderr",
     "output_type": "stream",
     "text": [
      "\n",
      "  0%|                                                                                                                                   | 0/200 [00:00<?, ?it/s]\u001b[A\n",
      " 14%|█████████████████▌                                                                                                       | 29/200 [00:00<00:00, 187.50it/s]\u001b[A\n",
      " 89%|██████████████████████████████████████████████████████████████████████████████████████████████████████████▉             | 891/1000 [01:29<00:11,  9.18it/s]"
     ]
    },
    {
     "name": "stdout",
     "output_type": "stream",
     "text": [
      "DONE\n",
      "DONE\n",
      "Actor_loss 1.25430248\n",
      "Critic_loss 1.00000231\n",
      "Rewards mean 1.00000000 Rewards std 0.00000000 Rewards sum 30.00000000\n"
     ]
    },
    {
     "name": "stderr",
     "output_type": "stream",
     "text": [
      "\n",
      "  6%|██████▋                                                                                                                  | 11/200 [00:00<00:01, 175.12it/s]\u001b[A\n",
      " 89%|███████████████████████████████████████████████████████████████████████████████████████████████████████████▏            | 893/1000 [01:29<00:11,  9.04it/s]"
     ]
    },
    {
     "name": "stdout",
     "output_type": "stream",
     "text": [
      "DONE\n",
      "DONE\n",
      "Actor_loss 1.21408207\n",
      "Critic_loss 1.00000295\n",
      "Rewards mean 1.00000000 Rewards std 0.00000000 Rewards sum 12.00000000\n"
     ]
    },
    {
     "name": "stderr",
     "output_type": "stream",
     "text": [
      "\n",
      "  0%|                                                                                                                                   | 0/200 [00:00<?, ?it/s]\u001b[A\n",
      " 13%|███████████████▋                                                                                                         | 26/200 [00:00<00:00, 188.21it/s]\u001b[A\n",
      " 89%|███████████████████████████████████████████████████████████████████████████████████████████████████████████▎            | 894/1000 [01:29<00:12,  8.59it/s]"
     ]
    },
    {
     "name": "stdout",
     "output_type": "stream",
     "text": [
      "DONE\n",
      "DONE\n",
      "Actor_loss 1.37465558\n",
      "Critic_loss 1.00000115\n",
      "Rewards mean 1.00000000 Rewards std 0.00000000 Rewards sum 27.00000000\n"
     ]
    },
    {
     "name": "stderr",
     "output_type": "stream",
     "text": [
      "\n",
      "  0%|                                                                                                                                   | 0/200 [00:00<?, ?it/s]\u001b[A\n",
      " 12%|██████████████▌                                                                                                          | 24/200 [00:00<00:01, 171.26it/s]\u001b[A\n",
      " 90%|███████████████████████████████████████████████████████████████████████████████████████████████████████████▍            | 895/1000 [01:29<00:12,  8.16it/s]"
     ]
    },
    {
     "name": "stdout",
     "output_type": "stream",
     "text": [
      "DONE\n",
      "DONE\n",
      "Actor_loss 1.54549069\n",
      "Critic_loss 0.99999831\n",
      "Rewards mean 1.00000000 Rewards std 0.00000000 Rewards sum 25.00000000\n"
     ]
    },
    {
     "name": "stderr",
     "output_type": "stream",
     "text": [
      "\n",
      "  9%|██████████▉                                                                                                              | 18/200 [00:00<00:00, 186.85it/s]\u001b[A\n",
      " 90%|███████████████████████████████████████████████████████████████████████████████████████████████████████████▌            | 896/1000 [01:29<00:12,  8.43it/s]"
     ]
    },
    {
     "name": "stdout",
     "output_type": "stream",
     "text": [
      "DONE\n",
      "DONE\n",
      "Actor_loss 1.33808512\n",
      "Critic_loss 1.00000142\n",
      "Rewards mean 1.00000000 Rewards std 0.00000000 Rewards sum 19.00000000\n"
     ]
    },
    {
     "name": "stderr",
     "output_type": "stream",
     "text": [
      "\n",
      "  8%|█████████▋                                                                                                               | 16/200 [00:00<00:01, 173.22it/s]\u001b[A\n",
      " 90%|███████████████████████████████████████████████████████████████████████████████████████████████████████████▌            | 896/1000 [01:29<00:12,  8.43it/s]"
     ]
    },
    {
     "name": "stdout",
     "output_type": "stream",
     "text": [
      "DONE\n",
      "DONE\n",
      "Actor_loss 1.32329313\n",
      "Critic_loss 1.00000168\n",
      "Rewards mean 1.00000000 Rewards std 0.00000000 Rewards sum 17.00000000\n"
     ]
    },
    {
     "name": "stderr",
     "output_type": "stream",
     "text": [
      "\n",
      "  6%|███████▎                                                                                                                 | 12/200 [00:00<00:01, 155.71it/s]\u001b[A\n",
      " 90%|███████████████████████████████████████████████████████████████████████████████████████████████████████████▊            | 898/1000 [01:29<00:11,  9.26it/s]"
     ]
    },
    {
     "name": "stdout",
     "output_type": "stream",
     "text": [
      "DONE\n",
      "DONE\n",
      "Actor_loss 1.27891176\n",
      "Critic_loss 1.00000229\n",
      "Rewards mean 1.00000000 Rewards std 0.00000000 Rewards sum 13.00000000\n"
     ]
    },
    {
     "name": "stderr",
     "output_type": "stream",
     "text": [
      "\n",
      "  6%|██████▋                                                                                                                  | 11/200 [00:00<00:01, 171.19it/s]\u001b[A\n",
      " 90%|███████████████████████████████████████████████████████████████████████████████████████████████████████████▊            | 898/1000 [01:29<00:11,  9.26it/s]"
     ]
    },
    {
     "name": "stdout",
     "output_type": "stream",
     "text": [
      "DONE\n",
      "DONE\n",
      "Actor_loss 1.21433482\n",
      "Critic_loss 1.00000302\n",
      "Rewards mean 1.00000000 Rewards std 0.00000000 Rewards sum 12.00000000\n"
     ]
    },
    {
     "name": "stderr",
     "output_type": "stream",
     "text": [
      "\n",
      " 10%|███████████▍                                                                                                             | 19/200 [00:00<00:00, 191.17it/s]\u001b[A\n",
      " 90%|████████████████████████████████████████████████████████████████████████████████████████████████████████████            | 900/1000 [01:29<00:10,  9.93it/s]"
     ]
    },
    {
     "name": "stdout",
     "output_type": "stream",
     "text": [
      "DONE\n",
      "DONE\n",
      "Actor_loss 1.59642739\n",
      "Critic_loss 0.99999713\n",
      "Rewards mean 1.00000000 Rewards std 0.00000000 Rewards sum 20.00000000\n"
     ]
    },
    {
     "name": "stderr",
     "output_type": "stream",
     "text": [
      "\n",
      "  4%|█████▍                                                                                                                    | 9/200 [00:00<00:01, 149.91it/s]\u001b[A\n",
      " 90%|████████████████████████████████████████████████████████████████████████████████████████████████████████████            | 900/1000 [01:29<00:10,  9.93it/s]"
     ]
    },
    {
     "name": "stdout",
     "output_type": "stream",
     "text": [
      "DONE\n",
      "DONE\n",
      "Actor_loss 1.75123717\n",
      "Critic_loss 0.99999367\n",
      "Rewards mean 1.00000000 Rewards std 0.00000000 Rewards sum 10.00000000\n"
     ]
    },
    {
     "name": "stderr",
     "output_type": "stream",
     "text": [
      "\n",
      "  0%|                                                                                                                                   | 0/200 [00:00<?, ?it/s]\u001b[A\n",
      " 12%|███████████████▏                                                                                                         | 25/200 [00:00<00:01, 170.24it/s]\u001b[A\n",
      " 90%|████████████████████████████████████████████████████████████████████████████████████████████████████████████▏           | 902/1000 [01:30<00:10,  9.63it/s]"
     ]
    },
    {
     "name": "stdout",
     "output_type": "stream",
     "text": [
      "DONE\n",
      "DONE\n",
      "Actor_loss 1.39225810\n",
      "Critic_loss 1.00000081\n",
      "Rewards mean 1.00000000 Rewards std 0.00000000 Rewards sum 26.00000000\n"
     ]
    },
    {
     "name": "stderr",
     "output_type": "stream",
     "text": [
      "\n",
      "  6%|███████▊                                                                                                                 | 13/200 [00:00<00:01, 176.76it/s]\u001b[A\n",
      " 90%|████████████████████████████████████████████████████████████████████████████████████████████████████████████▏           | 902/1000 [01:30<00:10,  9.63it/s]"
     ]
    },
    {
     "name": "stdout",
     "output_type": "stream",
     "text": [
      "DONE\n",
      "DONE\n",
      "Actor_loss 1.33347471\n",
      "Critic_loss 1.00000162\n",
      "Rewards mean 1.00000000 Rewards std 0.00000000 Rewards sum 14.00000000\n"
     ]
    },
    {
     "name": "stderr",
     "output_type": "stream",
     "text": [
      "\n",
      "  5%|██████                                                                                                                   | 10/200 [00:00<00:01, 186.27it/s]\u001b[A\n",
      " 90%|████████████████████████████████████████████████████████████████████████████████████████████████████████████▍           | 904/1000 [01:30<00:08, 10.80it/s]"
     ]
    },
    {
     "name": "stdout",
     "output_type": "stream",
     "text": [
      "DONE\n",
      "DONE\n",
      "Actor_loss 1.13753386\n",
      "Critic_loss 1.00000391\n",
      "Rewards mean 1.00000000 Rewards std 0.00000000 Rewards sum 11.00000000\n"
     ]
    },
    {
     "name": "stderr",
     "output_type": "stream",
     "text": [
      "\n",
      "  0%|                                                                                                                                   | 0/200 [00:00<?, ?it/s]\u001b[A\n",
      "  9%|██████████▉                                                                                                              | 18/200 [00:00<00:01, 176.18it/s]\u001b[A\n",
      " 18%|██████████████████████▍                                                                                                  | 37/200 [00:00<00:00, 180.08it/s]\u001b[A\n",
      " 30%|███████████████████████████████████▋                                                                                     | 59/200 [00:00<00:00, 182.71it/s]\u001b[A\n",
      " 90%|████████████████████████████████████████████████████████████████████████████████████████████████████████████▍           | 904/1000 [01:30<00:08, 10.80it/s]"
     ]
    },
    {
     "name": "stdout",
     "output_type": "stream",
     "text": [
      "DONE\n",
      "DONE\n",
      "Actor_loss 1.42885851\n",
      "Critic_loss 1.00000054\n",
      "Rewards mean 1.00000000 Rewards std 0.00000000 Rewards sum 60.00000000\n"
     ]
    },
    {
     "name": "stderr",
     "output_type": "stream",
     "text": [
      "\n",
      "  4%|█████▍                                                                                                                    | 9/200 [00:00<00:01, 185.03it/s]\u001b[A\n",
      " 91%|████████████████████████████████████████████████████████████████████████████████████████████████████████████▋           | 906/1000 [01:30<00:11,  8.05it/s]"
     ]
    },
    {
     "name": "stdout",
     "output_type": "stream",
     "text": [
      "DONE\n",
      "DONE\n",
      "Actor_loss 1.04373008\n",
      "Critic_loss 1.00000493\n",
      "Rewards mean 1.00000000 Rewards std 0.00000000 Rewards sum 10.00000000\n"
     ]
    },
    {
     "name": "stderr",
     "output_type": "stream",
     "text": [
      "\n",
      "  6%|███████▎                                                                                                                 | 12/200 [00:00<00:01, 153.75it/s]\u001b[A\n",
      " 91%|████████████████████████████████████████████████████████████████████████████████████████████████████████████▋           | 906/1000 [01:30<00:11,  8.05it/s]"
     ]
    },
    {
     "name": "stdout",
     "output_type": "stream",
     "text": [
      "DONE\n",
      "DONE\n",
      "Actor_loss 1.27910008\n",
      "Critic_loss 1.00000225\n",
      "Rewards mean 1.00000000 Rewards std 0.00000000 Rewards sum 13.00000000\n"
     ]
    },
    {
     "name": "stderr",
     "output_type": "stream",
     "text": [
      "\n",
      "  6%|███████▎                                                                                                                 | 12/200 [00:00<00:01, 168.79it/s]\u001b[A\n",
      " 91%|████████████████████████████████████████████████████████████████████████████████████████████████████████████▉           | 908/1000 [01:30<00:10,  9.05it/s]"
     ]
    },
    {
     "name": "stdout",
     "output_type": "stream",
     "text": [
      "DONE\n",
      "DONE\n",
      "Actor_loss 1.36744324\n",
      "Critic_loss 1.00000106\n",
      "Rewards mean 1.00000000 Rewards std 0.00000000 Rewards sum 13.00000000\n"
     ]
    },
    {
     "name": "stderr",
     "output_type": "stream",
     "text": [
      "\n",
      "  8%|██████████▎                                                                                                              | 17/200 [00:00<00:01, 169.62it/s]\u001b[A\n",
      " 91%|████████████████████████████████████████████████████████████████████████████████████████████████████████████▉           | 908/1000 [01:30<00:10,  9.05it/s]"
     ]
    },
    {
     "name": "stdout",
     "output_type": "stream",
     "text": [
      "DONE\n",
      "DONE\n",
      "Actor_loss 1.36223689\n",
      "Critic_loss 1.00000110\n",
      "Rewards mean 1.00000000 Rewards std 0.00000000 Rewards sum 18.00000000\n"
     ]
    },
    {
     "name": "stderr",
     "output_type": "stream",
     "text": [
      "\n",
      "  5%|██████                                                                                                                   | 10/200 [00:00<00:00, 193.99it/s]\u001b[A\n",
      " 91%|█████████████████████████████████████████████████████████████████████████████████████████████████████████████▏          | 910/1000 [01:30<00:09,  9.85it/s]"
     ]
    },
    {
     "name": "stdout",
     "output_type": "stream",
     "text": [
      "DONE\n",
      "DONE\n",
      "Actor_loss 1.13776731\n",
      "Critic_loss 1.00000396\n",
      "Rewards mean 1.00000000 Rewards std 0.00000000 Rewards sum 11.00000000\n"
     ]
    },
    {
     "name": "stderr",
     "output_type": "stream",
     "text": [
      "\n",
      "  4%|█████▍                                                                                                                    | 9/200 [00:00<00:01, 156.05it/s]\u001b[A\n",
      " 91%|█████████████████████████████████████████████████████████████████████████████████████████████████████████████▏          | 910/1000 [01:31<00:09,  9.85it/s]"
     ]
    },
    {
     "name": "stdout",
     "output_type": "stream",
     "text": [
      "DONE\n",
      "DONE\n",
      "Actor_loss 1.04326019\n",
      "Critic_loss 1.00000498\n",
      "Rewards mean 1.00000000 Rewards std 0.00000000 Rewards sum 10.00000000\n"
     ]
    },
    {
     "name": "stderr",
     "output_type": "stream",
     "text": [
      "\n",
      "  6%|███████▎                                                                                                                 | 12/200 [00:00<00:00, 197.35it/s]\u001b[A\n",
      " 91%|█████████████████████████████████████████████████████████████████████████████████████████████████████████████▍          | 912/1000 [01:31<00:07, 11.01it/s]"
     ]
    },
    {
     "name": "stdout",
     "output_type": "stream",
     "text": [
      "DONE\n",
      "DONE\n",
      "Actor_loss 1.19051384\n",
      "Critic_loss 1.00000323\n",
      "Rewards mean 1.00000000 Rewards std 0.00000000 Rewards sum 13.00000000\n"
     ]
    },
    {
     "name": "stderr",
     "output_type": "stream",
     "text": [
      "\n",
      "  6%|██████▋                                                                                                                  | 11/200 [00:00<00:01, 162.61it/s]\u001b[A\n",
      " 91%|█████████████████████████████████████████████████████████████████████████████████████████████████████████████▍          | 912/1000 [01:31<00:07, 11.01it/s]"
     ]
    },
    {
     "name": "stdout",
     "output_type": "stream",
     "text": [
      "DONE\n",
      "DONE\n",
      "Actor_loss 1.21458366\n",
      "Critic_loss 1.00000310\n",
      "Rewards mean 1.00000000 Rewards std 0.00000000 Rewards sum 12.00000000\n"
     ]
    },
    {
     "name": "stderr",
     "output_type": "stream",
     "text": [
      "\n",
      "  6%|███████▎                                                                                                                 | 12/200 [00:00<00:01, 161.14it/s]\u001b[A\n",
      " 91%|█████████████████████████████████████████████████████████████████████████████████████████████████████████████▋          | 914/1000 [01:31<00:07, 11.54it/s]"
     ]
    },
    {
     "name": "stdout",
     "output_type": "stream",
     "text": [
      "DONE\n",
      "DONE\n",
      "Actor_loss 1.36756619\n",
      "Critic_loss 1.00000118\n",
      "Rewards mean 1.00000000 Rewards std 0.00000000 Rewards sum 13.00000000\n"
     ]
    },
    {
     "name": "stderr",
     "output_type": "stream",
     "text": [
      "\n",
      "  8%|█████████                                                                                                                | 15/200 [00:00<00:01, 171.46it/s]\u001b[A\n",
      " 91%|█████████████████████████████████████████████████████████████████████████████████████████████████████████████▋          | 914/1000 [01:31<00:07, 11.54it/s]"
     ]
    },
    {
     "name": "stdout",
     "output_type": "stream",
     "text": [
      "DONE\n",
      "DONE\n",
      "Actor_loss 1.27899581\n",
      "Critic_loss 1.00000214\n",
      "Rewards mean 1.00000000 Rewards std 0.00000000 Rewards sum 16.00000000\n"
     ]
    },
    {
     "name": "stderr",
     "output_type": "stream",
     "text": [
      "\n",
      "  0%|                                                                                                                                   | 0/200 [00:00<?, ?it/s]\u001b[A\n",
      " 11%|█████████████▎                                                                                                           | 22/200 [00:00<00:00, 212.27it/s]\u001b[A\n",
      " 22%|██████████████████████████▌                                                                                              | 44/200 [00:00<00:00, 198.08it/s]\u001b[A\n",
      " 32%|██████████████████████████████████████▋                                                                                  | 64/200 [00:00<00:00, 194.29it/s]\u001b[A\n",
      " 42%|██████████████████████████████████████████████████▊                                                                      | 84/200 [00:00<00:00, 195.13it/s]\u001b[A\n",
      " 56%|███████████████████████████████████████████████████████████████████▏                                                    | 112/200 [00:00<00:00, 196.88it/s]\u001b[A\n",
      " 92%|█████████████████████████████████████████████████████████████████████████████████████████████████████████████▉          | 916/1000 [01:31<00:13,  6.19it/s]"
     ]
    },
    {
     "name": "stdout",
     "output_type": "stream",
     "text": [
      "DONE\n",
      "DONE\n",
      "Actor_loss 1.40849114\n",
      "Critic_loss 1.00000071\n",
      "Rewards mean 1.00000000 Rewards std 0.00000000 Rewards sum 113.00000000\n"
     ]
    },
    {
     "name": "stderr",
     "output_type": "stream",
     "text": [
      "\n",
      "  8%|██████████▎                                                                                                              | 17/200 [00:00<00:00, 198.01it/s]\u001b[A\n",
      " 92%|█████████████████████████████████████████████████████████████████████████████████████████████████████████████▉          | 916/1000 [01:32<00:13,  6.19it/s]"
     ]
    },
    {
     "name": "stdout",
     "output_type": "stream",
     "text": [
      "DONE\n",
      "DONE\n",
      "Actor_loss 1.29991990\n",
      "Critic_loss 1.00000191\n",
      "Rewards mean 1.00000000 Rewards std 0.00000000 Rewards sum 18.00000000\n"
     ]
    },
    {
     "name": "stderr",
     "output_type": "stream",
     "text": [
      "\n",
      "  7%|████████▍                                                                                                                | 14/200 [00:00<00:01, 185.43it/s]\u001b[A\n",
      " 92%|██████████████████████████████████████████████████████████████████████████████████████████████████████████████▏         | 918/1000 [01:32<00:11,  7.19it/s]"
     ]
    },
    {
     "name": "stdout",
     "output_type": "stream",
     "text": [
      "DONE\n",
      "DONE\n",
      "Actor_loss 1.68191725\n",
      "Critic_loss 0.99999496\n",
      "Rewards mean 1.00000000 Rewards std 0.00000000 Rewards sum 15.00000000\n"
     ]
    },
    {
     "name": "stderr",
     "output_type": "stream",
     "text": [
      "\n",
      " 10%|███████████▍                                                                                                             | 19/200 [00:00<00:00, 205.47it/s]\u001b[A\n",
      " 92%|██████████████████████████████████████████████████████████████████████████████████████████████████████████████▏         | 918/1000 [01:32<00:11,  7.19it/s]"
     ]
    },
    {
     "name": "stdout",
     "output_type": "stream",
     "text": [
      "DONE\n",
      "DONE\n",
      "Actor_loss 1.37187292\n",
      "Critic_loss 1.00000108\n",
      "Rewards mean 1.00000000 Rewards std 0.00000000 Rewards sum 20.00000000\n"
     ]
    },
    {
     "name": "stderr",
     "output_type": "stream",
     "text": [
      "\n",
      "  4%|█████▍                                                                                                                    | 9/200 [00:00<00:01, 174.89it/s]\u001b[A\n",
      " 92%|██████████████████████████████████████████████████████████████████████████████████████████████████████████████▍         | 920/1000 [01:32<00:09,  8.30it/s]"
     ]
    },
    {
     "name": "stdout",
     "output_type": "stream",
     "text": [
      "DONE\n",
      "DONE\n",
      "Actor_loss 0.92707802\n",
      "Critic_loss 1.00000581\n",
      "Rewards mean 1.00000000 Rewards std 0.00000000 Rewards sum 10.00000000\n"
     ]
    },
    {
     "name": "stderr",
     "output_type": "stream",
     "text": [
      "\n",
      "  0%|                                                                                                                                   | 0/200 [00:00<?, ?it/s]\u001b[A\n",
      " 10%|███████████▍                                                                                                             | 19/200 [00:00<00:01, 159.72it/s]\u001b[A\n",
      " 92%|██████████████████████████████████████████████████████████████████████████████████████████████████████████████▍         | 920/1000 [01:32<00:09,  8.30it/s]"
     ]
    },
    {
     "name": "stdout",
     "output_type": "stream",
     "text": [
      "DONE\n",
      "DONE\n",
      "Actor_loss 1.37192882\n",
      "Critic_loss 1.00000104\n",
      "Rewards mean 1.00000000 Rewards std 0.00000000 Rewards sum 20.00000000\n"
     ]
    },
    {
     "name": "stderr",
     "output_type": "stream",
     "text": [
      "\n",
      "  6%|███████▎                                                                                                                 | 12/200 [00:00<00:01, 167.37it/s]\u001b[A\n",
      " 92%|██████████████████████████████████████████████████████████████████████████████████████████████████████████████▋         | 922/1000 [01:32<00:08,  8.71it/s]"
     ]
    },
    {
     "name": "stdout",
     "output_type": "stream",
     "text": [
      "DONE\n",
      "DONE\n",
      "Actor_loss 1.27922966\n",
      "Critic_loss 1.00000235\n",
      "Rewards mean 1.00000000 Rewards std 0.00000000 Rewards sum 13.00000000\n"
     ]
    },
    {
     "name": "stderr",
     "output_type": "stream",
     "text": [
      "\n",
      "  6%|███████▎                                                                                                                 | 12/200 [00:00<00:01, 178.24it/s]\u001b[A\n",
      " 92%|██████████████████████████████████████████████████████████████████████████████████████████████████████████████▋         | 922/1000 [01:32<00:08,  8.71it/s]"
     ]
    },
    {
     "name": "stdout",
     "output_type": "stream",
     "text": [
      "DONE\n",
      "DONE\n",
      "Actor_loss 1.27921857\n",
      "Critic_loss 1.00000236\n",
      "Rewards mean 1.00000000 Rewards std 0.00000000 Rewards sum 13.00000000\n"
     ]
    },
    {
     "name": "stderr",
     "output_type": "stream",
     "text": [
      "\n",
      "  8%|██████████▎                                                                                                              | 17/200 [00:00<00:00, 190.31it/s]\u001b[A\n",
      " 92%|██████████████████████████████████████████████████████████████████████████████████████████████████████████████▉         | 924/1000 [01:32<00:08,  9.46it/s]"
     ]
    },
    {
     "name": "stdout",
     "output_type": "stream",
     "text": [
      "DONE\n",
      "DONE\n",
      "Actor_loss 1.36211509\n",
      "Critic_loss 1.00000122\n",
      "Rewards mean 1.00000000 Rewards std 0.00000000 Rewards sum 18.00000000\n"
     ]
    },
    {
     "name": "stderr",
     "output_type": "stream",
     "text": [
      "\n",
      "  0%|                                                                                                                                   | 0/200 [00:00<?, ?it/s]\u001b[A\n",
      " 12%|██████████████▌                                                                                                          | 24/200 [00:00<00:00, 189.99it/s]\u001b[A\n",
      " 92%|██████████████████████████████████████████████████████████████████████████████████████████████████████████████▉         | 924/1000 [01:32<00:08,  9.46it/s]"
     ]
    },
    {
     "name": "stdout",
     "output_type": "stream",
     "text": [
      "DONE\n",
      "DONE\n",
      "Actor_loss 1.27920948\n",
      "Critic_loss 1.00000220\n",
      "Rewards mean 1.00000000 Rewards std 0.00000000 Rewards sum 25.00000000\n"
     ]
    },
    {
     "name": "stderr",
     "output_type": "stream",
     "text": [
      "\n",
      "  0%|                                                                                                                                   | 0/200 [00:00<?, ?it/s]\u001b[A\n",
      " 16%|██████████████████▊                                                                                                      | 31/200 [00:00<00:00, 173.65it/s]\u001b[A\n",
      " 93%|███████████████████████████████████████████████████████████████████████████████████████████████████████████████         | 926/1000 [01:32<00:08,  8.23it/s]"
     ]
    },
    {
     "name": "stdout",
     "output_type": "stream",
     "text": [
      "DONE\n",
      "DONE\n",
      "Actor_loss 1.37014068\n",
      "Critic_loss 1.00000111\n",
      "Rewards mean 1.00000000 Rewards std 0.00000000 Rewards sum 32.00000000\n"
     ]
    },
    {
     "name": "stderr",
     "output_type": "stream",
     "text": [
      "\n",
      "  0%|                                                                                                                                   | 0/200 [00:00<?, ?it/s]\u001b[A\n",
      " 10%|████████████▋                                                                                                            | 21/200 [00:00<00:00, 185.86it/s]\u001b[A\n",
      " 93%|███████████████████████████████████████████████████████████████████████████████████████████████████████████████▏        | 927/1000 [01:33<00:08,  8.26it/s]"
     ]
    },
    {
     "name": "stdout",
     "output_type": "stream",
     "text": [
      "DONE\n",
      "DONE\n",
      "Actor_loss 1.48039027\n",
      "Critic_loss 0.99999980\n",
      "Rewards mean 1.00000000 Rewards std 0.00000000 Rewards sum 22.00000000\n"
     ]
    },
    {
     "name": "stderr",
     "output_type": "stream",
     "text": [
      "\n",
      "  0%|                                                                                                                                   | 0/200 [00:00<?, ?it/s]\u001b[A\n",
      " 10%|████████████                                                                                                             | 20/200 [00:00<00:01, 168.91it/s]\u001b[A\n",
      " 93%|███████████████████████████████████████████████████████████████████████████████████████████████████████████████▎        | 928/1000 [01:33<00:08,  8.21it/s]"
     ]
    },
    {
     "name": "stdout",
     "output_type": "stream",
     "text": [
      "DONE\n",
      "DONE\n",
      "Actor_loss 1.24407682\n",
      "Critic_loss 1.00000248\n",
      "Rewards mean 1.00000000 Rewards std 0.00000000 Rewards sum 21.00000000\n"
     ]
    },
    {
     "name": "stderr",
     "output_type": "stream",
     "text": [
      "\n",
      "  8%|█████████▋                                                                                                               | 16/200 [00:00<00:01, 174.08it/s]\u001b[A\n",
      " 93%|███████████████████████████████████████████████████████████████████████████████████████████████████████████████▎        | 928/1000 [01:33<00:08,  8.21it/s]"
     ]
    },
    {
     "name": "stdout",
     "output_type": "stream",
     "text": [
      "DONE\n",
      "DONE\n",
      "Actor_loss 1.25723371\n",
      "Critic_loss 1.00000244\n",
      "Rewards mean 1.00000000 Rewards std 0.00000000 Rewards sum 17.00000000\n"
     ]
    },
    {
     "name": "stderr",
     "output_type": "stream",
     "text": [
      "\n",
      "  6%|███████▊                                                                                                                 | 13/200 [00:00<00:00, 199.33it/s]\u001b[A\n",
      " 93%|███████████████████████████████████████████████████████████████████████████████████████████████████████████████▌        | 930/1000 [01:33<00:07,  9.27it/s]"
     ]
    },
    {
     "name": "stdout",
     "output_type": "stream",
     "text": [
      "DONE\n",
      "DONE\n",
      "Actor_loss 1.17079245\n",
      "Critic_loss 1.00000343\n",
      "Rewards mean 1.00000000 Rewards std 0.00000000 Rewards sum 14.00000000\n"
     ]
    },
    {
     "name": "stderr",
     "output_type": "stream",
     "text": [
      "\n",
      "  0%|                                                                                                                                   | 0/200 [00:00<?, ?it/s]\u001b[A\n",
      " 14%|████████████████▎                                                                                                        | 27/200 [00:00<00:00, 207.60it/s]\u001b[A\n",
      " 93%|███████████████████████████████████████████████████████████████████████████████████████████████████████████████▋        | 931/1000 [01:33<00:07,  8.78it/s]"
     ]
    },
    {
     "name": "stdout",
     "output_type": "stream",
     "text": [
      "DONE\n",
      "DONE\n",
      "Actor_loss 1.35752359\n",
      "Critic_loss 1.00000124\n",
      "Rewards mean 1.00000000 Rewards std 0.00000000 Rewards sum 28.00000000\n"
     ]
    },
    {
     "name": "stderr",
     "output_type": "stream",
     "text": [
      "\n",
      "  6%|██████▋                                                                                                                  | 11/200 [00:00<00:01, 162.65it/s]\u001b[A\n",
      " 93%|███████████████████████████████████████████████████████████████████████████████████████████████████████████████▋        | 931/1000 [01:33<00:07,  8.78it/s]"
     ]
    },
    {
     "name": "stdout",
     "output_type": "stream",
     "text": [
      "DONE\n",
      "DONE\n",
      "Actor_loss 1.11897194\n",
      "Critic_loss 1.00000406\n",
      "Rewards mean 1.00000000 Rewards std 0.00000000 Rewards sum 12.00000000\n"
     ]
    },
    {
     "name": "stderr",
     "output_type": "stream",
     "text": [
      "\n",
      "  6%|███████▊                                                                                                                 | 13/200 [00:00<00:01, 165.62it/s]\u001b[A\n",
      " 93%|███████████████████████████████████████████████████████████████████████████████████████████████████████████████▉        | 933/1000 [01:33<00:06,  9.92it/s]"
     ]
    },
    {
     "name": "stdout",
     "output_type": "stream",
     "text": [
      "DONE\n",
      "DONE\n",
      "Actor_loss 1.25203111\n",
      "Critic_loss 1.00000264\n",
      "Rewards mean 1.00000000 Rewards std 0.00000000 Rewards sum 14.00000000\n"
     ]
    },
    {
     "name": "stderr",
     "output_type": "stream",
     "text": [
      "\n",
      "  6%|███████▊                                                                                                                 | 13/200 [00:00<00:01, 162.63it/s]\u001b[A\n",
      " 93%|███████████████████████████████████████████████████████████████████████████████████████████████████████████████▉        | 933/1000 [01:33<00:06,  9.92it/s]"
     ]
    },
    {
     "name": "stdout",
     "output_type": "stream",
     "text": [
      "DONE\n",
      "DONE\n",
      "Actor_loss 1.25199997\n",
      "Critic_loss 1.00000259\n",
      "Rewards mean 1.00000000 Rewards std 0.00000000 Rewards sum 14.00000000\n"
     ]
    },
    {
     "name": "stderr",
     "output_type": "stream",
     "text": [
      "\n",
      "  9%|██████████▉                                                                                                              | 18/200 [00:00<00:00, 187.55it/s]\u001b[A\n",
      " 94%|████████████████████████████████████████████████████████████████████████████████████████████████████████████████▏       | 935/1000 [01:33<00:06, 10.13it/s]"
     ]
    },
    {
     "name": "stdout",
     "output_type": "stream",
     "text": [
      "DONE\n",
      "DONE\n",
      "Actor_loss 1.39678676\n",
      "Critic_loss 1.00000073\n",
      "Rewards mean 1.00000000 Rewards std 0.00000000 Rewards sum 19.00000000\n"
     ]
    },
    {
     "name": "stderr",
     "output_type": "stream",
     "text": [
      "\n",
      "  8%|██████████▎                                                                                                              | 17/200 [00:00<00:01, 167.35it/s]\u001b[A\n",
      " 94%|████████████████████████████████████████████████████████████████████████████████████████████████████████████████▏       | 935/1000 [01:33<00:06, 10.13it/s]"
     ]
    },
    {
     "name": "stdout",
     "output_type": "stream",
     "text": [
      "DONE\n",
      "DONE\n",
      "Actor_loss 1.29991214\n",
      "Critic_loss 1.00000192\n",
      "Rewards mean 1.00000000 Rewards std 0.00000000 Rewards sum 18.00000000\n"
     ]
    },
    {
     "name": "stderr",
     "output_type": "stream",
     "text": [
      "\n",
      "  5%|██████                                                                                                                   | 10/200 [00:00<00:01, 177.17it/s]\u001b[A\n",
      " 94%|████████████████████████████████████████████████████████████████████████████████████████████████████████████████▍       | 937/1000 [01:34<00:05, 10.63it/s]"
     ]
    },
    {
     "name": "stdout",
     "output_type": "stream",
     "text": [
      "DONE\n",
      "DONE\n",
      "Actor_loss 1.13791229\n",
      "Critic_loss 1.00000407\n",
      "Rewards mean 1.00000000 Rewards std 0.00000000 Rewards sum 11.00000000\n"
     ]
    },
    {
     "name": "stderr",
     "output_type": "stream",
     "text": [
      "\n",
      "  6%|███████▊                                                                                                                 | 13/200 [00:00<00:01, 156.98it/s]\u001b[A\n",
      " 94%|████████████████████████████████████████████████████████████████████████████████████████████████████████████████▍       | 937/1000 [01:34<00:05, 10.63it/s]"
     ]
    },
    {
     "name": "stdout",
     "output_type": "stream",
     "text": [
      "DONE\n",
      "DONE\n",
      "Actor_loss 1.08876569\n",
      "Critic_loss 1.00000422\n",
      "Rewards mean 1.00000000 Rewards std 0.00000000 Rewards sum 14.00000000\n"
     ]
    },
    {
     "name": "stderr",
     "output_type": "stream",
     "text": [
      "\n",
      "  5%|██████                                                                                                                   | 10/200 [00:00<00:01, 136.24it/s]\u001b[A\n",
      " 94%|████████████████████████████████████████████████████████████████████████████████████████████████████████████████▋       | 939/1000 [01:34<00:05, 10.98it/s]"
     ]
    },
    {
     "name": "stdout",
     "output_type": "stream",
     "text": [
      "DONE\n",
      "DONE\n",
      "Actor_loss 1.13750332\n",
      "Critic_loss 1.00000393\n",
      "Rewards mean 1.00000000 Rewards std 0.00000000 Rewards sum 11.00000000\n"
     ]
    },
    {
     "name": "stderr",
     "output_type": "stream",
     "text": [
      "\n",
      "  8%|█████████▋                                                                                                               | 16/200 [00:00<00:00, 201.31it/s]\u001b[A\n",
      " 94%|████████████████████████████████████████████████████████████████████████████████████████████████████████████████▋       | 939/1000 [01:34<00:05, 10.98it/s]"
     ]
    },
    {
     "name": "stdout",
     "output_type": "stream",
     "text": [
      "DONE\n",
      "DONE\n",
      "Actor_loss 1.38964044\n",
      "Critic_loss 1.00000095\n",
      "Rewards mean 1.00000000 Rewards std 0.00000000 Rewards sum 17.00000000\n"
     ]
    },
    {
     "name": "stderr",
     "output_type": "stream",
     "text": [
      "\n",
      "  0%|                                                                                                                                   | 0/200 [00:00<?, ?it/s]\u001b[A\n",
      " 10%|████████████                                                                                                             | 20/200 [00:00<00:01, 175.06it/s]\u001b[A\n",
      " 94%|████████████████████████████████████████████████████████████████████████████████████████████████████████████████▉       | 941/1000 [01:34<00:05, 10.58it/s]"
     ]
    },
    {
     "name": "stdout",
     "output_type": "stream",
     "text": [
      "DONE\n",
      "DONE\n",
      "Actor_loss 1.19050020\n",
      "Critic_loss 1.00000308\n",
      "Rewards mean 1.00000000 Rewards std 0.00000000 Rewards sum 21.00000000\n"
     ]
    },
    {
     "name": "stderr",
     "output_type": "stream",
     "text": [
      "\n",
      "  6%|██████▋                                                                                                                  | 11/200 [00:00<00:01, 161.33it/s]\u001b[A\n",
      "                                                                                                                                                                \r"
     ]
    },
    {
     "name": "stdout",
     "output_type": "stream",
     "text": [
      "DONE\n",
      "DONE\n",
      "Actor_loss 1.21455202\n",
      "Critic_loss 1.00000315\n",
      "Rewards mean 1.00000000 Rewards std 0.00000000 Rewards sum 12.00000000\n"
     ]
    },
    {
     "name": "stderr",
     "output_type": "stream",
     "text": [
      " 94%|████████████████████████████████████████████████████████████████████████████████████████████████████████████████▉       | 941/1000 [01:34<00:05, 10.58it/s]\n",
      "  0%|                                                                                                                                   | 0/200 [00:00<?, ?it/s]\u001b[A\n",
      " 17%|████████████████████▌                                                                                                    | 34/200 [00:00<00:00, 174.75it/s]\u001b[A\n",
      " 94%|█████████████████████████████████████████████████████████████████████████████████████████████████████████████████▏      | 943/1000 [01:34<00:06,  9.26it/s]"
     ]
    },
    {
     "name": "stdout",
     "output_type": "stream",
     "text": [
      "DONE\n",
      "DONE\n",
      "Actor_loss 1.33110355\n",
      "Critic_loss 1.00000164\n",
      "Rewards mean 1.00000000 Rewards std 0.00000000 Rewards sum 35.00000000\n"
     ]
    },
    {
     "name": "stderr",
     "output_type": "stream",
     "text": [
      "\n",
      "  0%|                                                                                                                                   | 0/200 [00:00<?, ?it/s]\u001b[A\n",
      " 14%|████████████████▎                                                                                                        | 27/200 [00:00<00:00, 185.34it/s]\u001b[A\n",
      " 94%|█████████████████████████████████████████████████████████████████████████████████████████████████████████████████▎      | 944/1000 [01:34<00:06,  8.62it/s]"
     ]
    },
    {
     "name": "stdout",
     "output_type": "stream",
     "text": [
      "DONE\n",
      "DONE\n",
      "Actor_loss 1.27897511\n",
      "Critic_loss 1.00000211\n",
      "Rewards mean 1.00000000 Rewards std 0.00000000 Rewards sum 28.00000000\n"
     ]
    },
    {
     "name": "stderr",
     "output_type": "stream",
     "text": [
      "\n",
      "  0%|                                                                                                                                   | 0/200 [00:00<?, ?it/s]\u001b[A\n",
      " 10%|███████████▍                                                                                                             | 19/200 [00:00<00:01, 172.58it/s]\u001b[A\n",
      " 94%|█████████████████████████████████████████████████████████████████████████████████████████████████████████████████▍      | 945/1000 [01:34<00:06,  8.62it/s]"
     ]
    },
    {
     "name": "stdout",
     "output_type": "stream",
     "text": [
      "DONE\n",
      "DONE\n",
      "Actor_loss 1.54002792\n",
      "Critic_loss 0.99999864\n",
      "Rewards mean 1.00000000 Rewards std 0.00000000 Rewards sum 20.00000000\n"
     ]
    },
    {
     "name": "stderr",
     "output_type": "stream",
     "text": [
      "\n",
      "  8%|█████████                                                                                                                | 15/200 [00:00<00:01, 173.32it/s]\u001b[A\n",
      " 94%|█████████████████████████████████████████████████████████████████████████████████████████████████████████████████▍      | 945/1000 [01:35<00:06,  8.62it/s]"
     ]
    },
    {
     "name": "stdout",
     "output_type": "stream",
     "text": [
      "DONE\n",
      "DONE\n",
      "Actor_loss 1.27902762\n",
      "Critic_loss 1.00000226\n",
      "Rewards mean 1.00000000 Rewards std 0.00000000 Rewards sum 16.00000000\n"
     ]
    },
    {
     "name": "stderr",
     "output_type": "stream",
     "text": [
      "\n",
      "  0%|                                                                                                                                   | 0/200 [00:00<?, ?it/s]\u001b[A\n",
      " 12%|██████████████▌                                                                                                          | 24/200 [00:00<00:00, 185.79it/s]\u001b[A\n",
      " 95%|█████████████████████████████████████████████████████████████████████████████████████████████████████████████████▋      | 947/1000 [01:35<00:06,  8.69it/s]"
     ]
    },
    {
     "name": "stdout",
     "output_type": "stream",
     "text": [
      "DONE\n",
      "DONE\n",
      "Actor_loss 1.50014493\n",
      "Critic_loss 0.99999932\n",
      "Rewards mean 1.00000000 Rewards std 0.00000000 Rewards sum 25.00000000\n"
     ]
    },
    {
     "name": "stderr",
     "output_type": "stream",
     "text": [
      "\n",
      "  5%|██████                                                                                                                   | 10/200 [00:00<00:01, 180.91it/s]\u001b[A"
     ]
    },
    {
     "name": "stdout",
     "output_type": "stream",
     "text": [
      "DONE\n",
      "DONE\n"
     ]
    },
    {
     "name": "stderr",
     "output_type": "stream",
     "text": [
      "\n",
      " 95%|█████████████████████████████████████████████████████████████████████████████████████████████████████████████████▋      | 947/1000 [01:35<00:06,  8.69it/s]"
     ]
    },
    {
     "name": "stdout",
     "output_type": "stream",
     "text": [
      "Actor_loss 1.77344917\n",
      "Critic_loss 0.99999268\n",
      "Rewards mean 1.00000000 Rewards std 0.00000000 Rewards sum 11.00000000\n"
     ]
    },
    {
     "name": "stderr",
     "output_type": "stream",
     "text": [
      "\n",
      "  0%|                                                                                                                                   | 0/200 [00:00<?, ?it/s]\u001b[A\n",
      " 16%|██████████████████▊                                                                                                      | 31/200 [00:00<00:00, 192.95it/s]\u001b[A\n",
      " 95%|█████████████████████████████████████████████████████████████████████████████████████████████████████████████████▉      | 949/1000 [01:35<00:05,  8.73it/s]"
     ]
    },
    {
     "name": "stdout",
     "output_type": "stream",
     "text": [
      "DONE\n",
      "DONE\n",
      "Actor_loss 1.30192286\n",
      "Critic_loss 1.00000183\n",
      "Rewards mean 1.00000000 Rewards std 0.00000000 Rewards sum 32.00000000\n"
     ]
    },
    {
     "name": "stderr",
     "output_type": "stream",
     "text": [
      "\n",
      "  5%|██████                                                                                                                   | 10/200 [00:00<00:01, 155.22it/s]\u001b[A\n",
      " 95%|█████████████████████████████████████████████████████████████████████████████████████████████████████████████████▉      | 949/1000 [01:35<00:05,  8.73it/s]"
     ]
    },
    {
     "name": "stdout",
     "output_type": "stream",
     "text": [
      "DONE\n",
      "DONE\n",
      "Actor_loss 1.13793334\n",
      "Critic_loss 1.00000396\n",
      "Rewards mean 1.00000000 Rewards std 0.00000000 Rewards sum 11.00000000\n"
     ]
    },
    {
     "name": "stderr",
     "output_type": "stream",
     "text": [
      "\n",
      "  8%|██████████▎                                                                                                              | 17/200 [00:00<00:00, 204.20it/s]\u001b[A\n",
      " 95%|██████████████████████████████████████████████████████████████████████████████████████████████████████████████████      | 951/1000 [01:35<00:05,  9.72it/s]"
     ]
    },
    {
     "name": "stdout",
     "output_type": "stream",
     "text": [
      "DONE\n",
      "DONE\n",
      "Actor_loss 1.23754408\n",
      "Critic_loss 1.00000258\n",
      "Rewards mean 1.00000000 Rewards std 0.00000000 Rewards sum 18.00000000\n"
     ]
    },
    {
     "name": "stderr",
     "output_type": "stream",
     "text": [
      "\n",
      "  6%|███████▊                                                                                                                 | 13/200 [00:00<00:01, 154.39it/s]\u001b[A\n",
      " 95%|██████████████████████████████████████████████████████████████████████████████████████████████████████████████████      | 951/1000 [01:35<00:05,  9.72it/s]"
     ]
    },
    {
     "name": "stdout",
     "output_type": "stream",
     "text": [
      "DONE\n",
      "DONE\n",
      "Actor_loss 1.25189401\n",
      "Critic_loss 1.00000274\n",
      "Rewards mean 1.00000000 Rewards std 0.00000000 Rewards sum 14.00000000\n"
     ]
    },
    {
     "name": "stderr",
     "output_type": "stream",
     "text": [
      "\n",
      "  0%|                                                                                                                                   | 0/200 [00:00<?, ?it/s]\u001b[A\n",
      " 10%|████████████                                                                                                             | 20/200 [00:00<00:00, 182.00it/s]\u001b[A\n",
      " 95%|██████████████████████████████████████████████████████████████████████████████████████████████████████████████████▎     | 953/1000 [01:35<00:04,  9.71it/s]"
     ]
    },
    {
     "name": "stdout",
     "output_type": "stream",
     "text": [
      "DONE\n",
      "DONE\n",
      "Actor_loss 1.24369094\n",
      "Critic_loss 1.00000257\n",
      "Rewards mean 1.00000000 Rewards std 0.00000000 Rewards sum 21.00000000\n"
     ]
    },
    {
     "name": "stderr",
     "output_type": "stream",
     "text": [
      "\n",
      "  7%|████████▍                                                                                                                | 14/200 [00:00<00:00, 195.65it/s]\u001b[A\n",
      "                                                                                                                                                                \r"
     ]
    },
    {
     "name": "stdout",
     "output_type": "stream",
     "text": [
      "DONE\n",
      "DONE\n",
      "Actor_loss 1.22849181\n",
      "Critic_loss 1.00000277\n",
      "Rewards mean 1.00000000 Rewards std 0.00000000 Rewards sum 15.00000000\n"
     ]
    },
    {
     "name": "stderr",
     "output_type": "stream",
     "text": [
      " 95%|██████████████████████████████████████████████████████████████████████████████████████████████████████████████████▎     | 953/1000 [01:35<00:04,  9.71it/s]\n",
      "  6%|██████▋                                                                                                                  | 11/200 [00:00<00:01, 174.38it/s]\u001b[A\n",
      " 96%|██████████████████████████████████████████████████████████████████████████████████████████████████████████████████▌     | 955/1000 [01:35<00:04, 10.69it/s]"
     ]
    },
    {
     "name": "stdout",
     "output_type": "stream",
     "text": [
      "DONE\n",
      "DONE\n",
      "Actor_loss 1.21466551\n",
      "Critic_loss 1.00000315\n",
      "Rewards mean 1.00000000 Rewards std 0.00000000 Rewards sum 12.00000000\n"
     ]
    },
    {
     "name": "stderr",
     "output_type": "stream",
     "text": [
      "\n",
      "  0%|                                                                                                                                   | 0/200 [00:00<?, ?it/s]\u001b[A\n",
      " 14%|█████████████████▌                                                                                                       | 29/200 [00:00<00:00, 185.70it/s]\u001b[A\n",
      " 96%|██████████████████████████████████████████████████████████████████████████████████████████████████████████████████▌     | 955/1000 [01:36<00:04, 10.69it/s]"
     ]
    },
    {
     "name": "stdout",
     "output_type": "stream",
     "text": [
      "DONE\n",
      "DONE\n",
      "Actor_loss 1.36446756\n",
      "Critic_loss 1.00000127\n",
      "Rewards mean 1.00000000 Rewards std 0.00000000 Rewards sum 30.00000000\n"
     ]
    },
    {
     "name": "stderr",
     "output_type": "stream",
     "text": [
      "\n",
      "  0%|                                                                                                                                   | 0/200 [00:00<?, ?it/s]\u001b[A\n",
      " 12%|██████████████▌                                                                                                          | 24/200 [00:00<00:00, 188.97it/s]\u001b[A\n",
      " 96%|██████████████████████████████████████████████████████████████████████████████████████████████████████████████████▊     | 957/1000 [01:36<00:04,  9.08it/s]"
     ]
    },
    {
     "name": "stdout",
     "output_type": "stream",
     "text": [
      "DONE\n",
      "DONE\n",
      "Actor_loss 1.27904346\n",
      "Critic_loss 1.00000219\n",
      "Rewards mean 1.00000000 Rewards std 0.00000000 Rewards sum 25.00000000\n"
     ]
    },
    {
     "name": "stderr",
     "output_type": "stream",
     "text": [
      "\n",
      "  0%|                                                                                                                                   | 0/200 [00:00<?, ?it/s]\u001b[A\n",
      " 16%|██████████████████▊                                                                                                      | 31/200 [00:00<00:00, 199.28it/s]\u001b[A\n",
      " 96%|██████████████████████████████████████████████████████████████████████████████████████████████████████████████████▉     | 958/1000 [01:36<00:05,  8.37it/s]"
     ]
    },
    {
     "name": "stdout",
     "output_type": "stream",
     "text": [
      "DONE\n",
      "DONE\n",
      "Actor_loss 1.43878539\n",
      "Critic_loss 1.00000062\n",
      "Rewards mean 1.00000000 Rewards std 0.00000000 Rewards sum 32.00000000\n"
     ]
    },
    {
     "name": "stderr",
     "output_type": "stream",
     "text": [
      "\n",
      "  6%|███████▎                                                                                                                 | 12/200 [00:00<00:01, 184.18it/s]\u001b[A\n",
      " 96%|██████████████████████████████████████████████████████████████████████████████████████████████████████████████████▉     | 958/1000 [01:36<00:05,  8.37it/s]"
     ]
    },
    {
     "name": "stdout",
     "output_type": "stream",
     "text": [
      "DONE\n",
      "DONE\n",
      "Actor_loss 1.19069821\n",
      "Critic_loss 1.00000349\n",
      "Rewards mean 1.00000000 Rewards std 0.00000000 Rewards sum 13.00000000\n"
     ]
    },
    {
     "name": "stderr",
     "output_type": "stream",
     "text": [
      "\n",
      "  0%|                                                                                                                                   | 0/200 [00:00<?, ?it/s]\u001b[A\n",
      " 17%|████████████████████▌                                                                                                    | 34/200 [00:00<00:00, 188.97it/s]\u001b[A\n",
      " 96%|███████████████████████████████████████████████████████████████████████████████████████████████████████████████████▏    | 960/1000 [01:36<00:04,  8.17it/s]"
     ]
    },
    {
     "name": "stdout",
     "output_type": "stream",
     "text": [
      "DONE\n",
      "DONE\n",
      "Actor_loss 1.39344665\n",
      "Critic_loss 1.00000088\n",
      "Rewards mean 1.00000000 Rewards std 0.00000000 Rewards sum 35.00000000\n"
     ]
    },
    {
     "name": "stderr",
     "output_type": "stream",
     "text": [
      "\n",
      "  6%|███████▎                                                                                                                 | 12/200 [00:00<00:00, 190.37it/s]\u001b[A\n",
      " 96%|███████████████████████████████████████████████████████████████████████████████████████████████████████████████████▏    | 960/1000 [01:36<00:04,  8.17it/s]"
     ]
    },
    {
     "name": "stdout",
     "output_type": "stream",
     "text": [
      "DONE\n",
      "DONE\n",
      "Actor_loss 1.36742716\n",
      "Critic_loss 1.00000126\n",
      "Rewards mean 1.00000000 Rewards std 0.00000000 Rewards sum 13.00000000\n"
     ]
    },
    {
     "name": "stderr",
     "output_type": "stream",
     "text": [
      "\n",
      "  0%|                                                                                                                                   | 0/200 [00:00<?, ?it/s]\u001b[A\n",
      " 16%|███████████████████▉                                                                                                     | 33/200 [00:00<00:00, 183.85it/s]\u001b[A\n",
      " 96%|███████████████████████████████████████████████████████████████████████████████████████████████████████████████████▍    | 962/1000 [01:36<00:04,  8.06it/s]"
     ]
    },
    {
     "name": "stdout",
     "output_type": "stream",
     "text": [
      "DONE\n",
      "DONE\n",
      "Actor_loss 1.37542854\n",
      "Critic_loss 1.00000123\n",
      "Rewards mean 1.00000000 Rewards std 0.00000000 Rewards sum 34.00000000\n"
     ]
    },
    {
     "name": "stderr",
     "output_type": "stream",
     "text": [
      "\n",
      "  8%|█████████▋                                                                                                               | 16/200 [00:00<00:00, 185.59it/s]\u001b[A\n",
      " 96%|███████████████████████████████████████████████████████████████████████████████████████████████████████████████████▍    | 962/1000 [01:36<00:04,  8.06it/s]"
     ]
    },
    {
     "name": "stdout",
     "output_type": "stream",
     "text": [
      "DONE\n",
      "DONE\n",
      "Actor_loss 1.32326476\n",
      "Critic_loss 1.00000170\n",
      "Rewards mean 1.00000000 Rewards std 0.00000000 Rewards sum 17.00000000\n"
     ]
    },
    {
     "name": "stderr",
     "output_type": "stream",
     "text": [
      "\n",
      "  8%|█████████▋                                                                                                               | 16/200 [00:00<00:00, 194.58it/s]\u001b[A\n",
      " 96%|███████████████████████████████████████████████████████████████████████████████████████████████████████████████████▋    | 964/1000 [01:37<00:04,  8.83it/s]"
     ]
    },
    {
     "name": "stdout",
     "output_type": "stream",
     "text": [
      "DONE\n",
      "DONE\n",
      "Actor_loss 1.45554444\n",
      "Critic_loss 1.00000061\n",
      "Rewards mean 1.00000000 Rewards std 0.00000000 Rewards sum 17.00000000\n"
     ]
    },
    {
     "name": "stderr",
     "output_type": "stream",
     "text": [
      "\n",
      "  4%|████▉                                                                                                                     | 8/200 [00:00<00:01, 155.22it/s]\u001b[A\n",
      " 96%|███████████████████████████████████████████████████████████████████████████████████████████████████████████████████▋    | 964/1000 [01:37<00:04,  8.83it/s]"
     ]
    },
    {
     "name": "stdout",
     "output_type": "stream",
     "text": [
      "DONE\n",
      "DONE\n",
      "Actor_loss 0.92637637\n",
      "Critic_loss 1.00000672\n",
      "Rewards mean 1.00000000 Rewards std 0.00000000 Rewards sum 9.00000000\n"
     ]
    },
    {
     "name": "stderr",
     "output_type": "stream",
     "text": [
      "\n",
      "  8%|█████████                                                                                                                | 15/200 [00:00<00:01, 175.33it/s]\u001b[A\n",
      " 97%|███████████████████████████████████████████████████████████████████████████████████████████████████████████████████▉    | 966/1000 [01:37<00:03,  9.90it/s]"
     ]
    },
    {
     "name": "stdout",
     "output_type": "stream",
     "text": [
      "DONE\n",
      "DONE\n",
      "Actor_loss 1.49086790\n",
      "Critic_loss 0.99999978\n",
      "Rewards mean 1.00000000 Rewards std 0.00000000 Rewards sum 16.00000000\n"
     ]
    },
    {
     "name": "stderr",
     "output_type": "stream",
     "text": [
      "\n",
      "  6%|███████▊                                                                                                                 | 13/200 [00:00<00:01, 171.11it/s]\u001b[A\n",
      " 97%|███████████████████████████████████████████████████████████████████████████████████████████████████████████████████▉    | 966/1000 [01:37<00:03,  9.90it/s]"
     ]
    },
    {
     "name": "stdout",
     "output_type": "stream",
     "text": [
      "DONE\n",
      "DONE\n",
      "Actor_loss 1.17062551\n",
      "Critic_loss 1.00000350\n",
      "Rewards mean 1.00000000 Rewards std 0.00000000 Rewards sum 14.00000000\n"
     ]
    },
    {
     "name": "stderr",
     "output_type": "stream",
     "text": [
      "\n",
      "  7%|████████▍                                                                                                                | 14/200 [00:00<00:00, 196.66it/s]\u001b[A\n",
      " 97%|████████████████████████████████████████████████████████████████████████████████████████████████████████████████████▏   | 968/1000 [01:37<00:03, 10.62it/s]"
     ]
    },
    {
     "name": "stdout",
     "output_type": "stream",
     "text": [
      "DONE\n",
      "DONE\n",
      "Actor_loss 1.15304850\n",
      "Critic_loss 1.00000373\n",
      "Rewards mean 1.00000000 Rewards std 0.00000000 Rewards sum 15.00000000\n"
     ]
    },
    {
     "name": "stderr",
     "output_type": "stream",
     "text": [
      "\n",
      "  0%|                                                                                                                                   | 0/200 [00:00<?, ?it/s]\u001b[A\n",
      " 10%|████████████                                                                                                             | 20/200 [00:00<00:00, 181.62it/s]\u001b[A\n",
      " 97%|████████████████████████████████████████████████████████████████████████████████████████████████████████████████████▏   | 968/1000 [01:37<00:03, 10.62it/s]"
     ]
    },
    {
     "name": "stdout",
     "output_type": "stream",
     "text": [
      "DONE\n",
      "DONE\n",
      "Actor_loss 1.50856219\n",
      "Critic_loss 0.99999922\n",
      "Rewards mean 1.00000000 Rewards std 0.00000000 Rewards sum 21.00000000\n"
     ]
    },
    {
     "name": "stderr",
     "output_type": "stream",
     "text": [
      "\n",
      " 10%|███████████▍                                                                                                             | 19/200 [00:00<00:00, 217.75it/s]\u001b[A\n",
      " 97%|████████████████████████████████████████████████████████████████████████████████████████████████████████████████████▍   | 970/1000 [01:37<00:02, 10.31it/s]"
     ]
    },
    {
     "name": "stdout",
     "output_type": "stream",
     "text": [
      "DONE\n",
      "DONE\n",
      "Actor_loss 1.31629990\n",
      "Critic_loss 1.00000194\n",
      "Rewards mean 1.00000000 Rewards std 0.00000000 Rewards sum 20.00000000\n"
     ]
    },
    {
     "name": "stderr",
     "output_type": "stream",
     "text": [
      "\n",
      "  6%|███████▎                                                                                                                 | 12/200 [00:00<00:00, 194.46it/s]\u001b[A\n",
      " 97%|████████████████████████████████████████████████████████████████████████████████████████████████████████████████████▍   | 970/1000 [01:37<00:02, 10.31it/s]"
     ]
    },
    {
     "name": "stdout",
     "output_type": "stream",
     "text": [
      "DONE\n",
      "DONE\n",
      "Actor_loss 1.27916766\n",
      "Critic_loss 1.00000251\n",
      "Rewards mean 1.00000000 Rewards std 0.00000000 Rewards sum 13.00000000\n"
     ]
    },
    {
     "name": "stderr",
     "output_type": "stream",
     "text": [
      "\n",
      "  0%|                                                                                                                                   | 0/200 [00:00<?, ?it/s]\u001b[A\n",
      " 14%|████████████████▉                                                                                                        | 28/200 [00:00<00:00, 172.60it/s]\u001b[A\n",
      " 97%|████████████████████████████████████████████████████████████████████████████████████████████████████████████████████▋   | 972/1000 [01:37<00:02,  9.68it/s]"
     ]
    },
    {
     "name": "stdout",
     "output_type": "stream",
     "text": [
      "DONE\n",
      "DONE\n",
      "Actor_loss 1.26654152\n",
      "Critic_loss 1.00000236\n",
      "Rewards mean 1.00000000 Rewards std 0.00000000 Rewards sum 29.00000000\n"
     ]
    },
    {
     "name": "stderr",
     "output_type": "stream",
     "text": [
      "\n",
      "  0%|                                                                                                                                   | 0/200 [00:00<?, ?it/s]\u001b[A\n",
      " 11%|█████████████▎                                                                                                           | 22/200 [00:00<00:00, 194.51it/s]\u001b[A\n",
      " 97%|████████████████████████████████████████████████████████████████████████████████████████████████████████████████████▋   | 972/1000 [01:37<00:02,  9.68it/s]"
     ]
    },
    {
     "name": "stdout",
     "output_type": "stream",
     "text": [
      "DONE\n",
      "DONE\n",
      "Actor_loss 1.31122833\n",
      "Critic_loss 1.00000198\n",
      "Rewards mean 1.00000000 Rewards std 0.00000000 Rewards sum 23.00000000\n"
     ]
    },
    {
     "name": "stderr",
     "output_type": "stream",
     "text": [
      "\n",
      "  6%|███████▊                                                                                                                 | 13/200 [00:00<00:00, 198.65it/s]\u001b[A\n",
      " 97%|████████████████████████████████████████████████████████████████████████████████████████████████████████████████████▉   | 974/1000 [01:37<00:02,  9.93it/s]"
     ]
    },
    {
     "name": "stdout",
     "output_type": "stream",
     "text": [
      "DONE\n",
      "DONE\n",
      "Actor_loss 1.33345278\n",
      "Critic_loss 1.00000180\n",
      "Rewards mean 1.00000000 Rewards std 0.00000000 Rewards sum 14.00000000\n"
     ]
    },
    {
     "name": "stderr",
     "output_type": "stream",
     "text": [
      "\n",
      "  4%|█████▍                                                                                                                    | 9/200 [00:00<00:01, 171.77it/s]\u001b[A\n",
      " 97%|████████████████████████████████████████████████████████████████████████████████████████████████████████████████████▉   | 974/1000 [01:38<00:02,  9.93it/s]"
     ]
    },
    {
     "name": "stdout",
     "output_type": "stream",
     "text": [
      "DONE\n",
      "DONE\n",
      "Actor_loss 1.16136905\n",
      "Critic_loss 1.00000415\n",
      "Rewards mean 1.00000000 Rewards std 0.00000000 Rewards sum 10.00000000\n"
     ]
    },
    {
     "name": "stderr",
     "output_type": "stream",
     "text": [
      "\n",
      "  0%|                                                                                                                                   | 0/200 [00:00<?, ?it/s]\u001b[A\n",
      " 10%|████████████                                                                                                             | 20/200 [00:00<00:01, 169.14it/s]\u001b[A\n",
      " 98%|█████████████████████████████████████████████████████████████████████████████████████████████████████████████████████   | 976/1000 [01:38<00:02, 10.24it/s]"
     ]
    },
    {
     "name": "stdout",
     "output_type": "stream",
     "text": [
      "DONE\n",
      "DONE\n",
      "Actor_loss 1.29676424\n",
      "Critic_loss 1.00000215\n",
      "Rewards mean 1.00000000 Rewards std 0.00000000 Rewards sum 21.00000000\n"
     ]
    },
    {
     "name": "stderr",
     "output_type": "stream",
     "text": [
      "\n",
      "  0%|                                                                                                                                   | 0/200 [00:00<?, ?it/s]\u001b[A\n",
      " 12%|███████████████▏                                                                                                         | 25/200 [00:00<00:00, 190.26it/s]\u001b[A\n",
      " 98%|█████████████████████████████████████████████████████████████████████████████████████████████████████████████████████   | 976/1000 [01:38<00:02, 10.24it/s]"
     ]
    },
    {
     "name": "stdout",
     "output_type": "stream",
     "text": [
      "DONE\n",
      "DONE\n",
      "Actor_loss 1.47689055\n",
      "Critic_loss 0.99999998\n",
      "Rewards mean 1.00000000 Rewards std 0.00000000 Rewards sum 26.00000000\n"
     ]
    },
    {
     "name": "stderr",
     "output_type": "stream",
     "text": [
      "\n",
      "  0%|                                                                                                                                   | 0/200 [00:00<?, ?it/s]\u001b[A"
     ]
    },
    {
     "name": "stdout",
     "output_type": "stream",
     "text": [
      "DONE\n"
     ]
    },
    {
     "name": "stderr",
     "output_type": "stream",
     "text": [
      "  4%|████▉                                                                                                                     | 8/200 [00:00<00:01, 146.73it/s]\n",
      " 98%|█████████████████████████████████████████████████████████████████████████████████████████████████████████████████████▎  | 978/1000 [01:38<00:02, 10.21it/s]"
     ]
    },
    {
     "name": "stdout",
     "output_type": "stream",
     "text": [
      "DONE\n",
      "Actor_loss 1.05848186\n",
      "Critic_loss 1.00000541\n",
      "Rewards mean 1.00000000 Rewards std 0.00000000 Rewards sum 9.00000000\n"
     ]
    },
    {
     "name": "stderr",
     "output_type": "stream",
     "text": [
      "\n",
      "  6%|███████▎                                                                                                                 | 12/200 [00:00<00:01, 177.07it/s]\u001b[A\n",
      " 98%|█████████████████████████████████████████████████████████████████████████████████████████████████████████████████████▎  | 978/1000 [01:38<00:02, 10.21it/s]"
     ]
    },
    {
     "name": "stdout",
     "output_type": "stream",
     "text": [
      "DONE\n",
      "DONE\n",
      "Actor_loss 1.19078873\n",
      "Critic_loss 1.00000351\n",
      "Rewards mean 1.00000000 Rewards std 0.00000000 Rewards sum 13.00000000\n"
     ]
    },
    {
     "name": "stderr",
     "output_type": "stream",
     "text": [
      "\n",
      "  8%|██████████▎                                                                                                              | 17/200 [00:00<00:00, 206.05it/s]\u001b[A\n",
      " 98%|█████████████████████████████████████████████████████████████████████████████████████████████████████████████████████▌  | 980/1000 [01:38<00:01, 10.77it/s]"
     ]
    },
    {
     "name": "stdout",
     "output_type": "stream",
     "text": [
      "DONE\n",
      "DONE\n",
      "Actor_loss 1.23748889\n",
      "Critic_loss 1.00000278\n",
      "Rewards mean 1.00000000 Rewards std 0.00000000 Rewards sum 18.00000000\n"
     ]
    },
    {
     "name": "stderr",
     "output_type": "stream",
     "text": [
      "\n",
      "  9%|██████████▉                                                                                                              | 18/200 [00:00<00:00, 195.31it/s]\u001b[A\n",
      " 98%|█████████████████████████████████████████████████████████████████████████████████████████████████████████████████████▌  | 980/1000 [01:38<00:01, 10.77it/s]"
     ]
    },
    {
     "name": "stdout",
     "output_type": "stream",
     "text": [
      "DONE\n",
      "DONE\n",
      "Actor_loss 1.33800419\n",
      "Critic_loss 1.00000165\n",
      "Rewards mean 1.00000000 Rewards std 0.00000000 Rewards sum 19.00000000\n"
     ]
    },
    {
     "name": "stderr",
     "output_type": "stream",
     "text": [
      "\n",
      "  0%|                                                                                                                                   | 0/200 [00:00<?, ?it/s]\u001b[A\n",
      " 12%|███████████████▏                                                                                                         | 25/200 [00:00<00:00, 205.11it/s]\u001b[A\n",
      " 98%|█████████████████████████████████████████████████████████████████████████████████████████████████████████████████████▊  | 982/1000 [01:38<00:01, 10.09it/s]"
     ]
    },
    {
     "name": "stdout",
     "output_type": "stream",
     "text": [
      "DONE\n",
      "DONE\n",
      "Actor_loss 1.34977745\n",
      "Critic_loss 1.00000142\n",
      "Rewards mean 1.00000000 Rewards std 0.00000000 Rewards sum 26.00000000\n"
     ]
    },
    {
     "name": "stderr",
     "output_type": "stream",
     "text": [
      "\n",
      "  0%|                                                                                                                                   | 0/200 [00:00<?, ?it/s]\u001b[A"
     ]
    },
    {
     "name": "stdout",
     "output_type": "stream",
     "text": [
      "DONE\n"
     ]
    },
    {
     "name": "stderr",
     "output_type": "stream",
     "text": [
      "  6%|██████▋                                                                                                                  | 11/200 [00:00<00:01, 177.43it/s]\n",
      " 98%|█████████████████████████████████████████████████████████████████████████████████████████████████████████████████████▊  | 982/1000 [01:38<00:01, 10.09it/s]"
     ]
    },
    {
     "name": "stdout",
     "output_type": "stream",
     "text": [
      "DONE\n",
      "Actor_loss 1.11836313\n",
      "Critic_loss 1.00000456\n",
      "Rewards mean 1.00000000 Rewards std 0.00000000 Rewards sum 12.00000000\n"
     ]
    },
    {
     "name": "stderr",
     "output_type": "stream",
     "text": [
      "\n",
      " 10%|███████████▍                                                                                                             | 19/200 [00:00<00:00, 201.84it/s]\u001b[A\n",
      " 98%|██████████████████████████████████████████████████████████████████████████████████████████████████████████████████████  | 984/1000 [01:38<00:01, 10.57it/s]"
     ]
    },
    {
     "name": "stdout",
     "output_type": "stream",
     "text": [
      "DONE\n",
      "DONE\n",
      "Actor_loss 1.37212714\n",
      "Critic_loss 1.00000115\n",
      "Rewards mean 1.00000000 Rewards std 0.00000000 Rewards sum 20.00000000\n"
     ]
    },
    {
     "name": "stderr",
     "output_type": "stream",
     "text": [
      "\n",
      "  0%|                                                                                                                                   | 0/200 [00:00<?, ?it/s]\u001b[A\n",
      " 16%|██████████████████▊                                                                                                      | 31/200 [00:00<00:00, 210.01it/s]\u001b[A\n",
      " 98%|██████████████████████████████████████████████████████████████████████████████████████████████████████████████████████  | 984/1000 [01:39<00:01, 10.57it/s]"
     ]
    },
    {
     "name": "stdout",
     "output_type": "stream",
     "text": [
      "DONE\n",
      "DONE\n",
      "Actor_loss 1.37028915\n",
      "Critic_loss 1.00000128\n",
      "Rewards mean 1.00000000 Rewards std 0.00000000 Rewards sum 32.00000000\n"
     ]
    },
    {
     "name": "stderr",
     "output_type": "stream",
     "text": [
      "\n",
      "  6%|███████▎                                                                                                                 | 12/200 [00:00<00:01, 168.46it/s]\u001b[A\n",
      " 99%|██████████████████████████████████████████████████████████████████████████████████████████████████████████████████████▎ | 986/1000 [01:39<00:01,  9.92it/s]"
     ]
    },
    {
     "name": "stdout",
     "output_type": "stream",
     "text": [
      "DONE\n",
      "DONE\n",
      "Actor_loss 1.36742126\n",
      "Critic_loss 1.00000131\n",
      "Rewards mean 1.00000000 Rewards std 0.00000000 Rewards sum 13.00000000\n"
     ]
    },
    {
     "name": "stderr",
     "output_type": "stream",
     "text": [
      "\n",
      "  5%|██████                                                                                                                   | 10/200 [00:00<00:01, 187.19it/s]\u001b[A\n",
      " 99%|██████████████████████████████████████████████████████████████████████████████████████████████████████████████████████▎ | 986/1000 [01:39<00:01,  9.92it/s]"
     ]
    },
    {
     "name": "stdout",
     "output_type": "stream",
     "text": [
      "DONE\n",
      "DONE\n",
      "Actor_loss 1.03169451\n",
      "Critic_loss 1.00000530\n",
      "Rewards mean 1.00000000 Rewards std 0.00000000 Rewards sum 11.00000000\n"
     ]
    },
    {
     "name": "stderr",
     "output_type": "stream",
     "text": [
      "\n",
      "  0%|                                                                                                                                   | 0/200 [00:00<?, ?it/s]\u001b[A\n",
      " 12%|███████████████▏                                                                                                         | 25/200 [00:00<00:01, 173.32it/s]\u001b[A\n",
      " 99%|██████████████████████████████████████████████████████████████████████████████████████████████████████████████████████▌ | 988/1000 [01:39<00:01,  9.82it/s]"
     ]
    },
    {
     "name": "stdout",
     "output_type": "stream",
     "text": [
      "DONE\n",
      "DONE\n",
      "Actor_loss 1.30735725\n",
      "Critic_loss 1.00000190\n",
      "Rewards mean 1.00000000 Rewards std 0.00000000 Rewards sum 26.00000000\n"
     ]
    },
    {
     "name": "stderr",
     "output_type": "stream",
     "text": [
      "\n",
      "  6%|██████▋                                                                                                                  | 11/200 [00:00<00:01, 169.20it/s]\u001b[A\n",
      " 99%|██████████████████████████████████████████████████████████████████████████████████████████████████████████████████████▌ | 988/1000 [01:39<00:01,  9.82it/s]"
     ]
    },
    {
     "name": "stdout",
     "output_type": "stream",
     "text": [
      "DONE\n",
      "DONE\n",
      "Actor_loss 1.11816933\n",
      "Critic_loss 1.00000433\n",
      "Rewards mean 1.00000000 Rewards std 0.00000000 Rewards sum 12.00000000\n"
     ]
    },
    {
     "name": "stderr",
     "output_type": "stream",
     "text": [
      "\n",
      "  7%|████████▍                                                                                                                | 14/200 [00:00<00:01, 164.16it/s]\u001b[A\n",
      " 99%|██████████████████████████████████████████████████████████████████████████████████████████████████████████████████████▊ | 990/1000 [01:39<00:00, 10.47it/s]"
     ]
    },
    {
     "name": "stdout",
     "output_type": "stream",
     "text": [
      "DONE\n",
      "DONE\n",
      "Actor_loss 1.30430917\n",
      "Critic_loss 1.00000218\n",
      "Rewards mean 1.00000000 Rewards std 0.00000000 Rewards sum 15.00000000\n"
     ]
    },
    {
     "name": "stderr",
     "output_type": "stream",
     "text": [
      "\n",
      "  4%|████▎                                                                                                                     | 7/200 [00:00<00:01, 143.98it/s]\u001b[A\n",
      " 99%|██████████████████████████████████████████████████████████████████████████████████████████████████████████████████████▊ | 990/1000 [01:39<00:00, 10.47it/s]"
     ]
    },
    {
     "name": "stdout",
     "output_type": "stream",
     "text": [
      "DONE\n",
      "DONE\n",
      "Actor_loss 1.07654352\n",
      "Critic_loss 1.00000562\n",
      "Rewards mean 1.00000000 Rewards std 0.00000000 Rewards sum 8.00000000\n"
     ]
    },
    {
     "name": "stderr",
     "output_type": "stream",
     "text": [
      "\n",
      "  8%|█████████                                                                                                                | 15/200 [00:00<00:01, 169.88it/s]\u001b[A\n",
      " 99%|███████████████████████████████████████████████████████████████████████████████████████████████████████████████████████ | 992/1000 [01:39<00:00, 11.22it/s]"
     ]
    },
    {
     "name": "stdout",
     "output_type": "stream",
     "text": [
      "DONE\n",
      "DONE\n",
      "Actor_loss 1.20804849\n",
      "Critic_loss 1.00000318\n",
      "Rewards mean 1.00000000 Rewards std 0.00000000 Rewards sum 16.00000000\n"
     ]
    },
    {
     "name": "stderr",
     "output_type": "stream",
     "text": [
      "\n",
      "  5%|██████                                                                                                                   | 10/200 [00:00<00:01, 187.12it/s]\u001b[A\n",
      " 99%|███████████████████████████████████████████████████████████████████████████████████████████████████████████████████████ | 992/1000 [01:39<00:00, 11.22it/s]"
     ]
    },
    {
     "name": "stdout",
     "output_type": "stream",
     "text": [
      "DONE\n",
      "DONE\n",
      "Actor_loss 1.13698519\n",
      "Critic_loss 1.00000418\n",
      "Rewards mean 1.00000000 Rewards std 0.00000000 Rewards sum 11.00000000\n"
     ]
    },
    {
     "name": "stderr",
     "output_type": "stream",
     "text": [
      "\n",
      "  5%|██████                                                                                                                   | 10/200 [00:00<00:00, 190.31it/s]\u001b[A\n",
      " 99%|███████████████████████████████████████████████████████████████████████████████████████████████████████████████████████▎| 994/1000 [01:39<00:00, 12.54it/s]"
     ]
    },
    {
     "name": "stdout",
     "output_type": "stream",
     "text": [
      "DONE\n",
      "DONE\n",
      "Actor_loss 1.13683001\n",
      "Critic_loss 1.00000423\n",
      "Rewards mean 1.00000000 Rewards std 0.00000000 Rewards sum 11.00000000\n"
     ]
    },
    {
     "name": "stderr",
     "output_type": "stream",
     "text": [
      "\n",
      "  6%|███████▊                                                                                                                 | 13/200 [00:00<00:00, 188.49it/s]\u001b[A\n",
      " 99%|███████████████████████████████████████████████████████████████████████████████████████████████████████████████████████▎| 994/1000 [01:39<00:00, 12.54it/s]"
     ]
    },
    {
     "name": "stdout",
     "output_type": "stream",
     "text": [
      "DONE\n",
      "DONE\n",
      "Actor_loss 1.33354784\n",
      "Critic_loss 1.00000184\n",
      "Rewards mean 1.00000000 Rewards std 0.00000000 Rewards sum 14.00000000\n"
     ]
    },
    {
     "name": "stderr",
     "output_type": "stream",
     "text": [
      "\n",
      "  8%|██████████▎                                                                                                              | 17/200 [00:00<00:00, 202.91it/s]\u001b[A\n",
      "100%|███████████████████████████████████████████████████████████████████████████████████████████████████████████████████████▌| 996/1000 [01:39<00:00, 12.45it/s]"
     ]
    },
    {
     "name": "stdout",
     "output_type": "stream",
     "text": [
      "DONE\n",
      "DONE\n",
      "Actor_loss 1.23705272\n",
      "Critic_loss 1.00000295\n",
      "Rewards mean 1.00000000 Rewards std 0.00000000 Rewards sum 18.00000000\n"
     ]
    },
    {
     "name": "stderr",
     "output_type": "stream",
     "text": [
      "\n",
      "  5%|██████                                                                                                                   | 10/200 [00:00<00:01, 184.05it/s]\u001b[A\n",
      "100%|███████████████████████████████████████████████████████████████████████████████████████████████████████████████████████▌| 996/1000 [01:39<00:00, 12.45it/s]"
     ]
    },
    {
     "name": "stdout",
     "output_type": "stream",
     "text": [
      "DONE\n",
      "DONE\n",
      "Actor_loss 1.13659289\n",
      "Critic_loss 1.00000427\n",
      "Rewards mean 1.00000000 Rewards std 0.00000000 Rewards sum 11.00000000\n"
     ]
    },
    {
     "name": "stderr",
     "output_type": "stream",
     "text": [
      "\n",
      "  0%|                                                                                                                                   | 0/200 [00:00<?, ?it/s]\u001b[A\n",
      " 18%|██████████████████████▍                                                                                                  | 37/200 [00:00<00:00, 183.30it/s]\u001b[A\n",
      "100%|███████████████████████████████████████████████████████████████████████████████████████████████████████████████████████▊| 998/1000 [01:40<00:00, 10.40it/s]"
     ]
    },
    {
     "name": "stdout",
     "output_type": "stream",
     "text": [
      "DONE\n",
      "DONE\n",
      "Actor_loss 1.35574011\n",
      "Critic_loss 1.00000140\n",
      "Rewards mean 1.00000000 Rewards std 0.00000000 Rewards sum 38.00000000\n"
     ]
    },
    {
     "name": "stderr",
     "output_type": "stream",
     "text": [
      "\n",
      "  6%|███████▊                                                                                                                 | 13/200 [00:00<00:01, 159.21it/s]\u001b[A\n",
      "100%|███████████████████████████████████████████████████████████████████████████████████████████████████████████████████████▊| 998/1000 [01:40<00:00, 10.40it/s]"
     ]
    },
    {
     "name": "stdout",
     "output_type": "stream",
     "text": [
      "DONE\n",
      "DONE\n",
      "Actor_loss 1.16939885\n",
      "Critic_loss 1.00000370\n",
      "Rewards mean 1.00000000 Rewards std 0.00000000 Rewards sum 14.00000000\n"
     ]
    },
    {
     "name": "stderr",
     "output_type": "stream",
     "text": [
      "\n",
      "  6%|██████▋                                                                                                                  | 11/200 [00:00<00:01, 179.29it/s]\u001b[A\n",
      "100%|███████████████████████████████████████████████████████████████████████████████████████████████████████████████████████| 1000/1000 [01:40<00:00,  9.96it/s]"
     ]
    },
    {
     "name": "stdout",
     "output_type": "stream",
     "text": [
      "DONE\n",
      "DONE\n",
      "Actor_loss 1.11701123\n",
      "Critic_loss 1.00000447\n",
      "Rewards mean 1.00000000 Rewards std 0.00000000 Rewards sum 12.00000000\n"
     ]
    },
    {
     "name": "stderr",
     "output_type": "stream",
     "text": [
      "\n"
     ]
    },
    {
     "ename": "FileNotFoundError",
     "evalue": "[Errno 2] No such file or directory: '/content/Deep_Reinforcement_Learning/Results/Debug/STATES.npy'",
     "output_type": "error",
     "traceback": [
      "\u001b[0;31m---------------------------------------------------------------------------\u001b[0m",
      "\u001b[0;31mFileNotFoundError\u001b[0m                         Traceback (most recent call last)",
      "Cell \u001b[0;32mIn[3], line 1\u001b[0m\n\u001b[0;32m----> 1\u001b[0m \u001b[43mTrain\u001b[49m\u001b[38;5;241;43m.\u001b[39;49m\u001b[43mTrain\u001b[49m\u001b[43m(\u001b[49m\u001b[38;5;241;43m1000\u001b[39;49m\u001b[43m,\u001b[49m\u001b[38;5;241;43m1000\u001b[39;49m\u001b[43m,\u001b[49m\u001b[43m(\u001b[49m\u001b[38;5;241;43m0.5\u001b[39;49m\u001b[43m)\u001b[49m\u001b[43m,\u001b[49m\u001b[43mstatic\u001b[49m\u001b[38;5;241;43m=\u001b[39;49m\u001b[38;5;28;43;01mTrue\u001b[39;49;00m\u001b[43m,\u001b[49m\u001b[43mmodified_reward\u001b[49m\u001b[38;5;241;43m=\u001b[39;49m\u001b[38;5;28;43;01mFalse\u001b[39;49;00m\u001b[43m)\u001b[49m\n",
      "File \u001b[0;32m~/experiments/RL/DRL_/Deep_Reinforcement_Learning/NTB/../Train_utils/Actor_critic.py:167\u001b[0m, in \u001b[0;36mEpisodic_learning.Train\u001b[0;34m(self, train_episodes, T, phi, static, modified_reward)\u001b[0m\n\u001b[1;32m    162\u001b[0m     tqdm\u001b[38;5;241m.\u001b[39mwrite(\n\u001b[1;32m    163\u001b[0m       msg\n\u001b[1;32m    164\u001b[0m   )\n\u001b[1;32m    165\u001b[0m   \u001b[38;5;66;03m#save history\u001b[39;00m\n\u001b[0;32m--> 167\u001b[0m \u001b[43mnp\u001b[49m\u001b[38;5;241;43m.\u001b[39;49m\u001b[43msave\u001b[49m\u001b[43m(\u001b[49m\u001b[43mos\u001b[49m\u001b[38;5;241;43m.\u001b[39;49m\u001b[43mpath\u001b[49m\u001b[38;5;241;43m.\u001b[39;49m\u001b[43mjoin\u001b[49m\u001b[43m(\u001b[49m\u001b[38;5;28;43mself\u001b[39;49m\u001b[38;5;241;43m.\u001b[39;49m\u001b[43mres_dir\u001b[49m\u001b[43m,\u001b[49m\u001b[38;5;124;43m'\u001b[39;49m\u001b[38;5;124;43mSTATES.npy\u001b[39;49m\u001b[38;5;124;43m'\u001b[39;49m\u001b[43m)\u001b[49m\u001b[43m,\u001b[49m\u001b[43m \u001b[49m\u001b[38;5;28;43mself\u001b[39;49m\u001b[38;5;241;43m.\u001b[39;49m\u001b[43mepisodes_states\u001b[49m\u001b[43m)\u001b[49m\n\u001b[1;32m    168\u001b[0m np\u001b[38;5;241m.\u001b[39msave(os\u001b[38;5;241m.\u001b[39mpath\u001b[38;5;241m.\u001b[39mjoin(\u001b[38;5;28mself\u001b[39m\u001b[38;5;241m.\u001b[39mres_dir,\u001b[38;5;124m'\u001b[39m\u001b[38;5;124mACTIONS.npy\u001b[39m\u001b[38;5;124m'\u001b[39m), \u001b[38;5;28mself\u001b[39m\u001b[38;5;241m.\u001b[39mepisodes_action)\n\u001b[1;32m    169\u001b[0m np\u001b[38;5;241m.\u001b[39msave(os\u001b[38;5;241m.\u001b[39mpath\u001b[38;5;241m.\u001b[39mjoin(\u001b[38;5;28mself\u001b[39m\u001b[38;5;241m.\u001b[39mres_dir,\u001b[38;5;124m'\u001b[39m\u001b[38;5;124mREWARDS.npy\u001b[39m\u001b[38;5;124m'\u001b[39m), \u001b[38;5;28mself\u001b[39m\u001b[38;5;241m.\u001b[39mepisodes_rewards)\n",
      "File \u001b[0;32m<__array_function__ internals>:200\u001b[0m, in \u001b[0;36msave\u001b[0;34m(*args, **kwargs)\u001b[0m\n",
      "File \u001b[0;32m~/experiments/RL/DRL_/RLENV/lib/python3.8/site-packages/numpy/lib/npyio.py:518\u001b[0m, in \u001b[0;36msave\u001b[0;34m(file, arr, allow_pickle, fix_imports)\u001b[0m\n\u001b[1;32m    516\u001b[0m     \u001b[38;5;28;01mif\u001b[39;00m \u001b[38;5;129;01mnot\u001b[39;00m file\u001b[38;5;241m.\u001b[39mendswith(\u001b[38;5;124m'\u001b[39m\u001b[38;5;124m.npy\u001b[39m\u001b[38;5;124m'\u001b[39m):\n\u001b[1;32m    517\u001b[0m         file \u001b[38;5;241m=\u001b[39m file \u001b[38;5;241m+\u001b[39m \u001b[38;5;124m'\u001b[39m\u001b[38;5;124m.npy\u001b[39m\u001b[38;5;124m'\u001b[39m\n\u001b[0;32m--> 518\u001b[0m     file_ctx \u001b[38;5;241m=\u001b[39m \u001b[38;5;28;43mopen\u001b[39;49m\u001b[43m(\u001b[49m\u001b[43mfile\u001b[49m\u001b[43m,\u001b[49m\u001b[43m \u001b[49m\u001b[38;5;124;43m\"\u001b[39;49m\u001b[38;5;124;43mwb\u001b[39;49m\u001b[38;5;124;43m\"\u001b[39;49m\u001b[43m)\u001b[49m\n\u001b[1;32m    520\u001b[0m \u001b[38;5;28;01mwith\u001b[39;00m file_ctx \u001b[38;5;28;01mas\u001b[39;00m fid:\n\u001b[1;32m    521\u001b[0m     arr \u001b[38;5;241m=\u001b[39m np\u001b[38;5;241m.\u001b[39masanyarray(arr)\n",
      "\u001b[0;31mFileNotFoundError\u001b[0m: [Errno 2] No such file or directory: '/content/Deep_Reinforcement_Learning/Results/Debug/STATES.npy'"
     ]
    }
   ],
   "source": [
    "Train.Train(1000,1000,(0.5),static=True,modified_reward=False)"
   ]
  },
  {
   "cell_type": "code",
   "execution_count": null,
   "metadata": {},
   "outputs": [],
   "source": [
    "import matplotlib.pyplot as plt\n",
    "list(Train.episodes_rewards.keys())\n",
    "rewards=np.array(list(map(lambda k:np.sum(np.array(Train.episodes_rewards[k])),list(Train.episodes_rewards.keys()))))\n",
    "plt.figure(figsize=(25,5))\n",
    "plt.plot(rewards[:])\n",
    "\n",
    "\n",
    "Train.episodes_losses.keys()\n",
    "Ac_L=list(\n",
    "    map(\n",
    "        lambda k: list(map(lambda s:Train.episodes_losses[k][s][\"Actor_loss\"],\n",
    "                                 list(Train.episodes_losses[k].keys()))),\n",
    "              list(\n",
    "                  Train.episodes_losses.keys()\n",
    "              )[:]\n",
    "              )\n",
    "    )\n",
    "Ac_L=np.array(Ac_L,dtype=list)\n",
    "\n",
    "Ac_L_t=np.concatenate(Ac_L)\n",
    "Ac_L_m=np.array(list(map(lambda l: np.mean(np.array(l)),Ac_L.tolist())))\n",
    "Ac_L_s=np.array(list(map(lambda l: np.std(np.array(l)),Ac_L.tolist())))\n",
    "\n",
    "#plt.figure(figsize=(25,5))\n",
    "#plt.plot(Ac_L_t)\n",
    "#plt.show()\n",
    "plt.figure(figsize=(25,5))\n",
    "plt.plot(np.arange(Ac_L_m.shape[0]),Ac_L_m)\n",
    "plt.fill_between(np.arange(Ac_L_m.shape[0]),Ac_L_m-Ac_L_s, Ac_L_m+Ac_L_s, facecolor='blue', alpha=0.5)\n",
    "plt.show()\n",
    "\n",
    "Train.episodes_losses.keys()\n",
    "Cr_L=list(\n",
    "    map(\n",
    "        lambda k: list(map(lambda s:Train.episodes_losses[k][s][\"Critic_loss\"],\n",
    "                                 list(Train.episodes_losses[k].keys()))),\n",
    "              list(\n",
    "                  Train.episodes_losses.keys()\n",
    "              )[:]\n",
    "              )\n",
    "    )\n",
    "Cr_L=np.array(Cr_L,dtype=list)\n",
    "\n",
    "Cr_L_t=np.concatenate(Cr_L)\n",
    "Cr_L_m=np.array(list(map(lambda l: np.mean(np.array(l)),Cr_L.tolist())))\n",
    "Cr_L_s=np.array(list(map(lambda l: np.std(np.array(l)),Cr_L.tolist())))\n",
    "\n",
    "#plt.figure(figsize=(25,5))\n",
    "#plt.plot(Cr_L_t)\n",
    "#plt.show()\n",
    "plt.figure(figsize=(25,5))\n",
    "plt.plot(np.arange(Cr_L_m.shape[0]),Cr_L_m)\n",
    "plt.fill_between(np.arange(Cr_L_m.shape[0]),Cr_L_m-Cr_L_s, Cr_L_m+Cr_L_s, facecolor='blue', alpha=0.5)\n",
    "plt.show()\n",
    "\n",
    "\n",
    "logit=Ac_L_t/Cr_L_t\n",
    "\n",
    "\n",
    "logit_m=Ac_L_m/Cr_L_m\n",
    "\n",
    "\n",
    "#plt.figure(figsize=(25,5))\n",
    "#plt.plot(logit_t)\n",
    "#plt.show()\n",
    "plt.figure(figsize=(25,5))\n",
    "plt.plot(np.arange(logit_m.shape[0]),logit_m)\n",
    "plt.show()"
   ]
  },
  {
   "cell_type": "code",
   "execution_count": null,
   "metadata": {},
   "outputs": [],
   "source": [
    "Actor=Neural_Net_module(\n",
    "    state_size=4,\n",
    "    action_size=2,\n",
    "    #layer_sizes=[8,16,16,32,32,16,8,4],\n",
    "    #activators=[nn.GELU(),nn.GELU(),nn.GELU(),nn.GELU(),nn.GELU(),nn.GELU(),nn.GELU(),nn.GELU(),nn.Softmax(dim=-1)],\n",
    "    layer_sizes=[32,128,2],\n",
    "    activators=[nn.GELU(),nn.GELU(),nn.GELU(),nn.Softmax(dim=-1)],\n",
    "    )\n",
    "Critic=Neural_Net_module(\n",
    "    state_size=4,\n",
    "    action_size=1,\n",
    "    #layer_sizes=[8,16,16,32,32,16,8,4],\n",
    "    layer_sizes=[32,128,32],\n",
    "    #activators=[nn.GELU(),nn.GELU(),nn.GELU(),nn.GELU(),nn.GELU(),nn.GELU(),nn.GELU(),nn.GELU(),nn.Identity()],\n",
    "    activators=[nn.GELU(),nn.GELU(),nn.GELU(),nn.Identity()],\n",
    "    )\n",
    "\n",
    "\n",
    "Model = Neural_Net_Actor_Critic(\n",
    "    Actor_model=Actor,\n",
    "    Critic_model=Critic,\n",
    "    gamma=0.5,\n",
    "    norm=lambda x:0.5*(x.pow(2))\n",
    "    #norm=lambda x:torch.abs(x)\n",
    "    )\n",
    "\n",
    "env=gym.make(\"CartPole-v1\")\n",
    "\n",
    "\n",
    "Train=Episodic_learning(\n",
    "    model=Model,\n",
    "    free_input=0,\n",
    "    env=env,\n",
    "    Actor_optimizer_params={\n",
    "        \"lr\":1e-5,\n",
    "        \"betas\":(0.0, 0.9),\n",
    "        \"eps\":1e-08,\n",
    "        \"weight_decay\":0.99\n",
    "        },\n",
    "    Critic_optimizer_params={\"lr\":1e-7},\n",
    "    phi=1e-1,  #self.phi*Cri_loss+(1-self.phi)*Act_loss\n",
    "    res_dir=\"../Results/Debug\",\n",
    "    max_steps=200,\n",
    "    multi_opt=False,\n",
    "    cuda=False,\n",
    "    #sch_f=lambda x:(0.5-2e-8)*np.cos(2*np.pi*x)+(0.5)\n",
    "    #sch_f=lambda x: (1-1e-10) if x<0.5 else 1e-10\n",
    "    sch_f=lambda x: (1) if x<0.5 else 0\n",
    ")"
   ]
  },
  {
   "cell_type": "code",
   "execution_count": null,
   "metadata": {
    "scrolled": true
   },
   "outputs": [],
   "source": [
    "#Train.Train(200,500,1e-9,static=False)\n",
    "Train.Train(500,200,(1e-5),static=True,modified_reward=True)"
   ]
  },
  {
   "cell_type": "code",
   "execution_count": 24,
   "metadata": {},
   "outputs": [],
   "source": [
    "import matplotlib.pyplot as plt\n",
    "list(Train.episodes_rewards.keys())\n",
    "rewards=np.array(list(map(lambda k:np.sum(np.array(Train.episodes_rewards[k])),list(Train.episodes_rewards.keys()))))\n",
    "plt.figure(figsize=(25,5))\n",
    "plt.plot(rewards[:])\n",
    "\n",
    "\n",
    "Train.episodes_losses.keys()\n",
    "Ac_L=list(\n",
    "    map(\n",
    "        lambda k: list(map(lambda s:Train.episodes_losses[k][s][\"Actor_loss\"],\n",
    "                                 list(Train.episodes_losses[k].keys()))),\n",
    "              list(\n",
    "                  Train.episodes_losses.keys()\n",
    "              )[:]\n",
    "              )\n",
    "    )\n",
    "Ac_L=np.array(Ac_L,dtype=list)\n",
    "\n",
    "Ac_L_t=np.concatenate(Ac_L)\n",
    "Ac_L_m=np.array(list(map(lambda l: np.mean(np.array(l)),Ac_L.tolist())))\n",
    "Ac_L_s=np.array(list(map(lambda l: np.std(np.array(l)),Ac_L.tolist())))\n",
    "Ac_L_min=np.array(list(map(lambda l: np.min(np.array(l)),Ac_L.tolist())))\n",
    "Ac_L_max=np.array(list(map(lambda l: np.max(np.array(l)),Ac_L.tolist())))\n",
    "\n",
    "#plt.figure(figsize=(25,5))\n",
    "#plt.plot(Ac_L_t)\n",
    "#plt.show()\n",
    "plt.figure(figsize=(25,5))\n",
    "plt.plot(np.arange(Ac_L_m.shape[0]),Ac_L_m)\n",
    "plt.fill_between(np.arange(Ac_L_m.shape[0]),Ac_L_m-Ac_L_s, Ac_L_m+Ac_L_s, facecolor='blue', alpha=0.3)\n",
    "plt.fill_between(np.arange(Ac_L_m.shape[0]),Ac_L_min, Ac_L_max, facecolor='blue', alpha=0.5)\n",
    "plt.show()\n",
    "\n",
    "Train.episodes_losses.keys()\n",
    "Cr_L=list(\n",
    "    map(\n",
    "        lambda k: list(map(lambda s:Train.episodes_losses[k][s][\"Critic_loss\"],\n",
    "                                 list(Train.episodes_losses[k].keys()))),\n",
    "              list(\n",
    "                  Train.episodes_losses.keys()\n",
    "              )[:]\n",
    "              )\n",
    "    )\n",
    "Cr_L=np.array(Cr_L,dtype=list)\n",
    "\n",
    "Cr_L_t=np.concatenate(Cr_L)\n",
    "Cr_L_m=np.array(list(map(lambda l: np.mean(np.array(l)),Cr_L.tolist())))\n",
    "Cr_L_s=np.array(list(map(lambda l: np.std(np.array(l)),Cr_L.tolist())))\n",
    "Cr_L_min=np.array(list(map(lambda l: np.min(np.array(l)),Cr_L.tolist())))\n",
    "Cr_L_max=np.array(list(map(lambda l: np.max(np.array(l)),Cr_L.tolist())))\n",
    "\n",
    "#plt.figure(figsize=(25,5))\n",
    "#plt.plot(Cr_L_t)\n",
    "#plt.show()\n",
    "plt.figure(figsize=(25,5))\n",
    "plt.plot(np.arange(Cr_L_m.shape[0]),Cr_L_m)\n",
    "plt.fill_between(np.arange(Cr_L_m.shape[0]),Cr_L_m-Cr_L_s, Cr_L_m+Cr_L_s, facecolor='blue', alpha=0.1)\n",
    "plt.fill_between(np.arange(Cr_L_m.shape[0]),Cr_L_min, Cr_L_max, facecolor='blue', alpha=0.5)\n",
    "plt.show()\n",
    "\n",
    "\n",
    "logit=Ac_L_t/Cr_L_t\n",
    "\n",
    "\n",
    "logit_m=Ac_L_m/Cr_L_m\n",
    "\n",
    "\n",
    "#plt.figure(figsize=(25,5))\n",
    "#plt.plot(logit_t)\n",
    "#plt.show()\n",
    "plt.figure(figsize=(25,5))\n",
    "plt.plot(np.arange(logit_m.shape[0]),logit_m)\n",
    "plt.show()"
   ]
  },
  {
   "cell_type": "code",
   "execution_count": 25,
   "metadata": {},
   "outputs": [],
   "source": [
    "2+2"
   ]
  }
 ],
 "metadata": {
  "kernelspec": {
   "display_name": "RLENV",
   "language": "python",
   "name": "rlenv"
  },
  "language_info": {
   "codemirror_mode": {
    "name": "ipython",
    "version": 3
   },
   "file_extension": ".py",
   "mimetype": "text/x-python",
   "name": "python",
   "nbconvert_exporter": "python",
   "pygments_lexer": "ipython3",
   "version": "3.8.10"
  }
 },
 "nbformat": 4,
 "nbformat_minor": 2
}
