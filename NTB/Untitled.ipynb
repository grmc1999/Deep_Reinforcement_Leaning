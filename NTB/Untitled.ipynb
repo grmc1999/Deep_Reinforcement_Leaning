{
 "cells": [
  {
   "cell_type": "code",
   "execution_count": 1,
   "metadata": {},
   "outputs": [],
   "source": [
    "import sys\n",
    "import os\n",
    "import gym\n",
    "import torch\n",
    "from torch import nn\n",
    "import numpy as np\n",
    "import json\n",
    "\n",
    "sys.path.append(\"../Models\")\n",
    "sys.path.append(\"../Train_utils\")\n",
    "\n",
    "from Simple_Model import Neural_Net_Actor_Critic,Neural_Net_module\n",
    "from Actor_critic import Episodic_learning"
   ]
  },
  {
   "cell_type": "code",
   "execution_count": 2,
   "metadata": {},
   "outputs": [],
   "source": [
    "res_dir=\"../Results/Debug\"\n",
    "desc=json.load(open(os.path.join(res_dir,\"config.json\")))\n",
    "\n",
    "\n",
    "#PARSE ACTIVATION FUNCTIONS\n",
    "desc[\"Actor_model_name\"][\"args\"][\"activators\"]=[getattr(nn,act[\"name\"])(**(act[\"args\"])) for act in desc[\"Actor_model_name\"][\"args\"][\"activators\"]]\n",
    "desc[\"Critic_model_name\"][\"args\"][\"activators\"]=[getattr(nn,act[\"name\"])(**(act[\"args\"])) for act in desc[\"Critic_model_name\"][\"args\"][\"activators\"]]\n",
    "\n",
    "Train=Episodic_learning(\n",
    "    model=Neural_Net_Actor_Critic(\n",
    "          Actor_model=Neural_Net_module(**(desc[\"Actor_model_name\"][\"args\"])),\n",
    "          Critic_model=Neural_Net_module(**(desc[\"Critic_model_name\"][\"args\"])),\n",
    "          norm=lambda x:0.5*(x.pow(2)),\n",
    "          **(desc[\"agent\"][\"args\"])\n",
    "          ),\n",
    "    env=gym.make(desc[\"environment\"][\"name\"]),\n",
    "    sch_f=lambda x: (1) if x<0.5 else 0,\n",
    "    res_dir=\"/content/Deep_Reinforcement_Learning/Results/Debug\",\n",
    "    **(desc[\"framework\"][\"args\"])\n",
    ")"
   ]
  },
  {
   "cell_type": "code",
   "execution_count": null,
   "metadata": {},
   "outputs": [
    {
     "name": "stderr",
     "output_type": "stream",
     "text": [
      "  0%|                                                                                                                                  | 0/1000 [00:00<?, ?it/s]\n",
      "  0%|                                                                                                                                   | 0/200 [00:00<?, ?it/s]\u001b[A/home/lambda/experiments/RL/DRL_/RLENV/lib/python3.8/site-packages/gym/utils/passive_env_checker.py:233: DeprecationWarning: `np.bool8` is a deprecated alias for `np.bool_`.  (Deprecated NumPy 1.24)\n",
      "  if not isinstance(terminated, (bool, np.bool8)):\n",
      "\n",
      "  0%|▌                                                                                                                          | 1/200 [00:00<00:27,  7.12it/s]\u001b[A\n",
      " 12%|███████████████▎                                                                                                          | 25/200 [00:00<00:02, 85.38it/s]\u001b[A\n",
      "  0%|                                                                                                                          | 1/1000 [00:00<05:02,  3.30it/s]"
     ]
    },
    {
     "name": "stdout",
     "output_type": "stream",
     "text": [
      "DONE\n",
      "DONE\n",
      "Actor_loss 1.31902088\n",
      "Critic_loss 1.00000405\n",
      "Rewards mean 1.00000000 Rewards std 0.00000000 Rewards sum 26.00000000\n"
     ]
    },
    {
     "name": "stderr",
     "output_type": "stream",
     "text": [
      "\n",
      "  6%|███████▎                                                                                                                 | 12/200 [00:00<00:01, 167.73it/s]\u001b[A\n",
      "  0%|                                                                                                                          | 1/1000 [00:00<05:02,  3.30it/s]"
     ]
    },
    {
     "name": "stdout",
     "output_type": "stream",
     "text": [
      "DONE\n",
      "DONE\n",
      "Actor_loss 1.59039765\n",
      "Critic_loss 1.00000008\n",
      "Rewards mean 1.00000000 Rewards std 0.00000000 Rewards sum 13.00000000\n"
     ]
    },
    {
     "name": "stderr",
     "output_type": "stream",
     "text": [
      "\n",
      "  6%|███████▎                                                                                                                 | 12/200 [00:00<00:01, 171.91it/s]\u001b[A\n",
      "  0%|▎                                                                                                                         | 3/1000 [00:00<02:15,  7.37it/s]"
     ]
    },
    {
     "name": "stdout",
     "output_type": "stream",
     "text": [
      "DONE\n",
      "DONE\n",
      "Actor_loss 1.47423675\n",
      "Critic_loss 0.99999902\n",
      "Rewards mean 1.00000000 Rewards std 0.00000000 Rewards sum 13.00000000\n"
     ]
    },
    {
     "name": "stderr",
     "output_type": "stream",
     "text": [
      "\n",
      "  6%|███████▎                                                                                                                 | 12/200 [00:00<00:01, 158.10it/s]\u001b[A\n",
      "  0%|▎                                                                                                                         | 3/1000 [00:00<02:15,  7.37it/s]"
     ]
    },
    {
     "name": "stdout",
     "output_type": "stream",
     "text": [
      "DONE\n",
      "DONE\n",
      "Actor_loss 1.24266354\n",
      "Critic_loss 1.00000861\n",
      "Rewards mean 1.00000000 Rewards std 0.00000000 Rewards sum 13.00000000\n"
     ]
    },
    {
     "name": "stderr",
     "output_type": "stream",
     "text": [
      "\n",
      "  0%|                                                                                                                                   | 0/200 [00:00<?, ?it/s]\u001b[A\n",
      " 12%|███████████████▏                                                                                                         | 25/200 [00:00<00:00, 183.29it/s]\u001b[A\n",
      "  0%|▌                                                                                                                         | 5/1000 [00:00<02:03,  8.08it/s]"
     ]
    },
    {
     "name": "stdout",
     "output_type": "stream",
     "text": [
      "DONE\n",
      "DONE\n",
      "Actor_loss 1.31904719\n",
      "Critic_loss 1.00000408\n",
      "Rewards mean 1.00000000 Rewards std 0.00000000 Rewards sum 26.00000000\n"
     ]
    },
    {
     "name": "stderr",
     "output_type": "stream",
     "text": [
      "\n",
      "  6%|███████▊                                                                                                                 | 13/200 [00:00<00:01, 177.19it/s]\u001b[A\n",
      "  0%|▌                                                                                                                         | 5/1000 [00:00<02:03,  8.08it/s]"
     ]
    },
    {
     "name": "stdout",
     "output_type": "stream",
     "text": [
      "DONE\n",
      "DONE\n",
      "Actor_loss 1.33616595\n",
      "Critic_loss 1.00000454\n",
      "Rewards mean 1.00000000 Rewards std 0.00000000 Rewards sum 14.00000000\n"
     ]
    },
    {
     "name": "stderr",
     "output_type": "stream",
     "text": [
      "\n",
      "  0%|                                                                                                                                   | 0/200 [00:00<?, ?it/s]\u001b[A\n",
      " 10%|████████████▋                                                                                                            | 21/200 [00:00<00:01, 177.55it/s]\u001b[A\n",
      "  1%|▊                                                                                                                         | 7/1000 [00:00<01:53,  8.75it/s]"
     ]
    },
    {
     "name": "stdout",
     "output_type": "stream",
     "text": [
      "DONE\n",
      "DONE\n",
      "Actor_loss 1.39993498\n",
      "Critic_loss 1.00000171\n",
      "Rewards mean 1.00000000 Rewards std 0.00000000 Rewards sum 22.00000000\n"
     ]
    },
    {
     "name": "stderr",
     "output_type": "stream",
     "text": [
      "\n",
      "  0%|                                                                                                                                   | 0/200 [00:00<?, ?it/s]\u001b[A\n",
      " 14%|████████████████▎                                                                                                        | 27/200 [00:00<00:01, 161.14it/s]\u001b[A\n",
      "  1%|▉                                                                                                                         | 8/1000 [00:01<02:06,  7.81it/s]"
     ]
    },
    {
     "name": "stdout",
     "output_type": "stream",
     "text": [
      "DONE\n",
      "DONE\n",
      "Actor_loss 1.40358232\n",
      "Critic_loss 1.00000151\n",
      "Rewards mean 1.00000000 Rewards std 0.00000000 Rewards sum 28.00000000\n"
     ]
    },
    {
     "name": "stderr",
     "output_type": "stream",
     "text": [
      "\n",
      "  7%|████████▍                                                                                                                | 14/200 [00:00<00:01, 170.05it/s]\u001b[A\n",
      "  1%|▉                                                                                                                         | 8/1000 [00:01<02:06,  7.81it/s]"
     ]
    },
    {
     "name": "stdout",
     "output_type": "stream",
     "text": [
      "DONE\n",
      "DONE\n",
      "Actor_loss 1.36676598\n",
      "Critic_loss 1.00000265\n",
      "Rewards mean 1.00000000 Rewards std 0.00000000 Rewards sum 15.00000000\n"
     ]
    },
    {
     "name": "stderr",
     "output_type": "stream",
     "text": [
      "\n",
      "  0%|                                                                                                                                   | 0/200 [00:00<?, ?it/s]\u001b[A\n",
      " 10%|███████████▍                                                                                                             | 19/200 [00:00<00:01, 162.48it/s]\u001b[A\n",
      "  1%|█▏                                                                                                                       | 10/1000 [00:01<01:58,  8.38it/s]"
     ]
    },
    {
     "name": "stdout",
     "output_type": "stream",
     "text": [
      "DONE\n",
      "DONE\n",
      "Actor_loss 1.28824878\n",
      "Critic_loss 1.00000619\n",
      "Rewards mean 1.00000000 Rewards std 0.00000000 Rewards sum 20.00000000\n"
     ]
    },
    {
     "name": "stderr",
     "output_type": "stream",
     "text": [
      "\n",
      "  6%|███████▎                                                                                                                 | 12/200 [00:00<00:01, 131.64it/s]\u001b[A\n",
      "  1%|█▏                                                                                                                       | 10/1000 [00:01<01:58,  8.38it/s]"
     ]
    },
    {
     "name": "stdout",
     "output_type": "stream",
     "text": [
      "DONE\n",
      "DONE\n",
      "Actor_loss 1.24227590\n",
      "Critic_loss 1.00000828\n",
      "Rewards mean 1.00000000 Rewards std 0.00000000 Rewards sum 13.00000000\n"
     ]
    },
    {
     "name": "stderr",
     "output_type": "stream",
     "text": [
      "\n",
      "  0%|                                                                                                                                   | 0/200 [00:00<?, ?it/s]\u001b[A\n",
      " 10%|████████████▋                                                                                                            | 21/200 [00:00<00:01, 169.27it/s]\u001b[A\n",
      "  1%|█▍                                                                                                                       | 12/1000 [00:01<01:55,  8.53it/s]"
     ]
    },
    {
     "name": "stdout",
     "output_type": "stream",
     "text": [
      "DONE\n",
      "DONE\n",
      "Actor_loss 1.43313930\n",
      "Critic_loss 0.99999926\n",
      "Rewards mean 1.00000000 Rewards std 0.00000000 Rewards sum 22.00000000\n"
     ]
    },
    {
     "name": "stderr",
     "output_type": "stream",
     "text": [
      "\n",
      "  6%|███████▊                                                                                                                 | 13/200 [00:00<00:01, 173.78it/s]\u001b[A\n",
      "  1%|█▍                                                                                                                       | 12/1000 [00:01<01:55,  8.53it/s]"
     ]
    },
    {
     "name": "stdout",
     "output_type": "stream",
     "text": [
      "DONE\n",
      "DONE\n",
      "Actor_loss 1.28254496\n",
      "Critic_loss 1.00000571\n",
      "Rewards mean 1.00000000 Rewards std 0.00000000 Rewards sum 14.00000000\n"
     ]
    },
    {
     "name": "stderr",
     "output_type": "stream",
     "text": [
      "\n",
      "  8%|█████████                                                                                                                | 15/200 [00:00<00:00, 192.82it/s]\u001b[A\n",
      "  1%|█▋                                                                                                                       | 14/1000 [00:01<01:44,  9.47it/s]"
     ]
    },
    {
     "name": "stdout",
     "output_type": "stream",
     "text": [
      "DONE\n",
      "DONE\n",
      "Actor_loss 1.48619769\n",
      "Critic_loss 0.99999907\n",
      "Rewards mean 1.00000000 Rewards std 0.00000000 Rewards sum 16.00000000\n"
     ]
    },
    {
     "name": "stderr",
     "output_type": "stream",
     "text": [
      "\n",
      "  5%|██████                                                                                                                   | 10/200 [00:00<00:01, 169.69it/s]\u001b[A\n",
      "  1%|█▋                                                                                                                       | 14/1000 [00:01<01:44,  9.47it/s]"
     ]
    },
    {
     "name": "stdout",
     "output_type": "stream",
     "text": [
      "DONE\n",
      "DONE\n",
      "Actor_loss 1.13774879\n",
      "Critic_loss 1.00001425\n",
      "Rewards mean 1.00000000 Rewards std 0.00000000 Rewards sum 11.00000000\n"
     ]
    },
    {
     "name": "stderr",
     "output_type": "stream",
     "text": [
      "\n",
      "  0%|                                                                                                                                   | 0/200 [00:00<?, ?it/s]\u001b[A\n",
      " 12%|█████████████▉                                                                                                           | 23/200 [00:00<00:01, 162.39it/s]\u001b[A\n",
      "  2%|█▉                                                                                                                       | 16/1000 [00:01<01:44,  9.45it/s]"
     ]
    },
    {
     "name": "stdout",
     "output_type": "stream",
     "text": [
      "DONE\n",
      "DONE\n",
      "Actor_loss 1.37112756\n",
      "Critic_loss 1.00000265\n",
      "Rewards mean 1.00000000 Rewards std 0.00000000 Rewards sum 24.00000000\n"
     ]
    },
    {
     "name": "stderr",
     "output_type": "stream",
     "text": [
      "\n",
      "  4%|█████▍                                                                                                                    | 9/200 [00:00<00:01, 174.07it/s]\u001b[A\n",
      "  2%|█▉                                                                                                                       | 16/1000 [00:01<01:44,  9.45it/s]"
     ]
    },
    {
     "name": "stdout",
     "output_type": "stream",
     "text": [
      "DONE\n",
      "DONE\n",
      "Actor_loss 1.14503790\n",
      "Critic_loss 1.00001468\n",
      "Rewards mean 1.00000000 Rewards std 0.00000000 Rewards sum 10.00000000\n"
     ]
    },
    {
     "name": "stderr",
     "output_type": "stream",
     "text": [
      "\n",
      "  0%|                                                                                                                                   | 0/200 [00:00<?, ?it/s]\u001b[A\n",
      " 16%|███████████████████▎                                                                                                     | 32/200 [00:00<00:00, 189.74it/s]\u001b[A\n",
      "  2%|██▏                                                                                                                      | 18/1000 [00:02<01:47,  9.18it/s]"
     ]
    },
    {
     "name": "stdout",
     "output_type": "stream",
     "text": [
      "DONE\n",
      "DONE\n",
      "Actor_loss 1.35120232\n",
      "Critic_loss 1.00000319\n",
      "Rewards mean 1.00000000 Rewards std 0.00000000 Rewards sum 33.00000000\n"
     ]
    },
    {
     "name": "stderr",
     "output_type": "stream",
     "text": [
      "\n",
      "  5%|██████                                                                                                                   | 10/200 [00:00<00:01, 161.57it/s]\u001b[A\n",
      "  2%|██▏                                                                                                                      | 18/1000 [00:02<01:47,  9.18it/s]"
     ]
    },
    {
     "name": "stdout",
     "output_type": "stream",
     "text": [
      "DONE\n",
      "DONE\n",
      "Actor_loss 1.27689631\n",
      "Critic_loss 1.00000642\n",
      "Rewards mean 1.00000000 Rewards std 0.00000000 Rewards sum 11.00000000\n"
     ]
    },
    {
     "name": "stderr",
     "output_type": "stream",
     "text": [
      "\n",
      "  0%|                                                                                                                                   | 0/200 [00:00<?, ?it/s]\u001b[A\n",
      " 11%|█████████████▎                                                                                                           | 22/200 [00:00<00:00, 212.72it/s]\u001b[A"
     ]
    },
    {
     "name": "stdout",
     "output_type": "stream",
     "text": [
      "DONE\n"
     ]
    },
    {
     "name": "stderr",
     "output_type": "stream",
     "text": [
      " 20%|████████████████████████▏                                                                                                | 40/200 [00:00<00:00, 204.47it/s]\n",
      "  2%|██▍                                                                                                                      | 20/1000 [00:02<01:54,  8.54it/s]"
     ]
    },
    {
     "name": "stdout",
     "output_type": "stream",
     "text": [
      "DONE\n",
      "Actor_loss 1.38180959\n",
      "Critic_loss 1.00000102\n",
      "Rewards mean 1.00000000 Rewards std 0.00000000 Rewards sum 41.00000000\n"
     ]
    },
    {
     "name": "stderr",
     "output_type": "stream",
     "text": [
      "\n",
      "  7%|████████▍                                                                                                                | 14/200 [00:00<00:01, 177.80it/s]\u001b[A\n",
      "  2%|██▍                                                                                                                      | 20/1000 [00:02<01:54,  8.54it/s]"
     ]
    },
    {
     "name": "stdout",
     "output_type": "stream",
     "text": [
      "DONE\n",
      "DONE\n",
      "Actor_loss 1.21679841\n",
      "Critic_loss 1.00001048\n",
      "Rewards mean 1.00000000 Rewards std 0.00000000 Rewards sum 15.00000000\n"
     ]
    },
    {
     "name": "stderr",
     "output_type": "stream",
     "text": [
      "\n",
      " 10%|████████████                                                                                                             | 20/200 [00:00<00:00, 193.76it/s]\u001b[A\n",
      "                                                                                                                                                                "
     ]
    },
    {
     "name": "stdout",
     "output_type": "stream",
     "text": [
      "DONE\n",
      "DONE\n"
     ]
    },
    {
     "name": "stderr",
     "output_type": "stream",
     "text": [
      "  2%|██▋                                                                                                                      | 22/1000 [00:02<01:48,  9.02it/s]"
     ]
    },
    {
     "name": "stdout",
     "output_type": "stream",
     "text": [
      "Actor_loss 1.31174750\n",
      "Critic_loss 1.00000525\n",
      "Rewards mean 1.00000000 Rewards std 0.00000000 Rewards sum 21.00000000\n"
     ]
    },
    {
     "name": "stderr",
     "output_type": "stream",
     "text": [
      "\n",
      "  6%|██████▋                                                                                                                  | 11/200 [00:00<00:01, 155.44it/s]\u001b[A\n",
      "  2%|██▋                                                                                                                      | 22/1000 [00:02<01:48,  9.02it/s]"
     ]
    },
    {
     "name": "stdout",
     "output_type": "stream",
     "text": [
      "DONE\n",
      "DONE\n",
      "Actor_loss 1.25751274\n",
      "Critic_loss 1.00000832\n",
      "Rewards mean 1.00000000 Rewards std 0.00000000 Rewards sum 12.00000000\n"
     ]
    },
    {
     "name": "stderr",
     "output_type": "stream",
     "text": [
      "\n",
      "  0%|                                                                                                                                   | 0/200 [00:00<?, ?it/s]\u001b[A\n",
      " 12%|██████████████▌                                                                                                          | 24/200 [00:00<00:00, 181.58it/s]\u001b[A\n",
      "  2%|██▉                                                                                                                      | 24/1000 [00:02<01:47,  9.09it/s]"
     ]
    },
    {
     "name": "stdout",
     "output_type": "stream",
     "text": [
      "DONE\n",
      "DONE\n",
      "Actor_loss 1.32924906\n",
      "Critic_loss 1.00000461\n",
      "Rewards mean 1.00000000 Rewards std 0.00000000 Rewards sum 25.00000000\n"
     ]
    },
    {
     "name": "stderr",
     "output_type": "stream",
     "text": [
      "\n",
      "  8%|█████████▋                                                                                                               | 16/200 [00:00<00:01, 180.36it/s]\u001b[A\n",
      "  2%|██▉                                                                                                                      | 24/1000 [00:02<01:47,  9.09it/s]"
     ]
    },
    {
     "name": "stdout",
     "output_type": "stream",
     "text": [
      "DONE\n",
      "DONE\n",
      "Actor_loss 1.32923322\n",
      "Critic_loss 1.00000506\n",
      "Rewards mean 1.00000000 Rewards std 0.00000000 Rewards sum 17.00000000\n"
     ]
    },
    {
     "name": "stderr",
     "output_type": "stream",
     "text": [
      "\n",
      "  7%|████████▍                                                                                                                | 14/200 [00:00<00:00, 189.01it/s]\u001b[A\n",
      "  3%|███▏                                                                                                                     | 26/1000 [00:02<01:40,  9.71it/s]"
     ]
    },
    {
     "name": "stdout",
     "output_type": "stream",
     "text": [
      "DONE\n",
      "DONE\n",
      "Actor_loss 1.26648014\n",
      "Critic_loss 1.00000789\n",
      "Rewards mean 1.00000000 Rewards std 0.00000000 Rewards sum 15.00000000\n"
     ]
    },
    {
     "name": "stderr",
     "output_type": "stream",
     "text": [
      "\n",
      "  0%|                                                                                                                                   | 0/200 [00:00<?, ?it/s]\u001b[A\n",
      " 19%|██████████████████████▉                                                                                                  | 38/200 [00:00<00:00, 167.58it/s]\u001b[A\n",
      "  3%|███▎                                                                                                                     | 27/1000 [00:03<02:02,  7.91it/s]"
     ]
    },
    {
     "name": "stdout",
     "output_type": "stream",
     "text": [
      "DONE\n",
      "DONE\n",
      "Actor_loss 1.32455111\n",
      "Critic_loss 1.00000212\n",
      "Rewards mean 1.00000000 Rewards std 0.00000000 Rewards sum 39.00000000\n"
     ]
    },
    {
     "name": "stderr",
     "output_type": "stream",
     "text": [
      "\n",
      "  0%|                                                                                                                                   | 0/200 [00:00<?, ?it/s]\u001b[A\n",
      " 16%|███████████████████▎                                                                                                     | 32/200 [00:00<00:01, 163.17it/s]\u001b[A\n",
      "  3%|███▍                                                                                                                     | 28/1000 [00:03<02:17,  7.05it/s]"
     ]
    },
    {
     "name": "stdout",
     "output_type": "stream",
     "text": [
      "DONE\n",
      "DONE\n",
      "Actor_loss 1.39513772\n",
      "Critic_loss 1.00000236\n",
      "Rewards mean 1.00000000 Rewards std 0.00000000 Rewards sum 33.00000000\n"
     ]
    },
    {
     "name": "stderr",
     "output_type": "stream",
     "text": [
      "\n",
      "  0%|                                                                                                                                   | 0/200 [00:00<?, ?it/s]\u001b[A\n",
      " 12%|██████████████▌                                                                                                          | 24/200 [00:00<00:00, 177.05it/s]\u001b[A\n",
      "  3%|███▌                                                                                                                     | 29/1000 [00:03<02:17,  7.06it/s]"
     ]
    },
    {
     "name": "stdout",
     "output_type": "stream",
     "text": [
      "DONE\n",
      "DONE\n",
      "Actor_loss 1.35850470\n",
      "Critic_loss 1.00000219\n",
      "Rewards mean 1.00000000 Rewards std 0.00000000 Rewards sum 25.00000000\n"
     ]
    },
    {
     "name": "stderr",
     "output_type": "stream",
     "text": [
      "\n",
      "  6%|███████▊                                                                                                                 | 13/200 [00:00<00:01, 178.86it/s]\u001b[A\n",
      "  3%|███▌                                                                                                                     | 29/1000 [00:03<02:17,  7.06it/s]"
     ]
    },
    {
     "name": "stdout",
     "output_type": "stream",
     "text": [
      "DONE\n",
      "DONE\n",
      "Actor_loss 1.39004050\n",
      "Critic_loss 1.00000169\n",
      "Rewards mean 1.00000000 Rewards std 0.00000000 Rewards sum 14.00000000\n"
     ]
    },
    {
     "name": "stderr",
     "output_type": "stream",
     "text": [
      "\n",
      "  0%|                                                                                                                                   | 0/200 [00:00<?, ?it/s]\u001b[A\n",
      " 16%|██████████████████▊                                                                                                      | 31/200 [00:00<00:00, 194.37it/s]\u001b[A\n",
      "  3%|███▊                                                                                                                     | 31/1000 [00:03<02:09,  7.47it/s]"
     ]
    },
    {
     "name": "stdout",
     "output_type": "stream",
     "text": [
      "DONE\n",
      "DONE\n",
      "Actor_loss 1.40569365\n",
      "Critic_loss 1.00000142\n",
      "Rewards mean 1.00000000 Rewards std 0.00000000 Rewards sum 32.00000000\n"
     ]
    },
    {
     "name": "stderr",
     "output_type": "stream",
     "text": [
      "\n",
      "  6%|██████▋                                                                                                                  | 11/200 [00:00<00:01, 167.94it/s]\u001b[A\n",
      "  3%|███▊                                                                                                                     | 31/1000 [00:03<02:09,  7.47it/s]"
     ]
    },
    {
     "name": "stdout",
     "output_type": "stream",
     "text": [
      "DONE\n",
      "DONE\n",
      "Actor_loss 1.25741488\n",
      "Critic_loss 1.00000808\n",
      "Rewards mean 1.00000000 Rewards std 0.00000000 Rewards sum 12.00000000\n"
     ]
    },
    {
     "name": "stderr",
     "output_type": "stream",
     "text": [
      "\n",
      "  8%|█████████                                                                                                                | 15/200 [00:00<00:01, 164.96it/s]\u001b[A\n",
      "  3%|███▉                                                                                                                     | 33/1000 [00:03<01:52,  8.60it/s]"
     ]
    },
    {
     "name": "stdout",
     "output_type": "stream",
     "text": [
      "DONE\n",
      "DONE\n",
      "Actor_loss 1.25299584\n",
      "Critic_loss 1.00000803\n",
      "Rewards mean 1.00000000 Rewards std 0.00000000 Rewards sum 16.00000000\n"
     ]
    },
    {
     "name": "stderr",
     "output_type": "stream",
     "text": [
      "\n",
      "  4%|█████▍                                                                                                                    | 9/200 [00:00<00:01, 165.86it/s]\u001b[A\n",
      "  3%|███▉                                                                                                                     | 33/1000 [00:04<01:52,  8.60it/s]"
     ]
    },
    {
     "name": "stdout",
     "output_type": "stream",
     "text": [
      "DONE\n",
      "DONE\n",
      "Actor_loss 1.14317995\n",
      "Critic_loss 1.00001321\n",
      "Rewards mean 1.00000000 Rewards std 0.00000000 Rewards sum 10.00000000\n"
     ]
    },
    {
     "name": "stderr",
     "output_type": "stream",
     "text": [
      "\n",
      "  0%|                                                                                                                                   | 0/200 [00:00<?, ?it/s]\u001b[A\n",
      " 12%|██████████████▌                                                                                                          | 24/200 [00:00<00:00, 181.91it/s]\u001b[A\n",
      "  4%|████▏                                                                                                                    | 35/1000 [00:04<01:46,  9.03it/s]"
     ]
    },
    {
     "name": "stdout",
     "output_type": "stream",
     "text": [
      "DONE\n",
      "DONE\n",
      "Actor_loss 1.41722255\n",
      "Critic_loss 1.00000110\n",
      "Rewards mean 1.00000000 Rewards std 0.00000000 Rewards sum 25.00000000\n"
     ]
    },
    {
     "name": "stderr",
     "output_type": "stream",
     "text": [
      "\n",
      "  8%|█████████                                                                                                                | 15/200 [00:00<00:00, 187.59it/s]\u001b[A\n",
      "  4%|████▏                                                                                                                    | 35/1000 [00:04<01:46,  9.03it/s]"
     ]
    },
    {
     "name": "stdout",
     "output_type": "stream",
     "text": [
      "DONE\n",
      "DONE\n",
      "Actor_loss 1.29979709\n",
      "Critic_loss 1.00000620\n",
      "Rewards mean 1.00000000 Rewards std 0.00000000 Rewards sum 16.00000000\n"
     ]
    },
    {
     "name": "stderr",
     "output_type": "stream",
     "text": [
      "\n",
      "  0%|                                                                                                                                   | 0/200 [00:00<?, ?it/s]\u001b[A\n",
      " 11%|█████████████▎                                                                                                           | 22/200 [00:00<00:01, 173.01it/s]\u001b[A\n",
      "  4%|████▍                                                                                                                    | 37/1000 [00:04<01:46,  9.08it/s]"
     ]
    },
    {
     "name": "stdout",
     "output_type": "stream",
     "text": [
      "DONE\n",
      "DONE\n",
      "Actor_loss 1.38518854\n",
      "Critic_loss 1.00000219\n",
      "Rewards mean 1.00000000 Rewards std 0.00000000 Rewards sum 23.00000000\n"
     ]
    },
    {
     "name": "stderr",
     "output_type": "stream",
     "text": [
      "\n",
      "  6%|███████▊                                                                                                                 | 13/200 [00:00<00:01, 173.48it/s]\u001b[A\n",
      "  4%|████▍                                                                                                                    | 37/1000 [00:04<01:46,  9.08it/s]"
     ]
    },
    {
     "name": "stdout",
     "output_type": "stream",
     "text": [
      "DONE\n",
      "DONE\n",
      "Actor_loss 1.28172377\n",
      "Critic_loss 1.00000705\n",
      "Rewards mean 1.00000000 Rewards std 0.00000000 Rewards sum 14.00000000\n"
     ]
    },
    {
     "name": "stderr",
     "output_type": "stream",
     "text": [
      "\n",
      " 10%|███████████▍                                                                                                             | 19/200 [00:00<00:00, 198.73it/s]\u001b[A\n",
      "  4%|████▋                                                                                                                    | 39/1000 [00:04<01:40,  9.61it/s]"
     ]
    },
    {
     "name": "stdout",
     "output_type": "stream",
     "text": [
      "DONE\n",
      "DONE\n",
      "Actor_loss 1.39869511\n",
      "Critic_loss 0.99999950\n",
      "Rewards mean 1.00000000 Rewards std 0.00000000 Rewards sum 20.00000000\n"
     ]
    },
    {
     "name": "stderr",
     "output_type": "stream",
     "text": [
      "\n",
      "  5%|██████                                                                                                                   | 10/200 [00:00<00:01, 180.22it/s]\u001b[A\n",
      "  4%|████▋                                                                                                                    | 39/1000 [00:04<01:40,  9.61it/s]"
     ]
    },
    {
     "name": "stdout",
     "output_type": "stream",
     "text": [
      "DONE\n",
      "DONE\n",
      "Actor_loss 1.20569770\n",
      "Critic_loss 1.00001048\n",
      "Rewards mean 1.00000000 Rewards std 0.00000000 Rewards sum 11.00000000\n"
     ]
    },
    {
     "name": "stderr",
     "output_type": "stream",
     "text": [
      "\n",
      "  0%|                                                                                                                                   | 0/200 [00:00<?, ?it/s]\u001b[A\n",
      "  8%|█████████▋                                                                                                               | 16/200 [00:00<00:01, 159.89it/s]\u001b[A\n",
      " 16%|███████████████████▎                                                                                                     | 32/200 [00:00<00:01, 152.73it/s]\u001b[A\n",
      "  4%|████▉                                                                                                                    | 41/1000 [00:04<01:50,  8.71it/s]"
     ]
    },
    {
     "name": "stdout",
     "output_type": "stream",
     "text": [
      "DONE\n",
      "DONE\n",
      "Actor_loss 1.39525827\n",
      "Critic_loss 1.00000186\n",
      "Rewards mean 1.00000000 Rewards std 0.00000000 Rewards sum 33.00000000\n"
     ]
    },
    {
     "name": "stderr",
     "output_type": "stream",
     "text": [
      "\n",
      "  8%|█████████                                                                                                                | 15/200 [00:00<00:01, 158.81it/s]\u001b[A\n",
      "  4%|█████                                                                                                                    | 42/1000 [00:04<01:47,  8.90it/s]"
     ]
    },
    {
     "name": "stdout",
     "output_type": "stream",
     "text": [
      "DONE\n",
      "DONE\n",
      "Actor_loss 1.34676825\n",
      "Critic_loss 1.00000348\n",
      "Rewards mean 1.00000000 Rewards std 0.00000000 Rewards sum 16.00000000\n"
     ]
    },
    {
     "name": "stderr",
     "output_type": "stream",
     "text": [
      "\n",
      "  0%|                                                                                                                                   | 0/200 [00:00<?, ?it/s]\u001b[A\n",
      " 11%|█████████████▎                                                                                                           | 22/200 [00:00<00:01, 146.26it/s]\u001b[A\n",
      "  4%|█████▏                                                                                                                   | 43/1000 [00:05<01:56,  8.23it/s]"
     ]
    },
    {
     "name": "stdout",
     "output_type": "stream",
     "text": [
      "DONE\n",
      "DONE\n",
      "Actor_loss 1.25696310\n",
      "Critic_loss 1.00000819\n",
      "Rewards mean 1.00000000 Rewards std 0.00000000 Rewards sum 23.00000000\n"
     ]
    },
    {
     "name": "stderr",
     "output_type": "stream",
     "text": [
      "\n",
      "  6%|███████▎                                                                                                                 | 12/200 [00:00<00:01, 175.58it/s]\u001b[A\n",
      "  4%|█████▏                                                                                                                   | 43/1000 [00:05<01:56,  8.23it/s]"
     ]
    },
    {
     "name": "stdout",
     "output_type": "stream",
     "text": [
      "DONE\n",
      "DONE\n",
      "Actor_loss 1.29964509\n",
      "Critic_loss 1.00000547\n",
      "Rewards mean 1.00000000 Rewards std 0.00000000 Rewards sum 13.00000000\n"
     ]
    },
    {
     "name": "stderr",
     "output_type": "stream",
     "text": [
      "\n",
      "  0%|                                                                                                                                   | 0/200 [00:00<?, ?it/s]\u001b[A\n",
      " 18%|█████████████████████▊                                                                                                   | 36/200 [00:00<00:00, 203.48it/s]\u001b[A\n",
      "  4%|█████▍                                                                                                                   | 45/1000 [00:05<01:58,  8.07it/s]"
     ]
    },
    {
     "name": "stdout",
     "output_type": "stream",
     "text": [
      "DONE\n",
      "DONE\n",
      "Actor_loss 1.35851292\n",
      "Critic_loss 1.00000234\n",
      "Rewards mean 1.00000000 Rewards std 0.00000000 Rewards sum 37.00000000\n"
     ]
    },
    {
     "name": "stderr",
     "output_type": "stream",
     "text": [
      "\n",
      "  9%|██████████▉                                                                                                              | 18/200 [00:00<00:00, 195.53it/s]\u001b[A\n",
      "  4%|█████▍                                                                                                                   | 45/1000 [00:05<01:58,  8.07it/s]"
     ]
    },
    {
     "name": "stdout",
     "output_type": "stream",
     "text": [
      "DONE\n",
      "DONE\n",
      "Actor_loss 1.26035422\n",
      "Critic_loss 1.00000719\n",
      "Rewards mean 1.00000000 Rewards std 0.00000000 Rewards sum 19.00000000\n"
     ]
    },
    {
     "name": "stderr",
     "output_type": "stream",
     "text": [
      "\n",
      "  4%|█████▍                                                                                                                    | 9/200 [00:00<00:01, 179.15it/s]\u001b[A\n",
      "  5%|█████▋                                                                                                                   | 47/1000 [00:05<01:42,  9.28it/s]"
     ]
    },
    {
     "name": "stdout",
     "output_type": "stream",
     "text": [
      "DONE\n",
      "DONE\n",
      "Actor_loss 1.61366767\n",
      "Critic_loss 0.99999938\n",
      "Rewards mean 1.00000000 Rewards std 0.00000000 Rewards sum 10.00000000\n"
     ]
    },
    {
     "name": "stderr",
     "output_type": "stream",
     "text": [
      "\n",
      "  9%|██████████▉                                                                                                              | 18/200 [00:00<00:00, 186.70it/s]\u001b[A\n",
      "  5%|█████▊                                                                                                                   | 48/1000 [00:05<01:41,  9.37it/s]"
     ]
    },
    {
     "name": "stdout",
     "output_type": "stream",
     "text": [
      "DONE\n",
      "DONE\n",
      "Actor_loss 1.29964277\n",
      "Critic_loss 1.00000643\n",
      "Rewards mean 1.00000000 Rewards std 0.00000000 Rewards sum 19.00000000\n"
     ]
    },
    {
     "name": "stderr",
     "output_type": "stream",
     "text": [
      "\n",
      " 10%|███████████▍                                                                                                             | 19/200 [00:00<00:00, 183.13it/s]\u001b[A\n",
      "  5%|█████▉                                                                                                                   | 49/1000 [00:05<01:42,  9.32it/s]"
     ]
    },
    {
     "name": "stdout",
     "output_type": "stream",
     "text": [
      "DONE\n",
      "DONE\n",
      "Actor_loss 1.39881313\n",
      "Critic_loss 1.00000207\n",
      "Rewards mean 1.00000000 Rewards std 0.00000000 Rewards sum 20.00000000\n"
     ]
    },
    {
     "name": "stderr",
     "output_type": "stream",
     "text": [
      "\n",
      "  7%|████████▍                                                                                                                | 14/200 [00:00<00:00, 190.91it/s]\u001b[A\n",
      "  5%|█████▉                                                                                                                   | 49/1000 [00:05<01:42,  9.32it/s]"
     ]
    },
    {
     "name": "stdout",
     "output_type": "stream",
     "text": [
      "DONE\n",
      "DONE\n",
      "Actor_loss 1.26592967\n",
      "Critic_loss 1.00000765\n",
      "Rewards mean 1.00000000 Rewards std 0.00000000 Rewards sum 15.00000000\n"
     ]
    },
    {
     "name": "stderr",
     "output_type": "stream",
     "text": [
      "\n",
      "  9%|██████████▉                                                                                                              | 18/200 [00:00<00:00, 192.20it/s]\u001b[A\n",
      "  5%|██████▏                                                                                                                  | 51/1000 [00:05<01:35,  9.96it/s]"
     ]
    },
    {
     "name": "stdout",
     "output_type": "stream",
     "text": [
      "DONE\n",
      "DONE\n",
      "Actor_loss 1.26015218\n",
      "Critic_loss 1.00000906\n",
      "Rewards mean 1.00000000 Rewards std 0.00000000 Rewards sum 19.00000000\n"
     ]
    },
    {
     "name": "stderr",
     "output_type": "stream",
     "text": [
      "\n",
      "  0%|                                                                                                                                   | 0/200 [00:00<?, ?it/s]\u001b[A\n",
      " 10%|████████████▋                                                                                                            | 21/200 [00:00<00:00, 189.94it/s]\u001b[A\n",
      "  5%|██████▏                                                                                                                  | 51/1000 [00:06<01:35,  9.96it/s]"
     ]
    },
    {
     "name": "stdout",
     "output_type": "stream",
     "text": [
      "DONE\n",
      "DONE\n",
      "Actor_loss 1.36696614\n",
      "Critic_loss 1.00000297\n",
      "Rewards mean 1.00000000 Rewards std 0.00000000 Rewards sum 22.00000000\n"
     ]
    },
    {
     "name": "stderr",
     "output_type": "stream",
     "text": [
      "\n",
      "  5%|██████                                                                                                                   | 10/200 [00:00<00:01, 166.72it/s]\u001b[A\n",
      "  5%|██████▍                                                                                                                  | 53/1000 [00:06<01:31, 10.31it/s]"
     ]
    },
    {
     "name": "stdout",
     "output_type": "stream",
     "text": [
      "DONE\n",
      "DONE\n",
      "Actor_loss 1.20481404\n",
      "Critic_loss 1.00000997\n",
      "Rewards mean 1.00000000 Rewards std 0.00000000 Rewards sum 11.00000000\n"
     ]
    },
    {
     "name": "stderr",
     "output_type": "stream",
     "text": [
      "\n",
      "  6%|██████▋                                                                                                                  | 11/200 [00:00<00:01, 151.48it/s]\u001b[A\n",
      "  5%|██████▍                                                                                                                  | 53/1000 [00:06<01:31, 10.31it/s]"
     ]
    },
    {
     "name": "stdout",
     "output_type": "stream",
     "text": [
      "DONE\n",
      "DONE\n",
      "Actor_loss 1.51439082\n",
      "Critic_loss 0.99999870\n",
      "Rewards mean 1.00000000 Rewards std 0.00000000 Rewards sum 12.00000000\n"
     ]
    },
    {
     "name": "stderr",
     "output_type": "stream",
     "text": [
      "\n",
      "  8%|██████████▎                                                                                                              | 17/200 [00:00<00:00, 185.57it/s]\u001b[A\n",
      "  6%|██████▋                                                                                                                  | 55/1000 [00:06<01:28, 10.64it/s]"
     ]
    },
    {
     "name": "stdout",
     "output_type": "stream",
     "text": [
      "DONE\n",
      "DONE\n",
      "Actor_loss 1.48005812\n",
      "Critic_loss 0.99999901\n",
      "Rewards mean 1.00000000 Rewards std 0.00000000 Rewards sum 18.00000000\n"
     ]
    },
    {
     "name": "stderr",
     "output_type": "stream",
     "text": [
      "\n",
      "  4%|█████▍                                                                                                                    | 9/200 [00:00<00:01, 166.54it/s]\u001b[A\n",
      "  6%|██████▋                                                                                                                  | 55/1000 [00:06<01:28, 10.64it/s]"
     ]
    },
    {
     "name": "stdout",
     "output_type": "stream",
     "text": [
      "DONE\n",
      "DONE\n",
      "Actor_loss 1.22078975\n",
      "Critic_loss 1.00001013\n",
      "Rewards mean 1.00000000 Rewards std 0.00000000 Rewards sum 10.00000000\n"
     ]
    },
    {
     "name": "stderr",
     "output_type": "stream",
     "text": [
      "\n",
      "  4%|█████▍                                                                                                                    | 9/200 [00:00<00:01, 161.50it/s]\u001b[A\n",
      "  6%|██████▉                                                                                                                  | 57/1000 [00:06<01:18, 12.02it/s]"
     ]
    },
    {
     "name": "stdout",
     "output_type": "stream",
     "text": [
      "DONE\n",
      "DONE\n",
      "Actor_loss 1.29944559\n",
      "Critic_loss 1.00000583\n",
      "Rewards mean 1.00000000 Rewards std 0.00000000 Rewards sum 10.00000000\n"
     ]
    },
    {
     "name": "stderr",
     "output_type": "stream",
     "text": [
      "\n",
      "  0%|                                                                                                                                   | 0/200 [00:00<?, ?it/s]\u001b[A"
     ]
    },
    {
     "name": "stdout",
     "output_type": "stream",
     "text": [
      "DONE\n"
     ]
    },
    {
     "name": "stderr",
     "output_type": "stream",
     "text": [
      "  6%|███████▎                                                                                                                 | 12/200 [00:00<00:01, 165.34it/s]\n",
      "  6%|██████▉                                                                                                                  | 57/1000 [00:06<01:18, 12.02it/s]"
     ]
    },
    {
     "name": "stdout",
     "output_type": "stream",
     "text": [
      "DONE\n",
      "Actor_loss 1.24020922\n",
      "Critic_loss 1.00000939\n",
      "Rewards mean 1.00000000 Rewards std 0.00000000 Rewards sum 13.00000000\n"
     ]
    },
    {
     "name": "stderr",
     "output_type": "stream",
     "text": [
      "\n",
      "  0%|                                                                                                                                   | 0/200 [00:00<?, ?it/s]\u001b[A\n",
      " 10%|████████████                                                                                                             | 20/200 [00:00<00:00, 184.35it/s]\u001b[A\n",
      "  6%|███████▏                                                                                                                 | 59/1000 [00:06<01:22, 11.46it/s]"
     ]
    },
    {
     "name": "stdout",
     "output_type": "stream",
     "text": [
      "DONE\n",
      "DONE\n",
      "Actor_loss 1.24004303\n",
      "Critic_loss 1.00000886\n",
      "Rewards mean 1.00000000 Rewards std 0.00000000 Rewards sum 21.00000000\n"
     ]
    },
    {
     "name": "stderr",
     "output_type": "stream",
     "text": [
      "\n",
      "  6%|███████▎                                                                                                                 | 12/200 [00:00<00:01, 163.00it/s]\u001b[A\n",
      "                                                                                                                                                                "
     ]
    },
    {
     "name": "stdout",
     "output_type": "stream",
     "text": [
      "DONE\n",
      "DONE\n"
     ]
    },
    {
     "name": "stderr",
     "output_type": "stream",
     "text": [
      "  6%|███████▏                                                                                                                 | 59/1000 [00:06<01:22, 11.46it/s]"
     ]
    },
    {
     "name": "stdout",
     "output_type": "stream",
     "text": [
      "Actor_loss 1.35854648\n",
      "Critic_loss 1.00000362\n",
      "Rewards mean 1.00000000 Rewards std 0.00000000 Rewards sum 13.00000000\n"
     ]
    },
    {
     "name": "stderr",
     "output_type": "stream",
     "text": [
      "\n",
      "  0%|                                                                                                                                   | 0/200 [00:00<?, ?it/s]\u001b[A\n",
      " 12%|███████████████▏                                                                                                         | 25/200 [00:00<00:00, 188.24it/s]\u001b[A\n",
      "  6%|███████▍                                                                                                                 | 61/1000 [00:06<01:28, 10.60it/s]"
     ]
    },
    {
     "name": "stdout",
     "output_type": "stream",
     "text": [
      "DONE\n",
      "DONE\n",
      "Actor_loss 1.40360393\n",
      "Critic_loss 1.00000142\n",
      "Rewards mean 1.00000000 Rewards std 0.00000000 Rewards sum 26.00000000\n"
     ]
    },
    {
     "name": "stderr",
     "output_type": "stream",
     "text": [
      "\n",
      "  8%|█████████▋                                                                                                               | 16/200 [00:00<00:01, 180.38it/s]\u001b[A\n",
      "  6%|███████▍                                                                                                                 | 61/1000 [00:06<01:28, 10.60it/s]"
     ]
    },
    {
     "name": "stdout",
     "output_type": "stream",
     "text": [
      "DONE\n",
      "DONE\n",
      "Actor_loss 1.23987503\n",
      "Critic_loss 1.00000884\n",
      "Rewards mean 1.00000000 Rewards std 0.00000000 Rewards sum 17.00000000\n"
     ]
    },
    {
     "name": "stderr",
     "output_type": "stream",
     "text": [
      "\n",
      "  0%|                                                                                                                                   | 0/200 [00:00<?, ?it/s]\u001b[A\n",
      " 10%|████████████▋                                                                                                            | 21/200 [00:00<00:01, 148.92it/s]\u001b[A\n",
      "  6%|███████▌                                                                                                                 | 63/1000 [00:07<01:35,  9.77it/s]"
     ]
    },
    {
     "name": "stdout",
     "output_type": "stream",
     "text": [
      "DONE\n",
      "DONE\n",
      "Actor_loss 1.40094935\n",
      "Critic_loss 1.00000188\n",
      "Rewards mean 1.00000000 Rewards std 0.00000000 Rewards sum 22.00000000\n"
     ]
    },
    {
     "name": "stderr",
     "output_type": "stream",
     "text": [
      "\n",
      "  0%|                                                                                                                                   | 0/200 [00:00<?, ?it/s]\u001b[A\n",
      "  8%|█████████                                                                                                                | 15/200 [00:00<00:01, 132.06it/s]\u001b[A\n",
      "  6%|███████▌                                                                                                                 | 63/1000 [00:07<01:35,  9.77it/s]"
     ]
    },
    {
     "name": "stdout",
     "output_type": "stream",
     "text": [
      "DONE\n",
      "DONE\n",
      "Actor_loss 1.25162148\n",
      "Critic_loss 1.00000865\n",
      "Rewards mean 1.00000000 Rewards std 0.00000000 Rewards sum 16.00000000\n"
     ]
    },
    {
     "name": "stderr",
     "output_type": "stream",
     "text": [
      "\n",
      "  0%|                                                                                                                                   | 0/200 [00:00<?, ?it/s]\u001b[A\n",
      " 10%|████████████▋                                                                                                            | 21/200 [00:00<00:01, 173.71it/s]\u001b[A\n",
      "  6%|███████▊                                                                                                                 | 65/1000 [00:07<01:41,  9.18it/s]"
     ]
    },
    {
     "name": "stdout",
     "output_type": "stream",
     "text": [
      "DONE\n",
      "DONE\n",
      "Actor_loss 1.29905644\n",
      "Critic_loss 1.00000659\n",
      "Rewards mean 1.00000000 Rewards std 0.00000000 Rewards sum 22.00000000\n"
     ]
    },
    {
     "name": "stderr",
     "output_type": "stream",
     "text": [
      "\n",
      "  0%|                                                                                                                                   | 0/200 [00:00<?, ?it/s]\u001b[A\n",
      " 13%|███████████████▋                                                                                                         | 26/200 [00:00<00:00, 183.70it/s]\u001b[A\n",
      "  7%|███████▉                                                                                                                 | 66/1000 [00:07<01:48,  8.63it/s]"
     ]
    },
    {
     "name": "stdout",
     "output_type": "stream",
     "text": [
      "DONE\n",
      "DONE\n",
      "Actor_loss 1.44545477\n",
      "Critic_loss 0.99999915\n",
      "Rewards mean 1.00000000 Rewards std 0.00000000 Rewards sum 27.00000000\n"
     ]
    },
    {
     "name": "stderr",
     "output_type": "stream",
     "text": [
      "\n",
      "  0%|                                                                                                                                   | 0/200 [00:00<?, ?it/s]\u001b[A\n",
      " 12%|███████████████▏                                                                                                         | 25/200 [00:00<00:00, 187.87it/s]\u001b[A\n",
      "  7%|████████                                                                                                                 | 67/1000 [00:07<01:52,  8.29it/s]"
     ]
    },
    {
     "name": "stdout",
     "output_type": "stream",
     "text": [
      "DONE\n",
      "DONE\n",
      "Actor_loss 1.28955951\n",
      "Critic_loss 1.00000587\n",
      "Rewards mean 1.00000000 Rewards std 0.00000000 Rewards sum 26.00000000\n"
     ]
    },
    {
     "name": "stderr",
     "output_type": "stream",
     "text": [
      "\n",
      "  8%|█████████▋                                                                                                               | 16/200 [00:00<00:01, 168.39it/s]\u001b[A\n",
      "  7%|████████▏                                                                                                                | 68/1000 [00:07<01:48,  8.61it/s]"
     ]
    },
    {
     "name": "stdout",
     "output_type": "stream",
     "text": [
      "DONE\n",
      "DONE\n",
      "Actor_loss 1.28414786\n",
      "Critic_loss 1.00000723\n",
      "Rewards mean 1.00000000 Rewards std 0.00000000 Rewards sum 17.00000000\n"
     ]
    },
    {
     "name": "stderr",
     "output_type": "stream",
     "text": [
      "\n",
      "  0%|                                                                                                                                   | 0/200 [00:00<?, ?it/s]\u001b[A\n",
      " 10%|████████████                                                                                                             | 20/200 [00:00<00:00, 197.26it/s]\u001b[A\n",
      " 26%|████████████████████████████████                                                                                         | 53/200 [00:00<00:00, 197.31it/s]\u001b[A\n",
      "  7%|████████▎                                                                                                                | 69/1000 [00:07<02:24,  6.46it/s]"
     ]
    },
    {
     "name": "stdout",
     "output_type": "stream",
     "text": [
      "DONE\n",
      "DONE\n",
      "Actor_loss 1.38436247\n",
      "Critic_loss 1.00000133\n",
      "Rewards mean 1.00000000 Rewards std 0.00000000 Rewards sum 54.00000000\n"
     ]
    },
    {
     "name": "stderr",
     "output_type": "stream",
     "text": [
      "\n",
      "  0%|                                                                                                                                   | 0/200 [00:00<?, ?it/s]\u001b[A\n",
      " 10%|████████████▋                                                                                                            | 21/200 [00:00<00:01, 178.87it/s]\u001b[A\n",
      "  7%|████████▍                                                                                                                | 70/1000 [00:08<02:16,  6.82it/s]"
     ]
    },
    {
     "name": "stdout",
     "output_type": "stream",
     "text": [
      "DONE\n",
      "DONE\n",
      "Actor_loss 1.36704427\n",
      "Critic_loss 1.00000226\n",
      "Rewards mean 1.00000000 Rewards std 0.00000000 Rewards sum 22.00000000\n"
     ]
    },
    {
     "name": "stderr",
     "output_type": "stream",
     "text": [
      "\n",
      "  6%|███████▊                                                                                                                 | 13/200 [00:00<00:01, 165.25it/s]\u001b[A\n",
      "  7%|████████▍                                                                                                                | 70/1000 [00:08<02:16,  6.82it/s]"
     ]
    },
    {
     "name": "stdout",
     "output_type": "stream",
     "text": [
      "DONE\n",
      "DONE\n",
      "Actor_loss 1.28080498\n",
      "Critic_loss 1.00000709\n",
      "Rewards mean 1.00000000 Rewards std 0.00000000 Rewards sum 14.00000000\n"
     ]
    },
    {
     "name": "stderr",
     "output_type": "stream",
     "text": [
      "\n",
      "  7%|████████▍                                                                                                                | 14/200 [00:00<00:01, 171.16it/s]\u001b[A\n",
      "  7%|████████▋                                                                                                                | 72/1000 [00:08<01:52,  8.25it/s]"
     ]
    },
    {
     "name": "stdout",
     "output_type": "stream",
     "text": [
      "DONE\n",
      "DONE\n",
      "Actor_loss 1.31605101\n",
      "Critic_loss 1.00000494\n",
      "Rewards mean 1.00000000 Rewards std 0.00000000 Rewards sum 15.00000000\n"
     ]
    },
    {
     "name": "stderr",
     "output_type": "stream",
     "text": [
      "\n",
      "  8%|█████████                                                                                                                | 15/200 [00:00<00:01, 171.09it/s]\u001b[A\n",
      "  7%|████████▋                                                                                                                | 72/1000 [00:08<01:52,  8.25it/s]"
     ]
    },
    {
     "name": "stdout",
     "output_type": "stream",
     "text": [
      "DONE\n",
      "DONE\n",
      "Actor_loss 1.29899508\n",
      "Critic_loss 1.00000634\n",
      "Rewards mean 1.00000000 Rewards std 0.00000000 Rewards sum 16.00000000\n"
     ]
    },
    {
     "name": "stderr",
     "output_type": "stream",
     "text": [
      "\n",
      "  4%|████▎                                                                                                                     | 7/200 [00:00<00:01, 136.10it/s]\u001b[A\n",
      "  7%|████████▉                                                                                                                | 74/1000 [00:08<01:36,  9.60it/s]"
     ]
    },
    {
     "name": "stdout",
     "output_type": "stream",
     "text": [
      "DONE\n",
      "DONE\n",
      "Actor_loss 1.06046101\n",
      "Critic_loss 1.00001887\n",
      "Rewards mean 1.00000000 Rewards std 0.00000000 Rewards sum 8.00000000\n"
     ]
    },
    {
     "name": "stderr",
     "output_type": "stream",
     "text": [
      "\n",
      "  0%|                                                                                                                                   | 0/200 [00:00<?, ?it/s]\u001b[A\n",
      " 12%|█████████████▉                                                                                                           | 23/200 [00:00<00:00, 179.57it/s]\u001b[A\n",
      "  7%|████████▉                                                                                                                | 74/1000 [00:08<01:36,  9.60it/s]"
     ]
    },
    {
     "name": "stdout",
     "output_type": "stream",
     "text": [
      "DONE\n",
      "DONE\n",
      "Actor_loss 1.27808640\n",
      "Critic_loss 1.00000770\n",
      "Rewards mean 1.00000000 Rewards std 0.00000000 Rewards sum 24.00000000\n"
     ]
    },
    {
     "name": "stderr",
     "output_type": "stream",
     "text": [
      "\n",
      "  8%|█████████                                                                                                                | 15/200 [00:00<00:01, 180.68it/s]\u001b[A\n",
      "  8%|█████████▏                                                                                                               | 76/1000 [00:08<01:38,  9.36it/s]"
     ]
    },
    {
     "name": "stdout",
     "output_type": "stream",
     "text": [
      "DONE\n",
      "DONE\n",
      "Actor_loss 1.48981458\n",
      "Critic_loss 0.99999901\n",
      "Rewards mean 1.00000000 Rewards std 0.00000000 Rewards sum 16.00000000\n"
     ]
    },
    {
     "name": "stderr",
     "output_type": "stream",
     "text": [
      "\n",
      "  5%|██████                                                                                                                   | 10/200 [00:00<00:01, 156.80it/s]\u001b[A\n",
      "  8%|█████████▏                                                                                                               | 76/1000 [00:08<01:38,  9.36it/s]"
     ]
    },
    {
     "name": "stdout",
     "output_type": "stream",
     "text": [
      "DONE\n",
      "DONE\n",
      "Actor_loss 1.13185626\n",
      "Critic_loss 1.00001494\n",
      "Rewards mean 1.00000000 Rewards std 0.00000000 Rewards sum 11.00000000\n"
     ]
    },
    {
     "name": "stderr",
     "output_type": "stream",
     "text": [
      "\n",
      "  0%|                                                                                                                                   | 0/200 [00:00<?, ?it/s]\u001b[A\n",
      " 20%|███████████████████████▌                                                                                                 | 39/200 [00:00<00:00, 197.55it/s]\u001b[A\n",
      "  8%|█████████▍                                                                                                               | 78/1000 [00:08<01:47,  8.58it/s]"
     ]
    },
    {
     "name": "stdout",
     "output_type": "stream",
     "text": [
      "DONE\n",
      "DONE\n",
      "Actor_loss 1.37234208\n",
      "Critic_loss 1.00000203\n",
      "Rewards mean 1.00000000 Rewards std 0.00000000 Rewards sum 40.00000000\n"
     ]
    },
    {
     "name": "stderr",
     "output_type": "stream",
     "text": [
      "\n",
      "  6%|███████▊                                                                                                                 | 13/200 [00:00<00:01, 176.16it/s]\u001b[A\n",
      "  8%|█████████▍                                                                                                               | 78/1000 [00:08<01:47,  8.58it/s]"
     ]
    },
    {
     "name": "stdout",
     "output_type": "stream",
     "text": [
      "DONE\n",
      "DONE\n",
      "Actor_loss 1.22526460\n",
      "Critic_loss 1.00000983\n",
      "Rewards mean 1.00000000 Rewards std 0.00000000 Rewards sum 14.00000000\n"
     ]
    },
    {
     "name": "stderr",
     "output_type": "stream",
     "text": [
      "\n",
      "  0%|                                                                                                                                   | 0/200 [00:00<?, ?it/s]\u001b[A\n",
      " 12%|██████████████▌                                                                                                          | 24/200 [00:00<00:00, 191.10it/s]\u001b[A\n",
      "  8%|█████████▋                                                                                                               | 80/1000 [00:09<01:43,  8.85it/s]"
     ]
    },
    {
     "name": "stdout",
     "output_type": "stream",
     "text": [
      "DONE\n",
      "DONE\n",
      "Actor_loss 1.47801145\n",
      "Critic_loss 0.99999956\n",
      "Rewards mean 1.00000000 Rewards std 0.00000000 Rewards sum 25.00000000\n"
     ]
    },
    {
     "name": "stderr",
     "output_type": "stream",
     "text": [
      "\n",
      "  6%|███████▎                                                                                                                 | 12/200 [00:00<00:01, 165.20it/s]\u001b[A\n",
      "  8%|█████████▋                                                                                                               | 80/1000 [00:09<01:43,  8.85it/s]"
     ]
    },
    {
     "name": "stdout",
     "output_type": "stream",
     "text": [
      "DONE\n",
      "DONE\n",
      "Actor_loss 1.29891370\n",
      "Critic_loss 1.00000640\n",
      "Rewards mean 1.00000000 Rewards std 0.00000000 Rewards sum 13.00000000\n"
     ]
    },
    {
     "name": "stderr",
     "output_type": "stream",
     "text": [
      "\n",
      "  6%|███████▊                                                                                                                 | 13/200 [00:00<00:01, 173.21it/s]\u001b[A\n",
      "  8%|█████████▉                                                                                                               | 82/1000 [00:09<01:33,  9.77it/s]"
     ]
    },
    {
     "name": "stdout",
     "output_type": "stream",
     "text": [
      "DONE\n",
      "DONE\n",
      "Actor_loss 1.28048255\n",
      "Critic_loss 1.00000722\n",
      "Rewards mean 1.00000000 Rewards std 0.00000000 Rewards sum 14.00000000\n"
     ]
    },
    {
     "name": "stderr",
     "output_type": "stream",
     "text": [
      "\n",
      "  5%|██████                                                                                                                   | 10/200 [00:00<00:01, 177.87it/s]\u001b[A\n",
      "  8%|█████████▉                                                                                                               | 82/1000 [00:09<01:33,  9.77it/s]"
     ]
    },
    {
     "name": "stdout",
     "output_type": "stream",
     "text": [
      "DONE\n",
      "DONE\n",
      "Actor_loss 1.20320359\n",
      "Critic_loss 1.00000993\n",
      "Rewards mean 1.00000000 Rewards std 0.00000000 Rewards sum 11.00000000\n"
     ]
    },
    {
     "name": "stderr",
     "output_type": "stream",
     "text": [
      "\n",
      "  6%|███████▊                                                                                                                 | 13/200 [00:00<00:00, 187.12it/s]\u001b[A\n",
      "  8%|██████████▏                                                                                                              | 84/1000 [00:09<01:24, 10.89it/s]"
     ]
    },
    {
     "name": "stdout",
     "output_type": "stream",
     "text": [
      "DONE\n",
      "DONE\n",
      "Actor_loss 1.22504100\n",
      "Critic_loss 1.00000998\n",
      "Rewards mean 1.00000000 Rewards std 0.00000000 Rewards sum 14.00000000\n"
     ]
    },
    {
     "name": "stderr",
     "output_type": "stream",
     "text": [
      "\n",
      "  8%|█████████                                                                                                                | 15/200 [00:00<00:01, 180.98it/s]\u001b[A\n",
      "  8%|██████████▏                                                                                                              | 84/1000 [00:09<01:24, 10.89it/s]"
     ]
    },
    {
     "name": "stdout",
     "output_type": "stream",
     "text": [
      "DONE\n",
      "DONE\n",
      "Actor_loss 1.25064522\n",
      "Critic_loss 1.00000914\n",
      "Rewards mean 1.00000000 Rewards std 0.00000000 Rewards sum 16.00000000\n"
     ]
    },
    {
     "name": "stderr",
     "output_type": "stream",
     "text": [
      "\n",
      "  8%|█████████                                                                                                                | 15/200 [00:00<00:00, 191.01it/s]\u001b[A\n",
      "  9%|██████████▍                                                                                                              | 86/1000 [00:09<01:22, 11.10it/s]"
     ]
    },
    {
     "name": "stdout",
     "output_type": "stream",
     "text": [
      "DONE\n",
      "DONE\n",
      "Actor_loss 1.53836708\n",
      "Critic_loss 1.00000004\n",
      "Rewards mean 1.00000000 Rewards std 0.00000000 Rewards sum 16.00000000\n"
     ]
    },
    {
     "name": "stderr",
     "output_type": "stream",
     "text": [
      "\n",
      "  8%|█████████                                                                                                                | 15/200 [00:00<00:01, 178.96it/s]\u001b[A\n",
      "  9%|██████████▍                                                                                                              | 86/1000 [00:09<01:22, 11.10it/s]"
     ]
    },
    {
     "name": "stdout",
     "output_type": "stream",
     "text": [
      "DONE\n",
      "DONE\n",
      "Actor_loss 1.25071230\n",
      "Critic_loss 1.00000842\n",
      "Rewards mean 1.00000000 Rewards std 0.00000000 Rewards sum 16.00000000\n"
     ]
    },
    {
     "name": "stderr",
     "output_type": "stream",
     "text": [
      "\n",
      "  0%|                                                                                                                                   | 0/200 [00:00<?, ?it/s]\u001b[A\n",
      " 10%|███████████▍                                                                                                             | 19/200 [00:00<00:01, 167.01it/s]\u001b[A\n",
      "  9%|██████████▋                                                                                                              | 88/1000 [00:09<01:26, 10.57it/s]"
     ]
    },
    {
     "name": "stdout",
     "output_type": "stream",
     "text": [
      "DONE\n",
      "DONE\n",
      "Actor_loss 1.28596901\n",
      "Critic_loss 1.00000724\n",
      "Rewards mean 1.00000000 Rewards std 0.00000000 Rewards sum 20.00000000\n"
     ]
    },
    {
     "name": "stderr",
     "output_type": "stream",
     "text": [
      "\n",
      "  0%|                                                                                                                                   | 0/200 [00:00<?, ?it/s]\u001b[A\n",
      " 10%|███████████▍                                                                                                             | 19/200 [00:00<00:01, 173.01it/s]\u001b[A\n",
      "  9%|██████████▋                                                                                                              | 88/1000 [00:09<01:26, 10.57it/s]"
     ]
    },
    {
     "name": "stdout",
     "output_type": "stream",
     "text": [
      "DONE\n",
      "DONE\n",
      "Actor_loss 1.36174317\n",
      "Critic_loss 1.00000281\n",
      "Rewards mean 1.00000000 Rewards std 0.00000000 Rewards sum 20.00000000\n"
     ]
    },
    {
     "name": "stderr",
     "output_type": "stream",
     "text": [
      "\n",
      "  6%|███████▎                                                                                                                 | 12/200 [00:00<00:01, 180.60it/s]\u001b[A\n",
      "  9%|██████████▉                                                                                                              | 90/1000 [00:09<01:25, 10.60it/s]"
     ]
    },
    {
     "name": "stdout",
     "output_type": "stream",
     "text": [
      "DONE\n",
      "DONE\n",
      "Actor_loss 1.53825962\n",
      "Critic_loss 0.99999930\n",
      "Rewards mean 1.00000000 Rewards std 0.00000000 Rewards sum 13.00000000\n"
     ]
    },
    {
     "name": "stderr",
     "output_type": "stream",
     "text": [
      "\n",
      "  8%|█████████                                                                                                                | 15/200 [00:00<00:01, 184.49it/s]\u001b[A\n",
      "  9%|██████████▉                                                                                                              | 90/1000 [00:10<01:25, 10.60it/s]"
     ]
    },
    {
     "name": "stdout",
     "output_type": "stream",
     "text": [
      "DONE\n",
      "DONE\n",
      "Actor_loss 1.25074635\n",
      "Critic_loss 1.00000852\n",
      "Rewards mean 1.00000000 Rewards std 0.00000000 Rewards sum 16.00000000\n"
     ]
    },
    {
     "name": "stderr",
     "output_type": "stream",
     "text": [
      "\n",
      " 10%|████████████                                                                                                             | 20/200 [00:00<00:00, 193.94it/s]\u001b[A"
     ]
    },
    {
     "name": "stdout",
     "output_type": "stream",
     "text": [
      "DONE\n",
      "DONE\n"
     ]
    },
    {
     "name": "stderr",
     "output_type": "stream",
     "text": [
      "\n",
      "  9%|███████████▏                                                                                                             | 92/1000 [00:10<01:26, 10.48it/s]"
     ]
    },
    {
     "name": "stdout",
     "output_type": "stream",
     "text": [
      "Actor_loss 1.45434983\n",
      "Critic_loss 0.99999919\n",
      "Rewards mean 1.00000000 Rewards std 0.00000000 Rewards sum 21.00000000\n"
     ]
    },
    {
     "name": "stderr",
     "output_type": "stream",
     "text": [
      "\n",
      "  4%|█████▍                                                                                                                    | 9/200 [00:00<00:01, 170.90it/s]\u001b[A\n",
      "  9%|███████████▏                                                                                                             | 92/1000 [00:10<01:26, 10.48it/s]"
     ]
    },
    {
     "name": "stdout",
     "output_type": "stream",
     "text": [
      "DONE\n",
      "DONE\n",
      "Actor_loss 1.13912396\n",
      "Critic_loss 1.00001444\n",
      "Rewards mean 1.00000000 Rewards std 0.00000000 Rewards sum 10.00000000\n"
     ]
    },
    {
     "name": "stderr",
     "output_type": "stream",
     "text": [
      "\n",
      "  8%|██████████▎                                                                                                              | 17/200 [00:00<00:01, 177.61it/s]\u001b[A\n",
      "  9%|███████████▎                                                                                                             | 94/1000 [00:10<01:22, 11.02it/s]"
     ]
    },
    {
     "name": "stdout",
     "output_type": "stream",
     "text": [
      "DONE\n",
      "DONE\n",
      "Actor_loss 1.31277376\n",
      "Critic_loss 1.00000521\n",
      "Rewards mean 1.00000000 Rewards std 0.00000000 Rewards sum 18.00000000\n"
     ]
    },
    {
     "name": "stderr",
     "output_type": "stream",
     "text": [
      "\n",
      "  0%|                                                                                                                                   | 0/200 [00:00<?, ?it/s]\u001b[A\n",
      " 15%|██████████████████▏                                                                                                      | 30/200 [00:00<00:00, 187.58it/s]\u001b[A\n",
      "  9%|███████████▎                                                                                                             | 94/1000 [00:10<01:22, 11.02it/s]"
     ]
    },
    {
     "name": "stdout",
     "output_type": "stream",
     "text": [
      "DONE\n",
      "DONE\n",
      "Actor_loss 1.41841530\n",
      "Critic_loss 1.00000041\n",
      "Rewards mean 1.00000000 Rewards std 0.00000000 Rewards sum 31.00000000\n"
     ]
    },
    {
     "name": "stderr",
     "output_type": "stream",
     "text": [
      "\n",
      "  0%|                                                                                                                                   | 0/200 [00:00<?, ?it/s]\u001b[A\n",
      " 12%|███████████████▏                                                                                                         | 25/200 [00:00<00:00, 190.28it/s]\u001b[A\n",
      " 10%|███████████▌                                                                                                             | 96/1000 [00:10<01:38,  9.17it/s]"
     ]
    },
    {
     "name": "stdout",
     "output_type": "stream",
     "text": [
      "DONE\n",
      "DONE\n",
      "Actor_loss 1.46129411\n",
      "Critic_loss 0.99999961\n",
      "Rewards mean 1.00000000 Rewards std 0.00000000 Rewards sum 26.00000000\n"
     ]
    },
    {
     "name": "stderr",
     "output_type": "stream",
     "text": [
      "\n",
      "  8%|█████████                                                                                                                | 15/200 [00:00<00:01, 168.27it/s]\u001b[A\n",
      " 10%|███████████▌                                                                                                             | 96/1000 [00:10<01:38,  9.17it/s]"
     ]
    },
    {
     "name": "stdout",
     "output_type": "stream",
     "text": [
      "DONE\n",
      "DONE\n",
      "Actor_loss 1.34663631\n",
      "Critic_loss 1.00000328\n",
      "Rewards mean 1.00000000 Rewards std 0.00000000 Rewards sum 16.00000000\n"
     ]
    },
    {
     "name": "stderr",
     "output_type": "stream",
     "text": [
      "\n",
      "  0%|                                                                                                                                   | 0/200 [00:00<?, ?it/s]\u001b[A\n",
      " 10%|████████████▋                                                                                                            | 21/200 [00:00<00:00, 201.41it/s]\u001b[A\n",
      " 22%|██████████████████████████▌                                                                                              | 44/200 [00:00<00:00, 196.35it/s]\u001b[A\n",
      " 10%|███████████▊                                                                                                             | 98/1000 [00:10<01:52,  8.00it/s]"
     ]
    },
    {
     "name": "stdout",
     "output_type": "stream",
     "text": [
      "DONE\n",
      "DONE\n",
      "Actor_loss 1.40187562\n",
      "Critic_loss 0.99999898\n",
      "Rewards mean 1.00000000 Rewards std 0.00000000 Rewards sum 45.00000000\n"
     ]
    },
    {
     "name": "stderr",
     "output_type": "stream",
     "text": [
      "\n",
      "  6%|███████▊                                                                                                                 | 13/200 [00:00<00:01, 181.51it/s]\u001b[A\n",
      " 10%|███████████▊                                                                                                             | 98/1000 [00:11<01:52,  8.00it/s]"
     ]
    },
    {
     "name": "stdout",
     "output_type": "stream",
     "text": [
      "DONE\n",
      "DONE\n",
      "Actor_loss 1.33566042\n",
      "Critic_loss 1.00000387\n",
      "Rewards mean 1.00000000 Rewards std 0.00000000 Rewards sum 14.00000000\n"
     ]
    },
    {
     "name": "stderr",
     "output_type": "stream",
     "text": [
      "\n",
      "  0%|                                                                                                                                   | 0/200 [00:00<?, ?it/s]\u001b[A\n",
      " 10%|████████████                                                                                                             | 20/200 [00:00<00:01, 178.54it/s]\u001b[A"
     ]
    },
    {
     "name": "stdout",
     "output_type": "stream",
     "text": [
      "DONE\n",
      "DONE\n"
     ]
    },
    {
     "name": "stderr",
     "output_type": "stream",
     "text": [
      "\n",
      " 10%|████████████                                                                                                            | 100/1000 [00:11<01:45,  8.54it/s]"
     ]
    },
    {
     "name": "stdout",
     "output_type": "stream",
     "text": [
      "Actor_loss 1.34664205\n",
      "Critic_loss 1.00000360\n",
      "Rewards mean 1.00000000 Rewards std 0.00000000 Rewards sum 21.00000000\n"
     ]
    },
    {
     "name": "stderr",
     "output_type": "stream",
     "text": [
      "\n",
      "  0%|                                                                                                                                   | 0/200 [00:00<?, ?it/s]\u001b[A\n",
      " 14%|█████████████████▌                                                                                                       | 29/200 [00:00<00:00, 181.44it/s]\u001b[A\n",
      " 10%|████████████                                                                                                            | 101/1000 [00:11<01:52,  7.96it/s]"
     ]
    },
    {
     "name": "stdout",
     "output_type": "stream",
     "text": [
      "DONE\n",
      "DONE\n",
      "Actor_loss 1.35650095\n",
      "Critic_loss 1.00000211\n",
      "Rewards mean 1.00000000 Rewards std 0.00000000 Rewards sum 30.00000000\n"
     ]
    },
    {
     "name": "stderr",
     "output_type": "stream",
     "text": [
      "\n",
      "  8%|█████████▋                                                                                                               | 16/200 [00:00<00:01, 178.89it/s]\u001b[A\n",
      " 10%|████████████                                                                                                            | 101/1000 [00:11<01:52,  7.96it/s]"
     ]
    },
    {
     "name": "stdout",
     "output_type": "stream",
     "text": [
      "DONE\n",
      "DONE\n",
      "Actor_loss 1.37344519\n",
      "Critic_loss 1.00000231\n",
      "Rewards mean 1.00000000 Rewards std 0.00000000 Rewards sum 17.00000000\n"
     ]
    },
    {
     "name": "stderr",
     "output_type": "stream",
     "text": [
      "\n",
      "  6%|███████▎                                                                                                                 | 12/200 [00:00<00:01, 182.43it/s]\u001b[A\n",
      " 10%|████████████▎                                                                                                           | 103/1000 [00:11<01:39,  8.99it/s]"
     ]
    },
    {
     "name": "stdout",
     "output_type": "stream",
     "text": [
      "DONE\n",
      "DONE\n",
      "Actor_loss 1.29898481\n",
      "Critic_loss 1.00000595\n",
      "Rewards mean 1.00000000 Rewards std 0.00000000 Rewards sum 13.00000000\n"
     ]
    },
    {
     "name": "stderr",
     "output_type": "stream",
     "text": [
      "\n",
      "  6%|███████▎                                                                                                                 | 12/200 [00:00<00:01, 183.93it/s]\u001b[A\n",
      " 10%|████████████▎                                                                                                           | 103/1000 [00:11<01:39,  8.99it/s]"
     ]
    },
    {
     "name": "stdout",
     "output_type": "stream",
     "text": [
      "DONE\n",
      "DONE\n",
      "Actor_loss 1.35856121\n",
      "Critic_loss 1.00000355\n",
      "Rewards mean 1.00000000 Rewards std 0.00000000 Rewards sum 13.00000000\n"
     ]
    },
    {
     "name": "stderr",
     "output_type": "stream",
     "text": [
      "\n",
      "  6%|███████▎                                                                                                                 | 12/200 [00:00<00:01, 182.17it/s]\u001b[A\n",
      " 10%|████████████▌                                                                                                           | 105/1000 [00:11<01:27, 10.18it/s]"
     ]
    },
    {
     "name": "stdout",
     "output_type": "stream",
     "text": [
      "DONE\n",
      "DONE\n",
      "Actor_loss 1.23930907\n",
      "Critic_loss 1.00000863\n",
      "Rewards mean 1.00000000 Rewards std 0.00000000 Rewards sum 13.00000000\n"
     ]
    },
    {
     "name": "stderr",
     "output_type": "stream",
     "text": [
      "\n",
      " 10%|███████████▍                                                                                                             | 19/200 [00:00<00:00, 190.01it/s]\u001b[A\n",
      " 10%|████████████▌                                                                                                           | 105/1000 [00:11<01:27, 10.18it/s]"
     ]
    },
    {
     "name": "stdout",
     "output_type": "stream",
     "text": [
      "DONE\n",
      "DONE\n",
      "Actor_loss 1.36169880\n",
      "Critic_loss 1.00000343\n",
      "Rewards mean 1.00000000 Rewards std 0.00000000 Rewards sum 20.00000000\n"
     ]
    },
    {
     "name": "stderr",
     "output_type": "stream",
     "text": [
      "\n",
      "  0%|                                                                                                                                   | 0/200 [00:00<?, ?it/s]\u001b[A\n",
      " 11%|█████████████▎                                                                                                           | 22/200 [00:00<00:00, 214.27it/s]\u001b[A\n",
      " 32%|██████████████████████████████████████                                                                                   | 63/200 [00:00<00:00, 207.23it/s]\u001b[A\n",
      " 11%|████████████▊                                                                                                           | 107/1000 [00:12<01:58,  7.53it/s]"
     ]
    },
    {
     "name": "stdout",
     "output_type": "stream",
     "text": [
      "DONE\n",
      "DONE\n",
      "Actor_loss 1.41242678\n",
      "Critic_loss 0.99999939\n",
      "Rewards mean 1.00000000 Rewards std 0.00000000 Rewards sum 64.00000000\n"
     ]
    },
    {
     "name": "stderr",
     "output_type": "stream",
     "text": [
      "\n",
      "  6%|███████▎                                                                                                                 | 12/200 [00:00<00:01, 180.10it/s]\u001b[A\n",
      " 11%|████████████▊                                                                                                           | 107/1000 [00:12<01:58,  7.53it/s]"
     ]
    },
    {
     "name": "stdout",
     "output_type": "stream",
     "text": [
      "DONE\n",
      "DONE\n",
      "Actor_loss 1.23954079\n",
      "Critic_loss 1.00000985\n",
      "Rewards mean 1.00000000 Rewards std 0.00000000 Rewards sum 13.00000000\n"
     ]
    },
    {
     "name": "stderr",
     "output_type": "stream",
     "text": [
      "\n",
      "  0%|                                                                                                                                   | 0/200 [00:00<?, ?it/s]\u001b[A\n",
      " 10%|████████████▋                                                                                                            | 21/200 [00:00<00:00, 201.35it/s]\u001b[A"
     ]
    },
    {
     "name": "stdout",
     "output_type": "stream",
     "text": [
      "DONE\n"
     ]
    },
    {
     "name": "stderr",
     "output_type": "stream",
     "text": [
      " 19%|██████████████████████▉                                                                                                  | 38/200 [00:00<00:00, 193.79it/s]\n",
      " 11%|█████████████                                                                                                           | 109/1000 [00:12<01:59,  7.46it/s]"
     ]
    },
    {
     "name": "stdout",
     "output_type": "stream",
     "text": [
      "DONE\n",
      "Actor_loss 1.41803859\n",
      "Critic_loss 1.00000048\n",
      "Rewards mean 1.00000000 Rewards std 0.00000000 Rewards sum 39.00000000\n"
     ]
    },
    {
     "name": "stderr",
     "output_type": "stream",
     "text": [
      "\n",
      "  6%|██████▋                                                                                                                  | 11/200 [00:00<00:01, 170.80it/s]\u001b[A\n",
      " 11%|█████████████                                                                                                           | 109/1000 [00:12<01:59,  7.46it/s]"
     ]
    },
    {
     "name": "stdout",
     "output_type": "stream",
     "text": [
      "DONE\n",
      "DONE\n",
      "Actor_loss 1.19098854\n",
      "Critic_loss 1.00001144\n",
      "Rewards mean 1.00000000 Rewards std 0.00000000 Rewards sum 12.00000000\n"
     ]
    },
    {
     "name": "stderr",
     "output_type": "stream",
     "text": [
      "\n",
      "  6%|██████▋                                                                                                                  | 11/200 [00:00<00:01, 185.89it/s]\u001b[A\n",
      " 11%|█████████████▎                                                                                                          | 111/1000 [00:12<01:40,  8.81it/s]"
     ]
    },
    {
     "name": "stdout",
     "output_type": "stream",
     "text": [
      "DONE\n",
      "DONE\n",
      "Actor_loss 1.25570196\n",
      "Critic_loss 1.00000807\n",
      "Rewards mean 1.00000000 Rewards std 0.00000000 Rewards sum 12.00000000\n"
     ]
    },
    {
     "name": "stderr",
     "output_type": "stream",
     "text": [
      "\n",
      " 10%|███████████▍                                                                                                             | 19/200 [00:00<00:00, 201.19it/s]\u001b[A\n",
      " 11%|█████████████▎                                                                                                          | 111/1000 [00:12<01:40,  8.81it/s]"
     ]
    },
    {
     "name": "stdout",
     "output_type": "stream",
     "text": [
      "DONE\n",
      "DONE\n",
      "Actor_loss 1.32406365\n",
      "Critic_loss 1.00000533\n",
      "Rewards mean 1.00000000 Rewards std 0.00000000 Rewards sum 20.00000000\n"
     ]
    },
    {
     "name": "stderr",
     "output_type": "stream",
     "text": [
      "\n",
      "  5%|██████                                                                                                                   | 10/200 [00:00<00:01, 172.45it/s]\u001b[A\n",
      " 11%|█████████████▌                                                                                                          | 113/1000 [00:12<01:32,  9.64it/s]"
     ]
    },
    {
     "name": "stdout",
     "output_type": "stream",
     "text": [
      "DONE\n",
      "DONE\n",
      "Actor_loss 1.20357111\n",
      "Critic_loss 1.00001075\n",
      "Rewards mean 1.00000000 Rewards std 0.00000000 Rewards sum 11.00000000\n"
     ]
    },
    {
     "name": "stderr",
     "output_type": "stream",
     "text": [
      "\n",
      "  8%|█████████▋                                                                                                               | 16/200 [00:00<00:01, 163.22it/s]\u001b[A\n",
      " 11%|█████████████▌                                                                                                          | 113/1000 [00:12<01:32,  9.64it/s]"
     ]
    },
    {
     "name": "stdout",
     "output_type": "stream",
     "text": [
      "DONE\n",
      "DONE\n",
      "Actor_loss 1.32872357\n",
      "Critic_loss 1.00000533\n",
      "Rewards mean 1.00000000 Rewards std 0.00000000 Rewards sum 17.00000000\n"
     ]
    },
    {
     "name": "stderr",
     "output_type": "stream",
     "text": [
      "\n",
      "  0%|                                                                                                                                   | 0/200 [00:00<?, ?it/s]\u001b[A\n",
      " 14%|████████████████▉                                                                                                        | 28/200 [00:00<00:00, 183.36it/s]\u001b[A\n",
      " 12%|█████████████▊                                                                                                          | 115/1000 [00:12<01:39,  8.93it/s]"
     ]
    },
    {
     "name": "stdout",
     "output_type": "stream",
     "text": [
      "DONE\n",
      "DONE\n",
      "Actor_loss 1.34150074\n",
      "Critic_loss 1.00000344\n",
      "Rewards mean 1.00000000 Rewards std 0.00000000 Rewards sum 29.00000000\n"
     ]
    },
    {
     "name": "stderr",
     "output_type": "stream",
     "text": [
      "\n",
      "  0%|                                                                                                                                   | 0/200 [00:00<?, ?it/s]\u001b[A\n",
      " 12%|█████████████▉                                                                                                           | 23/200 [00:00<00:01, 166.67it/s]\u001b[A\n",
      " 12%|█████████████▉                                                                                                          | 116/1000 [00:12<01:43,  8.51it/s]"
     ]
    },
    {
     "name": "stdout",
     "output_type": "stream",
     "text": [
      "DONE\n",
      "DONE\n",
      "Actor_loss 1.30921871\n",
      "Critic_loss 1.00000500\n",
      "Rewards mean 1.00000000 Rewards std 0.00000000 Rewards sum 24.00000000\n"
     ]
    },
    {
     "name": "stderr",
     "output_type": "stream",
     "text": [
      "\n",
      "  0%|                                                                                                                                   | 0/200 [00:00<?, ?it/s]\u001b[A\n",
      " 10%|████████████▋                                                                                                            | 21/200 [00:00<00:01, 168.49it/s]\u001b[A\n",
      " 12%|██████████████                                                                                                          | 117/1000 [00:13<01:46,  8.31it/s]"
     ]
    },
    {
     "name": "stdout",
     "output_type": "stream",
     "text": [
      "DONE\n",
      "DONE\n",
      "Actor_loss 1.29876328\n",
      "Critic_loss 1.00000569\n",
      "Rewards mean 1.00000000 Rewards std 0.00000000 Rewards sum 22.00000000\n"
     ]
    },
    {
     "name": "stderr",
     "output_type": "stream",
     "text": [
      "\n",
      "  6%|███████▎                                                                                                                 | 12/200 [00:00<00:01, 180.60it/s]\u001b[A\n",
      " 12%|██████████████                                                                                                          | 117/1000 [00:13<01:46,  8.31it/s]"
     ]
    },
    {
     "name": "stdout",
     "output_type": "stream",
     "text": [
      "DONE\n",
      "DONE\n",
      "Actor_loss 1.29871398\n",
      "Critic_loss 1.00000579\n",
      "Rewards mean 1.00000000 Rewards std 0.00000000 Rewards sum 13.00000000\n"
     ]
    },
    {
     "name": "stderr",
     "output_type": "stream",
     "text": [
      "\n",
      "  7%|████████▍                                                                                                                | 14/200 [00:00<00:01, 175.69it/s]\u001b[A\n",
      " 12%|██████████████▎                                                                                                         | 119/1000 [00:13<01:32,  9.52it/s]"
     ]
    },
    {
     "name": "stdout",
     "output_type": "stream",
     "text": [
      "DONE\n",
      "DONE\n",
      "Actor_loss 1.41840324\n",
      "Critic_loss 0.99999924\n",
      "Rewards mean 1.00000000 Rewards std 0.00000000 Rewards sum 15.00000000\n"
     ]
    },
    {
     "name": "stderr",
     "output_type": "stream",
     "text": [
      "\n",
      "  0%|                                                                                                                                   | 0/200 [00:00<?, ?it/s]\u001b[A\n",
      " 18%|██████████████████████▍                                                                                                  | 37/200 [00:00<00:00, 176.61it/s]\u001b[A\n",
      " 12%|██████████████▍                                                                                                         | 120/1000 [00:13<01:52,  7.82it/s]"
     ]
    },
    {
     "name": "stdout",
     "output_type": "stream",
     "text": [
      "DONE\n",
      "DONE\n",
      "Actor_loss 1.35048610\n",
      "Critic_loss 1.00000288\n",
      "Rewards mean 1.00000000 Rewards std 0.00000000 Rewards sum 38.00000000\n"
     ]
    },
    {
     "name": "stderr",
     "output_type": "stream",
     "text": [
      "\n",
      "  6%|███████▊                                                                                                                 | 13/200 [00:00<00:01, 185.11it/s]\u001b[A\n",
      " 12%|██████████████▍                                                                                                         | 120/1000 [00:13<01:52,  7.82it/s]"
     ]
    },
    {
     "name": "stdout",
     "output_type": "stream",
     "text": [
      "DONE\n",
      "DONE\n",
      "Actor_loss 1.44593536\n",
      "Critic_loss 0.99999899\n",
      "Rewards mean 1.00000000 Rewards std 0.00000000 Rewards sum 14.00000000\n"
     ]
    },
    {
     "name": "stderr",
     "output_type": "stream",
     "text": [
      "\n",
      "  0%|                                                                                                                                   | 0/200 [00:00<?, ?it/s]\u001b[A\n",
      " 10%|███████████▍                                                                                                             | 19/200 [00:00<00:00, 182.17it/s]\u001b[A"
     ]
    },
    {
     "name": "stdout",
     "output_type": "stream",
     "text": [
      "DONE\n"
     ]
    },
    {
     "name": "stderr",
     "output_type": "stream",
     "text": [
      " 10%|████████████                                                                                                             | 20/200 [00:00<00:01, 169.46it/s]\n",
      " 12%|██████████████▋                                                                                                         | 122/1000 [00:13<01:43,  8.48it/s]"
     ]
    },
    {
     "name": "stdout",
     "output_type": "stream",
     "text": [
      "DONE\n",
      "Actor_loss 1.31073338\n",
      "Critic_loss 1.00000465\n",
      "Rewards mean 1.00000000 Rewards std 0.00000000 Rewards sum 21.00000000\n"
     ]
    },
    {
     "name": "stderr",
     "output_type": "stream",
     "text": [
      "\n",
      " 10%|████████████                                                                                                             | 20/200 [00:00<00:00, 193.70it/s]\u001b[A\n",
      " 12%|██████████████▊                                                                                                         | 123/1000 [00:13<01:41,  8.63it/s]"
     ]
    },
    {
     "name": "stdout",
     "output_type": "stream",
     "text": [
      "DONE\n",
      "DONE\n",
      "Actor_loss 1.38248162\n",
      "Critic_loss 1.00000209\n",
      "Rewards mean 1.00000000 Rewards std 0.00000000 Rewards sum 21.00000000\n"
     ]
    },
    {
     "name": "stderr",
     "output_type": "stream",
     "text": [
      "\n",
      "  0%|                                                                                                                                   | 0/200 [00:00<?, ?it/s]\u001b[A\n",
      " 12%|█████████████▉                                                                                                           | 23/200 [00:00<00:00, 186.10it/s]\u001b[A\n",
      " 12%|██████████████▉                                                                                                         | 124/1000 [00:13<01:44,  8.38it/s]"
     ]
    },
    {
     "name": "stdout",
     "output_type": "stream",
     "text": [
      "DONE\n",
      "DONE\n",
      "Actor_loss 1.30918729\n",
      "Critic_loss 1.00000488\n",
      "Rewards mean 1.00000000 Rewards std 0.00000000 Rewards sum 24.00000000\n"
     ]
    },
    {
     "name": "stderr",
     "output_type": "stream",
     "text": [
      "\n",
      "  6%|███████▎                                                                                                                 | 12/200 [00:00<00:01, 169.63it/s]\u001b[A\n",
      " 12%|██████████████▉                                                                                                         | 124/1000 [00:14<01:44,  8.38it/s]"
     ]
    },
    {
     "name": "stdout",
     "output_type": "stream",
     "text": [
      "DONE\n",
      "DONE\n",
      "Actor_loss 1.23892674\n",
      "Critic_loss 1.00000975\n",
      "Rewards mean 1.00000000 Rewards std 0.00000000 Rewards sum 13.00000000\n"
     ]
    },
    {
     "name": "stderr",
     "output_type": "stream",
     "text": [
      "\n",
      "  8%|█████████▋                                                                                                               | 16/200 [00:00<00:01, 180.56it/s]\u001b[A\n",
      " 13%|███████████████                                                                                                         | 126/1000 [00:14<01:32,  9.44it/s]"
     ]
    },
    {
     "name": "stdout",
     "output_type": "stream",
     "text": [
      "DONE\n",
      "DONE\n",
      "Actor_loss 1.50796907\n",
      "Critic_loss 0.99999961\n",
      "Rewards mean 1.00000000 Rewards std 0.00000000 Rewards sum 17.00000000\n"
     ]
    },
    {
     "name": "stderr",
     "output_type": "stream",
     "text": [
      "\n",
      "  8%|█████████                                                                                                                | 15/200 [00:00<00:01, 170.31it/s]\u001b[A\n",
      " 13%|███████████████                                                                                                         | 126/1000 [00:14<01:32,  9.44it/s]"
     ]
    },
    {
     "name": "stdout",
     "output_type": "stream",
     "text": [
      "DONE\n",
      "DONE\n",
      "Actor_loss 1.48980133\n",
      "Critic_loss 0.99999899\n",
      "Rewards mean 1.00000000 Rewards std 0.00000000 Rewards sum 16.00000000\n"
     ]
    },
    {
     "name": "stderr",
     "output_type": "stream",
     "text": [
      "\n",
      " 10%|███████████▍                                                                                                             | 19/200 [00:00<00:00, 196.54it/s]\u001b[A\n",
      "                                                                                                                                                                "
     ]
    },
    {
     "name": "stdout",
     "output_type": "stream",
     "text": [
      "DONE\n",
      "DONE\n"
     ]
    },
    {
     "name": "stderr",
     "output_type": "stream",
     "text": [
      " 13%|███████████████▎                                                                                                        | 128/1000 [00:14<01:29,  9.72it/s]"
     ]
    },
    {
     "name": "stdout",
     "output_type": "stream",
     "text": [
      "Actor_loss 1.36169597\n",
      "Critic_loss 1.00000360\n",
      "Rewards mean 1.00000000 Rewards std 0.00000000 Rewards sum 20.00000000\n"
     ]
    },
    {
     "name": "stderr",
     "output_type": "stream",
     "text": [
      "\n",
      "  0%|                                                                                                                                   | 0/200 [00:00<?, ?it/s]\u001b[A\n",
      " 11%|█████████████▎                                                                                                           | 22/200 [00:00<00:00, 191.04it/s]\u001b[A\n",
      " 13%|███████████████▍                                                                                                        | 129/1000 [00:14<01:32,  9.37it/s]"
     ]
    },
    {
     "name": "stdout",
     "output_type": "stream",
     "text": [
      "DONE\n",
      "DONE\n",
      "Actor_loss 1.38563824\n",
      "Critic_loss 1.00000195\n",
      "Rewards mean 1.00000000 Rewards std 0.00000000 Rewards sum 23.00000000\n"
     ]
    },
    {
     "name": "stderr",
     "output_type": "stream",
     "text": [
      "\n",
      "  0%|                                                                                                                                   | 0/200 [00:00<?, ?it/s]\u001b[A\n",
      " 12%|██████████████▌                                                                                                          | 24/200 [00:00<00:00, 191.03it/s]\u001b[A\n",
      " 13%|███████████████▌                                                                                                        | 130/1000 [00:14<01:37,  8.89it/s]"
     ]
    },
    {
     "name": "stdout",
     "output_type": "stream",
     "text": [
      "DONE\n",
      "DONE\n",
      "Actor_loss 1.41808252\n",
      "Critic_loss 1.00000138\n",
      "Rewards mean 1.00000000 Rewards std 0.00000000 Rewards sum 25.00000000\n"
     ]
    },
    {
     "name": "stderr",
     "output_type": "stream",
     "text": [
      "\n",
      "  8%|█████████                                                                                                                | 15/200 [00:00<00:01, 174.87it/s]\u001b[A\n",
      " 13%|███████████████▌                                                                                                        | 130/1000 [00:14<01:37,  8.89it/s]"
     ]
    },
    {
     "name": "stdout",
     "output_type": "stream",
     "text": [
      "DONE\n",
      "DONE\n",
      "Actor_loss 1.29902618\n",
      "Critic_loss 1.00000563\n",
      "Rewards mean 1.00000000 Rewards std 0.00000000 Rewards sum 16.00000000\n"
     ]
    },
    {
     "name": "stderr",
     "output_type": "stream",
     "text": [
      "\n",
      "  0%|                                                                                                                                   | 0/200 [00:00<?, ?it/s]\u001b[A\n",
      " 16%|██████████████████▊                                                                                                      | 31/200 [00:00<00:00, 188.32it/s]\u001b[A\n",
      " 13%|███████████████▊                                                                                                        | 132/1000 [00:14<01:44,  8.34it/s]"
     ]
    },
    {
     "name": "stdout",
     "output_type": "stream",
     "text": [
      "DONE\n",
      "DONE\n",
      "Actor_loss 1.33741138\n",
      "Critic_loss 1.00000269\n",
      "Rewards mean 1.00000000 Rewards std 0.00000000 Rewards sum 32.00000000\n"
     ]
    },
    {
     "name": "stderr",
     "output_type": "stream",
     "text": [
      "\n",
      "  8%|█████████                                                                                                                | 15/200 [00:00<00:01, 184.87it/s]\u001b[A\n",
      " 13%|███████████████▊                                                                                                        | 132/1000 [00:14<01:44,  8.34it/s]"
     ]
    },
    {
     "name": "stdout",
     "output_type": "stream",
     "text": [
      "DONE\n",
      "DONE\n",
      "Actor_loss 1.34664294\n",
      "Critic_loss 1.00000435\n",
      "Rewards mean 1.00000000 Rewards std 0.00000000 Rewards sum 16.00000000\n"
     ]
    },
    {
     "name": "stderr",
     "output_type": "stream",
     "text": [
      "\n",
      "  7%|████████▍                                                                                                                | 14/200 [00:00<00:00, 194.80it/s]\u001b[A\n",
      " 13%|████████████████                                                                                                        | 134/1000 [00:14<01:32,  9.40it/s]"
     ]
    },
    {
     "name": "stdout",
     "output_type": "stream",
     "text": [
      "DONE\n",
      "DONE\n",
      "Actor_loss 1.52002179\n",
      "Critic_loss 0.99999945\n",
      "Rewards mean 1.00000000 Rewards std 0.00000000 Rewards sum 15.00000000\n"
     ]
    },
    {
     "name": "stderr",
     "output_type": "stream",
     "text": [
      "\n",
      "  8%|█████████                                                                                                                | 15/200 [00:00<00:01, 180.17it/s]\u001b[A\n",
      " 13%|████████████████                                                                                                        | 134/1000 [00:15<01:32,  9.40it/s]"
     ]
    },
    {
     "name": "stdout",
     "output_type": "stream",
     "text": [
      "DONE\n",
      "DONE\n",
      "Actor_loss 1.29907412\n",
      "Critic_loss 1.00000683\n",
      "Rewards mean 1.00000000 Rewards std 0.00000000 Rewards sum 16.00000000\n"
     ]
    },
    {
     "name": "stderr",
     "output_type": "stream",
     "text": [
      "\n",
      "  0%|                                                                                                                                   | 0/200 [00:00<?, ?it/s]\u001b[A\n",
      "  9%|██████████▉                                                                                                              | 18/200 [00:00<00:01, 162.09it/s]\u001b[A\n",
      " 14%|████████████████▎                                                                                                       | 136/1000 [00:15<01:30,  9.52it/s]"
     ]
    },
    {
     "name": "stdout",
     "output_type": "stream",
     "text": [
      "DONE\n",
      "DONE\n",
      "Actor_loss 1.45757648\n",
      "Critic_loss 0.99999920\n",
      "Rewards mean 1.00000000 Rewards std 0.00000000 Rewards sum 19.00000000\n"
     ]
    },
    {
     "name": "stderr",
     "output_type": "stream",
     "text": [
      "\n",
      "  0%|                                                                                                                                   | 0/200 [00:00<?, ?it/s]\u001b[A\n",
      " 16%|██████████████████▊                                                                                                      | 31/200 [00:00<00:00, 199.87it/s]\u001b[A\n",
      " 14%|████████████████▍                                                                                                       | 137/1000 [00:15<01:40,  8.63it/s]"
     ]
    },
    {
     "name": "stdout",
     "output_type": "stream",
     "text": [
      "DONE\n",
      "DONE\n",
      "Actor_loss 1.36045787\n",
      "Critic_loss 1.00000242\n",
      "Rewards mean 1.00000000 Rewards std 0.00000000 Rewards sum 32.00000000\n"
     ]
    },
    {
     "name": "stderr",
     "output_type": "stream",
     "text": [
      "\n",
      "  0%|                                                                                                                                   | 0/200 [00:00<?, ?it/s]\u001b[A\n",
      " 10%|████████████                                                                                                             | 20/200 [00:00<00:00, 186.07it/s]\u001b[A\n",
      " 14%|████████████████▌                                                                                                       | 138/1000 [00:15<01:39,  8.66it/s]"
     ]
    },
    {
     "name": "stdout",
     "output_type": "stream",
     "text": [
      "DONE\n",
      "DONE\n",
      "Actor_loss 1.27532538\n",
      "Critic_loss 1.00000781\n",
      "Rewards mean 1.00000000 Rewards std 0.00000000 Rewards sum 21.00000000\n"
     ]
    },
    {
     "name": "stderr",
     "output_type": "stream",
     "text": [
      "\n",
      "  9%|██████████▉                                                                                                              | 18/200 [00:00<00:00, 196.44it/s]\u001b[A\n",
      " 14%|████████████████▌                                                                                                       | 138/1000 [00:15<01:39,  8.66it/s]"
     ]
    },
    {
     "name": "stdout",
     "output_type": "stream",
     "text": [
      "DONE\n",
      "DONE\n",
      "Actor_loss 1.49718404\n",
      "Critic_loss 0.99999946\n",
      "Rewards mean 1.00000000 Rewards std 0.00000000 Rewards sum 19.00000000\n"
     ]
    },
    {
     "name": "stderr",
     "output_type": "stream",
     "text": [
      "\n",
      "  5%|██████                                                                                                                   | 10/200 [00:00<00:01, 181.43it/s]\u001b[A\n",
      " 14%|████████████████▊                                                                                                       | 140/1000 [00:15<01:27,  9.86it/s]"
     ]
    },
    {
     "name": "stdout",
     "output_type": "stream",
     "text": [
      "DONE\n",
      "DONE\n",
      "Actor_loss 1.20407480\n",
      "Critic_loss 1.00001208\n",
      "Rewards mean 1.00000000 Rewards std 0.00000000 Rewards sum 11.00000000\n"
     ]
    },
    {
     "name": "stderr",
     "output_type": "stream",
     "text": [
      "\n",
      "  0%|                                                                                                                                   | 0/200 [00:00<?, ?it/s]\u001b[A\n",
      " 14%|████████████████▉                                                                                                        | 28/200 [00:00<00:00, 194.86it/s]\u001b[A\n",
      " 14%|████████████████▉                                                                                                       | 141/1000 [00:15<01:36,  8.94it/s]"
     ]
    },
    {
     "name": "stdout",
     "output_type": "stream",
     "text": [
      "DONE\n",
      "DONE\n",
      "Actor_loss 1.31607068\n",
      "Critic_loss 1.00000430\n",
      "Rewards mean 1.00000000 Rewards std 0.00000000 Rewards sum 29.00000000\n"
     ]
    },
    {
     "name": "stderr",
     "output_type": "stream",
     "text": [
      "\n",
      "  4%|█████▍                                                                                                                    | 9/200 [00:00<00:01, 174.49it/s]\u001b[A\n",
      " 14%|████████████████▉                                                                                                       | 141/1000 [00:15<01:36,  8.94it/s]"
     ]
    },
    {
     "name": "stdout",
     "output_type": "stream",
     "text": [
      "DONE\n",
      "DONE\n",
      "Actor_loss 1.21970843\n",
      "Critic_loss 1.00001074\n",
      "Rewards mean 1.00000000 Rewards std 0.00000000 Rewards sum 10.00000000\n"
     ]
    },
    {
     "name": "stderr",
     "output_type": "stream",
     "text": [
      "\n",
      "  6%|███████▎                                                                                                                 | 12/200 [00:00<00:01, 178.66it/s]\u001b[A\n",
      " 14%|█████████████████▏                                                                                                      | 143/1000 [00:15<01:20, 10.64it/s]"
     ]
    },
    {
     "name": "stdout",
     "output_type": "stream",
     "text": [
      "DONE\n",
      "DONE\n",
      "Actor_loss 1.23937664\n",
      "Critic_loss 1.00000937\n",
      "Rewards mean 1.00000000 Rewards std 0.00000000 Rewards sum 13.00000000\n"
     ]
    },
    {
     "name": "stderr",
     "output_type": "stream",
     "text": [
      "\n",
      "  6%|███████▎                                                                                                                 | 12/200 [00:00<00:00, 196.58it/s]\u001b[A"
     ]
    },
    {
     "name": "stdout",
     "output_type": "stream",
     "text": [
      "DONE\n",
      "DONE\n"
     ]
    },
    {
     "name": "stderr",
     "output_type": "stream",
     "text": [
      "\n",
      " 14%|█████████████████▏                                                                                                      | 143/1000 [00:15<01:20, 10.64it/s]"
     ]
    },
    {
     "name": "stdout",
     "output_type": "stream",
     "text": [
      "Actor_loss 1.29893700\n",
      "Critic_loss 1.00000658\n",
      "Rewards mean 1.00000000 Rewards std 0.00000000 Rewards sum 13.00000000\n"
     ]
    },
    {
     "name": "stderr",
     "output_type": "stream",
     "text": [
      "\n",
      "  6%|███████▎                                                                                                                 | 12/200 [00:00<00:00, 191.52it/s]\u001b[A\n",
      " 14%|█████████████████▍                                                                                                      | 145/1000 [00:16<01:12, 11.80it/s]"
     ]
    },
    {
     "name": "stdout",
     "output_type": "stream",
     "text": [
      "DONE\n",
      "DONE\n",
      "Actor_loss 1.23917100\n",
      "Critic_loss 1.00000961\n",
      "Rewards mean 1.00000000 Rewards std 0.00000000 Rewards sum 13.00000000\n"
     ]
    },
    {
     "name": "stderr",
     "output_type": "stream",
     "text": [
      "\n"
     ]
    }
   ],
   "source": [
    "Train.Train(1000,1000,(0.5),static=True,modified_reward=False)"
   ]
  },
  {
   "cell_type": "code",
   "execution_count": null,
   "metadata": {},
   "outputs": [],
   "source": [
    "import matplotlib.pyplot as plt\n",
    "list(Train.episodes_rewards.keys())\n",
    "rewards=np.array(list(map(lambda k:np.sum(np.array(Train.episodes_rewards[k])),list(Train.episodes_rewards.keys()))))\n",
    "plt.figure(figsize=(25,5))\n",
    "plt.plot(rewards[:])\n",
    "\n",
    "\n",
    "Train.episodes_losses.keys()\n",
    "Ac_L=list(\n",
    "    map(\n",
    "        lambda k: list(map(lambda s:Train.episodes_losses[k][s][\"Actor_loss\"],\n",
    "                                 list(Train.episodes_losses[k].keys()))),\n",
    "              list(\n",
    "                  Train.episodes_losses.keys()\n",
    "              )[:]\n",
    "              )\n",
    "    )\n",
    "Ac_L=np.array(Ac_L,dtype=list)\n",
    "\n",
    "Ac_L_t=np.concatenate(Ac_L)\n",
    "Ac_L_m=np.array(list(map(lambda l: np.mean(np.array(l)),Ac_L.tolist())))\n",
    "Ac_L_s=np.array(list(map(lambda l: np.std(np.array(l)),Ac_L.tolist())))\n",
    "\n",
    "#plt.figure(figsize=(25,5))\n",
    "#plt.plot(Ac_L_t)\n",
    "#plt.show()\n",
    "plt.figure(figsize=(25,5))\n",
    "plt.plot(np.arange(Ac_L_m.shape[0]),Ac_L_m)\n",
    "plt.fill_between(np.arange(Ac_L_m.shape[0]),Ac_L_m-Ac_L_s, Ac_L_m+Ac_L_s, facecolor='blue', alpha=0.5)\n",
    "plt.show()\n",
    "\n",
    "Train.episodes_losses.keys()\n",
    "Cr_L=list(\n",
    "    map(\n",
    "        lambda k: list(map(lambda s:Train.episodes_losses[k][s][\"Critic_loss\"],\n",
    "                                 list(Train.episodes_losses[k].keys()))),\n",
    "              list(\n",
    "                  Train.episodes_losses.keys()\n",
    "              )[:]\n",
    "              )\n",
    "    )\n",
    "Cr_L=np.array(Cr_L,dtype=list)\n",
    "\n",
    "Cr_L_t=np.concatenate(Cr_L)\n",
    "Cr_L_m=np.array(list(map(lambda l: np.mean(np.array(l)),Cr_L.tolist())))\n",
    "Cr_L_s=np.array(list(map(lambda l: np.std(np.array(l)),Cr_L.tolist())))\n",
    "\n",
    "#plt.figure(figsize=(25,5))\n",
    "#plt.plot(Cr_L_t)\n",
    "#plt.show()\n",
    "plt.figure(figsize=(25,5))\n",
    "plt.plot(np.arange(Cr_L_m.shape[0]),Cr_L_m)\n",
    "plt.fill_between(np.arange(Cr_L_m.shape[0]),Cr_L_m-Cr_L_s, Cr_L_m+Cr_L_s, facecolor='blue', alpha=0.5)\n",
    "plt.show()\n",
    "\n",
    "\n",
    "logit=Ac_L_t/Cr_L_t\n",
    "\n",
    "\n",
    "logit_m=Ac_L_m/Cr_L_m\n",
    "\n",
    "\n",
    "#plt.figure(figsize=(25,5))\n",
    "#plt.plot(logit_t)\n",
    "#plt.show()\n",
    "plt.figure(figsize=(25,5))\n",
    "plt.plot(np.arange(logit_m.shape[0]),logit_m)\n",
    "plt.show()"
   ]
  },
  {
   "cell_type": "code",
   "execution_count": null,
   "metadata": {},
   "outputs": [],
   "source": [
    "Actor=Neural_Net_module(\n",
    "    state_size=4,\n",
    "    action_size=2,\n",
    "    #layer_sizes=[8,16,16,32,32,16,8,4],\n",
    "    #activators=[nn.GELU(),nn.GELU(),nn.GELU(),nn.GELU(),nn.GELU(),nn.GELU(),nn.GELU(),nn.GELU(),nn.Softmax(dim=-1)],\n",
    "    layer_sizes=[32,128,2],\n",
    "    activators=[nn.GELU(),nn.GELU(),nn.GELU(),nn.Softmax(dim=-1)],\n",
    "    )\n",
    "Critic=Neural_Net_module(\n",
    "    state_size=4,\n",
    "    action_size=1,\n",
    "    #layer_sizes=[8,16,16,32,32,16,8,4],\n",
    "    layer_sizes=[32,128,32],\n",
    "    #activators=[nn.GELU(),nn.GELU(),nn.GELU(),nn.GELU(),nn.GELU(),nn.GELU(),nn.GELU(),nn.GELU(),nn.Identity()],\n",
    "    activators=[nn.GELU(),nn.GELU(),nn.GELU(),nn.Identity()],\n",
    "    )\n",
    "\n",
    "\n",
    "Model = Neural_Net_Actor_Critic(\n",
    "    Actor_model=Actor,\n",
    "    Critic_model=Critic,\n",
    "    gamma=0.5,\n",
    "    norm=lambda x:0.5*(x.pow(2))\n",
    "    #norm=lambda x:torch.abs(x)\n",
    "    )\n",
    "\n",
    "env=gym.make(\"CartPole-v1\")\n",
    "\n",
    "\n",
    "Train=Episodic_learning(\n",
    "    model=Model,\n",
    "    free_input=0,\n",
    "    env=env,\n",
    "    Actor_optimizer_params={\n",
    "        \"lr\":1e-5,\n",
    "        \"betas\":(0.0, 0.9),\n",
    "        \"eps\":1e-08,\n",
    "        \"weight_decay\":0.99\n",
    "        },\n",
    "    Critic_optimizer_params={\"lr\":1e-7},\n",
    "    phi=1e-1,  #self.phi*Cri_loss+(1-self.phi)*Act_loss\n",
    "    res_dir=\"../Results/Debug\",\n",
    "    max_steps=200,\n",
    "    multi_opt=False,\n",
    "    cuda=False,\n",
    "    #sch_f=lambda x:(0.5-2e-8)*np.cos(2*np.pi*x)+(0.5)\n",
    "    #sch_f=lambda x: (1-1e-10) if x<0.5 else 1e-10\n",
    "    sch_f=lambda x: (1) if x<0.5 else 0\n",
    ")"
   ]
  },
  {
   "cell_type": "code",
   "execution_count": null,
   "metadata": {
    "scrolled": true
   },
   "outputs": [],
   "source": [
    "#Train.Train(200,500,1e-9,static=False)\n",
    "Train.Train(500,200,(1e-5),static=True,modified_reward=True)"
   ]
  },
  {
   "cell_type": "code",
   "execution_count": 24,
   "metadata": {},
   "outputs": [],
   "source": [
    "import matplotlib.pyplot as plt\n",
    "list(Train.episodes_rewards.keys())\n",
    "rewards=np.array(list(map(lambda k:np.sum(np.array(Train.episodes_rewards[k])),list(Train.episodes_rewards.keys()))))\n",
    "plt.figure(figsize=(25,5))\n",
    "plt.plot(rewards[:])\n",
    "\n",
    "\n",
    "Train.episodes_losses.keys()\n",
    "Ac_L=list(\n",
    "    map(\n",
    "        lambda k: list(map(lambda s:Train.episodes_losses[k][s][\"Actor_loss\"],\n",
    "                                 list(Train.episodes_losses[k].keys()))),\n",
    "              list(\n",
    "                  Train.episodes_losses.keys()\n",
    "              )[:]\n",
    "              )\n",
    "    )\n",
    "Ac_L=np.array(Ac_L,dtype=list)\n",
    "\n",
    "Ac_L_t=np.concatenate(Ac_L)\n",
    "Ac_L_m=np.array(list(map(lambda l: np.mean(np.array(l)),Ac_L.tolist())))\n",
    "Ac_L_s=np.array(list(map(lambda l: np.std(np.array(l)),Ac_L.tolist())))\n",
    "Ac_L_min=np.array(list(map(lambda l: np.min(np.array(l)),Ac_L.tolist())))\n",
    "Ac_L_max=np.array(list(map(lambda l: np.max(np.array(l)),Ac_L.tolist())))\n",
    "\n",
    "#plt.figure(figsize=(25,5))\n",
    "#plt.plot(Ac_L_t)\n",
    "#plt.show()\n",
    "plt.figure(figsize=(25,5))\n",
    "plt.plot(np.arange(Ac_L_m.shape[0]),Ac_L_m)\n",
    "plt.fill_between(np.arange(Ac_L_m.shape[0]),Ac_L_m-Ac_L_s, Ac_L_m+Ac_L_s, facecolor='blue', alpha=0.3)\n",
    "plt.fill_between(np.arange(Ac_L_m.shape[0]),Ac_L_min, Ac_L_max, facecolor='blue', alpha=0.5)\n",
    "plt.show()\n",
    "\n",
    "Train.episodes_losses.keys()\n",
    "Cr_L=list(\n",
    "    map(\n",
    "        lambda k: list(map(lambda s:Train.episodes_losses[k][s][\"Critic_loss\"],\n",
    "                                 list(Train.episodes_losses[k].keys()))),\n",
    "              list(\n",
    "                  Train.episodes_losses.keys()\n",
    "              )[:]\n",
    "              )\n",
    "    )\n",
    "Cr_L=np.array(Cr_L,dtype=list)\n",
    "\n",
    "Cr_L_t=np.concatenate(Cr_L)\n",
    "Cr_L_m=np.array(list(map(lambda l: np.mean(np.array(l)),Cr_L.tolist())))\n",
    "Cr_L_s=np.array(list(map(lambda l: np.std(np.array(l)),Cr_L.tolist())))\n",
    "Cr_L_min=np.array(list(map(lambda l: np.min(np.array(l)),Cr_L.tolist())))\n",
    "Cr_L_max=np.array(list(map(lambda l: np.max(np.array(l)),Cr_L.tolist())))\n",
    "\n",
    "#plt.figure(figsize=(25,5))\n",
    "#plt.plot(Cr_L_t)\n",
    "#plt.show()\n",
    "plt.figure(figsize=(25,5))\n",
    "plt.plot(np.arange(Cr_L_m.shape[0]),Cr_L_m)\n",
    "plt.fill_between(np.arange(Cr_L_m.shape[0]),Cr_L_m-Cr_L_s, Cr_L_m+Cr_L_s, facecolor='blue', alpha=0.1)\n",
    "plt.fill_between(np.arange(Cr_L_m.shape[0]),Cr_L_min, Cr_L_max, facecolor='blue', alpha=0.5)\n",
    "plt.show()\n",
    "\n",
    "\n",
    "logit=Ac_L_t/Cr_L_t\n",
    "\n",
    "\n",
    "logit_m=Ac_L_m/Cr_L_m\n",
    "\n",
    "\n",
    "#plt.figure(figsize=(25,5))\n",
    "#plt.plot(logit_t)\n",
    "#plt.show()\n",
    "plt.figure(figsize=(25,5))\n",
    "plt.plot(np.arange(logit_m.shape[0]),logit_m)\n",
    "plt.show()"
   ]
  },
  {
   "cell_type": "code",
   "execution_count": 25,
   "metadata": {},
   "outputs": [],
   "source": [
    "2+2"
   ]
  }
 ],
 "metadata": {
  "kernelspec": {
   "display_name": "RLENV",
   "language": "python",
   "name": "rlenv"
  },
  "language_info": {
   "codemirror_mode": {
    "name": "ipython",
    "version": 3
   },
   "file_extension": ".py",
   "mimetype": "text/x-python",
   "name": "python",
   "nbconvert_exporter": "python",
   "pygments_lexer": "ipython3",
   "version": "3.8.10"
  }
 },
 "nbformat": 4,
 "nbformat_minor": 2
}
